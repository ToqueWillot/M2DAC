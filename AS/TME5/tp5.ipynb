{
 "cells": [
  {
   "cell_type": "code",
   "execution_count": 13,
   "metadata": {
    "collapsed": false
   },
   "outputs": [],
   "source": [
    "require 'nn'\n",
    "require 'nngraph'\n",
    "require 'graph'"
   ]
  },
  {
   "cell_type": "code",
   "execution_count": null,
   "metadata": {
    "collapsed": true
   },
   "outputs": [],
   "source": []
  },
  {
   "cell_type": "code",
   "execution_count": null,
   "metadata": {
    "collapsed": true
   },
   "outputs": [],
   "source": []
  },
  {
   "cell_type": "code",
   "execution_count": null,
   "metadata": {
    "collapsed": true
   },
   "outputs": [],
   "source": []
  },
  {
   "cell_type": "code",
   "execution_count": 7,
   "metadata": {
    "collapsed": false
   },
   "outputs": [],
   "source": [
    "x=torch.randn(5)\n",
    "y=torch.randn(5)\n",
    "m=nn.CAddTable()\n",
    "m:forward({x,y})"
   ]
  },
  {
   "cell_type": "code",
   "execution_count": 8,
   "metadata": {
    "collapsed": false
   },
   "outputs": [
    {
     "data": {
      "text/plain": [
       " 0.1607\n",
       "-1.1754\n",
       " 0.2571\n",
       "-0.4275\n",
       " 0.8752\n",
       "[torch.DoubleTensor of size 5]\n",
       "\n"
      ]
     },
     "execution_count": 8,
     "metadata": {},
     "output_type": "execute_result"
    }
   ],
   "source": [
    "y"
   ]
  },
  {
   "cell_type": "code",
   "execution_count": 15,
   "metadata": {
    "collapsed": false
   },
   "outputs": [
    {
     "ename": "/Users/meat/torch/install/share/lua/5.1/graph/graphviz.lua:154: graphviz layout failed\nstack traceback:\n\t[C]: in function 'assert'\n\t/Users/meat/torch/install/share/lua/5.1/graph/graphviz.lua:154: in function 'graphvizFile'\n\t/Users/meat/torch/install/share/lua/5.1/graph/graphviz.lua:181: in function 'dot'\n\t[string \"h1 = nn.Linear(20, 20)()...\"]:15: in main chunk\n\t[C]: in function 'xpcall'\n\t/Users/meat/torch/install/share/lua/5.1/itorch/main.lua:179: in function </Users/meat/torch/install/share/lua/5.1/itorch/main.lua:143>\n\t/Users/meat/torch/install/share/lua/5.1/lzmq/poller.lua:75: in function 'poll'\n\t/Users/meat/torch/install/share/lua/5.1/lzmq/impl/loop.lua:307: in function 'poll'\n\t/Users/meat/torch/install/share/lua/5.1/lzmq/impl/loop.lua:325: in function 'sleep_ex'\n\t/Users/meat/torch/install/share/lua/5.1/lzmq/impl/loop.lua:370: in function 'start'\n\t/Users/meat/torch/install/share/lua/5.1/itorch/main.lua:350: in main chunk\n\t[C]: in function 'require'\n\t[string \"arg={'/Users/meat/Library/Jupyter/runtime/ker...\"]:1: in main chunk",
     "evalue": "",
     "output_type": "error",
     "traceback": [
      "/Users/meat/torch/install/share/lua/5.1/graph/graphviz.lua:154: graphviz layout failed\nstack traceback:\n\t[C]: in function 'assert'\n\t/Users/meat/torch/install/share/lua/5.1/graph/graphviz.lua:154: in function 'graphvizFile'\n\t/Users/meat/torch/install/share/lua/5.1/graph/graphviz.lua:181: in function 'dot'\n\t[string \"h1 = nn.Linear(20, 20)()...\"]:15: in main chunk\n\t[C]: in function 'xpcall'\n\t/Users/meat/torch/install/share/lua/5.1/itorch/main.lua:179: in function </Users/meat/torch/install/share/lua/5.1/itorch/main.lua:143>\n\t/Users/meat/torch/install/share/lua/5.1/lzmq/poller.lua:75: in function 'poll'\n\t/Users/meat/torch/install/share/lua/5.1/lzmq/impl/loop.lua:307: in function 'poll'\n\t/Users/meat/torch/install/share/lua/5.1/lzmq/impl/loop.lua:325: in function 'sleep_ex'\n\t/Users/meat/torch/install/share/lua/5.1/lzmq/impl/loop.lua:370: in function 'start'\n\t/Users/meat/torch/install/share/lua/5.1/itorch/main.lua:350: in main chunk\n\t[C]: in function 'require'\n\t[string \"arg={'/Users/meat/Library/Jupyter/runtime/ker...\"]:1: in main chunk"
     ]
    }
   ],
   "source": [
    "h1 = nn.Linear(20, 20)()\n",
    "h2 = nn.Linear(10, 10)()\n",
    "hh1 = nn.Linear(20, 1)(nn.Tanh()(h1))\n",
    "hh2 = nn.Linear(10, 1)(nn.Tanh()(h2))\n",
    "madd = nn.CAddTable()({hh1, hh2})\n",
    "oA = nn.Sigmoid()(madd)\n",
    "oB = nn.Tanh()(madd)\n",
    "gmod = nn.gModule({h1, h2}, {oA, oB})\n",
    "\n",
    "x1 = torch.rand(20)\n",
    "x2 = torch.rand(10)\n",
    "\n",
    "gmod:updateOutput({x1, x2})\n",
    "gmod:updateGradInput({x1, x2}, {torch.rand(1), torch.rand(1)})\n",
    "graph.dot(gmod.fg, 'Big MLP')"
   ]
  },
  {
   "cell_type": "code",
   "execution_count": 16,
   "metadata": {
    "collapsed": true
   },
   "outputs": [],
   "source": [
    "mse = nn.MSECriterion()"
   ]
  },
  {
   "cell_type": "code",
   "execution_count": null,
   "metadata": {
    "collapsed": true
   },
   "outputs": [],
   "source": [
    "-- Apprentissage par descente de gradient\n",
    "function fit(mlp, criterion, data, labels, lr, nIter)\n",
    "   local lr = lr or 1e-4\n",
    "   local nIter = nIter or 1200\n",
    "  --  local choices = torch.LongTensor((#data)[1])\n",
    "\n",
    "   for i = 1,nIter do\n",
    "      mlp:zeroGradParameters()\n",
    "      --on shufflise les datas\n",
    "      -- choices:random((#data)[1])\n",
    "      -- local x = data:index(1,choices)\n",
    "      -- local y = labels:index(1,choices)\n",
    "      indiceRand=math.random((#data)[1])\n",
    "      local x = data[indiceRand]\n",
    "      local y = labels[indiceRand]\n",
    "\n",
    "      --calcul du y chapeau (prediction)\n",
    "      local pred = mlp:forward(x)\n",
    "      --calcul de l'erreur entre pred et y*\n",
    "      local loss = criterion:forward(pred,y)\n",
    "      --gradient de l'erreur par rapport à pred\n",
    "      local df_do = criterion:backward(pred,y)\n",
    "      --propagation du gradient de l'erreur sur  la fonction\n",
    "      -- linear d'entrée\n",
    "      local df_di = mlp:backward(x, df_do)\n",
    "      -- on modifie les poids suivant le learning rate sur lensemble des couches\n",
    "      mlp:updateParameters(lr)\n",
    "      if i % 1000 == 0 then\n",
    "        print(i,loss)\n",
    "      end\n",
    "   end\n",
    "end"
   ]
  },
  {
   "cell_type": "code",
   "execution_count": null,
   "metadata": {
    "collapsed": true
   },
   "outputs": [],
   "source": [
    "-- Apprentissage par descente de gradient\n",
    "function fit(mlp, criterion, data, labels, lr, nIter)\n",
    "   local lr = lr or 1e-4\n",
    "   local nIter = nIter or 1000\n",
    "  --  local choices = torch.LongTensor((#data)[1])\n",
    "\n",
    "   for i = 1,nIter do\n",
    "      mlp:zeroGradParameters()\n",
    "      --on shufflise les datas\n",
    "      -- choices:random((#data)[1])\n",
    "      -- local x = data:index(1,choices)\n",
    "      -- local y = labels:index(1,choices)\n",
    "      indiceRand=math.random((#data)[1])\n",
    "      local x = data[indiceRand]\n",
    "      local y = labels[indiceRand]\n",
    "\n",
    "      --calcul du y chapeau (prediction)\n",
    "      local pred = mlp:forward(x)\n",
    "      --calcul de l'erreur entre pred et y*\n",
    "      local loss = criterion:forward(pred,y)\n",
    "      --gradient de l'erreur par rapport à pred\n",
    "      local df_do = criterion:backward(pred,y)\n",
    "      --propagation du gradient de l'erreur sur  la fonction\n",
    "      -- linear d'entrée\n",
    "      local df_di = mlp:backward(x, df_do)\n",
    "      -- on modifie les poids suivant le learning rate sur lensemble des couches\n",
    "      mlp:updateParameters(lr)\n",
    "      if i % 1000 == 0 then\n",
    "        print(i,loss)\n",
    "      end\n",
    "   end\n",
    "end"
   ]
  },
  {
   "cell_type": "code",
   "execution_count": null,
   "metadata": {
    "collapsed": true
   },
   "outputs": [],
   "source": []
  },
  {
   "cell_type": "code",
   "execution_count": null,
   "metadata": {
    "collapsed": true
   },
   "outputs": [],
   "source": []
  },
  {
   "cell_type": "code",
   "execution_count": null,
   "metadata": {
    "collapsed": true
   },
   "outputs": [],
   "source": []
  },
  {
   "cell_type": "code",
   "execution_count": null,
   "metadata": {
    "collapsed": true
   },
   "outputs": [],
   "source": []
  },
  {
   "cell_type": "code",
   "execution_count": null,
   "metadata": {
    "collapsed": true
   },
   "outputs": [],
   "source": []
  }
 ],
 "metadata": {
  "kernelspec": {
   "display_name": "iTorch",
   "language": "lua",
   "name": "itorch"
  },
  "language_info": {
   "name": "lua",
   "version": "20100"
  }
 },
 "nbformat": 4,
 "nbformat_minor": 0
}
