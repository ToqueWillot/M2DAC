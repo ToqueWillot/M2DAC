{
 "cells": [
  {
   "cell_type": "markdown",
   "metadata": {},
   "source": [
    "# Modèle de diffusion : INDEPENDENT CASCADES"
   ]
  },
  {
   "cell_type": "code",
   "execution_count": 1,
   "metadata": {
    "collapsed": true
   },
   "outputs": [],
   "source": [
    "#IMPORT\n",
    "import numpy as np\n",
    "import copy"
   ]
  },
  {
   "cell_type": "markdown",
   "metadata": {},
   "source": [
    "### Lecture des donnees"
   ]
  },
  {
   "cell_type": "code",
   "execution_count": 2,
   "metadata": {
    "collapsed": false
   },
   "outputs": [],
   "source": [
    "file_train = open(\"cascades_train.txt\")\n",
    "file_test = open(\"cascades_test.txt\")\n",
    "\n",
    "\n",
    "data_train=[]\n",
    "for i in file_train.readlines():\n",
    "    tab = [[float(j.split(\":\")[0]),float(j.split(\":\")[1])] for j in i.split(\";\")[:-1]]\n",
    "    tab.sort(key=lambda x: x[1])\n",
    "    data_train.append(tab)\n",
    "\n",
    "    \n",
    "data_test=[]\n",
    "for i in file_test.readlines():\n",
    "    tab = [[float(j.split(\":\")[0]),float(j.split(\":\")[1])] for j in i.split(\";\")[:-1]]\n",
    "    tab.sort(key=lambda x: x[1])\n",
    "    data_test.append(tab)"
   ]
  },
  {
   "cell_type": "markdown",
   "metadata": {},
   "source": [
    "### Creation des liste de successeurs"
   ]
  },
  {
   "cell_type": "code",
   "execution_count": 3,
   "metadata": {
    "collapsed": false
   },
   "outputs": [],
   "source": [
    "def getSuccsOfTab(tab):\n",
    "    succ=[]\n",
    "    for i in tab:\n",
    "        succ_i=[]\n",
    "        for j in tab:\n",
    "            if(i[1]<j[1]):\n",
    "                succ_i.append(j[0])\n",
    "        succ.append([i[0],succ_i])\n",
    "    return succ\n",
    "\n",
    "def unique(liste):\n",
    "    seen=set()\n",
    "    seen_add =seen.add\n",
    "    return [x for x in liste if not(x in seen or seen_add(x))]"
   ]
  },
  {
   "cell_type": "code",
   "execution_count": 4,
   "metadata": {
    "collapsed": false
   },
   "outputs": [],
   "source": [
    "succs_train = []\n",
    "for line in data_train:\n",
    "    succs_train.append(getSuccsOfTab(line))\n",
    "\n",
    "succs_test = []\n",
    "for line in data_test:\n",
    "    succs_test.append(getSuccsOfTab(line))"
   ]
  },
  {
   "cell_type": "markdown",
   "metadata": {},
   "source": [
    "## Création des graphes"
   ]
  },
  {
   "cell_type": "code",
   "execution_count": 6,
   "metadata": {
    "collapsed": false
   },
   "outputs": [],
   "source": [
    "#optimisation au niveau du temps possible\n",
    "def getGraph(succs):\n",
    "    graph={}\n",
    "    for h in succs:\n",
    "        for i in h:\n",
    "            try:\n",
    "                for j in i[1]:\n",
    "                    graph[i[0]].append(j)\n",
    "                graph[i[0]]=unique(graph[i[0]])\n",
    "                graph[i[0]].sort()\n",
    "            except KeyError:\n",
    "                graph[i[0]]=i[1]\n",
    "    return graph"
   ]
  },
  {
   "cell_type": "code",
   "execution_count": 7,
   "metadata": {
    "collapsed": true
   },
   "outputs": [],
   "source": [
    "graph_train = getGraph(succs_train)\n",
    "graph_test = getGraph(succs_test)"
   ]
  },
  {
   "cell_type": "markdown",
   "metadata": {},
   "source": [
    "## Apprentissage"
   ]
  },
  {
   "cell_type": "markdown",
   "metadata": {},
   "source": [
    "#### Fonction pour avoir la probabilité, P chapeau"
   ]
  },
  {
   "cell_type": "code",
   "execution_count": 8,
   "metadata": {
    "collapsed": false
   },
   "outputs": [],
   "source": [
    "#liste correspond a un D\n",
    "def getListPrec(liste):\n",
    "    prec=[]\n",
    "    for i in liste:\n",
    "        if (i[1]>1):\n",
    "            p=[]\n",
    "            for j in liste:\n",
    "                if (i[1]>j[1]):\n",
    "                    p.append(j[0])\n",
    "            prec.append((i[0],p))\n",
    "    return prec"
   ]
  },
  {
   "cell_type": "code",
   "execution_count": 9,
   "metadata": {
    "collapsed": false
   },
   "outputs": [],
   "source": [
    "#listePrec obtenue avec getListPrec dun D\n",
    "def getProbaOfList(listePrec,graph_weight_d):\n",
    "    a={}\n",
    "    for i in listePrec:\n",
    "        prod=1\n",
    "        for pre in i[1]:\n",
    "            prod= prod *(1 - graph_weight_d[pre][i[0]])\n",
    "        a[i[0]]=1-prod\n",
    "    return a"
   ]
  },
  {
   "cell_type": "code",
   "execution_count": 10,
   "metadata": {
    "collapsed": true
   },
   "outputs": [],
   "source": [
    "#fonction permettant de savoir si il existe une infection de l'element u sur v, lors d'un episode D\n",
    "#si oui retourne les indices\n",
    "def existLinkUV(d,u,v):\n",
    "    listeSucc = getSuccsOfTab(d)\n",
    "    listeU = [i[0] for i in listeSucc]\n",
    "    if u in listeU:\n",
    "        indiceU = np.where(np.array(listeU)==u)[0][0]\n",
    "        listeV = listeSucc[indiceU][1]\n",
    "        if v in listeV:\n",
    "            return True\n",
    "    return False"
   ]
  },
  {
   "cell_type": "code",
   "execution_count": 12,
   "metadata": {
    "collapsed": false
   },
   "outputs": [
    {
     "name": "stdout",
     "output_type": "stream",
     "text": [
      "True\n"
     ]
    }
   ],
   "source": [
    "uv = existLinkUV(getSuccsOfTab(data_train[0]),56,42)\n",
    "print(uv)"
   ]
  },
  {
   "cell_type": "markdown",
   "metadata": {},
   "source": [
    "### Poids du graphe assignés en random"
   ]
  },
  {
   "cell_type": "code",
   "execution_count": 13,
   "metadata": {
    "collapsed": false
   },
   "outputs": [],
   "source": [
    "#creation des poids du graph dico\n",
    "def getGraphWeightRandom(graph):\n",
    "    graph_weight_d={}\n",
    "    for i in graph:\n",
    "        dico={}\n",
    "        for e in graph[i]:\n",
    "            rando=np.random.rand()\n",
    "            dico[e]=rando\n",
    "        graph_weight_d[i]=dico\n",
    "    return graph_weight_d"
   ]
  },
  {
   "cell_type": "code",
   "execution_count": 14,
   "metadata": {
    "collapsed": true
   },
   "outputs": [],
   "source": [
    "gInit_train = getGraphWeightRandom(graph_train)"
   ]
  },
  {
   "cell_type": "markdown",
   "metadata": {},
   "source": [
    "#### Fonction d'apprentissage"
   ]
  },
  {
   "cell_type": "code",
   "execution_count": 34,
   "metadata": {
    "collapsed": false
   },
   "outputs": [],
   "source": [
    "def fitModele(data_train,nbIt=1,eps=1e-1):\n",
    "    succs_train = []\n",
    "    for line in data_train:\n",
    "        succs_train.append(getSuccsOfTab(line))\n",
    "    graph_train = getGraph(succs_train)   \n",
    "        \n",
    "    #init    \n",
    "    graph_cur = getGraphWeightRandom(graph_train)\n",
    "    \n",
    "    #it=0\n",
    "    #ep=100000\n",
    "    #while((it<nbIt) & (ep>eps)):\n",
    "        #probas_chapiteau=[getProbaOfList(getListPrec(d),graph_cur) for d in data_train]\n",
    "        \n",
    "    # met a jour les poids\n",
    "\n",
    "    for m,u in enumerate(graph_cur):\n",
    "        if((m % 10)==0):\n",
    "            print(u)\n",
    "        for v in graph_cur[u]:\n",
    "            #new_graph=copy.deepcopy(graph_cur)\n",
    "            s=0\n",
    "            nbUV=0\n",
    "            nbnotUV=0\n",
    "            for idx,d in enumerate(data_train[:3]):\n",
    "                probas_chapiteau = getProbaOfList(getListPrec(d),graph_cur)\n",
    "                if(existLinkUV(d,u,v)):\n",
    "                    nbUV+=1\n",
    "                    s+=graph_cur[u][v]*1.0/probas_chapiteau[v]\n",
    "                else:\n",
    "                    nbnotUV+=1\n",
    "            graph_cur[u][v]= s*1.0/(nbUV+nbnotUV)\n",
    "                \n",
    "        #diff=0\n",
    "        #for u in graph_cur:\n",
    "        #    for v in graph_cur[u]:\n",
    "        #        diff+=abs(new_graph[u][v]-graph_cur[u][v])\n",
    "        #print (\"difference :   \"+ str(diff))\n",
    "        #graph_cur=copy.deepcopy(new_graph)\n",
    "        #it+=1\n",
    "    return graph_cur"
   ]
  },
  {
   "cell_type": "code",
   "execution_count": 35,
   "metadata": {
    "collapsed": false
   },
   "outputs": [
    {
     "name": "stdout",
     "output_type": "stream",
     "text": [
      "0.0\n",
      "10.0\n",
      "20.0\n",
      "30.0\n",
      "40.0\n",
      "50.0\n",
      "60.0\n",
      "70.0\n",
      "80.0\n",
      "90.0\n"
     ]
    }
   ],
   "source": [
    "pc = fitModele(data_train)\n"
   ]
  },
  {
   "cell_type": "code",
   "execution_count": 36,
   "metadata": {
    "collapsed": false
   },
   "outputs": [
    {
     "name": "stdout",
     "output_type": "stream",
     "text": [
      "[90.0, 5.0, 48.0, 75.0, 2.0, 54.0, 8.0, 98.0, 89.0, 47.0, 43.0, 19.0, 65.0, 79.0, 4.0, 71.0, 12.0, 20.0, 58.0, 99.0, 9.0, 61.0, 34.0, 11.0, 3.0, 46.0, 7.0, 50.0, 25.0, 67.0, 62.0, 70.0, 68.0, 55.0, 57.0, 96.0, 40.0, 17.0, 94.0, 30.0, 52.0, 29.0, 16.0, 86.0, 82.0, 73.0, 72.0]\n"
     ]
    }
   ],
   "source": [
    "def inference(listeT1, graph):\n",
    "    listeUP=[]\n",
    "    listeU=[]\n",
    "    listeTmp=[]\n",
    "    \n",
    "    for u in listeT1:\n",
    "        for v in graph[u]:\n",
    "            if (np.random.rand()<graph[u][v]):\n",
    "                if(v not in listeU):\n",
    "                    listeU.append(v)\n",
    "                    listeUP.append((v,graph[u][v]))\n",
    "                    listeTmp.append(v)\n",
    "                    \n",
    "    t=1\n",
    "    while((len(listeTmp)>0) &(t<15)):\n",
    "        listeTmp2=[]\n",
    "        for u in listeTmp:\n",
    "            for v in graph[u]:\n",
    "                if (np.random.rand()<graph[u][v]):\n",
    "                    if(v not in listeU):\n",
    "                        listeU.append(v)\n",
    "                        listeUP.append((v,graph[u][v]))\n",
    "                        listeTmp2.append(v)\n",
    "        listeTmp=copy.deepcopy(listeTmp2)\n",
    "        t+=1\n",
    "        \n",
    "    listeUP.sort(key=lambda elem: elem[1])\n",
    "    return  [i[0] for i in listeUP]\n",
    "\n",
    "t1=[68.0]\n",
    "print(inference(t1,pc))"
   ]
  },
  {
   "cell_type": "code",
   "execution_count": 37,
   "metadata": {
    "collapsed": false
   },
   "outputs": [
    {
     "data": {
      "text/plain": [
       "0.21882119620981702"
      ]
     },
     "execution_count": 37,
     "metadata": {},
     "output_type": "execute_result"
    }
   ],
   "source": [
    "def MAP(graph,data_test):\n",
    "    s=0\n",
    "    for d in data_test:\n",
    "        listeD=[i[0] for i in d if (i[1]>1)]\n",
    "        listeT1=[i[0] for i in d if (i[1]==1)]\n",
    "        listeU=inference(listeT1,graph)\n",
    "        s2=0\n",
    "        for i,u in enumerate(listeU):\n",
    "            intersection = [val for val in listeD if val in listeU[:i]]\n",
    "            s2+=len(intersection)*1.0/(i+1)\n",
    "        s+=s2/len(listeD)\n",
    "    return s/len(data_test)\n",
    "MAP(pc,data_test)     "
   ]
  },
  {
   "cell_type": "markdown",
   "metadata": {},
   "source": [
    "----"
   ]
  },
  {
   "cell_type": "markdown",
   "metadata": {},
   "source": [
    "# BROUILLON"
   ]
  },
  {
   "cell_type": "code",
   "execution_count": null,
   "metadata": {
    "collapsed": true
   },
   "outputs": [],
   "source": []
  }
 ],
 "metadata": {
  "kernelspec": {
   "display_name": "Python 2",
   "language": "python",
   "name": "python2"
  },
  "language_info": {
   "codemirror_mode": {
    "name": "ipython",
    "version": 2
   },
   "file_extension": ".py",
   "mimetype": "text/x-python",
   "name": "python",
   "nbconvert_exporter": "python",
   "pygments_lexer": "ipython2",
   "version": "2.7.10"
  }
 },
 "nbformat": 4,
 "nbformat_minor": 0
}
