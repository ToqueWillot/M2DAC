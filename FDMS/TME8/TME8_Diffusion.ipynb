{
 "cells": [
  {
   "cell_type": "markdown",
   "metadata": {},
   "source": [
    "# Modèle de diffusion : INDEPENDENT CASCADES"
   ]
  },
  {
   "cell_type": "code",
   "execution_count": 1,
   "metadata": {
    "collapsed": true
   },
   "outputs": [],
   "source": [
    "#IMPORT\n",
    "import numpy as np\n",
    "import copy"
   ]
  },
  {
   "cell_type": "markdown",
   "metadata": {},
   "source": [
    "### Objectif\n",
    "Le but est de prédire à partir d'un ensemble d'utilisateur infectés quels seront les utilisateurs inféctés par la suite. Pour cela nous allons représenter liens entre utilisateurs sous forme de graphe, les probabilités d'infection entre deux utilisateur sera alors le poids de l'arc reiant les deux utilisateurs."
   ]
  },
  {
   "cell_type": "markdown",
   "metadata": {},
   "source": [
    "### Lecture des donnees"
   ]
  },
  {
   "cell_type": "code",
   "execution_count": 2,
   "metadata": {
    "collapsed": false
   },
   "outputs": [],
   "source": [
    "file_train = open(\"cascades_train.txt\")\n",
    "file_test = open(\"cascades_test.txt\")\n",
    "\n",
    "\n",
    "data_train=[]\n",
    "for i in file_train.readlines():\n",
    "    tab = [[float(j.split(\":\")[0]),float(j.split(\":\")[1])] for j in i.split(\";\")[:-1]]\n",
    "    tab.sort(key=lambda x: x[1])\n",
    "    data_train.append(tab)\n",
    "\n",
    "    \n",
    "data_test=[]\n",
    "for i in file_test.readlines():\n",
    "    tab = [[float(j.split(\":\")[0]),float(j.split(\":\")[1])] for j in i.split(\";\")[:-1]]\n",
    "    tab.sort(key=lambda x: x[1])\n",
    "    data_test.append(tab)"
   ]
  },
  {
   "cell_type": "markdown",
   "metadata": {},
   "source": [
    "### Creation des liste de successeurs"
   ]
  },
  {
   "cell_type": "code",
   "execution_count": 5,
   "metadata": {
    "collapsed": false
   },
   "outputs": [],
   "source": [
    "def getSuccsOfTab(tab):\n",
    "    succ=[]\n",
    "    for i in tab:\n",
    "        succ_i=[]\n",
    "        for j in tab:\n",
    "            if(i[1]<j[1]):\n",
    "                succ_i.append(j[0])\n",
    "        succ.append([i[0],succ_i])\n",
    "    return succ\n",
    "\n",
    "def unique(liste):\n",
    "    seen=set()\n",
    "    seen_add =seen.add\n",
    "    return [x for x in liste if not(x in seen or seen_add(x))]"
   ]
  },
  {
   "cell_type": "code",
   "execution_count": 6,
   "metadata": {
    "collapsed": false
   },
   "outputs": [],
   "source": [
    "succs_train = []\n",
    "for line in data_train:\n",
    "    succs_train.append(getSuccsOfTab(line))\n",
    "\n",
    "succs_test = []\n",
    "for line in data_test:\n",
    "    succs_test.append(getSuccsOfTab(line))"
   ]
  },
  {
   "cell_type": "markdown",
   "metadata": {},
   "source": [
    "## Création des graphes"
   ]
  },
  {
   "cell_type": "code",
   "execution_count": 8,
   "metadata": {
    "collapsed": false
   },
   "outputs": [],
   "source": [
    "#optimisation au niveau du temps possible\n",
    "def getGraph(succs):\n",
    "    graph={}\n",
    "    for h in succs:\n",
    "        for i in h:\n",
    "            try:\n",
    "                for j in i[1]:\n",
    "                    graph[i[0]].append(j)\n",
    "                graph[i[0]]=unique(graph[i[0]])\n",
    "                graph[i[0]].sort()\n",
    "            except KeyError:\n",
    "                graph[i[0]]=i[1]\n",
    "    return graph"
   ]
  },
  {
   "cell_type": "code",
   "execution_count": 9,
   "metadata": {
    "collapsed": true
   },
   "outputs": [],
   "source": [
    "graph_train = getGraph(succs_train)\n",
    "graph_test = getGraph(succs_test)"
   ]
  },
  {
   "cell_type": "markdown",
   "metadata": {},
   "source": [
    "## Apprentissage"
   ]
  },
  {
   "cell_type": "markdown",
   "metadata": {},
   "source": [
    "#### Fonction pour avoir la probabilité, P chapeau"
   ]
  },
  {
   "cell_type": "code",
   "execution_count": 10,
   "metadata": {
    "collapsed": false
   },
   "outputs": [],
   "source": [
    "#liste correspond a un D\n",
    "def getListPrec(liste):\n",
    "    prec=[]\n",
    "    for i in liste:\n",
    "        if (i[1]>1):\n",
    "            p=[]\n",
    "            for j in liste:\n",
    "                if (i[1]>j[1]):\n",
    "                    p.append(j[0])\n",
    "            prec.append((i[0],p))\n",
    "    return prec"
   ]
  },
  {
   "cell_type": "code",
   "execution_count": 11,
   "metadata": {
    "collapsed": false
   },
   "outputs": [],
   "source": [
    "#listePrec obtenue avec getListPrec dun D\n",
    "def getProbaOfList(listePrec,graph_weight_d):\n",
    "    a={}\n",
    "    for i in listePrec:\n",
    "        prod=1\n",
    "        for pre in i[1]:\n",
    "            prod= prod *(1 - graph_weight_d[pre][i[0]])\n",
    "        a[i[0]]=1-prod\n",
    "    return a"
   ]
  },
  {
   "cell_type": "code",
   "execution_count": 12,
   "metadata": {
    "collapsed": true
   },
   "outputs": [],
   "source": [
    "#fonction permettant de savoir si il existe une infection de l'element u sur v, lors d'un episode D\n",
    "#si oui retourne les indices\n",
    "def existLinkUV(d,u,v):\n",
    "    listeSucc = getSuccsOfTab(d)\n",
    "    listeU = [i[0] for i in listeSucc]\n",
    "    if u in listeU:\n",
    "        indiceU = np.where(np.array(listeU)==u)[0][0]\n",
    "        listeV = listeSucc[indiceU][1]\n",
    "        if v in listeV:\n",
    "            return True\n",
    "    return False"
   ]
  },
  {
   "cell_type": "code",
   "execution_count": 13,
   "metadata": {
    "collapsed": false
   },
   "outputs": [
    {
     "name": "stdout",
     "output_type": "stream",
     "text": [
      "True\n"
     ]
    }
   ],
   "source": [
    "uv = existLinkUV(getSuccsOfTab(data_train[0]),56,42)\n",
    "print(uv)"
   ]
  },
  {
   "cell_type": "markdown",
   "metadata": {},
   "source": [
    "### Poids du graphe assignés en random"
   ]
  },
  {
   "cell_type": "code",
   "execution_count": 14,
   "metadata": {
    "collapsed": false
   },
   "outputs": [],
   "source": [
    "#creation des poids du graph dico\n",
    "def getGraphWeightRandom(graph):\n",
    "    graph_weight_d={}\n",
    "    for i in graph:\n",
    "        dico={}\n",
    "        for e in graph[i]:\n",
    "            rando=np.random.rand()\n",
    "            dico[e]=rando\n",
    "        graph_weight_d[i]=dico\n",
    "    return graph_weight_d"
   ]
  },
  {
   "cell_type": "code",
   "execution_count": 15,
   "metadata": {
    "collapsed": true
   },
   "outputs": [],
   "source": [
    "gInit_train = getGraphWeightRandom(graph_train)"
   ]
  },
  {
   "cell_type": "markdown",
   "metadata": {},
   "source": [
    "#### Fonction d'apprentissage"
   ]
  },
  {
   "cell_type": "code",
   "execution_count": 16,
   "metadata": {
    "collapsed": false
   },
   "outputs": [],
   "source": [
    "def fitModele(data_train,nbIt=1,eps=1e-1):\n",
    "    succs_train = []\n",
    "    for line in data_train:\n",
    "        succs_train.append(getSuccsOfTab(line))\n",
    "    graph_train = getGraph(succs_train)   \n",
    "        \n",
    "    #init    \n",
    "    graph_cur = getGraphWeightRandom(graph_train)\n",
    "    \n",
    "    #it=0\n",
    "    #ep=100000\n",
    "    #while((it<nbIt) & (ep>eps)):\n",
    "        #probas_chapiteau=[getProbaOfList(getListPrec(d),graph_cur) for d in data_train]\n",
    "        \n",
    "    \n",
    "    # loop for : utilisateur u vers v \n",
    "    for m,u in enumerate(graph_cur):\n",
    "        if((m % 10)==0):\n",
    "            print(u)\n",
    "        for v in graph_cur[u]:\n",
    "            s=0\n",
    "            nbUV=0\n",
    "            nbnotUV=0\n",
    "            for idx,d in enumerate(data_train[:3]):\n",
    "                probas_chapiteau = getProbaOfList(getListPrec(d),graph_cur)\n",
    "                if(existLinkUV(d,u,v)):\n",
    "                    nbUV+=1\n",
    "                    s+=graph_cur[u][v]*1.0/probas_chapiteau[v]\n",
    "                else:\n",
    "                    nbnotUV+=1\n",
    "            graph_cur[u][v]= s*1.0/(nbUV+nbnotUV) # met a jour les poids\n",
    "                \n",
    "\n",
    "    return graph_cur"
   ]
  },
  {
   "cell_type": "code",
   "execution_count": 17,
   "metadata": {
    "collapsed": false
   },
   "outputs": [
    {
     "name": "stdout",
     "output_type": "stream",
     "text": [
      "0.0\n",
      "10.0\n",
      "20.0\n",
      "30.0\n",
      "40.0\n",
      "50.0\n",
      "60.0\n",
      "70.0\n",
      "80.0\n",
      "90.0\n"
     ]
    }
   ],
   "source": [
    "pc = fitModele(data_train)\n"
   ]
  },
  {
   "cell_type": "markdown",
   "metadata": {},
   "source": [
    "# Inférence\n",
    "Il s'agit à partir du graphe et d'une liste des premiers utilisateurs inféctés, de déduire quels seront les suivants."
   ]
  },
  {
   "cell_type": "code",
   "execution_count": 18,
   "metadata": {
    "collapsed": false
   },
   "outputs": [
    {
     "name": "stdout",
     "output_type": "stream",
     "text": [
      "[75.0, 58.0, 40.0, 34.0, 4.0, 79.0, 65.0, 23.0, 89.0, 29.0, 63.0, 82.0, 25.0, 71.0, 60.0, 12.0, 47.0, 5.0, 17.0, 70.0, 90.0, 3.0, 68.0, 52.0, 99.0, 9.0, 94.0, 67.0, 11.0, 8.0, 54.0, 19.0, 48.0, 96.0, 16.0, 39.0, 20.0, 73.0]\n"
     ]
    }
   ],
   "source": [
    "def inference(listeT1, graph):\n",
    "    listeUP=[]\n",
    "    listeU=[]\n",
    "    listeTmp=[]\n",
    "    \n",
    "    for u in listeT1:\n",
    "        for v in graph[u]:\n",
    "            if (np.random.rand()<graph[u][v]):\n",
    "                if(v not in listeU):\n",
    "                    listeU.append(v)\n",
    "                    listeUP.append((v,graph[u][v]))\n",
    "                    listeTmp.append(v)\n",
    "                    \n",
    "    t=1\n",
    "    while((len(listeTmp)>0) &(t<15)):\n",
    "        listeTmp2=[]\n",
    "        for u in listeTmp:\n",
    "            for v in graph[u]:\n",
    "                if (np.random.rand()<graph[u][v]):\n",
    "                    if(v not in listeU):\n",
    "                        listeU.append(v)\n",
    "                        listeUP.append((v,graph[u][v]))\n",
    "                        listeTmp2.append(v)\n",
    "        listeTmp=copy.deepcopy(listeTmp2)\n",
    "        t+=1\n",
    "        \n",
    "    listeUP.sort(key=lambda elem: elem[1])\n",
    "    return  [i[0] for i in listeUP]\n",
    "\n",
    "t1=[68.0]\n",
    "print(inference(t1,pc))"
   ]
  },
  {
   "cell_type": "markdown",
   "metadata": {},
   "source": [
    "# La mean average precision\n",
    "\n",
    "Elle permet d'évaluer notre modèle de diffusion en calculant la précision moyenne entre la liste de diffusion réelle et celle prédite par notre algorithme."
   ]
  },
  {
   "cell_type": "code",
   "execution_count": null,
   "metadata": {
    "collapsed": false
   },
   "outputs": [],
   "source": [
    "def MAP(graph,data_test):\n",
    "    s=0\n",
    "    for d in data_test:\n",
    "        listeD=[i[0] for i in d if (i[1]>1)]\n",
    "        listeT1=[i[0] for i in d if (i[1]==1)]\n",
    "        listeU=inference(listeT1,graph)\n",
    "        s2=0\n",
    "        for i,u in enumerate(listeU):\n",
    "            intersection = [val for val in listeD if val in listeU[:i]]\n",
    "            s2+=len(intersection)*1.0/(i+1)\n",
    "        s+=s2/len(listeD)\n",
    "    return s/len(data_test)\n",
    "MAP(pc,data_test)     "
   ]
  },
  {
   "cell_type": "code",
   "execution_count": null,
   "metadata": {
    "collapsed": true
   },
   "outputs": [],
   "source": []
  }
 ],
 "metadata": {
  "kernelspec": {
   "display_name": "Python 2",
   "language": "python",
   "name": "python2"
  },
  "language_info": {
   "codemirror_mode": {
    "name": "ipython",
    "version": 2
   },
   "file_extension": ".py",
   "mimetype": "text/x-python",
   "name": "python",
   "nbconvert_exporter": "python",
   "pygments_lexer": "ipython2",
   "version": "2.7.10"
  }
 },
 "nbformat": 4,
 "nbformat_minor": 0
}
