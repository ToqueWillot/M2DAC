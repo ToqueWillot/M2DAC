{
 "cells": [
  {
   "cell_type": "code",
   "execution_count": 1,
   "metadata": {
    "collapsed": true
   },
   "outputs": [],
   "source": [
    "import numpy as np"
   ]
  },
  {
   "cell_type": "markdown",
   "metadata": {
    "collapsed": false
   },
   "source": [
    "# 1- Lecture des données"
   ]
  },
  {
   "cell_type": "code",
   "execution_count": 41,
   "metadata": {
    "collapsed": false
   },
   "outputs": [],
   "source": [
    "def readFile(name):\n",
    "    return [i[:-2].split('\\t') for i in open(\"recodata/\"+name)]\n",
    "    "
   ]
  },
  {
   "cell_type": "code",
   "execution_count": 42,
   "metadata": {
    "collapsed": true
   },
   "outputs": [],
   "source": [
    "u_data = readFile(\"u.data\")\n",
    "u1_train = readFile(\"u1.train\")\n",
    "u1_test = readFile(\"u1.test\")\n",
    "u5_train = readFile(\"u5.train\")\n",
    "u5_test = readFile(\"u5.test\")\n",
    "\n",
    "u_links = readFile(\"u.links\")"
   ]
  },
  {
   "cell_type": "code",
   "execution_count": 43,
   "metadata": {
    "collapsed": false
   },
   "outputs": [
    {
     "name": "stdout",
     "output_type": "stream",
     "text": [
      "['196', '242', '3', '88125094']\n",
      "['1', '1', '5', '87496575']\n",
      "['1', '6', '5', '88743197']\n",
      "['1', '1', '5', '87496575']\n",
      "['1', '3', '4', '87854296']\n",
      "['1', '520', '510', '876', '107', '800', '702', '691', '25']\n"
     ]
    }
   ],
   "source": [
    "print(u_data[0])\n",
    "print(u1_train[0])\n",
    "print(u1_test[0])\n",
    "print(u5_train[0])\n",
    "print(u5_test[0])\n",
    "print(u_links[0])"
   ]
  },
  {
   "cell_type": "code",
   "execution_count": null,
   "metadata": {
    "collapsed": true
   },
   "outputs": [],
   "source": []
  },
  {
   "cell_type": "markdown",
   "metadata": {},
   "source": [
    "# 2- Modèle SoRec"
   ]
  },
  {
   "cell_type": "code",
   "execution_count": null,
   "metadata": {
    "collapsed": true
   },
   "outputs": [],
   "source": [
    "MatrixR\n",
    "MatrixRc\n",
    "VectorU\n",
    "VectorV\n",
    "VectorT\n",
    "z=\n",
    "phi="
   ]
  },
  {
   "cell_type": "code",
   "execution_count": null,
   "metadata": {
    "collapsed": true
   },
   "outputs": [],
   "source": [
    "somme = 0\n",
    "for u in len(MatrixR):\n",
    "    for i in len(u):\n",
    "        MatrixRc[u][i]=g(z[u]*w[i])\n",
    "        somme+=(MatrixR[u][i]-MatrixRc[u][i])**2+lamda*(np.linalg.norm)"
   ]
  }
 ],
 "metadata": {
  "kernelspec": {
   "display_name": "Python 2",
   "language": "python",
   "name": "python2"
  },
  "language_info": {
   "codemirror_mode": {
    "name": "ipython",
    "version": 2
   },
   "file_extension": ".py",
   "mimetype": "text/x-python",
   "name": "python",
   "nbconvert_exporter": "python",
   "pygments_lexer": "ipython2",
   "version": "2.7.10"
  }
 },
 "nbformat": 4,
 "nbformat_minor": 0
}
