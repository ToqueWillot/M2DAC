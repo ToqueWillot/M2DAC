{
 "cells": [
  {
   "cell_type": "code",
   "execution_count": 1,
   "metadata": {
    "collapsed": false
   },
   "outputs": [],
   "source": [
    "import numpy as np\n",
    "\n",
    "import sklearn\n",
    "from sklearn.decomposition import NMF        # to add features based on the latent representation\n",
    "from sklearn.decomposition import ProjectedGradientNMF\n",
    "from scipy.sparse import csr_matrix "
   ]
  },
  {
   "cell_type": "markdown",
   "metadata": {
    "collapsed": false
   },
   "source": [
    "# 1- Lecture des données"
   ]
  },
  {
   "cell_type": "code",
   "execution_count": 10,
   "metadata": {
    "collapsed": true
   },
   "outputs": [],
   "source": [
    "mat = np.array([[5,5,5,5],\n",
    "              [5,0,5,5],\n",
    "              [5,5,5,5]])"
   ]
  },
  {
   "cell_type": "code",
   "execution_count": 11,
   "metadata": {
    "collapsed": false
   },
   "outputs": [],
   "source": [
    "m = csr_matrix(mat)"
   ]
  },
  {
   "cell_type": "code",
   "execution_count": 12,
   "metadata": {
    "collapsed": false
   },
   "outputs": [
    {
     "data": {
      "text/plain": [
       "<3x4 sparse matrix of type '<type 'numpy.int64'>'\n",
       "\twith 11 stored elements in Compressed Sparse Row format>"
      ]
     },
     "execution_count": 12,
     "metadata": {},
     "output_type": "execute_result"
    }
   ],
   "source": [
    "m"
   ]
  },
  {
   "cell_type": "code",
   "execution_count": 13,
   "metadata": {
    "collapsed": false
   },
   "outputs": [
    {
     "data": {
      "text/plain": [
       "array([[5, 5, 5, 5],\n",
       "       [5, 0, 5, 5],\n",
       "       [5, 5, 5, 5]])"
      ]
     },
     "execution_count": 13,
     "metadata": {},
     "output_type": "execute_result"
    }
   ],
   "source": [
    "mat"
   ]
  },
  {
   "cell_type": "code",
   "execution_count": 18,
   "metadata": {
    "collapsed": false
   },
   "outputs": [
    {
     "data": {
      "text/plain": [
       "array([[  4.99997771e+00,   5.00041069e+00,   5.00000602e+00,\n",
       "          5.00000434e+00],\n",
       "       [  5.00000477e+00,   2.28547159e-03,   4.99999871e+00,\n",
       "          4.99999907e+00],\n",
       "       [  5.00000687e+00,   4.99988914e+00,   4.99999931e+00,\n",
       "          4.99999976e+00]])"
      ]
     },
     "execution_count": 18,
     "metadata": {},
     "output_type": "execute_result"
    }
   ],
   "source": [
    "#%%time\n",
    "nmf = NMF(n_components=None, init=None, solver='cd', tol=0.0001, max_iter=2000, random_state=None,\n",
    "          alpha=0, l1_ratio=0, verbose=0, shuffle=False, nls_max_iter=2000, sparseness=None, beta=1, eta=0.1)\n",
    "\n",
    "W = nmf.fit_transform(m)\n",
    "H = nmf.components_\n",
    "W.dot(H)"
   ]
  },
  {
   "cell_type": "code",
   "execution_count": 19,
   "metadata": {
    "collapsed": false
   },
   "outputs": [],
   "source": [
    "from scipy import linalg"
   ]
  },
  {
   "cell_type": "code",
   "execution_count": 26,
   "metadata": {
    "collapsed": true
   },
   "outputs": [],
   "source": [
    "def matrix_factorization(R, K, steps=100, eps=0.0001, beta=0.02, decay=0.95):\n",
    "    N,M = np.shape(R)\n",
    "    P = np.random.rand(N,K)\n",
    "    #P = np.maximum(P, eps)\n",
    "    \n",
    "    #Q = np.random.rand(M,K).T\n",
    "    Q = linalg.lstsq(P, R)[0]\n",
    "    Q = np.maximum(Q, eps)\n",
    "\n",
    "    #masked_X = mask * X\n",
    "    #X_est_prev = dot(A, Y)\n",
    "    \n",
    "    #mask = np.sign(R)\n",
    "    #masked_R = mask * R\n",
    "    \n",
    "    \n",
    "    \n",
    "    for step in xrange(1,steps+1):\n",
    "        #\"\"\"\n",
    "        for i in xrange(len(R)):\n",
    "            for j in xrange(len(R[i])):\n",
    "                if R[i][j] > 0:\n",
    "                    eij = R[i][j] - np.dot(P[i,:],Q[:,j])\n",
    "                    P[i] = P[i] + eps * (2 * eij * Q.T[j] - beta * P[i])\n",
    "                    #Q[i] = P[i] + eps * (2 * eij * Q.T[j] - beta * P[i])\n",
    "                    Q.T[j] = Q.T[j] + eps * (2 * eij * P[i] - beta * Q.T[j])\n",
    "                    #for k in xrange(K):\n",
    "                    #    P[i][k] = P[i][k] + eps * (2 * eij * Q[k][j] - beta * P[i][k])\n",
    "                        #Q[k][j] = Q[k][j] + eps * (2 * eij * P[i][k] - beta * Q[k][j])\n",
    "        \n",
    "        \n",
    "    return P, Q.T"
   ]
  },
  {
   "cell_type": "code",
   "execution_count": 27,
   "metadata": {
    "collapsed": true
   },
   "outputs": [],
   "source": [
    "mat = np.array([[1,1,5],\n",
    "                [5,5,1],\n",
    "                [0,5,1]])"
   ]
  },
  {
   "cell_type": "code",
   "execution_count": 28,
   "metadata": {
    "collapsed": false,
    "scrolled": true
   },
   "outputs": [
    {
     "data": {
      "text/plain": [
       "array([[ 2.52061432,  0.27650964,  4.50333508],\n",
       "       [ 5.65921603,  4.45196109,  2.28235774],\n",
       "       [ 5.62792907,  4.98694106,  2.88892641]])"
      ]
     },
     "execution_count": 28,
     "metadata": {},
     "output_type": "execute_result"
    }
   ],
   "source": [
    "K = 5\n",
    "nP, nQ = matrix_factorization(mat, K, steps=1000,eps=1e-5)\n",
    "nP.dot(nQ.T)"
   ]
  },
  {
   "cell_type": "markdown",
   "metadata": {},
   "source": [
    "---"
   ]
  },
  {
   "cell_type": "markdown",
   "metadata": {},
   "source": [
    "* **u.data**: Toutes les données de jugement au format \"user id |  lm id | rating | timestamp\",\n",
    "avec les champs séparés par des tabulations\n",
    "\n",
    "* **u.links**: Les liens entre utilisateur du réseau.\n",
    "Chaque ligne concerne liens sortants d'un utilisateur.\n",
    "Une ligne commence par le numéro d'un utilisateur, suivi par tous ses successeurs dans le réseau, séparés par des tabulation."
   ]
  },
  {
   "cell_type": "code",
   "execution_count": 177,
   "metadata": {
    "collapsed": false
   },
   "outputs": [],
   "source": [
    "r_max = 5\n",
    "def f(x):\n",
    "    return (x-1)/(r_max-1)\n",
    "\n",
    "def readData(name):\n",
    "    a = np.array([i[:-2].split('\\t')[:3] for i in open(\"recodata/\"+name)])\n",
    "    # mettre les notes a l'echelle\n",
    "    a[:,2] = [f(float(i)) for i in a[:,2]]\n",
    "    return a\n",
    "\n",
    "def readLinks(name):\n",
    "    ret = []\n",
    "    for i in open(\"recodata/\"+name):\n",
    "        t = i[:-2].split('\\t')\n",
    "        a = t[0]\n",
    "        for j in t[1:]:\n",
    "            ret.append([a,j,1])\n",
    "    return np.array(ret)"
   ]
  },
  {
   "cell_type": "code",
   "execution_count": 210,
   "metadata": {
    "collapsed": false
   },
   "outputs": [],
   "source": [
    "u_data = readData(\"u.data\")\n",
    "u1_train = readData(\"u1.train\")\n",
    "u1_test = readData(\"u1.test\")\n",
    "u2_train = readData(\"u2.train\")\n",
    "u2_test = readData(\"u2.test\")\n",
    "u3_train = readData(\"u3.train\")\n",
    "u3_test = readData(\"u3.test\")\n",
    "u4_train = readData(\"u4.train\")\n",
    "u4_test = readData(\"u4.test\")\n",
    "u5_train = readData(\"u5.train\")\n",
    "u5_test = readData(\"u5.test\")\n",
    "\n",
    "u_links = readLinks(\"u.links\")"
   ]
  },
  {
   "cell_type": "code",
   "execution_count": 169,
   "metadata": {
    "collapsed": false
   },
   "outputs": [
    {
     "name": "stdout",
     "output_type": "stream",
     "text": [
      "['196' '242' '0.5']\n",
      "['1' '1' '1.0']\n",
      "['1' '6' '1.0']\n",
      "['1' '1' '1.0']\n",
      "['1' '3' '0.75']\n",
      "['1' '520' '1']\n"
     ]
    }
   ],
   "source": [
    "print(u_data[0])\n",
    "print(u1_train[0])\n",
    "print(u1_test[0])\n",
    "print(u5_train[0])\n",
    "print(u5_test[0])\n",
    "print(u_links[0])"
   ]
  },
  {
   "cell_type": "code",
   "execution_count": 140,
   "metadata": {
    "collapsed": false
   },
   "outputs": [],
   "source": [
    "tmp=[]\n",
    "for i in u_links:\n",
    "    tmp.append(i[0])"
   ]
  },
  {
   "cell_type": "code",
   "execution_count": 216,
   "metadata": {
    "collapsed": false
   },
   "outputs": [],
   "source": [
    "users=u_data[:,0]\n",
    "movies=u_data[:,1]"
   ]
  },
  {
   "cell_type": "code",
   "execution_count": 217,
   "metadata": {
    "collapsed": true
   },
   "outputs": [],
   "source": [
    "dicu={}\n",
    "for i in users:\n",
    "    dicu[i]=0\n",
    "dicm={}\n",
    "for i in movies:\n",
    "    dicm[i]=0"
   ]
  },
  {
   "cell_type": "code",
   "execution_count": 218,
   "metadata": {
    "collapsed": false
   },
   "outputs": [
    {
     "data": {
      "text/plain": [
       "943"
      ]
     },
     "execution_count": 218,
     "metadata": {},
     "output_type": "execute_result"
    }
   ],
   "source": [
    "len(dicu.keys())"
   ]
  },
  {
   "cell_type": "code",
   "execution_count": 144,
   "metadata": {
    "collapsed": false
   },
   "outputs": [
    {
     "data": {
      "text/plain": [
       "1682"
      ]
     },
     "execution_count": 144,
     "metadata": {},
     "output_type": "execute_result"
    }
   ],
   "source": [
    "len(dicm.keys())"
   ]
  },
  {
   "cell_type": "code",
   "execution_count": 145,
   "metadata": {
    "collapsed": false
   },
   "outputs": [],
   "source": [
    "rawMatrix = np.zeros((len(dicu.keys()),len(dicm.keys())))\n",
    "for l in u_data:\n",
    "    rawMatrix[int(l[0])-1][int(l[1])-1] = l[2]"
   ]
  },
  {
   "cell_type": "code",
   "execution_count": 146,
   "metadata": {
    "collapsed": false
   },
   "outputs": [
    {
     "data": {
      "text/plain": [
       "array([[ 1.  ,  0.5 ,  0.75,  0.5 ,  0.5 ,  1.  ,  0.75],\n",
       "       [ 0.75,  0.  ,  0.  ,  0.  ,  0.  ,  0.  ,  0.  ],\n",
       "       [ 0.  ,  0.  ,  0.  ,  0.  ,  0.  ,  0.  ,  0.  ],\n",
       "       [ 0.  ,  0.  ,  0.  ,  0.  ,  0.  ,  0.  ,  0.  ],\n",
       "       [ 0.75,  0.5 ,  0.  ,  0.  ,  0.  ,  0.  ,  0.  ],\n",
       "       [ 0.75,  0.  ,  0.  ,  0.  ,  0.  ,  0.  ,  0.25],\n",
       "       [ 0.  ,  0.  ,  0.  ,  1.  ,  0.  ,  0.  ,  1.  ]])"
      ]
     },
     "execution_count": 146,
     "metadata": {},
     "output_type": "execute_result"
    }
   ],
   "source": [
    "rawMatrix[:7,:7]"
   ]
  },
  {
   "cell_type": "markdown",
   "metadata": {},
   "source": [
    "# 2- Modèle SoRec"
   ]
  },
  {
   "cell_type": "code",
   "execution_count": 221,
   "metadata": {
    "collapsed": false
   },
   "outputs": [
    {
     "name": "stdout",
     "output_type": "stream",
     "text": [
      "\n"
     ]
    }
   ],
   "source": [
    "class matrixFactorisation():\n",
    "    def __init__(self, k, eps=1e-5, lC=0.2, lU=0.2, lV=0.2, lZ=0.2, steps=10):\n",
    "        self.k = k\n",
    "        self.eps = eps\n",
    "        self.lC = lC\n",
    "        self.lU = lU\n",
    "        self.lV = lV\n",
    "        self.lZ = lZ\n",
    "        self.steps = steps\n",
    "        \n",
    "    def fit(self, users_movies, users_link):\n",
    "        self.u = {}\n",
    "        self.v = {}\n",
    "        self.z = {}\n",
    "        \n",
    "        #Choix du paramètre a optimisé en cas d'optimisation alternée\n",
    "        for i in xrange(self.steps):\n",
    "            lossUV = 0\n",
    "            lossUZ = 0\n",
    "            lossTot = 0\n",
    "            \n",
    "            for j in xrange(len(users_movies)):\n",
    "                # Factorisation de matrices users/films\n",
    "                r = np.random.randint(len(users_movies)) \n",
    "                user = users_movies[r][0]\n",
    "                movie = users_movies[r][1]\n",
    "                rating = float(users_movies[r][2])\n",
    "                try:\n",
    "                    self.u[user]\n",
    "                except KeyError:\n",
    "                    self.u[user] = np.random.rand(1,self.k)\n",
    "                try:\n",
    "                    self.v[movie]\n",
    "                except KeyError:\n",
    "                    self.v[movie] = np.random.rand(self.k,1)\n",
    "\n",
    "                e_UV = np.exp(self.u[user].dot(self.v[movie])[0][0])\n",
    "                \n",
    "                log_UV = (1.0/(1 + e_UV))\n",
    "                tmp = log_UV - rating\n",
    "                g = e_UV/((1 + e_UV))**2\n",
    "\n",
    "                self.u[user] = self.u[user] - self.eps * tmp * g * self.v[movie].transpose()\n",
    "                self.v[movie] = self.v[movie] - self.eps * tmp * g * self.u[user].transpose()\n",
    "                lossUV = lossUV + tmp*tmp/2. \n",
    "                \n",
    "                # Factorisation de matrices liens users\n",
    "                r = np.random.randint(len(users_link)) # on pourrais faire sur tout les liens par user\n",
    "                userSource = users_link[r][0]\n",
    "                userTarget = users_link[r][1]\n",
    "                linkScore  = float(users_link[r][2])\n",
    "                try:\n",
    "                    self.u[userSource]\n",
    "                except KeyError:\n",
    "                    self.u[userSource] = np.random.rand(1,self.k)\n",
    "                try:\n",
    "                    self.z[userTarget]\n",
    "                except KeyError:\n",
    "                    self.z[userTarget] = np.random.rand(self.k,1)\n",
    "                    \n",
    "                e_UZ = np.exp(self.u[userSource].dot(self.z[userTarget])[0][0])\n",
    "                log_UZ = (1.0/(1 + e_UZ))\n",
    "                tmp = log_UZ - linkScore\n",
    "                g = e_UZ/((1 + e_UZ))**2\n",
    "\n",
    "                self.u[userSource] = self.u[userSource] - self.eps * tmp * g * self.z[userTarget].transpose()\n",
    "                self.z[userTarget] = self.z[userTarget] - self.eps * tmp * g * self.u[userSource].transpose()\n",
    "                lossUZ = lossUZ + tmp*tmp/2. \n",
    "                \n",
    "                ru = np.random.choice(self.u.keys());\n",
    "                rv = np.random.choice(self.v.keys());\n",
    "                rz = np.random.choice(self.z.keys());\n",
    "                self.u[ru] = self.u[ru] * (1 - self.lU * self.eps)\n",
    "                self.v[rv] = self.v[rv] * (1 - self.lV * self.eps)\n",
    "                self.z[rz] = self.z[rz] * (1 - self.lZ * self.eps)\n",
    "                lossTot = lossTot + np.sqrt((self.u[ru]**2).sum()) + np.sqrt((self.v[rv]**2).sum()) + np.sqrt((self.z[rz]**2).sum())\n",
    "\n",
    "            if (i % 1 == 0):\n",
    "                print(\"Step %d, loss: %.04f\"%(i, (lossUV + lossUZ + lossTot) / len(users_movies)))\n",
    "\n",
    "                \n",
    "    def predict(self, users_movies):\n",
    "        pred = []\n",
    "        for c in users_movies:\n",
    "            try:\n",
    "                pred.append(self.u[c[0]].dot(self.v[c[1]])[0][0])\n",
    "            except KeyError:\n",
    "                pred.append(0.5)\n",
    "        return pred"
   ]
  },
  {
   "cell_type": "code",
   "execution_count": 41,
   "metadata": {
    "collapsed": true
   },
   "outputs": [],
   "source": [
    "# Chargement\n",
    "links, ratings_train, ratings_test = loadMovieLens(path=\"./recodata/\",dataFile=\"/u1.train\", dataFileTest=\"/u1.test\")"
   ]
  },
  {
   "cell_type": "code",
   "execution_count": 207,
   "metadata": {
    "collapsed": false
   },
   "outputs": [
    {
     "name": "stdout",
     "output_type": "stream",
     "text": [
      "Step 0, loss: 3.2356\n",
      "Step 1, loss: 2.4680\n",
      "Step 2, loss: 2.2469\n",
      "Step 3, loss: 2.1802\n",
      "Step 4, loss: 2.1533\n",
      "Step 5, loss: 2.1463\n",
      "Step 6, loss: 2.1404\n",
      "Step 7, loss: 2.1485\n",
      "Step 8, loss: 2.1453\n",
      "Step 9, loss: 2.1484\n"
     ]
    }
   ],
   "source": [
    "#%%time\n",
    "model = matrixFactorisation(5, eps=1e-1, steps=10)\n",
    "model.fit(u_data, u_links)"
   ]
  },
  {
   "cell_type": "code",
   "execution_count": 209,
   "metadata": {
    "collapsed": false
   },
   "outputs": [
    {
     "name": "stdout",
     "output_type": "stream",
     "text": [
      "Erreur: 0.609640053377\n"
     ]
    }
   ],
   "source": [
    "print \"Erreur:\", ((model.predict(u1_test) - np.array(np.array(u1_test)[:,2], float)) ** 2).mean()"
   ]
  },
  {
   "cell_type": "code",
   "execution_count": null,
   "metadata": {
    "collapsed": true
   },
   "outputs": [],
   "source": []
  },
  {
   "cell_type": "code",
   "execution_count": 223,
   "metadata": {
    "collapsed": false
   },
   "outputs": [
    {
     "name": "stdout",
     "output_type": "stream",
     "text": [
      " Step 0, loss: 3.3367\n",
      "Step 1, loss: 2.5818\n",
      "Step 2, loss: 2.3194\n"
     ]
    },
    {
     "ename": "KeyboardInterrupt",
     "evalue": "",
     "output_type": "error",
     "traceback": [
      "\u001b[0;31m---------------------------------------------------------------------------\u001b[0m",
      "\u001b[0;31mKeyboardInterrupt\u001b[0m                         Traceback (most recent call last)",
      "\u001b[0;32m<ipython-input-223-ad49f3449eee>\u001b[0m in \u001b[0;36m<module>\u001b[0;34m()\u001b[0m\n\u001b[0;32m----> 1\u001b[0;31m \u001b[0mget_ipython\u001b[0m\u001b[0;34m(\u001b[0m\u001b[0;34m)\u001b[0m\u001b[0;34m.\u001b[0m\u001b[0mrun_cell_magic\u001b[0m\u001b[0;34m(\u001b[0m\u001b[0;34mu'time'\u001b[0m\u001b[0;34m,\u001b[0m \u001b[0;34mu''\u001b[0m\u001b[0;34m,\u001b[0m \u001b[0;34mu'model = matrixFactorisation(5, eps=1e-1, steps=6)\\nmodel.fit(u1_train, u_links)\\n#print \"Erreur:\", ((model.predict(u1_test) - np.array(np.array(u1_test)[:,2], float)) ** 2).mean()'\u001b[0m\u001b[0;34m)\u001b[0m\u001b[0;34m\u001b[0m\u001b[0m\n\u001b[0m",
      "\u001b[0;32m/usr/local/lib/python2.7/site-packages/IPython/core/interactiveshell.pyc\u001b[0m in \u001b[0;36mrun_cell_magic\u001b[0;34m(self, magic_name, line, cell)\u001b[0m\n\u001b[1;32m   2291\u001b[0m             \u001b[0mmagic_arg_s\u001b[0m \u001b[0;34m=\u001b[0m \u001b[0mself\u001b[0m\u001b[0;34m.\u001b[0m\u001b[0mvar_expand\u001b[0m\u001b[0;34m(\u001b[0m\u001b[0mline\u001b[0m\u001b[0;34m,\u001b[0m \u001b[0mstack_depth\u001b[0m\u001b[0;34m)\u001b[0m\u001b[0;34m\u001b[0m\u001b[0m\n\u001b[1;32m   2292\u001b[0m             \u001b[0;32mwith\u001b[0m \u001b[0mself\u001b[0m\u001b[0;34m.\u001b[0m\u001b[0mbuiltin_trap\u001b[0m\u001b[0;34m:\u001b[0m\u001b[0;34m\u001b[0m\u001b[0m\n\u001b[0;32m-> 2293\u001b[0;31m                 \u001b[0mresult\u001b[0m \u001b[0;34m=\u001b[0m \u001b[0mfn\u001b[0m\u001b[0;34m(\u001b[0m\u001b[0mmagic_arg_s\u001b[0m\u001b[0;34m,\u001b[0m \u001b[0mcell\u001b[0m\u001b[0;34m)\u001b[0m\u001b[0;34m\u001b[0m\u001b[0m\n\u001b[0m\u001b[1;32m   2294\u001b[0m             \u001b[0;32mreturn\u001b[0m \u001b[0mresult\u001b[0m\u001b[0;34m\u001b[0m\u001b[0m\n\u001b[1;32m   2295\u001b[0m \u001b[0;34m\u001b[0m\u001b[0m\n",
      "\u001b[0;32m<decorator-gen-60>\u001b[0m in \u001b[0;36mtime\u001b[0;34m(self, line, cell, local_ns)\u001b[0m\n",
      "\u001b[0;32m/usr/local/lib/python2.7/site-packages/IPython/core/magic.pyc\u001b[0m in \u001b[0;36m<lambda>\u001b[0;34m(f, *a, **k)\u001b[0m\n\u001b[1;32m    191\u001b[0m     \u001b[0;31m# but it's overkill for just that one bit of state.\u001b[0m\u001b[0;34m\u001b[0m\u001b[0;34m\u001b[0m\u001b[0m\n\u001b[1;32m    192\u001b[0m     \u001b[0;32mdef\u001b[0m \u001b[0mmagic_deco\u001b[0m\u001b[0;34m(\u001b[0m\u001b[0marg\u001b[0m\u001b[0;34m)\u001b[0m\u001b[0;34m:\u001b[0m\u001b[0;34m\u001b[0m\u001b[0m\n\u001b[0;32m--> 193\u001b[0;31m         \u001b[0mcall\u001b[0m \u001b[0;34m=\u001b[0m \u001b[0;32mlambda\u001b[0m \u001b[0mf\u001b[0m\u001b[0;34m,\u001b[0m \u001b[0;34m*\u001b[0m\u001b[0ma\u001b[0m\u001b[0;34m,\u001b[0m \u001b[0;34m**\u001b[0m\u001b[0mk\u001b[0m\u001b[0;34m:\u001b[0m \u001b[0mf\u001b[0m\u001b[0;34m(\u001b[0m\u001b[0;34m*\u001b[0m\u001b[0ma\u001b[0m\u001b[0;34m,\u001b[0m \u001b[0;34m**\u001b[0m\u001b[0mk\u001b[0m\u001b[0;34m)\u001b[0m\u001b[0;34m\u001b[0m\u001b[0m\n\u001b[0m\u001b[1;32m    194\u001b[0m \u001b[0;34m\u001b[0m\u001b[0m\n\u001b[1;32m    195\u001b[0m         \u001b[0;32mif\u001b[0m \u001b[0mcallable\u001b[0m\u001b[0;34m(\u001b[0m\u001b[0marg\u001b[0m\u001b[0;34m)\u001b[0m\u001b[0;34m:\u001b[0m\u001b[0;34m\u001b[0m\u001b[0m\n",
      "\u001b[0;32m/usr/local/lib/python2.7/site-packages/IPython/core/magics/execution.pyc\u001b[0m in \u001b[0;36mtime\u001b[0;34m(self, line, cell, local_ns)\u001b[0m\n\u001b[1;32m   1165\u001b[0m         \u001b[0;32melse\u001b[0m\u001b[0;34m:\u001b[0m\u001b[0;34m\u001b[0m\u001b[0m\n\u001b[1;32m   1166\u001b[0m             \u001b[0mst\u001b[0m \u001b[0;34m=\u001b[0m \u001b[0mclock2\u001b[0m\u001b[0;34m(\u001b[0m\u001b[0;34m)\u001b[0m\u001b[0;34m\u001b[0m\u001b[0m\n\u001b[0;32m-> 1167\u001b[0;31m             \u001b[0;32mexec\u001b[0m\u001b[0;34m(\u001b[0m\u001b[0mcode\u001b[0m\u001b[0;34m,\u001b[0m \u001b[0mglob\u001b[0m\u001b[0;34m,\u001b[0m \u001b[0mlocal_ns\u001b[0m\u001b[0;34m)\u001b[0m\u001b[0;34m\u001b[0m\u001b[0m\n\u001b[0m\u001b[1;32m   1168\u001b[0m             \u001b[0mend\u001b[0m \u001b[0;34m=\u001b[0m \u001b[0mclock2\u001b[0m\u001b[0;34m(\u001b[0m\u001b[0;34m)\u001b[0m\u001b[0;34m\u001b[0m\u001b[0m\n\u001b[1;32m   1169\u001b[0m             \u001b[0mout\u001b[0m \u001b[0;34m=\u001b[0m \u001b[0mNone\u001b[0m\u001b[0;34m\u001b[0m\u001b[0m\n",
      "\u001b[0;32m<timed exec>\u001b[0m in \u001b[0;36m<module>\u001b[0;34m()\u001b[0m\n",
      "\u001b[0;32m<ipython-input-221-d5b52a2651f9>\u001b[0m in \u001b[0;36mfit\u001b[0;34m(self, users_movies, users_link)\u001b[0m\n\u001b[1;32m     69\u001b[0m \u001b[0;34m\u001b[0m\u001b[0m\n\u001b[1;32m     70\u001b[0m                 \u001b[0mru\u001b[0m \u001b[0;34m=\u001b[0m \u001b[0mnp\u001b[0m\u001b[0;34m.\u001b[0m\u001b[0mrandom\u001b[0m\u001b[0;34m.\u001b[0m\u001b[0mchoice\u001b[0m\u001b[0;34m(\u001b[0m\u001b[0mself\u001b[0m\u001b[0;34m.\u001b[0m\u001b[0mu\u001b[0m\u001b[0;34m.\u001b[0m\u001b[0mkeys\u001b[0m\u001b[0;34m(\u001b[0m\u001b[0;34m)\u001b[0m\u001b[0;34m)\u001b[0m\u001b[0;34m;\u001b[0m\u001b[0;34m\u001b[0m\u001b[0m\n\u001b[0;32m---> 71\u001b[0;31m                 \u001b[0mrv\u001b[0m \u001b[0;34m=\u001b[0m \u001b[0mnp\u001b[0m\u001b[0;34m.\u001b[0m\u001b[0mrandom\u001b[0m\u001b[0;34m.\u001b[0m\u001b[0mchoice\u001b[0m\u001b[0;34m(\u001b[0m\u001b[0mself\u001b[0m\u001b[0;34m.\u001b[0m\u001b[0mv\u001b[0m\u001b[0;34m.\u001b[0m\u001b[0mkeys\u001b[0m\u001b[0;34m(\u001b[0m\u001b[0;34m)\u001b[0m\u001b[0;34m)\u001b[0m\u001b[0;34m;\u001b[0m\u001b[0;34m\u001b[0m\u001b[0m\n\u001b[0m\u001b[1;32m     72\u001b[0m                 \u001b[0mrz\u001b[0m \u001b[0;34m=\u001b[0m \u001b[0mnp\u001b[0m\u001b[0;34m.\u001b[0m\u001b[0mrandom\u001b[0m\u001b[0;34m.\u001b[0m\u001b[0mchoice\u001b[0m\u001b[0;34m(\u001b[0m\u001b[0mself\u001b[0m\u001b[0;34m.\u001b[0m\u001b[0mz\u001b[0m\u001b[0;34m.\u001b[0m\u001b[0mkeys\u001b[0m\u001b[0;34m(\u001b[0m\u001b[0;34m)\u001b[0m\u001b[0;34m)\u001b[0m\u001b[0;34m;\u001b[0m\u001b[0;34m\u001b[0m\u001b[0m\n\u001b[1;32m     73\u001b[0m                 \u001b[0mself\u001b[0m\u001b[0;34m.\u001b[0m\u001b[0mu\u001b[0m\u001b[0;34m[\u001b[0m\u001b[0mru\u001b[0m\u001b[0;34m]\u001b[0m \u001b[0;34m=\u001b[0m \u001b[0mself\u001b[0m\u001b[0;34m.\u001b[0m\u001b[0mu\u001b[0m\u001b[0;34m[\u001b[0m\u001b[0mru\u001b[0m\u001b[0;34m]\u001b[0m \u001b[0;34m*\u001b[0m \u001b[0;34m(\u001b[0m\u001b[0;36m1\u001b[0m \u001b[0;34m-\u001b[0m \u001b[0mself\u001b[0m\u001b[0;34m.\u001b[0m\u001b[0mlU\u001b[0m \u001b[0;34m*\u001b[0m \u001b[0mself\u001b[0m\u001b[0;34m.\u001b[0m\u001b[0meps\u001b[0m\u001b[0;34m)\u001b[0m\u001b[0;34m\u001b[0m\u001b[0m\n",
      "\u001b[0;31mKeyboardInterrupt\u001b[0m: "
     ]
    }
   ],
   "source": [
    "%%time\n",
    "model = matrixFactorisation(5, eps=1e-1, steps=6)\n",
    "model.fit(u1_train, u_links)\n",
    "#print \"Erreur:\", ((model.predict(u1_test) - np.array(np.array(u1_test)[:,2], float)) ** 2).mean()"
   ]
  },
  {
   "cell_type": "code",
   "execution_count": 224,
   "metadata": {
    "collapsed": false
   },
   "outputs": [
    {
     "name": "stdout",
     "output_type": "stream",
     "text": [
      "Erreur: 0.491045663929\n"
     ]
    }
   ],
   "source": [
    "print \"Erreur:\", ((model.predict(u1_test) - np.array(np.array(u1_test)[:,2], float)) ** 2).mean()"
   ]
  },
  {
   "cell_type": "code",
   "execution_count": null,
   "metadata": {
    "collapsed": true
   },
   "outputs": [],
   "source": []
  },
  {
   "cell_type": "code",
   "execution_count": null,
   "metadata": {
    "collapsed": true
   },
   "outputs": [],
   "source": []
  },
  {
   "cell_type": "code",
   "execution_count": null,
   "metadata": {
    "collapsed": true
   },
   "outputs": [],
   "source": []
  }
 ],
 "metadata": {
  "kernelspec": {
   "display_name": "Python 2",
   "language": "python",
   "name": "python2"
  },
  "language_info": {
   "codemirror_mode": {
    "name": "ipython",
    "version": 2
   },
   "file_extension": ".py",
   "mimetype": "text/x-python",
   "name": "python",
   "nbconvert_exporter": "python",
   "pygments_lexer": "ipython2",
   "version": "2.7.10"
  }
 },
 "nbformat": 4,
 "nbformat_minor": 0
}
