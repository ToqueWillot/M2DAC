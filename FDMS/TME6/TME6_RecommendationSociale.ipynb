{
 "cells": [
  {
   "cell_type": "code",
   "execution_count": 1,
   "metadata": {
    "collapsed": false
   },
   "outputs": [],
   "source": [
    "import numpy as np\n",
    "\n",
    "import sklearn\n",
    "from sklearn.decomposition import NMF        # to add features based on the latent representation\n",
    "from sklearn.decomposition import ProjectedGradientNMF\n",
    "from scipy.sparse import csr_matrix "
   ]
  },
  {
   "cell_type": "markdown",
   "metadata": {
    "collapsed": false
   },
   "source": [
    "# 1- Lecture des données"
   ]
  },
  {
   "cell_type": "code",
   "execution_count": 10,
   "metadata": {
    "collapsed": true
   },
   "outputs": [],
   "source": [
    "mat = np.array([[5,5,5,5],\n",
    "              [5,0,5,5],\n",
    "              [5,5,5,5]])"
   ]
  },
  {
   "cell_type": "code",
   "execution_count": 11,
   "metadata": {
    "collapsed": false
   },
   "outputs": [],
   "source": [
    "m = csr_matrix(mat)"
   ]
  },
  {
   "cell_type": "code",
   "execution_count": 12,
   "metadata": {
    "collapsed": false
   },
   "outputs": [
    {
     "data": {
      "text/plain": [
       "<3x4 sparse matrix of type '<type 'numpy.int64'>'\n",
       "\twith 11 stored elements in Compressed Sparse Row format>"
      ]
     },
     "execution_count": 12,
     "metadata": {},
     "output_type": "execute_result"
    }
   ],
   "source": [
    "m"
   ]
  },
  {
   "cell_type": "code",
   "execution_count": 13,
   "metadata": {
    "collapsed": false
   },
   "outputs": [
    {
     "data": {
      "text/plain": [
       "array([[5, 5, 5, 5],\n",
       "       [5, 0, 5, 5],\n",
       "       [5, 5, 5, 5]])"
      ]
     },
     "execution_count": 13,
     "metadata": {},
     "output_type": "execute_result"
    }
   ],
   "source": [
    "mat"
   ]
  },
  {
   "cell_type": "code",
   "execution_count": 18,
   "metadata": {
    "collapsed": false
   },
   "outputs": [
    {
     "data": {
      "text/plain": [
       "array([[  4.99997771e+00,   5.00041069e+00,   5.00000602e+00,\n",
       "          5.00000434e+00],\n",
       "       [  5.00000477e+00,   2.28547159e-03,   4.99999871e+00,\n",
       "          4.99999907e+00],\n",
       "       [  5.00000687e+00,   4.99988914e+00,   4.99999931e+00,\n",
       "          4.99999976e+00]])"
      ]
     },
     "execution_count": 18,
     "metadata": {},
     "output_type": "execute_result"
    }
   ],
   "source": [
    "#%%time\n",
    "nmf = NMF(n_components=None, init=None, solver='cd', tol=0.0001, max_iter=2000, random_state=None,\n",
    "          alpha=0, l1_ratio=0, verbose=0, shuffle=False, nls_max_iter=2000, sparseness=None, beta=1, eta=0.1)\n",
    "\n",
    "W = nmf.fit_transform(m)\n",
    "H = nmf.components_\n",
    "W.dot(H)"
   ]
  },
  {
   "cell_type": "code",
   "execution_count": 19,
   "metadata": {
    "collapsed": false
   },
   "outputs": [],
   "source": [
    "from scipy import linalg"
   ]
  },
  {
   "cell_type": "code",
   "execution_count": 26,
   "metadata": {
    "collapsed": true
   },
   "outputs": [],
   "source": [
    "def matrix_factorization(R, K, steps=100, eps=0.0001, beta=0.02, decay=0.95):\n",
    "    N,M = np.shape(R)\n",
    "    P = np.random.rand(N,K)\n",
    "    #P = np.maximum(P, eps)\n",
    "    \n",
    "    #Q = np.random.rand(M,K).T\n",
    "    Q = linalg.lstsq(P, R)[0]\n",
    "    Q = np.maximum(Q, eps)\n",
    "\n",
    "    #masked_X = mask * X\n",
    "    #X_est_prev = dot(A, Y)\n",
    "    \n",
    "    #mask = np.sign(R)\n",
    "    #masked_R = mask * R\n",
    "    \n",
    "    \n",
    "    \n",
    "    for step in xrange(1,steps+1):\n",
    "        #\"\"\"\n",
    "        for i in xrange(len(R)):\n",
    "            for j in xrange(len(R[i])):\n",
    "                if R[i][j] > 0:\n",
    "                    eij = R[i][j] - np.dot(P[i,:],Q[:,j])\n",
    "                    P[i] = P[i] + eps * (2 * eij * Q.T[j] - beta * P[i])\n",
    "                    #Q[i] = P[i] + eps * (2 * eij * Q.T[j] - beta * P[i])\n",
    "                    Q.T[j] = Q.T[j] + eps * (2 * eij * P[i] - beta * Q.T[j])\n",
    "                    #for k in xrange(K):\n",
    "                    #    P[i][k] = P[i][k] + eps * (2 * eij * Q[k][j] - beta * P[i][k])\n",
    "                        #Q[k][j] = Q[k][j] + eps * (2 * eij * P[i][k] - beta * Q[k][j])\n",
    "        \n",
    "        \n",
    "    return P, Q.T"
   ]
  },
  {
   "cell_type": "code",
   "execution_count": 27,
   "metadata": {
    "collapsed": true
   },
   "outputs": [],
   "source": [
    "mat = np.array([[1,1,5],\n",
    "                [5,5,1],\n",
    "                [0,5,1]])"
   ]
  },
  {
   "cell_type": "code",
   "execution_count": 28,
   "metadata": {
    "collapsed": false,
    "scrolled": true
   },
   "outputs": [
    {
     "data": {
      "text/plain": [
       "array([[ 2.52061432,  0.27650964,  4.50333508],\n",
       "       [ 5.65921603,  4.45196109,  2.28235774],\n",
       "       [ 5.62792907,  4.98694106,  2.88892641]])"
      ]
     },
     "execution_count": 28,
     "metadata": {},
     "output_type": "execute_result"
    }
   ],
   "source": [
    "K = 5\n",
    "nP, nQ = matrix_factorization(mat, K, steps=1000,eps=1e-5)\n",
    "nP.dot(nQ.T)"
   ]
  },
  {
   "cell_type": "markdown",
   "metadata": {},
   "source": [
    "---"
   ]
  },
  {
   "cell_type": "markdown",
   "metadata": {},
   "source": [
    "* **u.data**: Toutes les données de jugement au format \"user id |  lm id | rating | timestamp\",\n",
    "avec les champs séparés par des tabulations\n",
    "\n",
    "* **u.links**: Les liens entre utilisateur du réseau.\n",
    "Chaque ligne concerne liens sortants d'un utilisateur.\n",
    "Une ligne commence par le numéro d'un utilisateur, suivi par tous ses successeurs dans le réseau, séparés par des tabulation."
   ]
  },
  {
   "cell_type": "code",
   "execution_count": 177,
   "metadata": {
    "collapsed": false
   },
   "outputs": [],
   "source": [
    "r_max = 5\n",
    "def f(x):\n",
    "    return (x-1)/(r_max-1)\n",
    "\n",
    "def readData(name):\n",
    "    a = np.array([i[:-2].split('\\t')[:3] for i in open(\"recodata/\"+name)])\n",
    "    # mettre les notes a l'echelle\n",
    "    a[:,2] = [f(float(i)) for i in a[:,2]]\n",
    "    return a\n",
    "\n",
    "def readLinks(name):\n",
    "    ret = []\n",
    "    for i in open(\"recodata/\"+name):\n",
    "        t = i[:-2].split('\\t')\n",
    "        a = t[0]\n",
    "        for j in t[1:]:\n",
    "            ret.append([a,j,1])\n",
    "    return np.array(ret)"
   ]
  },
  {
   "cell_type": "code",
   "execution_count": 210,
   "metadata": {
    "collapsed": false
   },
   "outputs": [],
   "source": [
    "u_data = readData(\"u.data\")\n",
    "u1_train = readData(\"u1.train\")\n",
    "u1_test = readData(\"u1.test\")\n",
    "u2_train = readData(\"u2.train\")\n",
    "u2_test = readData(\"u2.test\")\n",
    "u3_train = readData(\"u3.train\")\n",
    "u3_test = readData(\"u3.test\")\n",
    "u4_train = readData(\"u4.train\")\n",
    "u4_test = readData(\"u4.test\")\n",
    "u5_train = readData(\"u5.train\")\n",
    "u5_test = readData(\"u5.test\")\n",
    "\n",
    "u_links = readLinks(\"u.links\")"
   ]
  },
  {
   "cell_type": "code",
   "execution_count": 169,
   "metadata": {
    "collapsed": false
   },
   "outputs": [
    {
     "name": "stdout",
     "output_type": "stream",
     "text": [
      "['196' '242' '0.5']\n",
      "['1' '1' '1.0']\n",
      "['1' '6' '1.0']\n",
      "['1' '1' '1.0']\n",
      "['1' '3' '0.75']\n",
      "['1' '520' '1']\n"
     ]
    }
   ],
   "source": [
    "print(u_data[0])\n",
    "print(u1_train[0])\n",
    "print(u1_test[0])\n",
    "print(u5_train[0])\n",
    "print(u5_test[0])\n",
    "print(u_links[0])"
   ]
  },
  {
   "cell_type": "code",
   "execution_count": 140,
   "metadata": {
    "collapsed": false
   },
   "outputs": [],
   "source": [
    "tmp=[]\n",
    "for i in u_links:\n",
    "    tmp.append(i[0])"
   ]
  },
  {
   "cell_type": "code",
   "execution_count": 216,
   "metadata": {
    "collapsed": false
   },
   "outputs": [],
   "source": [
    "users=u_data[:,0]\n",
    "movies=u_data[:,1]"
   ]
  },
  {
   "cell_type": "code",
   "execution_count": 217,
   "metadata": {
    "collapsed": true
   },
   "outputs": [],
   "source": [
    "dicu={}\n",
    "for i in users:\n",
    "    dicu[i]=0\n",
    "dicm={}\n",
    "for i in movies:\n",
    "    dicm[i]=0"
   ]
  },
  {
   "cell_type": "code",
   "execution_count": 218,
   "metadata": {
    "collapsed": false
   },
   "outputs": [
    {
     "data": {
      "text/plain": [
       "943"
      ]
     },
     "execution_count": 218,
     "metadata": {},
     "output_type": "execute_result"
    }
   ],
   "source": [
    "len(dicu.keys())"
   ]
  },
  {
   "cell_type": "code",
   "execution_count": 144,
   "metadata": {
    "collapsed": false
   },
   "outputs": [
    {
     "data": {
      "text/plain": [
       "1682"
      ]
     },
     "execution_count": 144,
     "metadata": {},
     "output_type": "execute_result"
    }
   ],
   "source": [
    "len(dicm.keys())"
   ]
  },
  {
   "cell_type": "code",
   "execution_count": 145,
   "metadata": {
    "collapsed": false
   },
   "outputs": [],
   "source": [
    "rawMatrix = np.zeros((len(dicu.keys()),len(dicm.keys())))\n",
    "for l in u_data:\n",
    "    rawMatrix[int(l[0])-1][int(l[1])-1] = l[2]"
   ]
  },
  {
   "cell_type": "code",
   "execution_count": 146,
   "metadata": {
    "collapsed": false
   },
   "outputs": [
    {
     "data": {
      "text/plain": [
       "array([[ 1.  ,  0.5 ,  0.75,  0.5 ,  0.5 ,  1.  ,  0.75],\n",
       "       [ 0.75,  0.  ,  0.  ,  0.  ,  0.  ,  0.  ,  0.  ],\n",
       "       [ 0.  ,  0.  ,  0.  ,  0.  ,  0.  ,  0.  ,  0.  ],\n",
       "       [ 0.  ,  0.  ,  0.  ,  0.  ,  0.  ,  0.  ,  0.  ],\n",
       "       [ 0.75,  0.5 ,  0.  ,  0.  ,  0.  ,  0.  ,  0.  ],\n",
       "       [ 0.75,  0.  ,  0.  ,  0.  ,  0.  ,  0.  ,  0.25],\n",
       "       [ 0.  ,  0.  ,  0.  ,  1.  ,  0.  ,  0.  ,  1.  ]])"
      ]
     },
     "execution_count": 146,
     "metadata": {},
     "output_type": "execute_result"
    }
   ],
   "source": [
    "rawMatrix[:7,:7]"
   ]
  },
  {
   "cell_type": "markdown",
   "metadata": {},
   "source": [
    "# 2- Modèle SoRec"
   ]
  },
  {
   "cell_type": "code",
   "execution_count": 234,
   "metadata": {
    "collapsed": false
   },
   "outputs": [],
   "source": [
    "class soRec():\n",
    "    def __init__(self, k, eps=1e-5, lC=0.2, lU=0.2, lV=0.2, lZ=0.2, steps=10):\n",
    "        self.k = k\n",
    "        self.eps = eps\n",
    "        self.lC = lC\n",
    "        self.lU = lU\n",
    "        self.lV = lV\n",
    "        self.lZ = lZ\n",
    "        self.steps = steps\n",
    "        \n",
    "    def fit(self, users_movies, users_link):\n",
    "        self.u = {}\n",
    "        self.v = {}\n",
    "        self.z = {}\n",
    "        \n",
    "        #Choix du paramètre a optimisé en cas d'optimisation alternée\n",
    "        for i in xrange(self.steps):\n",
    "            lossUV = 0\n",
    "            lossUZ = 0\n",
    "            lossTot = 0\n",
    "            \n",
    "            for j in xrange(len(users_movies)):\n",
    "                # Factorisation de matrices users/films\n",
    "                r = np.random.randint(len(users_movies)) \n",
    "                user = users_movies[r][0]\n",
    "                movie = users_movies[r][1]\n",
    "                rating = float(users_movies[r][2])\n",
    "                try:\n",
    "                    self.u[user]\n",
    "                except KeyError:\n",
    "                    self.u[user] = np.random.rand(1,self.k)\n",
    "                try:\n",
    "                    self.v[movie]\n",
    "                except KeyError:\n",
    "                    self.v[movie] = np.random.rand(self.k,1)\n",
    "\n",
    "                e_UV = np.exp(self.u[user].dot(self.v[movie])[0][0])\n",
    "                \n",
    "                log_UV = (1.0/(1 + e_UV))\n",
    "                tmp = log_UV - rating\n",
    "                g = e_UV/((1 + e_UV))**2\n",
    "\n",
    "                self.u[user] = self.u[user] - self.eps * tmp * g * self.v[movie].transpose()\n",
    "                self.v[movie] = self.v[movie] - self.eps * tmp * g * self.u[user].transpose()\n",
    "                lossUV = lossUV + tmp*tmp/2. \n",
    "                \n",
    "                # Factorisation de matrices liens users\n",
    "                r = np.random.randint(len(users_link)) # on pourrais faire sur tout les liens par user\n",
    "                userSource = users_link[r][0]\n",
    "                userTarget = users_link[r][1]\n",
    "                linkScore  = float(users_link[r][2])\n",
    "                try:\n",
    "                    self.u[userSource]\n",
    "                except KeyError:\n",
    "                    self.u[userSource] = np.random.rand(1,self.k)\n",
    "                try:\n",
    "                    self.z[userTarget]\n",
    "                except KeyError:\n",
    "                    self.z[userTarget] = np.random.rand(self.k,1)\n",
    "                    \n",
    "                e_UZ = np.exp(self.u[userSource].dot(self.z[userTarget])[0][0])\n",
    "                log_UZ = (1.0/(1 + e_UZ))\n",
    "                tmp = log_UZ - linkScore\n",
    "                g = e_UZ/((1 + e_UZ))**2\n",
    "\n",
    "                self.u[userSource] = self.u[userSource] - self.eps * tmp * g * self.z[userTarget].transpose()\n",
    "                self.z[userTarget] = self.z[userTarget] - self.eps * tmp * g * self.u[userSource].transpose()\n",
    "                lossUZ = lossUZ + tmp*tmp/2. \n",
    "                \n",
    "                ru = np.random.choice(self.u.keys());\n",
    "                rv = np.random.choice(self.v.keys());\n",
    "                rz = np.random.choice(self.z.keys());\n",
    "                self.u[ru] = self.u[ru] * (1 - self.lU * self.eps)\n",
    "                self.v[rv] = self.v[rv] * (1 - self.lV * self.eps)\n",
    "                self.z[rz] = self.z[rz] * (1 - self.lZ * self.eps)\n",
    "                lossTot = lossTot + np.sqrt((self.u[ru]**2).sum()) + np.sqrt((self.v[rv]**2).sum()) + np.sqrt((self.z[rz]**2).sum())\n",
    "\n",
    "            if (i % 1 == 0):\n",
    "                print(\"Step %d, loss: %.04f\\nlossUV:%0.4f, lossUZ:%0.4f, lossTot:%0.4f\"\n",
    "                      %(i, (lossUV + lossUZ + lossTot) / len(users_movies),lossUV ,lossUZ ,lossTot ))\n",
    "\n",
    "                \n",
    "    def predict(self, users_movies):\n",
    "        pred = []\n",
    "        for c in users_movies:\n",
    "            try:\n",
    "                pred.append(self.u[c[0]].dot(self.v[c[1]])[0][0])\n",
    "            except KeyError:\n",
    "                pred.append(0.5)\n",
    "        return pred"
   ]
  },
  {
   "cell_type": "code",
   "execution_count": 235,
   "metadata": {
    "collapsed": false
   },
   "outputs": [
    {
     "name": "stdout",
     "output_type": "stream",
     "text": [
      "Step 0, loss: 3.2291\n",
      "lossUV:12282.9179, lossUZ:31916.4666, lossTot:278712.2773\n",
      "Step 1, loss: 2.4679\n",
      "lossUV:11674.0919, lossUZ:30673.9898, lossTot:204441.3488\n",
      "Step 2, loss: 2.2478\n",
      "lossUV:11236.4273, lossUZ:30290.6454, lossTot:183254.5028\n",
      "Step 3, loss: 2.1812\n",
      "lossUV:11313.2055, lossUZ:30017.3439, lossTot:176792.1501\n",
      "Step 4, loss: 2.1589\n",
      "lossUV:11074.6221, lossUZ:29909.8537, lossTot:174904.7560\n",
      "Step 5, loss: 2.1468\n",
      "lossUV:11044.7450, lossUZ:29920.9334, lossTot:173713.5403\n",
      "Step 6, loss: 2.1448\n",
      "lossUV:10970.8721, lossUZ:29916.6042, lossTot:173588.3108\n",
      "Step 7, loss: 2.1385\n",
      "lossUV:11015.5169, lossUZ:29906.6026, lossTot:172924.9612\n",
      "Step 8, loss: 2.1484\n",
      "lossUV:11072.8976, lossUZ:29942.7332, lossTot:173819.6622\n",
      "Step 9, loss: 2.1447\n",
      "lossUV:11056.5700, lossUZ:29921.0767, lossTot:173496.7543\n"
     ]
    }
   ],
   "source": [
    "#%%time\n",
    "model = soRec(5, eps=1e-1, steps=10)\n",
    "model.fit(u_data, u_links)"
   ]
  },
  {
   "cell_type": "code",
   "execution_count": 236,
   "metadata": {
    "collapsed": false
   },
   "outputs": [
    {
     "name": "stdout",
     "output_type": "stream",
     "text": [
      "Erreur: 0.624126429568\n"
     ]
    }
   ],
   "source": [
    "print \"Erreur:\", ((model.predict(u1_test) - np.array(np.array(u1_test)[:,2], float)) ** 2).mean()"
   ]
  },
  {
   "cell_type": "code",
   "execution_count": 225,
   "metadata": {
    "collapsed": false
   },
   "outputs": [
    {
     "name": "stdout",
     "output_type": "stream",
     "text": [
      "Step 0, loss: 3.3490\n",
      "Step 1, loss: 2.5908\n",
      "Step 2, loss: 2.3159\n",
      "Step 3, loss: 2.2075\n",
      "Step 4, loss: 2.1663\n",
      "Step 5, loss: 2.1492\n",
      "Erreur: 0.496394847345\n",
      "CPU times: user 3min 53s, sys: 669 ms, total: 3min 54s\n",
      "Wall time: 3min 54s\n"
     ]
    }
   ],
   "source": [
    "%%time\n",
    "model = soRec(5, eps=1e-1, steps=6)\n",
    "model.fit(u1_train, u_links)\n",
    "print \"Erreur:\", ((model.predict(u1_test) - np.array(np.array(u1_test)[:,2], float)) ** 2).mean()"
   ]
  },
  {
   "cell_type": "code",
   "execution_count": 228,
   "metadata": {
    "collapsed": false
   },
   "outputs": [
    {
     "name": "stdout",
     "output_type": "stream",
     "text": [
      "Step 0, loss: 3.3433\n",
      "Step 1, loss: 2.5850\n",
      "Step 2, loss: 2.3072\n",
      "Step 3, loss: 2.2071\n",
      "Step 4, loss: 2.1708\n",
      "Step 5, loss: 2.1539\n",
      "Erreur: 0.514934796902\n",
      "CPU times: user 3min 47s, sys: 355 ms, total: 3min 48s\n",
      "Wall time: 3min 48s\n"
     ]
    }
   ],
   "source": [
    "%%time\n",
    "model = soRec(5, eps=1e-1, steps=6)\n",
    "model.fit(u2_train, u_links)\n",
    "print \"Erreur:\", ((model.predict(u2_test) - np.array(np.array(u2_test)[:,2], float)) ** 2).mean()"
   ]
  },
  {
   "cell_type": "code",
   "execution_count": 229,
   "metadata": {
    "collapsed": false
   },
   "outputs": [
    {
     "name": "stdout",
     "output_type": "stream",
     "text": [
      "Step 0, loss: 3.3438\n",
      "Step 1, loss: 2.5805\n",
      "Step 2, loss: 2.3144\n",
      "Step 3, loss: 2.2157\n",
      "Step 4, loss: 2.1748\n",
      "Step 5, loss: 2.1614\n",
      "Erreur: 0.506797595625\n",
      "CPU times: user 3min 48s, sys: 378 ms, total: 3min 49s\n",
      "Wall time: 3min 49s\n"
     ]
    }
   ],
   "source": [
    "%%time\n",
    "model = soRec(5, eps=1e-1, steps=6)\n",
    "model.fit(u3_train, u_links)\n",
    "print \"Erreur:\", ((model.predict(u3_test) - np.array(np.array(u3_test)[:,2], float)) ** 2).mean()"
   ]
  },
  {
   "cell_type": "code",
   "execution_count": 230,
   "metadata": {
    "collapsed": false
   },
   "outputs": [
    {
     "name": "stdout",
     "output_type": "stream",
     "text": [
      "Step 0, loss: 3.3569\n",
      "Step 1, loss: 2.6004\n",
      "Step 2, loss: 2.3249\n",
      "Step 3, loss: 2.2222\n",
      "Step 4, loss: 2.1770\n",
      "Step 5, loss: 2.1568\n",
      "Erreur: 0.501765466611\n",
      "CPU times: user 4min, sys: 846 ms, total: 4min 1s\n",
      "Wall time: 4min 2s\n"
     ]
    }
   ],
   "source": [
    "%%time\n",
    "model = soRec(5, eps=1e-1, steps=6)\n",
    "model.fit(u4_train, u_links)\n",
    "print \"Erreur:\", ((model.predict(u4_test) - np.array(np.array(u4_test)[:,2], float)) ** 2).mean()"
   ]
  },
  {
   "cell_type": "code",
   "execution_count": 231,
   "metadata": {
    "collapsed": false
   },
   "outputs": [
    {
     "name": "stdout",
     "output_type": "stream",
     "text": [
      "Step 0, loss: 3.3437\n",
      "Step 1, loss: 2.5899\n",
      "Step 2, loss: 2.3246\n",
      "Step 3, loss: 2.2205\n",
      "Step 4, loss: 2.1804\n",
      "Step 5, loss: 2.1598\n",
      "Erreur: 0.492447201601\n",
      "CPU times: user 3min 47s, sys: 319 ms, total: 3min 48s\n",
      "Wall time: 3min 48s\n"
     ]
    }
   ],
   "source": [
    "%%time\n",
    "model = soRec(5, eps=1e-1, steps=6)\n",
    "model.fit(u5_train, u_links)\n",
    "print \"Erreur:\", ((model.predict(u5_test) - np.array(np.array(u5_test)[:,2], float)) ** 2).mean()"
   ]
  },
  {
   "cell_type": "code",
   "execution_count": null,
   "metadata": {
    "collapsed": true
   },
   "outputs": [],
   "source": []
  },
  {
   "cell_type": "code",
   "execution_count": null,
   "metadata": {
    "collapsed": true
   },
   "outputs": [],
   "source": []
  },
  {
   "cell_type": "code",
   "execution_count": null,
   "metadata": {
    "collapsed": true
   },
   "outputs": [],
   "source": []
  },
  {
   "cell_type": "code",
   "execution_count": null,
   "metadata": {
    "collapsed": true
   },
   "outputs": [],
   "source": []
  }
 ],
 "metadata": {
  "kernelspec": {
   "display_name": "Python 2",
   "language": "python",
   "name": "python2"
  },
  "language_info": {
   "codemirror_mode": {
    "name": "ipython",
    "version": 2
   },
   "file_extension": ".py",
   "mimetype": "text/x-python",
   "name": "python",
   "nbconvert_exporter": "python",
   "pygments_lexer": "ipython2",
   "version": "2.7.10"
  }
 },
 "nbformat": 4,
 "nbformat_minor": 0
}
