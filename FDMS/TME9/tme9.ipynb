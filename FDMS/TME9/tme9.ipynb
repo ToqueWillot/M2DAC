{
 "cells": [
  {
   "cell_type": "code",
   "execution_count": 1,
   "metadata": {
    "collapsed": true
   },
   "outputs": [],
   "source": [
    "%matplotlib inline\n",
    "import numpy as np\n",
    "import random\n",
    "import pandas as pd\n",
    "import matplotlib.pyplot as plt\n",
    "import seaborn as sns"
   ]
  },
  {
   "cell_type": "markdown",
   "metadata": {},
   "source": [
    "TME 9 FDMS, problèmes de bandits"
   ]
  },
  {
   "cell_type": "code",
   "execution_count": 2,
   "metadata": {
    "collapsed": false
   },
   "outputs": [],
   "source": [
    "f = open(\"./CTR.txt\")\n",
    "ctr=[]\n",
    "for i in f.readlines():\n",
    "    line = i.split(':')\n",
    "    ctr.append([int(line[0]),[float(i) for i in line[1].split(';')],[float(i) for i in line[2][:-2].split(';')]]) "
   ]
  },
  {
   "cell_type": "code",
   "execution_count": 3,
   "metadata": {
    "collapsed": false
   },
   "outputs": [
    {
     "data": {
      "text/plain": [
       "[0,\n",
       " [0.74837091377052,\n",
       "  0.8352077827766918,\n",
       "  0.07669895743095312,\n",
       "  0.17243898920810596,\n",
       "  0.14344585283799294],\n",
       " [0.10341905704918021,\n",
       "  0.19069778281037159,\n",
       "  0.0,\n",
       "  0.10240139196802925,\n",
       "  0.0363124254124334,\n",
       "  0.07456195450906297,\n",
       "  0.2347024151796051,\n",
       "  0.0,\n",
       "  0.0,\n",
       "  0.07857372422425657]]"
      ]
     },
     "execution_count": 3,
     "metadata": {},
     "output_type": "execute_result"
    }
   ],
   "source": [
    "ctr[0]"
   ]
  },
  {
   "cell_type": "code",
   "execution_count": 4,
   "metadata": {
    "collapsed": false
   },
   "outputs": [
    {
     "data": {
      "text/plain": [
       "10"
      ]
     },
     "execution_count": 4,
     "metadata": {},
     "output_type": "execute_result"
    }
   ],
   "source": [
    "nb_annonceurs=len(ctr[0][2])\n",
    "nb_annonceurs"
   ]
  },
  {
   "cell_type": "code",
   "execution_count": 5,
   "metadata": {
    "collapsed": false
   },
   "outputs": [
    {
     "data": {
      "text/plain": [
       "5"
      ]
     },
     "execution_count": 5,
     "metadata": {},
     "output_type": "execute_result"
    }
   ],
   "source": [
    "random.randint(0,nb_annonceurs-1)"
   ]
  },
  {
   "cell_type": "code",
   "execution_count": 6,
   "metadata": {
    "collapsed": true
   },
   "outputs": [],
   "source": [
    "x = [0.2,.4,.7,1.2]"
   ]
  },
  {
   "cell_type": "code",
   "execution_count": 7,
   "metadata": {
    "collapsed": false
   },
   "outputs": [
    {
     "data": {
      "image/png": "[encoded data removed]",
      "text/plain": [
       "<matplotlib.figure.Figure at 0x1097cd050>"
      ]
     },
     "metadata": {},
     "output_type": "display_data"
    }
   ],
   "source": [
    "plt.plot(np.array(range(len(x)))+1,x)\n",
    "plt.show()"
   ]
  },
  {
   "cell_type": "code",
   "execution_count": 8,
   "metadata": {
    "collapsed": true
   },
   "outputs": [],
   "source": [
    "def baseRandom(ctr):\n",
    "    trace=[]\n",
    "    score=[]\n",
    "    annonceur=[]\n",
    "    for a in ctr:\n",
    "        id=random.randint(0,nb_annonceurs-1)\n",
    "        score.append(a[2][id])\n",
    "        annonceur.append(id)\n",
    "        trace.append(np.array(score).sum())\n",
    "    return np.array(score),np.array(annonceur),trace"
   ]
  },
  {
   "cell_type": "code",
   "execution_count": 9,
   "metadata": {
    "collapsed": true
   },
   "outputs": [],
   "source": [
    "def baseStaticBest(ctr):\n",
    "    sum=np.zeros(len(ctr[0][2]))\n",
    "    for a in ctr:\n",
    "        sum+=np.array(a[2])\n",
    "    argmax=np.array(sum).argmax()\n",
    "    annonceur = np.ones(len(ctr))*argmax\n",
    "    score = np.array([i[2][argmax] for i in ctr])\n",
    "    return score,annonceur"
   ]
  },
  {
   "cell_type": "code",
   "execution_count": 10,
   "metadata": {
    "collapsed": true
   },
   "outputs": [],
   "source": [
    "def baseStaticBestCum(ctr):\n",
    "    sum=np.zeros(len(ctr[0][2]))\n",
    "    annonceur = []\n",
    "    score = []\n",
    "    trace=[]\n",
    "    for a in ctr:\n",
    "        sum+=np.array(a[2])\n",
    "        idmax = np.array(sum).argmax()\n",
    "        annonceur.append(idmax)\n",
    "        score.append(a[2][idmax])\n",
    "        trace.append(np.array(score).sum())\n",
    "    return np.array(score),np.array(annonceur),trace"
   ]
  },
  {
   "cell_type": "code",
   "execution_count": 11,
   "metadata": {
    "collapsed": true
   },
   "outputs": [],
   "source": [
    "def baseOptimal(ctr):\n",
    "    score=[]\n",
    "    annonceur=[]\n",
    "    trace=[]\n",
    "    for a in ctr:\n",
    "        id=np.array(a[2]).argmax()\n",
    "        score.append(a[2][id])\n",
    "        annonceur.append(id)\n",
    "        trace.append(np.array(score).sum())\n",
    "    return np.array(score),np.array(annonceur),trace"
   ]
  },
  {
   "cell_type": "code",
   "execution_count": 59,
   "metadata": {
    "collapsed": false
   },
   "outputs": [
    {
     "data": {
      "text/plain": [
       "400.84345747961373"
      ]
     },
     "execution_count": 59,
     "metadata": {},
     "output_type": "execute_result"
    }
   ],
   "source": [
    "score,annonceur,traceRandom = baseRandom(ctr)\n",
    "score.sum()"
   ]
  },
  {
   "cell_type": "code",
   "execution_count": 60,
   "metadata": {
    "collapsed": false
   },
   "outputs": [
    {
     "data": {
      "text/plain": [
       "1339.6350310465791"
      ]
     },
     "execution_count": 60,
     "metadata": {},
     "output_type": "execute_result"
    }
   ],
   "source": [
    "score,annonceur = baseStaticBest(ctr)\n",
    "score.sum()"
   ]
  },
  {
   "cell_type": "code",
   "execution_count": 61,
   "metadata": {
    "collapsed": false
   },
   "outputs": [
    {
     "data": {
      "text/plain": [
       "1339.8983608672656"
      ]
     },
     "execution_count": 61,
     "metadata": {},
     "output_type": "execute_result"
    }
   ],
   "source": [
    "score,annonceur,traceStaticBest = baseStaticBestCum(ctr)\n",
    "score.sum()"
   ]
  },
  {
   "cell_type": "code",
   "execution_count": 62,
   "metadata": {
    "collapsed": false
   },
   "outputs": [
    {
     "data": {
      "text/plain": [
       "1532.0032357358157"
      ]
     },
     "execution_count": 62,
     "metadata": {},
     "output_type": "execute_result"
    }
   ],
   "source": [
    "score,annonceur,traceOptimal = baseOptimal(ctr)\n",
    "score.sum()"
   ]
  },
  {
   "cell_type": "code",
   "execution_count": 63,
   "metadata": {
    "collapsed": false
   },
   "outputs": [
    {
     "data": {
      "image/png": "[encoded data removed]",
      "text/plain": [
       "<matplotlib.figure.Figure at 0x10c9182d0>"
      ]
     },
     "metadata": {},
     "output_type": "display_data"
    }
   ],
   "source": [
    "plt.plot(traceRandom, label = \"Random\")\n",
    "plt.plot(traceStaticBest, label = \"StaticBest\")\n",
    "plt.plot(traceOptimal, label = \"Optimal\")\n",
    "plt.legend()\n",
    "plt.show()"
   ]
  },
  {
   "cell_type": "markdown",
   "metadata": {},
   "source": [
    "# UCB"
   ]
  },
  {
   "cell_type": "markdown",
   "metadata": {},
   "source": [
    "Developpement de l'article UCB"
   ]
  },
  {
   "cell_type": "code",
   "execution_count": 77,
   "metadata": {
    "collapsed": true
   },
   "outputs": [],
   "source": [
    "def UCB(ctr):\n",
    "    score=[]\n",
    "    annonceur=[]\n",
    "    trace=[]\n",
    "    \n",
    "    nbAds=len(ctr[0][2])\n",
    "    weights= np.zeros(nbAds)\n",
    "    arrayS=np.zeros(nbAds)\n",
    "    t=0\n",
    "    #init------------\n",
    "    for it in np.arange(nbAds):\n",
    "        t+=1\n",
    "        arrayS[it]+=1\n",
    "        weights[it]+=ctr[it][2][it]\n",
    "    \n",
    "    \n",
    "    #algo\n",
    "    for a in ctr:\n",
    "        #calcul du argmax de literation precedente\n",
    "        mu=np.zeros(nbAds)\n",
    "        for it in np.arange(nbAds):\n",
    "            mu[it]+=weights[it]/arrayS[it]+np.square((2*np.log(t))/arrayS[it])\n",
    "        argmax = np.argmax(np.array(mu))\n",
    "        \n",
    "        #maj des valeurs\n",
    "        t+=1\n",
    "        arrayS[argmax]+=1\n",
    "        weights[argmax]+=a[2][argmax]\n",
    "        \n",
    "        score.append(a[2][argmax])\n",
    "        annonceur.append(argmax)\n",
    "        trace.append(np.array(score).sum())\n",
    "    return np.array(score),np.array(annonceur),trace\n",
    "        \n",
    " \n",
    "    "
   ]
  },
  {
   "cell_type": "code",
   "execution_count": 78,
   "metadata": {
    "collapsed": false
   },
   "outputs": [
    {
     "data": {
      "text/plain": [
       "1272.2319832867825"
      ]
     },
     "execution_count": 78,
     "metadata": {},
     "output_type": "execute_result"
    }
   ],
   "source": [
    "#calcul des scores pour UCB\n",
    "score,annonceur,UCB = UCB(ctr)\n",
    "score.sum()"
   ]
  },
  {
   "cell_type": "code",
   "execution_count": 79,
   "metadata": {
    "collapsed": false
   },
   "outputs": [
    {
     "data": {
      "image/png": "[encoded data removed]",
      "text/plain": [
       "<matplotlib.figure.Figure at 0x10e61e290>"
      ]
     },
     "metadata": {},
     "output_type": "display_data"
    }
   ],
   "source": [
    "plt.plot(traceRandom, label = \"Random\")\n",
    "plt.plot(traceStaticBest, label = \"StaticBest\")\n",
    "plt.plot(traceOptimal, label = \"Optimal\")\n",
    "plt.plot(UCB, label = \"UCB\")\n",
    "plt.legend()\n",
    "plt.show()\n",
    "#UCB cest mauvais :( ou je suis mauvais"
   ]
  },
  {
   "cell_type": "markdown",
   "metadata": {},
   "source": [
    "# Lin UCB"
   ]
  },
  {
   "cell_type": "code",
   "execution_count": null,
   "metadata": {
    "collapsed": true
   },
   "outputs": [],
   "source": [
    "def linUCB(ctr):\n",
    "    d = nb_annonceurs\n",
    "    l = []\n",
    "    A = []\n",
    "    for i in d:\n",
    "        A.append([np.identity(d), np.zeros(d)])\n",
    "        \n",
    "    for t in len(ctr):\n",
    "        for idxa,a in enumerate(t[2]):\n",
    "            theta=A[idxa][0].dot(A[idxa][1])"
   ]
  },
  {
   "cell_type": "code",
   "execution_count": null,
   "metadata": {
    "collapsed": true
   },
   "outputs": [],
   "source": []
  },
  {
   "cell_type": "code",
   "execution_count": null,
   "metadata": {
    "collapsed": true
   },
   "outputs": [],
   "source": []
  },
  {
   "cell_type": "code",
   "execution_count": null,
   "metadata": {
    "collapsed": true
   },
   "outputs": [],
   "source": []
  },
  {
   "cell_type": "code",
   "execution_count": null,
   "metadata": {
    "collapsed": true
   },
   "outputs": [],
   "source": []
  },
  {
   "cell_type": "code",
   "execution_count": 81,
   "metadata": {
    "collapsed": false
   },
   "outputs": [
    {
     "data": {
      "text/plain": [
       "array([[ 1.,  0.,  0.,  0.,  0.,  0.,  0.,  0.,  0.,  0.],\n",
       "       [ 0.,  1.,  0.,  0.,  0.,  0.,  0.,  0.,  0.,  0.],\n",
       "       [ 0.,  0.,  1.,  0.,  0.,  0.,  0.,  0.,  0.,  0.],\n",
       "       [ 0.,  0.,  0.,  1.,  0.,  0.,  0.,  0.,  0.,  0.],\n",
       "       [ 0.,  0.,  0.,  0.,  1.,  0.,  0.,  0.,  0.,  0.],\n",
       "       [ 0.,  0.,  0.,  0.,  0.,  1.,  0.,  0.,  0.,  0.],\n",
       "       [ 0.,  0.,  0.,  0.,  0.,  0.,  1.,  0.,  0.,  0.],\n",
       "       [ 0.,  0.,  0.,  0.,  0.,  0.,  0.,  1.,  0.,  0.],\n",
       "       [ 0.,  0.,  0.,  0.,  0.,  0.,  0.,  0.,  1.,  0.],\n",
       "       [ 0.,  0.,  0.,  0.,  0.,  0.,  0.,  0.,  0.,  1.]])"
      ]
     },
     "execution_count": 81,
     "metadata": {},
     "output_type": "execute_result"
    }
   ],
   "source": [
    "np.identity(10)"
   ]
  },
  {
   "cell_type": "code",
   "execution_count": 140,
   "metadata": {
    "collapsed": false
   },
   "outputs": [
    {
     "data": {
      "text/plain": [
       "array([ 0.,  0.,  0.,  0.,  0.,  0.,  0.,  0.,  0.,  0.])"
      ]
     },
     "execution_count": 140,
     "metadata": {},
     "output_type": "execute_result"
    }
   ],
   "source": [
    "np.identity(10).dot(np.zeros(10))"
   ]
  },
  {
   "cell_type": "code",
   "execution_count": 136,
   "metadata": {
    "collapsed": false
   },
   "outputs": [
    {
     "data": {
      "text/plain": [
       "array([[ 0.,  0.],\n",
       "       [ 0.,  0.]])"
      ]
     },
     "execution_count": 136,
     "metadata": {},
     "output_type": "execute_result"
    }
   ],
   "source": [
    "np.zeros([2,2])"
   ]
  },
  {
   "cell_type": "code",
   "execution_count": null,
   "metadata": {
    "collapsed": true
   },
   "outputs": [],
   "source": []
  },
  {
   "cell_type": "code",
   "execution_count": null,
   "metadata": {
    "collapsed": true
   },
   "outputs": [],
   "source": []
  },
  {
   "cell_type": "code",
   "execution_count": null,
   "metadata": {
    "collapsed": true
   },
   "outputs": [],
   "source": []
  },
  {
   "cell_type": "code",
   "execution_count": null,
   "metadata": {
    "collapsed": true
   },
   "outputs": [],
   "source": []
  },
  {
   "cell_type": "code",
   "execution_count": null,
   "metadata": {
    "collapsed": true
   },
   "outputs": [],
   "source": []
  },
  {
   "cell_type": "code",
   "execution_count": null,
   "metadata": {
    "collapsed": true
   },
   "outputs": [],
   "source": []
  },
  {
   "cell_type": "code",
   "execution_count": null,
   "metadata": {
    "collapsed": true
   },
   "outputs": [],
   "source": []
  }
 ],
 "metadata": {
  "kernelspec": {
   "display_name": "Python 2",
   "language": "python",
   "name": "python2"
  },
  "language_info": {
   "codemirror_mode": {
    "name": "ipython",
    "version": 2
   },
   "file_extension": ".py",
   "mimetype": "text/x-python",
   "name": "python",
   "nbconvert_exporter": "python",
   "pygments_lexer": "ipython2",
   "version": "2.7.10"
  }
 },
 "nbformat": 4,
 "nbformat_minor": 0
}
