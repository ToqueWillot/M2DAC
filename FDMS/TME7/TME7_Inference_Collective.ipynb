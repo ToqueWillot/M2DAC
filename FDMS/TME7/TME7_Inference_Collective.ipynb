{
 "cells": [
  {
   "cell_type": "code",
   "execution_count": 81,
   "metadata": {
    "collapsed": true
   },
   "outputs": [],
   "source": [
    "import numpy as np\n",
    "import random\n",
    "import pandas as pd"
   ]
  },
  {
   "cell_type": "markdown",
   "metadata": {},
   "source": [
    "# Lire le contenu des Pages Web et leurs classes"
   ]
  },
  {
   "cell_type": "code",
   "execution_count": 73,
   "metadata": {
    "collapsed": true
   },
   "outputs": [],
   "source": [
    "cornell_content_file = open(\"WebKB/content/cornell.content\")\n",
    "cornell_content={}\n",
    "for i in cornell_content_file.readlines():\n",
    "    line = i.split('\\t')\n",
    "    cornell_content[line[0]]=[line[1:-1],line[-1][:-1]]"
   ]
  },
  {
   "cell_type": "code",
   "execution_count": 77,
   "metadata": {
    "collapsed": false
   },
   "outputs": [
    {
     "data": {
      "text/plain": [
       "'student'"
      ]
     },
     "execution_count": 77,
     "metadata": {},
     "output_type": "execute_result"
    }
   ],
   "source": [
    "cornell_content['http://cam.cornell.edu/ph/index.html'][1]"
   ]
  },
  {
   "cell_type": "markdown",
   "metadata": {},
   "source": [
    "# Lire les liens entre page webs"
   ]
  },
  {
   "cell_type": "code",
   "execution_count": 13,
   "metadata": {
    "collapsed": false
   },
   "outputs": [],
   "source": [
    "cornell_cites = open(\"WebKB/cites/cornell.cites\")\n",
    "cornell_cites_links=[i.split(' ') for i in cornell_cites.readlines()]"
   ]
  },
  {
   "cell_type": "code",
   "execution_count": 14,
   "metadata": {
    "collapsed": false
   },
   "outputs": [
    {
     "data": {
      "text/plain": [
       "['http://cam.cornell.edu/~baggett/index.html',\n",
       " 'http://www.cs.cornell.edu/info/people/lnt/lnt.html\\n']"
      ]
     },
     "execution_count": 14,
     "metadata": {},
     "output_type": "execute_result"
    }
   ],
   "source": [
    "cornell_cites_links"
   ]
  },
  {
   "cell_type": "markdown",
   "metadata": {},
   "source": [
    "## Creer un dictionnaire pour les liens "
   ]
  },
  {
   "cell_type": "code",
   "execution_count": 54,
   "metadata": {
    "collapsed": false
   },
   "outputs": [],
   "source": [
    "def dic_next_prec(links):\n",
    "    dico={}\n",
    "    for i in links:\n",
    "        if(not dico.has_key(i[0])):\n",
    "           dico[i[0]]=[i[1]]\n",
    "        else:\n",
    "           dico[i[0]].append(i[1])\n",
    "    return dico\n",
    "\n",
    "def dic_prec_next(links):\n",
    "    dico={}\n",
    "    for i in links:\n",
    "        if(not dico.has_key(i[1])):\n",
    "           dico[i[1]]=[i[0]]\n",
    "        else:\n",
    "           dico[i[1]].append(i[0])\n",
    "    return dico\n",
    "           "
   ]
  },
  {
   "cell_type": "code",
   "execution_count": 55,
   "metadata": {
    "collapsed": false
   },
   "outputs": [],
   "source": [
    "dico_cornell_cites_prec_next=dic_prec_next(cornell_cites_links)"
   ]
  },
  {
   "cell_type": "code",
   "execution_count": 56,
   "metadata": {
    "collapsed": false
   },
   "outputs": [
    {
     "data": {
      "text/plain": [
       "['http://www.cs.cornell.edu/info/people/vavasis/vavasis.html\\n']"
      ]
     },
     "execution_count": 56,
     "metadata": {},
     "output_type": "execute_result"
    }
   ],
   "source": [
    "dico_cornell_cites_prec_next['http://cam.cornell.edu/ph/index.html']"
   ]
  },
  {
   "cell_type": "markdown",
   "metadata": {},
   "source": [
    "# ALGOOO"
   ]
  },
  {
   "cell_type": "markdown",
   "metadata": {},
   "source": [
    "### Création de données avec 10% de labels NON connus"
   ]
  },
  {
   "cell_type": "code",
   "execution_count": 127,
   "metadata": {
    "collapsed": true
   },
   "outputs": [],
   "source": [
    "#IACA correspond à inconnu à cette adresse (label non connu)\n",
    "cornell_content_file = open(\"WebKB/content/cornell.content\")\n",
    "cornell_content_arr=[]\n",
    "p = 0.2\n",
    "for i in cornell_content_file.readlines():\n",
    "    line = i.split('\\t')\n",
    "    if(random.random()<=p):\n",
    "        cornell_content_arr.append([line[0],line[1:-1],'IACA'])\n",
    "    else:\n",
    "        cornell_content_arr.append([line[0],line[1:-1],line[-1][:-1]])"
   ]
  },
  {
   "cell_type": "code",
   "execution_count": 141,
   "metadata": {
    "collapsed": false
   },
   "outputs": [],
   "source": [
    "#pd.DataFrame(cornell_content_arr)\n"
   ]
  },
  {
   "cell_type": "markdown",
   "metadata": {},
   "source": [
    "## Classification SVM multi classes"
   ]
  },
  {
   "cell_type": "code",
   "execution_count": 129,
   "metadata": {
    "collapsed": true
   },
   "outputs": [],
   "source": [
    "from sklearn import svm"
   ]
  },
  {
   "cell_type": "code",
   "execution_count": 130,
   "metadata": {
    "collapsed": true
   },
   "outputs": [],
   "source": [
    "#creation du X et du Y (trainingset)\n",
    "X=[]\n",
    "y=[]\n",
    "for i in cornell_content_arr:\n",
    "    if(i[2]!='IACA'):\n",
    "        X.append(i[1])\n",
    "        y.append(i[2])\n",
    "        "
   ]
  },
  {
   "cell_type": "code",
   "execution_count": 131,
   "metadata": {
    "collapsed": false
   },
   "outputs": [
    {
     "data": {
      "text/plain": [
       "SVC(C=1.0, cache_size=200, class_weight=None, coef0=0.0, degree=3, gamma=0.0,\n",
       "  kernel='rbf', max_iter=-1, probability=False, random_state=None,\n",
       "  shrinking=True, tol=0.001, verbose=False)"
      ]
     },
     "execution_count": 131,
     "metadata": {},
     "output_type": "execute_result"
    }
   ],
   "source": [
    "clf= svm.SVC()\n",
    "clf.fit(X, y) "
   ]
  },
  {
   "cell_type": "code",
   "execution_count": 132,
   "metadata": {
    "collapsed": false
   },
   "outputs": [
    {
     "data": {
      "text/plain": [
       "array(['student'], \n",
       "      dtype='|S7')"
      ]
     },
     "execution_count": 132,
     "metadata": {},
     "output_type": "execute_result"
    }
   ],
   "source": [
    "clf.predict([cornell_content_arr[4][1]])\n"
   ]
  },
  {
   "cell_type": "code",
   "execution_count": 139,
   "metadata": {
    "collapsed": false
   },
   "outputs": [
    {
     "name": "stdout",
     "output_type": "stream",
     "text": [
      "('student', 'student')\n",
      "('student', 'staff')\n",
      "('student', 'course')\n",
      "('student', 'course')\n",
      "('student', 'course')\n",
      "('student', 'faculty')\n",
      "('student', 'faculty')\n",
      "('student', 'staff')\n",
      "('student', 'student')\n",
      "('student', 'student')\n",
      "('student', 'student')\n",
      "('student', 'student')\n",
      "('student', 'faculty')\n",
      "('student', 'student')\n",
      "('student', 'student')\n",
      "('student', 'student')\n",
      "('student', 'student')\n",
      "('student', 'student')\n",
      "('student', 'faculty')\n",
      "('student', 'student')\n",
      "('student', 'staff')\n",
      "('student', 'student')\n",
      "('student', 'faculty')\n",
      "('student', 'staff')\n",
      "('student', 'staff')\n",
      "('student', 'student')\n",
      "('student', 'student')\n",
      "('student', 'student')\n",
      "('student', 'project')\n",
      "('student', 'faculty')\n",
      "('student', 'student')\n",
      "('student', 'project')\n",
      "('student', 'project')\n",
      "('pourcentage bonne classification', 0.48484848484848486)\n"
     ]
    }
   ],
   "source": [
    "nbIACA=0\n",
    "goodR=0\n",
    "for i in cornell_content_arr:\n",
    "    if(i[2]=='IACA'):\n",
    "        print(clf.predict(i[1])[0],cornell_content[i[0]][1])\n",
    "        if (clf.predict(i[1])[0]==cornell_content[i[0]][1]):\n",
    "            goodR+=1\n",
    "        nbIACA+=1\n",
    "print(\"pourcentage bonne classification\", goodR*1.0/nbIACA)"
   ]
  },
  {
   "cell_type": "code",
   "execution_count": null,
   "metadata": {
    "collapsed": true
   },
   "outputs": [],
   "source": []
  },
  {
   "cell_type": "code",
   "execution_count": null,
   "metadata": {
    "collapsed": true
   },
   "outputs": [],
   "source": []
  },
  {
   "cell_type": "markdown",
   "metadata": {},
   "source": [
    "# ICA"
   ]
  },
  {
   "cell_type": "code",
   "execution_count": null,
   "metadata": {
    "collapsed": true
   },
   "outputs": [],
   "source": [
    "#bootstrapping\n",
    "for i in unknow:\n",
    "    "
   ]
  }
 ],
 "metadata": {
  "kernelspec": {
   "display_name": "Python 2",
   "language": "python",
   "name": "python2"
  },
  "language_info": {
   "codemirror_mode": {
    "name": "ipython",
    "version": 2
   },
   "file_extension": ".py",
   "mimetype": "text/x-python",
   "name": "python",
   "nbconvert_exporter": "python",
   "pygments_lexer": "ipython2",
   "version": "2.7.10"
  }
 },
 "nbformat": 4,
 "nbformat_minor": 0
}
