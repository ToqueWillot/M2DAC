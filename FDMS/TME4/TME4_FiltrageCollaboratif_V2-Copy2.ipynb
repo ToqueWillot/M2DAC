{
 "cells": [
  {
   "cell_type": "code",
   "execution_count": 1,
   "metadata": {
    "collapsed": true
   },
   "outputs": [],
   "source": [
    "from random import random\n",
    "import math\n",
    "import numpy as np\n",
    "import copy"
   ]
  },
  {
   "cell_type": "code",
   "execution_count": 2,
   "metadata": {
    "collapsed": false
   },
   "outputs": [],
   "source": [
    "def loadMovieLens(path='./data/movielens'):\n",
    "    #Get movie titles\n",
    "    movies={}\n",
    "    rev_movies={}\n",
    "    for idx,line in enumerate(open(path+'/u.item')):\n",
    "        idx,title=line.split('|')[0:2]\n",
    "        movies[idx]=title\n",
    "        rev_movies[title]=idx\n",
    "\n",
    "    # Load data\n",
    "    prefs={}\n",
    "    for line in open(path+'/u.data'):\n",
    "        (user,movieid,rating,ts)=line.split('\\t')\n",
    "        prefs.setdefault(user,{})\n",
    "        prefs[user][movies[movieid]]=float(rating)\n",
    "        \n",
    "    return prefs,rev_movies"
   ]
  },
  {
   "cell_type": "code",
   "execution_count": 3,
   "metadata": {
    "collapsed": false
   },
   "outputs": [],
   "source": [
    "data,movies = loadMovieLens(\"data/ml-100k\")"
   ]
  },
  {
   "cell_type": "code",
   "execution_count": 4,
   "metadata": {
    "collapsed": false
   },
   "outputs": [
    {
     "data": {
      "text/plain": [
       "{'187 (1997)': 2.0,\n",
       " 'Air Force One (1997)': 2.0,\n",
       " 'Alien: Resurrection (1997)': 3.0,\n",
       " 'Apostle, The (1997)': 4.0,\n",
       " 'Bean (1997)': 2.0,\n",
       " 'Boogie Nights (1997)': 5.0,\n",
       " 'Chasing Amy (1997)': 3.0,\n",
       " 'Conspiracy Theory (1997)': 5.0,\n",
       " 'Contact (1997)': 2.0,\n",
       " 'Cop Land (1997)': 4.0,\n",
       " 'Crash (1996)': 1.0,\n",
       " 'Critical Care (1997)': 1.0,\n",
       " \"Dante's Peak (1997)\": 2.0,\n",
       " 'Deconstructing Harry (1997)': 3.0,\n",
       " 'Deep Rising (1998)': 1.0,\n",
       " 'Desperate Measures (1998)': 4.0,\n",
       " \"Devil's Advocate, The (1997)\": 3.0,\n",
       " \"Devil's Own, The (1997)\": 1.0,\n",
       " 'Edge, The (1997)': 4.0,\n",
       " 'Event Horizon (1997)': 4.0,\n",
       " 'Everyone Says I Love You (1996)': 2.0,\n",
       " 'Fallen (1998)': 3.0,\n",
       " 'G.I. Jane (1997)': 2.0,\n",
       " 'Game, The (1997)': 2.0,\n",
       " 'Good Will Hunting (1997)': 2.0,\n",
       " 'Hard Rain (1998)': 3.0,\n",
       " 'Hoodlum (1997)': 3.0,\n",
       " 'House of Yes, The (1997)': 1.0,\n",
       " 'How to Be a Player (1997)': 1.0,\n",
       " 'In the Name of the Father (1993)': 2.0,\n",
       " 'Jackie Brown (1997)': 5.0,\n",
       " 'Kiss the Girls (1997)': 1.0,\n",
       " 'L.A. Confidential (1997)': 2.0,\n",
       " 'Liar Liar (1997)': 2.0,\n",
       " 'Lost Highway (1997)': 2.0,\n",
       " 'Mad City (1997)': 3.0,\n",
       " 'Man Who Knew Too Little, The (1997)': 4.0,\n",
       " 'Mimic (1997)': 2.0,\n",
       " 'Mother (1996)': 5.0,\n",
       " 'Murder at 1600 (1997)': 3.0,\n",
       " 'Paradise Lost: The Child Murders at Robin Hood Hills (1996)': 5.0,\n",
       " 'Playing God (1997)': 1.0,\n",
       " 'Prophecy II, The (1998)': 3.0,\n",
       " 'Return of the Jedi (1983)': 4.0,\n",
       " \"Schindler's List (1993)\": 4.0,\n",
       " 'Scream (1996)': 2.0,\n",
       " 'Sphere (1998)': 3.0,\n",
       " 'Spice World (1997)': 2.0,\n",
       " 'Starship Troopers (1997)': 3.0,\n",
       " 'U Turn (1997)': 3.0,\n",
       " \"Ulee's Gold (1997)\": 3.0,\n",
       " 'Wag the Dog (1997)': 5.0,\n",
       " 'Wedding Singer, The (1998)': 3.0}"
      ]
     },
     "execution_count": 4,
     "metadata": {},
     "output_type": "execute_result"
    }
   ],
   "source": [
    "data['3']"
   ]
  },
  {
   "cell_type": "code",
   "execution_count": 5,
   "metadata": {
    "collapsed": true
   },
   "outputs": [],
   "source": [
    "def getRawArray(data):\n",
    "    d = []\n",
    "    for u in data.keys():\n",
    "        for i in data[u].keys():\n",
    "            d.append([u,i,data[u][i]])\n",
    "    return np.array(d)"
   ]
  },
  {
   "cell_type": "code",
   "execution_count": 6,
   "metadata": {
    "collapsed": true
   },
   "outputs": [],
   "source": [
    "# splitting while avoiding to reduce the dataset too much\n",
    "def split_train_test(data,percent_test):\n",
    "    test={}\n",
    "    train={}\n",
    "    movie={}\n",
    "    for u in data.keys():\n",
    "        test.setdefault(u,{})\n",
    "        train.setdefault(u,{})\n",
    "        for movie in data[u]:\n",
    "            #print(data[u][movie])\n",
    "            if (random()<percent_test):\n",
    "                test[u][movie]=data[u][movie]\n",
    "            else:\n",
    "                train[u][movie]=data[u][movie]\n",
    "    return train, test"
   ]
  },
  {
   "cell_type": "code",
   "execution_count": 7,
   "metadata": {
    "collapsed": true
   },
   "outputs": [],
   "source": [
    "def split_train_test_by_movies(data,percent_test):\n",
    "    test={}\n",
    "    train={}\n",
    "    movie={}\n",
    "    for u in data.keys():\n",
    "        for movie in data[u]:\n",
    "            if (random()<percent_test):\n",
    "                try:\n",
    "                    test[movie][u]=data[u][movie]\n",
    "                except KeyError:\n",
    "                    test.setdefault(movie,{})\n",
    "                    test[movie][u]=data[u][movie]\n",
    "            else:\n",
    "                try:\n",
    "                    train[movie][u]=data[u][movie]\n",
    "                except KeyError:\n",
    "                    train.setdefault(movie,{})\n",
    "                    train[movie][u]=data[u][movie]\n",
    "    return train, test"
   ]
  },
  {
   "cell_type": "code",
   "execution_count": 8,
   "metadata": {
    "collapsed": true
   },
   "outputs": [],
   "source": [
    "percent_test=0.2\n",
    "train,test=split_train_test(data,percent_test)"
   ]
  },
  {
   "cell_type": "code",
   "execution_count": 9,
   "metadata": {
    "collapsed": false
   },
   "outputs": [],
   "source": [
    "percent_test=0.2\n",
    "m_train,m_test=split_train_test_by_movies(data,percent_test)"
   ]
  },
  {
   "cell_type": "code",
   "execution_count": 10,
   "metadata": {
    "collapsed": false
   },
   "outputs": [],
   "source": [
    "def deleteUnseenInTest(train,test):\n",
    "    for k in test.keys():\n",
    "        try:\n",
    "            train[k]\n",
    "        except KeyError:\n",
    "            test.pop(k,None)"
   ]
  },
  {
   "cell_type": "code",
   "execution_count": 11,
   "metadata": {
    "collapsed": true
   },
   "outputs": [],
   "source": [
    "deleteUnseenInTest(train,test)\n",
    "deleteUnseenInTest(m_train,m_test)"
   ]
  },
  {
   "cell_type": "code",
   "execution_count": 12,
   "metadata": {
    "collapsed": true
   },
   "outputs": [],
   "source": [
    "rawArray = getRawArray(data)\n",
    "rawArrayTest = getRawArray(test)"
   ]
  },
  {
   "cell_type": "markdown",
   "metadata": {},
   "source": [
    "---"
   ]
  },
  {
   "cell_type": "markdown",
   "metadata": {},
   "source": [
    "## Baseline: mean by user"
   ]
  },
  {
   "cell_type": "code",
   "execution_count": 13,
   "metadata": {
    "collapsed": true
   },
   "outputs": [],
   "source": [
    "class baselineMeanUser:\n",
    "    def __init__(self):\n",
    "        self.users={}\n",
    "    def fit(self,train):\n",
    "        for user in train.keys():\n",
    "            note=0.0\n",
    "            for movie in train[user].keys():\n",
    "                note+=train[user][movie]\n",
    "            note=note/len(train[user])\n",
    "            self.users[user]=note\n",
    "        \n",
    "    def predict(self,users):\n",
    "        return [self.users[u] for u in users]"
   ]
  },
  {
   "cell_type": "code",
   "execution_count": 14,
   "metadata": {
    "collapsed": false
   },
   "outputs": [
    {
     "name": "stdout",
     "output_type": "stream",
     "text": [
      "Mean Error 1.065301\n"
     ]
    }
   ],
   "source": [
    "baseline_mu= baselineMeanUser()\n",
    "baseline_mu.fit(train)\n",
    "pred = baseline_mu.predict(rawArray[:,0])\n",
    "print(\"Mean Error %0.6f\" %(\n",
    "        (np.array(pred) - np.array(rawArray[:,2], float)) ** 2).mean())"
   ]
  },
  {
   "cell_type": "code",
   "execution_count": 15,
   "metadata": {
    "collapsed": false
   },
   "outputs": [],
   "source": [
    "class baselineMeanMovie:\n",
    "    def __init__(self):\n",
    "        self.movies={}\n",
    "    def fit(self,train):\n",
    "        for movie in train.keys():\n",
    "            note=0.0\n",
    "            for user in train[movie].keys():\n",
    "                note+=train[movie][user]\n",
    "            note=note/len(train[movie])\n",
    "            self.movies[movie]=note\n",
    "        \n",
    "    def predict(self,movies):\n",
    "        res=[]\n",
    "        for m in movies:\n",
    "            try:\n",
    "                res.append(self.movies[m])\n",
    "            except:\n",
    "                res.append(3)\n",
    "        return res"
   ]
  },
  {
   "cell_type": "code",
   "execution_count": 16,
   "metadata": {
    "collapsed": false
   },
   "outputs": [
    {
     "name": "stdout",
     "output_type": "stream",
     "text": [
      "Mean Error 1.004342\n"
     ]
    }
   ],
   "source": [
    "baseline_mm= baselineMeanMovie()\n",
    "baseline_mm.fit(m_train)\n",
    "pred = baseline_mm.predict(rawArrayTest[:,1])\n",
    "print(\"Mean Error %0.6f\" %(\n",
    "        (np.array(pred) - np.array(rawArrayTest[:,2], float)) ** 2).mean())"
   ]
  },
  {
   "cell_type": "code",
   "execution_count": 17,
   "metadata": {
    "collapsed": false,
    "scrolled": true
   },
   "outputs": [
    {
     "data": {
      "text/plain": [
       "{'109': 4.0,\n",
       " '125': 4.0,\n",
       " '274': 4.0,\n",
       " '592': 2.0,\n",
       " '648': 2.0,\n",
       " '83': 3.0,\n",
       " '887': 5.0,\n",
       " '911': 4.0,\n",
       " '919': 3.0}"
      ]
     },
     "execution_count": 17,
     "metadata": {},
     "output_type": "execute_result"
    }
   ],
   "source": [
    "m_test['Adventures of Pinocchio, The (1996)']"
   ]
  },
  {
   "cell_type": "code",
   "execution_count": 18,
   "metadata": {
    "collapsed": false
   },
   "outputs": [
    {
     "data": {
      "text/plain": [
       "array([['344', 'Birdcage, The (1996)', '4.0'],\n",
       "       ['344', 'Enchanted April (1991)', '4.0'],\n",
       "       ['344', 'Diabolique (1996)', '2.0'],\n",
       "       ['344', 'Face/Off (1997)', '4.0'],\n",
       "       ['344', 'My Fellow Americans (1996)', '3.0']], \n",
       "      dtype='|S81')"
      ]
     },
     "execution_count": 18,
     "metadata": {},
     "output_type": "execute_result"
    }
   ],
   "source": [
    "rawArray[:5]"
   ]
  },
  {
   "cell_type": "code",
   "execution_count": 19,
   "metadata": {
    "collapsed": false
   },
   "outputs": [
    {
     "data": {
      "text/plain": [
       "230"
      ]
     },
     "execution_count": 19,
     "metadata": {},
     "output_type": "execute_result"
    }
   ],
   "source": [
    "len(m_train['Birdcage, The (1996)'])"
   ]
  },
  {
   "cell_type": "markdown",
   "metadata": {},
   "source": [
    "---"
   ]
  },
  {
   "cell_type": "code",
   "execution_count": 20,
   "metadata": {
    "collapsed": false
   },
   "outputs": [
    {
     "name": "stdout",
     "output_type": "stream",
     "text": [
      "1664\n",
      "943\n"
     ]
    }
   ],
   "source": [
    "print(len(movies))\n",
    "print(len(data.keys()))"
   ]
  },
  {
   "cell_type": "code",
   "execution_count": 21,
   "metadata": {
    "collapsed": false
   },
   "outputs": [
    {
     "data": {
      "text/plain": [
       "'1060'"
      ]
     },
     "execution_count": 21,
     "metadata": {},
     "output_type": "execute_result"
    }
   ],
   "source": [
    "movies[\"Adventures of Pinocchio, The (1996)\"]"
   ]
  },
  {
   "cell_type": "code",
   "execution_count": 22,
   "metadata": {
    "collapsed": false
   },
   "outputs": [],
   "source": [
    "rawMatrix = np.zeros((len(data.keys())+1,1682+1))\n",
    "for u in data:\n",
    "    for m in data[u]:\n",
    "        rawMatrix[int(u)][int(movies[m])] = data[u][m]"
   ]
  },
  {
   "cell_type": "code",
   "execution_count": 23,
   "metadata": {
    "collapsed": false
   },
   "outputs": [
    {
     "data": {
      "text/plain": [
       "(944, 1683)"
      ]
     },
     "execution_count": 23,
     "metadata": {},
     "output_type": "execute_result"
    }
   ],
   "source": [
    "np.shape(rawMatrix)"
   ]
  },
  {
   "cell_type": "code",
   "execution_count": 24,
   "metadata": {
    "collapsed": false
   },
   "outputs": [
    {
     "data": {
      "text/plain": [
       "2.0"
      ]
     },
     "execution_count": 24,
     "metadata": {},
     "output_type": "execute_result"
    }
   ],
   "source": [
    "train[\"1\"][\"101 Dalmatians (1996)\"]"
   ]
  },
  {
   "cell_type": "code",
   "execution_count": 25,
   "metadata": {
    "collapsed": false
   },
   "outputs": [],
   "source": [
    "rawMatrixTrain = np.zeros((len(data.keys())+1,1682+1))\n",
    "for u in train:\n",
    "    for m in train[u]:\n",
    "        rawMatrixTrain[int(u)][int(movies[m])] = train[u][m]\n",
    "        \n",
    "rawMatrixTest = np.zeros((len(data.keys())+1,1682+1))\n",
    "for u in test:\n",
    "    for m in test[u]:\n",
    "        rawMatrixTest[int(u)][int(movies[m])] = test[u][m]"
   ]
  },
  {
   "cell_type": "code",
   "execution_count": 26,
   "metadata": {
    "collapsed": false
   },
   "outputs": [
    {
     "data": {
      "text/plain": [
       "array([[ 0.,  0.,  0.,  0.,  0.,  0.,  0.,  0.,  0.,  0.],\n",
       "       [ 0.,  5.,  3.,  0.,  3.,  3.,  0.,  0.,  1.,  5.],\n",
       "       [ 0.,  0.,  0.,  0.,  0.,  0.,  0.,  0.,  0.,  0.],\n",
       "       [ 0.,  0.,  0.,  0.,  0.,  0.,  0.,  0.,  0.,  0.],\n",
       "       [ 0.,  0.,  0.,  0.,  0.,  0.,  0.,  0.,  0.,  0.],\n",
       "       [ 0.,  4.,  3.,  0.,  0.,  0.,  0.,  0.,  0.,  0.],\n",
       "       [ 0.,  4.,  0.,  0.,  0.,  0.,  0.,  2.,  4.,  4.],\n",
       "       [ 0.,  0.,  0.,  0.,  5.,  0.,  0.,  5.,  5.,  5.],\n",
       "       [ 0.,  0.,  0.,  0.,  0.,  0.,  0.,  3.,  0.,  0.],\n",
       "       [ 0.,  0.,  0.,  0.,  0.,  0.,  5.,  4.,  0.,  0.]])"
      ]
     },
     "execution_count": 26,
     "metadata": {},
     "output_type": "execute_result"
    }
   ],
   "source": [
    "rawMatrixTrain[:10,:10]"
   ]
  },
  {
   "cell_type": "code",
   "execution_count": 27,
   "metadata": {
    "collapsed": false
   },
   "outputs": [
    {
     "data": {
      "text/plain": [
       "array([[ 0.,  0.,  0.,  0.,  0.,  0.,  0.,  0.,  0.,  0.],\n",
       "       [ 0.,  0.,  0.,  4.,  0.,  0.,  5.,  4.,  0.,  0.],\n",
       "       [ 0.,  4.,  0.,  0.,  0.,  0.,  0.,  0.,  0.,  0.],\n",
       "       [ 0.,  0.,  0.,  0.,  0.,  0.,  0.,  0.,  0.,  0.],\n",
       "       [ 0.,  0.,  0.,  0.,  0.,  0.,  0.,  0.,  0.,  0.],\n",
       "       [ 0.,  0.,  0.,  0.,  0.,  0.,  0.,  0.,  0.,  0.],\n",
       "       [ 0.,  0.,  0.,  0.,  0.,  0.,  0.,  0.,  0.,  0.],\n",
       "       [ 0.,  0.,  0.,  0.,  0.,  0.,  0.,  0.,  0.,  0.],\n",
       "       [ 0.,  0.,  0.,  0.,  0.,  0.,  0.,  0.,  0.,  0.],\n",
       "       [ 0.,  0.,  0.,  0.,  0.,  0.,  0.,  0.,  0.,  0.]])"
      ]
     },
     "execution_count": 27,
     "metadata": {},
     "output_type": "execute_result"
    }
   ],
   "source": [
    "rawMatrixTest[:10,:10]"
   ]
  },
  {
   "cell_type": "code",
   "execution_count": 28,
   "metadata": {
    "collapsed": false
   },
   "outputs": [
    {
     "data": {
      "text/plain": [
       "(944, 1683)"
      ]
     },
     "execution_count": 28,
     "metadata": {},
     "output_type": "execute_result"
    }
   ],
   "source": [
    "np.shape(rawMatrixTest)"
   ]
  },
  {
   "cell_type": "code",
   "execution_count": 30,
   "metadata": {
    "collapsed": false
   },
   "outputs": [],
   "source": [
    "import numpy as np\n",
    "from scipy import linalg\n",
    "from numpy import dot\n",
    "\n",
    "def nmf(X, latent_features, max_iter=100, error_limit=1e-6, fit_error_limit=1e-6, eps = 1e-5):\n",
    "    \"\"\"\n",
    "    Decompose X to A*Y\n",
    "    \"\"\"\n",
    "    eps = 1e-5\n",
    "    print 'Starting NMF decomposition with {} latent features and {} iterations.'.format(latent_features, max_iter)\n",
    "    #X = X.toarray()  # I am passing in a scipy sparse matrix\n",
    "\n",
    "    # mask\n",
    "    mask = np.sign(X)\n",
    "\n",
    "    # initial matrices. A is random [0,1] and Y is A\\X.\n",
    "    rows, columns = X.shape\n",
    "    A = np.random.rand(rows, latent_features)\n",
    "    A = np.maximum(A, eps)\n",
    "\n",
    "    Y = linalg.lstsq(A, X)[0]\n",
    "    Y = np.maximum(Y, eps)\n",
    "\n",
    "    masked_X = mask * X\n",
    "    X_est_prev = dot(A, Y)\n",
    "    for i in range(1, max_iter + 1):\n",
    "        # updates\n",
    "        top = dot(masked_X, Y.T)\n",
    "        bottom = (dot((mask * dot(A, Y)), Y.T)) + eps\n",
    "        A *= top / bottom\n",
    "\n",
    "        A = np.maximum(A, eps)\n",
    "        # print 'A',  np.round(A, 2)\n",
    "\n",
    "        top = dot(A.T, masked_X)\n",
    "        bottom = dot(A.T, mask * dot(A, Y)) + eps\n",
    "        Y *= top / bottom\n",
    "        Y = np.maximum(Y, eps)\n",
    "        # print 'Y', np.round(Y, 2)\n",
    "\n",
    "\n",
    "        # evaluation\n",
    "        if i % 200 == 0 or i == 1 or i == max_iter:\n",
    "            print 'Iteration {}:'.format(i),\n",
    "            X_est = dot(A, Y)\n",
    "            err = mask * (X_est_prev - X_est)\n",
    "            fit_residual = np.sqrt(np.sum(err ** 2))\n",
    "            X_est_prev = X_est\n",
    "\n",
    "            curRes = linalg.norm(mask * (X - X_est), ord='fro')\n",
    "            print 'fit residual', np.round(fit_residual, 4),\n",
    "            print 'total residual', np.round(curRes, 4)\n",
    "            if curRes < error_limit or fit_residual < fit_error_limit:\n",
    "                break\n",
    "\n",
    "    return A, Y"
   ]
  },
  {
   "cell_type": "code",
   "execution_count": 170,
   "metadata": {
    "collapsed": true
   },
   "outputs": [],
   "source": [
    "cpr = copy.deepcopy(rawMatrixTrain)"
   ]
  },
  {
   "cell_type": "code",
   "execution_count": 118,
   "metadata": {
    "collapsed": false
   },
   "outputs": [
    {
     "data": {
      "text/plain": [
       "array([[ 0.,  0.,  0.,  0.,  0.,  0.,  0.,  0.,  0.,  0.],\n",
       "       [ 0.,  5.,  3.,  4.,  3.,  3.,  5.,  4.,  1.,  5.],\n",
       "       [ 0.,  4.,  0.,  0.,  0.,  0.,  0.,  0.,  0.,  0.],\n",
       "       [ 0.,  0.,  0.,  0.,  0.,  0.,  0.,  0.,  0.,  0.],\n",
       "       [ 0.,  0.,  0.,  0.,  0.,  0.,  0.,  0.,  0.,  0.],\n",
       "       [ 0.,  4.,  3.,  0.,  0.,  0.,  0.,  0.,  0.,  0.],\n",
       "       [ 0.,  4.,  0.,  0.,  0.,  0.,  0.,  2.,  4.,  0.],\n",
       "       [ 0.,  0.,  0.,  0.,  5.,  0.,  0.,  0.,  0.,  5.],\n",
       "       [ 0.,  0.,  0.,  0.,  0.,  0.,  0.,  3.,  0.,  0.],\n",
       "       [ 0.,  0.,  0.,  0.,  0.,  0.,  5.,  0.,  0.,  0.]])"
      ]
     },
     "execution_count": 118,
     "metadata": {},
     "output_type": "execute_result"
    }
   ],
   "source": [
    "cpr[:10,:10]"
   ]
  },
  {
   "cell_type": "code",
   "execution_count": 119,
   "metadata": {
    "collapsed": true
   },
   "outputs": [],
   "source": [
    "t1 = np.array([[7,1],\n",
    "               [1,1]])\n",
    "t2 = np.array([[1,2],\n",
    "               [3,4]])"
   ]
  },
  {
   "cell_type": "code",
   "execution_count": 120,
   "metadata": {
    "collapsed": false
   },
   "outputs": [
    {
     "data": {
      "text/plain": [
       "array([[10, 18],\n",
       "       [ 4,  6]])"
      ]
     },
     "execution_count": 120,
     "metadata": {},
     "output_type": "execute_result"
    }
   ],
   "source": [
    "t1.dot(t2)"
   ]
  },
  {
   "cell_type": "code",
   "execution_count": 121,
   "metadata": {
    "collapsed": false
   },
   "outputs": [
    {
     "data": {
      "text/plain": [
       "16"
      ]
     },
     "execution_count": 121,
     "metadata": {},
     "output_type": "execute_result"
    }
   ],
   "source": [
    "(t1*t2).sum()"
   ]
  },
  {
   "cell_type": "code",
   "execution_count": 122,
   "metadata": {
    "collapsed": false
   },
   "outputs": [],
   "source": [
    "cpr[1,1]=0"
   ]
  },
  {
   "cell_type": "code",
   "execution_count": 171,
   "metadata": {
    "collapsed": true
   },
   "outputs": [
    {
     "name": "stdout",
     "output_type": "stream",
     "text": [
      "Starting NMF decomposition with 100 latent features and 4000 iterations.\n",
      "Iteration 1: fit residual 341.2397 total residual 251.295\n"
     ]
    },
    {
     "ename": "KeyboardInterrupt",
     "evalue": "",
     "output_type": "error",
     "traceback": [
      "\u001b[0;31m---------------------------------------------------------------------------\u001b[0m",
      "\u001b[0;31mKeyboardInterrupt\u001b[0m                         Traceback (most recent call last)",
      "\u001b[0;32m<ipython-input-171-768eaae14a73>\u001b[0m in \u001b[0;36m<module>\u001b[0;34m()\u001b[0m\n\u001b[0;32m----> 1\u001b[0;31m \u001b[0mget_ipython\u001b[0m\u001b[0;34m(\u001b[0m\u001b[0;34m)\u001b[0m\u001b[0;34m.\u001b[0m\u001b[0mrun_cell_magic\u001b[0m\u001b[0;34m(\u001b[0m\u001b[0;34mu'time'\u001b[0m\u001b[0;34m,\u001b[0m \u001b[0;34mu''\u001b[0m\u001b[0;34m,\u001b[0m \u001b[0;34mu'A,Y = nmf(cpr,100,max_iter=4000)'\u001b[0m\u001b[0;34m)\u001b[0m\u001b[0;34m\u001b[0m\u001b[0m\n\u001b[0m",
      "\u001b[0;32m/Library/Python/2.7/site-packages/IPython/core/interactiveshell.pyc\u001b[0m in \u001b[0;36mrun_cell_magic\u001b[0;34m(self, magic_name, line, cell)\u001b[0m\n\u001b[1;32m   2291\u001b[0m             \u001b[0mmagic_arg_s\u001b[0m \u001b[0;34m=\u001b[0m \u001b[0mself\u001b[0m\u001b[0;34m.\u001b[0m\u001b[0mvar_expand\u001b[0m\u001b[0;34m(\u001b[0m\u001b[0mline\u001b[0m\u001b[0;34m,\u001b[0m \u001b[0mstack_depth\u001b[0m\u001b[0;34m)\u001b[0m\u001b[0;34m\u001b[0m\u001b[0m\n\u001b[1;32m   2292\u001b[0m             \u001b[0;32mwith\u001b[0m \u001b[0mself\u001b[0m\u001b[0;34m.\u001b[0m\u001b[0mbuiltin_trap\u001b[0m\u001b[0;34m:\u001b[0m\u001b[0;34m\u001b[0m\u001b[0m\n\u001b[0;32m-> 2293\u001b[0;31m                 \u001b[0mresult\u001b[0m \u001b[0;34m=\u001b[0m \u001b[0mfn\u001b[0m\u001b[0;34m(\u001b[0m\u001b[0mmagic_arg_s\u001b[0m\u001b[0;34m,\u001b[0m \u001b[0mcell\u001b[0m\u001b[0;34m)\u001b[0m\u001b[0;34m\u001b[0m\u001b[0m\n\u001b[0m\u001b[1;32m   2294\u001b[0m             \u001b[0;32mreturn\u001b[0m \u001b[0mresult\u001b[0m\u001b[0;34m\u001b[0m\u001b[0m\n\u001b[1;32m   2295\u001b[0m \u001b[0;34m\u001b[0m\u001b[0m\n",
      "\u001b[0;32m/Library/Python/2.7/site-packages/IPython/core/magics/execution.pyc\u001b[0m in \u001b[0;36mtime\u001b[0;34m(self, line, cell, local_ns)\u001b[0m\n",
      "\u001b[0;32m/Library/Python/2.7/site-packages/IPython/core/magic.pyc\u001b[0m in \u001b[0;36m<lambda>\u001b[0;34m(f, *a, **k)\u001b[0m\n\u001b[1;32m    191\u001b[0m     \u001b[0;31m# but it's overkill for just that one bit of state.\u001b[0m\u001b[0;34m\u001b[0m\u001b[0;34m\u001b[0m\u001b[0m\n\u001b[1;32m    192\u001b[0m     \u001b[0;32mdef\u001b[0m \u001b[0mmagic_deco\u001b[0m\u001b[0;34m(\u001b[0m\u001b[0marg\u001b[0m\u001b[0;34m)\u001b[0m\u001b[0;34m:\u001b[0m\u001b[0;34m\u001b[0m\u001b[0m\n\u001b[0;32m--> 193\u001b[0;31m         \u001b[0mcall\u001b[0m \u001b[0;34m=\u001b[0m \u001b[0;32mlambda\u001b[0m \u001b[0mf\u001b[0m\u001b[0;34m,\u001b[0m \u001b[0;34m*\u001b[0m\u001b[0ma\u001b[0m\u001b[0;34m,\u001b[0m \u001b[0;34m**\u001b[0m\u001b[0mk\u001b[0m\u001b[0;34m:\u001b[0m \u001b[0mf\u001b[0m\u001b[0;34m(\u001b[0m\u001b[0;34m*\u001b[0m\u001b[0ma\u001b[0m\u001b[0;34m,\u001b[0m \u001b[0;34m**\u001b[0m\u001b[0mk\u001b[0m\u001b[0;34m)\u001b[0m\u001b[0;34m\u001b[0m\u001b[0m\n\u001b[0m\u001b[1;32m    194\u001b[0m \u001b[0;34m\u001b[0m\u001b[0m\n\u001b[1;32m    195\u001b[0m         \u001b[0;32mif\u001b[0m \u001b[0mcallable\u001b[0m\u001b[0;34m(\u001b[0m\u001b[0marg\u001b[0m\u001b[0;34m)\u001b[0m\u001b[0;34m:\u001b[0m\u001b[0;34m\u001b[0m\u001b[0m\n",
      "\u001b[0;32m/Library/Python/2.7/site-packages/IPython/core/magics/execution.pyc\u001b[0m in \u001b[0;36mtime\u001b[0;34m(self, line, cell, local_ns)\u001b[0m\n\u001b[1;32m   1165\u001b[0m         \u001b[0;32melse\u001b[0m\u001b[0;34m:\u001b[0m\u001b[0;34m\u001b[0m\u001b[0m\n\u001b[1;32m   1166\u001b[0m             \u001b[0mst\u001b[0m \u001b[0;34m=\u001b[0m \u001b[0mclock2\u001b[0m\u001b[0;34m(\u001b[0m\u001b[0;34m)\u001b[0m\u001b[0;34m\u001b[0m\u001b[0m\n\u001b[0;32m-> 1167\u001b[0;31m             \u001b[0;32mexec\u001b[0m\u001b[0;34m(\u001b[0m\u001b[0mcode\u001b[0m\u001b[0;34m,\u001b[0m \u001b[0mglob\u001b[0m\u001b[0;34m,\u001b[0m \u001b[0mlocal_ns\u001b[0m\u001b[0;34m)\u001b[0m\u001b[0;34m\u001b[0m\u001b[0m\n\u001b[0m\u001b[1;32m   1168\u001b[0m             \u001b[0mend\u001b[0m \u001b[0;34m=\u001b[0m \u001b[0mclock2\u001b[0m\u001b[0;34m(\u001b[0m\u001b[0;34m)\u001b[0m\u001b[0;34m\u001b[0m\u001b[0m\n\u001b[1;32m   1169\u001b[0m             \u001b[0mout\u001b[0m \u001b[0;34m=\u001b[0m \u001b[0mNone\u001b[0m\u001b[0;34m\u001b[0m\u001b[0m\n",
      "\u001b[0;32m<timed exec>\u001b[0m in \u001b[0;36m<module>\u001b[0;34m()\u001b[0m\n",
      "\u001b[0;32m<ipython-input-73-35e257ec9a74>\u001b[0m in \u001b[0;36mnmf\u001b[0;34m(X, latent_features, max_iter, error_limit, fit_error_limit, eps)\u001b[0m\n\u001b[1;32m     27\u001b[0m         \u001b[0;31m# updates\u001b[0m\u001b[0;34m\u001b[0m\u001b[0;34m\u001b[0m\u001b[0m\n\u001b[1;32m     28\u001b[0m         \u001b[0mtop\u001b[0m \u001b[0;34m=\u001b[0m \u001b[0mdot\u001b[0m\u001b[0;34m(\u001b[0m\u001b[0mmasked_X\u001b[0m\u001b[0;34m,\u001b[0m \u001b[0mY\u001b[0m\u001b[0;34m.\u001b[0m\u001b[0mT\u001b[0m\u001b[0;34m)\u001b[0m\u001b[0;34m\u001b[0m\u001b[0m\n\u001b[0;32m---> 29\u001b[0;31m         \u001b[0mbottom\u001b[0m \u001b[0;34m=\u001b[0m \u001b[0;34m(\u001b[0m\u001b[0mdot\u001b[0m\u001b[0;34m(\u001b[0m\u001b[0;34m(\u001b[0m\u001b[0mmask\u001b[0m \u001b[0;34m*\u001b[0m \u001b[0mdot\u001b[0m\u001b[0;34m(\u001b[0m\u001b[0mA\u001b[0m\u001b[0;34m,\u001b[0m \u001b[0mY\u001b[0m\u001b[0;34m)\u001b[0m\u001b[0;34m)\u001b[0m\u001b[0;34m,\u001b[0m \u001b[0mY\u001b[0m\u001b[0;34m.\u001b[0m\u001b[0mT\u001b[0m\u001b[0;34m)\u001b[0m\u001b[0;34m)\u001b[0m \u001b[0;34m+\u001b[0m \u001b[0meps\u001b[0m\u001b[0;34m\u001b[0m\u001b[0m\n\u001b[0m\u001b[1;32m     30\u001b[0m         \u001b[0mA\u001b[0m \u001b[0;34m*=\u001b[0m \u001b[0mtop\u001b[0m \u001b[0;34m/\u001b[0m \u001b[0mbottom\u001b[0m\u001b[0;34m\u001b[0m\u001b[0m\n\u001b[1;32m     31\u001b[0m \u001b[0;34m\u001b[0m\u001b[0m\n",
      "\u001b[0;31mKeyboardInterrupt\u001b[0m: "
     ]
    }
   ],
   "source": [
    "%%time\n",
    "A,Y = nmf(cpr,100,max_iter=4000)"
   ]
  },
  {
   "cell_type": "code",
   "execution_count": 131,
   "metadata": {
    "collapsed": false
   },
   "outputs": [],
   "source": [
    "resMatrix = A.dot(Y)"
   ]
  },
  {
   "cell_type": "code",
   "execution_count": 132,
   "metadata": {
    "collapsed": false
   },
   "outputs": [
    {
     "data": {
      "text/plain": [
       "3.8662150994784032"
      ]
     },
     "execution_count": 132,
     "metadata": {},
     "output_type": "execute_result"
    }
   ],
   "source": [
    "resMatrix[1,1]"
   ]
  },
  {
   "cell_type": "code",
   "execution_count": 29,
   "metadata": {
    "collapsed": true
   },
   "outputs": [],
   "source": [
    "class evalMF:\n",
    "    def __init__(self,resMatrix,dicU,dicI):\n",
    "        self.resMatrix=resMatrix\n",
    "        self.dicU = dicU\n",
    "        self.dicI = dicI\n",
    "    def fit(self):\n",
    "        pass\n",
    "        \n",
    "    def predict(self,user,movie):\n",
    "        return self.resMatrix[int(user)][int(self.dicI[movie])]"
   ]
  },
  {
   "cell_type": "code",
   "execution_count": 134,
   "metadata": {
    "collapsed": false
   },
   "outputs": [],
   "source": [
    "mf= evalMF(resMatrix,data,movies)"
   ]
  },
  {
   "cell_type": "code",
   "execution_count": 139,
   "metadata": {
    "collapsed": true
   },
   "outputs": [
    {
     "data": {
      "text/plain": [
       "{'101 Dalmatians (1996)': 4.0,\n",
       " '20,000 Leagues Under the Sea (1954)': 4.0,\n",
       " '2001: A Space Odyssey (1968)': 4.0,\n",
       " 'Absolute Power (1997)': 3.0,\n",
       " 'Adventures of Pinocchio, The (1996)': 3.0,\n",
       " 'Aladdin (1992)': 5.0,\n",
       " 'Alice in Wonderland (1951)': 5.0,\n",
       " 'Alien (1979)': 5.0,\n",
       " 'Alien 3 (1992)': 4.0,\n",
       " 'Aliens (1986)': 5.0,\n",
       " 'All Dogs Go to Heaven 2 (1996)': 2.0,\n",
       " 'Amadeus (1984)': 5.0,\n",
       " 'American President, The (1995)': 3.0,\n",
       " 'Andre (1994)': 4.0,\n",
       " 'Apollo 13 (1995)': 5.0,\n",
       " 'Around the World in 80 Days (1956)': 3.0,\n",
       " 'Assassins (1995)': 4.0,\n",
       " 'Babe (1995)': 4.0,\n",
       " 'Back to the Future (1985)': 5.0,\n",
       " 'Barbarella (1968)': 3.0,\n",
       " 'Batman Forever (1995)': 4.0,\n",
       " 'Batman Returns (1992)': 4.0,\n",
       " 'Beauty and the Beast (1991)': 5.0,\n",
       " 'Birdcage, The (1996)': 4.0,\n",
       " 'Birds, The (1963)': 5.0,\n",
       " 'Blade Runner (1982)': 5.0,\n",
       " 'Boot, Das (1981)': 5.0,\n",
       " 'Brady Bunch Movie, The (1995)': 2.0,\n",
       " 'Braveheart (1995)': 4.0,\n",
       " 'Broken Arrow (1996)': 3.0,\n",
       " 'Cape Fear (1962)': 5.0,\n",
       " 'Cape Fear (1991)': 5.0,\n",
       " 'Carrie (1976)': 4.0,\n",
       " 'Casablanca (1942)': 5.0,\n",
       " 'Casper (1995)': 4.0,\n",
       " 'Cat People (1982)': 4.0,\n",
       " 'Chain Reaction (1996)': 3.0,\n",
       " 'Cliffhanger (1993)': 4.0,\n",
       " 'Clockwork Orange, A (1971)': 4.0,\n",
       " 'Conan the Barbarian (1981)': 4.0,\n",
       " 'Contact (1997)': 4.0,\n",
       " 'Cool Hand Luke (1967)': 4.0,\n",
       " 'Crash (1996)': 5.0,\n",
       " 'Crow, The (1994)': 5.0,\n",
       " 'Crow: City of Angels, The (1996)': 3.0,\n",
       " \"Dante's Peak (1997)\": 3.0,\n",
       " 'Day the Earth Stood Still, The (1951)': 5.0,\n",
       " 'Dead Man Walking (1995)': 4.0,\n",
       " 'Dead Poets Society (1989)': 4.0,\n",
       " 'Demolition Man (1993)': 5.0,\n",
       " 'Desperado (1995)': 4.0,\n",
       " \"Devil's Own, The (1997)\": 3.0,\n",
       " 'Die Hard 2 (1990)': 4.0,\n",
       " 'Disclosure (1994)': 3.0,\n",
       " 'Dragonheart (1996)': 4.0,\n",
       " 'Dumbo (1941)': 4.0,\n",
       " 'E.T. the Extra-Terrestrial (1982)': 5.0,\n",
       " 'Eat Drink Man Woman (1994)': 3.0,\n",
       " 'Empire Strikes Back, The (1980)': 5.0,\n",
       " 'English Patient, The (1996)': 4.0,\n",
       " 'Englishman Who Went Up a Hill, But Came Down a Mountain, The (1995)': 2.0,\n",
       " 'Eraser (1996)': 4.0,\n",
       " 'Escape from L.A. (1996)': 4.0,\n",
       " 'Executive Decision (1996)': 4.0,\n",
       " 'Fantasia (1940)': 5.0,\n",
       " 'Father of the Bride (1950)': 3.0,\n",
       " 'Father of the Bride Part II (1995)': 3.0,\n",
       " 'Field of Dreams (1989)': 4.0,\n",
       " 'First Knight (1995)': 4.0,\n",
       " 'Flipper (1996)': 3.0,\n",
       " 'Flubber (1997)': 4.0,\n",
       " 'Fly Away Home (1996)': 5.0,\n",
       " 'Forrest Gump (1994)': 5.0,\n",
       " 'Fried Green Tomatoes (1991)': 3.0,\n",
       " 'Frighteners, The (1996)': 4.0,\n",
       " 'Fugitive, The (1993)': 5.0,\n",
       " 'Full Metal Jacket (1987)': 4.0,\n",
       " 'Gandhi (1982)': 4.0,\n",
       " 'Ghost (1990)': 4.0,\n",
       " 'Ghost and the Darkness, The (1996)': 4.0,\n",
       " 'Glimmer Man, The (1996)': 3.0,\n",
       " 'GoldenEye (1995)': 4.0,\n",
       " 'Good, The Bad and The Ugly, The (1966)': 4.0,\n",
       " 'Goofy Movie, A (1995)': 3.0,\n",
       " 'Grease (1978)': 4.0,\n",
       " 'Groundhog Day (1993)': 5.0,\n",
       " 'Grumpier Old Men (1995)': 2.0,\n",
       " 'Hackers (1995)': 3.0,\n",
       " 'Hard Target (1993)': 4.0,\n",
       " 'Harriet the Spy (1996)': 4.0,\n",
       " 'Highlander (1986)': 5.0,\n",
       " 'Highlander III: The Sorcerer (1994)': 5.0,\n",
       " 'Home Alone (1990)': 4.0,\n",
       " 'Homeward Bound II: Lost in San Francisco (1996)': 2.0,\n",
       " 'Homeward Bound: The Incredible Journey (1993)': 4.0,\n",
       " 'Hoop Dreams (1994)': 2.0,\n",
       " 'House Arrest (1996)': 3.0,\n",
       " 'Hunchback of Notre Dame, The (1996)': 4.0,\n",
       " 'Hunt for Red October, The (1990)': 5.0,\n",
       " 'Independence Day (ID4) (1996)': 5.0,\n",
       " 'Indian in the Cupboard, The (1995)': 5.0,\n",
       " 'Indiana Jones and the Last Crusade (1989)': 5.0,\n",
       " 'Interview with the Vampire (1994)': 4.0,\n",
       " 'Island of Dr. Moreau, The (1996)': 3.0,\n",
       " \"It's a Wonderful Life (1946)\": 5.0,\n",
       " 'Jack (1996)': 2.0,\n",
       " \"Jackie Chan's First Strike (1996)\": 3.0,\n",
       " 'James and the Giant Peach (1996)': 4.0,\n",
       " 'Jaws (1975)': 4.0,\n",
       " 'Johnny Mnemonic (1995)': 4.0,\n",
       " 'Judge Dredd (1995)': 4.0,\n",
       " 'Jumanji (1995)': 5.0,\n",
       " 'Jungle Book, The (1994)': 4.0,\n",
       " 'Jungle2Jungle (1997)': 3.0,\n",
       " 'Jurassic Park (1993)': 5.0,\n",
       " 'Juror, The (1996)': 4.0,\n",
       " \"Kid in King Arthur's Court, A (1995)\": 4.0,\n",
       " 'Killing Fields, The (1984)': 4.0,\n",
       " 'Kingpin (1996)': 3.0,\n",
       " 'Last Action Hero (1993)': 4.0,\n",
       " 'Last Man Standing (1996)': 4.0,\n",
       " 'Last of the Mohicans, The (1992)': 4.0,\n",
       " 'Lawnmower Man 2: Beyond Cyberspace (1996)': 3.0,\n",
       " 'Leaving Las Vegas (1995)': 5.0,\n",
       " 'Liar Liar (1997)': 4.0,\n",
       " 'Like Water For Chocolate (Como agua para chocolate) (1992)': 4.0,\n",
       " 'Lion King, The (1994)': 4.0,\n",
       " 'Long Kiss Goodnight, The (1996)': 5.0,\n",
       " 'Love Bug, The (1969)': 3.0,\n",
       " 'Man Without a Face, The (1993)': 5.0,\n",
       " 'Mars Attacks! (1996)': 2.0,\n",
       " 'Mary Poppins (1964)': 4.0,\n",
       " 'Mask, The (1994)': 4.0,\n",
       " 'Maximum Risk (1996)': 2.0,\n",
       " 'Michael (1996)': 4.0,\n",
       " 'Miracle on 34th Street (1994)': 5.0,\n",
       " 'Mission: Impossible (1996)': 3.0,\n",
       " 'Moll Flanders (1996)': 3.0,\n",
       " 'Mortal Kombat: Annihilation (1997)': 4.0,\n",
       " \"Mr. Holland's Opus (1995)\": 4.0,\n",
       " 'Mrs. Doubtfire (1993)': 4.0,\n",
       " 'My Left Foot (1989)': 4.0,\n",
       " 'Net, The (1995)': 3.0,\n",
       " 'Nightmare Before Christmas, The (1993)': 4.0,\n",
       " 'Nutty Professor, The (1996)': 3.0,\n",
       " \"One Flew Over the Cuckoo's Nest (1975)\": 5.0,\n",
       " 'Outbreak (1995)': 4.0,\n",
       " 'Patton (1970)': 4.0,\n",
       " \"Pete's Dragon (1977)\": 4.0,\n",
       " 'Phantom, The (1996)': 4.0,\n",
       " 'Phenomenon (1996)': 5.0,\n",
       " 'Philadelphia Story, The (1940)': 5.0,\n",
       " 'Piano, The (1993)': 4.0,\n",
       " 'Pocahontas (1995)': 3.0,\n",
       " 'Powder (1995)': 5.0,\n",
       " \"Preacher's Wife, The (1996)\": 2.0,\n",
       " 'Pretty Woman (1990)': 4.0,\n",
       " 'Princess Bride, The (1987)': 5.0,\n",
       " 'Pulp Fiction (1994)': 4.0,\n",
       " 'Quest, The (1996)': 3.0,\n",
       " 'Quiz Show (1994)': 4.0,\n",
       " 'Raiders of the Lost Ark (1981)': 5.0,\n",
       " 'Ransom (1996)': 4.0,\n",
       " 'Right Stuff, The (1983)': 4.0,\n",
       " 'Rob Roy (1995)': 4.0,\n",
       " 'Rock, The (1996)': 5.0,\n",
       " 'Rosencrantz and Guildenstern Are Dead (1990)': 2.0,\n",
       " 'Rumble in the Bronx (1995)': 2.0,\n",
       " 'Saint, The (1997)': 3.0,\n",
       " 'Santa Clause, The (1994)': 4.0,\n",
       " \"Schindler's List (1993)\": 5.0,\n",
       " 'Scream (1996)': 5.0,\n",
       " 'Screamers (1995)': 4.0,\n",
       " 'Secret Garden, The (1993)': 4.0,\n",
       " 'Seven (Se7en) (1995)': 5.0,\n",
       " 'Shadow Conspiracy (1997)': 3.0,\n",
       " 'Shallow Grave (1994)': 3.0,\n",
       " 'Silence of the Lambs, The (1991)': 5.0,\n",
       " 'Sleepless in Seattle (1993)': 4.0,\n",
       " 'Sneakers (1992)': 3.0,\n",
       " 'Snow White and the Seven Dwarfs (1937)': 5.0,\n",
       " 'Sound of Music, The (1965)': 5.0,\n",
       " 'Space Jam (1996)': 3.0,\n",
       " 'Spawn (1997)': 5.0,\n",
       " 'Species (1995)': 4.0,\n",
       " 'Speed (1994)': 5.0,\n",
       " 'Star Trek III: The Search for Spock (1984)': 5.0,\n",
       " 'Star Trek IV: The Voyage Home (1986)': 5.0,\n",
       " 'Star Trek VI: The Undiscovered Country (1991)': 5.0,\n",
       " 'Star Trek: First Contact (1996)': 5.0,\n",
       " 'Star Trek: Generations (1994)': 5.0,\n",
       " 'Star Trek: The Motion Picture (1979)': 5.0,\n",
       " 'Star Trek: The Wrath of Khan (1982)': 5.0,\n",
       " 'Star Wars (1977)': 5.0,\n",
       " 'Stargate (1994)': 5.0,\n",
       " 'Sudden Death (1995)': 3.0,\n",
       " 'Swiss Family Robinson (1960)': 3.0,\n",
       " 'Terminal Velocity (1994)': 4.0,\n",
       " 'Terminator 2: Judgment Day (1991)': 5.0,\n",
       " 'Terminator, The (1984)': 5.0,\n",
       " 'Time to Kill, A (1996)': 4.0,\n",
       " 'Titanic (1997)': 5.0,\n",
       " 'Tombstone (1993)': 4.0,\n",
       " 'Top Gun (1986)': 4.0,\n",
       " 'Toy Story (1995)': 5.0,\n",
       " 'True Lies (1994)': 5.0,\n",
       " 'Twelve Monkeys (1995)': 4.0,\n",
       " 'Twister (1996)': 4.0,\n",
       " 'Under Siege 2: Dark Territory (1995)': 4.0,\n",
       " 'Up Close and Personal (1996)': 4.0,\n",
       " 'White Squall (1996)': 5.0,\n",
       " 'Willy Wonka and the Chocolate Factory (1971)': 3.0,\n",
       " 'Wizard of Oz, The (1939)': 5.0,\n",
       " 'Wrong Trousers, The (1993)': 5.0,\n",
       " 'Wyatt Earp (1994)': 4.0,\n",
       " 'Young Frankenstein (1974)': 5.0}"
      ]
     },
     "execution_count": 139,
     "metadata": {},
     "output_type": "execute_result"
    }
   ],
   "source": [
    "data[\"200\"]"
   ]
  },
  {
   "cell_type": "code",
   "execution_count": 142,
   "metadata": {
    "collapsed": false
   },
   "outputs": [
    {
     "name": "stdout",
     "output_type": "stream",
     "text": [
      "4.0\n",
      "3.39729089826\n",
      "1.0\n",
      "1.62532843747\n",
      "***\n",
      "2.0\n",
      "4.57738258746\n",
      "3.0\n",
      "4.07796516329\n",
      "***\n",
      "4.0\n",
      "2.86867907628\n",
      "5.0\n",
      "4.7192522862\n"
     ]
    }
   ],
   "source": [
    "print data[\"1\"][\"Akira (1988)\"]\n",
    "print mf.predict(\"1\",\"Akira (1988)\")\n",
    "print data[\"1\"][\"All Dogs Go to Heaven 2 (1996)\"]\n",
    "print mf.predict(\"1\",\"All Dogs Go to Heaven 2 (1996)\")\n",
    "print \"***\"\n",
    "print data[\"18\"][\"Don Juan DeMarco (1995)\"]\n",
    "print mf.predict(\"1\",\"Don Juan DeMarco (1995)\")\n",
    "print data[\"18\"][\"Winnie the Pooh and the Blustery Day (1968)\"]\n",
    "print mf.predict(\"1\",\"Winnie the Pooh and the Blustery Day (1968)\")\n",
    "print \"***\"\n",
    "print data[\"200\"][\"Assassins (1995)\"]\n",
    "print mf.predict(\"1\",\"Assassins (1995)\")\n",
    "print data[\"200\"][\"Casablanca (1942)\"]\n",
    "print mf.predict(\"1\",\"Casablanca (1942)\")"
   ]
  },
  {
   "cell_type": "code",
   "execution_count": 143,
   "metadata": {
    "collapsed": false
   },
   "outputs": [
    {
     "data": {
      "text/plain": [
       "0.72992292053033703"
      ]
     },
     "execution_count": 143,
     "metadata": {},
     "output_type": "execute_result"
    }
   ],
   "source": [
    "summ=0\n",
    "for i in data[\"1\"]:\n",
    "    summ+=(float(data[\"1\"][i]) - mf.predict(\"1\",i))**2\n",
    "summ/len(data[\"1\"])"
   ]
  },
  {
   "cell_type": "code",
   "execution_count": 144,
   "metadata": {
    "collapsed": false
   },
   "outputs": [
    {
     "data": {
      "text/plain": [
       "1.0374567107180328"
      ]
     },
     "execution_count": 144,
     "metadata": {},
     "output_type": "execute_result"
    }
   ],
   "source": [
    "summ=0\n",
    "for i in data[\"3\"]:\n",
    "    summ+=(float(data[\"3\"][i]) - mf.predict(\"3\",i))**2\n",
    "summ/len(data[\"3\"])"
   ]
  },
  {
   "cell_type": "code",
   "execution_count": 175,
   "metadata": {
    "collapsed": false
   },
   "outputs": [],
   "source": [
    "tot=[]\n",
    "ttt=[]\n",
    "for j in test:\n",
    "    summ=0\n",
    "    for i in test[j]:\n",
    "        summ+=(float(test[j][i]) - mf.predict(j,i))**2\n",
    "    #print j, \">>\", summ/len(data[j])\n",
    "    ttt.append(len(test[j]))\n",
    "    tot.append(summ)\n",
    "    \n",
    "#import pdb\n",
    "#pdb.set_trace()"
   ]
  },
  {
   "cell_type": "code",
   "execution_count": 176,
   "metadata": {
    "collapsed": false
   },
   "outputs": [],
   "source": [
    "t = np.array(tot)\n",
    "tt = np.array(ttt)"
   ]
  },
  {
   "cell_type": "code",
   "execution_count": 177,
   "metadata": {
    "collapsed": false
   },
   "outputs": [
    {
     "data": {
      "text/plain": [
       "1.1942361914404664"
      ]
     },
     "execution_count": 177,
     "metadata": {},
     "output_type": "execute_result"
    }
   ],
   "source": [
    "t.mean()/tt.mean()"
   ]
  },
  {
   "cell_type": "code",
   "execution_count": 162,
   "metadata": {
    "collapsed": false
   },
   "outputs": [
    {
     "data": {
      "text/plain": [
       "100.56729085359559"
      ]
     },
     "execution_count": 162,
     "metadata": {},
     "output_type": "execute_result"
    }
   ],
   "source": [
    "tt.std()"
   ]
  },
  {
   "cell_type": "code",
   "execution_count": 169,
   "metadata": {
    "collapsed": false
   },
   "outputs": [
    {
     "data": {
      "text/plain": [
       "0.60572217944012463"
      ]
     },
     "execution_count": 169,
     "metadata": {},
     "output_type": "execute_result"
    }
   ],
   "source": [
    "t.sum()/tt.sum()"
   ]
  },
  {
   "cell_type": "code",
   "execution_count": 161,
   "metadata": {
    "collapsed": false
   },
   "outputs": [
    {
     "data": {
      "text/plain": [
       "1.1942361914404731"
      ]
     },
     "execution_count": 161,
     "metadata": {},
     "output_type": "execute_result"
    }
   ],
   "source": [
    "np.array([ (float(ra[2]) - mf.predict(ra[0],ra[1]))**2 for ra in rawArrayTest]).mean()"
   ]
  },
  {
   "cell_type": "markdown",
   "metadata": {},
   "source": [
    "---"
   ]
  },
  {
   "cell_type": "code",
   "execution_count": 225,
   "metadata": {
    "collapsed": false
   },
   "outputs": [
    {
     "name": "stdout",
     "output_type": "stream",
     "text": [
      "Starting NMF decomposition with 500 latent features and 300 iterations.\n",
      "Iteration 1: fit residual 5298.0864 total residual 244.6212\n",
      "Iteration 200: fit residual 240.2685 total residual 13.9941\n",
      "Iteration 300: fit residual 7.7158 total residual 6.8284\n",
      "CPU times: user 2min 45s, sys: 5.49 s, total: 2min 50s\n",
      "Wall time: 1min 2s\n"
     ]
    }
   ],
   "source": [
    "%%time\n",
    "A,Y = nmf(rawMatrixTrain,500,max_iter=300)"
   ]
  },
  {
   "cell_type": "code",
   "execution_count": 226,
   "metadata": {
    "collapsed": true
   },
   "outputs": [],
   "source": [
    "resMatrix = A.dot(Y)"
   ]
  },
  {
   "cell_type": "code",
   "execution_count": 227,
   "metadata": {
    "collapsed": false
   },
   "outputs": [],
   "source": [
    "a=np.array((1,2,4))\n",
    "b=np.array((1,3,6))\n",
    "(a-b).dot(a-b)\n",
    "\n",
    "masqueTest=np.sign(rawMatrixTest)\n",
    "masqueTest[:10,:10]\n",
    "\n",
    "A=masqueTest*rawMatrix\n"
   ]
  },
  {
   "cell_type": "code",
   "execution_count": 228,
   "metadata": {
    "collapsed": true
   },
   "outputs": [],
   "source": [
    "aa = masqueTest*resMatrix"
   ]
  },
  {
   "cell_type": "code",
   "execution_count": 229,
   "metadata": {
    "collapsed": true
   },
   "outputs": [],
   "source": [
    "for idxi,i in enumerate(aa):\n",
    "    for idxj,j in enumerate(i):\n",
    "        if j>5:\n",
    "            aa[idxi][idxj]=5"
   ]
  },
  {
   "cell_type": "code",
   "execution_count": 235,
   "metadata": {
    "collapsed": true
   },
   "outputs": [],
   "source": [
    "q = masqueTest*resMatrix - rawMatrixTest"
   ]
  },
  {
   "cell_type": "code",
   "execution_count": 236,
   "metadata": {
    "collapsed": false
   },
   "outputs": [
    {
     "data": {
      "text/plain": [
       "1.1273948891755721"
      ]
     },
     "execution_count": 236,
     "metadata": {},
     "output_type": "execute_result"
    }
   ],
   "source": [
    "(q*q).sum()/ masqueTest.sum()"
   ]
  },
  {
   "cell_type": "code",
   "execution_count": null,
   "metadata": {
    "collapsed": true
   },
   "outputs": [],
   "source": [
    "masqueTest=np.sign(rawMatrixTest)\n",
    "\n",
    "aa=masqueTest*rawMatrix\n",
    "\n",
    "for idxi,i in enumerate(aa):\n",
    "    for idxj,j in enumerate(i):\n",
    "        if j>5:\n",
    "            aa[idxi][idxj]=5\n",
    "            \n",
    "q = masqueTest*resMatrix - rawMatrixTest\n",
    "\n",
    "(q*q).sum()/ masqueTest.sum()"
   ]
  },
  {
   "cell_type": "code",
   "execution_count": 232,
   "metadata": {
    "collapsed": true
   },
   "outputs": [
    {
     "data": {
      "text/plain": [
       "array([[ 0.        ,  0.        ,  0.        ,  0.        ,  0.        ,\n",
       "         0.        ,  0.        ,  0.        ,  0.        ,  0.        ],\n",
       "       [ 0.        ,  0.        ,  0.        ,  0.        ,  0.        ,\n",
       "         0.        ,  0.        ,  0.        ,  0.        ,  0.        ],\n",
       "       [ 0.        ,  4.25790085,  0.        ,  0.        ,  0.        ,\n",
       "         0.        ,  0.        ,  0.        ,  0.        ,  0.        ],\n",
       "       [ 0.        ,  0.        ,  0.        ,  0.        ,  0.        ,\n",
       "         0.        ,  0.        ,  0.        ,  0.        ,  0.        ],\n",
       "       [ 0.        ,  0.        ,  0.        ,  0.        ,  0.        ,\n",
       "         0.        ,  0.        ,  0.        ,  0.        ,  0.        ],\n",
       "       [ 0.        ,  0.        ,  0.        ,  0.        ,  0.        ,\n",
       "         0.        ,  0.        ,  0.        ,  0.        ,  0.        ],\n",
       "       [ 0.        ,  0.        ,  0.        ,  0.        ,  0.        ,\n",
       "         0.        ,  0.        ,  0.        ,  0.        ,  0.        ],\n",
       "       [ 0.        ,  0.        ,  0.        ,  0.        ,  0.        ,\n",
       "         0.        ,  0.        ,  0.        ,  0.        ,  4.51410323],\n",
       "       [ 0.        ,  0.        ,  0.        ,  0.        ,  0.        ,\n",
       "         0.        ,  0.        ,  0.        ,  0.        ,  0.        ],\n",
       "       [ 0.        ,  0.        ,  0.        ,  0.        ,  0.        ,\n",
       "         0.        ,  0.        ,  0.        ,  0.        ,  0.        ]])"
      ]
     },
     "execution_count": 232,
     "metadata": {},
     "output_type": "execute_result"
    }
   ],
   "source": [
    "aa[:10,:10]"
   ]
  },
  {
   "cell_type": "code",
   "execution_count": 111,
   "metadata": {
    "collapsed": true
   },
   "outputs": [
    {
     "data": {
      "text/plain": [
       "array([[ 0.,  0.,  0.,  0.,  0.,  0.,  0.,  0.,  0.,  0.],\n",
       "       [ 0.,  5.,  3.,  4.,  3.,  3.,  5.,  4.,  1.,  5.],\n",
       "       [ 0.,  4.,  0.,  0.,  0.,  0.,  0.,  0.,  0.,  0.],\n",
       "       [ 0.,  0.,  0.,  0.,  0.,  0.,  0.,  0.,  0.,  0.],\n",
       "       [ 0.,  0.,  0.,  0.,  0.,  0.,  0.,  0.,  0.,  0.],\n",
       "       [ 0.,  4.,  3.,  0.,  0.,  0.,  0.,  0.,  0.,  0.],\n",
       "       [ 0.,  4.,  0.,  0.,  0.,  0.,  0.,  2.,  4.,  4.],\n",
       "       [ 0.,  0.,  0.,  0.,  5.,  0.,  0.,  5.,  5.,  5.],\n",
       "       [ 0.,  0.,  0.,  0.,  0.,  0.,  0.,  3.,  0.,  0.],\n",
       "       [ 0.,  0.,  0.,  0.,  0.,  0.,  5.,  4.,  0.,  0.]])"
      ]
     },
     "execution_count": 111,
     "metadata": {},
     "output_type": "execute_result"
    }
   ],
   "source": [
    "rawMatrix[:10,:10]"
   ]
  },
  {
   "cell_type": "code",
   "execution_count": 65,
   "metadata": {
    "collapsed": true
   },
   "outputs": [
    {
     "data": {
      "text/plain": [
       "array([[  1.00000000e-09,   2.11263017e-05,   1.75772784e-05,\n",
       "          1.59467964e-05,   1.91700638e-05,   1.73865300e-05,\n",
       "          2.06765659e-05,   1.94248575e-05,   2.17730688e-05,\n",
       "          2.03784277e-05],\n",
       "       [  1.78801970e-04,   3.95625546e+00,   3.54997734e+00,\n",
       "          3.72895234e+00,   4.27096338e+00,   2.72442378e+00,\n",
       "          4.01474525e+00,   4.52884136e+00,   3.69341713e+00,\n",
       "          3.98399173e+00],\n",
       "       [  1.96184298e-04,   4.03306906e+00,   2.99267665e+00,\n",
       "          2.07003583e+00,   3.73621474e+00,   3.57324546e+00,\n",
       "          4.50847524e+00,   4.03266244e+00,   4.35395407e+00,\n",
       "          4.65985982e+00],\n",
       "       [  1.76302740e-04,   3.61148196e+00,   3.27282155e+00,\n",
       "          2.35550426e+00,   2.02886726e+00,   3.87498134e+00,\n",
       "          1.48801040e+00,   2.95799674e+00,   2.77898478e+00,\n",
       "          3.14122547e+00],\n",
       "       [  2.63225365e-04,   4.84628612e+00,   3.96173386e+00,\n",
       "          4.22460058e+00,   3.47028279e+00,   3.99521914e+00,\n",
       "          5.25970696e+00,   4.27889369e+00,   5.52921267e+00,\n",
       "          5.98457221e+00],\n",
       "       [  1.73961907e-04,   3.44238651e+00,   3.45807865e+00,\n",
       "          2.71245890e+00,   3.14421131e+00,   2.45772768e+00,\n",
       "          1.46203100e+00,   4.82582842e+00,   3.09009585e+00,\n",
       "          3.56641471e+00],\n",
       "       [  1.57488630e-04,   3.43843718e+00,   2.08003954e+00,\n",
       "          2.15150878e+00,   3.19166098e+00,   2.52915516e+00,\n",
       "          2.59800164e+00,   3.06789555e+00,   3.78494389e+00,\n",
       "          3.81078788e+00],\n",
       "       [  2.17947541e-04,   4.70512003e+00,   3.99566394e+00,\n",
       "          2.01249843e+00,   3.64370725e+00,   3.51552809e+00,\n",
       "          3.54826067e+00,   4.00895913e+00,   5.02975404e+00,\n",
       "          5.08923692e+00],\n",
       "       [  2.07695050e-04,   4.28568480e+00,   3.87650139e+00,\n",
       "          3.34228855e+00,   3.61386225e+00,   4.02478920e+00,\n",
       "          2.97444638e+00,   3.65660112e+00,   4.04720870e+00,\n",
       "          4.45891929e+00],\n",
       "       [  1.81585514e-04,   4.17292085e+00,   4.22438463e+00,\n",
       "          4.96064656e+00,   5.06876450e+00,   2.92737460e+00,\n",
       "          5.80518190e+00,   4.37799768e+00,   3.62961909e+00,\n",
       "          3.95327106e+00]])"
      ]
     },
     "execution_count": 65,
     "metadata": {},
     "output_type": "execute_result"
    }
   ],
   "source": [
    "resMatrix[:10,:10]"
   ]
  },
  {
   "cell_type": "code",
   "execution_count": 59,
   "metadata": {
    "collapsed": true
   },
   "outputs": [],
   "source": [
    "mf = evalMF(resMatrix,data,movies)"
   ]
  },
  {
   "cell_type": "code",
   "execution_count": 69,
   "metadata": {
    "collapsed": false
   },
   "outputs": [
    {
     "name": "stdout",
     "output_type": "stream",
     "text": [
      "4.0\n",
      "3.68121941569\n",
      "1.0\n",
      "0.96164687419\n"
     ]
    }
   ],
   "source": [
    "print data[\"1\"][\"Akira (1988)\"]\n",
    "print mf.predict(\"1\",\"Akira (1988)\")\n",
    "print data[\"1\"][\"All Dogs Go to Heaven 2 (1996)\"]\n",
    "print mf.predict(\"1\",\"All Dogs Go to Heaven 2 (1996)\")"
   ]
  },
  {
   "cell_type": "code",
   "execution_count": 61,
   "metadata": {
    "collapsed": true
   },
   "outputs": [
    {
     "name": "stdout",
     "output_type": "stream",
     "text": [
      "1.0\n"
     ]
    },
    {
     "ename": "KeyError",
     "evalue": "'Akira (1988)'",
     "output_type": "error",
     "traceback": [
      "\u001b[0;31m---------------------------------------------------------------------------\u001b[0m",
      "\u001b[0;31mKeyError\u001b[0m                                  Traceback (most recent call last)",
      "\u001b[0;32m<ipython-input-61-ccddd715027a>\u001b[0m in \u001b[0;36m<module>\u001b[0;34m()\u001b[0m\n\u001b[1;32m      1\u001b[0m \u001b[0;32mprint\u001b[0m \u001b[0mtrain\u001b[0m\u001b[0;34m[\u001b[0m\u001b[0;34m\"1\"\u001b[0m\u001b[0;34m]\u001b[0m\u001b[0;34m[\u001b[0m\u001b[0;34m\"All Dogs Go to Heaven 2 (1996)\"\u001b[0m\u001b[0;34m]\u001b[0m\u001b[0;34m\u001b[0m\u001b[0m\n\u001b[0;32m----> 2\u001b[0;31m \u001b[0;32mprint\u001b[0m \u001b[0mtest\u001b[0m\u001b[0;34m[\u001b[0m\u001b[0;34m\"1\"\u001b[0m\u001b[0;34m]\u001b[0m\u001b[0;34m[\u001b[0m\u001b[0;34m\"Akira (1988)\"\u001b[0m\u001b[0;34m]\u001b[0m\u001b[0;34m\u001b[0m\u001b[0m\n\u001b[0m",
      "\u001b[0;31mKeyError\u001b[0m: 'Akira (1988)'"
     ]
    }
   ],
   "source": [
    "print train[\"1\"][\"All Dogs Go to Heaven 2 (1996)\"]\n",
    "print test[\"1\"][\"Akira (1988)\"]"
   ]
  },
  {
   "cell_type": "code",
   "execution_count": 80,
   "metadata": {
    "collapsed": false
   },
   "outputs": [
    {
     "data": {
      "text/plain": [
       "944"
      ]
     },
     "execution_count": 80,
     "metadata": {},
     "output_type": "execute_result"
    }
   ],
   "source": [
    "len(rawMatrixTest)"
   ]
  },
  {
   "cell_type": "code",
   "execution_count": 78,
   "metadata": {
    "collapsed": false
   },
   "outputs": [
    {
     "name": "stdout",
     "output_type": "stream",
     "text": [
      "(5.0, 2.5931883684545336)\n",
      "(4.0, 5.0047797241971219)\n",
      "(4.0, 3.469010363892524)\n",
      "(4.0, 3.8143373120809678)\n",
      "(4.0, 5.1669137101192657)\n",
      "(3.0, 4.4963428645445518)\n",
      "(5.0, 3.6366298516628395)\n",
      "(3.0, 3.1448263066152959)\n",
      "(5.0, 2.7517463531147883)\n",
      "(5.0, 4.6741099156866328)\n"
     ]
    },
    {
     "data": {
      "text/plain": [
       "2.0909226578962459"
      ]
     },
     "execution_count": 78,
     "metadata": {},
     "output_type": "execute_result"
    }
   ],
   "source": [
    "t = []\n",
    "c = 10\n",
    "for idxi,i in enumerate(rawMatrixTest):\n",
    "    for idxj,j in enumerate(i):\n",
    "        if rawMatrixTest[idxi][idxj] != 0:\n",
    "            t.append( (resMatrix[idxi][idxj] - float(rawMatrixTest[idxi][idxj]))**2 )\n",
    "            if c>0:\n",
    "                print(rawMatrixTest[idxi][idxj],resMatrix[idxi][idxj])\n",
    "                c-=1\n",
    "np.array(t).mean()"
   ]
  },
  {
   "cell_type": "code",
   "execution_count": 87,
   "metadata": {
    "collapsed": false
   },
   "outputs": [
    {
     "name": "stdout",
     "output_type": "stream",
     "text": [
      "(5.0, 2.5931883684545336)\n",
      "(4.0, 5.0047797241971219)\n",
      "(4.0, 3.469010363892524)\n",
      "(4.0, 3.8143373120809678)\n",
      "(4.0, 5.1669137101192657)\n",
      "(3.0, 4.4963428645445518)\n",
      "(5.0, 3.6366298516628395)\n",
      "(3.0, 3.1448263066152959)\n",
      "(5.0, 2.7517463531147883)\n",
      "(5.0, 4.6741099156866328)\n"
     ]
    },
    {
     "data": {
      "text/plain": [
       "2.0909226578962459"
      ]
     },
     "execution_count": 87,
     "metadata": {},
     "output_type": "execute_result"
    }
   ],
   "source": [
    "t = []\n",
    "c = 10\n",
    "for idxi,i in enumerate(resMatrix):\n",
    "    for idxj,j in enumerate(i):\n",
    "        if rawMatrixTest[idxi][idxj] != 0:\n",
    "            t.append( (resMatrix[idxi][idxj] - float(rawMatrix[idxi][idxj]))**2 )\n",
    "            if c>0:\n",
    "                print(rawMatrix[idxi][idxj],resMatrix[idxi][idxj])\n",
    "                c-=1\n",
    "np.array(t).mean()"
   ]
  },
  {
   "cell_type": "code",
   "execution_count": 108,
   "metadata": {
    "collapsed": false
   },
   "outputs": [
    {
     "name": "stdout",
     "output_type": "stream",
     "text": [
      "(5.0, 4.3114944585785064)\n",
      "(3.0, 3.3257920434476187)\n",
      "(3.0, 4.0022181201367522)\n"
     ]
    },
    {
     "data": {
      "text/plain": [
       "0.45320954210197834"
      ]
     },
     "execution_count": 108,
     "metadata": {},
     "output_type": "execute_result"
    }
   ],
   "source": [
    "t = []\n",
    "c = 3\n",
    "for idxi,i in enumerate(rawMatrixTrain):\n",
    "    for idxj,j in enumerate(i):\n",
    "        if rawMatrixTrain[idxi][idxj] != 0:\n",
    "            t.append( (float(rawMatrixTrain[idxi][idxj]) - resMatrix[idxi][idxj])**2 )\n",
    "            if c>0:\n",
    "                print(rawMatrixTrain[idxi][idxj],resMatrix[idxi][idxj])\n",
    "                c-=1\n",
    "np.array(t).mean()"
   ]
  },
  {
   "cell_type": "code",
   "execution_count": 80,
   "metadata": {
    "collapsed": false
   },
   "outputs": [
    {
     "ename": "KeyError",
     "evalue": "0.0",
     "output_type": "error",
     "traceback": [
      "\u001b[0;31m---------------------------------------------------------------------------\u001b[0m",
      "\u001b[0;31mKeyError\u001b[0m                                  Traceback (most recent call last)",
      "\u001b[0;32m<ipython-input-80-0241c027db0a>\u001b[0m in \u001b[0;36m<module>\u001b[0;34m()\u001b[0m\n\u001b[0;32m----> 1\u001b[0;31m \u001b[0mnp\u001b[0m\u001b[0;34m.\u001b[0m\u001b[0marray\u001b[0m\u001b[0;34m(\u001b[0m\u001b[0;34m[\u001b[0m \u001b[0;34m(\u001b[0m\u001b[0mfloat\u001b[0m\u001b[0;34m(\u001b[0m\u001b[0mra\u001b[0m\u001b[0;34m[\u001b[0m\u001b[0;36m2\u001b[0m\u001b[0;34m]\u001b[0m\u001b[0;34m)\u001b[0m \u001b[0;34m-\u001b[0m \u001b[0mmf\u001b[0m\u001b[0;34m.\u001b[0m\u001b[0mpredict\u001b[0m\u001b[0;34m(\u001b[0m\u001b[0mra\u001b[0m\u001b[0;34m[\u001b[0m\u001b[0;36m0\u001b[0m\u001b[0;34m]\u001b[0m\u001b[0;34m,\u001b[0m\u001b[0mra\u001b[0m\u001b[0;34m[\u001b[0m\u001b[0;36m1\u001b[0m\u001b[0;34m]\u001b[0m\u001b[0;34m)\u001b[0m\u001b[0;34m)\u001b[0m\u001b[0;34m**\u001b[0m\u001b[0;36m2\u001b[0m \u001b[0;32mfor\u001b[0m \u001b[0mra\u001b[0m \u001b[0;32min\u001b[0m \u001b[0mrawMatrixTest\u001b[0m\u001b[0;34m]\u001b[0m\u001b[0;34m)\u001b[0m\u001b[0;34m.\u001b[0m\u001b[0mmean\u001b[0m\u001b[0;34m(\u001b[0m\u001b[0;34m)\u001b[0m\u001b[0;34m\u001b[0m\u001b[0m\n\u001b[0m",
      "\u001b[0;32m<ipython-input-52-9fb67320d8a3>\u001b[0m in \u001b[0;36mpredict\u001b[0;34m(self, user, movie)\u001b[0m\n\u001b[1;32m      8\u001b[0m \u001b[0;34m\u001b[0m\u001b[0m\n\u001b[1;32m      9\u001b[0m     \u001b[0;32mdef\u001b[0m \u001b[0mpredict\u001b[0m\u001b[0;34m(\u001b[0m\u001b[0mself\u001b[0m\u001b[0;34m,\u001b[0m\u001b[0muser\u001b[0m\u001b[0;34m,\u001b[0m\u001b[0mmovie\u001b[0m\u001b[0;34m)\u001b[0m\u001b[0;34m:\u001b[0m\u001b[0;34m\u001b[0m\u001b[0m\n\u001b[0;32m---> 10\u001b[0;31m         \u001b[0;32mreturn\u001b[0m \u001b[0mself\u001b[0m\u001b[0;34m.\u001b[0m\u001b[0mresMatrix\u001b[0m\u001b[0;34m[\u001b[0m\u001b[0mint\u001b[0m\u001b[0;34m(\u001b[0m\u001b[0muser\u001b[0m\u001b[0;34m)\u001b[0m\u001b[0;34m]\u001b[0m\u001b[0;34m[\u001b[0m\u001b[0mint\u001b[0m\u001b[0;34m(\u001b[0m\u001b[0mself\u001b[0m\u001b[0;34m.\u001b[0m\u001b[0mdicI\u001b[0m\u001b[0;34m[\u001b[0m\u001b[0mmovie\u001b[0m\u001b[0;34m]\u001b[0m\u001b[0;34m)\u001b[0m\u001b[0;34m]\u001b[0m\u001b[0;34m\u001b[0m\u001b[0m\n\u001b[0m",
      "\u001b[0;31mKeyError\u001b[0m: 0.0"
     ]
    }
   ],
   "source": [
    "np.array([ (float(ra[2]) - mf.predict(ra[0],ra[1]))**2 for ra in rawMatrixTest]).mean()"
   ]
  },
  {
   "cell_type": "markdown",
   "metadata": {},
   "source": [
    "---"
   ]
  },
  {
   "cell_type": "code",
   "execution_count": 60,
   "metadata": {
    "collapsed": false
   },
   "outputs": [
    {
     "data": {
      "text/plain": [
       "<function rand>"
      ]
     },
     "execution_count": 60,
     "metadata": {},
     "output_type": "execute_result"
    }
   ],
   "source": [
    "R = [\n",
    "     [5,3,5,3],\n",
    "     [4,0,0,1],\n",
    "     [1,5,1,5],\n",
    "     [1,0,1,4],\n",
    "     [0,4,5,4],\n",
    "    ]\n",
    "\n",
    "R = np.array(R)\n",
    "K = 10\n",
    "np.random.rand"
   ]
  },
  {
   "cell_type": "code",
   "execution_count": 87,
   "metadata": {
    "collapsed": false
   },
   "outputs": [
    {
     "name": "stdout",
     "output_type": "stream",
     "text": [
      "CPU times: user 1.55 s, sys: 18.9 ms, total: 1.57 s\n",
      "Wall time: 1.57 s\n"
     ]
    }
   ],
   "source": [
    "%%time\n",
    "nP, nQ = matrix_factorization(R, K, steps=1000)"
   ]
  },
  {
   "cell_type": "code",
   "execution_count": 88,
   "metadata": {
    "collapsed": false
   },
   "outputs": [],
   "source": [
    "nR = np.dot(nP, nQ.T)"
   ]
  },
  {
   "cell_type": "code",
   "execution_count": 89,
   "metadata": {
    "collapsed": false
   },
   "outputs": [
    {
     "data": {
      "text/plain": [
       "2.7470816228443531"
      ]
     },
     "execution_count": 89,
     "metadata": {},
     "output_type": "execute_result"
    }
   ],
   "source": [
    "((nR-R)**2).sum()/np.sign(R).sum()"
   ]
  },
  {
   "cell_type": "markdown",
   "metadata": {},
   "source": [
    "---"
   ]
  },
  {
   "cell_type": "code",
   "execution_count": 110,
   "metadata": {
    "collapsed": false
   },
   "outputs": [
    {
     "data": {
      "text/plain": [
       "(5, 4)"
      ]
     },
     "execution_count": 110,
     "metadata": {},
     "output_type": "execute_result"
    }
   ],
   "source": [
    "np.shape(R)"
   ]
  },
  {
   "cell_type": "code",
   "execution_count": 189,
   "metadata": {
    "collapsed": true
   },
   "outputs": [],
   "source": [
    "def matrix_factorization(R, K, steps=100, eps=0.0001, beta=0.02):\n",
    "    N,M = np.shape(R)\n",
    "    P = np.random.rand(N,K)\n",
    "    #P = np.maximum(P, eps)\n",
    "    \n",
    "    #Q = np.random.rand(M,K).T\n",
    "    Q = linalg.lstsq(P, R)[0]\n",
    "    Q = np.maximum(Q, eps)\n",
    "\n",
    "    #masked_X = mask * X\n",
    "    #X_est_prev = dot(A, Y)\n",
    "    \n",
    "    #mask = np.sign(R)\n",
    "    #masked_R = mask * R\n",
    "    for step in xrange(steps):\n",
    "        #\"\"\"\n",
    "        for i in xrange(len(R)):\n",
    "            for j in xrange(len(R[i])):\n",
    "                if R[i][j] > 0:\n",
    "                    eij = R[i][j] - np.dot(P[i,:],Q[:,j])\n",
    "                    for k in xrange(K):\n",
    "                        P[i][k] = P[i][k] + eps * (2 * eij * Q[k][j] - beta * P[i][k])\n",
    "                        Q[k][j] = Q[k][j] + eps * (2 * eij * P[i][k] - beta * Q[k][j])\n",
    "        \"\"\"\n",
    "        ###\n",
    "        top = np.dot(masked_R, Q.T)\n",
    "        bottom = (np.dot((mask * np.dot(P, Q)), Q.T)) + eps\n",
    "        \n",
    "        P *= top / bottom\n",
    "\n",
    "        P = np.maximum(P, eps)\n",
    "        # print 'A',  np.round(A, 2)\n",
    "\n",
    "        top = np.dot(P.T, masked_R)\n",
    "        bottom = np.dot(P.T, mask * np.dot(P, Q)) + eps\n",
    "        Q *= top / bottom\n",
    "        Q = np.maximum(Q, eps)\n",
    "        # print 'Y', np.round(Y, 2)\n",
    "        \"\"\"\n",
    "        \n",
    "        \n",
    "    return P, Q.T"
   ]
  },
  {
   "cell_type": "code",
   "execution_count": 145,
   "metadata": {
    "collapsed": false
   },
   "outputs": [
    {
     "name": "stdout",
     "output_type": "stream",
     "text": [
      "CPU times: user 6.14 s, sys: 63.6 ms, total: 6.21 s\n",
      "Wall time: 6.29 s\n"
     ]
    }
   ],
   "source": [
    "%%time\n",
    "nP, nQ = matrix_factorization(R, K, steps=4000,eps=1e-5)"
   ]
  },
  {
   "cell_type": "code",
   "execution_count": 146,
   "metadata": {
    "collapsed": false
   },
   "outputs": [
    {
     "data": {
      "text/plain": [
       "1.2305583063164482"
      ]
     },
     "execution_count": 146,
     "metadata": {},
     "output_type": "execute_result"
    }
   ],
   "source": [
    "nR = np.dot(nP, nQ.T)\n",
    "((nR-R)**2).sum()/np.sign(R).sum()"
   ]
  },
  {
   "cell_type": "code",
   "execution_count": null,
   "metadata": {
    "collapsed": true
   },
   "outputs": [],
   "source": [
    "%%time\n",
    "N,M = np.shape(R)\n",
    "P = np.random.rand(N,K)\n",
    "#P = np.maximum(P, eps)\n",
    "\n",
    "#Q = np.random.rand(M,K).T\n",
    "Q = linalg.lstsq(P, R)[0]\n",
    "Q = np.maximum(Q, eps)\n",
    "\n",
    "#masked_X = mask * X\n",
    "#X_est_prev = dot(A, Y)\n",
    "\n",
    "#mask = np.sign(R)\n",
    "#masked_R = mask * R\n",
    "\n",
    "for i in xrange(len(R)):\n",
    "    for j in xrange(len(R[i])):\n",
    "        if R[i][j] > 0:\n",
    "            eij = R[i][j] - np.dot(P[i,:],Q[:,j])\n",
    "            for k in xrange(K):\n",
    "                P[i][k] = P[i][k] + eps * (2 * eij * Q[k][j] - beta * P[i][k])\n",
    "                Q[k][j] = Q[k][j] + eps * (2 * eij * P[i][k] - beta * Q[k][j])"
   ]
  },
  {
   "cell_type": "code",
   "execution_count": 161,
   "metadata": {
    "collapsed": false
   },
   "outputs": [
    {
     "name": "stdout",
     "output_type": "stream",
     "text": [
      "54.0298250116\n",
      "56.7997458309\n",
      "54.0097982207\n",
      "54.3613471474\n"
     ]
    }
   ],
   "source": [
    "for _ in range(1,5):\n",
    "    nP, nQ = matrix_factorization(R, K, steps=1000,eps=1e-3)\n",
    "    nR = np.dot(nP, nQ.T)\n",
    "    print ((nR-GR)**2).sum()/np.sign(GR).sum()"
   ]
  },
  {
   "cell_type": "code",
   "execution_count": 141,
   "metadata": {
    "collapsed": true
   },
   "outputs": [],
   "source": [
    "GR = [\n",
    "     [0,0,0,0],\n",
    "     [0,1,1,0],\n",
    "     [0,0,0,0],\n",
    "     [0,4,0,0],\n",
    "     [4,0,0,0],\n",
    "    ]"
   ]
  },
  {
   "cell_type": "code",
   "execution_count": 139,
   "metadata": {
    "collapsed": false
   },
   "outputs": [
    {
     "data": {
      "text/plain": [
       "array([[5, 3, 5, 3],\n",
       "       [4, 0, 0, 1],\n",
       "       [1, 5, 1, 5],\n",
       "       [1, 0, 1, 4],\n",
       "       [0, 4, 5, 4]])"
      ]
     },
     "execution_count": 139,
     "metadata": {},
     "output_type": "execute_result"
    }
   ],
   "source": [
    "R"
   ]
  },
  {
   "cell_type": "code",
   "execution_count": 149,
   "metadata": {
    "collapsed": false
   },
   "outputs": [
    {
     "data": {
      "text/plain": [
       "array([[ 4.98064509,  3.00337373,  4.98567601,  2.99254764],\n",
       "       [ 3.98478181,  1.19632854,  1.66596662,  1.0013092 ],\n",
       "       [ 0.99961108,  4.9783092 ,  1.01288321,  4.97950296],\n",
       "       [ 0.99817346,  2.34980003,  1.0067616 ,  3.97615341],\n",
       "       [ 1.26528218,  3.99790715,  4.98389234,  3.9907852 ]])"
      ]
     },
     "execution_count": 149,
     "metadata": {},
     "output_type": "execute_result"
    }
   ],
   "source": [
    "nR"
   ]
  },
  {
   "cell_type": "code",
   "execution_count": 55,
   "metadata": {
    "collapsed": false
   },
   "outputs": [
    {
     "data": {
      "text/plain": [
       "5.0"
      ]
     },
     "execution_count": 55,
     "metadata": {},
     "output_type": "execute_result"
    }
   ],
   "source": [
    "R[1,1]"
   ]
  },
  {
   "cell_type": "markdown",
   "metadata": {},
   "source": [
    "---\n",
    "\n",
    "---\n",
    "\n",
    "---"
   ]
  },
  {
   "cell_type": "code",
   "execution_count": 98,
   "metadata": {
    "collapsed": true
   },
   "outputs": [],
   "source": [
    "from scipy import linalg"
   ]
  },
  {
   "cell_type": "code",
   "execution_count": 100,
   "metadata": {
    "collapsed": true
   },
   "outputs": [],
   "source": [
    "rows, columns = R.shape\n",
    "A = np.random.rand(rows, 2)"
   ]
  },
  {
   "cell_type": "code",
   "execution_count": null,
   "metadata": {
    "collapsed": true
   },
   "outputs": [],
   "source": [
    "    mask = np.sign(X)\n",
    "    # initial matrices. A is random [0,1] and Y is A\\X.\n",
    "    rows, columns = X.shape\n",
    "    A = np.random.rand(rows, latent_features)\n",
    "    A = np.maximum(A, eps)\n",
    "\n",
    "    Y = linalg.lstsq(A, X)[0]\n",
    "    Y = np.maximum(Y, eps)\n",
    "\n",
    "    masked_X = mask * X\n",
    "    X_est_prev = dot(A, Y)\n",
    "# updates\n",
    "        top = dot(masked_X, Y.T)\n",
    "        bottom = (dot((mask * dot(A, Y)), Y.T)) + eps\n",
    "        A *= top / bottom\n",
    "\n",
    "        A = np.maximum(A, eps)\n",
    "        # print 'A',  np.round(A, 2)\n",
    "\n",
    "        top = dot(A.T, masked_X)\n",
    "        bottom = dot(A.T, mask * dot(A, Y)) + eps\n",
    "        Y *= top / bottom\n",
    "        Y = np.maximum(Y, eps)\n",
    "        # print 'Y', np.round(Y, 2)\n",
    "\n",
    "\n",
    "        # evaluation\n",
    "        if i % 200 == 0 or i == 1 or i == max_iter:\n",
    "            print 'Iteration {}:'.format(i),\n",
    "            X_est = dot(A, Y)\n",
    "            err = mask * (X_est_prev - X_est)\n",
    "            fit_residual = np.sqrt(np.sum(err ** 2))\n",
    "            X_est_prev = X_est\n",
    "\n",
    "            curRes = linalg.norm(mask * (X - X_est), ord='fro')\n",
    "            print 'fit residual', np.round(fit_residual, 4),\n",
    "            print 'total residual', np.round(curRes, 4)\n",
    "            if curRes < error_limit or fit_residual < fit_error_limit:\n",
    "                break"
   ]
  },
  {
   "cell_type": "code",
   "execution_count": 190,
   "metadata": {
    "collapsed": false
   },
   "outputs": [
    {
     "name": "stdout",
     "output_type": "stream",
     "text": [
      "CPU times: user 5min 57s, sys: 1.89 s, total: 5min 59s\n",
      "Wall time: 6min 1s\n"
     ]
    }
   ],
   "source": [
    "%%time\n",
    "\n",
    "R = rawMatrixTrain\n",
    "\n",
    "nP, nQ = matrix_factorization(R, 10, steps=40,eps=1e-3)\n",
    "nR = np.dot(nP, nQ.T)"
   ]
  },
  {
   "cell_type": "code",
   "execution_count": 191,
   "metadata": {
    "collapsed": false
   },
   "outputs": [
    {
     "data": {
      "text/plain": [
       "0.93011954506905736"
      ]
     },
     "execution_count": 191,
     "metadata": {},
     "output_type": "execute_result"
    }
   ],
   "source": [
    "masqueTest=np.sign(rawMatrixTest)\n",
    "\n",
    "aa=masqueTest*rawMatrix\n",
    "\"\"\"\n",
    "for idxi,i in enumerate(aa):\n",
    "    for idxj,j in enumerate(i):\n",
    "        if j>5:\n",
    "            aa[idxi][idxj]=5\n",
    "            \"\"\"\n",
    "q = masqueTest*nR - rawMatrixTest\n",
    "\n",
    "(q*q).sum()/ masqueTest.sum()"
   ]
  },
  {
   "cell_type": "code",
   "execution_count": 30,
   "metadata": {
    "collapsed": false
   },
   "outputs": [
    {
     "data": {
      "text/plain": [
       "array([[ 2.2328501 ,  2.86127689,  2.78138309,  2.18936119,  1.94124401],\n",
       "       [ 2.873597  ,  3.01024103,  3.39995977,  2.86989372,  2.98342851],\n",
       "       [ 2.39437824,  2.9654892 ,  2.95946595,  2.25596745,  2.07565552],\n",
       "       [ 1.51408587,  2.19458866,  2.42556026,  1.70330838,  1.66845702],\n",
       "       [ 3.28392919,  3.92596689,  3.90235368,  3.32824406,  3.11129257]])"
      ]
     },
     "execution_count": 30,
     "metadata": {},
     "output_type": "execute_result"
    }
   ],
   "source": [
    "nR[:5,:5]"
   ]
  },
  {
   "cell_type": "code",
   "execution_count": 31,
   "metadata": {
    "collapsed": false
   },
   "outputs": [
    {
     "data": {
      "text/plain": [
       "array([[ 0.,  0.,  0.,  0.,  0.],\n",
       "       [ 0.,  5.,  3.,  4.,  3.],\n",
       "       [ 0.,  4.,  0.,  0.,  0.],\n",
       "       [ 0.,  0.,  0.,  0.,  0.],\n",
       "       [ 0.,  0.,  0.,  0.,  0.]])"
      ]
     },
     "execution_count": 31,
     "metadata": {},
     "output_type": "execute_result"
    }
   ],
   "source": [
    "rawMatrix[:5,:5]"
   ]
  },
  {
   "cell_type": "code",
   "execution_count": 32,
   "metadata": {
    "collapsed": false
   },
   "outputs": [
    {
     "ename": "NameError",
     "evalue": "name 'evalMF' is not defined",
     "output_type": "error",
     "traceback": [
      "\u001b[0;31m---------------------------------------------------------------------------\u001b[0m",
      "\u001b[0;31mNameError\u001b[0m                                 Traceback (most recent call last)",
      "\u001b[0;32m<ipython-input-32-3ba1d810045a>\u001b[0m in \u001b[0;36m<module>\u001b[0;34m()\u001b[0m\n\u001b[0;32m----> 1\u001b[0;31m \u001b[0mmf\u001b[0m\u001b[0;34m=\u001b[0m \u001b[0mevalMF\u001b[0m\u001b[0;34m(\u001b[0m\u001b[0mnR\u001b[0m\u001b[0;34m,\u001b[0m\u001b[0mdata\u001b[0m\u001b[0;34m,\u001b[0m\u001b[0mmovies\u001b[0m\u001b[0;34m)\u001b[0m\u001b[0;34m\u001b[0m\u001b[0m\n\u001b[0m\u001b[1;32m      2\u001b[0m \u001b[0mmf\u001b[0m\u001b[0;34m.\u001b[0m\u001b[0mpredict\u001b[0m\u001b[0;34m(\u001b[0m\u001b[0;34m\"1\"\u001b[0m\u001b[0;34m,\u001b[0m\u001b[0;34m\"Akira (1988)\"\u001b[0m\u001b[0;34m)\u001b[0m\u001b[0;34m\u001b[0m\u001b[0m\n",
      "\u001b[0;31mNameError\u001b[0m: name 'evalMF' is not defined"
     ]
    }
   ],
   "source": [
    "mf= evalMF(nR,data,movies)\n",
    "mf.predict(\"1\",\"Akira (1988)\")"
   ]
  },
  {
   "cell_type": "code",
   "execution_count": 47,
   "metadata": {
    "collapsed": false
   },
   "outputs": [
    {
     "data": {
      "text/plain": [
       "1.5532842864204328"
      ]
     },
     "execution_count": 47,
     "metadata": {},
     "output_type": "execute_result"
    }
   ],
   "source": [
    "np.array([ (float(ra[2]) - mf.predict(ra[0],ra[1]))**2 for ra in rawArrayTest]).mean()"
   ]
  },
  {
   "cell_type": "code",
   "execution_count": null,
   "metadata": {
    "collapsed": true
   },
   "outputs": [],
   "source": []
  }
 ],
 "metadata": {
  "kernelspec": {
   "display_name": "Python 2",
   "language": "python",
   "name": "python2"
  },
  "language_info": {
   "codemirror_mode": {
    "name": "ipython",
    "version": 2
   },
   "file_extension": ".py",
   "mimetype": "text/x-python",
   "name": "python",
   "nbconvert_exporter": "python",
   "pygments_lexer": "ipython2",
   "version": "2.7.10"
  }
 },
 "nbformat": 4,
 "nbformat_minor": 0
}
