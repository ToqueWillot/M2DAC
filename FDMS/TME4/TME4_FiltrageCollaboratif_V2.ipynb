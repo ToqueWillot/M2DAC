{
 "cells": [
  {
   "cell_type": "code",
   "execution_count": 1,
   "metadata": {
    "collapsed": true
   },
   "outputs": [],
   "source": [
    "from random import random\n",
    "import math\n",
    "import numpy as np\n",
    "import copy"
   ]
  },
  {
   "cell_type": "code",
   "execution_count": 2,
   "metadata": {
    "collapsed": false
   },
   "outputs": [],
   "source": [
    "def loadMovieLens(path='./data/movielens'):\n",
    "    #Get movie titles\n",
    "    movies={}\n",
    "    rev_movies={}\n",
    "    for idx,line in enumerate(open(path+'/u.item')):\n",
    "        idx,title=line.split('|')[0:2]\n",
    "        movies[idx]=title\n",
    "        rev_movies[title]=idx\n",
    "\n",
    "    # Load data\n",
    "    prefs={}\n",
    "    for line in open(path+'/u.data'):\n",
    "        (user,movieid,rating,ts)=line.split('\\t')\n",
    "        prefs.setdefault(user,{})\n",
    "        prefs[user][movies[movieid]]=float(rating)\n",
    "        \n",
    "    return prefs,rev_movies"
   ]
  },
  {
   "cell_type": "code",
   "execution_count": 3,
   "metadata": {
    "collapsed": false
   },
   "outputs": [],
   "source": [
    "data,movies = loadMovieLens(\"data/ml-100k\")"
   ]
  },
  {
   "cell_type": "code",
   "execution_count": 4,
   "metadata": {
    "collapsed": false
   },
   "outputs": [
    {
     "data": {
      "text/plain": [
       "{'187 (1997)': 2.0,\n",
       " 'Air Force One (1997)': 2.0,\n",
       " 'Alien: Resurrection (1997)': 3.0,\n",
       " 'Apostle, The (1997)': 4.0,\n",
       " 'Bean (1997)': 2.0,\n",
       " 'Boogie Nights (1997)': 5.0,\n",
       " 'Chasing Amy (1997)': 3.0,\n",
       " 'Conspiracy Theory (1997)': 5.0,\n",
       " 'Contact (1997)': 2.0,\n",
       " 'Cop Land (1997)': 4.0,\n",
       " 'Crash (1996)': 1.0,\n",
       " 'Critical Care (1997)': 1.0,\n",
       " \"Dante's Peak (1997)\": 2.0,\n",
       " 'Deconstructing Harry (1997)': 3.0,\n",
       " 'Deep Rising (1998)': 1.0,\n",
       " 'Desperate Measures (1998)': 4.0,\n",
       " \"Devil's Advocate, The (1997)\": 3.0,\n",
       " \"Devil's Own, The (1997)\": 1.0,\n",
       " 'Edge, The (1997)': 4.0,\n",
       " 'Event Horizon (1997)': 4.0,\n",
       " 'Everyone Says I Love You (1996)': 2.0,\n",
       " 'Fallen (1998)': 3.0,\n",
       " 'G.I. Jane (1997)': 2.0,\n",
       " 'Game, The (1997)': 2.0,\n",
       " 'Good Will Hunting (1997)': 2.0,\n",
       " 'Hard Rain (1998)': 3.0,\n",
       " 'Hoodlum (1997)': 3.0,\n",
       " 'House of Yes, The (1997)': 1.0,\n",
       " 'How to Be a Player (1997)': 1.0,\n",
       " 'In the Name of the Father (1993)': 2.0,\n",
       " 'Jackie Brown (1997)': 5.0,\n",
       " 'Kiss the Girls (1997)': 1.0,\n",
       " 'L.A. Confidential (1997)': 2.0,\n",
       " 'Liar Liar (1997)': 2.0,\n",
       " 'Lost Highway (1997)': 2.0,\n",
       " 'Mad City (1997)': 3.0,\n",
       " 'Man Who Knew Too Little, The (1997)': 4.0,\n",
       " 'Mimic (1997)': 2.0,\n",
       " 'Mother (1996)': 5.0,\n",
       " 'Murder at 1600 (1997)': 3.0,\n",
       " 'Paradise Lost: The Child Murders at Robin Hood Hills (1996)': 5.0,\n",
       " 'Playing God (1997)': 1.0,\n",
       " 'Prophecy II, The (1998)': 3.0,\n",
       " 'Return of the Jedi (1983)': 4.0,\n",
       " \"Schindler's List (1993)\": 4.0,\n",
       " 'Scream (1996)': 2.0,\n",
       " 'Sphere (1998)': 3.0,\n",
       " 'Spice World (1997)': 2.0,\n",
       " 'Starship Troopers (1997)': 3.0,\n",
       " 'U Turn (1997)': 3.0,\n",
       " \"Ulee's Gold (1997)\": 3.0,\n",
       " 'Wag the Dog (1997)': 5.0,\n",
       " 'Wedding Singer, The (1998)': 3.0}"
      ]
     },
     "execution_count": 4,
     "metadata": {},
     "output_type": "execute_result"
    }
   ],
   "source": [
    "data['3']"
   ]
  },
  {
   "cell_type": "code",
   "execution_count": 5,
   "metadata": {
    "collapsed": true
   },
   "outputs": [],
   "source": [
    "def getRawArray(data):\n",
    "    d = []\n",
    "    for u in data.keys():\n",
    "        for i in data[u].keys():\n",
    "            d.append([u,i,data[u][i]])\n",
    "    return np.array(d)"
   ]
  },
  {
   "cell_type": "code",
   "execution_count": 6,
   "metadata": {
    "collapsed": true
   },
   "outputs": [],
   "source": [
    "# splitting while avoiding to reduce the dataset too much\n",
    "def split_train_test(data,percent_test):\n",
    "    test={}\n",
    "    train={}\n",
    "    movie={}\n",
    "    for u in data.keys():\n",
    "        test.setdefault(u,{})\n",
    "        train.setdefault(u,{})\n",
    "        for movie in data[u]:\n",
    "            #print(data[u][movie])\n",
    "            if (random()<percent_test):\n",
    "                test[u][movie]=data[u][movie]\n",
    "            else:\n",
    "                train[u][movie]=data[u][movie]\n",
    "    return train, test"
   ]
  },
  {
   "cell_type": "code",
   "execution_count": 7,
   "metadata": {
    "collapsed": true
   },
   "outputs": [],
   "source": [
    "def split_train_test_by_movies(data,percent_test):\n",
    "    test={}\n",
    "    train={}\n",
    "    movie={}\n",
    "    for u in data.keys():\n",
    "        for movie in data[u]:\n",
    "            if (random()<percent_test):\n",
    "                try:\n",
    "                    test[movie][u]=data[u][movie]\n",
    "                except KeyError:\n",
    "                    test.setdefault(movie,{})\n",
    "                    test[movie][u]=data[u][movie]\n",
    "            else:\n",
    "                try:\n",
    "                    train[movie][u]=data[u][movie]\n",
    "                except KeyError:\n",
    "                    train.setdefault(movie,{})\n",
    "                    train[movie][u]=data[u][movie]\n",
    "    return train, test"
   ]
  },
  {
   "cell_type": "code",
   "execution_count": 8,
   "metadata": {
    "collapsed": true
   },
   "outputs": [],
   "source": [
    "percent_test=0.2\n",
    "train,test=split_train_test(data,percent_test)"
   ]
  },
  {
   "cell_type": "code",
   "execution_count": 9,
   "metadata": {
    "collapsed": false
   },
   "outputs": [],
   "source": [
    "percent_test=0.2\n",
    "m_train,m_test=split_train_test_by_movies(data,percent_test)"
   ]
  },
  {
   "cell_type": "code",
   "execution_count": 10,
   "metadata": {
    "collapsed": false
   },
   "outputs": [],
   "source": [
    "def deleteUnseenInTest(train,test):\n",
    "    for k in test.keys():\n",
    "        try:\n",
    "            train[k]\n",
    "        except KeyError:\n",
    "            test.pop(k,None)"
   ]
  },
  {
   "cell_type": "code",
   "execution_count": 11,
   "metadata": {
    "collapsed": true
   },
   "outputs": [],
   "source": [
    "deleteUnseenInTest(train,test)\n",
    "deleteUnseenInTest(m_train,m_test)"
   ]
  },
  {
   "cell_type": "code",
   "execution_count": 12,
   "metadata": {
    "collapsed": true
   },
   "outputs": [],
   "source": [
    "rawArray = getRawArray(data)\n",
    "rawArrayTest = getRawArray(test)"
   ]
  },
  {
   "cell_type": "markdown",
   "metadata": {},
   "source": [
    "---"
   ]
  },
  {
   "cell_type": "markdown",
   "metadata": {},
   "source": [
    "## Baseline: mean by user"
   ]
  },
  {
   "cell_type": "code",
   "execution_count": 13,
   "metadata": {
    "collapsed": true
   },
   "outputs": [],
   "source": [
    "class baselineMeanMovie:\n",
    "    def __init__(self):\n",
    "        self.users={}\n",
    "        self.movies={}\n",
    "    def fit(self,train):\n",
    "        movies = get_moove(train)\n",
    "        for movie in movies:\n",
    "            note=0.0\n",
    "            cpt=0\n",
    "            for user in train:\n",
    "                try:\n",
    "                    note+=train[user][movie]\n",
    "                    cpt+=1\n",
    "                except KeyError:\n",
    "                    pass\n",
    "            note=note/cpt\n",
    "            self.movies[movie]=note\n",
    "        \n",
    "    def predict(self,user,movie):\n",
    "        return self.movies[movie]\n",
    "    def score(self,X):\n",
    "        nb_movies = len(get_moove(X))\n",
    "        score = 0.0\n",
    "        for user in X:\n",
    "            for movie in X[user]:\n",
    "                score += (self.predict(user,movie) - X[user][movie])**2\n",
    "        return score/nb_movies"
   ]
  },
  {
   "cell_type": "code",
   "execution_count": 14,
   "metadata": {
    "collapsed": true
   },
   "outputs": [],
   "source": [
    "class baselineMeanUser:\n",
    "    def __init__(self):\n",
    "        self.users={}\n",
    "    def fit(self,train):\n",
    "        for user in train.keys():\n",
    "            note=0.0\n",
    "            for movie in train[user].keys():\n",
    "                note+=train[user][movie]\n",
    "            note=note/len(train[user])\n",
    "            self.users[user]=note\n",
    "        \n",
    "    def predict(self,users):\n",
    "        return [self.users[u] for u in users]"
   ]
  },
  {
   "cell_type": "code",
   "execution_count": 15,
   "metadata": {
    "collapsed": false
   },
   "outputs": [
    {
     "name": "stdout",
     "output_type": "stream",
     "text": [
      "Mean Error 1.065131\n"
     ]
    }
   ],
   "source": [
    "baseline_mu= baselineMeanUser()\n",
    "baseline_mu.fit(train)\n",
    "pred = baseline_mu.predict(rawArray[:,0])\n",
    "print(\"Mean Error %0.6f\" %(\n",
    "        (np.array(pred) - np.array(rawArray[:,2], float)) ** 2).mean())"
   ]
  },
  {
   "cell_type": "code",
   "execution_count": 16,
   "metadata": {
    "collapsed": false
   },
   "outputs": [],
   "source": [
    "class baselineMeanMovie:\n",
    "    def __init__(self):\n",
    "        self.movies={}\n",
    "    def fit(self,train):\n",
    "        for movie in train.keys():\n",
    "            note=0.0\n",
    "            for user in train[movie].keys():\n",
    "                note+=train[movie][user]\n",
    "            note=note/len(train[movie])\n",
    "            self.movies[movie]=note\n",
    "        \n",
    "    def predict(self,movies):\n",
    "        res=[]\n",
    "        for m in movies:\n",
    "            try:\n",
    "                res.append(self.movies[m])\n",
    "            except:\n",
    "                res.append(3)\n",
    "        return res"
   ]
  },
  {
   "cell_type": "code",
   "execution_count": 17,
   "metadata": {
    "collapsed": false
   },
   "outputs": [
    {
     "name": "stdout",
     "output_type": "stream",
     "text": [
      "Mean Error 1.009774\n"
     ]
    }
   ],
   "source": [
    "baseline_mm= baselineMeanMovie()\n",
    "baseline_mm.fit(m_train)\n",
    "pred = baseline_mm.predict(rawArrayTest[:,1])\n",
    "print(\"Mean Error %0.6f\" %(\n",
    "        (np.array(pred) - np.array(rawArrayTest[:,2], float)) ** 2).mean())"
   ]
  },
  {
   "cell_type": "code",
   "execution_count": 18,
   "metadata": {
    "collapsed": false,
    "scrolled": true
   },
   "outputs": [
    {
     "data": {
      "text/plain": [
       "{'125': 4.0, '181': 1.0, '200': 3.0, '222': 2.0, '592': 2.0}"
      ]
     },
     "execution_count": 18,
     "metadata": {},
     "output_type": "execute_result"
    }
   ],
   "source": [
    "m_test['Adventures of Pinocchio, The (1996)']"
   ]
  },
  {
   "cell_type": "code",
   "execution_count": 19,
   "metadata": {
    "collapsed": false
   },
   "outputs": [
    {
     "data": {
      "text/plain": [
       "array([['344', 'Birdcage, The (1996)', '4.0'],\n",
       "       ['344', 'Enchanted April (1991)', '4.0'],\n",
       "       ['344', 'Diabolique (1996)', '2.0'],\n",
       "       ['344', 'Face/Off (1997)', '4.0'],\n",
       "       ['344', 'My Fellow Americans (1996)', '3.0']], \n",
       "      dtype='|S81')"
      ]
     },
     "execution_count": 19,
     "metadata": {},
     "output_type": "execute_result"
    }
   ],
   "source": [
    "rawArray[:5]"
   ]
  },
  {
   "cell_type": "code",
   "execution_count": 20,
   "metadata": {
    "collapsed": false
   },
   "outputs": [
    {
     "data": {
      "text/plain": [
       "241"
      ]
     },
     "execution_count": 20,
     "metadata": {},
     "output_type": "execute_result"
    }
   ],
   "source": [
    "len(m_train['Birdcage, The (1996)'])"
   ]
  },
  {
   "cell_type": "markdown",
   "metadata": {},
   "source": [
    "---"
   ]
  },
  {
   "cell_type": "code",
   "execution_count": 175,
   "metadata": {
    "collapsed": true
   },
   "outputs": [],
   "source": [
    "class matrixFactorisation():\n",
    "    def __init__(self, k, lambd=0.2, eps=1e-5, maxIter=2000, alternate=0):\n",
    "        self.k = k\n",
    "        self.lambd = lambd\n",
    "        self.eps = eps\n",
    "        self.maxIter = maxIter\n",
    "        self.alternate = alternate\n",
    "    def fit(self, dataUsers, dataItems, couples):\n",
    "        self.p = {}\n",
    "        self.q = {}\n",
    "        self.couples = couples\n",
    "        self.loss = []\n",
    "        optimP = True\n",
    "        optimQ = (self.alternate == 0)\n",
    "        for i in xrange(self.maxIter):\n",
    "            loss = 0\n",
    "            for j in xrange(len(couples)):\n",
    "                r = np.random.randint(len(couples))\n",
    "                user = couples[r][0]\n",
    "                item = couples[r][1]\n",
    "                if not user in self.p:\n",
    "                    self.p[user] = np.random.rand(1,self.k)\n",
    "                if not item in self.q:\n",
    "                    self.q[item] = np.random.rand(self.k,1)\n",
    "                tmp = dataUsers[user][item] - self.p[user].dot(self.q[item])[0][0]\n",
    "                if (optimP):\n",
    "                    self.p[user] = (1 - self.lambd * self.eps) * self.p[user] + self.eps * 2 * tmp * self.q[item].transpose()\n",
    "                if (optimQ):\n",
    "                    self.q[item] = (1 - self.lambd * self.eps) * self.q[item] + self.eps * 2 * tmp * self.p[user].transpose()\n",
    "                loss = loss + tmp*tmp #Sans régularisation\n",
    "            self.loss.append(loss)\n",
    "            if (self.alternate != 0):\n",
    "                if (i % self.alternate == 0):\n",
    "                    oprimP = False if optimQ else True\n",
    "                    print i, loss / len(couples)\n",
    "            else:\n",
    "                if (i % 100 == 0):\n",
    "                    print i, loss / len(couples)\n",
    "    def predict(self, couplesTest):\n",
    "        pred = np.zeros(len(couplesTest))\n",
    "        for ind,c in enumerate(couplesTest):\n",
    "            pred[ind] = self.p[c[0]].dot(self.q[c[1]])[0][0]\n",
    "        return pred"
   ]
  },
  {
   "cell_type": "code",
   "execution_count": 176,
   "metadata": {
    "collapsed": false
   },
   "outputs": [
    {
     "name": "stdout",
     "output_type": "stream",
     "text": [
      "0 2.77841840868\n",
      "100 1.26732246398\n",
      "200 1.05346402861\n",
      "300 0.983480018466\n",
      "400 0.940916112566\n",
      "500 0.912340589664\n",
      "600 0.895851403893\n",
      "700 0.880687032448\n"
     ]
    },
    {
     "ename": "KeyboardInterrupt",
     "evalue": "",
     "output_type": "error",
     "traceback": [
      "\u001b[0;31m---------------------------------------------------------------------------\u001b[0m",
      "\u001b[0;31mKeyboardInterrupt\u001b[0m                         Traceback (most recent call last)",
      "\u001b[0;32m<ipython-input-176-d96c14626eab>\u001b[0m in \u001b[0;36m<module>\u001b[0;34m()\u001b[0m\n\u001b[1;32m      1\u001b[0m \u001b[0mmodel3\u001b[0m \u001b[0;34m=\u001b[0m \u001b[0mmatrixFactorisation\u001b[0m\u001b[0;34m(\u001b[0m\u001b[0;36m10\u001b[0m\u001b[0;34m,\u001b[0m \u001b[0malternate\u001b[0m\u001b[0;34m=\u001b[0m\u001b[0;36m0\u001b[0m\u001b[0;34m)\u001b[0m\u001b[0;34m\u001b[0m\u001b[0m\n\u001b[0;32m----> 2\u001b[0;31m \u001b[0mmodel3\u001b[0m\u001b[0;34m.\u001b[0m\u001b[0mfit\u001b[0m\u001b[0;34m(\u001b[0m\u001b[0mtrainUsers\u001b[0m\u001b[0;34m,\u001b[0m \u001b[0mtrainItems\u001b[0m\u001b[0;34m,\u001b[0m \u001b[0mtrainCouples\u001b[0m\u001b[0;34m)\u001b[0m\u001b[0;34m\u001b[0m\u001b[0m\n\u001b[0m",
      "\u001b[0;32m<ipython-input-175-885d71f2654b>\u001b[0m in \u001b[0;36mfit\u001b[0;34m(self, dataUsers, dataItems, couples)\u001b[0m\n\u001b[1;32m     23\u001b[0m                 \u001b[0;32mif\u001b[0m \u001b[0;32mnot\u001b[0m \u001b[0mitem\u001b[0m \u001b[0;32min\u001b[0m \u001b[0mself\u001b[0m\u001b[0;34m.\u001b[0m\u001b[0mq\u001b[0m\u001b[0;34m:\u001b[0m\u001b[0;34m\u001b[0m\u001b[0m\n\u001b[1;32m     24\u001b[0m                     \u001b[0mself\u001b[0m\u001b[0;34m.\u001b[0m\u001b[0mq\u001b[0m\u001b[0;34m[\u001b[0m\u001b[0mitem\u001b[0m\u001b[0;34m]\u001b[0m \u001b[0;34m=\u001b[0m \u001b[0mnp\u001b[0m\u001b[0;34m.\u001b[0m\u001b[0mrandom\u001b[0m\u001b[0;34m.\u001b[0m\u001b[0mrand\u001b[0m\u001b[0;34m(\u001b[0m\u001b[0mself\u001b[0m\u001b[0;34m.\u001b[0m\u001b[0mk\u001b[0m\u001b[0;34m,\u001b[0m\u001b[0;36m1\u001b[0m\u001b[0;34m)\u001b[0m\u001b[0;34m\u001b[0m\u001b[0m\n\u001b[0;32m---> 25\u001b[0;31m                 \u001b[0mtmp\u001b[0m \u001b[0;34m=\u001b[0m \u001b[0mdataUsers\u001b[0m\u001b[0;34m[\u001b[0m\u001b[0muser\u001b[0m\u001b[0;34m]\u001b[0m\u001b[0;34m[\u001b[0m\u001b[0mitem\u001b[0m\u001b[0;34m]\u001b[0m \u001b[0;34m-\u001b[0m \u001b[0mself\u001b[0m\u001b[0;34m.\u001b[0m\u001b[0mp\u001b[0m\u001b[0;34m[\u001b[0m\u001b[0muser\u001b[0m\u001b[0;34m]\u001b[0m\u001b[0;34m.\u001b[0m\u001b[0mdot\u001b[0m\u001b[0;34m(\u001b[0m\u001b[0mself\u001b[0m\u001b[0;34m.\u001b[0m\u001b[0mq\u001b[0m\u001b[0;34m[\u001b[0m\u001b[0mitem\u001b[0m\u001b[0;34m]\u001b[0m\u001b[0;34m)\u001b[0m\u001b[0;34m[\u001b[0m\u001b[0;36m0\u001b[0m\u001b[0;34m]\u001b[0m\u001b[0;34m[\u001b[0m\u001b[0;36m0\u001b[0m\u001b[0;34m]\u001b[0m\u001b[0;34m\u001b[0m\u001b[0m\n\u001b[0m\u001b[1;32m     26\u001b[0m                 \u001b[0;32mif\u001b[0m \u001b[0;34m(\u001b[0m\u001b[0moptimP\u001b[0m\u001b[0;34m)\u001b[0m\u001b[0;34m:\u001b[0m\u001b[0;34m\u001b[0m\u001b[0m\n\u001b[1;32m     27\u001b[0m                     \u001b[0mself\u001b[0m\u001b[0;34m.\u001b[0m\u001b[0mp\u001b[0m\u001b[0;34m[\u001b[0m\u001b[0muser\u001b[0m\u001b[0;34m]\u001b[0m \u001b[0;34m=\u001b[0m \u001b[0;34m(\u001b[0m\u001b[0;36m1\u001b[0m \u001b[0;34m-\u001b[0m \u001b[0mself\u001b[0m\u001b[0;34m.\u001b[0m\u001b[0mlambd\u001b[0m \u001b[0;34m*\u001b[0m \u001b[0mself\u001b[0m\u001b[0;34m.\u001b[0m\u001b[0meps\u001b[0m\u001b[0;34m)\u001b[0m \u001b[0;34m*\u001b[0m \u001b[0mself\u001b[0m\u001b[0;34m.\u001b[0m\u001b[0mp\u001b[0m\u001b[0;34m[\u001b[0m\u001b[0muser\u001b[0m\u001b[0;34m]\u001b[0m \u001b[0;34m+\u001b[0m \u001b[0mself\u001b[0m\u001b[0;34m.\u001b[0m\u001b[0meps\u001b[0m \u001b[0;34m*\u001b[0m \u001b[0;36m2\u001b[0m \u001b[0;34m*\u001b[0m \u001b[0mtmp\u001b[0m \u001b[0;34m*\u001b[0m \u001b[0mself\u001b[0m\u001b[0;34m.\u001b[0m\u001b[0mq\u001b[0m\u001b[0;34m[\u001b[0m\u001b[0mitem\u001b[0m\u001b[0;34m]\u001b[0m\u001b[0;34m.\u001b[0m\u001b[0mtranspose\u001b[0m\u001b[0;34m(\u001b[0m\u001b[0;34m)\u001b[0m\u001b[0;34m\u001b[0m\u001b[0m\n",
      "\u001b[0;31mKeyboardInterrupt\u001b[0m: "
     ]
    }
   ],
   "source": [
    "model3 = matrixFactorisation(10, alternate=0)\n",
    "model3.fit(trainUsers, trainItems, trainCouples)"
   ]
  },
  {
   "cell_type": "code",
   "execution_count": 22,
   "metadata": {
    "collapsed": false
   },
   "outputs": [
    {
     "ename": "AttributeError",
     "evalue": "'module' object has no attribute 'dok_matrix'",
     "output_type": "error",
     "traceback": [
      "\u001b[0;31m---------------------------------------------------------------------------\u001b[0m",
      "\u001b[0;31mAttributeError\u001b[0m                            Traceback (most recent call last)",
      "\u001b[0;32m<ipython-input-22-734a04c46e62>\u001b[0m in \u001b[0;36m<module>\u001b[0;34m()\u001b[0m\n\u001b[1;32m      1\u001b[0m \u001b[0;34m\u001b[0m\u001b[0m\n\u001b[0;32m----> 2\u001b[0;31m \u001b[0mdm\u001b[0m \u001b[0;34m=\u001b[0m \u001b[0mnp\u001b[0m\u001b[0;34m.\u001b[0m\u001b[0mdok_matrix\u001b[0m\u001b[0;34m(\u001b[0m\u001b[0mtrain\u001b[0m\u001b[0;34m)\u001b[0m\u001b[0;34m\u001b[0m\u001b[0m\n\u001b[0m",
      "\u001b[0;31mAttributeError\u001b[0m: 'module' object has no attribute 'dok_matrix'"
     ]
    }
   ],
   "source": [
    "\n",
    "dm = np.dok_matrix(train)"
   ]
  },
  {
   "cell_type": "code",
   "execution_count": 88,
   "metadata": {
    "collapsed": false
   },
   "outputs": [
    {
     "name": "stdout",
     "output_type": "stream",
     "text": [
      "1664\n",
      "943\n"
     ]
    }
   ],
   "source": [
    "print(len(movies))\n",
    "print(len(data.keys()))"
   ]
  },
  {
   "cell_type": "code",
   "execution_count": 64,
   "metadata": {
    "collapsed": false
   },
   "outputs": [
    {
     "data": {
      "text/plain": [
       "'1060'"
      ]
     },
     "execution_count": 64,
     "metadata": {},
     "output_type": "execute_result"
    }
   ],
   "source": [
    "movies[\"Adventures of Pinocchio, The (1996)\"]"
   ]
  },
  {
   "cell_type": "code",
   "execution_count": 82,
   "metadata": {
    "collapsed": false
   },
   "outputs": [],
   "source": [
    "rawMatrix = np.zeros((len(data.keys())+1,1682+1))"
   ]
  },
  {
   "cell_type": "code",
   "execution_count": 83,
   "metadata": {
    "collapsed": false
   },
   "outputs": [
    {
     "data": {
      "text/plain": [
       "(944, 1683)"
      ]
     },
     "execution_count": 83,
     "metadata": {},
     "output_type": "execute_result"
    }
   ],
   "source": [
    "np.shape(rawMatrix)"
   ]
  },
  {
   "cell_type": "code",
   "execution_count": 84,
   "metadata": {
    "collapsed": false
   },
   "outputs": [
    {
     "data": {
      "text/plain": [
       "2.0"
      ]
     },
     "execution_count": 84,
     "metadata": {},
     "output_type": "execute_result"
    }
   ],
   "source": [
    "data[\"1\"][\"101 Dalmatians (1996)\"]"
   ]
  },
  {
   "cell_type": "code",
   "execution_count": 85,
   "metadata": {
    "collapsed": false
   },
   "outputs": [],
   "source": [
    "for u in data:\n",
    "    for m in data[u]:\n",
    "        rawMatrix[int(u)][int(movies[m])] = data[u][m]"
   ]
  },
  {
   "cell_type": "code",
   "execution_count": 87,
   "metadata": {
    "collapsed": false
   },
   "outputs": [
    {
     "data": {
      "text/plain": [
       "array([[ 0.,  0.,  0., ...,  0.,  0.,  0.],\n",
       "       [ 0.,  5.,  3., ...,  0.,  0.,  0.],\n",
       "       [ 0.,  4.,  0., ...,  0.,  0.,  0.],\n",
       "       [ 0.,  0.,  0., ...,  0.,  0.,  0.],\n",
       "       [ 0.,  0.,  0., ...,  0.,  0.,  0.]])"
      ]
     },
     "execution_count": 87,
     "metadata": {},
     "output_type": "execute_result"
    }
   ],
   "source": [
    "rawMatrix[:5][:5]"
   ]
  },
  {
   "cell_type": "code",
   "execution_count": 98,
   "metadata": {
    "collapsed": false
   },
   "outputs": [],
   "source": [
    "import numpy as np\n",
    "from scipy import linalg\n",
    "from numpy import dot\n",
    "\n",
    "def nmf(X, latent_features, max_iter=100, error_limit=1e-6, fit_error_limit=1e-6):\n",
    "    \"\"\"\n",
    "    Decompose X to A*Y\n",
    "    \"\"\"\n",
    "    eps = 1e-5\n",
    "    print 'Starting NMF decomposition with {} latent features and {} iterations.'.format(latent_features, max_iter)\n",
    "    #X = X.toarray()  # I am passing in a scipy sparse matrix\n",
    "\n",
    "    # mask\n",
    "    mask = np.sign(X)\n",
    "\n",
    "    # initial matrices. A is random [0,1] and Y is A\\X.\n",
    "    rows, columns = X.shape\n",
    "    A = np.random.rand(rows, latent_features)\n",
    "    A = np.maximum(A, eps)\n",
    "\n",
    "    Y = linalg.lstsq(A, X)[0]\n",
    "    Y = np.maximum(Y, eps)\n",
    "\n",
    "    masked_X = mask * X\n",
    "    X_est_prev = dot(A, Y)\n",
    "    for i in range(1, max_iter + 1):\n",
    "        # updates\n",
    "        top = dot(masked_X, Y.T)\n",
    "        bottom = (dot((mask * dot(A, Y)), Y.T)) + eps\n",
    "        A *= top / bottom\n",
    "\n",
    "        A = np.maximum(A, eps)\n",
    "        # print 'A',  np.round(A, 2)\n",
    "\n",
    "        top = dot(A.T, masked_X)\n",
    "        bottom = dot(A.T, mask * dot(A, Y)) + eps\n",
    "        Y *= top / bottom\n",
    "        Y = np.maximum(Y, eps)\n",
    "        # print 'Y', np.round(Y, 2)\n",
    "\n",
    "\n",
    "        # evaluation\n",
    "        if i % 50 == 0 or i == 1 or i == max_iter:\n",
    "            print 'Iteration {}:'.format(i),\n",
    "            X_est = dot(A, Y)\n",
    "            err = mask * (X_est_prev - X_est)\n",
    "            fit_residual = np.sqrt(np.sum(err ** 2))\n",
    "            X_est_prev = X_est\n",
    "\n",
    "            curRes = linalg.norm(mask * (X - X_est), ord='fro')\n",
    "            print 'fit residual', np.round(fit_residual, 4),\n",
    "            print 'total residual', np.round(curRes, 4)\n",
    "            if curRes < error_limit or fit_residual < fit_error_limit:\n",
    "                break\n",
    "\n",
    "    return A, Y"
   ]
  },
  {
   "cell_type": "code",
   "execution_count": 104,
   "metadata": {
    "collapsed": false
   },
   "outputs": [
    {
     "name": "stdout",
     "output_type": "stream",
     "text": [
      "Starting NMF decomposition with 10 latent features and 1000 iterations.\n",
      "Iteration 1: fit residual 882.6755 total residual 336.9268\n",
      "Iteration 50: fit residual 202.99 total residual 255.134\n",
      "Iteration 100: fit residual 54.7172 total residual 245.6577\n",
      "Iteration 150: fit residual 33.4924 total residual 241.3665\n",
      "Iteration 200: fit residual 25.0348 total residual 238.6455\n",
      "Iteration 250: fit residual 21.4902 total residual 236.5486\n",
      "Iteration 300: fit residual 17.9908 total residual 234.943\n",
      "Iteration 350: fit residual 15.3883 total residual 233.6517\n",
      "Iteration 400: fit residual 13.878 total residual 232.545\n",
      "Iteration 450: fit residual 12.6491 total residual 231.5866\n",
      "Iteration 500: fit residual 11.4608 total residual 230.7769\n",
      "Iteration 550: fit residual 10.3756 total residual 230.0917\n",
      "Iteration 600: fit residual 9.5832 total residual 229.4888\n",
      "Iteration 650: fit residual 9.25 total residual 228.9448\n",
      "Iteration 700: fit residual 8.5896 total residual 228.4733\n",
      "Iteration 750: fit residual 8.0066 total residual 228.0668\n",
      "Iteration 800: fit residual 7.3645 total residual 227.7124\n",
      "Iteration 850: fit residual 7.1057 total residual 227.3899\n",
      "Iteration 900: fit residual 6.6246 total residual 227.0994\n",
      "Iteration 950: fit residual 6.3376 total residual 226.8345\n",
      "Iteration 1000: fit residual 5.7849 total residual 226.5979\n"
     ]
    }
   ],
   "source": [
    "A,Y = nmf(rawMatrix,10,max_iter=1000)"
   ]
  },
  {
   "cell_type": "code",
   "execution_count": 105,
   "metadata": {
    "collapsed": false
   },
   "outputs": [],
   "source": [
    "resMatrix = A.dot(Y)"
   ]
  },
  {
   "cell_type": "code",
   "execution_count": null,
   "metadata": {
    "collapsed": true
   },
   "outputs": [],
   "source": []
  },
  {
   "cell_type": "code",
   "execution_count": 150,
   "metadata": {
    "collapsed": true
   },
   "outputs": [],
   "source": [
    "class evalMF:\n",
    "    def __init__(self,resMatrix,dicU,dicI):\n",
    "        self.resMatrix=resMatrix\n",
    "        self.dicU = dicU\n",
    "        self.dicI = dicI\n",
    "    def fit(self):\n",
    "        pass\n",
    "        \n",
    "    def predict(self,user,movie):\n",
    "        #res=[]\n",
    "        #for m in movies:\n",
    "        #    try:\n",
    "        #        res.append(self.movies[m])\n",
    "        #    except:\n",
    "        #        res.append(3)\n",
    "        #return res\n",
    "        return self.resMatrix[int(user)][int(self.dicI[movie])]"
   ]
  },
  {
   "cell_type": "code",
   "execution_count": 152,
   "metadata": {
    "collapsed": false
   },
   "outputs": [],
   "source": [
    "mf= evalMF(resMatrix,data,movies)\n",
    "#baseline_mm.fit(m_train)\n",
    "#pred = baseline_mm.predict(rawArrayTest[:,1])\n",
    "#print(\"Mean Error %0.6f\" %(\n",
    "#        (np.array(pred) - np.array(rawArrayTest[:,2], float)) ** 2).mean())"
   ]
  },
  {
   "cell_type": "code",
   "execution_count": 153,
   "metadata": {
    "collapsed": false
   },
   "outputs": [
    {
     "data": {
      "text/plain": [
       "4.2954887468335441"
      ]
     },
     "execution_count": 153,
     "metadata": {},
     "output_type": "execute_result"
    }
   ],
   "source": [
    "mf.predict(\"1\",\"Akira (1988)\")"
   ]
  },
  {
   "cell_type": "code",
   "execution_count": 159,
   "metadata": {
    "collapsed": false
   },
   "outputs": [
    {
     "data": {
      "text/plain": [
       "1.3539530296470097"
      ]
     },
     "execution_count": 159,
     "metadata": {},
     "output_type": "execute_result"
    }
   ],
   "source": [
    "mf.predict(\"1\",\"All Dogs Go to Heaven 2 (1996)\")"
   ]
  },
  {
   "cell_type": "code",
   "execution_count": null,
   "metadata": {
    "collapsed": true
   },
   "outputs": [],
   "source": [
    "print(\"Mean Error %0.6f\" %(\n",
    "        (np.array(pred) - np.array(rawArrayTest[:,2], float)) ** 2).mean())"
   ]
  },
  {
   "cell_type": "code",
   "execution_count": 160,
   "metadata": {
    "collapsed": false
   },
   "outputs": [
    {
     "data": {
      "text/plain": [
       "array([['344', 'Birdcage, The (1996)', '4.0'],\n",
       "       ['344', 'Emma (1996)', '4.0'],\n",
       "       ['344', 'Diabolique (1996)', '2.0'],\n",
       "       ['344', 'Sleepers (1996)', '4.0'],\n",
       "       ['344', 'Breakdown (1997)', '3.0']], \n",
       "      dtype='|S79')"
      ]
     },
     "execution_count": 160,
     "metadata": {},
     "output_type": "execute_result"
    }
   ],
   "source": [
    "rawArrayTest[:5]"
   ]
  },
  {
   "cell_type": "code",
   "execution_count": 167,
   "metadata": {
    "collapsed": false
   },
   "outputs": [
    {
     "data": {
      "text/plain": [
       "0.51039178926982265"
      ]
     },
     "execution_count": 167,
     "metadata": {},
     "output_type": "execute_result"
    }
   ],
   "source": [
    "np.array([ (float(ra[2]) - mf.predict(ra[0],ra[1]))**2 for ra in rawArrayTest]).mean()"
   ]
  },
  {
   "cell_type": "code",
   "execution_count": 154,
   "metadata": {
    "collapsed": false
   },
   "outputs": [
    {
     "data": {
      "text/plain": [
       "{'101 Dalmatians (1996)': 2.0,\n",
       " '20,000 Leagues Under the Sea (1954)': 3.0,\n",
       " '2001: A Space Odyssey (1968)': 4.0,\n",
       " 'Abyss, The (1989)': 3.0,\n",
       " 'Ace Ventura: Pet Detective (1994)': 3.0,\n",
       " 'Air Bud (1997)': 1.0,\n",
       " 'Aladdin (1992)': 4.0,\n",
       " 'Alien (1979)': 5.0,\n",
       " 'Aliens (1986)': 5.0,\n",
       " 'All Dogs Go to Heaven 2 (1996)': 1.0,\n",
       " 'Angels and Insects (1995)': 4.0,\n",
       " \"Antonia's Line (1995)\": 5.0,\n",
       " 'Apocalypse Now (1979)': 3.0,\n",
       " 'Apollo 13 (1995)': 4.0,\n",
       " 'Aristocats, The (1970)': 2.0,\n",
       " 'Army of Darkness (1993)': 4.0,\n",
       " 'Austin Powers: International Man of Mystery (1997)': 4.0,\n",
       " 'Babe (1995)': 1.0,\n",
       " 'Back to the Future (1985)': 5.0,\n",
       " 'Bad Boys (1995)': 2.0,\n",
       " 'Basic Instinct (1992)': 3.0,\n",
       " 'Batman & Robin (1997)': 1.0,\n",
       " 'Batman Returns (1992)': 1.0,\n",
       " 'Beavis and Butt-head Do America (1996)': 3.0,\n",
       " 'Belle de jour (1967)': 3.0,\n",
       " 'Big Night (1996)': 5.0,\n",
       " 'Billy Madison (1995)': 2.0,\n",
       " 'Birdcage, The (1996)': 4.0,\n",
       " 'Blade Runner (1982)': 5.0,\n",
       " 'Blues Brothers, The (1980)': 4.0,\n",
       " 'Bound (1996)': 5.0,\n",
       " \"Bram Stoker's Dracula (1992)\": 3.0,\n",
       " 'Braveheart (1995)': 4.0,\n",
       " 'Brazil (1985)': 5.0,\n",
       " \"Breakfast at Tiffany's (1961)\": 1.0,\n",
       " 'Bridge on the River Kwai, The (1957)': 4.0,\n",
       " 'Brother Minister: The Assassination of Malcolm X (1994)': 4.0,\n",
       " 'Cape Fear (1991)': 3.0,\n",
       " \"Carlito's Way (1993)\": 4.0,\n",
       " 'Cinema Paradiso (1988)': 5.0,\n",
       " 'Citizen Kane (1941)': 4.0,\n",
       " 'Citizen Ruth (1996)': 4.0,\n",
       " 'Clerks (1994)': 5.0,\n",
       " 'Clockwork Orange, A (1971)': 3.0,\n",
       " 'Cold Comfort Farm (1995)': 3.0,\n",
       " 'Contact (1997)': 5.0,\n",
       " 'Copycat (1995)': 3.0,\n",
       " 'Crimson Tide (1995)': 3.0,\n",
       " 'Crow, The (1994)': 4.0,\n",
       " 'Crumb (1994)': 5.0,\n",
       " 'D3: The Mighty Ducks (1996)': 1.0,\n",
       " 'Dances with Wolves (1990)': 3.0,\n",
       " 'Dead Man Walking (1995)': 5.0,\n",
       " 'Delicatessen (1991)': 5.0,\n",
       " 'Desperado (1995)': 4.0,\n",
       " \"Devil's Own, The (1997)\": 2.0,\n",
       " 'Diabolique (1996)': 4.0,\n",
       " 'Die Hard (1988)': 4.0,\n",
       " 'Die Hard 2 (1990)': 3.0,\n",
       " 'Dolores Claiborne (1994)': 5.0,\n",
       " 'Doom Generation, The (1995)': 2.0,\n",
       " 'Eat Drink Man Woman (1994)': 5.0,\n",
       " 'Empire Strikes Back, The (1980)': 5.0,\n",
       " 'Event Horizon (1997)': 1.0,\n",
       " 'Evil Dead II (1987)': 3.0,\n",
       " 'Fargo (1996)': 5.0,\n",
       " 'Faster Pussycat! Kill! Kill! (1965)': 1.0,\n",
       " 'Field of Dreams (1989)': 3.0,\n",
       " 'Fifth Element, The (1997)': 4.0,\n",
       " 'Firm, The (1993)': 4.0,\n",
       " 'Flipper (1996)': 1.0,\n",
       " 'Four Rooms (1995)': 4.0,\n",
       " 'Four Weddings and a Funeral (1994)': 3.0,\n",
       " 'Free Willy (1993)': 1.0,\n",
       " 'Free Willy 2: The Adventure Home (1995)': 1.0,\n",
       " 'French Twist (Gazon maudit) (1995)': 5.0,\n",
       " 'From Dusk Till Dawn (1996)': 3.0,\n",
       " 'Fugitive, The (1993)': 4.0,\n",
       " 'Gattaca (1997)': 5.0,\n",
       " 'George of the Jungle (1997)': 1.0,\n",
       " 'Get Shorty (1995)': 3.0,\n",
       " 'Ghost and the Darkness, The (1996)': 2.0,\n",
       " 'Glengarry Glen Ross (1992)': 4.0,\n",
       " 'Godfather, The (1972)': 5.0,\n",
       " 'Godfather: Part II, The (1974)': 4.0,\n",
       " 'GoldenEye (1995)': 3.0,\n",
       " 'Good Will Hunting (1997)': 3.0,\n",
       " 'Good, The Bad and The Ugly, The (1966)': 5.0,\n",
       " 'GoodFellas (1990)': 4.0,\n",
       " 'Graduate, The (1967)': 5.0,\n",
       " 'Grosse Pointe Blank (1997)': 4.0,\n",
       " 'Groundhog Day (1993)': 5.0,\n",
       " 'Haunted World of Edward D. Wood Jr., The (1995)': 5.0,\n",
       " 'Heavy Metal (1981)': 2.0,\n",
       " 'Henry V (1989)': 5.0,\n",
       " 'Home Alone (1990)': 2.0,\n",
       " 'Homeward Bound: The Incredible Journey (1993)': 1.0,\n",
       " 'Hoop Dreams (1994)': 5.0,\n",
       " 'Horseman on the Roof, The (Hussard sur le toit, Le) (1995)': 5.0,\n",
       " 'Hot Shots! Part Deux (1993)': 4.0,\n",
       " 'Hunt for Red October, The (1990)': 4.0,\n",
       " 'In the Company of Men (1997)': 3.0,\n",
       " 'Independence Day (ID4) (1996)': 4.0,\n",
       " 'Indiana Jones and the Last Crusade (1989)': 4.0,\n",
       " 'Jaws (1975)': 4.0,\n",
       " 'Jean de Florette (1986)': 5.0,\n",
       " 'Jerry Maguire (1996)': 2.0,\n",
       " 'Jude (1996)': 2.0,\n",
       " 'Jungle2Jungle (1997)': 1.0,\n",
       " 'Jurassic Park (1993)': 5.0,\n",
       " 'Kansas City (1996)': 3.0,\n",
       " 'Kids in the Hall: Brain Candy (1996)': 5.0,\n",
       " 'Kolya (1996)': 5.0,\n",
       " 'Kull the Conqueror (1997)': 1.0,\n",
       " 'Last of the Mohicans, The (1992)': 4.0,\n",
       " 'Lawnmower Man, The (1992)': 2.0,\n",
       " 'Legends of the Fall (1994)': 4.0,\n",
       " 'Lion King, The (1994)': 3.0,\n",
       " 'Lone Star (1996)': 5.0,\n",
       " 'Long Kiss Goodnight, The (1996)': 3.0,\n",
       " 'Lost World: Jurassic Park, The (1997)': 2.0,\n",
       " 'Love Bug, The (1969)': 3.0,\n",
       " 'Madness of King George, The (1994)': 4.0,\n",
       " 'Manon of the Spring (Manon des sources) (1986)': 5.0,\n",
       " 'Mars Attacks! (1996)': 5.0,\n",
       " 'Men in Black (1997)': 4.0,\n",
       " 'Mighty Aphrodite (1995)': 5.0,\n",
       " 'Mirror Has Two Faces, The (1996)': 3.0,\n",
       " 'Moll Flanders (1996)': 4.0,\n",
       " 'Monty Python and the Holy Grail (1974)': 5.0,\n",
       " \"Monty Python's Life of Brian (1979)\": 5.0,\n",
       " \"Mr. Holland's Opus (1995)\": 5.0,\n",
       " 'Mr. Smith Goes to Washington (1939)': 3.0,\n",
       " 'Much Ado About Nothing (1993)': 3.0,\n",
       " 'Muppet Treasure Island (1996)': 1.0,\n",
       " \"My Best Friend's Wedding (1997)\": 2.0,\n",
       " 'Mystery Science Theater 3000: The Movie (1996)': 5.0,\n",
       " 'Nadja (1994)': 2.0,\n",
       " 'Natural Born Killers (1994)': 3.0,\n",
       " 'Net, The (1995)': 3.0,\n",
       " 'Nightmare on Elm Street, A (1984)': 1.0,\n",
       " 'On Golden Pond (1981)': 4.0,\n",
       " 'Patton (1970)': 3.0,\n",
       " 'Phenomenon (1996)': 3.0,\n",
       " 'Pillow Book, The (1995)': 5.0,\n",
       " 'Pink Floyd - The Wall (1982)': 4.0,\n",
       " 'Platoon (1986)': 4.0,\n",
       " 'Private Benjamin (1980)': 2.0,\n",
       " 'Professional, The (1994)': 5.0,\n",
       " 'Psycho (1960)': 4.0,\n",
       " 'Pulp Fiction (1994)': 4.0,\n",
       " 'Quiz Show (1994)': 4.0,\n",
       " 'Raiders of the Lost Ark (1981)': 5.0,\n",
       " 'Raising Arizona (1987)': 4.0,\n",
       " 'Ref, The (1994)': 3.0,\n",
       " 'Remains of the Day, The (1993)': 5.0,\n",
       " 'Return of the Pink Panther, The (1974)': 4.0,\n",
       " 'Richard III (1995)': 3.0,\n",
       " 'Ridicule (1996)': 5.0,\n",
       " 'Right Stuff, The (1983)': 4.0,\n",
       " 'Rock, The (1996)': 3.0,\n",
       " 'Room with a View, A (1986)': 2.0,\n",
       " 'Rumble in the Bronx (1995)': 3.0,\n",
       " 'Santa Clause, The (1994)': 2.0,\n",
       " 'Searching for Bobby Fischer (1993)': 5.0,\n",
       " 'Seven (Se7en) (1995)': 2.0,\n",
       " 'Shanghai Triad (Yao a yao yao dao waipo qiao) (1995)': 5.0,\n",
       " 'Shawshank Redemption, The (1994)': 5.0,\n",
       " 'Shining, The (1980)': 3.0,\n",
       " 'Sleeper (1973)': 5.0,\n",
       " 'Sleepless in Seattle (1993)': 4.0,\n",
       " 'Sling Blade (1996)': 5.0,\n",
       " \"Smilla's Sense of Snow (1997)\": 2.0,\n",
       " 'Sneakers (1992)': 4.0,\n",
       " 'Snow White and the Seven Dwarfs (1937)': 3.0,\n",
       " 'So I Married an Axe Murderer (1993)': 4.0,\n",
       " 'Star Trek III: The Search for Spock (1984)': 4.0,\n",
       " 'Star Trek IV: The Voyage Home (1986)': 4.0,\n",
       " 'Star Trek VI: The Undiscovered Country (1991)': 4.0,\n",
       " 'Star Trek: First Contact (1996)': 4.0,\n",
       " 'Star Wars (1977)': 5.0,\n",
       " 'Stargate (1994)': 3.0,\n",
       " 'Starship Troopers (1997)': 2.0,\n",
       " 'Steel (1997)': 1.0,\n",
       " 'Sting, The (1973)': 4.0,\n",
       " 'Strange Days (1995)': 4.0,\n",
       " 'Striptease (1996)': 1.0,\n",
       " 'Supercop (1992)': 4.0,\n",
       " 'Swingers (1996)': 5.0,\n",
       " 'Terminator 2: Judgment Day (1991)': 5.0,\n",
       " 'Terminator, The (1984)': 5.0,\n",
       " 'Theodore Rex (1995)': 1.0,\n",
       " 'This Is Spinal Tap (1984)': 4.0,\n",
       " 'Three Colors: Blue (1993)': 5.0,\n",
       " 'Three Colors: Red (1994)': 5.0,\n",
       " 'Three Colors: White (1994)': 4.0,\n",
       " 'To Wong Foo, Thanks for Everything! Julie Newmar (1995)': 3.0,\n",
       " 'Top Gun (1986)': 4.0,\n",
       " 'True Romance (1993)': 3.0,\n",
       " 'Truth About Cats & Dogs, The (1996)': 5.0,\n",
       " 'Twister (1996)': 3.0,\n",
       " 'Unbearable Lightness of Being, The (1988)': 4.0,\n",
       " 'Under Siege (1992)': 2.0,\n",
       " 'Unforgiven (1992)': 4.0,\n",
       " 'Usual Suspects, The (1995)': 5.0,\n",
       " 'Welcome to the Dollhouse (1995)': 5.0,\n",
       " 'When Harry Met Sally... (1989)': 5.0,\n",
       " 'While You Were Sleeping (1995)': 4.0,\n",
       " 'White Balloon, The (1995)': 4.0,\n",
       " 'Willy Wonka and the Chocolate Factory (1971)': 4.0,\n",
       " 'Wizard of Oz, The (1939)': 4.0,\n",
       " 'Wrong Trousers, The (1993)': 5.0,\n",
       " 'Young Guns (1988)': 3.0,\n",
       " 'unknown': 4.0}"
      ]
     },
     "execution_count": 154,
     "metadata": {},
     "output_type": "execute_result"
    }
   ],
   "source": [
    "train[\"1\"]"
   ]
  },
  {
   "cell_type": "code",
   "execution_count": 121,
   "metadata": {
    "collapsed": true
   },
   "outputs": [
    {
     "data": {
      "text/plain": [
       "{'12 Angry Men (1957)': 5.0,\n",
       " 'Akira (1988)': 4.0,\n",
       " 'Amadeus (1984)': 5.0,\n",
       " 'Batman Forever (1995)': 1.0,\n",
       " 'Bedknobs and Broomsticks (1971)': 2.0,\n",
       " 'Breaking the Waves (1996)': 5.0,\n",
       " 'Brothers McMullen, The (1995)': 3.0,\n",
       " 'Cable Guy, The (1996)': 3.0,\n",
       " 'Chasing Amy (1997)': 5.0,\n",
       " 'Cyrano de Bergerac (1990)': 5.0,\n",
       " 'Dead Poets Society (1989)': 5.0,\n",
       " 'Dirty Dancing (1987)': 2.0,\n",
       " 'Disclosure (1994)': 4.0,\n",
       " 'Ed Wood (1994)': 4.0,\n",
       " 'Exotica (1994)': 4.0,\n",
       " 'Fish Called Wanda, A (1988)': 3.0,\n",
       " 'Forrest Gump (1994)': 3.0,\n",
       " 'Frighteners, The (1996)': 4.0,\n",
       " 'Full Metal Jacket (1987)': 3.0,\n",
       " 'Full Monty, The (1997)': 5.0,\n",
       " 'Gone with the Wind (1939)': 4.0,\n",
       " 'Grand Day Out, A (1992)': 3.0,\n",
       " 'Hudsucker Proxy, The (1994)': 5.0,\n",
       " 'I.Q. (1994)': 3.0,\n",
       " 'M*A*S*H (1970)': 3.0,\n",
       " 'Mad Love (1995)': 2.0,\n",
       " 'Mask, The (1994)': 4.0,\n",
       " 'Maverick (1994)': 3.0,\n",
       " 'Maya Lin: A Strong Clear Vision (1994)': 5.0,\n",
       " 'Mimic (1997)': 2.0,\n",
       " 'Nightmare Before Christmas, The (1993)': 5.0,\n",
       " 'Nikita (La Femme Nikita) (1990)': 5.0,\n",
       " 'Operation Dumbo Drop (1995)': 1.0,\n",
       " 'Outbreak (1995)': 3.0,\n",
       " 'Postino, Il (1994)': 5.0,\n",
       " 'Priest (1994)': 5.0,\n",
       " 'Princess Bride, The (1987)': 5.0,\n",
       " 'Raging Bull (1980)': 4.0,\n",
       " 'Reservoir Dogs (1992)': 4.0,\n",
       " 'Return of the Jedi (1983)': 5.0,\n",
       " \"Robert A. Heinlein's The Puppet Masters (1994)\": 4.0,\n",
       " 'Sgt. Bilko (1996)': 2.0,\n",
       " 'Shall We Dance? (1996)': 4.0,\n",
       " 'Silence of the Lambs, The (1991)': 4.0,\n",
       " 'Sound of Music, The (1965)': 1.0,\n",
       " 'Spitfire Grill, The (1996)': 2.0,\n",
       " 'Star Trek: The Wrath of Khan (1982)': 5.0,\n",
       " 'Taxi Driver (1976)': 4.0,\n",
       " 'Toy Story (1995)': 5.0,\n",
       " 'Turbo: A Power Rangers Movie (1997)': 1.0,\n",
       " 'Twelve Monkeys (1995)': 4.0,\n",
       " 'Unhook the Stars (1996)': 4.0,\n",
       " 'Wallace & Gromit: The Best of Aardman Animation (1996)': 5.0,\n",
       " \"Weekend at Bernie's (1989)\": 3.0,\n",
       " \"What's Eating Gilbert Grape (1993)\": 4.0,\n",
       " 'When the Cats Away (Chacun cherche son chat) (1996)': 4.0,\n",
       " 'Young Frankenstein (1974)': 5.0}"
      ]
     },
     "execution_count": 121,
     "metadata": {},
     "output_type": "execute_result"
    }
   ],
   "source": [
    "test[\"1\"]"
   ]
  },
  {
   "cell_type": "markdown",
   "metadata": {},
   "source": [
    "---"
   ]
  },
  {
   "cell_type": "code",
   "execution_count": null,
   "metadata": {
    "collapsed": true
   },
   "outputs": [],
   "source": []
  },
  {
   "cell_type": "code",
   "execution_count": null,
   "metadata": {
    "collapsed": true
   },
   "outputs": [],
   "source": []
  },
  {
   "cell_type": "code",
   "execution_count": null,
   "metadata": {
    "collapsed": true
   },
   "outputs": [],
   "source": []
  },
  {
   "cell_type": "code",
   "execution_count": 123,
   "metadata": {
    "collapsed": true
   },
   "outputs": [],
   "source": [
    "import numpy\n",
    "\n",
    "def matrix_factorization(R, P, Q, K, steps=5000, alpha=0.0002, beta=0.02):\n",
    "    Q = Q.T\n",
    "    for step in xrange(steps):\n",
    "        for i in xrange(len(R)):\n",
    "            for j in xrange(len(R[i])):\n",
    "                if R[i][j] > 0:\n",
    "                    eij = R[i][j] - numpy.dot(P[i,:],Q[:,j])\n",
    "                    for k in xrange(K):\n",
    "                        P[i][k] = P[i][k] + alpha * (2 * eij * Q[k][j] - beta * P[i][k])\n",
    "                        Q[k][j] = Q[k][j] + alpha * (2 * eij * P[i][k] - beta * Q[k][j])\n",
    "        eR = numpy.dot(P,Q)\n",
    "        e = 0\n",
    "        for i in xrange(len(R)):\n",
    "            for j in xrange(len(R[i])):\n",
    "                if R[i][j] > 0:\n",
    "                    e = e + pow(R[i][j] - numpy.dot(P[i,:],Q[:,j]), 2)\n",
    "                    for k in xrange(K):\n",
    "                        e = e + (beta/2) * (pow(P[i][k],2) + pow(Q[k][j],2))\n",
    "        if e < 0.001:\n",
    "            break\n",
    "    return P, Q.T"
   ]
  },
  {
   "cell_type": "code",
   "execution_count": 124,
   "metadata": {
    "collapsed": true
   },
   "outputs": [],
   "source": [
    "R = [\n",
    "     [5,3,0,1],\n",
    "     [4,0,0,1],\n",
    "     [1,1,0,5],\n",
    "     [1,0,0,4],\n",
    "     [0,1,5,4],\n",
    "    ]\n",
    "\n",
    "R = numpy.array(R)\n",
    "\n",
    "N = len(R)\n",
    "M = len(R[0])\n",
    "K = 2\n",
    "\n",
    "P = numpy.random.rand(N,K)\n",
    "Q = numpy.random.rand(M,K)\n",
    "\n",
    "nP, nQ = matrix_factorization(R, P, Q, K)\n",
    "nR = numpy.dot(nP, nQ.T)"
   ]
  },
  {
   "cell_type": "code",
   "execution_count": 125,
   "metadata": {
    "collapsed": false
   },
   "outputs": [
    {
     "data": {
      "text/plain": [
       "array([[ 4.99650255,  2.93418578,  3.99234219,  0.99820419],\n",
       "       [ 3.96298764,  2.33573468,  3.36035393,  0.99707133],\n",
       "       [ 1.0716961 ,  0.82538354,  5.337668  ,  4.96193011],\n",
       "       [ 0.9633362 ,  0.72181627,  4.33820223,  3.97311633],\n",
       "       [ 1.81106643,  1.21517699,  4.91344271,  4.03428495]])"
      ]
     },
     "execution_count": 125,
     "metadata": {},
     "output_type": "execute_result"
    }
   ],
   "source": [
    "nR"
   ]
  },
  {
   "cell_type": "markdown",
   "metadata": {},
   "source": [
    "---"
   ]
  },
  {
   "cell_type": "code",
   "execution_count": 140,
   "metadata": {
    "collapsed": false
   },
   "outputs": [
    {
     "name": "stdout",
     "output_type": "stream",
     "text": [
      "CPU times: user 12min 15s, sys: 5.83 s, total: 12min 21s\n",
      "Wall time: 12min 33s\n"
     ]
    }
   ],
   "source": [
    "%%time\n",
    "\n",
    "R = rawMatrix\n",
    "\n",
    "N = len(R)\n",
    "M = len(R[0])\n",
    "K = 2\n",
    "\n",
    "P = numpy.random.rand(N,K)\n",
    "Q = numpy.random.rand(M,K)\n",
    "\n",
    "nP, nQ = matrix_factorization(R, P, Q, K, steps=100)\n",
    "nR = numpy.dot(nP, nQ.T)"
   ]
  },
  {
   "cell_type": "code",
   "execution_count": 141,
   "metadata": {
    "collapsed": false
   },
   "outputs": [
    {
     "data": {
      "text/plain": [
       "array([[ 0.28872932,  2.18817177,  1.85474169,  1.70232665,  1.99304327],\n",
       "       [ 0.52041677,  4.00343944,  3.38358237,  3.14717666,  3.64726599],\n",
       "       [ 0.5200989 ,  3.97133365,  3.36127841,  3.10588446,  3.61760816],\n",
       "       [ 0.40158254,  3.22346401,  2.70251611,  2.60665046,  2.93853012],\n",
       "       [ 0.60854536,  4.61584397,  3.9118434 ,  3.59312263,  4.2042843 ]])"
      ]
     },
     "execution_count": 141,
     "metadata": {},
     "output_type": "execute_result"
    }
   ],
   "source": [
    "nR[:5,:5]"
   ]
  },
  {
   "cell_type": "code",
   "execution_count": 142,
   "metadata": {
    "collapsed": false
   },
   "outputs": [
    {
     "data": {
      "text/plain": [
       "array([[ 0.,  0.,  0.,  0.,  0.],\n",
       "       [ 0.,  5.,  3.,  4.,  3.],\n",
       "       [ 0.,  4.,  0.,  0.,  0.],\n",
       "       [ 0.,  0.,  0.,  0.,  0.],\n",
       "       [ 0.,  0.,  0.,  0.,  0.]])"
      ]
     },
     "execution_count": 142,
     "metadata": {},
     "output_type": "execute_result"
    }
   ],
   "source": [
    "rawMatrix[:5,:5]"
   ]
  },
  {
   "cell_type": "code",
   "execution_count": 168,
   "metadata": {
    "collapsed": false
   },
   "outputs": [
    {
     "data": {
      "text/plain": [
       "3.6673599590921162"
      ]
     },
     "execution_count": 168,
     "metadata": {},
     "output_type": "execute_result"
    }
   ],
   "source": [
    "mf= evalMF(nR,data,movies)\n",
    "mf.predict(\"1\",\"Akira (1988)\")"
   ]
  },
  {
   "cell_type": "code",
   "execution_count": 169,
   "metadata": {
    "collapsed": false
   },
   "outputs": [
    {
     "data": {
      "text/plain": [
       "0.86354390536474346"
      ]
     },
     "execution_count": 169,
     "metadata": {},
     "output_type": "execute_result"
    }
   ],
   "source": [
    "np.array([ (float(ra[2]) - mf.predict(ra[0],ra[1]))**2 for ra in rawArrayTest]).mean()"
   ]
  }
 ],
 "metadata": {
  "kernelspec": {
   "display_name": "Python 2",
   "language": "python",
   "name": "python2"
  },
  "language_info": {
   "codemirror_mode": {
    "name": "ipython",
    "version": 2
   },
   "file_extension": ".py",
   "mimetype": "text/x-python",
   "name": "python",
   "nbconvert_exporter": "python",
   "pygments_lexer": "ipython2",
   "version": "2.7.10"
  }
 },
 "nbformat": 4,
 "nbformat_minor": 0
}
