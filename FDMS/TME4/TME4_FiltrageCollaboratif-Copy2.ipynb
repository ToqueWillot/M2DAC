{
 "cells": [
  {
   "cell_type": "code",
   "execution_count": 167,
   "metadata": {
    "collapsed": true
   },
   "outputs": [],
   "source": [
    "from random import random\n",
    "import math\n",
    "import numpy as np\n",
    "import copy"
   ]
  },
  {
   "cell_type": "code",
   "execution_count": 2,
   "metadata": {
    "collapsed": false
   },
   "outputs": [],
   "source": [
    "def loadMovieLens(path='./data/movielens'):\n",
    "    #Get movie titles\n",
    "    movies={}\n",
    "    for line in open(path+'/u.item'):\n",
    "        id,title=line.split('|')[0:2]\n",
    "        movies[id]=title\n",
    "\n",
    "    # Load data\n",
    "    prefs={}\n",
    "    for line in open(path+'/u.data'):\n",
    "        (user,movieid,rating,ts)=line.split('\\t')\n",
    "        prefs.setdefault(user,{})\n",
    "        prefs[user][movies[movieid]]=float(rating)\n",
    "        \n",
    "    return prefs"
   ]
  },
  {
   "cell_type": "code",
   "execution_count": 3,
   "metadata": {
    "collapsed": false
   },
   "outputs": [],
   "source": [
    "data = loadMovieLens(\"data/ml-100k\")"
   ]
  },
  {
   "cell_type": "code",
   "execution_count": 4,
   "metadata": {
    "collapsed": true
   },
   "outputs": [
    {
     "data": {
      "text/plain": [
       "{'187 (1997)': 2.0,\n",
       " 'Air Force One (1997)': 2.0,\n",
       " 'Alien: Resurrection (1997)': 3.0,\n",
       " 'Apostle, The (1997)': 4.0,\n",
       " 'Bean (1997)': 2.0,\n",
       " 'Boogie Nights (1997)': 5.0,\n",
       " 'Chasing Amy (1997)': 3.0,\n",
       " 'Conspiracy Theory (1997)': 5.0,\n",
       " 'Contact (1997)': 2.0,\n",
       " 'Cop Land (1997)': 4.0,\n",
       " 'Crash (1996)': 1.0,\n",
       " 'Critical Care (1997)': 1.0,\n",
       " \"Dante's Peak (1997)\": 2.0,\n",
       " 'Deconstructing Harry (1997)': 3.0,\n",
       " 'Deep Rising (1998)': 1.0,\n",
       " 'Desperate Measures (1998)': 4.0,\n",
       " \"Devil's Advocate, The (1997)\": 3.0,\n",
       " \"Devil's Own, The (1997)\": 1.0,\n",
       " 'Edge, The (1997)': 4.0,\n",
       " 'Event Horizon (1997)': 4.0,\n",
       " 'Everyone Says I Love You (1996)': 2.0,\n",
       " 'Fallen (1998)': 3.0,\n",
       " 'G.I. Jane (1997)': 2.0,\n",
       " 'Game, The (1997)': 2.0,\n",
       " 'Good Will Hunting (1997)': 2.0,\n",
       " 'Hard Rain (1998)': 3.0,\n",
       " 'Hoodlum (1997)': 3.0,\n",
       " 'House of Yes, The (1997)': 1.0,\n",
       " 'How to Be a Player (1997)': 1.0,\n",
       " 'In the Name of the Father (1993)': 2.0,\n",
       " 'Jackie Brown (1997)': 5.0,\n",
       " 'Kiss the Girls (1997)': 1.0,\n",
       " 'L.A. Confidential (1997)': 2.0,\n",
       " 'Liar Liar (1997)': 2.0,\n",
       " 'Lost Highway (1997)': 2.0,\n",
       " 'Mad City (1997)': 3.0,\n",
       " 'Man Who Knew Too Little, The (1997)': 4.0,\n",
       " 'Mimic (1997)': 2.0,\n",
       " 'Mother (1996)': 5.0,\n",
       " 'Murder at 1600 (1997)': 3.0,\n",
       " 'Paradise Lost: The Child Murders at Robin Hood Hills (1996)': 5.0,\n",
       " 'Playing God (1997)': 1.0,\n",
       " 'Prophecy II, The (1998)': 3.0,\n",
       " 'Return of the Jedi (1983)': 4.0,\n",
       " \"Schindler's List (1993)\": 4.0,\n",
       " 'Scream (1996)': 2.0,\n",
       " 'Sphere (1998)': 3.0,\n",
       " 'Spice World (1997)': 2.0,\n",
       " 'Starship Troopers (1997)': 3.0,\n",
       " 'U Turn (1997)': 3.0,\n",
       " \"Ulee's Gold (1997)\": 3.0,\n",
       " 'Wag the Dog (1997)': 5.0,\n",
       " 'Wedding Singer, The (1998)': 3.0}"
      ]
     },
     "execution_count": 4,
     "metadata": {},
     "output_type": "execute_result"
    }
   ],
   "source": [
    "data['3']"
   ]
  },
  {
   "cell_type": "code",
   "execution_count": 94,
   "metadata": {
    "collapsed": true
   },
   "outputs": [],
   "source": [
    "def getRawArray(data):\n",
    "    d = []\n",
    "    for u in data.keys():\n",
    "        for i in data[u].keys():\n",
    "            d.append([u,i,data[u][i]])\n",
    "    return np.array(d)"
   ]
  },
  {
   "cell_type": "code",
   "execution_count": 5,
   "metadata": {
    "collapsed": true
   },
   "outputs": [],
   "source": [
    "# splitting while avoiding to reduce the dataset too much\n",
    "def split_train_test(data,percent_test):\n",
    "    test={}\n",
    "    train={}\n",
    "    movie={}\n",
    "    for u in data.keys():\n",
    "        test.setdefault(u,{})\n",
    "        train.setdefault(u,{})\n",
    "        for movie in data[u]:\n",
    "            #print(data[u][movie])\n",
    "            if (random()<percent_test):\n",
    "                test[u][movie]=data[u][movie]\n",
    "            else:\n",
    "                train[u][movie]=data[u][movie]\n",
    "    return train, test"
   ]
  },
  {
   "cell_type": "code",
   "execution_count": 56,
   "metadata": {
    "collapsed": true
   },
   "outputs": [],
   "source": [
    "def split_train_test_by_movies(data,percent_test):\n",
    "    test={}\n",
    "    train={}\n",
    "    movie={}\n",
    "    for u in data.keys():\n",
    "        for movie in data[u]:\n",
    "            if (random()<percent_test):\n",
    "                try:\n",
    "                    test[movie][u]=data[u][movie]\n",
    "                except KeyError:\n",
    "                    test.setdefault(movie,{})\n",
    "                    test[movie][u]=data[u][movie]\n",
    "            else:\n",
    "                try:\n",
    "                    train[movie][u]=data[u][movie]\n",
    "                except KeyError:\n",
    "                    train.setdefault(movie,{})\n",
    "                    train[movie][u]=data[u][movie]\n",
    "    return train, test"
   ]
  },
  {
   "cell_type": "code",
   "execution_count": 6,
   "metadata": {
    "collapsed": true
   },
   "outputs": [],
   "source": [
    "percent_test=0.2\n",
    "train,test=split_train_test(data,percent_test)"
   ]
  },
  {
   "cell_type": "code",
   "execution_count": 57,
   "metadata": {
    "collapsed": false
   },
   "outputs": [],
   "source": [
    "percent_test=0.2\n",
    "m_train,m_test=split_train_test_by_movies(data,percent_test)"
   ]
  },
  {
   "cell_type": "code",
   "execution_count": 61,
   "metadata": {
    "collapsed": false
   },
   "outputs": [],
   "source": [
    "def deleteUnseenInTest(train,test):\n",
    "    for k in test.keys():\n",
    "        try:\n",
    "            train[k]\n",
    "        except KeyError:\n",
    "            test.pop(k,None)"
   ]
  },
  {
   "cell_type": "code",
   "execution_count": 130,
   "metadata": {
    "collapsed": true
   },
   "outputs": [],
   "source": [
    "deleteUnseenInTest(train,test)\n",
    "deleteUnseenInTest(m_train,m_test)"
   ]
  },
  {
   "cell_type": "code",
   "execution_count": 169,
   "metadata": {
    "collapsed": true
   },
   "outputs": [],
   "source": [
    "rawArray = getRawArray(data)\n",
    "rawArrayTest = getRawArray(test)"
   ]
  },
  {
   "cell_type": "markdown",
   "metadata": {},
   "source": [
    "---"
   ]
  },
  {
   "cell_type": "markdown",
   "metadata": {},
   "source": [
    "## Baseline: mean by user"
   ]
  },
  {
   "cell_type": "code",
   "execution_count": 75,
   "metadata": {
    "collapsed": true
   },
   "outputs": [],
   "source": [
    "class baselineMeanMovie:\n",
    "    def __init__(self):\n",
    "        self.users={}\n",
    "        self.movies={}\n",
    "    def fit(self,train):\n",
    "        movies = get_moove(train)\n",
    "        for movie in movies:\n",
    "            note=0.0\n",
    "            cpt=0\n",
    "            for user in train:\n",
    "                try:\n",
    "                    note+=train[user][movie]\n",
    "                    cpt+=1\n",
    "                except KeyError:\n",
    "                    pass\n",
    "            note=note/cpt\n",
    "            self.movies[movie]=note\n",
    "        \n",
    "    def predict(self,user,movie):\n",
    "        return self.movies[movie]\n",
    "    def score(self,X):\n",
    "        nb_movies = len(get_moove(X))\n",
    "        score = 0.0\n",
    "        for user in X:\n",
    "            for movie in X[user]:\n",
    "                score += (self.predict(user,movie) - X[user][movie])**2\n",
    "        return score/nb_movies"
   ]
  },
  {
   "cell_type": "code",
   "execution_count": 105,
   "metadata": {
    "collapsed": true
   },
   "outputs": [],
   "source": [
    "class baselineMeanUser:\n",
    "    def __init__(self):\n",
    "        self.users={}\n",
    "    def fit(self,train):\n",
    "        for user in train.keys():\n",
    "            note=0.0\n",
    "            for movie in train[user].keys():\n",
    "                note+=train[user][movie]\n",
    "            note=note/len(train[user])\n",
    "            self.users[user]=note\n",
    "        \n",
    "    def predict(self,users):\n",
    "        return [self.users[u] for u in users]"
   ]
  },
  {
   "cell_type": "code",
   "execution_count": 126,
   "metadata": {
    "collapsed": false
   },
   "outputs": [
    {
     "name": "stdout",
     "output_type": "stream",
     "text": [
      "Mean Error 1.065232\n"
     ]
    }
   ],
   "source": [
    "baseline_mu= baselineMeanUser()\n",
    "baseline_mu.fit(train)\n",
    "pred = baseline_mu.predict(rawArray[:,0])\n",
    "print(\"Mean Error %0.6f\" %(\n",
    "        (np.array(pred) - np.array(rawArray[:,2], float)) ** 2).mean())"
   ]
  },
  {
   "cell_type": "code",
   "execution_count": 165,
   "metadata": {
    "collapsed": false
   },
   "outputs": [],
   "source": [
    "class baselineMeanMovie:\n",
    "    def __init__(self):\n",
    "        self.movies={}\n",
    "    def fit(self,train):\n",
    "        for movie in train.keys():\n",
    "            note=0.0\n",
    "            for user in train[movie].keys():\n",
    "                note+=train[movie][user]\n",
    "            note=note/len(train[movie])\n",
    "            self.movies[movie]=note\n",
    "        \n",
    "    def predict(self,movies):\n",
    "        res=[]\n",
    "        for m in movies:\n",
    "            try:\n",
    "                res.append(self.movies[m])\n",
    "            except:\n",
    "                res.append(3)\n",
    "        return res"
   ]
  },
  {
   "cell_type": "code",
   "execution_count": 173,
   "metadata": {
    "collapsed": false
   },
   "outputs": [
    {
     "name": "stdout",
     "output_type": "stream",
     "text": [
      "Mean Error 1.006743\n"
     ]
    }
   ],
   "source": [
    "baseline_mm= baselineMeanMovie()\n",
    "baseline_mm.fit(m_train)\n",
    "pred = baseline_mm.predict(rawArrayTest[:,1])\n",
    "print(\"Mean Error %0.6f\" %(\n",
    "        (np.array(pred) - np.array(rawArrayTest[:,2], float)) ** 2).mean())"
   ]
  },
  {
   "cell_type": "code",
   "execution_count": 164,
   "metadata": {
    "collapsed": false,
    "scrolled": true
   },
   "outputs": [
    {
     "data": {
      "text/plain": [
       "{'200': 3.0, '381': 5.0, '612': 4.0, '648': 2.0, '882': 3.0, '911': 4.0}"
      ]
     },
     "execution_count": 164,
     "metadata": {},
     "output_type": "execute_result"
    }
   ],
   "source": [
    "m_test['Adventures of Pinocchio, The (1996)']"
   ]
  },
  {
   "cell_type": "code",
   "execution_count": 144,
   "metadata": {
    "collapsed": false
   },
   "outputs": [
    {
     "data": {
      "text/plain": [
       "array([['344', 'Birdcage, The (1996)', '4.0'],\n",
       "       ['344', 'Enchanted April (1991)', '4.0'],\n",
       "       ['344', 'Diabolique (1996)', '2.0'],\n",
       "       ['344', 'Face/Off (1997)', '4.0'],\n",
       "       ['344', 'My Fellow Americans (1996)', '3.0']], \n",
       "      dtype='|S81')"
      ]
     },
     "execution_count": 144,
     "metadata": {},
     "output_type": "execute_result"
    }
   ],
   "source": [
    "rawArray[:5]"
   ]
  },
  {
   "cell_type": "code",
   "execution_count": 174,
   "metadata": {
    "collapsed": false
   },
   "outputs": [
    {
     "data": {
      "text/plain": [
       "233"
      ]
     },
     "execution_count": 174,
     "metadata": {},
     "output_type": "execute_result"
    }
   ],
   "source": [
    "len(m_train['Birdcage, The (1996)'])"
   ]
  },
  {
   "cell_type": "markdown",
   "metadata": {},
   "source": [
    "---"
   ]
  },
  {
   "cell_type": "code",
   "execution_count": 175,
   "metadata": {
    "collapsed": true
   },
   "outputs": [],
   "source": [
    "class matrixFactorisation():\n",
    "    def __init__(self, k, lambd=0.2, eps=1e-5, maxIter=2000, alternate=0):\n",
    "        self.k = k\n",
    "        self.lambd = lambd\n",
    "        self.eps = eps\n",
    "        self.maxIter = maxIter\n",
    "        self.alternate = alternate\n",
    "    def fit(self, dataUsers, dataItems, couples):\n",
    "        self.p = {}\n",
    "        self.q = {}\n",
    "        self.couples = couples\n",
    "        self.loss = []\n",
    "        optimP = True\n",
    "        optimQ = (self.alternate == 0)\n",
    "        for i in xrange(self.maxIter):\n",
    "            loss = 0\n",
    "            for j in xrange(len(couples)):\n",
    "                r = np.random.randint(len(couples))\n",
    "                user = couples[r][0]\n",
    "                item = couples[r][1]\n",
    "                if not user in self.p:\n",
    "                    self.p[user] = np.random.rand(1,self.k)\n",
    "                if not item in self.q:\n",
    "                    self.q[item] = np.random.rand(self.k,1)\n",
    "                tmp = dataUsers[user][item] - self.p[user].dot(self.q[item])[0][0]\n",
    "                if (optimP):\n",
    "                    self.p[user] = (1 - self.lambd * self.eps) * self.p[user] + self.eps * 2 * tmp * self.q[item].transpose()\n",
    "                if (optimQ):\n",
    "                    self.q[item] = (1 - self.lambd * self.eps) * self.q[item] + self.eps * 2 * tmp * self.p[user].transpose()\n",
    "                loss = loss + tmp*tmp #Sans régularisation\n",
    "            self.loss.append(loss)\n",
    "            if (self.alternate != 0):\n",
    "                if (i % self.alternate == 0):\n",
    "                    oprimP = False if optimQ else True\n",
    "                    print i, loss / len(couples)\n",
    "            else:\n",
    "                if (i % 100 == 0):\n",
    "                    print i, loss / len(couples)\n",
    "    def predict(self, couplesTest):\n",
    "        pred = np.zeros(len(couplesTest))\n",
    "        for ind,c in enumerate(couplesTest):\n",
    "            pred[ind] = self.p[c[0]].dot(self.q[c[1]])[0][0]\n",
    "        return pred"
   ]
  },
  {
   "cell_type": "code",
   "execution_count": 176,
   "metadata": {
    "collapsed": false
   },
   "outputs": [
    {
     "name": "stdout",
     "output_type": "stream",
     "text": [
      "0 2.77841840868\n",
      "100 1.26732246398\n",
      "200 1.05346402861\n",
      "300 0.983480018466\n",
      "400 0.940916112566\n",
      "500 0.912340589664\n",
      "600 0.895851403893\n",
      "700 0.880687032448\n"
     ]
    },
    {
     "ename": "KeyboardInterrupt",
     "evalue": "",
     "output_type": "error",
     "traceback": [
      "\u001b[0;31m---------------------------------------------------------------------------\u001b[0m",
      "\u001b[0;31mKeyboardInterrupt\u001b[0m                         Traceback (most recent call last)",
      "\u001b[0;32m<ipython-input-176-d96c14626eab>\u001b[0m in \u001b[0;36m<module>\u001b[0;34m()\u001b[0m\n\u001b[1;32m      1\u001b[0m \u001b[0mmodel3\u001b[0m \u001b[0;34m=\u001b[0m \u001b[0mmatrixFactorisation\u001b[0m\u001b[0;34m(\u001b[0m\u001b[0;36m10\u001b[0m\u001b[0;34m,\u001b[0m \u001b[0malternate\u001b[0m\u001b[0;34m=\u001b[0m\u001b[0;36m0\u001b[0m\u001b[0;34m)\u001b[0m\u001b[0;34m\u001b[0m\u001b[0m\n\u001b[0;32m----> 2\u001b[0;31m \u001b[0mmodel3\u001b[0m\u001b[0;34m.\u001b[0m\u001b[0mfit\u001b[0m\u001b[0;34m(\u001b[0m\u001b[0mtrainUsers\u001b[0m\u001b[0;34m,\u001b[0m \u001b[0mtrainItems\u001b[0m\u001b[0;34m,\u001b[0m \u001b[0mtrainCouples\u001b[0m\u001b[0;34m)\u001b[0m\u001b[0;34m\u001b[0m\u001b[0m\n\u001b[0m",
      "\u001b[0;32m<ipython-input-175-885d71f2654b>\u001b[0m in \u001b[0;36mfit\u001b[0;34m(self, dataUsers, dataItems, couples)\u001b[0m\n\u001b[1;32m     23\u001b[0m                 \u001b[0;32mif\u001b[0m \u001b[0;32mnot\u001b[0m \u001b[0mitem\u001b[0m \u001b[0;32min\u001b[0m \u001b[0mself\u001b[0m\u001b[0;34m.\u001b[0m\u001b[0mq\u001b[0m\u001b[0;34m:\u001b[0m\u001b[0;34m\u001b[0m\u001b[0m\n\u001b[1;32m     24\u001b[0m                     \u001b[0mself\u001b[0m\u001b[0;34m.\u001b[0m\u001b[0mq\u001b[0m\u001b[0;34m[\u001b[0m\u001b[0mitem\u001b[0m\u001b[0;34m]\u001b[0m \u001b[0;34m=\u001b[0m \u001b[0mnp\u001b[0m\u001b[0;34m.\u001b[0m\u001b[0mrandom\u001b[0m\u001b[0;34m.\u001b[0m\u001b[0mrand\u001b[0m\u001b[0;34m(\u001b[0m\u001b[0mself\u001b[0m\u001b[0;34m.\u001b[0m\u001b[0mk\u001b[0m\u001b[0;34m,\u001b[0m\u001b[0;36m1\u001b[0m\u001b[0;34m)\u001b[0m\u001b[0;34m\u001b[0m\u001b[0m\n\u001b[0;32m---> 25\u001b[0;31m                 \u001b[0mtmp\u001b[0m \u001b[0;34m=\u001b[0m \u001b[0mdataUsers\u001b[0m\u001b[0;34m[\u001b[0m\u001b[0muser\u001b[0m\u001b[0;34m]\u001b[0m\u001b[0;34m[\u001b[0m\u001b[0mitem\u001b[0m\u001b[0;34m]\u001b[0m \u001b[0;34m-\u001b[0m \u001b[0mself\u001b[0m\u001b[0;34m.\u001b[0m\u001b[0mp\u001b[0m\u001b[0;34m[\u001b[0m\u001b[0muser\u001b[0m\u001b[0;34m]\u001b[0m\u001b[0;34m.\u001b[0m\u001b[0mdot\u001b[0m\u001b[0;34m(\u001b[0m\u001b[0mself\u001b[0m\u001b[0;34m.\u001b[0m\u001b[0mq\u001b[0m\u001b[0;34m[\u001b[0m\u001b[0mitem\u001b[0m\u001b[0;34m]\u001b[0m\u001b[0;34m)\u001b[0m\u001b[0;34m[\u001b[0m\u001b[0;36m0\u001b[0m\u001b[0;34m]\u001b[0m\u001b[0;34m[\u001b[0m\u001b[0;36m0\u001b[0m\u001b[0;34m]\u001b[0m\u001b[0;34m\u001b[0m\u001b[0m\n\u001b[0m\u001b[1;32m     26\u001b[0m                 \u001b[0;32mif\u001b[0m \u001b[0;34m(\u001b[0m\u001b[0moptimP\u001b[0m\u001b[0;34m)\u001b[0m\u001b[0;34m:\u001b[0m\u001b[0;34m\u001b[0m\u001b[0m\n\u001b[1;32m     27\u001b[0m                     \u001b[0mself\u001b[0m\u001b[0;34m.\u001b[0m\u001b[0mp\u001b[0m\u001b[0;34m[\u001b[0m\u001b[0muser\u001b[0m\u001b[0;34m]\u001b[0m \u001b[0;34m=\u001b[0m \u001b[0;34m(\u001b[0m\u001b[0;36m1\u001b[0m \u001b[0;34m-\u001b[0m \u001b[0mself\u001b[0m\u001b[0;34m.\u001b[0m\u001b[0mlambd\u001b[0m \u001b[0;34m*\u001b[0m \u001b[0mself\u001b[0m\u001b[0;34m.\u001b[0m\u001b[0meps\u001b[0m\u001b[0;34m)\u001b[0m \u001b[0;34m*\u001b[0m \u001b[0mself\u001b[0m\u001b[0;34m.\u001b[0m\u001b[0mp\u001b[0m\u001b[0;34m[\u001b[0m\u001b[0muser\u001b[0m\u001b[0;34m]\u001b[0m \u001b[0;34m+\u001b[0m \u001b[0mself\u001b[0m\u001b[0;34m.\u001b[0m\u001b[0meps\u001b[0m \u001b[0;34m*\u001b[0m \u001b[0;36m2\u001b[0m \u001b[0;34m*\u001b[0m \u001b[0mtmp\u001b[0m \u001b[0;34m*\u001b[0m \u001b[0mself\u001b[0m\u001b[0;34m.\u001b[0m\u001b[0mq\u001b[0m\u001b[0;34m[\u001b[0m\u001b[0mitem\u001b[0m\u001b[0;34m]\u001b[0m\u001b[0;34m.\u001b[0m\u001b[0mtranspose\u001b[0m\u001b[0;34m(\u001b[0m\u001b[0;34m)\u001b[0m\u001b[0;34m\u001b[0m\u001b[0m\n",
      "\u001b[0;31mKeyboardInterrupt\u001b[0m: "
     ]
    }
   ],
   "source": [
    "model3 = matrixFactorisation(10, alternate=0)\n",
    "model3.fit(trainUsers, trainItems, trainCouples)"
   ]
  },
  {
   "cell_type": "code",
   "execution_count": 185,
   "metadata": {
    "collapsed": false
   },
   "outputs": [
    {
     "data": {
      "text/plain": [
       "3.3203707369418267"
      ]
     },
     "execution_count": 185,
     "metadata": {},
     "output_type": "execute_result"
    }
   ],
   "source": [
    "np.random.rand(1,10).dot(np.random.rand(10,1))[0][0]"
   ]
  },
  {
   "cell_type": "markdown",
   "metadata": {},
   "source": [
    "---"
   ]
  },
  {
   "cell_type": "code",
   "execution_count": null,
   "metadata": {
    "collapsed": true
   },
   "outputs": [],
   "source": []
  },
  {
   "cell_type": "code",
   "execution_count": 13,
   "metadata": {
    "collapsed": true
   },
   "outputs": [],
   "source": [
    "class baselineMeanUsers():\n",
    "    def __init__(self):            \n",
    "        self.mean = {}\n",
    "    def fit(self, dataUsers):\n",
    "        self.mean = {}\n",
    "        for u in dataUsers.keys():\n",
    "            self.mean[u] = 0\n",
    "            for i in dataUsers[u].keys():\n",
    "                self.mean[u] = self.mean[u] + dataUsers[u][i]\n",
    "            self.mean[u] = self.mean[u] / len(dataUsers[u])\n",
    "    def predict(self, couplesTest):\n",
    "        pred = np.zeros(len(couplesTest))\n",
    "        for ind,c in enumerate(couplesTest):\n",
    "            pred[ind] = self.mean[c[0]]\n",
    "        return pred"
   ]
  },
  {
   "cell_type": "code",
   "execution_count": 20,
   "metadata": {
    "collapsed": false
   },
   "outputs": [
    {
     "name": "stdout",
     "output_type": "stream",
     "text": [
      "\n"
     ]
    }
   ],
   "source": [
    "# Recupère une représentation des données sous la forme triplets [user, item, note]\n",
    "def getCouplesUsersItems(data):\n",
    "    couples = []\n",
    "    for u in data.keys():\n",
    "        for i in data[u].keys():\n",
    "            couples.append([u,i,data[u][i]])\n",
    "    return couples\n",
    "\n",
    "# Split l'ensemble des triplets [user, item, note] en testProp% données de test et (1 - testProp) données de train\n",
    "def splitTrainTest(couples,testProp):\n",
    "    perm = np.random.permutation(couples)\n",
    "    splitIndex = int(testProp * len(couples))\n",
    "    return perm[splitIndex:], perm[:splitIndex]\n",
    "\n",
    "# Construit le dictionnaire des utilisateurs a partir des triplets [user, item, note]\n",
    "def buildUsersDict(couples):\n",
    "    dicUsers = {}\n",
    "    for c in couples:\n",
    "        if not c[0] in dicUsers.keys():\n",
    "            dicUsers[c[0]] = {}\n",
    "        dicUsers[c[0]][c[1]] = float(c[2])\n",
    "    return dicUsers\n",
    "\n",
    "# Construit le dictionnaire des objets a partir des triplets [user, item, note]\n",
    "def buildItemsDict(couples):\n",
    "    dicItems = {}\n",
    "    for c in couples:\n",
    "        if not c[1] in dicItems:\n",
    "            dicItems[c[1]] = {}\n",
    "        dicItems[c[1]][c[0]] = float(c[2])\n",
    "    return dicItems"
   ]
  },
  {
   "cell_type": "code",
   "execution_count": 38,
   "metadata": {
    "collapsed": true
   },
   "outputs": [],
   "source": [
    "couples = getRawArray(data)\n",
    "\n",
    "trainCouples, testCouples = splitTrainTest(couples,.20)\n",
    "\n",
    "trainUsers = buildUsersDict(trainCouples)\n",
    "trainItems = buildItemsDict(trainCouples)\n",
    "\n",
    "toDel = []\n",
    "\n",
    "for i,c in enumerate(testCouples):\n",
    "    if not c[0] in trainUsers:\n",
    "        toDel.append(i)\n",
    "    elif not c[1] in trainItems:\n",
    "        toDel.append(i)\n",
    "\n",
    "testCouples = np.delete(testCouples, toDel, 0)\n",
    "\n",
    "testUsers  = buildUsersDict(testCouples)\n",
    "testItems  = buildItemsDict(testCouples)\n",
    "\n",
    "#print len(trainUsers), len(testUsers)\n",
    "#print len(trainItems), len(testItems)"
   ]
  },
  {
   "cell_type": "code",
   "execution_count": 31,
   "metadata": {
    "collapsed": false
   },
   "outputs": [
    {
     "data": {
      "text/plain": [
       "array([['592', 'Apocalypse Now (1979)', '5.0'],\n",
       "       ['465', 'Bridge on the River Kwai, The (1957)', '3.0'],\n",
       "       ['269', 'Grifters, The (1990)', '3.0'],\n",
       "       ..., \n",
       "       ['838', 'Mission: Impossible (1996)', '4.0'],\n",
       "       ['305', 'Amadeus (1984)', '3.0'],\n",
       "       ['43', 'Last of the Mohicans, The (1992)', '4.0']], \n",
       "      dtype='|S81')"
      ]
     },
     "execution_count": 31,
     "metadata": {},
     "output_type": "execute_result"
    },
    {
     "name": "stdout",
     "output_type": "stream",
     "text": [
      "\n"
     ]
    }
   ],
   "source": [
    "testCouples"
   ]
  },
  {
   "cell_type": "code",
   "execution_count": 40,
   "metadata": {
    "collapsed": false
   },
   "outputs": [
    {
     "name": "stdout",
     "output_type": "stream",
     "text": [
      " erreur en test: 1.06921629624\n"
     ]
    }
   ],
   "source": [
    "model1 = baselineMeanUsers()\n",
    "model1.fit(train)\n",
    "pred = model1.predict(testCouples)\n",
    "print \"erreur en test:\", ((pred - np.array(testCouples[:,2], float)) ** 2).mean()"
   ]
  },
  {
   "cell_type": "code",
   "execution_count": null,
   "metadata": {
    "collapsed": true
   },
   "outputs": [],
   "source": []
  },
  {
   "cell_type": "code",
   "execution_count": null,
   "metadata": {
    "collapsed": true
   },
   "outputs": [],
   "source": []
  },
  {
   "cell_type": "code",
   "execution_count": null,
   "metadata": {
    "collapsed": true
   },
   "outputs": [],
   "source": []
  },
  {
   "cell_type": "code",
   "execution_count": 25,
   "metadata": {
    "collapsed": false
   },
   "outputs": [],
   "source": [
    "di = np.array([int(i) for i  in train.keys()])"
   ]
  },
  {
   "cell_type": "code",
   "execution_count": 27,
   "metadata": {
    "collapsed": false
   },
   "outputs": [
    {
     "data": {
      "text/plain": [
       "1"
      ]
     },
     "execution_count": 27,
     "metadata": {},
     "output_type": "execute_result"
    }
   ],
   "source": [
    "np.max(di)"
   ]
  },
  {
   "cell_type": "markdown",
   "metadata": {},
   "source": [
    "---"
   ]
  },
  {
   "cell_type": "code",
   "execution_count": 14,
   "metadata": {
    "collapsed": false
   },
   "outputs": [],
   "source": [
    "import numpy as np\n",
    "from scipy import linalg\n",
    "from numpy import dot\n",
    "\n",
    "def nmf(X, latent_features, max_iter=100, error_limit=1e-6, fit_error_limit=1e-6):\n",
    "    \"\"\"\n",
    "    Decompose X to A*Y\n",
    "    \"\"\"\n",
    "    eps = 1e-5\n",
    "    print 'Starting NMF decomposition with {} latent features and {} iterations.'.format(latent_features, max_iter)\n",
    "    X = X.toarray()  # I am passing in a scipy sparse matrix\n",
    "\n",
    "    # mask\n",
    "    mask = np.sign(X)\n",
    "\n",
    "    # initial matrices. A is random [0,1] and Y is A\\X.\n",
    "    rows, columns = X.shape\n",
    "    A = np.random.rand(rows, latent_features)\n",
    "    A = np.maximum(A, eps)\n",
    "\n",
    "    Y = linalg.lstsq(A, X)[0]\n",
    "    Y = np.maximum(Y, eps)\n",
    "\n",
    "    masked_X = mask * X\n",
    "    X_est_prev = dot(A, Y)\n",
    "    for i in range(1, max_iter + 1):\n",
    "        # updates\n",
    "        top = dot(masked_X, Y.T)\n",
    "        bottom = (dot((mask * dot(A, Y)), Y.T)) + eps\n",
    "        A *= top / bottom\n",
    "\n",
    "        A = np.maximum(A, eps)\n",
    "        # print 'A',  np.round(A, 2)\n",
    "\n",
    "        top = dot(A.T, masked_X)\n",
    "        bottom = dot(A.T, mask * dot(A, Y)) + eps\n",
    "        Y *= top / bottom\n",
    "        Y = np.maximum(Y, eps)\n",
    "        # print 'Y', np.round(Y, 2)\n",
    "\n",
    "\n",
    "        # evaluation\n",
    "        if i % 5 == 0 or i == 1 or i == max_iter:\n",
    "            print 'Iteration {}:'.format(i),\n",
    "            X_est = dot(A, Y)\n",
    "            err = mask * (X_est_prev - X_est)\n",
    "            fit_residual = np.sqrt(np.sum(err ** 2))\n",
    "            X_est_prev = X_est\n",
    "\n",
    "            curRes = linalg.norm(mask * (X - X_est), ord='fro')\n",
    "            print 'fit residual', np.round(fit_residual, 4),\n",
    "            print 'total residual', np.round(curRes, 4)\n",
    "            if curRes < error_limit or fit_residual < fit_error_limit:\n",
    "                break\n",
    "\n",
    "    return A, Y"
   ]
  },
  {
   "cell_type": "code",
   "execution_count": 177,
   "metadata": {
    "collapsed": false
   },
   "outputs": [],
   "source": [
    "#A,Y = nmf(train,10)"
   ]
  },
  {
   "cell_type": "code",
   "execution_count": null,
   "metadata": {
    "collapsed": true
   },
   "outputs": [],
   "source": []
  },
  {
   "cell_type": "code",
   "execution_count": null,
   "metadata": {
    "collapsed": true
   },
   "outputs": [],
   "source": []
  },
  {
   "cell_type": "code",
   "execution_count": null,
   "metadata": {
    "collapsed": true
   },
   "outputs": [],
   "source": []
  },
  {
   "cell_type": "code",
   "execution_count": null,
   "metadata": {
    "collapsed": true
   },
   "outputs": [],
   "source": []
  }
 ],
 "metadata": {
  "kernelspec": {
   "display_name": "Python 2",
   "language": "python",
   "name": "python2"
  },
  "language_info": {
   "codemirror_mode": {
    "name": "ipython",
    "version": 2
   },
   "file_extension": ".py",
   "mimetype": "text/x-python",
   "name": "python",
   "nbconvert_exporter": "python",
   "pygments_lexer": "ipython2",
   "version": "2.7.10"
  }
 },
 "nbformat": 4,
 "nbformat_minor": 0
}
