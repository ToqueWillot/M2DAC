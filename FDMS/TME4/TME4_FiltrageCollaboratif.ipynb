{
 "cells": [
  {
   "cell_type": "code",
   "execution_count": 189,
   "metadata": {
    "collapsed": true
   },
   "outputs": [],
   "source": [
    "from random import random\n",
    "\n",
    "import math"
   ]
  },
  {
   "cell_type": "markdown",
   "metadata": {},
   "source": [
    "# Collect data"
   ]
  },
  {
   "cell_type": "code",
   "execution_count": 10,
   "metadata": {
    "collapsed": false
   },
   "outputs": [],
   "source": [
    "def loadMovieLens(path='data/movielens'):\n",
    "    #Get movie titles\n",
    "    movies={}\n",
    "    for line in open(path+'/u.item'):\n",
    "        id,title=line.split('|')[0:2]\n",
    "        movies[id]=title\n",
    "\n",
    "    # Load data\n",
    "    prefs={}\n",
    "    for line in open(path+'/u.data'):\n",
    "        (user,movieid,rating,ts)=line.split('\\t')\n",
    "        prefs.setdefault(user,{})\n",
    "        prefs[user][movies[movieid]]=float(rating)\n",
    "        \n",
    "    return prefs"
   ]
  },
  {
   "cell_type": "code",
   "execution_count": 57,
   "metadata": {
    "collapsed": false
   },
   "outputs": [],
   "source": [
    "data = loadMovieLens()"
   ]
  },
  {
   "cell_type": "markdown",
   "metadata": {},
   "source": [
    "## Explore data"
   ]
  },
  {
   "cell_type": "code",
   "execution_count": 248,
   "metadata": {
    "collapsed": true
   },
   "outputs": [
    {
     "data": {
      "text/plain": [
       "{'Absolute Power (1997)': 3.0,\n",
       " 'Addicted to Love (1997)': 3.0,\n",
       " 'Aladdin (1992)': 4.0,\n",
       " 'Alien (1979)': 5.0,\n",
       " 'Aliens (1986)': 5.0,\n",
       " 'Amadeus (1984)': 5.0,\n",
       " \"Antonia's Line (1995)\": 4.0,\n",
       " 'Apt Pupil (1998)': 5.0,\n",
       " 'As Good As It Gets (1997)': 4.0,\n",
       " 'Babe (1995)': 5.0,\n",
       " 'Back to the Future (1985)': 4.0,\n",
       " 'Beautiful Girls (1996)': 3.0,\n",
       " 'Beautiful Thing (1996)': 3.0,\n",
       " 'Beauty and the Beast (1991)': 5.0,\n",
       " 'Bed of Roses (1996)': 3.0,\n",
       " 'Before Sunrise (1995)': 4.0,\n",
       " 'Being There (1979)': 5.0,\n",
       " 'Big Bully (1996)': 1.0,\n",
       " 'Big Night (1996)': 5.0,\n",
       " 'Birdcage, The (1996)': 4.0,\n",
       " 'Blade Runner (1982)': 5.0,\n",
       " 'Bound (1996)': 4.0,\n",
       " 'Braveheart (1995)': 3.0,\n",
       " 'Brazil (1985)': 5.0,\n",
       " 'Breakdown (1997)': 3.0,\n",
       " 'Broken Arrow (1996)': 3.0,\n",
       " 'Brothers McMullen, The (1995)': 3.0,\n",
       " 'Cable Guy, The (1996)': 1.0,\n",
       " 'Chasing Amy (1997)': 4.0,\n",
       " 'City Hall (1996)': 3.0,\n",
       " 'Close Shave, A (1995)': 5.0,\n",
       " 'Clueless (1995)': 5.0,\n",
       " 'Contact (1997)': 3.0,\n",
       " 'Copycat (1995)': 3.0,\n",
       " 'Courage Under Fire (1996)': 3.0,\n",
       " 'Craft, The (1996)': 2.0,\n",
       " 'Cry, the Beloved Country (1995)': 4.0,\n",
       " 'Dances with Wolves (1990)': 3.0,\n",
       " 'Dead Man Walking (1995)': 5.0,\n",
       " 'Dead Poets Society (1989)': 4.0,\n",
       " \"Devil's Own, The (1997)\": 3.0,\n",
       " 'Diabolique (1996)': 2.0,\n",
       " 'Down Periscope (1996)': 2.0,\n",
       " 'Dragonheart (1996)': 3.0,\n",
       " 'Eat Drink Man Woman (1994)': 5.0,\n",
       " 'Emma (1996)': 4.0,\n",
       " 'Empire Strikes Back, The (1980)': 4.0,\n",
       " 'Enchanted April (1991)': 4.0,\n",
       " 'English Patient, The (1996)': 3.0,\n",
       " 'Eraser (1996)': 2.0,\n",
       " 'Everyone Says I Love You (1996)': 1.0,\n",
       " 'Extreme Measures (1996)': 4.0,\n",
       " 'Face/Off (1997)': 4.0,\n",
       " 'Fargo (1996)': 5.0,\n",
       " 'Father of the Bride Part II (1995)': 2.0,\n",
       " 'Female Perversions (1996)': 2.0,\n",
       " 'Field of Dreams (1989)': 3.0,\n",
       " 'Fierce Creatures (1997)': 2.0,\n",
       " 'First Wives Club, The (1996)': 3.0,\n",
       " 'Fly Away Home (1996)': 3.0,\n",
       " 'Forrest Gump (1994)': 2.0,\n",
       " 'Four Weddings and a Funeral (1994)': 3.0,\n",
       " 'Freeway (1996)': 1.0,\n",
       " 'Fried Green Tomatoes (1991)': 3.0,\n",
       " 'Fugitive, The (1993)': 4.0,\n",
       " 'Full Monty, The (1997)': 4.0,\n",
       " 'Gaslight (1944)': 5.0,\n",
       " 'Get Shorty (1995)': 4.0,\n",
       " 'Ghost and Mrs. Muir, The (1947)': 3.0,\n",
       " 'Ghost and the Darkness, The (1996)': 2.0,\n",
       " 'Godfather, The (1972)': 5.0,\n",
       " 'Good Will Hunting (1997)': 5.0,\n",
       " 'Grease (1978)': 4.0,\n",
       " 'Grosse Pointe Blank (1997)': 4.0,\n",
       " 'Groundhog Day (1993)': 4.0,\n",
       " 'Heat (1995)': 4.0,\n",
       " 'Heathers (1989)': 4.0,\n",
       " 'Henry V (1989)': 5.0,\n",
       " 'Highlander (1986)': 3.0,\n",
       " 'His Girl Friday (1940)': 4.0,\n",
       " 'Home for the Holidays (1995)': 3.0,\n",
       " 'If Lucy Fell (1996)': 1.0,\n",
       " 'In & Out (1997)': 4.0,\n",
       " 'In the Line of Fire (1993)': 3.0,\n",
       " 'Independence Day (ID4) (1996)': 3.0,\n",
       " 'Indiana Jones and the Last Crusade (1989)': 4.0,\n",
       " 'Interview with the Vampire (1994)': 3.0,\n",
       " \"It's a Wonderful Life (1946)\": 4.0,\n",
       " 'James and the Giant Peach (1996)': 4.0,\n",
       " 'Jeffrey (1995)': 4.0,\n",
       " 'Jerry Maguire (1996)': 3.0,\n",
       " 'L.A. Confidential (1997)': 5.0,\n",
       " 'Lawrence of Arabia (1962)': 4.0,\n",
       " 'Leaving Las Vegas (1995)': 4.0,\n",
       " 'Like Water For Chocolate (Como agua para chocolate) (1992)': 2.0,\n",
       " 'Lion King, The (1994)': 3.0,\n",
       " 'Local Hero (1983)': 5.0,\n",
       " 'Lone Star (1996)': 5.0,\n",
       " 'Man Who Would Be King, The (1975)': 4.0,\n",
       " 'Mars Attacks! (1996)': 3.0,\n",
       " 'Matilda (1996)': 3.0,\n",
       " 'Maverick (1994)': 3.0,\n",
       " 'Maya Lin: A Strong Clear Vision (1994)': 5.0,\n",
       " 'Mighty Aphrodite (1995)': 3.0,\n",
       " 'Mission: Impossible (1996)': 2.0,\n",
       " 'Mrs. Brown (Her Majesty, Mrs. Brown) (1997)': 5.0,\n",
       " 'Much Ado About Nothing (1993)': 4.0,\n",
       " 'Murder at 1600 (1997)': 2.0,\n",
       " \"My Best Friend's Wedding (1997)\": 4.0,\n",
       " 'My Fellow Americans (1996)': 3.0,\n",
       " 'My Left Foot (1989)': 4.0,\n",
       " 'My Life as a Dog (Mitt liv som hund) (1985)': 5.0,\n",
       " 'My Own Private Idaho (1991)': 4.0,\n",
       " 'Nikita (La Femme Nikita) (1990)': 5.0,\n",
       " 'One Fine Day (1996)': 2.0,\n",
       " \"One Flew Over the Cuckoo's Nest (1975)\": 5.0,\n",
       " 'Othello (1995)': 3.0,\n",
       " 'Out to Sea (1997)': 2.0,\n",
       " 'Passion Fish (1992)': 4.0,\n",
       " 'People vs. Larry Flynt, The (1996)': 4.0,\n",
       " 'Persuasion (1995)': 5.0,\n",
       " 'Phenomenon (1996)': 3.0,\n",
       " 'Philadelphia Story, The (1940)': 4.0,\n",
       " 'Postino, Il (1994)': 5.0,\n",
       " 'Princess Bride, The (1987)': 5.0,\n",
       " 'Quick and the Dead, The (1995)': 2.0,\n",
       " 'Quiz Show (1994)': 3.0,\n",
       " 'Raiders of the Lost Ark (1981)': 5.0,\n",
       " 'Ran (1985)': 4.0,\n",
       " 'Ransom (1996)': 3.0,\n",
       " 'Remains of the Day, The (1993)': 4.0,\n",
       " 'Return of the Jedi (1983)': 3.0,\n",
       " 'River Wild, The (1994)': 3.0,\n",
       " 'Rock, The (1996)': 3.0,\n",
       " 'Roman Holiday (1953)': 5.0,\n",
       " \"Romy and Michele's High School Reunion (1997)\": 4.0,\n",
       " 'Room with a View, A (1986)': 4.0,\n",
       " 'Sabrina (1954)': 4.0,\n",
       " 'Sabrina (1995)': 2.0,\n",
       " 'Scream (1996)': 4.0,\n",
       " 'Searching for Bobby Fischer (1993)': 4.0,\n",
       " 'Secret of Roan Inish, The (1994)': 4.0,\n",
       " 'Secrets & Lies (1996)': 5.0,\n",
       " 'Sense and Sensibility (1995)': 4.0,\n",
       " 'Seven (Se7en) (1995)': 3.0,\n",
       " 'Sex, Lies, and Videotape (1989)': 4.0,\n",
       " 'Shall We Dance? (1996)': 5.0,\n",
       " 'Shawshank Redemption, The (1994)': 5.0,\n",
       " \"She's the One (1996)\": 3.0,\n",
       " 'Silence of the Lambs, The (1991)': 4.0,\n",
       " 'Sleepers (1996)': 4.0,\n",
       " 'Sleepless in Seattle (1993)': 3.0,\n",
       " \"Smilla's Sense of Snow (1997)\": 3.0,\n",
       " 'Speed (1994)': 5.0,\n",
       " 'Star Trek: First Contact (1996)': 4.0,\n",
       " 'Star Trek: The Wrath of Khan (1982)': 4.0,\n",
       " 'Star Wars (1977)': 5.0,\n",
       " 'Strange Days (1995)': 3.0,\n",
       " 'Strictly Ballroom (1992)': 5.0,\n",
       " 'Sweet Hereafter, The (1997)': 4.0,\n",
       " 'Terminator 2: Judgment Day (1991)': 4.0,\n",
       " 'Terminator, The (1984)': 5.0,\n",
       " 'That Thing You Do! (1996)': 3.0,\n",
       " 'Tin Cup (1996)': 3.0,\n",
       " 'Titanic (1997)': 3.0,\n",
       " 'To Die For (1995)': 4.0,\n",
       " 'Tomorrow Never Dies (1997)': 4.0,\n",
       " 'Toy Story (1995)': 3.0,\n",
       " 'True Lies (1994)': 2.0,\n",
       " 'Truth About Cats & Dogs, The (1996)': 4.0,\n",
       " 'Twelve Monkeys (1995)': 4.0,\n",
       " 'Twister (1996)': 3.0,\n",
       " \"Ulee's Gold (1997)\": 4.0,\n",
       " 'Unforgiven (1992)': 4.0,\n",
       " 'Up Close and Personal (1996)': 3.0,\n",
       " 'Usual Suspects, The (1995)': 5.0,\n",
       " 'Vertigo (1958)': 4.0,\n",
       " 'Volcano (1997)': 2.0,\n",
       " 'Waiting for Guffman (1996)': 4.0,\n",
       " 'When Harry Met Sally... (1989)': 4.0,\n",
       " 'When We Were Kings (1996)': 5.0,\n",
       " \"William Shakespeare's Romeo and Juliet (1996)\": 2.0,\n",
       " 'Willy Wonka and the Chocolate Factory (1971)': 5.0,\n",
       " 'Wings of the Dove, The (1997)': 4.0,\n",
       " 'Wizard of Oz, The (1939)': 4.0,\n",
       " 'Women, The (1939)': 4.0,\n",
       " 'Wrong Trousers, The (1993)': 5.0,\n",
       " 'Young Frankenstein (1974)': 5.0}"
      ]
     },
     "execution_count": 248,
     "metadata": {},
     "output_type": "execute_result"
    }
   ],
   "source": [
    "data['344']\n"
   ]
  },
  {
   "cell_type": "markdown",
   "metadata": {},
   "source": [
    "# Creation of train set and test set\n",
    "We want to split data in two set (train and test)\n",
    "\n",
    "Actually : \n",
    "\n",
    " ** train= 80%totaldataset**\n",
    " \n",
    " ** test = 20%totaldataset**"
   ]
  },
  {
   "cell_type": "code",
   "execution_count": 78,
   "metadata": {
    "collapsed": true
   },
   "outputs": [],
   "source": [
    "def split_train_test(data,percent_test):\n",
    "    test={}\n",
    "    train={}\n",
    "    movie={}\n",
    "    for u in data.keys():\n",
    "        test.setdefault(u,{})\n",
    "        train.setdefault(u,{})\n",
    "        for movie in data[u]:\n",
    "            #print(data[u][movie])\n",
    "            if (random()<percent_test):\n",
    "                test[u][movie]=data[u][movie]\n",
    "            else:\n",
    "                train[u][movie]=data[u][movie]\n",
    "    return train, test"
   ]
  },
  {
   "cell_type": "code",
   "execution_count": null,
   "metadata": {
    "collapsed": true
   },
   "outputs": [],
   "source": [
    "percent_test=0.2\n",
    "train,test=split_train_test(data,percent_test)"
   ]
  },
  {
   "cell_type": "markdown",
   "metadata": {},
   "source": [
    "## Part that allows to clean train and test\n",
    "We don't want to have user in test set which are not in train test, the same for the movies so we delete them"
   ]
  },
  {
   "cell_type": "code",
   "execution_count": 249,
   "metadata": {
    "collapsed": true
   },
   "outputs": [],
   "source": [
    "\n",
    "def get_moove(data):\n",
    "    moove = {}\n",
    "    for u in data:\n",
    "        for m in data[u]:\n",
    "            moove[m]=0\n",
    "    return moove\n",
    "            \n",
    "def get_youser(data):\n",
    "    youser = {}\n",
    "    for u in data:\n",
    "        youser[u]=0\n",
    "    return youser  \n",
    "\n",
    "def clean(d1,d2):\n",
    "    to_erase = {}\n",
    "    for i in d1:\n",
    "        try:\n",
    "            d2[i]\n",
    "        except KeyError:\n",
    "            to_erase[i]=0\n",
    "    for i in d2:\n",
    "        try:\n",
    "            d1[i]\n",
    "        except KeyError:\n",
    "            to_erase[i]=0\n",
    "    return to_erase\n",
    "def _remove_users(test,rem):\n",
    "    for i in rem:\n",
    "        try:\n",
    "            del test[i]\n",
    "        except KeyError:\n",
    "            pass\n",
    "def _remove_movies(test,rem):\n",
    "    for i in test:\n",
    "        for j in rem:\n",
    "            try:\n",
    "                del test[i][j]\n",
    "            except KeyError:\n",
    "                pass\n"
   ]
  },
  {
   "cell_type": "code",
   "execution_count": 121,
   "metadata": {
    "collapsed": false
   },
   "outputs": [
    {
     "data": {
      "text/plain": [
       "1384"
      ]
     },
     "execution_count": 121,
     "metadata": {},
     "output_type": "execute_result"
    }
   ],
   "source": [
    "mooveToRemoove = clean(get_moove(train),get_moove(test))\n",
    "youserToRemoove = clean(get_youser(train),get_youser(test))\n",
    "_remove_users(test,youserToRemoove)\n",
    "_remove_movies(test,mooveToRemoove)"
   ]
  },
  {
   "cell_type": "markdown",
   "metadata": {},
   "source": [
    "# Collaboritive Filtering classes"
   ]
  },
  {
   "cell_type": "code",
   "execution_count": 244,
   "metadata": {
    "collapsed": false
   },
   "outputs": [],
   "source": [
    "class BaselineMeanUser:\n",
    "    def __init__(self):\n",
    "        self.users={}\n",
    "        self.movies={}\n",
    "    def fit(self,train):\n",
    "        for user in train:\n",
    "            note=0\n",
    "            for movie in train[user]:\n",
    "                note+=train[user][movie]\n",
    "            note=note/len(train[user])\n",
    "            self.users[user]=round(note)\n",
    "        \n",
    "    def predict(self,user,movie):\n",
    "        return self.users[user]\n",
    "    def score(self,X):\n",
    "        nb_movies = len(get_moove(X))\n",
    "        score = 0\n",
    "        for user in X:\n",
    "            for movie in X[user]:\n",
    "                if(self.predict(user,movie)==X[user][movie]):\n",
    "                    score+=1\n",
    "        return float(score)/nb_movies\n",
    "                \n",
    "                    \n",
    "    \n",
    "class BaselineMeanMovie:\n",
    "    def __init__(self):\n",
    "        self.users={}\n",
    "        self.movies={}\n",
    "    def fit(self,train):\n",
    "        movies = get_moove(train)\n",
    "        for movie in movies:\n",
    "            note=0\n",
    "            cpt=0\n",
    "            for user in train:\n",
    "                try:\n",
    "                    note+=train[user][movie]\n",
    "                    cpt+=1\n",
    "                except KeyError:\n",
    "                    pass\n",
    "            note=note/cpt\n",
    "            self.movies[movie]=round(note)\n",
    "        \n",
    "    def predict(self,user,movie):\n",
    "        return self.movies[movie]\n",
    "    def score(self,X):\n",
    "        nb_movies = len(get_moove(X))\n",
    "        score = 0\n",
    "        for user in X:\n",
    "            for movie in X[user]:\n",
    "                if(self.predict(user,movie)==X[user][movie]):\n",
    "                    score+=1\n",
    "        return float(score)/nb_movies"
   ]
  },
  {
   "cell_type": "code",
   "execution_count": 245,
   "metadata": {
    "collapsed": false
   },
   "outputs": [],
   "source": [
    "baseline_mu= BaselineMeanUser()\n",
    "baseline_mm= BaselineMeanMovie()"
   ]
  },
  {
   "cell_type": "code",
   "execution_count": 246,
   "metadata": {
    "collapsed": false
   },
   "outputs": [],
   "source": [
    "baseline_mu.fit(train)\n",
    "baseline_mm.fit(train)"
   ]
  },
  {
   "cell_type": "code",
   "execution_count": 247,
   "metadata": {
    "collapsed": false,
    "scrolled": true
   },
   "outputs": [
    {
     "name": "stdout",
     "output_type": "stream",
     "text": [
      "('score baseline mean user  ', 5.195086705202312)\n",
      "('score baseline mean movie ', 5.277456647398844)\n"
     ]
    }
   ],
   "source": [
    "print(\"score baseline mean user  \",baseline_mu.score(test))\n",
    "print(\"score baseline mean movie \",baseline_mm.score(test))"
   ]
  }
 ],
 "metadata": {
  "kernelspec": {
   "display_name": "Python 2",
   "language": "python",
   "name": "python2"
  },
  "language_info": {
   "codemirror_mode": {
    "name": "ipython",
    "version": 2
   },
   "file_extension": ".py",
   "mimetype": "text/x-python",
   "name": "python",
   "nbconvert_exporter": "python",
   "pygments_lexer": "ipython2",
   "version": "2.7.10"
  }
 },
 "nbformat": 4,
 "nbformat_minor": 0
}
