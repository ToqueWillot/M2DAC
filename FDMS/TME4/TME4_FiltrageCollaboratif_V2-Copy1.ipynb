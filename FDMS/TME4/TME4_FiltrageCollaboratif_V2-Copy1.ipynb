{
 "cells": [
  {
   "cell_type": "code",
   "execution_count": 1,
   "metadata": {
    "collapsed": true
   },
   "outputs": [],
   "source": [
    "from random import random\n",
    "import math\n",
    "import numpy as np\n",
    "import copy"
   ]
  },
  {
   "cell_type": "code",
   "execution_count": 2,
   "metadata": {
    "collapsed": false
   },
   "outputs": [],
   "source": [
    "def loadMovieLens(path='./data/movielens'):\n",
    "    #Get movie titles\n",
    "    movies={}\n",
    "    rev_movies={}\n",
    "    for idx,line in enumerate(open(path+'/u.item')):\n",
    "        idx,title=line.split('|')[0:2]\n",
    "        movies[idx]=title\n",
    "        rev_movies[title]=idx\n",
    "\n",
    "    # Load data\n",
    "    prefs={}\n",
    "    for line in open(path+'/u.data'):\n",
    "        (user,movieid,rating,ts)=line.split('\\t')\n",
    "        prefs.setdefault(user,{})\n",
    "        prefs[user][movies[movieid]]=float(rating)\n",
    "        \n",
    "    return prefs,rev_movies"
   ]
  },
  {
   "cell_type": "code",
   "execution_count": 3,
   "metadata": {
    "collapsed": false
   },
   "outputs": [],
   "source": [
    "data,movies = loadMovieLens(\"data/ml-100k\")"
   ]
  },
  {
   "cell_type": "code",
   "execution_count": 4,
   "metadata": {
    "collapsed": false
   },
   "outputs": [
    {
     "data": {
      "text/plain": [
       "{'187 (1997)': 2.0,\n",
       " 'Air Force One (1997)': 2.0,\n",
       " 'Alien: Resurrection (1997)': 3.0,\n",
       " 'Apostle, The (1997)': 4.0,\n",
       " 'Bean (1997)': 2.0,\n",
       " 'Boogie Nights (1997)': 5.0,\n",
       " 'Chasing Amy (1997)': 3.0,\n",
       " 'Conspiracy Theory (1997)': 5.0,\n",
       " 'Contact (1997)': 2.0,\n",
       " 'Cop Land (1997)': 4.0,\n",
       " 'Crash (1996)': 1.0,\n",
       " 'Critical Care (1997)': 1.0,\n",
       " \"Dante's Peak (1997)\": 2.0,\n",
       " 'Deconstructing Harry (1997)': 3.0,\n",
       " 'Deep Rising (1998)': 1.0,\n",
       " 'Desperate Measures (1998)': 4.0,\n",
       " \"Devil's Advocate, The (1997)\": 3.0,\n",
       " \"Devil's Own, The (1997)\": 1.0,\n",
       " 'Edge, The (1997)': 4.0,\n",
       " 'Event Horizon (1997)': 4.0,\n",
       " 'Everyone Says I Love You (1996)': 2.0,\n",
       " 'Fallen (1998)': 3.0,\n",
       " 'G.I. Jane (1997)': 2.0,\n",
       " 'Game, The (1997)': 2.0,\n",
       " 'Good Will Hunting (1997)': 2.0,\n",
       " 'Hard Rain (1998)': 3.0,\n",
       " 'Hoodlum (1997)': 3.0,\n",
       " 'House of Yes, The (1997)': 1.0,\n",
       " 'How to Be a Player (1997)': 1.0,\n",
       " 'In the Name of the Father (1993)': 2.0,\n",
       " 'Jackie Brown (1997)': 5.0,\n",
       " 'Kiss the Girls (1997)': 1.0,\n",
       " 'L.A. Confidential (1997)': 2.0,\n",
       " 'Liar Liar (1997)': 2.0,\n",
       " 'Lost Highway (1997)': 2.0,\n",
       " 'Mad City (1997)': 3.0,\n",
       " 'Man Who Knew Too Little, The (1997)': 4.0,\n",
       " 'Mimic (1997)': 2.0,\n",
       " 'Mother (1996)': 5.0,\n",
       " 'Murder at 1600 (1997)': 3.0,\n",
       " 'Paradise Lost: The Child Murders at Robin Hood Hills (1996)': 5.0,\n",
       " 'Playing God (1997)': 1.0,\n",
       " 'Prophecy II, The (1998)': 3.0,\n",
       " 'Return of the Jedi (1983)': 4.0,\n",
       " \"Schindler's List (1993)\": 4.0,\n",
       " 'Scream (1996)': 2.0,\n",
       " 'Sphere (1998)': 3.0,\n",
       " 'Spice World (1997)': 2.0,\n",
       " 'Starship Troopers (1997)': 3.0,\n",
       " 'U Turn (1997)': 3.0,\n",
       " \"Ulee's Gold (1997)\": 3.0,\n",
       " 'Wag the Dog (1997)': 5.0,\n",
       " 'Wedding Singer, The (1998)': 3.0}"
      ]
     },
     "execution_count": 4,
     "metadata": {},
     "output_type": "execute_result"
    }
   ],
   "source": [
    "data['3']"
   ]
  },
  {
   "cell_type": "code",
   "execution_count": 5,
   "metadata": {
    "collapsed": true
   },
   "outputs": [],
   "source": [
    "def getRawArray(data):\n",
    "    d = []\n",
    "    for u in data.keys():\n",
    "        for i in data[u].keys():\n",
    "            d.append([u,i,data[u][i]])\n",
    "    return np.array(d)"
   ]
  },
  {
   "cell_type": "code",
   "execution_count": 6,
   "metadata": {
    "collapsed": true
   },
   "outputs": [],
   "source": [
    "# splitting while avoiding to reduce the dataset too much\n",
    "def split_train_test(data,percent_test):\n",
    "    test={}\n",
    "    train={}\n",
    "    movie={}\n",
    "    for u in data.keys():\n",
    "        test.setdefault(u,{})\n",
    "        train.setdefault(u,{})\n",
    "        for movie in data[u]:\n",
    "            #print(data[u][movie])\n",
    "            if (random()<percent_test):\n",
    "                test[u][movie]=data[u][movie]\n",
    "            else:\n",
    "                train[u][movie]=data[u][movie]\n",
    "    return train, test"
   ]
  },
  {
   "cell_type": "code",
   "execution_count": 7,
   "metadata": {
    "collapsed": true
   },
   "outputs": [],
   "source": [
    "def split_train_test_by_movies(data,percent_test):\n",
    "    test={}\n",
    "    train={}\n",
    "    movie={}\n",
    "    for u in data.keys():\n",
    "        for movie in data[u]:\n",
    "            if (random()<percent_test):\n",
    "                try:\n",
    "                    test[movie][u]=data[u][movie]\n",
    "                except KeyError:\n",
    "                    test.setdefault(movie,{})\n",
    "                    test[movie][u]=data[u][movie]\n",
    "            else:\n",
    "                try:\n",
    "                    train[movie][u]=data[u][movie]\n",
    "                except KeyError:\n",
    "                    train.setdefault(movie,{})\n",
    "                    train[movie][u]=data[u][movie]\n",
    "    return train, test"
   ]
  },
  {
   "cell_type": "code",
   "execution_count": 8,
   "metadata": {
    "collapsed": true
   },
   "outputs": [],
   "source": [
    "percent_test=0.2\n",
    "train,test=split_train_test(data,percent_test)"
   ]
  },
  {
   "cell_type": "code",
   "execution_count": 9,
   "metadata": {
    "collapsed": false
   },
   "outputs": [],
   "source": [
    "percent_test=0.2\n",
    "m_train,m_test=split_train_test_by_movies(data,percent_test)"
   ]
  },
  {
   "cell_type": "code",
   "execution_count": 10,
   "metadata": {
    "collapsed": false
   },
   "outputs": [],
   "source": [
    "def deleteUnseenInTest(train,test):\n",
    "    for k in test.keys():\n",
    "        try:\n",
    "            train[k]\n",
    "        except KeyError:\n",
    "            test.pop(k,None)"
   ]
  },
  {
   "cell_type": "code",
   "execution_count": 11,
   "metadata": {
    "collapsed": true
   },
   "outputs": [],
   "source": [
    "deleteUnseenInTest(train,test)\n",
    "deleteUnseenInTest(m_train,m_test)"
   ]
  },
  {
   "cell_type": "code",
   "execution_count": 12,
   "metadata": {
    "collapsed": true
   },
   "outputs": [],
   "source": [
    "rawArray = getRawArray(data)\n",
    "rawArrayTest = getRawArray(test)"
   ]
  },
  {
   "cell_type": "markdown",
   "metadata": {},
   "source": [
    "---"
   ]
  },
  {
   "cell_type": "markdown",
   "metadata": {},
   "source": [
    "## Baseline: mean by user"
   ]
  },
  {
   "cell_type": "code",
   "execution_count": 14,
   "metadata": {
    "collapsed": true
   },
   "outputs": [],
   "source": [
    "class baselineMeanUser:\n",
    "    def __init__(self):\n",
    "        self.users={}\n",
    "    def fit(self,train):\n",
    "        for user in train.keys():\n",
    "            note=0.0\n",
    "            for movie in train[user].keys():\n",
    "                note+=train[user][movie]\n",
    "            note=note/len(train[user])\n",
    "            self.users[user]=note\n",
    "        \n",
    "    def predict(self,users):\n",
    "        return [self.users[u] for u in users]"
   ]
  },
  {
   "cell_type": "code",
   "execution_count": 15,
   "metadata": {
    "collapsed": false
   },
   "outputs": [
    {
     "name": "stdout",
     "output_type": "stream",
     "text": [
      "Mean Error 1.065080\n"
     ]
    }
   ],
   "source": [
    "baseline_mu= baselineMeanUser()\n",
    "baseline_mu.fit(train)\n",
    "pred = baseline_mu.predict(rawArray[:,0])\n",
    "print(\"Mean Error %0.6f\" %(\n",
    "        (np.array(pred) - np.array(rawArray[:,2], float)) ** 2).mean())"
   ]
  },
  {
   "cell_type": "code",
   "execution_count": 16,
   "metadata": {
    "collapsed": false
   },
   "outputs": [],
   "source": [
    "class baselineMeanMovie:\n",
    "    def __init__(self):\n",
    "        self.movies={}\n",
    "    def fit(self,train):\n",
    "        for movie in train.keys():\n",
    "            note=0.0\n",
    "            for user in train[movie].keys():\n",
    "                note+=train[movie][user]\n",
    "            note=note/len(train[movie])\n",
    "            self.movies[movie]=note\n",
    "        \n",
    "    def predict(self,movies):\n",
    "        res=[]\n",
    "        for m in movies:\n",
    "            try:\n",
    "                res.append(self.movies[m])\n",
    "            except:\n",
    "                res.append(3)\n",
    "        return res"
   ]
  },
  {
   "cell_type": "code",
   "execution_count": 17,
   "metadata": {
    "collapsed": false
   },
   "outputs": [
    {
     "name": "stdout",
     "output_type": "stream",
     "text": [
      "Mean Error 0.997603\n"
     ]
    }
   ],
   "source": [
    "baseline_mm= baselineMeanMovie()\n",
    "baseline_mm.fit(m_train)\n",
    "pred = baseline_mm.predict(rawArrayTest[:,1])\n",
    "print(\"Mean Error %0.6f\" %(\n",
    "        (np.array(pred) - np.array(rawArrayTest[:,2], float)) ** 2).mean())"
   ]
  },
  {
   "cell_type": "code",
   "execution_count": 18,
   "metadata": {
    "collapsed": false,
    "scrolled": true
   },
   "outputs": [
    {
     "data": {
      "text/plain": [
       "{'189': 5.0,\n",
       " '459': 1.0,\n",
       " '496': 1.0,\n",
       " '592': 2.0,\n",
       " '622': 3.0,\n",
       " '637': 2.0,\n",
       " '804': 3.0,\n",
       " '919': 3.0}"
      ]
     },
     "execution_count": 18,
     "metadata": {},
     "output_type": "execute_result"
    }
   ],
   "source": [
    "m_test['Adventures of Pinocchio, The (1996)']"
   ]
  },
  {
   "cell_type": "code",
   "execution_count": 19,
   "metadata": {
    "collapsed": false
   },
   "outputs": [
    {
     "data": {
      "text/plain": [
       "array([['344', 'Birdcage, The (1996)', '4.0'],\n",
       "       ['344', 'Enchanted April (1991)', '4.0'],\n",
       "       ['344', 'Diabolique (1996)', '2.0'],\n",
       "       ['344', 'Face/Off (1997)', '4.0'],\n",
       "       ['344', 'My Fellow Americans (1996)', '3.0']], \n",
       "      dtype='|S81')"
      ]
     },
     "execution_count": 19,
     "metadata": {},
     "output_type": "execute_result"
    }
   ],
   "source": [
    "rawArray[:5]"
   ]
  },
  {
   "cell_type": "code",
   "execution_count": 20,
   "metadata": {
    "collapsed": false
   },
   "outputs": [
    {
     "data": {
      "text/plain": [
       "227"
      ]
     },
     "execution_count": 20,
     "metadata": {},
     "output_type": "execute_result"
    }
   ],
   "source": [
    "len(m_train['Birdcage, The (1996)'])"
   ]
  },
  {
   "cell_type": "markdown",
   "metadata": {},
   "source": [
    "---"
   ]
  },
  {
   "cell_type": "code",
   "execution_count": 21,
   "metadata": {
    "collapsed": true
   },
   "outputs": [],
   "source": [
    "class matrixFactorisation():\n",
    "    def __init__(self, k, lambd=0.2, eps=1e-5, maxIter=2000, alternate=0):\n",
    "        self.k = k\n",
    "        self.lambd = lambd\n",
    "        self.eps = eps\n",
    "        self.maxIter = maxIter\n",
    "        self.alternate = alternate\n",
    "    def fit(self, dataUsers, dataItems, couples):\n",
    "        self.p = {}\n",
    "        self.q = {}\n",
    "        self.couples = couples\n",
    "        self.loss = []\n",
    "        optimP = True\n",
    "        optimQ = (self.alternate == 0)\n",
    "        for i in xrange(self.maxIter):\n",
    "            loss = 0\n",
    "            for j in xrange(len(couples)):\n",
    "                r = np.random.randint(len(couples))\n",
    "                user = couples[r][0]\n",
    "                item = couples[r][1]\n",
    "                if not user in self.p:\n",
    "                    self.p[user] = np.random.rand(1,self.k)\n",
    "                if not item in self.q:\n",
    "                    self.q[item] = np.random.rand(self.k,1)\n",
    "                tmp = dataUsers[user][item] - self.p[user].dot(self.q[item])[0][0]\n",
    "                if (optimP):\n",
    "                    self.p[user] = (1 - self.lambd * self.eps) * self.p[user] + self.eps * 2 * tmp * self.q[item].transpose()\n",
    "                if (optimQ):\n",
    "                    self.q[item] = (1 - self.lambd * self.eps) * self.q[item] + self.eps * 2 * tmp * self.p[user].transpose()\n",
    "                loss = loss + tmp*tmp #Sans régularisation\n",
    "            self.loss.append(loss)\n",
    "            if (self.alternate != 0):\n",
    "                if (i % self.alternate == 0):\n",
    "                    oprimP = False if optimQ else True\n",
    "                    print i, loss / len(couples)\n",
    "            else:\n",
    "                if (i % 100 == 0):\n",
    "                    print i, loss / len(couples)\n",
    "    def predict(self, couplesTest):\n",
    "        pred = np.zeros(len(couplesTest))\n",
    "        for ind,c in enumerate(couplesTest):\n",
    "            pred[ind] = self.p[c[0]].dot(self.q[c[1]])[0][0]\n",
    "        return pred"
   ]
  },
  {
   "cell_type": "code",
   "execution_count": 176,
   "metadata": {
    "collapsed": false
   },
   "outputs": [
    {
     "name": "stdout",
     "output_type": "stream",
     "text": [
      "0 2.77841840868\n",
      "100 1.26732246398\n",
      "200 1.05346402861\n",
      "300 0.983480018466\n",
      "400 0.940916112566\n",
      "500 0.912340589664\n",
      "600 0.895851403893\n",
      "700 0.880687032448\n"
     ]
    },
    {
     "ename": "KeyboardInterrupt",
     "evalue": "",
     "output_type": "error",
     "traceback": [
      "\u001b[0;31m---------------------------------------------------------------------------\u001b[0m",
      "\u001b[0;31mKeyboardInterrupt\u001b[0m                         Traceback (most recent call last)",
      "\u001b[0;32m<ipython-input-176-d96c14626eab>\u001b[0m in \u001b[0;36m<module>\u001b[0;34m()\u001b[0m\n\u001b[1;32m      1\u001b[0m \u001b[0mmodel3\u001b[0m \u001b[0;34m=\u001b[0m \u001b[0mmatrixFactorisation\u001b[0m\u001b[0;34m(\u001b[0m\u001b[0;36m10\u001b[0m\u001b[0;34m,\u001b[0m \u001b[0malternate\u001b[0m\u001b[0;34m=\u001b[0m\u001b[0;36m0\u001b[0m\u001b[0;34m)\u001b[0m\u001b[0;34m\u001b[0m\u001b[0m\n\u001b[0;32m----> 2\u001b[0;31m \u001b[0mmodel3\u001b[0m\u001b[0;34m.\u001b[0m\u001b[0mfit\u001b[0m\u001b[0;34m(\u001b[0m\u001b[0mtrainUsers\u001b[0m\u001b[0;34m,\u001b[0m \u001b[0mtrainItems\u001b[0m\u001b[0;34m,\u001b[0m \u001b[0mtrainCouples\u001b[0m\u001b[0;34m)\u001b[0m\u001b[0;34m\u001b[0m\u001b[0m\n\u001b[0m",
      "\u001b[0;32m<ipython-input-175-885d71f2654b>\u001b[0m in \u001b[0;36mfit\u001b[0;34m(self, dataUsers, dataItems, couples)\u001b[0m\n\u001b[1;32m     23\u001b[0m                 \u001b[0;32mif\u001b[0m \u001b[0;32mnot\u001b[0m \u001b[0mitem\u001b[0m \u001b[0;32min\u001b[0m \u001b[0mself\u001b[0m\u001b[0;34m.\u001b[0m\u001b[0mq\u001b[0m\u001b[0;34m:\u001b[0m\u001b[0;34m\u001b[0m\u001b[0m\n\u001b[1;32m     24\u001b[0m                     \u001b[0mself\u001b[0m\u001b[0;34m.\u001b[0m\u001b[0mq\u001b[0m\u001b[0;34m[\u001b[0m\u001b[0mitem\u001b[0m\u001b[0;34m]\u001b[0m \u001b[0;34m=\u001b[0m \u001b[0mnp\u001b[0m\u001b[0;34m.\u001b[0m\u001b[0mrandom\u001b[0m\u001b[0;34m.\u001b[0m\u001b[0mrand\u001b[0m\u001b[0;34m(\u001b[0m\u001b[0mself\u001b[0m\u001b[0;34m.\u001b[0m\u001b[0mk\u001b[0m\u001b[0;34m,\u001b[0m\u001b[0;36m1\u001b[0m\u001b[0;34m)\u001b[0m\u001b[0;34m\u001b[0m\u001b[0m\n\u001b[0;32m---> 25\u001b[0;31m                 \u001b[0mtmp\u001b[0m \u001b[0;34m=\u001b[0m \u001b[0mdataUsers\u001b[0m\u001b[0;34m[\u001b[0m\u001b[0muser\u001b[0m\u001b[0;34m]\u001b[0m\u001b[0;34m[\u001b[0m\u001b[0mitem\u001b[0m\u001b[0;34m]\u001b[0m \u001b[0;34m-\u001b[0m \u001b[0mself\u001b[0m\u001b[0;34m.\u001b[0m\u001b[0mp\u001b[0m\u001b[0;34m[\u001b[0m\u001b[0muser\u001b[0m\u001b[0;34m]\u001b[0m\u001b[0;34m.\u001b[0m\u001b[0mdot\u001b[0m\u001b[0;34m(\u001b[0m\u001b[0mself\u001b[0m\u001b[0;34m.\u001b[0m\u001b[0mq\u001b[0m\u001b[0;34m[\u001b[0m\u001b[0mitem\u001b[0m\u001b[0;34m]\u001b[0m\u001b[0;34m)\u001b[0m\u001b[0;34m[\u001b[0m\u001b[0;36m0\u001b[0m\u001b[0;34m]\u001b[0m\u001b[0;34m[\u001b[0m\u001b[0;36m0\u001b[0m\u001b[0;34m]\u001b[0m\u001b[0;34m\u001b[0m\u001b[0m\n\u001b[0m\u001b[1;32m     26\u001b[0m                 \u001b[0;32mif\u001b[0m \u001b[0;34m(\u001b[0m\u001b[0moptimP\u001b[0m\u001b[0;34m)\u001b[0m\u001b[0;34m:\u001b[0m\u001b[0;34m\u001b[0m\u001b[0m\n\u001b[1;32m     27\u001b[0m                     \u001b[0mself\u001b[0m\u001b[0;34m.\u001b[0m\u001b[0mp\u001b[0m\u001b[0;34m[\u001b[0m\u001b[0muser\u001b[0m\u001b[0;34m]\u001b[0m \u001b[0;34m=\u001b[0m \u001b[0;34m(\u001b[0m\u001b[0;36m1\u001b[0m \u001b[0;34m-\u001b[0m \u001b[0mself\u001b[0m\u001b[0;34m.\u001b[0m\u001b[0mlambd\u001b[0m \u001b[0;34m*\u001b[0m \u001b[0mself\u001b[0m\u001b[0;34m.\u001b[0m\u001b[0meps\u001b[0m\u001b[0;34m)\u001b[0m \u001b[0;34m*\u001b[0m \u001b[0mself\u001b[0m\u001b[0;34m.\u001b[0m\u001b[0mp\u001b[0m\u001b[0;34m[\u001b[0m\u001b[0muser\u001b[0m\u001b[0;34m]\u001b[0m \u001b[0;34m+\u001b[0m \u001b[0mself\u001b[0m\u001b[0;34m.\u001b[0m\u001b[0meps\u001b[0m \u001b[0;34m*\u001b[0m \u001b[0;36m2\u001b[0m \u001b[0;34m*\u001b[0m \u001b[0mtmp\u001b[0m \u001b[0;34m*\u001b[0m \u001b[0mself\u001b[0m\u001b[0;34m.\u001b[0m\u001b[0mq\u001b[0m\u001b[0;34m[\u001b[0m\u001b[0mitem\u001b[0m\u001b[0;34m]\u001b[0m\u001b[0;34m.\u001b[0m\u001b[0mtranspose\u001b[0m\u001b[0;34m(\u001b[0m\u001b[0;34m)\u001b[0m\u001b[0;34m\u001b[0m\u001b[0m\n",
      "\u001b[0;31mKeyboardInterrupt\u001b[0m: "
     ]
    }
   ],
   "source": [
    "model3 = matrixFactorisation(10, alternate=0)\n",
    "model3.fit(trainUsers, trainItems, trainCouples)"
   ]
  },
  {
   "cell_type": "code",
   "execution_count": 22,
   "metadata": {
    "collapsed": false
   },
   "outputs": [
    {
     "ename": "AttributeError",
     "evalue": "'module' object has no attribute 'dok_matrix'",
     "output_type": "error",
     "traceback": [
      "\u001b[0;31m---------------------------------------------------------------------------\u001b[0m",
      "\u001b[0;31mAttributeError\u001b[0m                            Traceback (most recent call last)",
      "\u001b[0;32m<ipython-input-22-734a04c46e62>\u001b[0m in \u001b[0;36m<module>\u001b[0;34m()\u001b[0m\n\u001b[1;32m      1\u001b[0m \u001b[0;34m\u001b[0m\u001b[0m\n\u001b[0;32m----> 2\u001b[0;31m \u001b[0mdm\u001b[0m \u001b[0;34m=\u001b[0m \u001b[0mnp\u001b[0m\u001b[0;34m.\u001b[0m\u001b[0mdok_matrix\u001b[0m\u001b[0;34m(\u001b[0m\u001b[0mtrain\u001b[0m\u001b[0;34m)\u001b[0m\u001b[0;34m\u001b[0m\u001b[0m\n\u001b[0m",
      "\u001b[0;31mAttributeError\u001b[0m: 'module' object has no attribute 'dok_matrix'"
     ]
    }
   ],
   "source": [
    "\n",
    "dm = np.dok_matrix(train)"
   ]
  },
  {
   "cell_type": "code",
   "execution_count": 22,
   "metadata": {
    "collapsed": false
   },
   "outputs": [
    {
     "name": "stdout",
     "output_type": "stream",
     "text": [
      "1664\n",
      "943\n"
     ]
    }
   ],
   "source": [
    "print(len(movies))\n",
    "print(len(data.keys()))"
   ]
  },
  {
   "cell_type": "code",
   "execution_count": 23,
   "metadata": {
    "collapsed": false
   },
   "outputs": [
    {
     "data": {
      "text/plain": [
       "'1060'"
      ]
     },
     "execution_count": 23,
     "metadata": {},
     "output_type": "execute_result"
    }
   ],
   "source": [
    "movies[\"Adventures of Pinocchio, The (1996)\"]"
   ]
  },
  {
   "cell_type": "code",
   "execution_count": 24,
   "metadata": {
    "collapsed": false
   },
   "outputs": [],
   "source": [
    "rawMatrix = np.zeros((len(data.keys())+1,1682+1))"
   ]
  },
  {
   "cell_type": "code",
   "execution_count": 25,
   "metadata": {
    "collapsed": false
   },
   "outputs": [
    {
     "data": {
      "text/plain": [
       "(944, 1683)"
      ]
     },
     "execution_count": 25,
     "metadata": {},
     "output_type": "execute_result"
    }
   ],
   "source": [
    "np.shape(rawMatrix)"
   ]
  },
  {
   "cell_type": "code",
   "execution_count": 49,
   "metadata": {
    "collapsed": false
   },
   "outputs": [
    {
     "data": {
      "text/plain": [
       "2.0"
      ]
     },
     "execution_count": 49,
     "metadata": {},
     "output_type": "execute_result"
    }
   ],
   "source": [
    "train[\"1\"][\"101 Dalmatians (1996)\"]"
   ]
  },
  {
   "cell_type": "code",
   "execution_count": 60,
   "metadata": {
    "collapsed": false
   },
   "outputs": [],
   "source": [
    "rawMatrixTrain = np.zeros((len(data.keys())+1,1682+1))\n",
    "for u in train:\n",
    "    for m in train[u]:\n",
    "        rawMatrixTrain[int(u)][int(movies[m])] = train[u][m]\n",
    "        \n",
    "rawMatrixTest = np.zeros((len(data.keys())+1,1682+1))\n",
    "for u in test:\n",
    "    for m in test[u]:\n",
    "        rawMatrixTest[int(u)][int(movies[m])] = test[u][m]"
   ]
  },
  {
   "cell_type": "code",
   "execution_count": 94,
   "metadata": {
    "collapsed": false
   },
   "outputs": [
    {
     "data": {
      "text/plain": [
       "array([[ 0.,  0.,  0.,  0.,  0.,  0.,  0.,  0.,  0.,  0.],\n",
       "       [ 0.,  5.,  3.,  0.,  3.,  3.,  0.,  4.,  1.,  5.],\n",
       "       [ 0.,  4.,  0.,  0.,  0.,  0.,  0.,  0.,  0.,  0.],\n",
       "       [ 0.,  0.,  0.,  0.,  0.,  0.,  0.,  0.,  0.,  0.],\n",
       "       [ 0.,  0.,  0.,  0.,  0.,  0.,  0.,  0.,  0.,  0.],\n",
       "       [ 0.,  4.,  3.,  0.,  0.,  0.,  0.,  0.,  0.,  0.],\n",
       "       [ 0.,  4.,  0.,  0.,  0.,  0.,  0.,  2.,  4.,  4.],\n",
       "       [ 0.,  0.,  0.,  0.,  5.,  0.,  0.,  5.,  5.,  0.],\n",
       "       [ 0.,  0.,  0.,  0.,  0.,  0.,  0.,  3.,  0.,  0.],\n",
       "       [ 0.,  0.,  0.,  0.,  0.,  0.,  0.,  4.,  0.,  0.]])"
      ]
     },
     "execution_count": 94,
     "metadata": {},
     "output_type": "execute_result"
    }
   ],
   "source": [
    "rawMatrixTrain[:10,:10]"
   ]
  },
  {
   "cell_type": "code",
   "execution_count": 95,
   "metadata": {
    "collapsed": false
   },
   "outputs": [
    {
     "data": {
      "text/plain": [
       "array([[ 0.,  0.,  0.,  0.,  0.,  0.,  0.,  0.,  0.,  0.],\n",
       "       [ 0.,  0.,  0.,  4.,  0.,  0.,  5.,  0.,  0.,  0.],\n",
       "       [ 0.,  0.,  0.,  0.,  0.,  0.,  0.,  0.,  0.,  0.],\n",
       "       [ 0.,  0.,  0.,  0.,  0.,  0.,  0.,  0.,  0.,  0.],\n",
       "       [ 0.,  0.,  0.,  0.,  0.,  0.,  0.,  0.,  0.,  0.],\n",
       "       [ 0.,  0.,  0.,  0.,  0.,  0.,  0.,  0.,  0.,  0.],\n",
       "       [ 0.,  0.,  0.,  0.,  0.,  0.,  0.,  0.,  0.,  0.],\n",
       "       [ 0.,  0.,  0.,  0.,  0.,  0.,  0.,  0.,  0.,  5.],\n",
       "       [ 0.,  0.,  0.,  0.,  0.,  0.,  0.,  0.,  0.,  0.],\n",
       "       [ 0.,  0.,  0.,  0.,  0.,  0.,  5.,  0.,  0.,  0.]])"
      ]
     },
     "execution_count": 95,
     "metadata": {},
     "output_type": "execute_result"
    }
   ],
   "source": [
    "rawMatrixTest[:10,:10]"
   ]
  },
  {
   "cell_type": "code",
   "execution_count": 70,
   "metadata": {
    "collapsed": false
   },
   "outputs": [],
   "source": [
    "import numpy as np\n",
    "from scipy import linalg\n",
    "from numpy import dot\n",
    "\n",
    "def nmf(X, latent_features, max_iter=100, error_limit=1e-6, fit_error_limit=1e-6):\n",
    "    \"\"\"\n",
    "    Decompose X to A*Y\n",
    "    \"\"\"\n",
    "    eps = 1e-5\n",
    "    print 'Starting NMF decomposition with {} latent features and {} iterations.'.format(latent_features, max_iter)\n",
    "    #X = X.toarray()  # I am passing in a scipy sparse matrix\n",
    "\n",
    "    # mask\n",
    "    mask = np.sign(X)\n",
    "\n",
    "    # initial matrices. A is random [0,1] and Y is A\\X.\n",
    "    rows, columns = X.shape\n",
    "    A = np.random.rand(rows, latent_features)\n",
    "    A = np.maximum(A, eps)\n",
    "\n",
    "    Y = linalg.lstsq(A, X)[0]\n",
    "    Y = np.maximum(Y, eps)\n",
    "\n",
    "    masked_X = mask * X\n",
    "    X_est_prev = dot(A, Y)\n",
    "    for i in range(1, max_iter + 1):\n",
    "        # updates\n",
    "        top = dot(masked_X, Y.T)\n",
    "        bottom = (dot((mask * dot(A, Y)), Y.T)) + eps\n",
    "        A *= top / bottom\n",
    "\n",
    "        A = np.maximum(A, eps)\n",
    "        # print 'A',  np.round(A, 2)\n",
    "\n",
    "        top = dot(A.T, masked_X)\n",
    "        bottom = dot(A.T, mask * dot(A, Y)) + eps\n",
    "        Y *= top / bottom\n",
    "        Y = np.maximum(Y, eps)\n",
    "        # print 'Y', np.round(Y, 2)\n",
    "\n",
    "\n",
    "        # evaluation\n",
    "        if i % 200 == 0 or i == 1 or i == max_iter:\n",
    "            print 'Iteration {}:'.format(i),\n",
    "            X_est = dot(A, Y)\n",
    "            err = mask * (X_est_prev - X_est)\n",
    "            fit_residual = np.sqrt(np.sum(err ** 2))\n",
    "            X_est_prev = X_est\n",
    "\n",
    "            curRes = linalg.norm(mask * (X - X_est), ord='fro')\n",
    "            print 'fit residual', np.round(fit_residual, 4),\n",
    "            print 'total residual', np.round(curRes, 4)\n",
    "            if curRes < error_limit or fit_residual < fit_error_limit:\n",
    "                break\n",
    "\n",
    "    return A, Y"
   ]
  },
  {
   "cell_type": "code",
   "execution_count": 48,
   "metadata": {
    "collapsed": true
   },
   "outputs": [
    {
     "name": "stdout",
     "output_type": "stream",
     "text": [
      "Starting NMF decomposition with 10 latent features and 3000 iterations.\n",
      "Iteration 1: fit residual 885.1435 total residual 337.7703\n",
      "Iteration 50: fit residual 204.1592 total residual 255.5271\n",
      "Iteration 100: fit residual 56.6847 total residual 245.3853\n",
      "Iteration 150: fit residual 34.2763 total residual 240.8283\n",
      "Iteration 200: fit residual 24.5723 total residual 238.1036\n",
      "Iteration 250: fit residual 19.7928 total residual 236.113\n",
      "Iteration 300: fit residual 17.4721 total residual 234.487\n",
      "Iteration 350: fit residual 15.7851 total residual 233.1154\n",
      "Iteration 400: fit residual 14.1723 total residual 231.9727\n",
      "Iteration 450: fit residual 12.5867 total residual 231.0262\n",
      "Iteration 500: fit residual 11.1998 total residual 230.2286\n",
      "Iteration 550: fit residual 10.363 total residual 229.5364\n",
      "Iteration 600: fit residual 9.5596 total residual 228.9475\n",
      "Iteration 650: fit residual 8.7722 total residual 228.4447\n",
      "Iteration 700: fit residual 8.1213 total residual 228.0198\n",
      "Iteration 750: fit residual 7.2986 total residual 227.6584\n",
      "Iteration 800: fit residual 6.7343 total residual 227.3385\n",
      "Iteration 850: fit residual 6.3486 total residual 227.0496\n",
      "Iteration 900: fit residual 6.0113 total residual 226.7894\n",
      "Iteration 950: fit residual 5.718 total residual 226.5551\n",
      "Iteration 1000: fit residual 5.235 total residual 226.3491\n",
      "Iteration 1050: fit residual 4.8395 total residual 226.1627\n",
      "Iteration 1100: fit residual 4.6427 total residual 225.9931\n",
      "Iteration 1150: fit residual 4.4107 total residual 225.8391\n",
      "Iteration 1200: fit residual 4.2537 total residual 225.6945\n",
      "Iteration 1250: fit residual 4.2209 total residual 225.5536\n",
      "Iteration 1300: fit residual 4.2335 total residual 225.4194\n",
      "Iteration 1350: fit residual 3.9898 total residual 225.2981\n",
      "Iteration 1400: fit residual 3.6978 total residual 225.19\n",
      "Iteration 1450: fit residual 3.4477 total residual 225.0916\n",
      "Iteration 1500: fit residual 3.3027 total residual 224.9997\n",
      "Iteration 1550: fit residual 3.2239 total residual 224.9135\n",
      "Iteration 1600: fit residual 3.1028 total residual 224.8337\n",
      "Iteration 1650: fit residual 3.0065 total residual 224.7591\n",
      "Iteration 1700: fit residual 2.8953 total residual 224.6892\n",
      "Iteration 1750: fit residual 2.7971 total residual 224.622\n",
      "Iteration 1800: fit residual 2.7717 total residual 224.5572\n",
      "Iteration 1850: fit residual 2.7339 total residual 224.4959\n",
      "Iteration 1900: fit residual 2.6775 total residual 224.4382\n",
      "Iteration 1950: fit residual 2.5814 total residual 224.3841\n",
      "Iteration 2000: fit residual 2.4775 total residual 224.3326\n",
      "Iteration 2050: fit residual 2.4111 total residual 224.2829\n",
      "Iteration 2100: fit residual 2.3523 total residual 224.2353\n",
      "Iteration 2150: fit residual 2.2929 total residual 224.1901\n",
      "Iteration 2200: fit residual 2.227 total residual 224.147\n",
      "Iteration 2250: fit residual 2.202 total residual 224.1049\n",
      "Iteration 2300: fit residual 2.2743 total residual 224.0632\n",
      "Iteration 2350: fit residual 2.2207 total residual 224.0239\n",
      "Iteration 2400: fit residual 2.1651 total residual 223.9864\n",
      "Iteration 2450: fit residual 2.128 total residual 223.9498\n",
      "Iteration 2500: fit residual 2.1173 total residual 223.914\n",
      "Iteration 2550: fit residual 2.0812 total residual 223.8796\n",
      "Iteration 2600: fit residual 2.015 total residual 223.8464\n",
      "Iteration 2650: fit residual 1.9711 total residual 223.8141\n",
      "Iteration 2700: fit residual 1.9611 total residual 223.7822\n",
      "Iteration 2750: fit residual 1.9786 total residual 223.7506\n",
      "Iteration 2800: fit residual 2.0123 total residual 223.7189\n",
      "Iteration 2850: fit residual 1.9987 total residual 223.688\n",
      "Iteration 2900: fit residual 1.9407 total residual 223.6588\n",
      "Iteration 2950: fit residual 1.9115 total residual 223.6304\n",
      "Iteration 3000: fit residual 1.924 total residual 223.6014\n",
      "CPU times: user 2min 41s, sys: 27.4 s, total: 3min 8s\n",
      "Wall time: 1min 48s\n"
     ]
    }
   ],
   "source": [
    "%%time\n",
    "A,Y = nmf(rawMatrix,10,max_iter=3000)"
   ]
  },
  {
   "cell_type": "code",
   "execution_count": 51,
   "metadata": {
    "collapsed": false
   },
   "outputs": [],
   "source": [
    "resMatrix = A.dot(Y)"
   ]
  },
  {
   "cell_type": "code",
   "execution_count": 52,
   "metadata": {
    "collapsed": true
   },
   "outputs": [],
   "source": [
    "class evalMF:\n",
    "    def __init__(self,resMatrix,dicU,dicI):\n",
    "        self.resMatrix=resMatrix\n",
    "        self.dicU = dicU\n",
    "        self.dicI = dicI\n",
    "    def fit(self):\n",
    "        pass\n",
    "        \n",
    "    def predict(self,user,movie):\n",
    "        return self.resMatrix[int(user)][int(self.dicI[movie])]"
   ]
  },
  {
   "cell_type": "code",
   "execution_count": 53,
   "metadata": {
    "collapsed": false
   },
   "outputs": [],
   "source": [
    "mf= evalMF(resMatrix,data,movies)"
   ]
  },
  {
   "cell_type": "code",
   "execution_count": 63,
   "metadata": {
    "collapsed": false
   },
   "outputs": [
    {
     "name": "stdout",
     "output_type": "stream",
     "text": [
      "4.0\n",
      "4.23482816881\n",
      "1.0\n",
      "0.870783223851\n"
     ]
    }
   ],
   "source": [
    "print data[\"1\"][\"Akira (1988)\"]\n",
    "print mf.predict(\"1\",\"Akira (1988)\")\n",
    "print data[\"1\"][\"All Dogs Go to Heaven 2 (1996)\"]\n",
    "print mf.predict(\"1\",\"All Dogs Go to Heaven 2 (1996)\")"
   ]
  },
  {
   "cell_type": "code",
   "execution_count": 57,
   "metadata": {
    "collapsed": false
   },
   "outputs": [
    {
     "data": {
      "text/plain": [
       "0.4997147008549655"
      ]
     },
     "execution_count": 57,
     "metadata": {},
     "output_type": "execute_result"
    }
   ],
   "source": [
    "np.array([ (float(ra[2]) - mf.predict(ra[0],ra[1]))**2 for ra in rawArrayTest]).mean()"
   ]
  },
  {
   "cell_type": "markdown",
   "metadata": {},
   "source": [
    "---"
   ]
  },
  {
   "cell_type": "code",
   "execution_count": 103,
   "metadata": {
    "collapsed": false
   },
   "outputs": [
    {
     "name": "stdout",
     "output_type": "stream",
     "text": [
      "Starting NMF decomposition with 10 latent features and 20000 iterations.\n",
      "Iteration 1: fit residual 821.7585 total residual 302.0927\n",
      "Iteration 200: fit residual 218.2761 total residual 207.5574\n",
      "Iteration 400: fit residual 55.03 total residual 201.4519\n",
      "Iteration 600: fit residual 36.5854 total residual 198.4695\n",
      "Iteration 800: fit residual 26.9387 total residual 196.7784\n",
      "Iteration 1000: fit residual 21.6536 total residual 195.6466\n",
      "Iteration 1200: fit residual 18.3748 total residual 194.7899\n",
      "Iteration 1400: fit residual 17.0504 total residual 194.1177\n",
      "Iteration 1600: fit residual 14.381 total residual 193.6263\n",
      "Iteration 1800: fit residual 12.7168 total residual 193.2254\n",
      "Iteration 2000: fit residual 11.4123 total residual 192.8928\n",
      "Iteration 2200: fit residual 10.4855 total residual 192.6108\n",
      "Iteration 2400: fit residual 10.1221 total residual 192.3644\n",
      "Iteration 2600: fit residual 9.2193 total residual 192.1544\n",
      "Iteration 2800: fit residual 8.0279 total residual 191.9825\n",
      "Iteration 3000: fit residual 6.8634 total residual 191.8517\n",
      "Iteration 3200: fit residual 6.1512 total residual 191.7389\n",
      "Iteration 3400: fit residual 5.9372 total residual 191.6342\n",
      "Iteration 3600: fit residual 5.5169 total residual 191.5484\n",
      "Iteration 3800: fit residual 5.2434 total residual 191.4743\n",
      "Iteration 4000: fit residual 4.8613 total residual 191.4111\n",
      "Iteration 4200: fit residual 4.5086 total residual 191.3542\n",
      "Iteration 4400: fit residual 4.355 total residual 191.2999\n",
      "Iteration 4600: fit residual 4.3522 total residual 191.2456\n",
      "Iteration 4800: fit residual 4.3116 total residual 191.1924\n",
      "Iteration 5000: fit residual 4.5801 total residual 191.1373\n",
      "Iteration 5200: fit residual 4.6537 total residual 191.0863\n",
      "Iteration 5400: fit residual 4.0721 total residual 191.0431\n",
      "Iteration 5600: fit residual 3.8989 total residual 191.0006\n",
      "Iteration 5800: fit residual 3.7551 total residual 190.9606\n",
      "Iteration 6000: fit residual 3.5223 total residual 190.9266\n",
      "Iteration 6200: fit residual 3.1562 total residual 190.8975\n",
      "Iteration 6400: fit residual 2.9229 total residual 190.8694\n",
      "Iteration 6600: fit residual 2.9364 total residual 190.8424\n",
      "Iteration 6800: fit residual 2.9065 total residual 190.818\n",
      "Iteration 7000: fit residual 2.8292 total residual 190.795\n",
      "Iteration 7200: fit residual 2.6069 total residual 190.7754\n",
      "Iteration 7400: fit residual 2.4198 total residual 190.7565\n",
      "Iteration 7600: fit residual 2.4489 total residual 190.7364\n",
      "Iteration 7800: fit residual 2.532 total residual 190.7148\n",
      "Iteration 8000: fit residual 2.6455 total residual 190.6936\n",
      "Iteration 8200: fit residual 2.6761 total residual 190.6733\n",
      "Iteration 8400: fit residual 2.7038 total residual 190.6522\n",
      "Iteration 8600: fit residual 2.7831 total residual 190.6297\n",
      "Iteration 8800: fit residual 2.8133 total residual 190.6086\n",
      "Iteration 9000: fit residual 2.741 total residual 190.5871\n",
      "Iteration 9200: fit residual 2.7148 total residual 190.5665\n",
      "Iteration 9400: fit residual 2.7046 total residual 190.5463\n",
      "Iteration 9600: fit residual 2.7839 total residual 190.5248\n",
      "Iteration 9800: fit residual 2.8281 total residual 190.5044\n",
      "Iteration 10000: fit residual 2.6497 total residual 190.486\n",
      "Iteration 10200: fit residual 2.6674 total residual 190.4675\n",
      "Iteration 10400: fit residual 2.641 total residual 190.4497\n",
      "Iteration 10600: fit residual 2.5978 total residual 190.4316\n",
      "Iteration 10800: fit residual 2.6082 total residual 190.4131\n",
      "Iteration 11000: fit residual 2.4773 total residual 190.3932\n",
      "Iteration 11200: fit residual 2.5888 total residual 190.3742\n",
      "Iteration 11400: fit residual 2.3242 total residual 190.359\n",
      "Iteration 11600: fit residual 2.0768 total residual 190.3468\n",
      "Iteration 11800: fit residual 1.9236 total residual 190.3353\n",
      "Iteration 12000: fit residual 1.903 total residual 190.323\n",
      "Iteration 12200: fit residual 1.917 total residual 190.3102\n",
      "Iteration 12400: fit residual 1.8584 total residual 190.2984\n",
      "Iteration 12600: fit residual 1.9485 total residual 190.2873\n",
      "Iteration 12800: fit residual 1.7881 total residual 190.2781\n",
      "Iteration 13000: fit residual 1.686 total residual 190.269\n",
      "Iteration 13200: fit residual 1.7738 total residual 190.2581\n",
      "Iteration 13400: fit residual 1.9889 total residual 190.2455\n",
      "Iteration 13600: fit residual 2.1553 total residual 190.2322\n",
      "Iteration 13800: fit residual 1.977 total residual 190.2205\n",
      "Iteration 14000: fit residual 1.7884 total residual 190.2104\n",
      "Iteration 14200: fit residual 2.0122 total residual 190.1976\n",
      "Iteration 14400: fit residual 1.6931 total residual 190.1877\n",
      "Iteration 14600: fit residual 1.6424 total residual 190.1785\n",
      "Iteration 14800: fit residual 1.6088 total residual 190.1687\n",
      "Iteration 15000: fit residual 1.7926 total residual 190.1567\n",
      "Iteration 15200: fit residual 1.7338 total residual 190.1464\n",
      "Iteration 15400: fit residual 1.4984 total residual 190.138\n",
      "Iteration 15600: fit residual 1.4065 total residual 190.1308\n",
      "Iteration 15800: fit residual 1.3102 total residual 190.1245\n",
      "Iteration 16000: fit residual 1.285 total residual 190.1184\n",
      "Iteration 16200: fit residual 1.1488 total residual 190.1137\n",
      "Iteration 16400: fit residual 1.0166 total residual 190.1095\n",
      "Iteration 16600: fit residual 0.9902 total residual 190.1053\n",
      "Iteration 16800: fit residual 0.9912 total residual 190.1013\n",
      "Iteration 17000: fit residual 0.9519 total residual 190.0975\n",
      "Iteration 17200: fit residual 0.9412 total residual 190.0938\n",
      "Iteration 17400: fit residual 0.9459 total residual 190.0903\n",
      "Iteration 17600: fit residual 0.9154 total residual 190.0871\n",
      "Iteration 17800: fit residual 0.8847 total residual 190.0842\n",
      "Iteration 18000: fit residual 0.8721 total residual 190.0815\n",
      "Iteration 18200: fit residual 0.9329 total residual 190.0785\n",
      "Iteration 18400: fit residual 1.0322 total residual 190.0754\n",
      "Iteration 18600: fit residual 0.9563 total residual 190.0725\n",
      "Iteration 18800: fit residual 0.9132 total residual 190.0696\n",
      "Iteration 19000: fit residual 0.9035 total residual 190.0667\n",
      "Iteration 19200: fit residual 0.8518 total residual 190.064\n",
      "Iteration 19400: fit residual 0.8021 total residual 190.0613\n",
      "Iteration 19600: fit residual 0.7793 total residual 190.0587\n",
      "Iteration 19800: fit residual 0.8268 total residual 190.0561\n",
      "Iteration 20000: fit residual 0.8874 total residual 190.0535\n",
      "CPU times: user 19min 1s, sys: 3min 6s, total: 22min 8s\n",
      "Wall time: 12min 28s\n"
     ]
    }
   ],
   "source": [
    "%%time\n",
    "A,Y = nmf(rawMatrixTrain,10,max_iter=20000)"
   ]
  },
  {
   "cell_type": "code",
   "execution_count": 72,
   "metadata": {
    "collapsed": true
   },
   "outputs": [],
   "source": [
    "resMatrix = A.dot(Y)"
   ]
  },
  {
   "cell_type": "code",
   "execution_count": 73,
   "metadata": {
    "collapsed": true
   },
   "outputs": [],
   "source": [
    "mf = evalMF(resMatrix,data,movies)"
   ]
  },
  {
   "cell_type": "code",
   "execution_count": 74,
   "metadata": {
    "collapsed": false
   },
   "outputs": [
    {
     "name": "stdout",
     "output_type": "stream",
     "text": [
      "4.0\n",
      "4.35915853946\n",
      "1.0\n",
      "2.26106323245\n"
     ]
    }
   ],
   "source": [
    "print data[\"1\"][\"Akira (1988)\"]\n",
    "print mf.predict(\"1\",\"Akira (1988)\")\n",
    "print data[\"1\"][\"All Dogs Go to Heaven 2 (1996)\"]\n",
    "print mf.predict(\"1\",\"All Dogs Go to Heaven 2 (1996)\")"
   ]
  },
  {
   "cell_type": "code",
   "execution_count": 79,
   "metadata": {
    "collapsed": false
   },
   "outputs": [
    {
     "ename": "KeyError",
     "evalue": "'All Dogs Go to Heaven 2 (1996)'",
     "output_type": "error",
     "traceback": [
      "\u001b[0;31m---------------------------------------------------------------------------\u001b[0m",
      "\u001b[0;31mKeyError\u001b[0m                                  Traceback (most recent call last)",
      "\u001b[0;32m<ipython-input-79-ccddd715027a>\u001b[0m in \u001b[0;36m<module>\u001b[0;34m()\u001b[0m\n\u001b[0;32m----> 1\u001b[0;31m \u001b[0;32mprint\u001b[0m \u001b[0mtrain\u001b[0m\u001b[0;34m[\u001b[0m\u001b[0;34m\"1\"\u001b[0m\u001b[0;34m]\u001b[0m\u001b[0;34m[\u001b[0m\u001b[0;34m\"All Dogs Go to Heaven 2 (1996)\"\u001b[0m\u001b[0;34m]\u001b[0m\u001b[0;34m\u001b[0m\u001b[0m\n\u001b[0m\u001b[1;32m      2\u001b[0m \u001b[0;32mprint\u001b[0m \u001b[0mtest\u001b[0m\u001b[0;34m[\u001b[0m\u001b[0;34m\"1\"\u001b[0m\u001b[0;34m]\u001b[0m\u001b[0;34m[\u001b[0m\u001b[0;34m\"Akira (1988)\"\u001b[0m\u001b[0;34m]\u001b[0m\u001b[0;34m\u001b[0m\u001b[0m\n",
      "\u001b[0;31mKeyError\u001b[0m: 'All Dogs Go to Heaven 2 (1996)'"
     ]
    }
   ],
   "source": [
    "print train[\"1\"][\"All Dogs Go to Heaven 2 (1996)\"]\n",
    "print test[\"1\"][\"Akira (1988)\"]"
   ]
  },
  {
   "cell_type": "code",
   "execution_count": 90,
   "metadata": {
    "collapsed": false
   },
   "outputs": [
    {
     "data": {
      "text/plain": [
       "array([ 0.,  0.,  0., ...,  0.,  0.,  0.])"
      ]
     },
     "execution_count": 90,
     "metadata": {},
     "output_type": "execute_result"
    }
   ],
   "source": [
    "rawMatrixTest[10]"
   ]
  },
  {
   "cell_type": "code",
   "execution_count": 100,
   "metadata": {
    "collapsed": false
   },
   "outputs": [
    {
     "name": "stdout",
     "output_type": "stream",
     "text": [
      "(4.0, 2.6172255747737543)\n",
      "(5.0, 7.7259399575571628)\n",
      "(3.0, 3.6963934922880397)\n"
     ]
    },
    {
     "data": {
      "text/plain": [
       "1.2283814445122001"
      ]
     },
     "execution_count": 100,
     "metadata": {},
     "output_type": "execute_result"
    }
   ],
   "source": [
    "t = []\n",
    "c = 3\n",
    "for idxi,i in enumerate(rawMatrixTest):\n",
    "    for idxj,j in enumerate(i):\n",
    "        if rawMatrixTest[idxi][idxj] != 0:\n",
    "            t.append( (float(rawMatrixTest[idxi][idxj]) - resMatrix[idxi][idxj])**2 )\n",
    "            if c>0:\n",
    "                print(rawMatrixTest[idxi][idxj],resMatrix[idxi][idxj])\n",
    "                c-=1\n",
    "np.array(t).mean()"
   ]
  },
  {
   "cell_type": "code",
   "execution_count": 102,
   "metadata": {
    "collapsed": false
   },
   "outputs": [
    {
     "name": "stdout",
     "output_type": "stream",
     "text": [
      "(5.0, 4.3471911340067138)\n",
      "(3.0, 3.3062055502394494)\n",
      "(3.0, 4.1191323797035553)\n"
     ]
    },
    {
     "data": {
      "text/plain": [
       "0.4595040723129673"
      ]
     },
     "execution_count": 102,
     "metadata": {},
     "output_type": "execute_result"
    }
   ],
   "source": [
    "t = []\n",
    "c = 3\n",
    "for idxi,i in enumerate(rawMatrixTrain):\n",
    "    for idxj,j in enumerate(i):\n",
    "        if rawMatrixTrain[idxi][idxj] != 0:\n",
    "            t.append( (float(rawMatrixTrain[idxi][idxj]) - resMatrix[idxi][idxj])**2 )\n",
    "            if c>0:\n",
    "                print(rawMatrixTrain[idxi][idxj],resMatrix[idxi][idxj])\n",
    "                c-=1\n",
    "np.array(t).mean()"
   ]
  },
  {
   "cell_type": "code",
   "execution_count": 80,
   "metadata": {
    "collapsed": false
   },
   "outputs": [
    {
     "ename": "KeyError",
     "evalue": "0.0",
     "output_type": "error",
     "traceback": [
      "\u001b[0;31m---------------------------------------------------------------------------\u001b[0m",
      "\u001b[0;31mKeyError\u001b[0m                                  Traceback (most recent call last)",
      "\u001b[0;32m<ipython-input-80-0241c027db0a>\u001b[0m in \u001b[0;36m<module>\u001b[0;34m()\u001b[0m\n\u001b[0;32m----> 1\u001b[0;31m \u001b[0mnp\u001b[0m\u001b[0;34m.\u001b[0m\u001b[0marray\u001b[0m\u001b[0;34m(\u001b[0m\u001b[0;34m[\u001b[0m \u001b[0;34m(\u001b[0m\u001b[0mfloat\u001b[0m\u001b[0;34m(\u001b[0m\u001b[0mra\u001b[0m\u001b[0;34m[\u001b[0m\u001b[0;36m2\u001b[0m\u001b[0;34m]\u001b[0m\u001b[0;34m)\u001b[0m \u001b[0;34m-\u001b[0m \u001b[0mmf\u001b[0m\u001b[0;34m.\u001b[0m\u001b[0mpredict\u001b[0m\u001b[0;34m(\u001b[0m\u001b[0mra\u001b[0m\u001b[0;34m[\u001b[0m\u001b[0;36m0\u001b[0m\u001b[0;34m]\u001b[0m\u001b[0;34m,\u001b[0m\u001b[0mra\u001b[0m\u001b[0;34m[\u001b[0m\u001b[0;36m1\u001b[0m\u001b[0;34m]\u001b[0m\u001b[0;34m)\u001b[0m\u001b[0;34m)\u001b[0m\u001b[0;34m**\u001b[0m\u001b[0;36m2\u001b[0m \u001b[0;32mfor\u001b[0m \u001b[0mra\u001b[0m \u001b[0;32min\u001b[0m \u001b[0mrawMatrixTest\u001b[0m\u001b[0;34m]\u001b[0m\u001b[0;34m)\u001b[0m\u001b[0;34m.\u001b[0m\u001b[0mmean\u001b[0m\u001b[0;34m(\u001b[0m\u001b[0;34m)\u001b[0m\u001b[0;34m\u001b[0m\u001b[0m\n\u001b[0m",
      "\u001b[0;32m<ipython-input-52-9fb67320d8a3>\u001b[0m in \u001b[0;36mpredict\u001b[0;34m(self, user, movie)\u001b[0m\n\u001b[1;32m      8\u001b[0m \u001b[0;34m\u001b[0m\u001b[0m\n\u001b[1;32m      9\u001b[0m     \u001b[0;32mdef\u001b[0m \u001b[0mpredict\u001b[0m\u001b[0;34m(\u001b[0m\u001b[0mself\u001b[0m\u001b[0;34m,\u001b[0m\u001b[0muser\u001b[0m\u001b[0;34m,\u001b[0m\u001b[0mmovie\u001b[0m\u001b[0;34m)\u001b[0m\u001b[0;34m:\u001b[0m\u001b[0;34m\u001b[0m\u001b[0m\n\u001b[0;32m---> 10\u001b[0;31m         \u001b[0;32mreturn\u001b[0m \u001b[0mself\u001b[0m\u001b[0;34m.\u001b[0m\u001b[0mresMatrix\u001b[0m\u001b[0;34m[\u001b[0m\u001b[0mint\u001b[0m\u001b[0;34m(\u001b[0m\u001b[0muser\u001b[0m\u001b[0;34m)\u001b[0m\u001b[0;34m]\u001b[0m\u001b[0;34m[\u001b[0m\u001b[0mint\u001b[0m\u001b[0;34m(\u001b[0m\u001b[0mself\u001b[0m\u001b[0;34m.\u001b[0m\u001b[0mdicI\u001b[0m\u001b[0;34m[\u001b[0m\u001b[0mmovie\u001b[0m\u001b[0;34m]\u001b[0m\u001b[0;34m)\u001b[0m\u001b[0;34m]\u001b[0m\u001b[0;34m\u001b[0m\u001b[0m\n\u001b[0m",
      "\u001b[0;31mKeyError\u001b[0m: 0.0"
     ]
    }
   ],
   "source": [
    "np.array([ (float(ra[2]) - mf.predict(ra[0],ra[1]))**2 for ra in rawMatrixTest]).mean()"
   ]
  },
  {
   "cell_type": "markdown",
   "metadata": {},
   "source": [
    "---"
   ]
  },
  {
   "cell_type": "code",
   "execution_count": 124,
   "metadata": {
    "collapsed": true
   },
   "outputs": [],
   "source": [
    "R = [\n",
    "     [5,3,0,1],\n",
    "     [4,0,0,1],\n",
    "     [1,1,0,5],\n",
    "     [1,0,0,4],\n",
    "     [0,1,5,4],\n",
    "    ]\n",
    "\n",
    "R = numpy.array(R)\n",
    "\n",
    "N = len(R)\n",
    "M = len(R[0])\n",
    "K = 2\n",
    "\n",
    "P = numpy.random.rand(N,K)\n",
    "Q = numpy.random.rand(M,K)\n",
    "\n",
    "nP, nQ = matrix_factorization(R, P, Q, K)\n",
    "nR = numpy.dot(nP, nQ.T)"
   ]
  },
  {
   "cell_type": "code",
   "execution_count": 125,
   "metadata": {
    "collapsed": false
   },
   "outputs": [
    {
     "data": {
      "text/plain": [
       "array([[ 4.99650255,  2.93418578,  3.99234219,  0.99820419],\n",
       "       [ 3.96298764,  2.33573468,  3.36035393,  0.99707133],\n",
       "       [ 1.0716961 ,  0.82538354,  5.337668  ,  4.96193011],\n",
       "       [ 0.9633362 ,  0.72181627,  4.33820223,  3.97311633],\n",
       "       [ 1.81106643,  1.21517699,  4.91344271,  4.03428495]])"
      ]
     },
     "execution_count": 125,
     "metadata": {},
     "output_type": "execute_result"
    }
   ],
   "source": [
    "nR"
   ]
  },
  {
   "cell_type": "markdown",
   "metadata": {},
   "source": [
    "---"
   ]
  },
  {
   "cell_type": "code",
   "execution_count": 41,
   "metadata": {
    "collapsed": true
   },
   "outputs": [],
   "source": [
    "import numpy\n",
    "\n",
    "def matrix_factorization(R, K, steps=100, alpha=0.0002, beta=0.02):\n",
    "    N = len(R)\n",
    "    M = len(R[0])\n",
    "\n",
    "    P = numpy.random.rand(N,K)\n",
    "    Q = numpy.random.rand(M,K)\n",
    "    Q = Q.T\n",
    "    for step in xrange(steps):\n",
    "        for i in xrange(len(R)):\n",
    "            for j in xrange(len(R[i])):\n",
    "                if R[i][j] > 0:\n",
    "                    eij = R[i][j] - numpy.dot(P[i,:],Q[:,j])\n",
    "                    for k in xrange(K):\n",
    "                        P[i][k] = P[i][k] + alpha * (2 * eij * Q[k][j] - beta * P[i][k])\n",
    "                        Q[k][j] = Q[k][j] + alpha * (2 * eij * P[i][k] - beta * Q[k][j])\n",
    "        eR = numpy.dot(P,Q)\n",
    "        e = 0\n",
    "        for i in xrange(len(R)):\n",
    "            for j in xrange(len(R[i])):\n",
    "                if R[i][j] > 0:\n",
    "                    e = e + pow(R[i][j] - numpy.dot(P[i,:],Q[:,j]), 2)\n",
    "                    for k in xrange(K):\n",
    "                        e = e + (beta/2) * (pow(P[i][k],2) + pow(Q[k][j],2))\n",
    "        if e < 0.001:\n",
    "            break\n",
    "    return P, Q.T"
   ]
  },
  {
   "cell_type": "code",
   "execution_count": 43,
   "metadata": {
    "collapsed": false
   },
   "outputs": [
    {
     "name": "stdout",
     "output_type": "stream",
     "text": [
      "CPU times: user 34.9 s, sys: 229 ms, total: 35.1 s\n",
      "Wall time: 35.3 s\n"
     ]
    }
   ],
   "source": [
    "%%time\n",
    "\n",
    "R = rawMatrix\n",
    "\n",
    "nP, nQ = matrix_factorization(R, 10, steps=2)\n",
    "nR = numpy.dot(nP, nQ.T)"
   ]
  },
  {
   "cell_type": "code",
   "execution_count": 44,
   "metadata": {
    "collapsed": false
   },
   "outputs": [
    {
     "data": {
      "text/plain": [
       "array([[ 2.44278256,  2.87154427,  1.80549856,  2.37639505,  2.57721859],\n",
       "       [ 2.58347667,  3.63952216,  1.88785598,  2.42137971,  3.78439782],\n",
       "       [ 3.00074652,  3.17910098,  2.18194343,  3.32871375,  3.48184956],\n",
       "       [ 3.98021546,  4.53548673,  2.88747289,  3.50115542,  3.84920728],\n",
       "       [ 3.26661088,  4.4907536 ,  2.7049045 ,  3.2442335 ,  4.14210547]])"
      ]
     },
     "execution_count": 44,
     "metadata": {},
     "output_type": "execute_result"
    }
   ],
   "source": [
    "nR[:5,:5]"
   ]
  },
  {
   "cell_type": "code",
   "execution_count": 45,
   "metadata": {
    "collapsed": false
   },
   "outputs": [
    {
     "data": {
      "text/plain": [
       "array([[ 0.,  0.,  0.,  0.,  0.],\n",
       "       [ 0.,  5.,  3.,  4.,  3.],\n",
       "       [ 0.,  4.,  0.,  0.,  0.],\n",
       "       [ 0.,  0.,  0.,  0.,  0.],\n",
       "       [ 0.,  0.,  0.,  0.,  0.]])"
      ]
     },
     "execution_count": 45,
     "metadata": {},
     "output_type": "execute_result"
    }
   ],
   "source": [
    "rawMatrix[:5,:5]"
   ]
  },
  {
   "cell_type": "code",
   "execution_count": 46,
   "metadata": {
    "collapsed": false
   },
   "outputs": [
    {
     "data": {
      "text/plain": [
       "2.7812982370145853"
      ]
     },
     "execution_count": 46,
     "metadata": {},
     "output_type": "execute_result"
    }
   ],
   "source": [
    "mf= evalMF(nR,data,movies)\n",
    "mf.predict(\"1\",\"Akira (1988)\")"
   ]
  },
  {
   "cell_type": "code",
   "execution_count": 47,
   "metadata": {
    "collapsed": false
   },
   "outputs": [
    {
     "data": {
      "text/plain": [
       "1.5532842864204328"
      ]
     },
     "execution_count": 47,
     "metadata": {},
     "output_type": "execute_result"
    }
   ],
   "source": [
    "np.array([ (float(ra[2]) - mf.predict(ra[0],ra[1]))**2 for ra in rawArrayTest]).mean()"
   ]
  },
  {
   "cell_type": "code",
   "execution_count": null,
   "metadata": {
    "collapsed": true
   },
   "outputs": [],
   "source": []
  }
 ],
 "metadata": {
  "kernelspec": {
   "display_name": "Python 2",
   "language": "python",
   "name": "python2"
  },
  "language_info": {
   "codemirror_mode": {
    "name": "ipython",
    "version": 2
   },
   "file_extension": ".py",
   "mimetype": "text/x-python",
   "name": "python",
   "nbconvert_exporter": "python",
   "pygments_lexer": "ipython2",
   "version": "2.7.10"
  }
 },
 "nbformat": 4,
 "nbformat_minor": 0
}
