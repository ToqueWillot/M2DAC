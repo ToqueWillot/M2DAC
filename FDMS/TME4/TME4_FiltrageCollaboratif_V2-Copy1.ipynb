{
 "cells": [
  {
   "cell_type": "code",
   "execution_count": 1,
   "metadata": {
    "collapsed": true
   },
   "outputs": [],
   "source": [
    "from random import random\n",
    "import math\n",
    "import numpy as np\n",
    "import copy"
   ]
  },
  {
   "cell_type": "code",
   "execution_count": 2,
   "metadata": {
    "collapsed": false
   },
   "outputs": [],
   "source": [
    "def loadMovieLens(path='./data/movielens'):\n",
    "    #Get movie titles\n",
    "    movies={}\n",
    "    rev_movies={}\n",
    "    for idx,line in enumerate(open(path+'/u.item')):\n",
    "        idx,title=line.split('|')[0:2]\n",
    "        movies[idx]=title\n",
    "        rev_movies[title]=idx\n",
    "\n",
    "    # Load data\n",
    "    prefs={}\n",
    "    for line in open(path+'/u.data'):\n",
    "        (user,movieid,rating,ts)=line.split('\\t')\n",
    "        prefs.setdefault(user,{})\n",
    "        prefs[user][movies[movieid]]=float(rating)\n",
    "        \n",
    "    return prefs,rev_movies"
   ]
  },
  {
   "cell_type": "code",
   "execution_count": 3,
   "metadata": {
    "collapsed": false
   },
   "outputs": [],
   "source": [
    "data,movies = loadMovieLens(\"data/ml-100k\")"
   ]
  },
  {
   "cell_type": "code",
   "execution_count": 4,
   "metadata": {
    "collapsed": false
   },
   "outputs": [
    {
     "data": {
      "text/plain": [
       "{'187 (1997)': 2.0,\n",
       " 'Air Force One (1997)': 2.0,\n",
       " 'Alien: Resurrection (1997)': 3.0,\n",
       " 'Apostle, The (1997)': 4.0,\n",
       " 'Bean (1997)': 2.0,\n",
       " 'Boogie Nights (1997)': 5.0,\n",
       " 'Chasing Amy (1997)': 3.0,\n",
       " 'Conspiracy Theory (1997)': 5.0,\n",
       " 'Contact (1997)': 2.0,\n",
       " 'Cop Land (1997)': 4.0,\n",
       " 'Crash (1996)': 1.0,\n",
       " 'Critical Care (1997)': 1.0,\n",
       " \"Dante's Peak (1997)\": 2.0,\n",
       " 'Deconstructing Harry (1997)': 3.0,\n",
       " 'Deep Rising (1998)': 1.0,\n",
       " 'Desperate Measures (1998)': 4.0,\n",
       " \"Devil's Advocate, The (1997)\": 3.0,\n",
       " \"Devil's Own, The (1997)\": 1.0,\n",
       " 'Edge, The (1997)': 4.0,\n",
       " 'Event Horizon (1997)': 4.0,\n",
       " 'Everyone Says I Love You (1996)': 2.0,\n",
       " 'Fallen (1998)': 3.0,\n",
       " 'G.I. Jane (1997)': 2.0,\n",
       " 'Game, The (1997)': 2.0,\n",
       " 'Good Will Hunting (1997)': 2.0,\n",
       " 'Hard Rain (1998)': 3.0,\n",
       " 'Hoodlum (1997)': 3.0,\n",
       " 'House of Yes, The (1997)': 1.0,\n",
       " 'How to Be a Player (1997)': 1.0,\n",
       " 'In the Name of the Father (1993)': 2.0,\n",
       " 'Jackie Brown (1997)': 5.0,\n",
       " 'Kiss the Girls (1997)': 1.0,\n",
       " 'L.A. Confidential (1997)': 2.0,\n",
       " 'Liar Liar (1997)': 2.0,\n",
       " 'Lost Highway (1997)': 2.0,\n",
       " 'Mad City (1997)': 3.0,\n",
       " 'Man Who Knew Too Little, The (1997)': 4.0,\n",
       " 'Mimic (1997)': 2.0,\n",
       " 'Mother (1996)': 5.0,\n",
       " 'Murder at 1600 (1997)': 3.0,\n",
       " 'Paradise Lost: The Child Murders at Robin Hood Hills (1996)': 5.0,\n",
       " 'Playing God (1997)': 1.0,\n",
       " 'Prophecy II, The (1998)': 3.0,\n",
       " 'Return of the Jedi (1983)': 4.0,\n",
       " \"Schindler's List (1993)\": 4.0,\n",
       " 'Scream (1996)': 2.0,\n",
       " 'Sphere (1998)': 3.0,\n",
       " 'Spice World (1997)': 2.0,\n",
       " 'Starship Troopers (1997)': 3.0,\n",
       " 'U Turn (1997)': 3.0,\n",
       " \"Ulee's Gold (1997)\": 3.0,\n",
       " 'Wag the Dog (1997)': 5.0,\n",
       " 'Wedding Singer, The (1998)': 3.0}"
      ]
     },
     "execution_count": 4,
     "metadata": {},
     "output_type": "execute_result"
    }
   ],
   "source": [
    "data['3']"
   ]
  },
  {
   "cell_type": "code",
   "execution_count": 5,
   "metadata": {
    "collapsed": true
   },
   "outputs": [],
   "source": [
    "def getRawArray(data):\n",
    "    d = []\n",
    "    for u in data.keys():\n",
    "        for i in data[u].keys():\n",
    "            d.append([u,i,data[u][i]])\n",
    "    return np.array(d)"
   ]
  },
  {
   "cell_type": "code",
   "execution_count": 6,
   "metadata": {
    "collapsed": true
   },
   "outputs": [],
   "source": [
    "# splitting while avoiding to reduce the dataset too much\n",
    "def split_train_test(data,percent_test):\n",
    "    test={}\n",
    "    train={}\n",
    "    movie={}\n",
    "    for u in data.keys():\n",
    "        test.setdefault(u,{})\n",
    "        train.setdefault(u,{})\n",
    "        for movie in data[u]:\n",
    "            #print(data[u][movie])\n",
    "            if (random()<percent_test):\n",
    "                test[u][movie]=data[u][movie]\n",
    "            else:\n",
    "                train[u][movie]=data[u][movie]\n",
    "    return train, test"
   ]
  },
  {
   "cell_type": "code",
   "execution_count": 7,
   "metadata": {
    "collapsed": true
   },
   "outputs": [],
   "source": [
    "def split_train_test_by_movies(data,percent_test):\n",
    "    test={}\n",
    "    train={}\n",
    "    movie={}\n",
    "    for u in data.keys():\n",
    "        for movie in data[u]:\n",
    "            if (random()<percent_test):\n",
    "                try:\n",
    "                    test[movie][u]=data[u][movie]\n",
    "                except KeyError:\n",
    "                    test.setdefault(movie,{})\n",
    "                    test[movie][u]=data[u][movie]\n",
    "            else:\n",
    "                try:\n",
    "                    train[movie][u]=data[u][movie]\n",
    "                except KeyError:\n",
    "                    train.setdefault(movie,{})\n",
    "                    train[movie][u]=data[u][movie]\n",
    "    return train, test"
   ]
  },
  {
   "cell_type": "code",
   "execution_count": 8,
   "metadata": {
    "collapsed": true
   },
   "outputs": [],
   "source": [
    "percent_test=0.2\n",
    "train,test=split_train_test(data,percent_test)"
   ]
  },
  {
   "cell_type": "code",
   "execution_count": 9,
   "metadata": {
    "collapsed": false
   },
   "outputs": [],
   "source": [
    "percent_test=0.2\n",
    "m_train,m_test=split_train_test_by_movies(data,percent_test)"
   ]
  },
  {
   "cell_type": "code",
   "execution_count": 10,
   "metadata": {
    "collapsed": false
   },
   "outputs": [],
   "source": [
    "def deleteUnseenInTest(train,test):\n",
    "    for k in test.keys():\n",
    "        try:\n",
    "            train[k]\n",
    "        except KeyError:\n",
    "            test.pop(k,None)"
   ]
  },
  {
   "cell_type": "code",
   "execution_count": 11,
   "metadata": {
    "collapsed": true
   },
   "outputs": [],
   "source": [
    "deleteUnseenInTest(train,test)\n",
    "deleteUnseenInTest(m_train,m_test)"
   ]
  },
  {
   "cell_type": "code",
   "execution_count": 12,
   "metadata": {
    "collapsed": true
   },
   "outputs": [],
   "source": [
    "rawArray = getRawArray(data)\n",
    "rawArrayTest = getRawArray(test)"
   ]
  },
  {
   "cell_type": "markdown",
   "metadata": {},
   "source": [
    "---"
   ]
  },
  {
   "cell_type": "markdown",
   "metadata": {},
   "source": [
    "## Baseline: mean by user"
   ]
  },
  {
   "cell_type": "code",
   "execution_count": 13,
   "metadata": {
    "collapsed": true
   },
   "outputs": [],
   "source": [
    "class baselineMeanUser:\n",
    "    def __init__(self):\n",
    "        self.users={}\n",
    "    def fit(self,train):\n",
    "        for user in train.keys():\n",
    "            note=0.0\n",
    "            for movie in train[user].keys():\n",
    "                note+=train[user][movie]\n",
    "            note=note/len(train[user])\n",
    "            self.users[user]=note\n",
    "        \n",
    "    def predict(self,users):\n",
    "        return [self.users[u] for u in users]"
   ]
  },
  {
   "cell_type": "code",
   "execution_count": 14,
   "metadata": {
    "collapsed": false
   },
   "outputs": [
    {
     "name": "stdout",
     "output_type": "stream",
     "text": [
      "Mean Error 1.065209\n"
     ]
    }
   ],
   "source": [
    "baseline_mu= baselineMeanUser()\n",
    "baseline_mu.fit(train)\n",
    "pred = baseline_mu.predict(rawArray[:,0])\n",
    "print(\"Mean Error %0.6f\" %(\n",
    "        (np.array(pred) - np.array(rawArray[:,2], float)) ** 2).mean())"
   ]
  },
  {
   "cell_type": "code",
   "execution_count": 15,
   "metadata": {
    "collapsed": false
   },
   "outputs": [],
   "source": [
    "class baselineMeanMovie:\n",
    "    def __init__(self):\n",
    "        self.movies={}\n",
    "    def fit(self,train):\n",
    "        for movie in train.keys():\n",
    "            note=0.0\n",
    "            for user in train[movie].keys():\n",
    "                note+=train[movie][user]\n",
    "            note=note/len(train[movie])\n",
    "            self.movies[movie]=note\n",
    "        \n",
    "    def predict(self,movies):\n",
    "        res=[]\n",
    "        for m in movies:\n",
    "            try:\n",
    "                res.append(self.movies[m])\n",
    "            except:\n",
    "                res.append(3)\n",
    "        return res"
   ]
  },
  {
   "cell_type": "code",
   "execution_count": 16,
   "metadata": {
    "collapsed": false
   },
   "outputs": [
    {
     "name": "stdout",
     "output_type": "stream",
     "text": [
      "Mean Error 1.002688\n"
     ]
    }
   ],
   "source": [
    "baseline_mm= baselineMeanMovie()\n",
    "baseline_mm.fit(m_train)\n",
    "pred = baseline_mm.predict(rawArrayTest[:,1])\n",
    "print(\"Mean Error %0.6f\" %(\n",
    "        (np.array(pred) - np.array(rawArrayTest[:,2], float)) ** 2).mean())"
   ]
  },
  {
   "cell_type": "code",
   "execution_count": 17,
   "metadata": {
    "collapsed": false,
    "scrolled": true
   },
   "outputs": [
    {
     "data": {
      "text/plain": [
       "{'181': 1.0,\n",
       " '381': 5.0,\n",
       " '395': 2.0,\n",
       " '399': 3.0,\n",
       " '699': 3.0,\n",
       " '83': 3.0,\n",
       " '887': 5.0}"
      ]
     },
     "execution_count": 17,
     "metadata": {},
     "output_type": "execute_result"
    }
   ],
   "source": [
    "m_test['Adventures of Pinocchio, The (1996)']"
   ]
  },
  {
   "cell_type": "code",
   "execution_count": 18,
   "metadata": {
    "collapsed": false
   },
   "outputs": [
    {
     "data": {
      "text/plain": [
       "array([['344', 'Birdcage, The (1996)', '4.0'],\n",
       "       ['344', 'Enchanted April (1991)', '4.0'],\n",
       "       ['344', 'Diabolique (1996)', '2.0'],\n",
       "       ['344', 'Face/Off (1997)', '4.0'],\n",
       "       ['344', 'My Fellow Americans (1996)', '3.0']], \n",
       "      dtype='|S81')"
      ]
     },
     "execution_count": 18,
     "metadata": {},
     "output_type": "execute_result"
    }
   ],
   "source": [
    "rawArray[:5]"
   ]
  },
  {
   "cell_type": "code",
   "execution_count": 19,
   "metadata": {
    "collapsed": false
   },
   "outputs": [
    {
     "data": {
      "text/plain": [
       "249"
      ]
     },
     "execution_count": 19,
     "metadata": {},
     "output_type": "execute_result"
    }
   ],
   "source": [
    "len(m_train['Birdcage, The (1996)'])"
   ]
  },
  {
   "cell_type": "markdown",
   "metadata": {},
   "source": [
    "---"
   ]
  },
  {
   "cell_type": "code",
   "execution_count": 21,
   "metadata": {
    "collapsed": true
   },
   "outputs": [],
   "source": [
    "class matrixFactorisation():\n",
    "    def __init__(self, k, lambd=0.2, eps=1e-5, maxIter=2000, alternate=0):\n",
    "        self.k = k\n",
    "        self.lambd = lambd\n",
    "        self.eps = eps\n",
    "        self.maxIter = maxIter\n",
    "        self.alternate = alternate\n",
    "    def fit(self, dataUsers, dataItems, couples):\n",
    "        self.p = {}\n",
    "        self.q = {}\n",
    "        self.couples = couples\n",
    "        self.loss = []\n",
    "        optimP = True\n",
    "        optimQ = (self.alternate == 0)\n",
    "        for i in xrange(self.maxIter):\n",
    "            loss = 0\n",
    "            for j in xrange(len(couples)):\n",
    "                r = np.random.randint(len(couples))\n",
    "                user = couples[r][0]\n",
    "                item = couples[r][1]\n",
    "                if not user in self.p:\n",
    "                    self.p[user] = np.random.rand(1,self.k)\n",
    "                if not item in self.q:\n",
    "                    self.q[item] = np.random.rand(self.k,1)\n",
    "                tmp = dataUsers[user][item] - self.p[user].dot(self.q[item])[0][0]\n",
    "                if (optimP):\n",
    "                    self.p[user] = (1 - self.lambd * self.eps) * self.p[user] + self.eps * 2 * tmp * self.q[item].transpose()\n",
    "                if (optimQ):\n",
    "                    self.q[item] = (1 - self.lambd * self.eps) * self.q[item] + self.eps * 2 * tmp * self.p[user].transpose()\n",
    "                loss = loss + tmp*tmp #Sans régularisation\n",
    "            self.loss.append(loss)\n",
    "            if (self.alternate != 0):\n",
    "                if (i % self.alternate == 0):\n",
    "                    oprimP = False if optimQ else True\n",
    "                    print i, loss / len(couples)\n",
    "            else:\n",
    "                if (i % 100 == 0):\n",
    "                    print i, loss / len(couples)\n",
    "    def predict(self, couplesTest):\n",
    "        pred = np.zeros(len(couplesTest))\n",
    "        for ind,c in enumerate(couplesTest):\n",
    "            pred[ind] = self.p[c[0]].dot(self.q[c[1]])[0][0]\n",
    "        return pred"
   ]
  },
  {
   "cell_type": "code",
   "execution_count": 176,
   "metadata": {
    "collapsed": false
   },
   "outputs": [
    {
     "name": "stdout",
     "output_type": "stream",
     "text": [
      "0 2.77841840868\n",
      "100 1.26732246398\n",
      "200 1.05346402861\n",
      "300 0.983480018466\n",
      "400 0.940916112566\n",
      "500 0.912340589664\n",
      "600 0.895851403893\n",
      "700 0.880687032448\n"
     ]
    },
    {
     "ename": "KeyboardInterrupt",
     "evalue": "",
     "output_type": "error",
     "traceback": [
      "\u001b[0;31m---------------------------------------------------------------------------\u001b[0m",
      "\u001b[0;31mKeyboardInterrupt\u001b[0m                         Traceback (most recent call last)",
      "\u001b[0;32m<ipython-input-176-d96c14626eab>\u001b[0m in \u001b[0;36m<module>\u001b[0;34m()\u001b[0m\n\u001b[1;32m      1\u001b[0m \u001b[0mmodel3\u001b[0m \u001b[0;34m=\u001b[0m \u001b[0mmatrixFactorisation\u001b[0m\u001b[0;34m(\u001b[0m\u001b[0;36m10\u001b[0m\u001b[0;34m,\u001b[0m \u001b[0malternate\u001b[0m\u001b[0;34m=\u001b[0m\u001b[0;36m0\u001b[0m\u001b[0;34m)\u001b[0m\u001b[0;34m\u001b[0m\u001b[0m\n\u001b[0;32m----> 2\u001b[0;31m \u001b[0mmodel3\u001b[0m\u001b[0;34m.\u001b[0m\u001b[0mfit\u001b[0m\u001b[0;34m(\u001b[0m\u001b[0mtrainUsers\u001b[0m\u001b[0;34m,\u001b[0m \u001b[0mtrainItems\u001b[0m\u001b[0;34m,\u001b[0m \u001b[0mtrainCouples\u001b[0m\u001b[0;34m)\u001b[0m\u001b[0;34m\u001b[0m\u001b[0m\n\u001b[0m",
      "\u001b[0;32m<ipython-input-175-885d71f2654b>\u001b[0m in \u001b[0;36mfit\u001b[0;34m(self, dataUsers, dataItems, couples)\u001b[0m\n\u001b[1;32m     23\u001b[0m                 \u001b[0;32mif\u001b[0m \u001b[0;32mnot\u001b[0m \u001b[0mitem\u001b[0m \u001b[0;32min\u001b[0m \u001b[0mself\u001b[0m\u001b[0;34m.\u001b[0m\u001b[0mq\u001b[0m\u001b[0;34m:\u001b[0m\u001b[0;34m\u001b[0m\u001b[0m\n\u001b[1;32m     24\u001b[0m                     \u001b[0mself\u001b[0m\u001b[0;34m.\u001b[0m\u001b[0mq\u001b[0m\u001b[0;34m[\u001b[0m\u001b[0mitem\u001b[0m\u001b[0;34m]\u001b[0m \u001b[0;34m=\u001b[0m \u001b[0mnp\u001b[0m\u001b[0;34m.\u001b[0m\u001b[0mrandom\u001b[0m\u001b[0;34m.\u001b[0m\u001b[0mrand\u001b[0m\u001b[0;34m(\u001b[0m\u001b[0mself\u001b[0m\u001b[0;34m.\u001b[0m\u001b[0mk\u001b[0m\u001b[0;34m,\u001b[0m\u001b[0;36m1\u001b[0m\u001b[0;34m)\u001b[0m\u001b[0;34m\u001b[0m\u001b[0m\n\u001b[0;32m---> 25\u001b[0;31m                 \u001b[0mtmp\u001b[0m \u001b[0;34m=\u001b[0m \u001b[0mdataUsers\u001b[0m\u001b[0;34m[\u001b[0m\u001b[0muser\u001b[0m\u001b[0;34m]\u001b[0m\u001b[0;34m[\u001b[0m\u001b[0mitem\u001b[0m\u001b[0;34m]\u001b[0m \u001b[0;34m-\u001b[0m \u001b[0mself\u001b[0m\u001b[0;34m.\u001b[0m\u001b[0mp\u001b[0m\u001b[0;34m[\u001b[0m\u001b[0muser\u001b[0m\u001b[0;34m]\u001b[0m\u001b[0;34m.\u001b[0m\u001b[0mdot\u001b[0m\u001b[0;34m(\u001b[0m\u001b[0mself\u001b[0m\u001b[0;34m.\u001b[0m\u001b[0mq\u001b[0m\u001b[0;34m[\u001b[0m\u001b[0mitem\u001b[0m\u001b[0;34m]\u001b[0m\u001b[0;34m)\u001b[0m\u001b[0;34m[\u001b[0m\u001b[0;36m0\u001b[0m\u001b[0;34m]\u001b[0m\u001b[0;34m[\u001b[0m\u001b[0;36m0\u001b[0m\u001b[0;34m]\u001b[0m\u001b[0;34m\u001b[0m\u001b[0m\n\u001b[0m\u001b[1;32m     26\u001b[0m                 \u001b[0;32mif\u001b[0m \u001b[0;34m(\u001b[0m\u001b[0moptimP\u001b[0m\u001b[0;34m)\u001b[0m\u001b[0;34m:\u001b[0m\u001b[0;34m\u001b[0m\u001b[0m\n\u001b[1;32m     27\u001b[0m                     \u001b[0mself\u001b[0m\u001b[0;34m.\u001b[0m\u001b[0mp\u001b[0m\u001b[0;34m[\u001b[0m\u001b[0muser\u001b[0m\u001b[0;34m]\u001b[0m \u001b[0;34m=\u001b[0m \u001b[0;34m(\u001b[0m\u001b[0;36m1\u001b[0m \u001b[0;34m-\u001b[0m \u001b[0mself\u001b[0m\u001b[0;34m.\u001b[0m\u001b[0mlambd\u001b[0m \u001b[0;34m*\u001b[0m \u001b[0mself\u001b[0m\u001b[0;34m.\u001b[0m\u001b[0meps\u001b[0m\u001b[0;34m)\u001b[0m \u001b[0;34m*\u001b[0m \u001b[0mself\u001b[0m\u001b[0;34m.\u001b[0m\u001b[0mp\u001b[0m\u001b[0;34m[\u001b[0m\u001b[0muser\u001b[0m\u001b[0;34m]\u001b[0m \u001b[0;34m+\u001b[0m \u001b[0mself\u001b[0m\u001b[0;34m.\u001b[0m\u001b[0meps\u001b[0m \u001b[0;34m*\u001b[0m \u001b[0;36m2\u001b[0m \u001b[0;34m*\u001b[0m \u001b[0mtmp\u001b[0m \u001b[0;34m*\u001b[0m \u001b[0mself\u001b[0m\u001b[0;34m.\u001b[0m\u001b[0mq\u001b[0m\u001b[0;34m[\u001b[0m\u001b[0mitem\u001b[0m\u001b[0;34m]\u001b[0m\u001b[0;34m.\u001b[0m\u001b[0mtranspose\u001b[0m\u001b[0;34m(\u001b[0m\u001b[0;34m)\u001b[0m\u001b[0;34m\u001b[0m\u001b[0m\n",
      "\u001b[0;31mKeyboardInterrupt\u001b[0m: "
     ]
    }
   ],
   "source": [
    "model3 = matrixFactorisation(10, alternate=0)\n",
    "model3.fit(trainUsers, trainItems, trainCouples)"
   ]
  },
  {
   "cell_type": "code",
   "execution_count": 22,
   "metadata": {
    "collapsed": false
   },
   "outputs": [
    {
     "ename": "AttributeError",
     "evalue": "'module' object has no attribute 'dok_matrix'",
     "output_type": "error",
     "traceback": [
      "\u001b[0;31m---------------------------------------------------------------------------\u001b[0m",
      "\u001b[0;31mAttributeError\u001b[0m                            Traceback (most recent call last)",
      "\u001b[0;32m<ipython-input-22-734a04c46e62>\u001b[0m in \u001b[0;36m<module>\u001b[0;34m()\u001b[0m\n\u001b[1;32m      1\u001b[0m \u001b[0;34m\u001b[0m\u001b[0m\n\u001b[0;32m----> 2\u001b[0;31m \u001b[0mdm\u001b[0m \u001b[0;34m=\u001b[0m \u001b[0mnp\u001b[0m\u001b[0;34m.\u001b[0m\u001b[0mdok_matrix\u001b[0m\u001b[0;34m(\u001b[0m\u001b[0mtrain\u001b[0m\u001b[0;34m)\u001b[0m\u001b[0;34m\u001b[0m\u001b[0m\n\u001b[0m",
      "\u001b[0;31mAttributeError\u001b[0m: 'module' object has no attribute 'dok_matrix'"
     ]
    }
   ],
   "source": [
    "\n",
    "dm = np.dok_matrix(train)"
   ]
  },
  {
   "cell_type": "code",
   "execution_count": 20,
   "metadata": {
    "collapsed": false
   },
   "outputs": [
    {
     "name": "stdout",
     "output_type": "stream",
     "text": [
      "1664\n",
      "943\n"
     ]
    }
   ],
   "source": [
    "print(len(movies))\n",
    "print(len(data.keys()))"
   ]
  },
  {
   "cell_type": "code",
   "execution_count": 21,
   "metadata": {
    "collapsed": false
   },
   "outputs": [
    {
     "data": {
      "text/plain": [
       "'1060'"
      ]
     },
     "execution_count": 21,
     "metadata": {},
     "output_type": "execute_result"
    }
   ],
   "source": [
    "movies[\"Adventures of Pinocchio, The (1996)\"]"
   ]
  },
  {
   "cell_type": "code",
   "execution_count": 38,
   "metadata": {
    "collapsed": false
   },
   "outputs": [],
   "source": [
    "rawMatrix = np.zeros((len(data.keys())+1,1682+1))\n",
    "for u in data:\n",
    "    for m in data[u]:\n",
    "        rawMatrix[int(u)][int(movies[m])] = data[u][m]"
   ]
  },
  {
   "cell_type": "code",
   "execution_count": 40,
   "metadata": {
    "collapsed": false
   },
   "outputs": [
    {
     "data": {
      "text/plain": [
       "(944, 1683)"
      ]
     },
     "execution_count": 40,
     "metadata": {},
     "output_type": "execute_result"
    }
   ],
   "source": [
    "np.shape(rawMatrix)"
   ]
  },
  {
   "cell_type": "code",
   "execution_count": 24,
   "metadata": {
    "collapsed": false
   },
   "outputs": [
    {
     "data": {
      "text/plain": [
       "2.0"
      ]
     },
     "execution_count": 24,
     "metadata": {},
     "output_type": "execute_result"
    }
   ],
   "source": [
    "train[\"1\"][\"101 Dalmatians (1996)\"]"
   ]
  },
  {
   "cell_type": "code",
   "execution_count": 39,
   "metadata": {
    "collapsed": false
   },
   "outputs": [],
   "source": [
    "rawMatrixTrain = np.zeros((len(data.keys())+1,1682+1))\n",
    "for u in train:\n",
    "    for m in train[u]:\n",
    "        rawMatrixTrain[int(u)][int(movies[m])] = train[u][m]\n",
    "        \n",
    "rawMatrixTest = np.zeros((len(data.keys())+1,1682+1))\n",
    "for u in test:\n",
    "    for m in test[u]:\n",
    "        rawMatrixTest[int(u)][int(movies[m])] = test[u][m]"
   ]
  },
  {
   "cell_type": "code",
   "execution_count": 28,
   "metadata": {
    "collapsed": false
   },
   "outputs": [
    {
     "data": {
      "text/plain": [
       "array([[ 0.,  0.,  0.,  0.,  0.,  0.,  0.,  0.,  0.,  0.],\n",
       "       [ 0.,  5.,  3.,  4.,  3.,  3.,  5.,  4.,  1.,  5.],\n",
       "       [ 0.,  0.,  0.,  0.,  0.,  0.,  0.,  0.,  0.,  0.],\n",
       "       [ 0.,  0.,  0.,  0.,  0.,  0.,  0.,  0.,  0.,  0.],\n",
       "       [ 0.,  0.,  0.,  0.,  0.,  0.,  0.,  0.,  0.,  0.],\n",
       "       [ 0.,  4.,  3.,  0.,  0.,  0.,  0.,  0.,  0.,  0.],\n",
       "       [ 0.,  4.,  0.,  0.,  0.,  0.,  0.,  2.,  4.,  4.],\n",
       "       [ 0.,  0.,  0.,  0.,  5.,  0.,  0.,  5.,  5.,  0.],\n",
       "       [ 0.,  0.,  0.,  0.,  0.,  0.,  0.,  3.,  0.,  0.],\n",
       "       [ 0.,  0.,  0.,  0.,  0.,  0.,  5.,  4.,  0.,  0.]])"
      ]
     },
     "execution_count": 28,
     "metadata": {},
     "output_type": "execute_result"
    }
   ],
   "source": [
    "rawMatrixTrain[:10,:10]"
   ]
  },
  {
   "cell_type": "code",
   "execution_count": 29,
   "metadata": {
    "collapsed": false
   },
   "outputs": [
    {
     "data": {
      "text/plain": [
       "array([[ 0.,  0.,  0.,  0.,  0.,  0.,  0.,  0.,  0.,  0.],\n",
       "       [ 0.,  0.,  0.,  0.,  0.,  0.,  0.,  0.,  0.,  0.],\n",
       "       [ 0.,  4.,  0.,  0.,  0.,  0.,  0.,  0.,  0.,  0.],\n",
       "       [ 0.,  0.,  0.,  0.,  0.,  0.,  0.,  0.,  0.,  0.],\n",
       "       [ 0.,  0.,  0.,  0.,  0.,  0.,  0.,  0.,  0.,  0.],\n",
       "       [ 0.,  0.,  0.,  0.,  0.,  0.,  0.,  0.,  0.,  0.],\n",
       "       [ 0.,  0.,  0.,  0.,  0.,  0.,  0.,  0.,  0.,  0.],\n",
       "       [ 0.,  0.,  0.,  0.,  0.,  0.,  0.,  0.,  0.,  5.],\n",
       "       [ 0.,  0.,  0.,  0.,  0.,  0.,  0.,  0.,  0.,  0.],\n",
       "       [ 0.,  0.,  0.,  0.,  0.,  0.,  0.,  0.,  0.,  0.]])"
      ]
     },
     "execution_count": 29,
     "metadata": {},
     "output_type": "execute_result"
    }
   ],
   "source": [
    "rawMatrixTest[:10,:10]"
   ]
  },
  {
   "cell_type": "code",
   "execution_count": 33,
   "metadata": {
    "collapsed": false
   },
   "outputs": [
    {
     "data": {
      "text/plain": [
       "(944, 1683)"
      ]
     },
     "execution_count": 33,
     "metadata": {},
     "output_type": "execute_result"
    }
   ],
   "source": [
    "np.shape(rawMatrixTest)"
   ]
  },
  {
   "cell_type": "code",
   "execution_count": 166,
   "metadata": {
    "collapsed": false
   },
   "outputs": [],
   "source": [
    "import numpy as np\n",
    "from scipy import linalg\n",
    "from numpy import dot\n",
    "\n",
    "def nmf(X, latent_features, max_iter=100, error_limit=1e-6, fit_error_limit=1e-6):\n",
    "    \"\"\"\n",
    "    Decompose X to A*Y\n",
    "    \"\"\"\n",
    "    eps = 1e-5\n",
    "    print 'Starting NMF decomposition with {} latent features and {} iterations.'.format(latent_features, max_iter)\n",
    "    #X = X.toarray()  # I am passing in a scipy sparse matrix\n",
    "\n",
    "    # mask\n",
    "    mask = np.sign(X)\n",
    "\n",
    "    # initial matrices. A is random [0,1] and Y is A\\X.\n",
    "    rows, columns = X.shape\n",
    "    A = np.random.rand(rows, latent_features)\n",
    "    A = np.maximum(A, eps)\n",
    "\n",
    "    Y = linalg.lstsq(A, X)[0]\n",
    "    Y = np.maximum(Y, eps)\n",
    "\n",
    "    masked_X = mask * X\n",
    "    X_est_prev = dot(A, Y)\n",
    "    for i in range(1, max_iter + 1):\n",
    "        # updates\n",
    "        top = dot(masked_X, Y.T)\n",
    "        bottom = (dot((mask * dot(A, Y)), Y.T)) + eps\n",
    "        A *= top / bottom\n",
    "\n",
    "        A = np.maximum(A, eps)\n",
    "        # print 'A',  np.round(A, 2)\n",
    "\n",
    "        top = dot(A.T, masked_X)\n",
    "        bottom = dot(A.T, mask * dot(A, Y)) + eps\n",
    "        Y *= top / bottom\n",
    "        Y = np.maximum(Y, eps)\n",
    "        # print 'Y', np.round(Y, 2)\n",
    "\n",
    "\n",
    "        # evaluation\n",
    "        if i % 200 == 0 or i == 1 or i == max_iter:\n",
    "            print 'Iteration {}:'.format(i),\n",
    "            X_est = dot(A, Y)\n",
    "            err = mask * (X_est_prev - X_est)\n",
    "            fit_residual = np.sqrt(np.sum(err ** 2))\n",
    "            X_est_prev = X_est\n",
    "\n",
    "            curRes = linalg.norm(mask * (X - X_est), ord='fro')\n",
    "            print 'fit residual', np.round(fit_residual, 4),\n",
    "            print 'total residual', np.round(curRes, 4)\n",
    "            if curRes < error_limit or fit_residual < fit_error_limit:\n",
    "                break\n",
    "\n",
    "    return A, Y"
   ]
  },
  {
   "cell_type": "code",
   "execution_count": 112,
   "metadata": {
    "collapsed": true
   },
   "outputs": [],
   "source": [
    "cpr = copy.deepcopy(rawMatrix)"
   ]
  },
  {
   "cell_type": "code",
   "execution_count": 124,
   "metadata": {
    "collapsed": false
   },
   "outputs": [
    {
     "data": {
      "text/plain": [
       "array([[ 0.,  0.,  0.,  0.,  0.,  0.,  0.,  0.,  0.,  0.],\n",
       "       [ 0.,  0.,  3.,  4.,  3.,  3.,  5.,  4.,  1.,  5.],\n",
       "       [ 0.,  4.,  0.,  0.,  0.,  0.,  0.,  0.,  0.,  0.],\n",
       "       [ 0.,  0.,  0.,  0.,  0.,  0.,  0.,  0.,  0.,  0.],\n",
       "       [ 0.,  0.,  0.,  0.,  0.,  0.,  0.,  0.,  0.,  0.],\n",
       "       [ 0.,  4.,  3.,  0.,  0.,  0.,  0.,  0.,  0.,  0.],\n",
       "       [ 0.,  4.,  0.,  0.,  0.,  0.,  0.,  2.,  4.,  4.],\n",
       "       [ 0.,  0.,  0.,  0.,  5.,  0.,  0.,  5.,  5.,  5.],\n",
       "       [ 0.,  0.,  0.,  0.,  0.,  0.,  0.,  3.,  0.,  0.],\n",
       "       [ 0.,  0.,  0.,  0.,  0.,  0.,  5.,  4.,  0.,  0.]])"
      ]
     },
     "execution_count": 124,
     "metadata": {},
     "output_type": "execute_result"
    }
   ],
   "source": [
    "cpr[:10,:10]"
   ]
  },
  {
   "cell_type": "code",
   "execution_count": 136,
   "metadata": {
    "collapsed": true
   },
   "outputs": [],
   "source": [
    "t1 = np.array([[7,1],\n",
    "               [1,1]])\n",
    "t2 = np.array([[1,2],\n",
    "               [3,4]])"
   ]
  },
  {
   "cell_type": "code",
   "execution_count": 137,
   "metadata": {
    "collapsed": false
   },
   "outputs": [
    {
     "data": {
      "text/plain": [
       "array([[10, 18],\n",
       "       [ 4,  6]])"
      ]
     },
     "execution_count": 137,
     "metadata": {},
     "output_type": "execute_result"
    }
   ],
   "source": [
    "t1.dot(t2)"
   ]
  },
  {
   "cell_type": "code",
   "execution_count": 146,
   "metadata": {
    "collapsed": false
   },
   "outputs": [
    {
     "data": {
      "text/plain": [
       "16"
      ]
     },
     "execution_count": 146,
     "metadata": {},
     "output_type": "execute_result"
    }
   ],
   "source": [
    "(t1*t2).sum()"
   ]
  },
  {
   "cell_type": "code",
   "execution_count": 123,
   "metadata": {
    "collapsed": false
   },
   "outputs": [],
   "source": [
    "cpr[1,1]=0"
   ]
  },
  {
   "cell_type": "code",
   "execution_count": 139,
   "metadata": {
    "collapsed": false
   },
   "outputs": [
    {
     "name": "stdout",
     "output_type": "stream",
     "text": [
      "Starting NMF decomposition with 100 latent features and 3000 iterations.\n",
      "Iteration 1: fit residual 393.8573 total residual 281.7802\n",
      "Iteration 50: fit residual 193.9636 total residual 161.7064\n",
      "Iteration 100: fit residual 59.0108 total residual 132.3743\n",
      "Iteration 150: fit residual 32.0228 total residual 118.1091\n",
      "Iteration 200: fit residual 21.1338 total residual 109.4591\n",
      "Iteration 250: fit residual 15.359 total residual 103.5741\n",
      "Iteration 300: fit residual 11.9724 total residual 99.2019\n",
      "Iteration 350: fit residual 9.952 total residual 95.7222\n",
      "Iteration 400: fit residual 8.5715 total residual 92.85\n",
      "Iteration 450: fit residual 7.4787 total residual 90.4282\n",
      "Iteration 500: fit residual 6.6231 total residual 88.3419\n",
      "Iteration 550: fit residual 5.9386 total residual 86.5123\n",
      "Iteration 600: fit residual 5.4035 total residual 84.8834\n",
      "Iteration 650: fit residual 4.9618 total residual 83.4181\n",
      "Iteration 700: fit residual 4.5829 total residual 82.0886\n",
      "Iteration 750: fit residual 4.276 total residual 80.8744\n",
      "Iteration 800: fit residual 3.999 total residual 79.7609\n",
      "Iteration 850: fit residual 3.7534 total residual 78.7348\n",
      "Iteration 900: fit residual 3.5346 total residual 77.7847\n",
      "Iteration 950: fit residual 3.3371 total residual 76.9023\n",
      "Iteration 1000: fit residual 3.1544 total residual 76.0806\n",
      "Iteration 1050: fit residual 2.9866 total residual 75.3124\n",
      "Iteration 1100: fit residual 2.8425 total residual 74.5906\n",
      "Iteration 1150: fit residual 2.7235 total residual 73.9102\n",
      "Iteration 1200: fit residual 2.609 total residual 73.2694\n",
      "Iteration 1250: fit residual 2.4943 total residual 72.6657\n",
      "Iteration 1300: fit residual 2.3881 total residual 72.0964\n",
      "Iteration 1350: fit residual 2.2855 total residual 71.5594\n",
      "Iteration 1400: fit residual 2.183 total residual 71.0521\n",
      "Iteration 1450: fit residual 2.089 total residual 70.5709\n",
      "Iteration 1500: fit residual 2.006 total residual 70.1123\n",
      "Iteration 1550: fit residual 1.933 total residual 69.6735\n",
      "Iteration 1600: fit residual 1.8726 total residual 69.2521\n",
      "Iteration 1650: fit residual 1.821 total residual 68.8466\n",
      "Iteration 1700: fit residual 1.7736 total residual 68.4563\n",
      "Iteration 1750: fit residual 1.728 total residual 68.0809\n",
      "Iteration 1800: fit residual 1.6811 total residual 67.72\n",
      "Iteration 1850: fit residual 1.6299 total residual 67.3734\n",
      "Iteration 1900: fit residual 1.5799 total residual 67.0402\n",
      "Iteration 1950: fit residual 1.5339 total residual 66.7197\n",
      "Iteration 2000: fit residual 1.4916 total residual 66.4112\n",
      "Iteration 2050: fit residual 1.4513 total residual 66.114\n",
      "Iteration 2100: fit residual 1.4101 total residual 65.8279\n",
      "Iteration 2150: fit residual 1.3691 total residual 65.5521\n",
      "Iteration 2200: fit residual 1.3295 total residual 65.2857\n",
      "Iteration 2250: fit residual 1.2944 total residual 65.0277\n",
      "Iteration 2300: fit residual 1.2655 total residual 64.7771\n",
      "Iteration 2350: fit residual 1.2407 total residual 64.5336\n",
      "Iteration 2400: fit residual 1.2159 total residual 64.2966\n",
      "Iteration 2450: fit residual 1.1899 total residual 64.0659\n",
      "Iteration 2500: fit residual 1.1644 total residual 63.8409\n",
      "Iteration 2550: fit residual 1.142 total residual 63.6209\n",
      "Iteration 2600: fit residual 1.1241 total residual 63.4054\n",
      "Iteration 2650: fit residual 1.1097 total residual 63.194\n",
      "Iteration 2700: fit residual 1.0963 total residual 62.987\n",
      "Iteration 2750: fit residual 1.0819 total residual 62.7844\n",
      "Iteration 2800: fit residual 1.0653 total residual 62.5867\n",
      "Iteration 2850: fit residual 1.0472 total residual 62.3936\n",
      "Iteration 2900: fit residual 1.0288 total residual 62.2052\n",
      "Iteration 2950: fit residual 1.0112 total residual 62.0213\n",
      "Iteration 3000: fit residual 0.9948 total residual 61.8415\n",
      "CPU times: user 6min 45s, sys: 29.6 s, total: 7min 15s\n",
      "Wall time: 3min 10s\n"
     ]
    }
   ],
   "source": [
    "%%time\n",
    "A,Y = nmf(cpr,100,max_iter=3000)"
   ]
  },
  {
   "cell_type": "code",
   "execution_count": 144,
   "metadata": {
    "collapsed": false
   },
   "outputs": [],
   "source": [
    "resMatrix = A.dot(Y)"
   ]
  },
  {
   "cell_type": "code",
   "execution_count": 145,
   "metadata": {
    "collapsed": false
   },
   "outputs": [
    {
     "data": {
      "text/plain": [
       "3.0386369718493849"
      ]
     },
     "execution_count": 145,
     "metadata": {},
     "output_type": "execute_result"
    }
   ],
   "source": [
    "resMatrix[1,1]"
   ]
  },
  {
   "cell_type": "code",
   "execution_count": 73,
   "metadata": {
    "collapsed": true
   },
   "outputs": [],
   "source": [
    "class evalMF:\n",
    "    def __init__(self,resMatrix,dicU,dicI):\n",
    "        self.resMatrix=resMatrix\n",
    "        self.dicU = dicU\n",
    "        self.dicI = dicI\n",
    "    def fit(self):\n",
    "        pass\n",
    "        \n",
    "    def predict(self,user,movie):\n",
    "        return self.resMatrix[int(user)][int(self.dicI[movie])]"
   ]
  },
  {
   "cell_type": "code",
   "execution_count": 74,
   "metadata": {
    "collapsed": false
   },
   "outputs": [],
   "source": [
    "mf= evalMF(resMatrix,data,movies)"
   ]
  },
  {
   "cell_type": "code",
   "execution_count": 75,
   "metadata": {
    "collapsed": false
   },
   "outputs": [
    {
     "name": "stdout",
     "output_type": "stream",
     "text": [
      "4.0\n",
      "4.01525359804\n",
      "1.0\n",
      "1.00798119413\n"
     ]
    }
   ],
   "source": [
    "print data[\"1\"][\"Akira (1988)\"]\n",
    "print mf.predict(\"1\",\"Akira (1988)\")\n",
    "print data[\"1\"][\"All Dogs Go to Heaven 2 (1996)\"]\n",
    "print mf.predict(\"1\",\"All Dogs Go to Heaven 2 (1996)\")"
   ]
  },
  {
   "cell_type": "code",
   "execution_count": 76,
   "metadata": {
    "collapsed": false
   },
   "outputs": [
    {
     "data": {
      "text/plain": [
       "2.0909226578962512"
      ]
     },
     "execution_count": 76,
     "metadata": {},
     "output_type": "execute_result"
    }
   ],
   "source": [
    "np.array([ (float(ra[2]) - mf.predict(ra[0],ra[1]))**2 for ra in rawArrayTest]).mean()"
   ]
  },
  {
   "cell_type": "markdown",
   "metadata": {},
   "source": [
    "---"
   ]
  },
  {
   "cell_type": "code",
   "execution_count": 225,
   "metadata": {
    "collapsed": false
   },
   "outputs": [
    {
     "name": "stdout",
     "output_type": "stream",
     "text": [
      "Starting NMF decomposition with 500 latent features and 300 iterations.\n",
      "Iteration 1: fit residual 5298.0864 total residual 244.6212\n",
      "Iteration 200: fit residual 240.2685 total residual 13.9941\n",
      "Iteration 300: fit residual 7.7158 total residual 6.8284\n",
      "CPU times: user 2min 45s, sys: 5.49 s, total: 2min 50s\n",
      "Wall time: 1min 2s\n"
     ]
    }
   ],
   "source": [
    "%%time\n",
    "A,Y = nmf(rawMatrixTrain,500,max_iter=300)"
   ]
  },
  {
   "cell_type": "code",
   "execution_count": 226,
   "metadata": {
    "collapsed": true
   },
   "outputs": [],
   "source": [
    "resMatrix = A.dot(Y)"
   ]
  },
  {
   "cell_type": "code",
   "execution_count": 227,
   "metadata": {
    "collapsed": false
   },
   "outputs": [],
   "source": [
    "a=np.array((1,2,4))\n",
    "b=np.array((1,3,6))\n",
    "(a-b).dot(a-b)\n",
    "\n",
    "masqueTest=np.sign(rawMatrixTest)\n",
    "masqueTest[:10,:10]\n",
    "\n",
    "A=masqueTest*rawMatrix\n"
   ]
  },
  {
   "cell_type": "code",
   "execution_count": 228,
   "metadata": {
    "collapsed": true
   },
   "outputs": [],
   "source": [
    "aa = masqueTest*resMatrix"
   ]
  },
  {
   "cell_type": "code",
   "execution_count": 229,
   "metadata": {
    "collapsed": true
   },
   "outputs": [],
   "source": [
    "for idxi,i in enumerate(aa):\n",
    "    for idxj,j in enumerate(i):\n",
    "        if j>5:\n",
    "            aa[idxi][idxj]=5"
   ]
  },
  {
   "cell_type": "code",
   "execution_count": 235,
   "metadata": {
    "collapsed": true
   },
   "outputs": [],
   "source": [
    "q = masqueTest*resMatrix - rawMatrixTest"
   ]
  },
  {
   "cell_type": "code",
   "execution_count": 236,
   "metadata": {
    "collapsed": false
   },
   "outputs": [
    {
     "data": {
      "text/plain": [
       "1.1273948891755721"
      ]
     },
     "execution_count": 236,
     "metadata": {},
     "output_type": "execute_result"
    }
   ],
   "source": [
    "(q*q).sum()/ masqueTest.sum()"
   ]
  },
  {
   "cell_type": "code",
   "execution_count": 232,
   "metadata": {
    "collapsed": false
   },
   "outputs": [
    {
     "data": {
      "text/plain": [
       "array([[ 0.        ,  0.        ,  0.        ,  0.        ,  0.        ,\n",
       "         0.        ,  0.        ,  0.        ,  0.        ,  0.        ],\n",
       "       [ 0.        ,  0.        ,  0.        ,  0.        ,  0.        ,\n",
       "         0.        ,  0.        ,  0.        ,  0.        ,  0.        ],\n",
       "       [ 0.        ,  4.25790085,  0.        ,  0.        ,  0.        ,\n",
       "         0.        ,  0.        ,  0.        ,  0.        ,  0.        ],\n",
       "       [ 0.        ,  0.        ,  0.        ,  0.        ,  0.        ,\n",
       "         0.        ,  0.        ,  0.        ,  0.        ,  0.        ],\n",
       "       [ 0.        ,  0.        ,  0.        ,  0.        ,  0.        ,\n",
       "         0.        ,  0.        ,  0.        ,  0.        ,  0.        ],\n",
       "       [ 0.        ,  0.        ,  0.        ,  0.        ,  0.        ,\n",
       "         0.        ,  0.        ,  0.        ,  0.        ,  0.        ],\n",
       "       [ 0.        ,  0.        ,  0.        ,  0.        ,  0.        ,\n",
       "         0.        ,  0.        ,  0.        ,  0.        ,  0.        ],\n",
       "       [ 0.        ,  0.        ,  0.        ,  0.        ,  0.        ,\n",
       "         0.        ,  0.        ,  0.        ,  0.        ,  4.51410323],\n",
       "       [ 0.        ,  0.        ,  0.        ,  0.        ,  0.        ,\n",
       "         0.        ,  0.        ,  0.        ,  0.        ,  0.        ],\n",
       "       [ 0.        ,  0.        ,  0.        ,  0.        ,  0.        ,\n",
       "         0.        ,  0.        ,  0.        ,  0.        ,  0.        ]])"
      ]
     },
     "execution_count": 232,
     "metadata": {},
     "output_type": "execute_result"
    }
   ],
   "source": [
    "aa[:10,:10]"
   ]
  },
  {
   "cell_type": "code",
   "execution_count": 111,
   "metadata": {
    "collapsed": false
   },
   "outputs": [
    {
     "data": {
      "text/plain": [
       "array([[ 0.,  0.,  0.,  0.,  0.,  0.,  0.,  0.,  0.,  0.],\n",
       "       [ 0.,  5.,  3.,  4.,  3.,  3.,  5.,  4.,  1.,  5.],\n",
       "       [ 0.,  4.,  0.,  0.,  0.,  0.,  0.,  0.,  0.,  0.],\n",
       "       [ 0.,  0.,  0.,  0.,  0.,  0.,  0.,  0.,  0.,  0.],\n",
       "       [ 0.,  0.,  0.,  0.,  0.,  0.,  0.,  0.,  0.,  0.],\n",
       "       [ 0.,  4.,  3.,  0.,  0.,  0.,  0.,  0.,  0.,  0.],\n",
       "       [ 0.,  4.,  0.,  0.,  0.,  0.,  0.,  2.,  4.,  4.],\n",
       "       [ 0.,  0.,  0.,  0.,  5.,  0.,  0.,  5.,  5.,  5.],\n",
       "       [ 0.,  0.,  0.,  0.,  0.,  0.,  0.,  3.,  0.,  0.],\n",
       "       [ 0.,  0.,  0.,  0.,  0.,  0.,  5.,  4.,  0.,  0.]])"
      ]
     },
     "execution_count": 111,
     "metadata": {},
     "output_type": "execute_result"
    }
   ],
   "source": [
    "rawMatrix[:10,:10]"
   ]
  },
  {
   "cell_type": "code",
   "execution_count": 65,
   "metadata": {
    "collapsed": false
   },
   "outputs": [
    {
     "data": {
      "text/plain": [
       "array([[  1.00000000e-09,   2.11263017e-05,   1.75772784e-05,\n",
       "          1.59467964e-05,   1.91700638e-05,   1.73865300e-05,\n",
       "          2.06765659e-05,   1.94248575e-05,   2.17730688e-05,\n",
       "          2.03784277e-05],\n",
       "       [  1.78801970e-04,   3.95625546e+00,   3.54997734e+00,\n",
       "          3.72895234e+00,   4.27096338e+00,   2.72442378e+00,\n",
       "          4.01474525e+00,   4.52884136e+00,   3.69341713e+00,\n",
       "          3.98399173e+00],\n",
       "       [  1.96184298e-04,   4.03306906e+00,   2.99267665e+00,\n",
       "          2.07003583e+00,   3.73621474e+00,   3.57324546e+00,\n",
       "          4.50847524e+00,   4.03266244e+00,   4.35395407e+00,\n",
       "          4.65985982e+00],\n",
       "       [  1.76302740e-04,   3.61148196e+00,   3.27282155e+00,\n",
       "          2.35550426e+00,   2.02886726e+00,   3.87498134e+00,\n",
       "          1.48801040e+00,   2.95799674e+00,   2.77898478e+00,\n",
       "          3.14122547e+00],\n",
       "       [  2.63225365e-04,   4.84628612e+00,   3.96173386e+00,\n",
       "          4.22460058e+00,   3.47028279e+00,   3.99521914e+00,\n",
       "          5.25970696e+00,   4.27889369e+00,   5.52921267e+00,\n",
       "          5.98457221e+00],\n",
       "       [  1.73961907e-04,   3.44238651e+00,   3.45807865e+00,\n",
       "          2.71245890e+00,   3.14421131e+00,   2.45772768e+00,\n",
       "          1.46203100e+00,   4.82582842e+00,   3.09009585e+00,\n",
       "          3.56641471e+00],\n",
       "       [  1.57488630e-04,   3.43843718e+00,   2.08003954e+00,\n",
       "          2.15150878e+00,   3.19166098e+00,   2.52915516e+00,\n",
       "          2.59800164e+00,   3.06789555e+00,   3.78494389e+00,\n",
       "          3.81078788e+00],\n",
       "       [  2.17947541e-04,   4.70512003e+00,   3.99566394e+00,\n",
       "          2.01249843e+00,   3.64370725e+00,   3.51552809e+00,\n",
       "          3.54826067e+00,   4.00895913e+00,   5.02975404e+00,\n",
       "          5.08923692e+00],\n",
       "       [  2.07695050e-04,   4.28568480e+00,   3.87650139e+00,\n",
       "          3.34228855e+00,   3.61386225e+00,   4.02478920e+00,\n",
       "          2.97444638e+00,   3.65660112e+00,   4.04720870e+00,\n",
       "          4.45891929e+00],\n",
       "       [  1.81585514e-04,   4.17292085e+00,   4.22438463e+00,\n",
       "          4.96064656e+00,   5.06876450e+00,   2.92737460e+00,\n",
       "          5.80518190e+00,   4.37799768e+00,   3.62961909e+00,\n",
       "          3.95327106e+00]])"
      ]
     },
     "execution_count": 65,
     "metadata": {},
     "output_type": "execute_result"
    }
   ],
   "source": [
    "resMatrix[:10,:10]"
   ]
  },
  {
   "cell_type": "code",
   "execution_count": 59,
   "metadata": {
    "collapsed": true
   },
   "outputs": [],
   "source": [
    "mf = evalMF(resMatrix,data,movies)"
   ]
  },
  {
   "cell_type": "code",
   "execution_count": 69,
   "metadata": {
    "collapsed": false
   },
   "outputs": [
    {
     "name": "stdout",
     "output_type": "stream",
     "text": [
      "4.0\n",
      "3.68121941569\n",
      "1.0\n",
      "0.96164687419\n"
     ]
    }
   ],
   "source": [
    "print data[\"1\"][\"Akira (1988)\"]\n",
    "print mf.predict(\"1\",\"Akira (1988)\")\n",
    "print data[\"1\"][\"All Dogs Go to Heaven 2 (1996)\"]\n",
    "print mf.predict(\"1\",\"All Dogs Go to Heaven 2 (1996)\")"
   ]
  },
  {
   "cell_type": "code",
   "execution_count": 61,
   "metadata": {
    "collapsed": false
   },
   "outputs": [
    {
     "name": "stdout",
     "output_type": "stream",
     "text": [
      "1.0\n"
     ]
    },
    {
     "ename": "KeyError",
     "evalue": "'Akira (1988)'",
     "output_type": "error",
     "traceback": [
      "\u001b[0;31m---------------------------------------------------------------------------\u001b[0m",
      "\u001b[0;31mKeyError\u001b[0m                                  Traceback (most recent call last)",
      "\u001b[0;32m<ipython-input-61-ccddd715027a>\u001b[0m in \u001b[0;36m<module>\u001b[0;34m()\u001b[0m\n\u001b[1;32m      1\u001b[0m \u001b[0;32mprint\u001b[0m \u001b[0mtrain\u001b[0m\u001b[0;34m[\u001b[0m\u001b[0;34m\"1\"\u001b[0m\u001b[0;34m]\u001b[0m\u001b[0;34m[\u001b[0m\u001b[0;34m\"All Dogs Go to Heaven 2 (1996)\"\u001b[0m\u001b[0;34m]\u001b[0m\u001b[0;34m\u001b[0m\u001b[0m\n\u001b[0;32m----> 2\u001b[0;31m \u001b[0;32mprint\u001b[0m \u001b[0mtest\u001b[0m\u001b[0;34m[\u001b[0m\u001b[0;34m\"1\"\u001b[0m\u001b[0;34m]\u001b[0m\u001b[0;34m[\u001b[0m\u001b[0;34m\"Akira (1988)\"\u001b[0m\u001b[0;34m]\u001b[0m\u001b[0;34m\u001b[0m\u001b[0m\n\u001b[0m",
      "\u001b[0;31mKeyError\u001b[0m: 'Akira (1988)'"
     ]
    }
   ],
   "source": [
    "print train[\"1\"][\"All Dogs Go to Heaven 2 (1996)\"]\n",
    "print test[\"1\"][\"Akira (1988)\"]"
   ]
  },
  {
   "cell_type": "code",
   "execution_count": 80,
   "metadata": {
    "collapsed": false
   },
   "outputs": [
    {
     "data": {
      "text/plain": [
       "944"
      ]
     },
     "execution_count": 80,
     "metadata": {},
     "output_type": "execute_result"
    }
   ],
   "source": [
    "len(rawMatrixTest)"
   ]
  },
  {
   "cell_type": "code",
   "execution_count": 78,
   "metadata": {
    "collapsed": false
   },
   "outputs": [
    {
     "name": "stdout",
     "output_type": "stream",
     "text": [
      "(5.0, 2.5931883684545336)\n",
      "(4.0, 5.0047797241971219)\n",
      "(4.0, 3.469010363892524)\n",
      "(4.0, 3.8143373120809678)\n",
      "(4.0, 5.1669137101192657)\n",
      "(3.0, 4.4963428645445518)\n",
      "(5.0, 3.6366298516628395)\n",
      "(3.0, 3.1448263066152959)\n",
      "(5.0, 2.7517463531147883)\n",
      "(5.0, 4.6741099156866328)\n"
     ]
    },
    {
     "data": {
      "text/plain": [
       "2.0909226578962459"
      ]
     },
     "execution_count": 78,
     "metadata": {},
     "output_type": "execute_result"
    }
   ],
   "source": [
    "t = []\n",
    "c = 10\n",
    "for idxi,i in enumerate(rawMatrixTest):\n",
    "    for idxj,j in enumerate(i):\n",
    "        if rawMatrixTest[idxi][idxj] != 0:\n",
    "            t.append( (resMatrix[idxi][idxj] - float(rawMatrixTest[idxi][idxj]))**2 )\n",
    "            if c>0:\n",
    "                print(rawMatrixTest[idxi][idxj],resMatrix[idxi][idxj])\n",
    "                c-=1\n",
    "np.array(t).mean()"
   ]
  },
  {
   "cell_type": "code",
   "execution_count": 87,
   "metadata": {
    "collapsed": false
   },
   "outputs": [
    {
     "name": "stdout",
     "output_type": "stream",
     "text": [
      "(5.0, 2.5931883684545336)\n",
      "(4.0, 5.0047797241971219)\n",
      "(4.0, 3.469010363892524)\n",
      "(4.0, 3.8143373120809678)\n",
      "(4.0, 5.1669137101192657)\n",
      "(3.0, 4.4963428645445518)\n",
      "(5.0, 3.6366298516628395)\n",
      "(3.0, 3.1448263066152959)\n",
      "(5.0, 2.7517463531147883)\n",
      "(5.0, 4.6741099156866328)\n"
     ]
    },
    {
     "data": {
      "text/plain": [
       "2.0909226578962459"
      ]
     },
     "execution_count": 87,
     "metadata": {},
     "output_type": "execute_result"
    }
   ],
   "source": [
    "t = []\n",
    "c = 10\n",
    "for idxi,i in enumerate(resMatrix):\n",
    "    for idxj,j in enumerate(i):\n",
    "        if rawMatrixTest[idxi][idxj] != 0:\n",
    "            t.append( (resMatrix[idxi][idxj] - float(rawMatrix[idxi][idxj]))**2 )\n",
    "            if c>0:\n",
    "                print(rawMatrix[idxi][idxj],resMatrix[idxi][idxj])\n",
    "                c-=1\n",
    "np.array(t).mean()"
   ]
  },
  {
   "cell_type": "code",
   "execution_count": 108,
   "metadata": {
    "collapsed": false
   },
   "outputs": [
    {
     "name": "stdout",
     "output_type": "stream",
     "text": [
      "(5.0, 4.3114944585785064)\n",
      "(3.0, 3.3257920434476187)\n",
      "(3.0, 4.0022181201367522)\n"
     ]
    },
    {
     "data": {
      "text/plain": [
       "0.45320954210197834"
      ]
     },
     "execution_count": 108,
     "metadata": {},
     "output_type": "execute_result"
    }
   ],
   "source": [
    "t = []\n",
    "c = 3\n",
    "for idxi,i in enumerate(rawMatrixTrain):\n",
    "    for idxj,j in enumerate(i):\n",
    "        if rawMatrixTrain[idxi][idxj] != 0:\n",
    "            t.append( (float(rawMatrixTrain[idxi][idxj]) - resMatrix[idxi][idxj])**2 )\n",
    "            if c>0:\n",
    "                print(rawMatrixTrain[idxi][idxj],resMatrix[idxi][idxj])\n",
    "                c-=1\n",
    "np.array(t).mean()"
   ]
  },
  {
   "cell_type": "code",
   "execution_count": 80,
   "metadata": {
    "collapsed": false
   },
   "outputs": [
    {
     "ename": "KeyError",
     "evalue": "0.0",
     "output_type": "error",
     "traceback": [
      "\u001b[0;31m---------------------------------------------------------------------------\u001b[0m",
      "\u001b[0;31mKeyError\u001b[0m                                  Traceback (most recent call last)",
      "\u001b[0;32m<ipython-input-80-0241c027db0a>\u001b[0m in \u001b[0;36m<module>\u001b[0;34m()\u001b[0m\n\u001b[0;32m----> 1\u001b[0;31m \u001b[0mnp\u001b[0m\u001b[0;34m.\u001b[0m\u001b[0marray\u001b[0m\u001b[0;34m(\u001b[0m\u001b[0;34m[\u001b[0m \u001b[0;34m(\u001b[0m\u001b[0mfloat\u001b[0m\u001b[0;34m(\u001b[0m\u001b[0mra\u001b[0m\u001b[0;34m[\u001b[0m\u001b[0;36m2\u001b[0m\u001b[0;34m]\u001b[0m\u001b[0;34m)\u001b[0m \u001b[0;34m-\u001b[0m \u001b[0mmf\u001b[0m\u001b[0;34m.\u001b[0m\u001b[0mpredict\u001b[0m\u001b[0;34m(\u001b[0m\u001b[0mra\u001b[0m\u001b[0;34m[\u001b[0m\u001b[0;36m0\u001b[0m\u001b[0;34m]\u001b[0m\u001b[0;34m,\u001b[0m\u001b[0mra\u001b[0m\u001b[0;34m[\u001b[0m\u001b[0;36m1\u001b[0m\u001b[0;34m]\u001b[0m\u001b[0;34m)\u001b[0m\u001b[0;34m)\u001b[0m\u001b[0;34m**\u001b[0m\u001b[0;36m2\u001b[0m \u001b[0;32mfor\u001b[0m \u001b[0mra\u001b[0m \u001b[0;32min\u001b[0m \u001b[0mrawMatrixTest\u001b[0m\u001b[0;34m]\u001b[0m\u001b[0;34m)\u001b[0m\u001b[0;34m.\u001b[0m\u001b[0mmean\u001b[0m\u001b[0;34m(\u001b[0m\u001b[0;34m)\u001b[0m\u001b[0;34m\u001b[0m\u001b[0m\n\u001b[0m",
      "\u001b[0;32m<ipython-input-52-9fb67320d8a3>\u001b[0m in \u001b[0;36mpredict\u001b[0;34m(self, user, movie)\u001b[0m\n\u001b[1;32m      8\u001b[0m \u001b[0;34m\u001b[0m\u001b[0m\n\u001b[1;32m      9\u001b[0m     \u001b[0;32mdef\u001b[0m \u001b[0mpredict\u001b[0m\u001b[0;34m(\u001b[0m\u001b[0mself\u001b[0m\u001b[0;34m,\u001b[0m\u001b[0muser\u001b[0m\u001b[0;34m,\u001b[0m\u001b[0mmovie\u001b[0m\u001b[0;34m)\u001b[0m\u001b[0;34m:\u001b[0m\u001b[0;34m\u001b[0m\u001b[0m\n\u001b[0;32m---> 10\u001b[0;31m         \u001b[0;32mreturn\u001b[0m \u001b[0mself\u001b[0m\u001b[0;34m.\u001b[0m\u001b[0mresMatrix\u001b[0m\u001b[0;34m[\u001b[0m\u001b[0mint\u001b[0m\u001b[0;34m(\u001b[0m\u001b[0muser\u001b[0m\u001b[0;34m)\u001b[0m\u001b[0;34m]\u001b[0m\u001b[0;34m[\u001b[0m\u001b[0mint\u001b[0m\u001b[0;34m(\u001b[0m\u001b[0mself\u001b[0m\u001b[0;34m.\u001b[0m\u001b[0mdicI\u001b[0m\u001b[0;34m[\u001b[0m\u001b[0mmovie\u001b[0m\u001b[0;34m]\u001b[0m\u001b[0;34m)\u001b[0m\u001b[0;34m]\u001b[0m\u001b[0;34m\u001b[0m\u001b[0m\n\u001b[0m",
      "\u001b[0;31mKeyError\u001b[0m: 0.0"
     ]
    }
   ],
   "source": [
    "np.array([ (float(ra[2]) - mf.predict(ra[0],ra[1]))**2 for ra in rawMatrixTest]).mean()"
   ]
  },
  {
   "cell_type": "markdown",
   "metadata": {},
   "source": [
    "---"
   ]
  },
  {
   "cell_type": "code",
   "execution_count": 124,
   "metadata": {
    "collapsed": true
   },
   "outputs": [],
   "source": [
    "R = [\n",
    "     [5,3,0,1],\n",
    "     [4,0,0,1],\n",
    "     [1,1,0,5],\n",
    "     [1,0,0,4],\n",
    "     [0,1,5,4],\n",
    "    ]\n",
    "\n",
    "R = numpy.array(R)\n",
    "\n",
    "N = len(R)\n",
    "M = len(R[0])\n",
    "K = 2\n",
    "\n",
    "P = numpy.random.rand(N,K)\n",
    "Q = numpy.random.rand(M,K)\n",
    "\n",
    "nP, nQ = matrix_factorization(R, P, Q, K)\n",
    "nR = numpy.dot(nP, nQ.T)"
   ]
  },
  {
   "cell_type": "code",
   "execution_count": 125,
   "metadata": {
    "collapsed": false
   },
   "outputs": [
    {
     "data": {
      "text/plain": [
       "array([[ 4.99650255,  2.93418578,  3.99234219,  0.99820419],\n",
       "       [ 3.96298764,  2.33573468,  3.36035393,  0.99707133],\n",
       "       [ 1.0716961 ,  0.82538354,  5.337668  ,  4.96193011],\n",
       "       [ 0.9633362 ,  0.72181627,  4.33820223,  3.97311633],\n",
       "       [ 1.81106643,  1.21517699,  4.91344271,  4.03428495]])"
      ]
     },
     "execution_count": 125,
     "metadata": {},
     "output_type": "execute_result"
    }
   ],
   "source": [
    "nR"
   ]
  },
  {
   "cell_type": "markdown",
   "metadata": {},
   "source": [
    "---"
   ]
  },
  {
   "cell_type": "code",
   "execution_count": 41,
   "metadata": {
    "collapsed": true
   },
   "outputs": [],
   "source": [
    "import numpy\n",
    "\n",
    "def matrix_factorization(R, K, steps=100, alpha=0.0002, beta=0.02):\n",
    "    N = len(R)\n",
    "    M = len(R[0])\n",
    "\n",
    "    P = numpy.random.rand(N,K)\n",
    "    Q = numpy.random.rand(M,K)\n",
    "    Q = Q.T\n",
    "    for step in xrange(steps):\n",
    "        for i in xrange(len(R)):\n",
    "            for j in xrange(len(R[i])):\n",
    "                if R[i][j] > 0:\n",
    "                    eij = R[i][j] - numpy.dot(P[i,:],Q[:,j])\n",
    "                    for k in xrange(K):\n",
    "                        P[i][k] = P[i][k] + alpha * (2 * eij * Q[k][j] - beta * P[i][k])\n",
    "                        Q[k][j] = Q[k][j] + alpha * (2 * eij * P[i][k] - beta * Q[k][j])\n",
    "        eR = numpy.dot(P,Q)\n",
    "        e = 0\n",
    "        for i in xrange(len(R)):\n",
    "            for j in xrange(len(R[i])):\n",
    "                if R[i][j] > 0:\n",
    "                    e = e + pow(R[i][j] - numpy.dot(P[i,:],Q[:,j]), 2)\n",
    "                    for k in xrange(K):\n",
    "                        e = e + (beta/2) * (pow(P[i][k],2) + pow(Q[k][j],2))\n",
    "        if e < 0.001:\n",
    "            break\n",
    "    return P, Q.T"
   ]
  },
  {
   "cell_type": "code",
   "execution_count": 43,
   "metadata": {
    "collapsed": false
   },
   "outputs": [
    {
     "name": "stdout",
     "output_type": "stream",
     "text": [
      "CPU times: user 34.9 s, sys: 229 ms, total: 35.1 s\n",
      "Wall time: 35.3 s\n"
     ]
    }
   ],
   "source": [
    "%%time\n",
    "\n",
    "R = rawMatrix\n",
    "\n",
    "nP, nQ = matrix_factorization(R, 10, steps=2)\n",
    "nR = numpy.dot(nP, nQ.T)"
   ]
  },
  {
   "cell_type": "code",
   "execution_count": 44,
   "metadata": {
    "collapsed": false
   },
   "outputs": [
    {
     "data": {
      "text/plain": [
       "array([[ 2.44278256,  2.87154427,  1.80549856,  2.37639505,  2.57721859],\n",
       "       [ 2.58347667,  3.63952216,  1.88785598,  2.42137971,  3.78439782],\n",
       "       [ 3.00074652,  3.17910098,  2.18194343,  3.32871375,  3.48184956],\n",
       "       [ 3.98021546,  4.53548673,  2.88747289,  3.50115542,  3.84920728],\n",
       "       [ 3.26661088,  4.4907536 ,  2.7049045 ,  3.2442335 ,  4.14210547]])"
      ]
     },
     "execution_count": 44,
     "metadata": {},
     "output_type": "execute_result"
    }
   ],
   "source": [
    "nR[:5,:5]"
   ]
  },
  {
   "cell_type": "code",
   "execution_count": 45,
   "metadata": {
    "collapsed": false
   },
   "outputs": [
    {
     "data": {
      "text/plain": [
       "array([[ 0.,  0.,  0.,  0.,  0.],\n",
       "       [ 0.,  5.,  3.,  4.,  3.],\n",
       "       [ 0.,  4.,  0.,  0.,  0.],\n",
       "       [ 0.,  0.,  0.,  0.,  0.],\n",
       "       [ 0.,  0.,  0.,  0.,  0.]])"
      ]
     },
     "execution_count": 45,
     "metadata": {},
     "output_type": "execute_result"
    }
   ],
   "source": [
    "rawMatrix[:5,:5]"
   ]
  },
  {
   "cell_type": "code",
   "execution_count": 46,
   "metadata": {
    "collapsed": false
   },
   "outputs": [
    {
     "data": {
      "text/plain": [
       "2.7812982370145853"
      ]
     },
     "execution_count": 46,
     "metadata": {},
     "output_type": "execute_result"
    }
   ],
   "source": [
    "mf= evalMF(nR,data,movies)\n",
    "mf.predict(\"1\",\"Akira (1988)\")"
   ]
  },
  {
   "cell_type": "code",
   "execution_count": 47,
   "metadata": {
    "collapsed": false
   },
   "outputs": [
    {
     "data": {
      "text/plain": [
       "1.5532842864204328"
      ]
     },
     "execution_count": 47,
     "metadata": {},
     "output_type": "execute_result"
    }
   ],
   "source": [
    "np.array([ (float(ra[2]) - mf.predict(ra[0],ra[1]))**2 for ra in rawArrayTest]).mean()"
   ]
  },
  {
   "cell_type": "code",
   "execution_count": null,
   "metadata": {
    "collapsed": true
   },
   "outputs": [],
   "source": []
  }
 ],
 "metadata": {
  "kernelspec": {
   "display_name": "Python 2",
   "language": "python",
   "name": "python2"
  },
  "language_info": {
   "codemirror_mode": {
    "name": "ipython",
    "version": 2
   },
   "file_extension": ".py",
   "mimetype": "text/x-python",
   "name": "python",
   "nbconvert_exporter": "python",
   "pygments_lexer": "ipython2",
   "version": "2.7.10"
  }
 },
 "nbformat": 4,
 "nbformat_minor": 0
}
