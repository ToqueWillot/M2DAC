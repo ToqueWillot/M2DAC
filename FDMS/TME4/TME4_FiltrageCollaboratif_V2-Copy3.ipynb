{
 "cells": [
  {
   "cell_type": "markdown",
   "metadata": {},
   "source": [
    "# TME4 FDMS Collaborative Filtering \n",
    "\n",
    "Florian Toqué & Paul Willot"
   ]
  },
  {
   "cell_type": "code",
   "execution_count": 1,
   "metadata": {
    "collapsed": true
   },
   "outputs": [],
   "source": [
    "from random import random\n",
    "import math\n",
    "import numpy as np\n",
    "import copy"
   ]
  },
  {
   "cell_type": "markdown",
   "metadata": {},
   "source": [
    "## Loading the data"
   ]
  },
  {
   "cell_type": "code",
   "execution_count": 2,
   "metadata": {
    "collapsed": false
   },
   "outputs": [],
   "source": [
    "def loadMovieLens(path='./data/movielens'):\n",
    "    #Get movie titles\n",
    "    movies={}\n",
    "    rev_movies={}\n",
    "    for idx,line in enumerate(open(path+'/u.item')):\n",
    "        idx,title=line.split('|')[0:2]\n",
    "        movies[idx]=title\n",
    "        rev_movies[title]=idx\n",
    "\n",
    "    # Load data\n",
    "    prefs={}\n",
    "    for line in open(path+'/u.data'):\n",
    "        (user,movieid,rating,ts)=line.split('\\t')\n",
    "        prefs.setdefault(user,{})\n",
    "        prefs[user][movies[movieid]]=float(rating)\n",
    "        \n",
    "    return prefs,rev_movies"
   ]
  },
  {
   "cell_type": "code",
   "execution_count": 3,
   "metadata": {
    "collapsed": false
   },
   "outputs": [],
   "source": [
    "data,movies = loadMovieLens(\"data/ml-100k\")"
   ]
  },
  {
   "cell_type": "markdown",
   "metadata": {},
   "source": [
    "Content example"
   ]
  },
  {
   "cell_type": "code",
   "execution_count": 4,
   "metadata": {
    "collapsed": false
   },
   "outputs": [
    {
     "data": {
      "text/plain": [
       "{'187 (1997)': 2.0,\n",
       " 'Air Force One (1997)': 2.0,\n",
       " 'Alien: Resurrection (1997)': 3.0,\n",
       " 'Apostle, The (1997)': 4.0,\n",
       " 'Bean (1997)': 2.0,\n",
       " 'Boogie Nights (1997)': 5.0,\n",
       " 'Chasing Amy (1997)': 3.0,\n",
       " 'Conspiracy Theory (1997)': 5.0,\n",
       " 'Contact (1997)': 2.0,\n",
       " 'Cop Land (1997)': 4.0,\n",
       " 'Crash (1996)': 1.0,\n",
       " 'Critical Care (1997)': 1.0,\n",
       " \"Dante's Peak (1997)\": 2.0,\n",
       " 'Deconstructing Harry (1997)': 3.0,\n",
       " 'Deep Rising (1998)': 1.0,\n",
       " 'Desperate Measures (1998)': 4.0,\n",
       " \"Devil's Advocate, The (1997)\": 3.0,\n",
       " \"Devil's Own, The (1997)\": 1.0,\n",
       " 'Edge, The (1997)': 4.0,\n",
       " 'Event Horizon (1997)': 4.0,\n",
       " 'Everyone Says I Love You (1996)': 2.0,\n",
       " 'Fallen (1998)': 3.0,\n",
       " 'G.I. Jane (1997)': 2.0,\n",
       " 'Game, The (1997)': 2.0,\n",
       " 'Good Will Hunting (1997)': 2.0,\n",
       " 'Hard Rain (1998)': 3.0,\n",
       " 'Hoodlum (1997)': 3.0,\n",
       " 'House of Yes, The (1997)': 1.0,\n",
       " 'How to Be a Player (1997)': 1.0,\n",
       " 'In the Name of the Father (1993)': 2.0,\n",
       " 'Jackie Brown (1997)': 5.0,\n",
       " 'Kiss the Girls (1997)': 1.0,\n",
       " 'L.A. Confidential (1997)': 2.0,\n",
       " 'Liar Liar (1997)': 2.0,\n",
       " 'Lost Highway (1997)': 2.0,\n",
       " 'Mad City (1997)': 3.0,\n",
       " 'Man Who Knew Too Little, The (1997)': 4.0,\n",
       " 'Mimic (1997)': 2.0,\n",
       " 'Mother (1996)': 5.0,\n",
       " 'Murder at 1600 (1997)': 3.0,\n",
       " 'Paradise Lost: The Child Murders at Robin Hood Hills (1996)': 5.0,\n",
       " 'Playing God (1997)': 1.0,\n",
       " 'Prophecy II, The (1998)': 3.0,\n",
       " 'Return of the Jedi (1983)': 4.0,\n",
       " \"Schindler's List (1993)\": 4.0,\n",
       " 'Scream (1996)': 2.0,\n",
       " 'Sphere (1998)': 3.0,\n",
       " 'Spice World (1997)': 2.0,\n",
       " 'Starship Troopers (1997)': 3.0,\n",
       " 'U Turn (1997)': 3.0,\n",
       " \"Ulee's Gold (1997)\": 3.0,\n",
       " 'Wag the Dog (1997)': 5.0,\n",
       " 'Wedding Singer, The (1998)': 3.0}"
      ]
     },
     "execution_count": 4,
     "metadata": {},
     "output_type": "execute_result"
    }
   ],
   "source": [
    "data['3']"
   ]
  },
  {
   "cell_type": "markdown",
   "metadata": {},
   "source": [
    "### Splitting data between train/test  \n",
    "\n",
    "We avoid to let unseen data form the train set in the test set.  \n",
    "We also try to minimise the dataset reduction by splitting on each user."
   ]
  },
  {
   "cell_type": "code",
   "execution_count": 5,
   "metadata": {
    "collapsed": true
   },
   "outputs": [],
   "source": [
    "def getRawArray(data):\n",
    "    d = []\n",
    "    for u in data.keys():\n",
    "        for i in data[u].keys():\n",
    "            d.append([u,i,data[u][i]])\n",
    "    return np.array(d)"
   ]
  },
  {
   "cell_type": "code",
   "execution_count": 6,
   "metadata": {
    "collapsed": true
   },
   "outputs": [],
   "source": [
    "# splitting while avoiding to reduce the dataset too much\n",
    "def split_train_test(data,percent_test):\n",
    "    test={}\n",
    "    train={}\n",
    "    movie={}\n",
    "    for u in data.keys():\n",
    "        test.setdefault(u,{})\n",
    "        train.setdefault(u,{})\n",
    "        for movie in data[u]:\n",
    "            #print(data[u][movie])\n",
    "            if (random()<percent_test):\n",
    "                test[u][movie]=data[u][movie]\n",
    "            else:\n",
    "                train[u][movie]=data[u][movie]\n",
    "    return train, test"
   ]
  },
  {
   "cell_type": "code",
   "execution_count": 7,
   "metadata": {
    "collapsed": true
   },
   "outputs": [],
   "source": [
    "def split_train_test_by_movies(data,percent_test):\n",
    "    test={}\n",
    "    train={}\n",
    "    movie={}\n",
    "    for u in data.keys():\n",
    "        for movie in data[u]:\n",
    "            if (random()<percent_test):\n",
    "                try:\n",
    "                    test[movie][u]=data[u][movie]\n",
    "                except KeyError:\n",
    "                    test.setdefault(movie,{})\n",
    "                    test[movie][u]=data[u][movie]\n",
    "            else:\n",
    "                try:\n",
    "                    train[movie][u]=data[u][movie]\n",
    "                except KeyError:\n",
    "                    train.setdefault(movie,{})\n",
    "                    train[movie][u]=data[u][movie]\n",
    "    return train, test"
   ]
  },
  {
   "cell_type": "code",
   "execution_count": 8,
   "metadata": {
    "collapsed": true
   },
   "outputs": [],
   "source": [
    "percent_test=0.2\n",
    "train,test=split_train_test(data,percent_test)"
   ]
  },
  {
   "cell_type": "markdown",
   "metadata": {},
   "source": [
    "_split used for convenience on the average by movie baseline_"
   ]
  },
  {
   "cell_type": "code",
   "execution_count": 9,
   "metadata": {
    "collapsed": false
   },
   "outputs": [],
   "source": [
    "percent_test=0.2\n",
    "m_train,m_test=split_train_test_by_movies(data,percent_test)"
   ]
  },
  {
   "cell_type": "markdown",
   "metadata": {},
   "source": [
    "_cleaning_"
   ]
  },
  {
   "cell_type": "code",
   "execution_count": 10,
   "metadata": {
    "collapsed": false
   },
   "outputs": [],
   "source": [
    "def deleteUnseenInTest(train,test):\n",
    "    for k in test.keys():\n",
    "        try:\n",
    "            train[k]\n",
    "        except KeyError:\n",
    "            test.pop(k,None)"
   ]
  },
  {
   "cell_type": "code",
   "execution_count": 11,
   "metadata": {
    "collapsed": true
   },
   "outputs": [],
   "source": [
    "deleteUnseenInTest(train,test)\n",
    "deleteUnseenInTest(m_train,m_test)"
   ]
  },
  {
   "cell_type": "markdown",
   "metadata": {},
   "source": [
    "Matrix used for fast evaluation"
   ]
  },
  {
   "cell_type": "code",
   "execution_count": 12,
   "metadata": {
    "collapsed": true
   },
   "outputs": [],
   "source": [
    "evalArrayAll = getRawArray(data)\n",
    "evalArrayTest = getRawArray(test)"
   ]
  },
  {
   "cell_type": "code",
   "execution_count": 13,
   "metadata": {
    "collapsed": false
   },
   "outputs": [
    {
     "data": {
      "text/plain": [
       "array([['344', 'Return of the Jedi (1983)', '3.0'],\n",
       "       ['344', 'First Wives Club, The (1996)', '3.0'],\n",
       "       ['344', 'Face/Off (1997)', '4.0'],\n",
       "       ['344', 'Big Night (1996)', '5.0'],\n",
       "       ['344', 'Sleepers (1996)', '4.0'],\n",
       "       ['344', 'English Patient, The (1996)', '3.0'],\n",
       "       ['344', 'Toy Story (1995)', '3.0'],\n",
       "       ['344', 'Interview with the Vampire (1994)', '3.0'],\n",
       "       ['344', 'Alien (1979)', '5.0'],\n",
       "       ['344', 'Dragonheart (1996)', '3.0']], \n",
       "      dtype='|S81')"
      ]
     },
     "execution_count": 13,
     "metadata": {},
     "output_type": "execute_result"
    }
   ],
   "source": [
    "evalArrayTest[:10,:10]"
   ]
  },
  {
   "cell_type": "markdown",
   "metadata": {},
   "source": [
    "---"
   ]
  },
  {
   "cell_type": "markdown",
   "metadata": {},
   "source": [
    "## Baseline: mean by user"
   ]
  },
  {
   "cell_type": "code",
   "execution_count": 14,
   "metadata": {
    "collapsed": true
   },
   "outputs": [],
   "source": [
    "class baselineMeanUser:\n",
    "    def __init__(self):\n",
    "        self.users={}\n",
    "    def fit(self,train):\n",
    "        for user in train.keys():\n",
    "            note=0.0\n",
    "            for movie in train[user].keys():\n",
    "                note+=train[user][movie]\n",
    "            note=note/len(train[user])\n",
    "            self.users[user]=note\n",
    "        \n",
    "    def predict(self,users):\n",
    "        return [self.users[u] for u in users]"
   ]
  },
  {
   "cell_type": "code",
   "execution_count": 15,
   "metadata": {
    "collapsed": false
   },
   "outputs": [
    {
     "name": "stdout",
     "output_type": "stream",
     "text": [
      "Mean Error 1.078619\n"
     ]
    }
   ],
   "source": [
    "baseline_mu= baselineMeanUser()\n",
    "baseline_mu.fit(train)\n",
    "pred = baseline_mu.predict(evalArrayTest[:,0])\n",
    "print(\"Mean Error %0.6f\" %(\n",
    "        (np.array(pred) - np.array(evalArrayTest[:,2], float)) ** 2).mean())"
   ]
  },
  {
   "cell_type": "code",
   "execution_count": 16,
   "metadata": {
    "collapsed": false
   },
   "outputs": [],
   "source": [
    "class baselineMeanMovie:\n",
    "    def __init__(self):\n",
    "        self.movies={}\n",
    "    def fit(self,train):\n",
    "        for movie in train.keys():\n",
    "            note=0.0\n",
    "            for user in train[movie].keys():\n",
    "                note+=train[movie][user]\n",
    "            note=note/len(train[movie])\n",
    "            self.movies[movie]=note\n",
    "        \n",
    "    def predict(self,movies):\n",
    "        res=[]\n",
    "        for m in movies:\n",
    "            try:\n",
    "                res.append(self.movies[m])\n",
    "            except:\n",
    "                res.append(3)\n",
    "        return res"
   ]
  },
  {
   "cell_type": "code",
   "execution_count": 17,
   "metadata": {
    "collapsed": false
   },
   "outputs": [
    {
     "name": "stdout",
     "output_type": "stream",
     "text": [
      "Mean Error 1.009150\n"
     ]
    }
   ],
   "source": [
    "baseline_mm= baselineMeanMovie()\n",
    "baseline_mm.fit(m_train)\n",
    "pred = baseline_mm.predict(evalArrayTest[:,1])\n",
    "print(\"Mean Error %0.6f\" %(\n",
    "        (np.array(pred) - np.array(evalArrayTest[:,2], float)) ** 2).mean())"
   ]
  },
  {
   "cell_type": "markdown",
   "metadata": {},
   "source": [
    "---"
   ]
  },
  {
   "cell_type": "markdown",
   "metadata": {},
   "source": [
    "Raw matrix used for convenience and clarity.  \n",
    "Structure like scipy sparse matrix or python dictionnaries may be used for speedup."
   ]
  },
  {
   "cell_type": "markdown",
   "metadata": {},
   "source": [
    "_Complete dataset_"
   ]
  },
  {
   "cell_type": "code",
   "execution_count": 18,
   "metadata": {
    "collapsed": false
   },
   "outputs": [],
   "source": [
    "rawMatrix = np.zeros((len(data.keys()),1682))\n",
    "for u in data:\n",
    "    for m in data[u]:\n",
    "        rawMatrix[int(u)-1][int(movies[m])-1] = data[u][m]"
   ]
  },
  {
   "cell_type": "code",
   "execution_count": 19,
   "metadata": {
    "collapsed": false
   },
   "outputs": [
    {
     "name": "stdout",
     "output_type": "stream",
     "text": [
      "(943, 1682)\n"
     ]
    },
    {
     "data": {
      "text/plain": [
       "array([[ 5.,  3.,  4.,  3.,  3.,  5.,  4.,  1.,  5.,  3.],\n",
       "       [ 4.,  0.,  0.,  0.,  0.,  0.,  0.,  0.,  0.,  2.],\n",
       "       [ 0.,  0.,  0.,  0.,  0.,  0.,  0.,  0.,  0.,  0.],\n",
       "       [ 0.,  0.,  0.,  0.,  0.,  0.,  0.,  0.,  0.,  0.],\n",
       "       [ 4.,  3.,  0.,  0.,  0.,  0.,  0.,  0.,  0.,  0.],\n",
       "       [ 4.,  0.,  0.,  0.,  0.,  0.,  2.,  4.,  4.,  0.],\n",
       "       [ 0.,  0.,  0.,  5.,  0.,  0.,  5.,  5.,  5.,  4.],\n",
       "       [ 0.,  0.,  0.,  0.,  0.,  0.,  3.,  0.,  0.,  0.],\n",
       "       [ 0.,  0.,  0.,  0.,  0.,  5.,  4.,  0.,  0.,  0.],\n",
       "       [ 4.,  0.,  0.,  4.,  0.,  0.,  4.,  0.,  4.,  0.]])"
      ]
     },
     "execution_count": 19,
     "metadata": {},
     "output_type": "execute_result"
    }
   ],
   "source": [
    "print(np.shape(rawMatrix))\n",
    "rawMatrix[:10,:10]"
   ]
  },
  {
   "cell_type": "markdown",
   "metadata": {},
   "source": [
    "_Train and test dataset_"
   ]
  },
  {
   "cell_type": "code",
   "execution_count": 20,
   "metadata": {
    "collapsed": false
   },
   "outputs": [],
   "source": [
    "rawMatrixTrain = np.zeros((len(data.keys()),1682))\n",
    "for u in train:\n",
    "    for m in train[u]:\n",
    "        rawMatrixTrain[int(u)-1][int(movies[m])-1] = train[u][m]\n",
    "        \n",
    "rawMatrixTest = np.zeros((len(data.keys()),1682))\n",
    "for u in test:\n",
    "    for m in test[u]:\n",
    "        rawMatrixTest[int(u)-1][int(movies[m])-1] = test[u][m]"
   ]
  },
  {
   "cell_type": "markdown",
   "metadata": {},
   "source": [
    "---\n",
    "## [Non-negative Matrix Factorization](https://en.wikipedia.org/wiki/Non-negative_matrix_factorization)\n",
    "\n",
    "Fast implementation using numpy's matrix processing. Sadly, I can't avoid the overfitting starting after few iterations."
   ]
  },
  {
   "cell_type": "code",
   "execution_count": 21,
   "metadata": {
    "collapsed": false
   },
   "outputs": [],
   "source": [
    "#from scipy import linalg\n",
    "\n",
    "def nmf(X, latent_features, max_iter=100, eps = 1e-5,printevery=100):\n",
    "\n",
    "    print \"NMF with %d latent features, %d iterations.\"%(latent_features, max_iter)\n",
    "\n",
    "    # mask used to ignore null element (coded by zero)\n",
    "    mask = np.sign(X)\n",
    "\n",
    "    # randomly initialized matrix\n",
    "    rows, columns = X.shape\n",
    "    A = np.random.rand(rows, latent_features)\n",
    "    \n",
    "    Y = np.random.rand(latent_features, columns)\n",
    "    # Not used as I couldn't find significant improvments\n",
    "    #Y = linalg.lstsq(A, X)[0]  # initializing that way as recommanded in a blog post\n",
    "    #Y = np.maximum(Y, eps)     # avoiding too low values\n",
    "\n",
    "    masked_X = mask * X\n",
    "    masktest = np.sign(rawMatrixTest)    # used for prints\n",
    "    masktrain = np.sign(rawMatrixTrain)  # used for prints\n",
    "\n",
    "    for i in range(1, max_iter + 1):\n",
    "\n",
    "        top = np.dot(masked_X, Y.T)\n",
    "        bottom = (np.dot((mask * np.dot(A, Y)), Y.T)) + eps\n",
    "        A *= top / bottom\n",
    "        \n",
    "        top = np.dot(A.T, masked_X)\n",
    "        bottom = np.dot(A.T, mask * np.dot(A, Y)) + eps\n",
    "        Y *= top / bottom\n",
    "\n",
    "\n",
    "        # evaluation\n",
    "        if i % printevery == 0 or i == 1 or i == max_iter:\n",
    "            X_est = np.dot(A, Y)\n",
    "            q = masktest*X_est - rawMatrixTest\n",
    "            q_train = masktrain*X_est - rawMatrixTrain\n",
    "            print \"Iteration %d, Err %.05f, Err train %.05f\"%( i, (q*q).sum()/ masktest.sum(), (q_train*q_train).sum()/ masktest.sum() )\n",
    "            \n",
    "    return A, Y"
   ]
  },
  {
   "cell_type": "code",
   "execution_count": 22,
   "metadata": {
    "collapsed": false
   },
   "outputs": [
    {
     "name": "stdout",
     "output_type": "stream",
     "text": [
      "NMF with 100 latent features, 5 iterations.\n",
      "Iteration 1, Err 0.95052, Err train 3.40552\n",
      "Iteration 2, Err 0.91779, Err train 3.22001\n",
      "Iteration 3, Err 0.91638, Err train 3.15463\n",
      "Iteration 4, Err 0.91650, Err train 3.09610\n",
      "Iteration 5, Err 0.91685, Err train 3.03950\n",
      "CPU times: user 975 ms, sys: 163 ms, total: 1.14 s\n",
      "Wall time: 700 ms\n"
     ]
    }
   ],
   "source": [
    "%%time\n",
    "A,Y = nmf(rawMatrixTrain,100,eps = 1e-5,max_iter=5,printevery=1)\n",
    "resMatrix = A.dot(Y)"
   ]
  },
  {
   "cell_type": "markdown",
   "metadata": {},
   "source": [
    "We see that it quickly get **better than the baseline**.  \n",
    "However, we see below that it **overfit** after that:"
   ]
  },
  {
   "cell_type": "code",
   "execution_count": 25,
   "metadata": {
    "collapsed": false
   },
   "outputs": [
    {
     "name": "stdout",
     "output_type": "stream",
     "text": [
      "NMF with 10 latent features, 500 iterations.\n",
      "Iteration 1, Err 1.09246, Err train 3.92730\n",
      "Iteration 100, Err 1.06885, Err train 2.21423\n",
      "Iteration 200, Err 1.10649, Err train 2.02401\n",
      "Iteration 300, Err 1.13376, Err train 1.95647\n",
      "Iteration 400, Err 1.15716, Err train 1.92148\n",
      "Iteration 500, Err 1.17427, Err train 1.90105\n",
      "CPU times: user 25.7 s, sys: 4.81 s, total: 30.5 s\n",
      "Wall time: 17.5 s\n"
     ]
    }
   ],
   "source": [
    "%%time\n",
    "A,Y = nmf(rawMatrixTrain,10,eps = 1e-5,max_iter=500,printevery=100)\n",
    "resMatrix = A.dot(Y)"
   ]
  },
  {
   "cell_type": "markdown",
   "metadata": {},
   "source": [
    "This is due to the high sparsity of the matrix.  \n",
    "We can of course reduce the features matrix size to avoid overfitting, but that will limit further improvments."
   ]
  },
  {
   "cell_type": "code",
   "execution_count": 24,
   "metadata": {
    "collapsed": false
   },
   "outputs": [
    {
     "name": "stdout",
     "output_type": "stream",
     "text": [
      "NMF with 1 latent features, 100 iterations.\n",
      "Iteration 1, Err 0.95479, Err train 3.48068\n",
      "Iteration 20, Err 0.90113, Err train 3.28905\n",
      "Iteration 40, Err 0.90113, Err train 3.28905\n",
      "Iteration 60, Err 0.90113, Err train 3.28905\n",
      "Iteration 80, Err 0.90113, Err train 3.28905\n",
      "Iteration 100, Err 0.90113, Err train 3.28905\n",
      "CPU times: user 3.43 s, sys: 1.12 s, total: 4.55 s\n",
      "Wall time: 3.43 s\n"
     ]
    }
   ],
   "source": [
    "%%time\n",
    "A,Y = nmf(rawMatrixTrain,1,eps = 1e-5,max_iter=100,printevery=20)\n",
    "resMatrix = A.dot(Y)"
   ]
  },
  {
   "cell_type": "markdown",
   "metadata": {},
   "source": [
    "Despite good results in few seconds on this dataset, this can only get us so far.  \n",
    "We then have to add regularization to the cost function."
   ]
  },
  {
   "cell_type": "markdown",
   "metadata": {},
   "source": [
    "#### Evaluation"
   ]
  },
  {
   "cell_type": "code",
   "execution_count": 51,
   "metadata": {
    "collapsed": true
   },
   "outputs": [],
   "source": [
    "class evalMF:\n",
    "    def __init__(self,resMatrix,dicU,dicI):\n",
    "        self.resMatrix=resMatrix\n",
    "        self.dicU = dicU\n",
    "        self.dicI = dicI\n",
    "    def fit(self):\n",
    "        pass\n",
    "        \n",
    "    def predict(self,user,movie):\n",
    "        return self.resMatrix[int(user)][int(self.dicI[movie])]"
   ]
  },
  {
   "cell_type": "code",
   "execution_count": 37,
   "metadata": {
    "collapsed": false
   },
   "outputs": [],
   "source": [
    "mf= evalMF(resMatrix,data,movies)"
   ]
  },
  {
   "cell_type": "code",
   "execution_count": 52,
   "metadata": {
    "collapsed": false
   },
   "outputs": [
    {
     "data": {
      "text/plain": [
       "0.91739675737704607"
      ]
     },
     "execution_count": 52,
     "metadata": {},
     "output_type": "execute_result"
    }
   ],
   "source": [
    "np.array([ (float(ra[2]) - mf.predict(ra[0],ra[1]))**2 for ra in evalArrayTest]).mean()"
   ]
  },
  {
   "cell_type": "markdown",
   "metadata": {},
   "source": [
    "We usualy see an important difference between users, so we need to take the bias into account."
   ]
  },
  {
   "cell_type": "code",
   "execution_count": 53,
   "metadata": {
    "collapsed": false
   },
   "outputs": [
    {
     "data": {
      "text/plain": [
       "0.96738560601630563"
      ]
     },
     "execution_count": 53,
     "metadata": {},
     "output_type": "execute_result"
    }
   ],
   "source": [
    "summ=0\n",
    "for i in data[\"1\"]:\n",
    "    summ+=(float(data[\"1\"][i]) - mf.predict(\"1\",i))**2\n",
    "summ/len(data[\"1\"])"
   ]
  },
  {
   "cell_type": "code",
   "execution_count": 54,
   "metadata": {
    "collapsed": false
   },
   "outputs": [
    {
     "data": {
      "text/plain": [
       "1.2849702647843322"
      ]
     },
     "execution_count": 54,
     "metadata": {},
     "output_type": "execute_result"
    }
   ],
   "source": [
    "summ=0\n",
    "for i in data[\"3\"]:\n",
    "    summ+=(float(data[\"3\"][i]) - mf.predict(\"3\",i))**2\n",
    "summ/len(data[\"3\"])"
   ]
  },
  {
   "cell_type": "markdown",
   "metadata": {},
   "source": [
    "---"
   ]
  },
  {
   "cell_type": "code",
   "execution_count": 470,
   "metadata": {
    "collapsed": false
   },
   "outputs": [],
   "source": [
    "#self.lamb*np.linalg.norm(self.theta)\n",
    "\n",
    "#from scipy import linalg\n",
    "\n",
    "def nmf(X, latent_features, max_iter=100, eps = 1e-5, printevery=100):\n",
    "\n",
    "    print \"NMF with %d latent features, %d iterations.\"%(latent_features, max_iter)\n",
    "    \n",
    "    #lamb = 0.2\n",
    "    \n",
    "\n",
    "    #X = copy.deepcopy(rawMatrix)\n",
    "    #with np.errstate(all='ignore'):\n",
    "    #avg_m = X.sum(0)/(X != 0).sum(0)\n",
    "    avg_u = X.sum(1)/(X != 0).sum(1)\n",
    "    #diff_m = avg_m - avg_m.mean()\n",
    "    diff_u = avg_u - avg_u.mean()\n",
    "    print(avg_u.mean())\n",
    "    #X = X - diff_m\n",
    "    for idxi,i in enumerate(X):\n",
    "        for idxj,j in enumerate(i):\n",
    "            if X[idxi,idxj]!=0:\n",
    "                X[idxi,idxj]+=diff_u[idxi]\n",
    "\n",
    "    # mask used to ignore null element (coded by zero)\n",
    "    mask = np.sign(X)\n",
    "\n",
    "    # randomly initialized matrix\n",
    "    rows, columns = X.shape\n",
    "    A = np.random.rand(rows, latent_features)\n",
    "    \n",
    "    Y = np.random.rand(latent_features, columns)\n",
    "    # Not used as I couldn't find significant improvments\n",
    "    #Y = linalg.lstsq(A, X)[0]  # initializing that way as recommanded in a blog post\n",
    "    #Y = np.maximum(Y, eps)     # avoiding too low values\n",
    "\n",
    "    masked_X = mask * X\n",
    "    masktest = np.sign(rawMatrixTest)    # used for prints\n",
    "    masktrain = np.sign(rawMatrixTrain)  # used for prints\n",
    "    \n",
    "    prev_A = A\n",
    "    prev_Y = Y\n",
    "    \n",
    "\n",
    "    \n",
    "\n",
    "    #diff_u = (avg_u - avg_u.mean().T).T\n",
    "    #(np.array([1,5])-mat.T).T\n",
    "    \n",
    "\n",
    "    for i in range(1, max_iter + 1):\n",
    "\n",
    "        top = np.dot(masked_X, Y.T)\n",
    "        esti = np.dot((mask * np.dot(A, Y)), Y.T)\n",
    "        #esti = esti - diff_u\n",
    "        bottom = esti + eps\n",
    "        #print(\"val\",np.shape(top/bottom))\n",
    "        A *= top / bottom\n",
    "        \n",
    "        top = np.dot(A.T, masked_X)\n",
    "        esti = np.dot(A.T, mask * np.dot(A, Y))\n",
    "        #esti = esti - diff_m\n",
    "        bottom = esti + eps\n",
    "        #print(\"lav\",np.shape(top/bottom))\n",
    "        tb = top / bottom\n",
    "        #print(np.linalg.norm(tb))\n",
    "        no = np.linalg.norm(tb)\n",
    "        Y *= tb\n",
    "        #Y *= (0.9 * tb) + ( 0.1 * ( tb + (1/no) )  )\n",
    "        \n",
    "        \"\"\"\n",
    "        if i % 10 == 0:\n",
    "            diff = np.abs(Y - prev_Y)\n",
    "            diff = diff - 0.1\n",
    "            Y = np.sign(diff)*Y\n",
    "            prev_Y = Y\n",
    "        \"\"\"\n",
    "\n",
    "        # evaluation\n",
    "        if i % 10 == 0 or i == 1 or i == max_iter:\n",
    "            X_est = np.dot(A, Y)\n",
    "            q = masktest*X_est - rawMatrixTest\n",
    "            q_train = masktrain*X_est - rawMatrixTrain\n",
    "            #print(np.linalg.norm(tb))\n",
    "            print \"Iteration %d, Err %.05f, Err train %.05f\"%( i, (q*q).sum()/ masktest.sum(), (q_train*q_train).sum()/ masktest.sum() )\n",
    "            \n",
    "    return A, Y"
   ]
  },
  {
   "cell_type": "code",
   "execution_count": 450,
   "metadata": {
    "collapsed": false
   },
   "outputs": [
    {
     "name": "stdout",
     "output_type": "stream",
     "text": [
      "[[ 0  3  7]\n",
      " [-3  0  4]]\n",
      "[[ 0 -1 -2]\n",
      " [ 1  0 -1]]\n"
     ]
    }
   ],
   "source": [
    "mat = np.array([[1,2,3],\n",
    "       [4,5,6]])\n",
    "print(np.array([1,5,10])-mat)\n",
    "print (np.array([1,5])-mat.T).T"
   ]
  },
  {
   "cell_type": "code",
   "execution_count": 454,
   "metadata": {
    "collapsed": false
   },
   "outputs": [
    {
     "name": "stdout",
     "output_type": "stream",
     "text": [
      "3.58825202241\n"
     ]
    }
   ],
   "source": [
    "X = copy.deepcopy(rawMatrix)\n",
    "#with np.errstate(all='ignore'):\n",
    "#avg_m = X.sum(0)/(X != 0).sum(0)\n",
    "avg_u = X.sum(1)/(X != 0).sum(1)\n",
    "#diff_m = avg_m - avg_m.mean()\n",
    "diff_u = avg_u - avg_u.mean()\n",
    "print(avg_u.mean())\n",
    "#X = X - diff_m\n",
    "for idxi,i in enumerate(X):\n",
    "    for idxj,j in enumerate(i):\n",
    "        if X[idxi,idxj]!=0:\n",
    "            X[idxi,idxj]+=diff_u[idxi]"
   ]
  },
  {
   "cell_type": "code",
   "execution_count": 469,
   "metadata": {
    "collapsed": false
   },
   "outputs": [
    {
     "name": "stdout",
     "output_type": "stream",
     "text": [
      "NMF with 1 latent features, 100 iterations.\n",
      "Iteration 1, Err 0.96388, Err train 3.61444\n",
      "Iteration 10, Err 0.90375, Err train 3.37212\n",
      "Iteration 20, Err 0.90375, Err train 3.37212\n",
      "Iteration 30, Err 0.90375, Err train 3.37212\n",
      "Iteration 40, Err 0.90375, Err train 3.37212\n",
      "Iteration 50, Err 0.90375, Err train 3.37212\n",
      "Iteration 60, Err 0.90375, Err train 3.37212\n",
      "Iteration 70, Err 0.90375, Err train 3.37212\n",
      "Iteration 80, Err 0.90375, Err train 3.37212\n",
      "Iteration 90, Err 0.90375, Err train 3.37212\n",
      "Iteration 100, Err 0.90375, Err train 3.37212\n",
      "CPU times: user 3.51 s, sys: 897 ms, total: 4.41 s\n",
      "Wall time: 3.29 s\n"
     ]
    }
   ],
   "source": [
    "%%time\n",
    "X = copy.deepcopy(rawMatrixTrain)\n",
    "A,Y = nmf(X,1,eps = 1e-5,max_iter=100,printevery=10)\n",
    "resMatrix = A.dot(Y)"
   ]
  },
  {
   "cell_type": "code",
   "execution_count": 355,
   "metadata": {
    "collapsed": false
   },
   "outputs": [
    {
     "name": "stdout",
     "output_type": "stream",
     "text": [
      "NMF with 1 latent features, 100 iterations.\n",
      "Iteration 1, Err 0.96614, Err train 3.61000\n",
      "Iteration 10, Err 0.90375, Err train 3.37212\n",
      "Iteration 20, Err 0.90375, Err train 3.37212\n",
      "Iteration 30, Err 0.90375, Err train 3.37212\n",
      "Iteration 40, Err 0.90375, Err train 3.37212\n",
      "Iteration 50, Err 0.90375, Err train 3.37212\n",
      "Iteration 60, Err 0.90375, Err train 3.37212\n",
      "Iteration 70, Err 0.90375, Err train 3.37212\n",
      "Iteration 80, Err 0.90375, Err train 3.37212\n",
      "Iteration 90, Err 0.90375, Err train 3.37212\n",
      "Iteration 100, Err 0.90375, Err train 3.37212\n",
      "CPU times: user 3.96 s, sys: 1.11 s, total: 5.08 s\n",
      "Wall time: 3.96 s\n"
     ]
    }
   ],
   "source": [
    "%%time\n",
    "A,Y = nmf(rawMatrixTrain,1,eps = 1e-5,max_iter=100,printevery=10)\n",
    "resMatrix = A.dot(Y)"
   ]
  },
  {
   "cell_type": "markdown",
   "metadata": {},
   "source": [
    "### /!\\ 18 movies have no ratings at all\n",
    "so we get a divide by zero warning. Ignored with:"
   ]
  },
  {
   "cell_type": "code",
   "execution_count": 321,
   "metadata": {
    "collapsed": false
   },
   "outputs": [],
   "source": [
    "with np.errstate(all='ignore'):\n",
    "    avg_m = rawMatrix.sum(0)/(rawMatrix != 0).sum(0)\n",
    "    avg_u = rawMatrix.sum(1)/(rawMatrix != 0).sum(1)"
   ]
  },
  {
   "cell_type": "code",
   "execution_count": 144,
   "metadata": {
    "collapsed": false
   },
   "outputs": [
    {
     "data": {
      "text/plain": [
       "(10, 1683)"
      ]
     },
     "execution_count": 144,
     "metadata": {},
     "output_type": "execute_result"
    }
   ],
   "source": [
    "np.shape(t)"
   ]
  },
  {
   "cell_type": "code",
   "execution_count": 124,
   "metadata": {
    "collapsed": false
   },
   "outputs": [],
   "source": [
    "tt = t[0]"
   ]
  },
  {
   "cell_type": "code",
   "execution_count": 125,
   "metadata": {
    "collapsed": false
   },
   "outputs": [
    {
     "data": {
      "text/plain": [
       "array([ 0.        ,  1.11761125,  1.06896261, ...,  1.081234  ,\n",
       "        0.85526852,  1.78160155])"
      ]
     },
     "execution_count": 125,
     "metadata": {},
     "output_type": "execute_result"
    }
   ],
   "source": [
    "tt"
   ]
  },
  {
   "cell_type": "markdown",
   "metadata": {},
   "source": [
    "---"
   ]
  },
  {
   "cell_type": "code",
   "execution_count": 226,
   "metadata": {
    "collapsed": true
   },
   "outputs": [],
   "source": [
    "resMatrix = A.dot(Y)"
   ]
  },
  {
   "cell_type": "code",
   "execution_count": 227,
   "metadata": {
    "collapsed": false
   },
   "outputs": [],
   "source": [
    "a=np.array((1,2,4))\n",
    "b=np.array((1,3,6))\n",
    "(a-b).dot(a-b)\n",
    "\n",
    "masqueTest=np.sign(rawMatrixTest)\n",
    "masqueTest[:10,:10]\n",
    "\n",
    "A=masqueTest*rawMatrix\n"
   ]
  },
  {
   "cell_type": "code",
   "execution_count": 228,
   "metadata": {
    "collapsed": true
   },
   "outputs": [],
   "source": [
    "aa = masqueTest*resMatrix"
   ]
  },
  {
   "cell_type": "code",
   "execution_count": 229,
   "metadata": {
    "collapsed": true
   },
   "outputs": [],
   "source": [
    "for idxi,i in enumerate(aa):\n",
    "    for idxj,j in enumerate(i):\n",
    "        if j>5:\n",
    "            aa[idxi][idxj]=5"
   ]
  },
  {
   "cell_type": "code",
   "execution_count": 235,
   "metadata": {
    "collapsed": true
   },
   "outputs": [],
   "source": [
    "q = masqueTest*resMatrix - rawMatrixTest"
   ]
  },
  {
   "cell_type": "code",
   "execution_count": 236,
   "metadata": {
    "collapsed": false
   },
   "outputs": [
    {
     "data": {
      "text/plain": [
       "1.1273948891755721"
      ]
     },
     "execution_count": 236,
     "metadata": {},
     "output_type": "execute_result"
    }
   ],
   "source": [
    "(q*q).sum()/ masqueTest.sum()"
   ]
  },
  {
   "cell_type": "code",
   "execution_count": 33,
   "metadata": {
    "collapsed": false
   },
   "outputs": [
    {
     "data": {
      "text/plain": [
       "1.1465785558244217"
      ]
     },
     "execution_count": 33,
     "metadata": {},
     "output_type": "execute_result"
    }
   ],
   "source": [
    "masqueTest=np.sign(rawMatrixTest)\n",
    "q = masqueTest*resMatrix - rawMatrixTest\n",
    "(q*q).sum()/ masqueTest.sum()"
   ]
  },
  {
   "cell_type": "code",
   "execution_count": 59,
   "metadata": {
    "collapsed": true
   },
   "outputs": [],
   "source": [
    "mf = evalMF(resMatrix,data,movies)"
   ]
  },
  {
   "cell_type": "code",
   "execution_count": 69,
   "metadata": {
    "collapsed": false
   },
   "outputs": [
    {
     "name": "stdout",
     "output_type": "stream",
     "text": [
      "4.0\n",
      "3.68121941569\n",
      "1.0\n",
      "0.96164687419\n"
     ]
    }
   ],
   "source": [
    "print data[\"1\"][\"Akira (1988)\"]\n",
    "print mf.predict(\"1\",\"Akira (1988)\")\n",
    "print data[\"1\"][\"All Dogs Go to Heaven 2 (1996)\"]\n",
    "print mf.predict(\"1\",\"All Dogs Go to Heaven 2 (1996)\")"
   ]
  },
  {
   "cell_type": "code",
   "execution_count": 61,
   "metadata": {
    "collapsed": true
   },
   "outputs": [
    {
     "name": "stdout",
     "output_type": "stream",
     "text": [
      "1.0\n"
     ]
    },
    {
     "ename": "KeyError",
     "evalue": "'Akira (1988)'",
     "output_type": "error",
     "traceback": [
      "\u001b[0;31m---------------------------------------------------------------------------\u001b[0m",
      "\u001b[0;31mKeyError\u001b[0m                                  Traceback (most recent call last)",
      "\u001b[0;32m<ipython-input-61-ccddd715027a>\u001b[0m in \u001b[0;36m<module>\u001b[0;34m()\u001b[0m\n\u001b[1;32m      1\u001b[0m \u001b[0;32mprint\u001b[0m \u001b[0mtrain\u001b[0m\u001b[0;34m[\u001b[0m\u001b[0;34m\"1\"\u001b[0m\u001b[0;34m]\u001b[0m\u001b[0;34m[\u001b[0m\u001b[0;34m\"All Dogs Go to Heaven 2 (1996)\"\u001b[0m\u001b[0;34m]\u001b[0m\u001b[0;34m\u001b[0m\u001b[0m\n\u001b[0;32m----> 2\u001b[0;31m \u001b[0;32mprint\u001b[0m \u001b[0mtest\u001b[0m\u001b[0;34m[\u001b[0m\u001b[0;34m\"1\"\u001b[0m\u001b[0;34m]\u001b[0m\u001b[0;34m[\u001b[0m\u001b[0;34m\"Akira (1988)\"\u001b[0m\u001b[0;34m]\u001b[0m\u001b[0;34m\u001b[0m\u001b[0m\n\u001b[0m",
      "\u001b[0;31mKeyError\u001b[0m: 'Akira (1988)'"
     ]
    }
   ],
   "source": [
    "print train[\"1\"][\"All Dogs Go to Heaven 2 (1996)\"]\n",
    "print test[\"1\"][\"Akira (1988)\"]"
   ]
  },
  {
   "cell_type": "code",
   "execution_count": 80,
   "metadata": {
    "collapsed": false
   },
   "outputs": [
    {
     "data": {
      "text/plain": [
       "944"
      ]
     },
     "execution_count": 80,
     "metadata": {},
     "output_type": "execute_result"
    }
   ],
   "source": [
    "len(rawMatrixTest)"
   ]
  },
  {
   "cell_type": "code",
   "execution_count": 78,
   "metadata": {
    "collapsed": false
   },
   "outputs": [
    {
     "name": "stdout",
     "output_type": "stream",
     "text": [
      "(5.0, 2.5931883684545336)\n",
      "(4.0, 5.0047797241971219)\n",
      "(4.0, 3.469010363892524)\n",
      "(4.0, 3.8143373120809678)\n",
      "(4.0, 5.1669137101192657)\n",
      "(3.0, 4.4963428645445518)\n",
      "(5.0, 3.6366298516628395)\n",
      "(3.0, 3.1448263066152959)\n",
      "(5.0, 2.7517463531147883)\n",
      "(5.0, 4.6741099156866328)\n"
     ]
    },
    {
     "data": {
      "text/plain": [
       "2.0909226578962459"
      ]
     },
     "execution_count": 78,
     "metadata": {},
     "output_type": "execute_result"
    }
   ],
   "source": [
    "t = []\n",
    "c = 10\n",
    "for idxi,i in enumerate(rawMatrixTest):\n",
    "    for idxj,j in enumerate(i):\n",
    "        if rawMatrixTest[idxi][idxj] != 0:\n",
    "            t.append( (resMatrix[idxi][idxj] - float(rawMatrixTest[idxi][idxj]))**2 )\n",
    "            if c>0:\n",
    "                print(rawMatrixTest[idxi][idxj],resMatrix[idxi][idxj])\n",
    "                c-=1\n",
    "np.array(t).mean()"
   ]
  },
  {
   "cell_type": "code",
   "execution_count": 87,
   "metadata": {
    "collapsed": false
   },
   "outputs": [
    {
     "name": "stdout",
     "output_type": "stream",
     "text": [
      "(5.0, 2.5931883684545336)\n",
      "(4.0, 5.0047797241971219)\n",
      "(4.0, 3.469010363892524)\n",
      "(4.0, 3.8143373120809678)\n",
      "(4.0, 5.1669137101192657)\n",
      "(3.0, 4.4963428645445518)\n",
      "(5.0, 3.6366298516628395)\n",
      "(3.0, 3.1448263066152959)\n",
      "(5.0, 2.7517463531147883)\n",
      "(5.0, 4.6741099156866328)\n"
     ]
    },
    {
     "data": {
      "text/plain": [
       "2.0909226578962459"
      ]
     },
     "execution_count": 87,
     "metadata": {},
     "output_type": "execute_result"
    }
   ],
   "source": [
    "t = []\n",
    "c = 10\n",
    "for idxi,i in enumerate(resMatrix):\n",
    "    for idxj,j in enumerate(i):\n",
    "        if rawMatrixTest[idxi][idxj] != 0:\n",
    "            t.append( (resMatrix[idxi][idxj] - float(rawMatrix[idxi][idxj]))**2 )\n",
    "            if c>0:\n",
    "                print(rawMatrix[idxi][idxj],resMatrix[idxi][idxj])\n",
    "                c-=1\n",
    "np.array(t).mean()"
   ]
  },
  {
   "cell_type": "code",
   "execution_count": 108,
   "metadata": {
    "collapsed": false
   },
   "outputs": [
    {
     "name": "stdout",
     "output_type": "stream",
     "text": [
      "(5.0, 4.3114944585785064)\n",
      "(3.0, 3.3257920434476187)\n",
      "(3.0, 4.0022181201367522)\n"
     ]
    },
    {
     "data": {
      "text/plain": [
       "0.45320954210197834"
      ]
     },
     "execution_count": 108,
     "metadata": {},
     "output_type": "execute_result"
    }
   ],
   "source": [
    "t = []\n",
    "c = 3\n",
    "for idxi,i in enumerate(rawMatrixTrain):\n",
    "    for idxj,j in enumerate(i):\n",
    "        if rawMatrixTrain[idxi][idxj] != 0:\n",
    "            t.append( (float(rawMatrixTrain[idxi][idxj]) - resMatrix[idxi][idxj])**2 )\n",
    "            if c>0:\n",
    "                print(rawMatrixTrain[idxi][idxj],resMatrix[idxi][idxj])\n",
    "                c-=1\n",
    "np.array(t).mean()"
   ]
  },
  {
   "cell_type": "code",
   "execution_count": 80,
   "metadata": {
    "collapsed": false
   },
   "outputs": [
    {
     "ename": "KeyError",
     "evalue": "0.0",
     "output_type": "error",
     "traceback": [
      "\u001b[0;31m---------------------------------------------------------------------------\u001b[0m",
      "\u001b[0;31mKeyError\u001b[0m                                  Traceback (most recent call last)",
      "\u001b[0;32m<ipython-input-80-0241c027db0a>\u001b[0m in \u001b[0;36m<module>\u001b[0;34m()\u001b[0m\n\u001b[0;32m----> 1\u001b[0;31m \u001b[0mnp\u001b[0m\u001b[0;34m.\u001b[0m\u001b[0marray\u001b[0m\u001b[0;34m(\u001b[0m\u001b[0;34m[\u001b[0m \u001b[0;34m(\u001b[0m\u001b[0mfloat\u001b[0m\u001b[0;34m(\u001b[0m\u001b[0mra\u001b[0m\u001b[0;34m[\u001b[0m\u001b[0;36m2\u001b[0m\u001b[0;34m]\u001b[0m\u001b[0;34m)\u001b[0m \u001b[0;34m-\u001b[0m \u001b[0mmf\u001b[0m\u001b[0;34m.\u001b[0m\u001b[0mpredict\u001b[0m\u001b[0;34m(\u001b[0m\u001b[0mra\u001b[0m\u001b[0;34m[\u001b[0m\u001b[0;36m0\u001b[0m\u001b[0;34m]\u001b[0m\u001b[0;34m,\u001b[0m\u001b[0mra\u001b[0m\u001b[0;34m[\u001b[0m\u001b[0;36m1\u001b[0m\u001b[0;34m]\u001b[0m\u001b[0;34m)\u001b[0m\u001b[0;34m)\u001b[0m\u001b[0;34m**\u001b[0m\u001b[0;36m2\u001b[0m \u001b[0;32mfor\u001b[0m \u001b[0mra\u001b[0m \u001b[0;32min\u001b[0m \u001b[0mrawMatrixTest\u001b[0m\u001b[0;34m]\u001b[0m\u001b[0;34m)\u001b[0m\u001b[0;34m.\u001b[0m\u001b[0mmean\u001b[0m\u001b[0;34m(\u001b[0m\u001b[0;34m)\u001b[0m\u001b[0;34m\u001b[0m\u001b[0m\n\u001b[0m",
      "\u001b[0;32m<ipython-input-52-9fb67320d8a3>\u001b[0m in \u001b[0;36mpredict\u001b[0;34m(self, user, movie)\u001b[0m\n\u001b[1;32m      8\u001b[0m \u001b[0;34m\u001b[0m\u001b[0m\n\u001b[1;32m      9\u001b[0m     \u001b[0;32mdef\u001b[0m \u001b[0mpredict\u001b[0m\u001b[0;34m(\u001b[0m\u001b[0mself\u001b[0m\u001b[0;34m,\u001b[0m\u001b[0muser\u001b[0m\u001b[0;34m,\u001b[0m\u001b[0mmovie\u001b[0m\u001b[0;34m)\u001b[0m\u001b[0;34m:\u001b[0m\u001b[0;34m\u001b[0m\u001b[0m\n\u001b[0;32m---> 10\u001b[0;31m         \u001b[0;32mreturn\u001b[0m \u001b[0mself\u001b[0m\u001b[0;34m.\u001b[0m\u001b[0mresMatrix\u001b[0m\u001b[0;34m[\u001b[0m\u001b[0mint\u001b[0m\u001b[0;34m(\u001b[0m\u001b[0muser\u001b[0m\u001b[0;34m)\u001b[0m\u001b[0;34m]\u001b[0m\u001b[0;34m[\u001b[0m\u001b[0mint\u001b[0m\u001b[0;34m(\u001b[0m\u001b[0mself\u001b[0m\u001b[0;34m.\u001b[0m\u001b[0mdicI\u001b[0m\u001b[0;34m[\u001b[0m\u001b[0mmovie\u001b[0m\u001b[0;34m]\u001b[0m\u001b[0;34m)\u001b[0m\u001b[0;34m]\u001b[0m\u001b[0;34m\u001b[0m\u001b[0m\n\u001b[0m",
      "\u001b[0;31mKeyError\u001b[0m: 0.0"
     ]
    }
   ],
   "source": [
    "np.array([ (float(ra[2]) - mf.predict(ra[0],ra[1]))**2 for ra in rawMatrixTest]).mean()"
   ]
  },
  {
   "cell_type": "markdown",
   "metadata": {},
   "source": [
    "---"
   ]
  },
  {
   "cell_type": "code",
   "execution_count": 60,
   "metadata": {
    "collapsed": false
   },
   "outputs": [
    {
     "data": {
      "text/plain": [
       "<function rand>"
      ]
     },
     "execution_count": 60,
     "metadata": {},
     "output_type": "execute_result"
    }
   ],
   "source": [
    "R = [\n",
    "     [5,3,5,3],\n",
    "     [4,0,0,1],\n",
    "     [1,5,1,5],\n",
    "     [1,0,1,4],\n",
    "     [0,4,5,4],\n",
    "    ]\n",
    "\n",
    "R = np.array(R)\n",
    "K = 10\n",
    "np.random.rand"
   ]
  },
  {
   "cell_type": "code",
   "execution_count": 87,
   "metadata": {
    "collapsed": false
   },
   "outputs": [
    {
     "name": "stdout",
     "output_type": "stream",
     "text": [
      "CPU times: user 1.55 s, sys: 18.9 ms, total: 1.57 s\n",
      "Wall time: 1.57 s\n"
     ]
    }
   ],
   "source": [
    "%%time\n",
    "nP, nQ = matrix_factorization(R, K, steps=1000)"
   ]
  },
  {
   "cell_type": "code",
   "execution_count": 88,
   "metadata": {
    "collapsed": false
   },
   "outputs": [],
   "source": [
    "nR = np.dot(nP, nQ.T)"
   ]
  },
  {
   "cell_type": "code",
   "execution_count": 89,
   "metadata": {
    "collapsed": false
   },
   "outputs": [
    {
     "data": {
      "text/plain": [
       "2.7470816228443531"
      ]
     },
     "execution_count": 89,
     "metadata": {},
     "output_type": "execute_result"
    }
   ],
   "source": [
    "((nR-R)**2).sum()/np.sign(R).sum()"
   ]
  },
  {
   "cell_type": "markdown",
   "metadata": {},
   "source": [
    "---"
   ]
  },
  {
   "cell_type": "code",
   "execution_count": 59,
   "metadata": {
    "collapsed": false
   },
   "outputs": [],
   "source": [
    "R = rawMatrixTrain"
   ]
  },
  {
   "cell_type": "code",
   "execution_count": 74,
   "metadata": {
    "collapsed": true
   },
   "outputs": [],
   "source": [
    "def matrix_factorization(R, K, steps=100, eps=0.0001, beta=0.02, decay=0.95):\n",
    "    N,M = np.shape(R)\n",
    "    P = np.random.rand(N,K)\n",
    "    #P = np.maximum(P, eps)\n",
    "    \n",
    "    #Q = np.random.rand(M,K).T\n",
    "    Q = linalg.lstsq(P, R)[0]\n",
    "    Q = np.maximum(Q, eps)\n",
    "\n",
    "    #masked_X = mask * X\n",
    "    #X_est_prev = dot(A, Y)\n",
    "    \n",
    "    #mask = np.sign(R)\n",
    "    #masked_R = mask * R\n",
    "    \n",
    "    masktest = np.sign(rawMatrixTest)\n",
    "    masktrain = np.sign(rawMatrixTrain)\n",
    "    \n",
    "    \n",
    "    for step in xrange(1,steps+1):\n",
    "        #\"\"\"\n",
    "        for i in xrange(len(R)):\n",
    "            for j in xrange(len(R[i])):\n",
    "                if R[i][j] > 0:\n",
    "                    eij = R[i][j] - np.dot(P[i,:],Q[:,j])\n",
    "                    P[i] = P[i] + eps * (2 * eij * Q.T[j] - beta * P[i])\n",
    "                    #Q[i] = P[i] + eps * (2 * eij * Q.T[j] - beta * P[i])\n",
    "                    Q.T[j] = Q.T[j] + eps * (2 * eij * P[i] - beta * Q.T[j])\n",
    "                    #for k in xrange(K):\n",
    "                    #    P[i][k] = P[i][k] + eps * (2 * eij * Q[k][j] - beta * P[i][k])\n",
    "                        #Q[k][j] = Q[k][j] + eps * (2 * eij * P[i][k] - beta * Q[k][j])\n",
    "        \"\"\"\n",
    "        ###\n",
    "        top = np.dot(masked_R, Q.T)\n",
    "        bottom = (np.dot((mask * np.dot(P, Q)), Q.T)) + eps\n",
    "        \n",
    "        P *= top / bottom\n",
    "\n",
    "        P = np.maximum(P, eps)\n",
    "        # print 'A',  np.round(A, 2)\n",
    "\n",
    "        top = np.dot(P.T, masked_R)\n",
    "        bottom = np.dot(P.T, mask * np.dot(P, Q)) + eps\n",
    "        Q *= top / bottom\n",
    "        Q = np.maximum(Q, eps)\n",
    "        # print 'Y', np.round(Y, 2)\n",
    "        \"\"\"\n",
    "        if step%5:\n",
    "            eps=eps*decay\n",
    "        \n",
    "        if step % 10 == 0 or step == 1 or step == steps:\n",
    "\n",
    "            X_est = dot(P, Q)\n",
    "            q = masktest*X_est - rawMatrixTest\n",
    "            q_train = masktrain*X_est - rawMatrixTrain\n",
    "            print \"Iteration %d, Err %.05f, Err on train %.05f\"%( step, (q*q).sum()/ masktest.sum(), (q_train*q_train).sum()/ masktest.sum() )\n",
    "            \n",
    "        \n",
    "        \n",
    "    return P, Q.T"
   ]
  },
  {
   "cell_type": "code",
   "execution_count": 67,
   "metadata": {
    "collapsed": false
   },
   "outputs": [
    {
     "name": "stdout",
     "output_type": "stream",
     "text": [
      "Iteration 1, Err 9.20925, Err train 35.62599\n",
      "Iteration 10, Err 6.10217, Err train 23.23107\n",
      "Iteration 20, Err 4.98627, Err train 18.82843\n",
      "CPU times: user 1min, sys: 333 ms, total: 1min 1s\n",
      "Wall time: 1min 1s\n"
     ]
    }
   ],
   "source": [
    "%%time\n",
    "K = 10\n",
    "nP, nQ = matrix_factorization(R, K, steps=20,eps=1e-3)"
   ]
  },
  {
   "cell_type": "code",
   "execution_count": 70,
   "metadata": {
    "collapsed": false
   },
   "outputs": [
    {
     "name": "stdout",
     "output_type": "stream",
     "text": [
      "Iteration 1, Err 3.33905, Err train 12.59114\n",
      "Iteration 10, Err 1.07766, Err train 3.68302\n",
      "Iteration 20, Err 0.98629, Err train 3.23860\n",
      "Iteration 30, Err 0.95904, Err train 3.02876\n",
      "Iteration 40, Err 0.94580, Err train 2.85712\n",
      "Iteration 50, Err 0.93984, Err train 2.70948\n",
      "Iteration 60, Err 0.93874, Err train 2.58756\n",
      "Iteration 70, Err 0.94040, Err train 2.48769\n",
      "Iteration 80, Err 0.94345, Err train 2.40503\n",
      "Iteration 90, Err 0.94717, Err train 2.33584\n",
      "Iteration 100, Err 0.95115, Err train 2.27742\n",
      "CPU times: user 6min 16s, sys: 2.28 s, total: 6min 18s\n",
      "Wall time: 6min 17s\n"
     ]
    }
   ],
   "source": [
    "%%time\n",
    "K = 10\n",
    "nP, nQ = matrix_factorization(R, K, steps=100,eps=1e-5)"
   ]
  },
  {
   "cell_type": "code",
   "execution_count": 72,
   "metadata": {
    "collapsed": false
   },
   "outputs": [
    {
     "data": {
      "text/plain": [
       "174.05240132990514"
      ]
     },
     "execution_count": 72,
     "metadata": {},
     "output_type": "execute_result"
    }
   ],
   "source": [
    "nR = np.dot(nP, nQ.T)\n",
    "((nR-R)**2).sum()/np.sign(R).sum()"
   ]
  },
  {
   "cell_type": "code",
   "execution_count": 79,
   "metadata": {
    "collapsed": false
   },
   "outputs": [
    {
     "name": "stdout",
     "output_type": "stream",
     "text": [
      "Iteration 1, Err 5.05876, Err train 19.84190\n",
      "Iteration 10, Err 0.98519, Err train 2.54577\n",
      "Iteration 20, Err 0.98575, Err train 2.19544\n",
      "Iteration 30, Err 0.98830, Err train 2.06617\n",
      "Iteration 40, Err 0.99066, Err train 2.00391\n",
      "Iteration 50, Err 0.99287, Err train 1.97126\n",
      "CPU times: user 3min 16s, sys: 1.44 s, total: 3min 17s\n",
      "Wall time: 3min 17s\n"
     ]
    }
   ],
   "source": [
    "%%time\n",
    "K = 10\n",
    "nP, nQ = matrix_factorization(R, K, steps=50,eps=1e-2)"
   ]
  },
  {
   "cell_type": "code",
   "execution_count": null,
   "metadata": {
    "collapsed": true
   },
   "outputs": [],
   "source": [
    "%%time\n",
    "N,M = np.shape(R)\n",
    "P = np.random.rand(N,K)\n",
    "#P = np.maximum(P, eps)\n",
    "\n",
    "#Q = np.random.rand(M,K).T\n",
    "Q = linalg.lstsq(P, R)[0]\n",
    "Q = np.maximum(Q, eps)\n",
    "\n",
    "#masked_X = mask * X\n",
    "#X_est_prev = dot(A, Y)\n",
    "\n",
    "#mask = np.sign(R)\n",
    "#masked_R = mask * R\n",
    "\n",
    "for i in xrange(len(R)):\n",
    "    for j in xrange(len(R[i])):\n",
    "        if R[i][j] > 0:\n",
    "            eij = R[i][j] - np.dot(P[i,:],Q[:,j])\n",
    "            for k in xrange(K):\n",
    "                P[i][k] = P[i][k] + eps * (2 * eij * Q[k][j] - beta * P[i][k])\n",
    "                Q[k][j] = Q[k][j] + eps * (2 * eij * P[i][k] - beta * Q[k][j])"
   ]
  },
  {
   "cell_type": "code",
   "execution_count": 161,
   "metadata": {
    "collapsed": false
   },
   "outputs": [
    {
     "name": "stdout",
     "output_type": "stream",
     "text": [
      "54.0298250116\n",
      "56.7997458309\n",
      "54.0097982207\n",
      "54.3613471474\n"
     ]
    }
   ],
   "source": [
    "for _ in range(1,5):\n",
    "    nP, nQ = matrix_factorization(R, K, steps=1000,eps=1e-3)\n",
    "    nR = np.dot(nP, nQ.T)\n",
    "    print ((nR-GR)**2).sum()/np.sign(GR).sum()"
   ]
  },
  {
   "cell_type": "code",
   "execution_count": 141,
   "metadata": {
    "collapsed": true
   },
   "outputs": [],
   "source": [
    "GR = [\n",
    "     [0,0,0,0],\n",
    "     [0,1,1,0],\n",
    "     [0,0,0,0],\n",
    "     [0,4,0,0],\n",
    "     [4,0,0,0],\n",
    "    ]"
   ]
  },
  {
   "cell_type": "code",
   "execution_count": 139,
   "metadata": {
    "collapsed": false
   },
   "outputs": [
    {
     "data": {
      "text/plain": [
       "array([[5, 3, 5, 3],\n",
       "       [4, 0, 0, 1],\n",
       "       [1, 5, 1, 5],\n",
       "       [1, 0, 1, 4],\n",
       "       [0, 4, 5, 4]])"
      ]
     },
     "execution_count": 139,
     "metadata": {},
     "output_type": "execute_result"
    }
   ],
   "source": [
    "R"
   ]
  },
  {
   "cell_type": "code",
   "execution_count": 149,
   "metadata": {
    "collapsed": false
   },
   "outputs": [
    {
     "data": {
      "text/plain": [
       "array([[ 4.98064509,  3.00337373,  4.98567601,  2.99254764],\n",
       "       [ 3.98478181,  1.19632854,  1.66596662,  1.0013092 ],\n",
       "       [ 0.99961108,  4.9783092 ,  1.01288321,  4.97950296],\n",
       "       [ 0.99817346,  2.34980003,  1.0067616 ,  3.97615341],\n",
       "       [ 1.26528218,  3.99790715,  4.98389234,  3.9907852 ]])"
      ]
     },
     "execution_count": 149,
     "metadata": {},
     "output_type": "execute_result"
    }
   ],
   "source": [
    "nR"
   ]
  },
  {
   "cell_type": "code",
   "execution_count": 55,
   "metadata": {
    "collapsed": false
   },
   "outputs": [
    {
     "data": {
      "text/plain": [
       "5.0"
      ]
     },
     "execution_count": 55,
     "metadata": {},
     "output_type": "execute_result"
    }
   ],
   "source": [
    "R[1,1]"
   ]
  },
  {
   "cell_type": "markdown",
   "metadata": {},
   "source": [
    "---\n",
    "\n",
    "---\n",
    "\n",
    "---"
   ]
  },
  {
   "cell_type": "code",
   "execution_count": 98,
   "metadata": {
    "collapsed": true
   },
   "outputs": [],
   "source": [
    "from scipy import linalg"
   ]
  },
  {
   "cell_type": "code",
   "execution_count": 100,
   "metadata": {
    "collapsed": true
   },
   "outputs": [],
   "source": [
    "rows, columns = R.shape\n",
    "A = np.random.rand(rows, 2)"
   ]
  },
  {
   "cell_type": "code",
   "execution_count": null,
   "metadata": {
    "collapsed": true
   },
   "outputs": [],
   "source": [
    "    mask = np.sign(X)\n",
    "    # initial matrices. A is random [0,1] and Y is A\\X.\n",
    "    rows, columns = X.shape\n",
    "    A = np.random.rand(rows, latent_features)\n",
    "    A = np.maximum(A, eps)\n",
    "\n",
    "    Y = linalg.lstsq(A, X)[0]\n",
    "    Y = np.maximum(Y, eps)\n",
    "\n",
    "    masked_X = mask * X\n",
    "    X_est_prev = dot(A, Y)\n",
    "# updates\n",
    "        top = dot(masked_X, Y.T)\n",
    "        bottom = (dot((mask * dot(A, Y)), Y.T)) + eps\n",
    "        A *= top / bottom\n",
    "\n",
    "        A = np.maximum(A, eps)\n",
    "        # print 'A',  np.round(A, 2)\n",
    "\n",
    "        top = dot(A.T, masked_X)\n",
    "        bottom = dot(A.T, mask * dot(A, Y)) + eps\n",
    "        Y *= top / bottom\n",
    "        Y = np.maximum(Y, eps)\n",
    "        # print 'Y', np.round(Y, 2)\n",
    "\n",
    "\n",
    "        # evaluation\n",
    "        if i % 200 == 0 or i == 1 or i == max_iter:\n",
    "            print 'Iteration {}:'.format(i),\n",
    "            X_est = dot(A, Y)\n",
    "            err = mask * (X_est_prev - X_est)\n",
    "            fit_residual = np.sqrt(np.sum(err ** 2))\n",
    "            X_est_prev = X_est\n",
    "\n",
    "            curRes = linalg.norm(mask * (X - X_est), ord='fro')\n",
    "            print 'fit residual', np.round(fit_residual, 4),\n",
    "            print 'total residual', np.round(curRes, 4)\n",
    "            if curRes < error_limit or fit_residual < fit_error_limit:\n",
    "                break"
   ]
  },
  {
   "cell_type": "code",
   "execution_count": 190,
   "metadata": {
    "collapsed": false
   },
   "outputs": [
    {
     "name": "stdout",
     "output_type": "stream",
     "text": [
      "CPU times: user 5min 57s, sys: 1.89 s, total: 5min 59s\n",
      "Wall time: 6min 1s\n"
     ]
    }
   ],
   "source": [
    "%%time\n",
    "\n",
    "R = rawMatrixTrain\n",
    "\n",
    "nP, nQ = matrix_factorization(R, 10, steps=40,eps=1e-3)\n",
    "nR = np.dot(nP, nQ.T)"
   ]
  },
  {
   "cell_type": "code",
   "execution_count": 191,
   "metadata": {
    "collapsed": false
   },
   "outputs": [
    {
     "data": {
      "text/plain": [
       "0.93011954506905736"
      ]
     },
     "execution_count": 191,
     "metadata": {},
     "output_type": "execute_result"
    }
   ],
   "source": [
    "masqueTest=np.sign(rawMatrixTest)\n",
    "\n",
    "aa=masqueTest*rawMatrix\n",
    "\"\"\"\n",
    "for idxi,i in enumerate(aa):\n",
    "    for idxj,j in enumerate(i):\n",
    "        if j>5:\n",
    "            aa[idxi][idxj]=5\n",
    "            \"\"\"\n",
    "q = masqueTest*nR - rawMatrixTest\n",
    "\n",
    "(q*q).sum()/ masqueTest.sum()"
   ]
  },
  {
   "cell_type": "code",
   "execution_count": 30,
   "metadata": {
    "collapsed": false
   },
   "outputs": [
    {
     "data": {
      "text/plain": [
       "array([[ 2.2328501 ,  2.86127689,  2.78138309,  2.18936119,  1.94124401],\n",
       "       [ 2.873597  ,  3.01024103,  3.39995977,  2.86989372,  2.98342851],\n",
       "       [ 2.39437824,  2.9654892 ,  2.95946595,  2.25596745,  2.07565552],\n",
       "       [ 1.51408587,  2.19458866,  2.42556026,  1.70330838,  1.66845702],\n",
       "       [ 3.28392919,  3.92596689,  3.90235368,  3.32824406,  3.11129257]])"
      ]
     },
     "execution_count": 30,
     "metadata": {},
     "output_type": "execute_result"
    }
   ],
   "source": [
    "nR[:5,:5]"
   ]
  },
  {
   "cell_type": "code",
   "execution_count": 31,
   "metadata": {
    "collapsed": false
   },
   "outputs": [
    {
     "data": {
      "text/plain": [
       "array([[ 0.,  0.,  0.,  0.,  0.],\n",
       "       [ 0.,  5.,  3.,  4.,  3.],\n",
       "       [ 0.,  4.,  0.,  0.,  0.],\n",
       "       [ 0.,  0.,  0.,  0.,  0.],\n",
       "       [ 0.,  0.,  0.,  0.,  0.]])"
      ]
     },
     "execution_count": 31,
     "metadata": {},
     "output_type": "execute_result"
    }
   ],
   "source": [
    "rawMatrix[:5,:5]"
   ]
  },
  {
   "cell_type": "code",
   "execution_count": 32,
   "metadata": {
    "collapsed": false
   },
   "outputs": [
    {
     "ename": "NameError",
     "evalue": "name 'evalMF' is not defined",
     "output_type": "error",
     "traceback": [
      "\u001b[0;31m---------------------------------------------------------------------------\u001b[0m",
      "\u001b[0;31mNameError\u001b[0m                                 Traceback (most recent call last)",
      "\u001b[0;32m<ipython-input-32-3ba1d810045a>\u001b[0m in \u001b[0;36m<module>\u001b[0;34m()\u001b[0m\n\u001b[0;32m----> 1\u001b[0;31m \u001b[0mmf\u001b[0m\u001b[0;34m=\u001b[0m \u001b[0mevalMF\u001b[0m\u001b[0;34m(\u001b[0m\u001b[0mnR\u001b[0m\u001b[0;34m,\u001b[0m\u001b[0mdata\u001b[0m\u001b[0;34m,\u001b[0m\u001b[0mmovies\u001b[0m\u001b[0;34m)\u001b[0m\u001b[0;34m\u001b[0m\u001b[0m\n\u001b[0m\u001b[1;32m      2\u001b[0m \u001b[0mmf\u001b[0m\u001b[0;34m.\u001b[0m\u001b[0mpredict\u001b[0m\u001b[0;34m(\u001b[0m\u001b[0;34m\"1\"\u001b[0m\u001b[0;34m,\u001b[0m\u001b[0;34m\"Akira (1988)\"\u001b[0m\u001b[0;34m)\u001b[0m\u001b[0;34m\u001b[0m\u001b[0m\n",
      "\u001b[0;31mNameError\u001b[0m: name 'evalMF' is not defined"
     ]
    }
   ],
   "source": [
    "mf= evalMF(nR,data,movies)\n",
    "mf.predict(\"1\",\"Akira (1988)\")"
   ]
  },
  {
   "cell_type": "code",
   "execution_count": 47,
   "metadata": {
    "collapsed": false
   },
   "outputs": [
    {
     "data": {
      "text/plain": [
       "1.5532842864204328"
      ]
     },
     "execution_count": 47,
     "metadata": {},
     "output_type": "execute_result"
    }
   ],
   "source": [
    "np.array([ (float(ra[2]) - mf.predict(ra[0],ra[1]))**2 for ra in rawArrayTest]).mean()"
   ]
  },
  {
   "cell_type": "code",
   "execution_count": null,
   "metadata": {
    "collapsed": true
   },
   "outputs": [],
   "source": []
  }
 ],
 "metadata": {
  "kernelspec": {
   "display_name": "Python 2",
   "language": "python",
   "name": "python2"
  },
  "language_info": {
   "codemirror_mode": {
    "name": "ipython",
    "version": 2
   },
   "file_extension": ".py",
   "mimetype": "text/x-python",
   "name": "python",
   "nbconvert_exporter": "python",
   "pygments_lexer": "ipython2",
   "version": "2.7.10"
  }
 },
 "nbformat": 4,
 "nbformat_minor": 0
}
