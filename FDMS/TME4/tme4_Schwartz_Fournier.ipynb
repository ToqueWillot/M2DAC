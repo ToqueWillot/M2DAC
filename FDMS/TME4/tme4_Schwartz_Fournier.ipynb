{
 "cells": [
  {
   "cell_type": "markdown",
   "metadata": {},
   "source": [
    "# TME4"
   ]
  },
  {
   "cell_type": "markdown",
   "metadata": {},
   "source": [
    "#     Chargement de Data, Data_train et Data_test "
   ]
  },
  {
   "cell_type": "code",
   "execution_count": 1,
   "metadata": {
    "collapsed": true
   },
   "outputs": [],
   "source": [
    "import numpy as np"
   ]
  },
  {
   "cell_type": "code",
   "execution_count": 5,
   "metadata": {
    "collapsed": false
   },
   "outputs": [],
   "source": [
    "# renvoie : \n",
    "# un dictionnaire movies {id_film : NomFilm}\n",
    "# un dictionnaire data {idUser : {Nomfilm : rating}}\n",
    "# un dictionnaire times {idUser : {Nomfilm : time}}\n",
    "\n",
    "def loadMovieLens(path='./data/ml-100k'):\n",
    "    # Get movie titles\n",
    "    movies={}\n",
    "    for line in open(path+'/u.item'):\n",
    "        (id,title)=line.split('|')[0:2]\n",
    "        movies[id]=title\n",
    "    # Load data\n",
    "    prefs={} # Un dictionnaire User > Item > Rating\n",
    "    times={} # Un dictionnaire User > Item > Timestamps\n",
    "    for line in open(path+'/u.data'):\n",
    "        (user,movieid,rating,ts)=line.split('\\t')\n",
    "        prefs.setdefault(user,{})\n",
    "        prefs[user][movies[movieid]]=float(rating)\n",
    "        times.setdefault(user,{})\n",
    "        times[user][movies[movieid]]=float(ts)\n",
    "    return movies, prefs, times\n",
    "\n",
    "def loadMovieLens1M(path='./data/ml-1m'):\n",
    "    # Get movie titles\n",
    "    movies={}\n",
    "    for line in open(path+'/movies.dat'):\n",
    "        id,title=line.split('::')[0:2]\n",
    "        movies[id]=title\n",
    "    # Load data\n",
    "    prefs={}\n",
    "    times={}\n",
    "    for line in open(path+'/ratings.dat'):\n",
    "        (user,movieid,rating,ts)=line.split('::')\n",
    "        prefs.setdefault(user,{})\n",
    "        prefs[user][movies[movieid]]=float(rating)\n",
    "        times.setdefault(user,{})\n",
    "        times[user][movies[movieid]]=float(ts)\n",
    "    return movies, prefs, times\n"
   ]
  },
  {
   "cell_type": "markdown",
   "metadata": {},
   "source": [
    "# Représentation des données + Split\n",
    "Pour simplifier la manipulation des données, en se basant sur une liste de triplet [users, items, note], on construira 2 dictionnaires : </d>\n",
    "- dataByUsers : {users : {items : note}}\n",
    "- dataByItems : {items : {users : note}} "
   ]
  },
  {
   "cell_type": "code",
   "execution_count": 6,
   "metadata": {
    "collapsed": false
   },
   "outputs": [],
   "source": [
    "def getTriplet(data):\n",
    "    triplet = []\n",
    "    for u in data.keys():\n",
    "        for i in data[u].keys():\n",
    "            triplet.append([u,i,data[u][i]])\n",
    "    return triplet\n",
    "\n",
    "def getDataByUsers(triplet) :\n",
    "    dataByUsers = {}\n",
    "    for t in triplet:\n",
    "        if not t[0] in dataByUsers.keys():\n",
    "            dataByUsers[t[0]] = {}\n",
    "        dataByUsers[t[0]][t[1]] = float(t[2])\n",
    "    return dataByUsers\n",
    "\n",
    "def getDataByItems(triplet) :\n",
    "    dataByItems = {}\n",
    "    for t in triplet:\n",
    "        if not t[1] in dataByItems.keys():\n",
    "            dataByItems[t[1]] = {}\n",
    "        dataByItems[t[1]][t[0]] = float(t[2])\n",
    "    return dataByItems\n",
    "\n",
    "# Split l'ensemble des triplets  \n",
    "def splitTrainTest(triplet, testProp) :\n",
    "    perm = np.random.permutation(triplet)\n",
    "    splitIndex = int(testProp * len(triplet))\n",
    "    return perm[splitIndex:], perm[:splitIndex]\n",
    "\n",
    "# supprime des données de test les données inconnus en train\n",
    "def deleteUnknowData(triplet_test, trainUsers, trainItems) :\n",
    "    to_Del = []\n",
    "    for i,t in enumerate(triplet_test):\n",
    "        if not t[0] in trainUsers:\n",
    "            to_Del.append(i)\n",
    "        elif not t[1] in trainItems:\n",
    "            to_Del.append(i)\n",
    "    return np.delete(triplet_test, to_Del, 0)\n",
    "    "
   ]
  },
  {
   "cell_type": "markdown",
   "metadata": {},
   "source": [
    "# Chargement des données"
   ]
  },
  {
   "cell_type": "code",
   "execution_count": 18,
   "metadata": {
    "collapsed": false
   },
   "outputs": [],
   "source": [
    "# LoadMovieLense\n",
    "movies,data,ts = loadMovieLens()\n",
    "\n",
    "triplet = getTriplet(data)\n",
    "\n",
    "# split 80% train 20% test\n",
    "triplet_train, triplet_test = splitTrainTest(triplet , 0.2)\n",
    "\n",
    "# train\n",
    "trainUsers = getDataByUsers(triplet_train)\n",
    "trainItems = getDataByItems(triplet_train)\n",
    "\n",
    "#print len(triplet_test)\n",
    "triplet_test = deleteUnknowData(triplet_test, trainUsers, trainItems)\n",
    "#print len(triplet_test)\n",
    "\n",
    "# test\n",
    "testUsers = getDataByUsers(triplet_test)\n",
    "testItems = getDataByItems(triplet_test)\n"
   ]
  },
  {
   "cell_type": "markdown",
   "metadata": {},
   "source": [
    "# Baseline Moyenne par utilisateur\n"
   ]
  },
  {
   "cell_type": "code",
   "execution_count": 8,
   "metadata": {
    "collapsed": true
   },
   "outputs": [],
   "source": [
    "class BLMeanUsers() :\n",
    "\n",
    "    def __init__(self):  \n",
    "        self.Y = {}\n",
    "        \n",
    "    def fit(self, trainUsers) :\n",
    "        for u in trainUsers.keys():\n",
    "            self.Y[u] = 0\n",
    "            for i in trainUsers[u].keys():\n",
    "                self.Y[u] = self.Y[u] + trainUsers[u][i]\n",
    "            self.Y[u] = self.Y[u]*1.0 / len(trainUsers[u])\n",
    "    \n",
    "    def predict(self, triplet_test):\n",
    "        pred = np.zeros(len(triplet_test))\n",
    "        for ind,c in enumerate(triplet_test):\n",
    "            pred[ind] = self.Y[c[0]]\n",
    "        return pred\n",
    "    \n",
    "    def loss(self, triplet_test) :\n",
    "        return ((self.predict(triplet_test) - np.array(triplet_test[:,2], float)) ** 2).mean()"
   ]
  },
  {
   "cell_type": "code",
   "execution_count": 9,
   "metadata": {
    "collapsed": false
   },
   "outputs": [
    {
     "name": "stdout",
     "output_type": "stream",
     "text": [
      "erreur en test: 1.09541328035\n"
     ]
    }
   ],
   "source": [
    "model = BLMeanUsers()\n",
    "model.fit(trainUsers)\n",
    "print \"erreur en test:\", model.loss(triplet_test)"
   ]
  },
  {
   "cell_type": "markdown",
   "metadata": {},
   "source": [
    "# Baseline Moyenne par item\n"
   ]
  },
  {
   "cell_type": "code",
   "execution_count": 10,
   "metadata": {
    "collapsed": false
   },
   "outputs": [],
   "source": [
    "class BLMeanItems():\n",
    "    \n",
    "    def __init__(self):            \n",
    "        self.Y = {}\n",
    "    \n",
    "    def fit(self, dataItems):\n",
    "        self.Y = {}\n",
    "        for i in dataItems.keys():\n",
    "            self.Y[i] = 0\n",
    "            for u in dataItems[i].keys():\n",
    "                self.Y[i] = self.Y[i] + dataItems[i][u]\n",
    "            self.Y[i] = self.Y[i]*1.0 / len(dataItems[i])\n",
    "    \n",
    "    def predict(self, triplet_test):\n",
    "        pred = np.zeros(len(triplet_test))\n",
    "        for ind,c in enumerate(triplet_test):\n",
    "            pred[ind] = self.Y[c[1]]\n",
    "        return pred\n",
    "    \n",
    "    def loss(self, triplet_test) :\n",
    "        return ((self.predict(triplet_test) - np.array(triplet_test[:,2], float)) ** 2).mean()"
   ]
  },
  {
   "cell_type": "code",
   "execution_count": 11,
   "metadata": {
    "collapsed": false
   },
   "outputs": [
    {
     "name": "stdout",
     "output_type": "stream",
     "text": [
      "erreur en test: 1.0480111007\n"
     ]
    }
   ],
   "source": [
    "model = BLMeanItems()\n",
    "model.fit(trainItems)\n",
    "print \"erreur en test:\", model.loss(triplet_test)"
   ]
  },
  {
   "cell_type": "markdown",
   "metadata": {},
   "source": [
    "# Factorisation Matricielle\n"
   ]
  },
  {
   "cell_type": "code",
   "execution_count": 12,
   "metadata": {
    "collapsed": false
   },
   "outputs": [],
   "source": [
    "class FactoMatrice():\n",
    "    def __init__(self, k, epsilon=1e-3, nbIter=2000, lamb=0.5):\n",
    "        self.k = k\n",
    "        self.lamb = lamb\n",
    "        self.epsilon = epsilon\n",
    "        self.nbIter = nbIter\n",
    "\n",
    "        # descente de gradient stochastique avec mise à jour altérnée\n",
    "    def fit(self, trainUsers, trainItems, triplet):\n",
    "        self.p = {}\n",
    "        self.q = {}\n",
    "        self.triplet = triplet\n",
    "        for j in range(len(triplet)): # On initialise les cases vides en random\n",
    "                u = triplet[j][0]\n",
    "                i = triplet[j][1]\n",
    "                if not u in self.p:\n",
    "                    self.p[u] = np.random.rand(1,self.k) # matrice ligne pour un users\n",
    "                if not i in self.q:\n",
    "                    self.q[i] = np.random.rand(self.k,1) # matrice colonne pour un item\n",
    "        loss = []     \n",
    "        for it in range(self.nbIter):\n",
    "            ind = np.random.randint(len(triplet))\n",
    "            u = triplet[ind][0]\n",
    "            i = triplet[ind][1]\n",
    "            \n",
    "            tmp = trainUsers[u][i] - self.p[u].dot(self.q[i])[0][0]\n",
    "            self.p[u] = (1 - self.lamb * self.epsilon) * self.p[u] + self.epsilon * 2 * tmp * self.q[i].transpose()\n",
    "            self.q[i] = (1 - self.lamb * self.epsilon) * self.q[i] + self.epsilon * 2 * tmp * self.p[u].transpose()\n",
    "            \n",
    "            loss.append(tmp*tmp) # erreur sans régularisation   \n",
    "            #loss.append(tmp**2 + self.lamb *(np.linalg.norm(self.p[u]).sum()**2 + np.linalg.norm(self.q[i]).sum()**2))\n",
    "            if ((it)%(self.nbIter*0.2) == 0) :\n",
    "                print \"itération : \" , it\n",
    "                print \"loss : \", np.mean(loss)\n",
    "                print \"-------\"\n",
    "                loss = []\n",
    "                \n",
    "    def predict(self, triplet_test):\n",
    "        pred = np.zeros(len(triplet_test))\n",
    "        for ind,t in enumerate(triplet_test):\n",
    "            pred[ind] = self.p[t[0]].dot(self.q[t[1]])[0][0]\n",
    "        return pred\n",
    "    \n",
    "    def score(self, triplet_test) :\n",
    "        return ((self.predict(triplet_test) - np.array(triplet_test[:,2], float)) ** 2).mean()"
   ]
  },
  {
   "cell_type": "code",
   "execution_count": 13,
   "metadata": {
    "collapsed": false
   },
   "outputs": [
    {
     "name": "stdout",
     "output_type": "stream",
     "text": [
      "itération :  0\n",
      "loss :  0.865025052971\n",
      "-------\n",
      "itération :  319020\n",
      "loss :  0.940525228999\n",
      "-------\n",
      "itération :  638040\n",
      "loss :  0.843636952741\n",
      "-------\n",
      "itération :  957060\n",
      "loss :  0.803132157771\n",
      "-------\n",
      "itération :  1276080\n",
      "loss :  0.76403387833\n",
      "-------\n",
      "erreur en test: 0.891774021195\n"
     ]
    }
   ],
   "source": [
    "k = 10\n",
    "epsilon = 7e-3\n",
    "nbIter = 20*len(triplet_train)\n",
    "lamb = 0.2\n",
    "model = FactoMatrice(k, epsilon=epsilon, nbIter=nbIter,lamb=lamb)\n",
    "model.fit(trainUsers, trainItems, triplet_train)\n",
    "print \"erreur en test:\", model.score(triplet_test)"
   ]
  },
  {
   "cell_type": "markdown",
   "metadata": {},
   "source": [
    "# Factorisation Matricielle avec biais"
   ]
  },
  {
   "cell_type": "code",
   "execution_count": 14,
   "metadata": {
    "collapsed": false
   },
   "outputs": [],
   "source": [
    "class FactoMatriceBiais():\n",
    "    def __init__(self, k, epsilon=1e-3, nbIter=2000, lamb=0.5):\n",
    "        self.k = k\n",
    "        self.lamb = lamb\n",
    "        self.epsilon = epsilon\n",
    "        self.nbIter = nbIter\n",
    "\n",
    "    def fit(self, trainUsers, trainItems, triplet):\n",
    "\n",
    "        self.p = {}\n",
    "        self.q = {}\n",
    "        self.bu = {} #biais sur les utilisateurs\n",
    "        self.bi = {} #biais sur les items\n",
    "        self.mu = np.random.random() * 2 - 1\n",
    "        \n",
    "        for j in range(len(triplet)): # On initialise les cases vides en random\n",
    "            u = triplet[j][0]\n",
    "            i = triplet[j][1]\n",
    "            if not u in self.p:\n",
    "                self.p[u] = np.random.rand(1,self.k) # matrice ligne pour un users\n",
    "                self.bu[u] = np.random.rand() * 2 - 1\n",
    "            if not i in self.q:\n",
    "                self.q[i] = np.random.rand(self.k,1) # matrice colonne pour un item\n",
    "                self.bi[i] = np.random.rand() * 2 - 1\n",
    "        loss = []   \n",
    "        for it in range(self.nbIter):\n",
    "            ind = np.random.randint(len(triplet))\n",
    "            u = triplet[ind][0]\n",
    "            i = triplet[ind][1]\n",
    "            \n",
    "            tmp = trainUsers[u][i] - (self.mu + self.bi[i] + self.bu[u] +self.p[u].dot(self.q[i])[0][0])\n",
    "            self.p[u] = (1 - self.lamb * self.epsilon) * self.p[u] + self.epsilon * 2 * tmp * self.q[i].transpose()\n",
    "            self.bu[u] = (1 - self.lamb * self.epsilon) * self.bu[u] + self.epsilon * 2 * tmp\n",
    "            self.q[i] = (1 - self.lamb * self.epsilon) * self.q[i] + self.epsilon * 2 * tmp * self.p[u].transpose()\n",
    "            self.bi[i] = (1 - self.lamb * self.epsilon) * self.bi[i] + self.epsilon * 2 * tmp\n",
    "            self.mu = (1 - self.lamb * self.epsilon) * self.mu + self.epsilon * 2 * tmp\n",
    "            \n",
    "            loss.append(tmp*tmp) # erreur sans régularisation\n",
    "            #loss.append(tmp**2 + self.lamb *(np.linalg.norm(self.p[u]).sum()**2 + np.linalg.norm(self.q[i]).sum()**2))\n",
    "            \n",
    "            if ((it)%(self.nbIter*0.2) == 0) :\n",
    "                print \"itération : \" , it\n",
    "                print \"loss : \", np.mean(loss)\n",
    "                print \"-------\"\n",
    "                loss = []\n",
    "            \n",
    "    def predict(self, triplet_test):\n",
    "        pred = np.zeros(len(triplet_test))\n",
    "        for ind,t in enumerate(triplet_test):\n",
    "            pred[ind] = self.mu + self.bu[t[0]] + self.bi[t[1]] + self.p[t[0]].dot(self.q[t[1]])[0][0]\n",
    "        return pred\n",
    "    \n",
    "    def score(self, triplet_test) :\n",
    "        return ((self.predict(triplet_test) - np.array(triplet_test[:,2], float)) ** 2).mean()"
   ]
  },
  {
   "cell_type": "code",
   "execution_count": 19,
   "metadata": {
    "collapsed": false
   },
   "outputs": [
    {
     "data": {
      "text/plain": [
       "79755"
      ]
     },
     "execution_count": 19,
     "metadata": {},
     "output_type": "execute_result"
    }
   ],
   "source": [
    "len(triplet_train)"
   ]
  },
  {
   "cell_type": "code",
   "execution_count": 15,
   "metadata": {
    "collapsed": false
   },
   "outputs": [
    {
     "name": "stdout",
     "output_type": "stream",
     "text": [
      "itération :  0\n",
      "loss :  2.09260543303\n",
      "-------\n",
      "itération :  319020\n",
      "loss :  0.945436307228\n",
      "-------\n",
      "itération :  638040\n",
      "loss :  0.832806594752\n",
      "-------\n",
      "itération :  957060\n",
      "loss :  0.799813700528\n",
      "-------\n",
      "itération :  1276080\n",
      "loss :  0.753472469449\n",
      "-------\n",
      "erreur en test: 0.868788521983\n"
     ]
    }
   ],
   "source": [
    "k = 10\n",
    "epsilon = 7e-3\n",
    "nbIter = 20*len(triplet_train)\n",
    "lamb = 0.2\n",
    "model = FactoMatriceBiais(k, epsilon=epsilon, nbIter=nbIter,lamb=lamb)\n",
    "model.fit(trainUsers, trainItems, triplet_train)\n",
    "print \"erreur en test:\", model.score(triplet_test)"
   ]
  },
  {
   "cell_type": "markdown",
   "metadata": {},
   "source": [
    "## Passage a MovieLens 1M"
   ]
  },
  {
   "cell_type": "code",
   "execution_count": 16,
   "metadata": {
    "collapsed": true
   },
   "outputs": [
    {
     "ename": "KeyboardInterrupt",
     "evalue": "",
     "output_type": "error",
     "traceback": [
      "\u001b[0;31m---------------------------------------------------------------------------\u001b[0m",
      "\u001b[0;31mKeyboardInterrupt\u001b[0m                         Traceback (most recent call last)",
      "\u001b[0;32m<ipython-input-16-08cd9ce5cbc6>\u001b[0m in \u001b[0;36m<module>\u001b[0;34m()\u001b[0m\n\u001b[1;32m      9\u001b[0m \u001b[0;31m# train\u001b[0m\u001b[0;34m\u001b[0m\u001b[0;34m\u001b[0m\u001b[0m\n\u001b[1;32m     10\u001b[0m \u001b[0mtrainUsers\u001b[0m \u001b[0;34m=\u001b[0m \u001b[0mgetDataByUsers\u001b[0m\u001b[0;34m(\u001b[0m\u001b[0mtriplet_train\u001b[0m\u001b[0;34m)\u001b[0m\u001b[0;34m\u001b[0m\u001b[0m\n\u001b[0;32m---> 11\u001b[0;31m \u001b[0mtrainItems\u001b[0m \u001b[0;34m=\u001b[0m \u001b[0mgetDataByItems\u001b[0m\u001b[0;34m(\u001b[0m\u001b[0mtriplet_train\u001b[0m\u001b[0;34m)\u001b[0m\u001b[0;34m\u001b[0m\u001b[0m\n\u001b[0m\u001b[1;32m     12\u001b[0m \u001b[0;34m\u001b[0m\u001b[0m\n\u001b[1;32m     13\u001b[0m \u001b[0;31m#print len(triplet_test)\u001b[0m\u001b[0;34m\u001b[0m\u001b[0;34m\u001b[0m\u001b[0m\n",
      "\u001b[0;32m<ipython-input-6-1c6da9e78236>\u001b[0m in \u001b[0;36mgetDataByItems\u001b[0;34m(triplet)\u001b[0m\n\u001b[1;32m     19\u001b[0m         \u001b[0;32mif\u001b[0m \u001b[0;32mnot\u001b[0m \u001b[0mt\u001b[0m\u001b[0;34m[\u001b[0m\u001b[0;36m1\u001b[0m\u001b[0;34m]\u001b[0m \u001b[0;32min\u001b[0m \u001b[0mdataByItems\u001b[0m\u001b[0;34m.\u001b[0m\u001b[0mkeys\u001b[0m\u001b[0;34m(\u001b[0m\u001b[0;34m)\u001b[0m\u001b[0;34m:\u001b[0m\u001b[0;34m\u001b[0m\u001b[0m\n\u001b[1;32m     20\u001b[0m             \u001b[0mdataByItems\u001b[0m\u001b[0;34m[\u001b[0m\u001b[0mt\u001b[0m\u001b[0;34m[\u001b[0m\u001b[0;36m1\u001b[0m\u001b[0;34m]\u001b[0m\u001b[0;34m]\u001b[0m \u001b[0;34m=\u001b[0m \u001b[0;34m{\u001b[0m\u001b[0;34m}\u001b[0m\u001b[0;34m\u001b[0m\u001b[0m\n\u001b[0;32m---> 21\u001b[0;31m         \u001b[0mdataByItems\u001b[0m\u001b[0;34m[\u001b[0m\u001b[0mt\u001b[0m\u001b[0;34m[\u001b[0m\u001b[0;36m1\u001b[0m\u001b[0;34m]\u001b[0m\u001b[0;34m]\u001b[0m\u001b[0;34m[\u001b[0m\u001b[0mt\u001b[0m\u001b[0;34m[\u001b[0m\u001b[0;36m0\u001b[0m\u001b[0;34m]\u001b[0m\u001b[0;34m]\u001b[0m \u001b[0;34m=\u001b[0m \u001b[0mfloat\u001b[0m\u001b[0;34m(\u001b[0m\u001b[0mt\u001b[0m\u001b[0;34m[\u001b[0m\u001b[0;36m2\u001b[0m\u001b[0;34m]\u001b[0m\u001b[0;34m)\u001b[0m\u001b[0;34m\u001b[0m\u001b[0m\n\u001b[0m\u001b[1;32m     22\u001b[0m     \u001b[0;32mreturn\u001b[0m \u001b[0mdataByItems\u001b[0m\u001b[0;34m\u001b[0m\u001b[0m\n\u001b[1;32m     23\u001b[0m \u001b[0;34m\u001b[0m\u001b[0m\n",
      "\u001b[0;31mKeyboardInterrupt\u001b[0m: "
     ]
    }
   ],
   "source": [
    "# LoadMovieLense\n",
    "movies,data,ts = loadMovieLens1M()\n",
    "\n",
    "triplet = getTriplet(data)\n",
    "\n",
    "# split 80% train 20% test\n",
    "triplet_train, triplet_test = splitTrainTest(triplet , 0.2)\n",
    "\n",
    "# train\n",
    "trainUsers = getDataByUsers(triplet_train)\n",
    "trainItems = getDataByItems(triplet_train)\n",
    "\n",
    "#print len(triplet_test)\n",
    "triplet_test = deleteUnknowData(triplet_test, trainUsers, trainItems)\n",
    "#print len(triplet_test)\n",
    "\n",
    "# test\n",
    "testUsers = getDataByUsers(triplet_test)\n",
    "testItems = getDataByItems(triplet_test)"
   ]
  },
  {
   "cell_type": "markdown",
   "metadata": {},
   "source": [
    "## BaseLines"
   ]
  },
  {
   "cell_type": "code",
   "execution_count": null,
   "metadata": {
    "collapsed": false
   },
   "outputs": [],
   "source": [
    "model = BLMeanUsers()\n",
    "model.fit(trainUsers)\n",
    "print \"erreur en test:\", model.loss(triplet_test)"
   ]
  },
  {
   "cell_type": "code",
   "execution_count": null,
   "metadata": {
    "collapsed": false
   },
   "outputs": [],
   "source": [
    "model = BLMeanItems()\n",
    "model.fit(trainItems)\n",
    "print \"erreur en test:\", model.loss(triplet_test)"
   ]
  },
  {
   "cell_type": "markdown",
   "metadata": {},
   "source": [
    "## FactoMatrice sans biais"
   ]
  },
  {
   "cell_type": "code",
   "execution_count": null,
   "metadata": {
    "collapsed": false
   },
   "outputs": [],
   "source": [
    "k = 10\n",
    "epsilon = 7e-3\n",
    "nbIter = 20*len(triplet_train)\n",
    "lamb = 0.2\n",
    "model = FactoMatrice(k, epsilon=epsilon, nbIter=nbIter,lamb=lamb)\n",
    "model.fit(trainUsers, trainItems, triplet_train)\n",
    "print \"erreur en test:\", model.score(triplet_test)"
   ]
  },
  {
   "cell_type": "markdown",
   "metadata": {},
   "source": [
    "## FactoMatrice avec biais"
   ]
  },
  {
   "cell_type": "code",
   "execution_count": 78,
   "metadata": {
    "collapsed": false
   },
   "outputs": [
    {
     "name": "stdout",
     "output_type": "stream",
     "text": [
      "itération :  0\n",
      "loss :  2.41812087178\n",
      "-------\n",
      "itération :  3200672\n",
      "loss :  0.872376783824\n",
      "-------\n",
      "itération :  6401344\n",
      "loss :  0.813206610623\n",
      "-------\n",
      "itération :  9602016\n",
      "loss :  0.775502568901\n",
      "-------\n",
      "itération :  12802688\n",
      "loss :  0.752245519686\n",
      "-------\n",
      "erreur en test: 0.779567716979\n"
     ]
    }
   ],
   "source": [
    "k = 10\n",
    "epsilon = 7e-3\n",
    "nbIter = 20*len(triplet_train)\n",
    "lamb = 0.2\n",
    "model = FactoMatriceBiais(k, epsilon=epsilon, nbIter=nbIter,lamb=lamb)\n",
    "model.fit(trainUsers, trainItems, triplet_train)\n",
    "print \"erreur en test:\", model.score(triplet_test)"
   ]
  },
  {
   "cell_type": "code",
   "execution_count": null,
   "metadata": {
    "collapsed": false
   },
   "outputs": [],
   "source": []
  }
 ],
 "metadata": {
  "kernelspec": {
   "display_name": "Python 2",
   "language": "python",
   "name": "python2"
  },
  "language_info": {
   "codemirror_mode": {
    "name": "ipython",
    "version": 2
   },
   "file_extension": ".py",
   "mimetype": "text/x-python",
   "name": "python",
   "nbconvert_exporter": "python",
   "pygments_lexer": "ipython2",
   "version": "2.7.10"
  }
 },
 "nbformat": 4,
 "nbformat_minor": 0
}
