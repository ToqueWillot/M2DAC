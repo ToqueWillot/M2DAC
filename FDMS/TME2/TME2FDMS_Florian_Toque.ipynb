{
 "cells": [
  {
   "cell_type": "markdown",
   "metadata": {},
   "source": [
    "# FDMS TME2  \n",
    "  \n",
    "Florian Toque  \n",
    "\n",
    "In this notebook we will train classifier optimizing accuracy and reducing the number of features used at the same time.  \n",
    "We will compare L1 and L2 classification and confirm our classifier performance with sklearn Lasso and ElasticNet classifiers."
   ]
  },
  {
   "cell_type": "code",
   "execution_count": 2,
   "metadata": {
    "collapsed": false
   },
   "outputs": [],
   "source": [
    "%matplotlib inline\n",
    "import sklearn\n",
    "import matplotlib.pyplot as plt\n",
    "import seaborn as sns\n",
    "import numpy as np\n",
    "import random\n",
    "import copy\n",
    "\n",
    "from sklearn.datasets import fetch_mldata\n",
    "from sklearn import cross_validation\n",
    "from sklearn import base\n",
    "from sklearn.linear_model import Lasso\n",
    "from sklearn.linear_model import ElasticNet\n",
    "\n",
    "import matplotlib.pyplot as plt"
   ]
  },
  {
   "cell_type": "markdown",
   "metadata": {},
   "source": [
    "--- \n",
    "## Data generation"
   ]
  },
  {
   "cell_type": "code",
   "execution_count": 3,
   "metadata": {
    "collapsed": false
   },
   "outputs": [],
   "source": [
    "ds = sklearn.datasets.make_classification(n_samples=2500,\n",
    "                                          n_features=30,    # 30 features\n",
    "                                          n_informative=8,  # only 8 informatives ones\n",
    "                                          n_redundant=0,\n",
    "                                          n_repeated=2,     # and 2 duplicate\n",
    "                                          n_classes=2,\n",
    "                                          n_clusters_per_class=1,\n",
    "                                          weights=None,\n",
    "                                          flip_y=0.03,\n",
    "                                          class_sep=0.8,\n",
    "                                          hypercube=True,\n",
    "                                          shift=0.0,\n",
    "                                          scale=1.0,\n",
    "                                          shuffle=True,\n",
    "                                          random_state=None)\n",
    "X= ds[0]\n",
    "y= ds[1]\n",
    "\n",
    "# labels: [0,1] -> [-1,1]\n",
    "for idx,i in enumerate(y):\n",
    "    if (i==0):\n",
    "        y[idx]=-1"
   ]
  },
  {
   "cell_type": "code",
   "execution_count": 4,
   "metadata": {
    "collapsed": false
   },
   "outputs": [
    {
     "name": "stdout",
     "output_type": "stream",
     "text": [
      "[ 0.54991525  0.7445713  -0.74817947  0.19914777  1.89452361  1.43438157\n",
      " -2.78926078 -0.31516524 -1.51603771  0.17581455  1.31090246  1.72057743\n",
      "  1.10527106 -0.3805012  -0.54601565 -1.07465358  0.92891637 -0.9810676\n",
      "  0.73878389 -0.01468765 -1.66920149  0.01571569 -1.31260802  0.14947644\n",
      " -1.07465358 -0.51418413  1.95727881 -2.78926078 -0.4018432   1.14024748]\n",
      "1\n"
     ]
    }
   ],
   "source": [
    "print(X[0])\n",
    "print(y[0])"
   ]
  },
  {
   "cell_type": "markdown",
   "metadata": {},
   "source": [
    "---\n",
    "### L1\n",
    "\n",
    "**Advantage:** good features selection"
   ]
  },
  {
   "cell_type": "markdown",
   "metadata": {},
   "source": [
    "#### L1 gradient pseudocode"
   ]
  },
  {
   "cell_type": "raw",
   "metadata": {},
   "source": [
    "procedureGradientL1(θ,X,Y,I;ε)\n",
    "    for it = 1, I do \n",
    "        for i = 1, n do\n",
    "            idx ← random(l)\n",
    "            θ′ ← θ − ε∇θ L(θ)(idx)\n",
    "            for j=1,n do\n",
    "                if θj′ ∗ θj < 0 then\n",
    "                    θj ← 0\n",
    "                else\n",
    "                    θ j ← θ j′\n",
    "                end if\n",
    "            end for\n",
    "        end for\n",
    "        Afficher L(θ) et accuracy(θ) pour controle\n",
    "    end for\n",
    "    return θ \n",
    "end procedure\n",
    "\n",
    "L(θ) = 1/l * somme de 1 a l:( yi − fθ(xi))2 + λC(θ) )"
   ]
  },
  {
   "cell_type": "code",
   "execution_count": 5,
   "metadata": {
    "collapsed": false
   },
   "outputs": [],
   "source": [
    "class GradientDescent(base.BaseEstimator):\n",
    "    def __init__(self,theta,lamb,eps):\n",
    "        self.theta=theta\n",
    "        self.eps=eps\n",
    "        self.lamb=lamb\n",
    "        self.used_features=len(theta)\n",
    "\n",
    "    def fit(self,X,y,nbIt=1000,printevery=-1):\n",
    "        l=len(X)\n",
    "        xTrans = X.transpose()\n",
    "        \n",
    "        for i in xrange(0,nbIt):\n",
    "            #index = np.random.randint(l)\n",
    "            loss = np.dot(X, self.theta) - y\n",
    "            cost = np.sum(loss ** 2) * (1 / l) + (self.lamb*np.linalg.norm(self.theta))\n",
    "            gradient = np.dot(xTrans,(np.dot(self.theta,xTrans)-y))\n",
    "            \n",
    "            if i%(nbIt/100)==0:\n",
    "                thetaprime = self.theta - self.eps * (np.sign(theta)*self.lamb)\n",
    "            else:\n",
    "                thetaprime = self.theta - self.eps * gradient\n",
    "            \n",
    "            for k in xrange(0,len(theta)):\n",
    "                self.theta[k] = 0 if thetaprime[k]*theta[k]<0 else thetaprime[k]\n",
    "            \n",
    "            \n",
    "            if printevery!=-1 and i%printevery==0:\n",
    "                    print(\"Iteration %s | Cost: %f | Score: %.03f\" % (str(i).ljust(6), cost,self.score(X,y)))\n",
    "                    ttt = self.nb_used_features()\n",
    "                    print(\"%d features used\"%(ttt))\n",
    "                    self.used_features=ttt\n",
    "            elif i%1000==0:\n",
    "                ttt = self.nb_used_features()\n",
    "                self.used_features=ttt\n",
    "            \n",
    "                \n",
    "    def predict(self,x):\n",
    "        ret=[]\n",
    "        for i in x:\n",
    "            ret.append(1 if np.dot(i,self.theta)>0 else -1)\n",
    "        return ret\n",
    "    \n",
    "    def score(self,X,y):\n",
    "        cpt=0.0\n",
    "        allpred = self.predict(X)\n",
    "        for idx,i in enumerate(allpred):\n",
    "            cpt += 1 if i==y[idx] else 0\n",
    "        return cpt/len(X)\n",
    "    \n",
    "    def nb_used_features(self):\n",
    "        cpt=0\n",
    "        for ii in self.theta:\n",
    "            if ii==0:\n",
    "                cpt+=1\n",
    "        return len(self.theta)-cpt"
   ]
  },
  {
   "cell_type": "code",
   "execution_count": 6,
   "metadata": {
    "collapsed": false
   },
   "outputs": [],
   "source": [
    "theta = copy.deepcopy(X[0])\n",
    "lamb=500\n",
    "eps=0.00001\n",
    "\n",
    "gd = GradientDescent(theta,lamb,eps)"
   ]
  },
  {
   "cell_type": "code",
   "execution_count": 7,
   "metadata": {
    "collapsed": false
   },
   "outputs": [
    {
     "name": "stdout",
     "output_type": "stream",
     "text": [
      "Iteration 0      | Cost: 3398.703301 | Score: 0.743\n",
      "30 features used\n",
      "Iteration 500    | Cost: 194.497577 | Score: 0.890\n",
      "21 features used\n",
      "Iteration 1000   | Cost: 194.464403 | Score: 0.890\n",
      "21 features used\n",
      "Iteration 1500   | Cost: 194.464383 | Score: 0.890\n",
      "21 features used\n",
      "Iteration 2000   | Cost: 194.464383 | Score: 0.890\n",
      "21 features used\n",
      "Iteration 2500   | Cost: 194.464383 | Score: 0.890\n",
      "21 features used\n",
      "Iteration 3000   | Cost: 194.464383 | Score: 0.890\n",
      "21 features used\n",
      "Iteration 3500   | Cost: 194.464383 | Score: 0.890\n",
      "21 features used\n",
      "Iteration 4000   | Cost: 194.464383 | Score: 0.890\n",
      "21 features used\n",
      "Iteration 4500   | Cost: 194.464383 | Score: 0.890\n",
      "21 features used\n",
      "Cross validation scores: [ 0.888  0.878  0.886  0.898  0.896], mean: 0.89\n"
     ]
    }
   ],
   "source": [
    "nbIterations = 5000\n",
    "gd.fit(X,y,nbIterations,printevery=nbIterations/10)\n",
    "scores = cross_validation.cross_val_score(gd, X, y, cv=5,scoring=\"accuracy\")\n",
    "print(\"Cross validation scores: %s, mean: %.02f\"%(scores,np.mean(scores)))"
   ]
  },
  {
   "cell_type": "markdown",
   "metadata": {},
   "source": [
    "### Selecting lambda\n",
    "\n",
    "We have only 8 informatives features over 30, and 2 repeated.  \n",
    "We thrive to reach this number of features, while keeping a good classification score."
   ]
  },
  {
   "cell_type": "code",
   "execution_count": 8,
   "metadata": {
    "collapsed": false
   },
   "outputs": [
    {
     "name": "stdout",
     "output_type": "stream",
     "text": [
      "Lamda: 0     | Cross val mean: 0.889 | Features: 30\n",
      "Lamda: 200   | Cross val mean: 0.889 | Features: 25\n",
      "Lamda: 400   | Cross val mean: 0.890 | Features: 21\n",
      "Lamda: 600   | Cross val mean: 0.890 | Features: 21\n",
      "Lamda: 800   | Cross val mean: 0.890 | Features: 18\n",
      "Lamda: 1000  | Cross val mean: 0.888 | Features: 14\n",
      "Lamda: 1200  | Cross val mean: 0.885 | Features: 13\n",
      "Lamda: 1400  | Cross val mean: 0.886 | Features: 10\n",
      "Lamda: 1600  | Cross val mean: 0.883 | Features: 10\n",
      "Lamda: 1800  | Cross val mean: 0.879 | Features: 9\n",
      "Lamda: 2000  | Cross val mean: 0.878 | Features: 9\n",
      "Lamda: 2200  | Cross val mean: 0.878 | Features: 9\n",
      "Lamda: 2400  | Cross val mean: 0.878 | Features: 9\n",
      "Lamda: 2600  | Cross val mean: 0.877 | Features: 9\n",
      "Lamda: 2800  | Cross val mean: 0.876 | Features: 9\n",
      "Lamda: 3000  | Cross val mean: 0.874 | Features: 9\n",
      "Lamda: 3200  | Cross val mean: 0.872 | Features: 9\n",
      "Lamda: 3400  | Cross val mean: 0.872 | Features: 9\n",
      "Lamda: 3600  | Cross val mean: 0.874 | Features: 9\n",
      "Lamda: 3800  | Cross val mean: 0.874 | Features: 8\n",
      "Lamda: 4000  | Cross val mean: 0.874 | Features: 8\n",
      "Lamda: 4200  | Cross val mean: 0.874 | Features: 8\n",
      "Lamda: 4400  | Cross val mean: 0.874 | Features: 8\n",
      "Lamda: 4600  | Cross val mean: 0.874 | Features: 8\n",
      "Lamda: 4800  | Cross val mean: 0.874 | Features: 8\n"
     ]
    }
   ],
   "source": [
    "eps=0.00001\n",
    "la = []\n",
    "cross_sc = []\n",
    "used_features = []\n",
    "\n",
    "for lamb in np.arange(0,5000,200):\n",
    "    theta = copy.deepcopy(X[0])\n",
    "    gd = GradientDescent(theta,lamb,eps)\n",
    "    nbIterations = 4000\n",
    "    gd.fit(X,y,nbIterations)\n",
    "    scoresSvm = cross_validation.cross_val_score(gd, X, y, cv=5,scoring=\"accuracy\")\n",
    "    print(\"Lamda: %s | Cross val mean: %.03f | Features: %d\"%(str(lamb).ljust(5),np.mean(scoresSvm),gd.used_features))\n",
    "    #print(\"Lamda: %.02f | Cross val mean: %.02f | Features: %d\"%(lamb,gd.score(X,y),gd.used_features))\n",
    "    cross_sc.append(np.mean(scoresSvm))\n",
    "    la.append(lamb)\n",
    "    used_features.append(gd.used_features)"
   ]
  },
  {
   "cell_type": "code",
   "execution_count": 9,
   "metadata": {
    "collapsed": false
   },
   "outputs": [
    {
     "data": {
      "image/png": "[encoded data removed]",
      "text/plain": [
       "<matplotlib.figure.Figure at 0x104cdfbd0>"
      ]
     },
     "metadata": {},
     "output_type": "display_data"
    }
   ],
   "source": [
    "fig, ax1 = plt.subplots()\n",
    "\n",
    "ax2 = ax1.twinx()\n",
    "ax1.plot(la, cross_sc, '#6DC433')\n",
    "ax2.plot(la, used_features, '#5AC8ED')\n",
    "\n",
    "ax1.set_xlabel('lambda')\n",
    "ax1.set_ylabel('Cross val score', color='#6DC433')\n",
    "ax2.set_ylabel('Nb features used', color='#5AC8ED')\n",
    "\n",
    "ax1.yaxis.grid(False)\n",
    "ax2.grid(False)\n",
    "plt.show()"
   ]
  },
  {
   "cell_type": "markdown",
   "metadata": {},
   "source": [
    "We can see that only 8 features are usefull (score 87%), with more features we can make overfitting and scores are only 2% better."
   ]
  },
  {
   "cell_type": "markdown",
   "metadata": {},
   "source": [
    "---\n",
    "### L2"
   ]
  },
  {
   "cell_type": "markdown",
   "metadata": {},
   "source": [
    "The difference between the L1 and L2 regularization is that L1 work on the sum of the weights, and L2 work on the sum of the square of the weights, and is therefor more sensitive to outliers.\n",
    "\n",
    "**Advantage:** good predictions with significants constraints"
   ]
  },
  {
   "cell_type": "code",
   "execution_count": 11,
   "metadata": {
    "collapsed": true
   },
   "outputs": [],
   "source": [
    "class GradientDescentL2(base.BaseEstimator):\n",
    "    def __init__(self,theta,lamb,eps):\n",
    "        self.theta=theta\n",
    "        self.eps=eps\n",
    "        self.lamb=lamb\n",
    "        self.used_features=len(theta)\n",
    "\n",
    "    def fit(self,X,y,nbIt=1000,printevery=-1):\n",
    "        l=len(X)\n",
    "        xTrans = X.transpose()\n",
    "        \n",
    "        for i in xrange(0,nbIt):\n",
    "            index = np.random.randint(l)\n",
    "            loss = np.dot(X, self.theta) - y\n",
    "            cost = np.sum(loss ** 2) * (1 / l) + (self.lamb*np.linalg.norm(self.theta))**2\n",
    "            gradient = np.dot(xTrans,(np.dot(self.theta,xTrans)-y))\n",
    "            \n",
    "            if i%(nbIt/100)==0:\n",
    "                thetaprime = self.theta - self.eps * (np.sign(theta)*self.lamb)\n",
    "            else:\n",
    "                thetaprime = self.theta - self.eps * gradient\n",
    "            \n",
    "            for k in xrange(0,len(theta)):\n",
    "                self.theta[k] = 0 if thetaprime[k]*theta[k]<0 else thetaprime[k]\n",
    "            \n",
    "            \n",
    "            if printevery!=-1 and i%printevery==0:\n",
    "                    print(\"Iteration %s | Cost: %f | Score: %.03f\" % (str(i).ljust(6), cost,self.score(X,y)))\n",
    "                    ttt = self.nb_used_features()\n",
    "                    print(\"%d features used\"%(ttt))\n",
    "                    self.used_features=ttt\n",
    "            elif i%1000==0:\n",
    "                ttt = self.nb_used_features()\n",
    "                self.used_features=ttt\n",
    "            \n",
    "                \n",
    "    def predict(self,x):\n",
    "        ret=[]\n",
    "        for i in x:\n",
    "            ret.append(1 if np.dot(i,self.theta)>0 else -1)\n",
    "        return ret\n",
    "    \n",
    "    def score(self,X,y):\n",
    "        cpt=0.0\n",
    "        allpred = self.predict(X)\n",
    "        for idx,i in enumerate(allpred):\n",
    "            cpt += 1 if i==y[idx] else 0\n",
    "        return cpt/len(X)\n",
    "    \n",
    "    def nb_used_features(self):\n",
    "        cpt=0\n",
    "        for ii in self.theta:\n",
    "            if ii==0:\n",
    "                cpt+=1\n",
    "        return len(self.theta)-cpt"
   ]
  },
  {
   "cell_type": "markdown",
   "metadata": {},
   "source": [
    "#### Test with only 200 samples"
   ]
  },
  {
   "cell_type": "code",
   "execution_count": 12,
   "metadata": {
    "collapsed": false
   },
   "outputs": [],
   "source": [
    "ds = sklearn.datasets.make_classification(n_samples=200,\n",
    "                                          n_features=30,    # 30 features\n",
    "                                          n_informative=8,  # only 8 informatives ones\n",
    "                                          n_redundant=0,\n",
    "                                          n_repeated=2,     # and 2 duplicate\n",
    "                                          n_classes=2,\n",
    "                                          n_clusters_per_class=1,\n",
    "                                          weights=None,\n",
    "                                          flip_y=0.01,\n",
    "                                          class_sep=0.8,\n",
    "                                          hypercube=True,\n",
    "                                          shift=0.0,\n",
    "                                          scale=1.0,\n",
    "                                          shuffle=True,\n",
    "                                          random_state=None)\n",
    "X= ds[0]\n",
    "y= ds[1]\n",
    "\n",
    "# labels: [0,1] -> [-1,1]\n",
    "for idx,i in enumerate(y):\n",
    "    if (i==0):\n",
    "        y[idx]=-1"
   ]
  },
  {
   "cell_type": "code",
   "execution_count": 13,
   "metadata": {
    "collapsed": false
   },
   "outputs": [],
   "source": [
    "theta = copy.deepcopy(X[0])\n",
    "lamb=1000\n",
    "eps=0.00001\n",
    "\n",
    "gd = GradientDescentL2(theta,lamb,eps)\n",
    "#gd.tmp"
   ]
  },
  {
   "cell_type": "code",
   "execution_count": 14,
   "metadata": {
    "collapsed": false
   },
   "outputs": [
    {
     "name": "stdout",
     "output_type": "stream",
     "text": [
      "Iteration 0      | Cost: 82880412.729433 | Score: 0.515\n",
      "30 features used\n",
      "Iteration 500    | Cost: 2351720.934932 | Score: 0.730\n",
      "26 features used\n",
      "Iteration 1000   | Cost: 275501.528014 | Score: 0.925\n",
      "18 features used\n",
      "Iteration 1500   | Cost: 126137.014258 | Score: 0.955\n",
      "11 features used\n",
      "Iteration 2000   | Cost: 117457.520732 | Score: 0.955\n",
      "7 features used\n",
      "Iteration 2500   | Cost: 114989.959085 | Score: 0.960\n",
      "7 features used\n",
      "Iteration 3000   | Cost: 114515.659670 | Score: 0.960\n",
      "7 features used\n",
      "Iteration 3500   | Cost: 114605.770301 | Score: 0.960\n",
      "7 features used\n",
      "Iteration 4000   | Cost: 114796.496900 | Score: 0.960\n",
      "7 features used\n",
      "Iteration 4500   | Cost: 114961.203500 | Score: 0.960\n",
      "7 features used\n",
      "Cross validation scores: [ 0.875  0.9    0.95   0.95   0.975], mean: 0.93\n"
     ]
    }
   ],
   "source": [
    "nbIterations = 5000\n",
    "gd.fit(X,y,nbIterations,printevery=nbIterations/10)\n",
    "scores = cross_validation.cross_val_score(gd, X, y, cv=5,scoring=\"accuracy\")\n",
    "print(\"Cross validation scores: %s, mean: %.02f\"%(scores,np.mean(scores)))"
   ]
  },
  {
   "cell_type": "markdown",
   "metadata": {},
   "source": [
    "We can see that L2 is more sensitive to outliers because it chooses 7 usefull features against 8 for L1"
   ]
  },
  {
   "cell_type": "markdown",
   "metadata": {},
   "source": [
    "### Selecting lambda\n",
    "\n",
    "Similar to L1"
   ]
  },
  {
   "cell_type": "code",
   "execution_count": 18,
   "metadata": {
    "collapsed": false
   },
   "outputs": [
    {
     "name": "stdout",
     "output_type": "stream",
     "text": [
      "Lamda: 0     | Cross val mean: 0.935 | Features: 30\n",
      "Lamda: 200   | Cross val mean: 0.955 | Features: 14\n",
      "Lamda: 400   | Cross val mean: 0.950 | Features: 11\n",
      "Lamda: 600   | Cross val mean: 0.955 | Features: 10\n",
      "Lamda: 800   | Cross val mean: 0.935 | Features: 7\n",
      "Lamda: 1000  | Cross val mean: 0.930 | Features: 7\n",
      "Lamda: 1200  | Cross val mean: 0.910 | Features: 7\n",
      "Lamda: 1400  | Cross val mean: 0.895 | Features: 7\n",
      "Lamda: 1600  | Cross val mean: 0.890 | Features: 7\n",
      "Lamda: 1800  | Cross val mean: 0.890 | Features: 6\n",
      "Lamda: 2000  | Cross val mean: 0.890 | Features: 6\n",
      "Lamda: 2200  | Cross val mean: 0.890 | Features: 6\n",
      "Lamda: 2400  | Cross val mean: 0.890 | Features: 6\n",
      "Lamda: 2600  | Cross val mean: 0.890 | Features: 6\n",
      "Lamda: 2800  | Cross val mean: 0.890 | Features: 6\n",
      "Lamda: 3000  | Cross val mean: 0.890 | Features: 6\n",
      "Lamda: 3200  | Cross val mean: 0.890 | Features: 6\n",
      "Lamda: 3400  | Cross val mean: 0.890 | Features: 6\n",
      "Lamda: 3600  | Cross val mean: 0.890 | Features: 6\n",
      "Lamda: 3800  | Cross val mean: 0.890 | Features: 6\n"
     ]
    }
   ],
   "source": [
    "eps=0.00001\n",
    "la = []\n",
    "cross_sc = []\n",
    "used_features = []\n",
    "\n",
    "for lamb in np.arange(0,4000,200):\n",
    "    theta = copy.deepcopy(X[0])\n",
    "    gd = GradientDescentL2(theta,lamb,eps)\n",
    "    nbIterations = 5000\n",
    "    gd.fit(X,y,nbIterations)\n",
    "    scoresSvm = cross_validation.cross_val_score(gd, X, y, cv=5,scoring=\"accuracy\")\n",
    "    print(\"Lamda: %s | Cross val mean: %.03f | Features: %d\"%(str(lamb).ljust(5),np.mean(scoresSvm),gd.used_features))\n",
    "    cross_sc.append(np.mean(scoresSvm))\n",
    "    la.append(lamb)\n",
    "    used_features.append(gd.used_features)"
   ]
  },
  {
   "cell_type": "code",
   "execution_count": 20,
   "metadata": {
    "collapsed": false
   },
   "outputs": [
    {
     "data": {
      "image/png": "[encoded data removed]",
      "text/plain": [
       "<matplotlib.figure.Figure at 0x1084e82d0>"
      ]
     },
     "metadata": {},
     "output_type": "display_data"
    }
   ],
   "source": [
    "fig, ax1 = plt.subplots()\n",
    "\n",
    "ax2 = ax1.twinx()\n",
    "ax1.plot(la, cross_sc, '#6DC433')\n",
    "ax2.plot(la, used_features, '#5AC8ED')\n",
    "\n",
    "ax1.set_xlabel('lambda')\n",
    "ax1.set_ylabel('Cross val score', color='#6DC433')\n",
    "ax2.set_ylabel('Nb features used', color='#5AC8ED')\n",
    "\n",
    "ax1.yaxis.grid(False)\n",
    "ax2.grid(False)\n",
    "plt.show()"
   ]
  },
  {
   "cell_type": "markdown",
   "metadata": {},
   "source": [
    "L2 chooses less features than L1, and keeps a good score. "
   ]
  },
  {
   "cell_type": "markdown",
   "metadata": {},
   "source": [
    "---\n",
    "## Evaluation using sklearn Lasso\n",
    "\n",
    "Sklearn's Lasso works the same, although way faster, and a lambda 0 < λ < 1 is more practical"
   ]
  },
  {
   "cell_type": "code",
   "execution_count": 48,
   "metadata": {
    "collapsed": true
   },
   "outputs": [],
   "source": [
    "#used to cross-val on lasso and elastic-net\n",
    "def scorer(estimator, X, y):\n",
    "    pred = estimator.predict(X)\n",
    "    cpt=0.0\n",
    "    for idx,i in enumerate(pred):\n",
    "        if i<0:\n",
    "            cpt += 1 if y[idx]==-1 else 0\n",
    "        else:\n",
    "            cpt += 1 if y[idx]==1 else 0\n",
    "    return cpt/len(y)"
   ]
  },
  {
   "cell_type": "code",
   "execution_count": 49,
   "metadata": {
    "collapsed": false
   },
   "outputs": [
    {
     "name": "stdout",
     "output_type": "stream",
     "text": [
      "Cross validation scores: [ 0.9    0.875  0.85   0.825  0.9  ], mean: 0.87\n",
      "[ -6.08294253e-02   1.86963827e-03  -0.00000000e+00   0.00000000e+00\n",
      "  -0.00000000e+00   0.00000000e+00   0.00000000e+00  -0.00000000e+00\n",
      "   0.00000000e+00  -0.00000000e+00   0.00000000e+00  -0.00000000e+00\n",
      "  -0.00000000e+00   1.96742698e-01  -0.00000000e+00  -0.00000000e+00\n",
      "  -0.00000000e+00   1.29244064e-01   0.00000000e+00  -0.00000000e+00\n",
      "   4.52281825e-16  -0.00000000e+00  -0.00000000e+00  -0.00000000e+00\n",
      "  -0.00000000e+00  -2.05700035e-01  -0.00000000e+00  -0.00000000e+00\n",
      "  -0.00000000e+00  -0.00000000e+00]\n",
      "Feature used: 6\n"
     ]
    }
   ],
   "source": [
    "lass = Lasso(alpha = 0.2)\n",
    "lass.fit(X,y)\n",
    "\n",
    "scores = cross_validation.cross_val_score(lass, X, y, cv=5,scoring=scorer)\n",
    "print(\"Cross validation scores: %s, mean: %.02f\"%(scores,np.mean(scores)))\n",
    "print(lass.coef_)\n",
    "print(\"Feature used: %d\"%np.count_nonzero(lass.coef_))"
   ]
  },
  {
   "cell_type": "code",
   "execution_count": 50,
   "metadata": {
    "collapsed": false
   },
   "outputs": [
    {
     "name": "stdout",
     "output_type": "stream",
     "text": [
      "Lamda: 0.05  | Cross val mean: 0.900 | Features: 11\n",
      "Lamda: 0.1   | Cross val mean: 0.895 | Features: 7\n",
      "Lamda: 0.15  | Cross val mean: 0.880 | Features: 6\n",
      "Lamda: 0.2   | Cross val mean: 0.870 | Features: 6\n",
      "Lamda: 0.25  | Cross val mean: 0.845 | Features: 6\n",
      "Lamda: 0.3   | Cross val mean: 0.840 | Features: 5\n",
      "Lamda: 0.35  | Cross val mean: 0.840 | Features: 5\n",
      "Lamda: 0.4   | Cross val mean: 0.840 | Features: 4\n",
      "Lamda: 0.45  | Cross val mean: 0.835 | Features: 4\n",
      "Lamda: 0.5   | Cross val mean: 0.830 | Features: 4\n",
      "Lamda: 0.55  | Cross val mean: 0.810 | Features: 4\n",
      "Lamda: 0.6   | Cross val mean: 0.780 | Features: 4\n",
      "Lamda: 0.65  | Cross val mean: 0.760 | Features: 4\n",
      "Lamda: 0.7   | Cross val mean: 0.740 | Features: 4\n",
      "Lamda: 0.75  | Cross val mean: 0.695 | Features: 2\n",
      "Lamda: 0.8   | Cross val mean: 0.665 | Features: 2\n",
      "Lamda: 0.85  | Cross val mean: 0.650 | Features: 1\n",
      "Lamda: 0.9   | Cross val mean: 0.605 | Features: 1\n",
      "Lamda: 0.95  | Cross val mean: 0.590 | Features: 1\n",
      "Lamda: 1.0   | Cross val mean: 0.515 | Features: 0\n"
     ]
    }
   ],
   "source": [
    "eps=0.00001\n",
    "la = []\n",
    "cross_sc = []\n",
    "used_features = []\n",
    "\n",
    "for lamb in np.arange(0.05,1.05,0.05):\n",
    "    theta = copy.deepcopy(X[0])\n",
    "    gd = Lasso(alpha = lamb)\n",
    "    nbIterations = 4000\n",
    "    gd.fit(X,y)\n",
    "    scoresSvm = cross_validation.cross_val_score(gd, X, y, cv=5,scoring=scorer)\n",
    "    print(\"Lamda: %s | Cross val mean: %.03f | Features: %d\"%(str(lamb).ljust(5),np.mean(scoresSvm),np.count_nonzero(gd.coef_)))\n",
    "    #print(\"Lamda: %.02f | Cross val mean: %.02f | Features: %d\"%(lamb,gd.score(X,y),gd.used_features))\n",
    "    cross_sc.append(np.mean(scoresSvm))\n",
    "    la.append(lamb)\n",
    "    used_features.append(np.count_nonzero(gd.coef_))"
   ]
  },
  {
   "cell_type": "code",
   "execution_count": 51,
   "metadata": {
    "collapsed": false
   },
   "outputs": [
    {
     "data": {
      "image/png": "[encoded data removed]",
      "text/plain": [
       "<matplotlib.figure.Figure at 0x10bec05d0>"
      ]
     },
     "metadata": {},
     "output_type": "display_data"
    }
   ],
   "source": [
    "fig, ax1 = plt.subplots()\n",
    "\n",
    "ax2 = ax1.twinx()\n",
    "ax1.plot(la, cross_sc, '#6DC433')\n",
    "ax2.plot(la, used_features, '#5AC8ED')\n",
    "\n",
    "ax1.set_xlabel('lambda')\n",
    "ax1.set_ylabel('Cross val score', color='#6DC433')\n",
    "ax2.set_ylabel('Nb features used', color='#5AC8ED')\n",
    "\n",
    "ax1.yaxis.grid(False)\n",
    "ax2.grid(False)\n",
    "plt.show()"
   ]
  },
  {
   "cell_type": "markdown",
   "metadata": {},
   "source": [
    "---"
   ]
  },
  {
   "cell_type": "markdown",
   "metadata": {},
   "source": [
    "---\n",
    "## Comparaison of L1 and L2 using sklearn ElasticNet"
   ]
  },
  {
   "cell_type": "code",
   "execution_count": 52,
   "metadata": {
    "collapsed": false
   },
   "outputs": [
    {
     "name": "stdout",
     "output_type": "stream",
     "text": [
      "Cross validation scores: [ 0.9    0.9    0.9    0.9    0.925], mean: 0.91\n",
      "Feature used: 30\n",
      "Cross validation scores: [ 0.9    0.9    0.875  0.85   0.925], mean: 0.89\n",
      "Feature used: 8\n",
      "Cross validation scores: [ 0.9    0.875  0.85   0.825  0.9  ], mean: 0.87\n",
      "Feature used: 6\n"
     ]
    }
   ],
   "source": [
    "lass = ElasticNet(alpha = 0.2, l1_ratio=0)\n",
    "lass.fit(X,y)\n",
    "scores = cross_validation.cross_val_score(lass, X, y, cv=5,scoring=scorer)\n",
    "print(\"Cross validation scores: %s, mean: %.02f\"%(scores,np.mean(scores)))\n",
    "print(\"Feature used: %d\"%np.count_nonzero(lass.coef_))\n",
    "\n",
    "lass = ElasticNet(alpha = 0.2, l1_ratio=0.5)\n",
    "lass.fit(X,y)\n",
    "scores = cross_validation.cross_val_score(lass, X, y, cv=5,scoring=scorer)\n",
    "print(\"Cross validation scores: %s, mean: %.02f\"%(scores,np.mean(scores)))\n",
    "print(\"Feature used: %d\"%np.count_nonzero(lass.coef_))\n",
    "\n",
    "lass = ElasticNet(alpha = 0.2, l1_ratio=1)\n",
    "lass.fit(X,y)\n",
    "scores = cross_validation.cross_val_score(lass, X, y, cv=5,scoring=scorer)\n",
    "print(\"Cross validation scores: %s, mean: %.02f\"%(scores,np.mean(scores)))\n",
    "print(\"Feature used: %d\"%np.count_nonzero(lass.coef_))"
   ]
  },
  {
   "cell_type": "markdown",
   "metadata": {},
   "source": [
    "We observe that, as expected, the more we take L1 into account the less features are used."
   ]
  },
  {
   "cell_type": "code",
   "execution_count": 53,
   "metadata": {
    "collapsed": false
   },
   "outputs": [
    {
     "name": "stdout",
     "output_type": "stream",
     "text": [
      "Lamda: 0.05  | Cross val mean: 0.900 | Features: 26\n",
      "Lamda: 0.1   | Cross val mean: 0.905 | Features: 22\n",
      "Lamda: 0.15  | Cross val mean: 0.900 | Features: 19\n",
      "Lamda: 0.2   | Cross val mean: 0.895 | Features: 14\n",
      "Lamda: 0.25  | Cross val mean: 0.895 | Features: 12\n",
      "Lamda: 0.3   | Cross val mean: 0.900 | Features: 11\n",
      "Lamda: 0.35  | Cross val mean: 0.895 | Features: 11\n",
      "Lamda: 0.4   | Cross val mean: 0.900 | Features: 11\n",
      "Lamda: 0.45  | Cross val mean: 0.895 | Features: 8\n",
      "Lamda: 0.5   | Cross val mean: 0.890 | Features: 8\n",
      "Lamda: 0.55  | Cross val mean: 0.885 | Features: 7\n",
      "Lamda: 0.6   | Cross val mean: 0.885 | Features: 7\n",
      "Lamda: 0.65  | Cross val mean: 0.880 | Features: 7\n",
      "Lamda: 0.7   | Cross val mean: 0.880 | Features: 7\n",
      "Lamda: 0.75  | Cross val mean: 0.875 | Features: 7\n",
      "Lamda: 0.8   | Cross val mean: 0.875 | Features: 7\n",
      "Lamda: 0.85  | Cross val mean: 0.875 | Features: 6\n",
      "Lamda: 0.9   | Cross val mean: 0.875 | Features: 6\n",
      "Lamda: 0.95  | Cross val mean: 0.875 | Features: 6\n",
      "Lamda: 1.0   | Cross val mean: 0.870 | Features: 6\n"
     ]
    }
   ],
   "source": [
    "eps=0.00001\n",
    "la = []\n",
    "cross_sc = []\n",
    "used_features = []\n",
    "\n",
    "for lamb in np.arange(0.05,1.05,0.05):\n",
    "    theta = copy.deepcopy(X[0])\n",
    "    gd = ElasticNet(alpha = 0.2, l1_ratio=lamb)\n",
    "    nbIterations = 4000\n",
    "    gd.fit(X,y)\n",
    "    scoresSvm = cross_validation.cross_val_score(gd, X, y, cv=5,scoring=scorer)\n",
    "    print(\"Lamda: %s | Cross val mean: %.03f | Features: %d\"%(str(lamb).ljust(5),np.mean(scoresSvm),np.count_nonzero(gd.coef_)))\n",
    "    #print(\"Lamda: %.02f | Cross val mean: %.02f | Features: %d\"%(lamb,gd.score(X,y),gd.used_features))\n",
    "    cross_sc.append(np.mean(scoresSvm))\n",
    "    la.append(lamb)\n",
    "    used_features.append(np.count_nonzero(gd.coef_))"
   ]
  },
  {
   "cell_type": "code",
   "execution_count": 54,
   "metadata": {
    "collapsed": false
   },
   "outputs": [
    {
     "data": {
      "image/png": "[encoded data removed]",
      "text/plain": [
       "<matplotlib.figure.Figure at 0x106d3fa50>"
      ]
     },
     "metadata": {},
     "output_type": "display_data"
    }
   ],
   "source": [
    "fig, ax1 = plt.subplots()\n",
    "\n",
    "ax2 = ax1.twinx()\n",
    "ax1.plot(la, cross_sc, '#FF9900')\n",
    "ax2.plot(la, used_features, '#9933FF')\n",
    "\n",
    "ax1.set_xlabel('L1 L2 ratio')\n",
    "ax1.set_ylabel('Cross val score', color='#FF9900')\n",
    "ax2.set_ylabel('Nb features used', color='#9933FF')\n",
    "\n",
    "ax1.yaxis.grid(False)\n",
    "ax2.grid(False)\n",
    "plt.show()"
   ]
  },
  {
   "cell_type": "markdown",
   "metadata": {},
   "source": [
    "# In conclusion,\n",
    "both L1 and L2 classifiers make good classification whitout keeping all features. In general we prefer to keep the minimum of features to avoid overfitting. Selection features is a good thing to do in data classification (or kaggle) to focus on the usefull features.\n"
   ]
  },
  {
   "cell_type": "markdown",
   "metadata": {},
   "source": [
    "---"
   ]
  }
 ],
 "metadata": {
  "kernelspec": {
   "display_name": "Python 2",
   "language": "python",
   "name": "python2"
  },
  "language_info": {
   "codemirror_mode": {
    "name": "ipython",
    "version": 2
   },
   "file_extension": ".py",
   "mimetype": "text/x-python",
   "name": "python",
   "nbconvert_exporter": "python",
   "pygments_lexer": "ipython2",
   "version": "2.7.10"
  }
 },
 "nbformat": 4,
 "nbformat_minor": 0
}
