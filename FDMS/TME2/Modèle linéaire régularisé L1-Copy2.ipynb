{
 "cells": [
  {
   "cell_type": "markdown",
   "metadata": {},
   "source": [
    "## FDMS TME2\n",
    "Florian Toque & Paul Willot\n"
   ]
  },
  {
   "cell_type": "code",
   "execution_count": 1,
   "metadata": {
    "collapsed": false
   },
   "outputs": [],
   "source": [
    "%matplotlib inline\n",
    "import sklearn\n",
    "import matplotlib.pyplot as plt\n",
    "import seaborn as sns\n",
    "import numpy as np\n",
    "import random\n",
    "\n",
    "from sklearn.datasets import fetch_mldata\n",
    "from sklearn import cross_validation\n",
    "from sklearn import base\n",
    "#mnist = fetch_mldata('iris')\n",
    "\n",
    "import matplotlib.pyplot as plt\n"
   ]
  },
  {
   "cell_type": "code",
   "execution_count": 2,
   "metadata": {
    "collapsed": true
   },
   "outputs": [],
   "source": [
    "mnist = fetch_mldata('iris')\n",
    "\n",
    "X= mnist.data\n",
    "y= mnist.target\n",
    "\n",
    "for idx,i in enumerate(y):\n",
    "    if (i==2) or (i==3):\n",
    "        y[idx]=-1"
   ]
  },
  {
   "cell_type": "code",
   "execution_count": 44,
   "metadata": {
    "collapsed": false
   },
   "outputs": [],
   "source": [
    "ds = sklearn.datasets.make_classification(n_samples=1000,\n",
    "                                          n_features=30,\n",
    "                                          n_informative=5,\n",
    "                                          n_redundant=0,\n",
    "                                          n_repeated=0,\n",
    "                                          n_classes=2,\n",
    "                                          n_clusters_per_class=1,\n",
    "                                          weights=None,\n",
    "                                          flip_y=0.01,\n",
    "                                          class_sep=1.0,\n",
    "                                          hypercube=True,\n",
    "                                          shift=0.0,\n",
    "                                          scale=1.0,\n",
    "                                          shuffle=True,\n",
    "                                          random_state=None)\n",
    "X= ds[0]\n",
    "y= ds[1]"
   ]
  },
  {
   "cell_type": "code",
   "execution_count": 45,
   "metadata": {
    "collapsed": false
   },
   "outputs": [
    {
     "name": "stdout",
     "output_type": "stream",
     "text": [
      "[-1.27364469  0.02356197 -1.08270765  0.22599617 -0.00227098  0.43234736\n",
      "  1.19211086 -1.46155316  0.6988265  -0.3363948   0.25245267 -1.57882464\n",
      "  0.1156049  -0.48247961 -0.63926128 -2.12077057 -0.14984741 -0.42338417\n",
      " -0.10257689 -0.53742021  0.15679502 -0.96232177 -0.68356741 -0.6449277\n",
      "  0.93808824 -0.44508003  0.87042622 -1.38836059 -0.97214535  1.74856654]\n",
      "1\n"
     ]
    }
   ],
   "source": [
    "# labels: [0,1] -> [-1,1]\n",
    "for idx,i in enumerate(y):\n",
    "    if (i==0):\n",
    "        y[idx]=-1\n",
    "\n",
    "print(X[0])\n",
    "print(y[0])"
   ]
  },
  {
   "cell_type": "code",
   "execution_count": 46,
   "metadata": {
    "collapsed": true
   },
   "outputs": [],
   "source": [
    "class SimpleGradientDescent:\n",
    "    def __init__(self,theta,eps=0.01):\n",
    "        self.theta=theta\n",
    "        self.eps=eps\n",
    "        \n",
    "    def fit(self,X,y,nbIt=10000,printevery=1000):\n",
    "        l=len(X)\n",
    "        xTrans = X.transpose()\n",
    "        for i in xrange(0,nbIt):\n",
    "            hypothesis = np.dot(X, self.theta)\n",
    "            loss = hypothesis - y\n",
    "            cost = np.sum(loss ** 2) / (2 * l)\n",
    "            if i%printevery==0:\n",
    "                print(\"Iteration %s | Cost: %f\" % (str(i).ljust(6), cost))\n",
    "            gradient = np.dot(xTrans, loss) / l\n",
    "            self.theta = self.theta - self.eps * gradient\n",
    "    def predict(self,x):\n",
    "        #print(\"Product: %f\"%(np.dot(x,self.theta)))\n",
    "        return 1 if np.dot(x,self.theta)>0 else -1\n",
    "    def score(self,X,y):\n",
    "        cpt=0.0\n",
    "        for idx,i in enumerate(X):\n",
    "            cpt += 1 if self.predict(i)==y[idx] else 0\n",
    "        print(cpt,len(X))\n",
    "        return cpt/len(X)"
   ]
  },
  {
   "cell_type": "raw",
   "metadata": {},
   "source": [
    "### Pseudo-code descente de gradient L1\n",
    "\n",
    "procedureGradientL1(θ,X,Y,I;ε)\n",
    "    for it = 1, I do\n",
    "    \n",
    "        for i = 1, n do\n",
    "            idx ← random(l)\n",
    "            θ′ ← θ − ε∇θ L(θ)(idx)\n",
    "            for j=1,n do\n",
    "                if θj′ ∗ θj < 0 then\n",
    "                    θj ← 0\n",
    "                else\n",
    "                    θ j ← θ j′\n",
    "                end if\n",
    "            end for\n",
    "        end for\n",
    "        Afficher L(θ) et accuracy(θ) pour controle\n",
    "        \n",
    "    end for\n",
    "    return θ \n",
    "end procedure\n",
    "\n",
    "L(θ) = 1/l * somme de 1 a l:( yi − fθ(xi))2 + λC(θ) )"
   ]
  },
  {
   "cell_type": "markdown",
   "metadata": {},
   "source": [
    "---\n",
    "### L1"
   ]
  },
  {
   "cell_type": "code",
   "execution_count": 47,
   "metadata": {
    "collapsed": false
   },
   "outputs": [],
   "source": [
    "class GradientDescent(base.BaseEstimator):\n",
    "    def __init__(self,theta,lamb,eps):\n",
    "        self.theta=theta\n",
    "        self.eps=eps\n",
    "        self.lamb=lamb\n",
    "        self.used_features=len(theta)\n",
    "\n",
    "    def fit(self,X,y,nbIt=1000,printevery=-1):\n",
    "        l=len(X)\n",
    "        xTrans = X.transpose()\n",
    "        \n",
    "        for i in xrange(0,nbIt):\n",
    "            index = np.random.randint(l)\n",
    "            loss = np.dot(X, self.theta) - y\n",
    "            #cost = np.sum(loss ** 2) / (2 * l) + (self.lamb*np.linalg.norm(self.theta))\n",
    "            \n",
    "            \n",
    "            cost = np.sum(loss ** 2) * (1 / l) + (self.lamb*np.linalg.norm(self.theta))\n",
    "            #gradient = np.dot(xTrans,(np.dot(theta,xTrans)-y))+np.sign(theta)*self.lamb\n",
    "            #thetaprime = self.theta - self.eps * gradient\n",
    "            \n",
    "            gradient = np.dot(xTrans,(np.dot(self.theta,xTrans)-y))\n",
    "            #thetaprime = self.theta - self.eps * gradient\n",
    "            #thetaprime = self.theta - self.eps * np.sign(theta)*self.lamb\n",
    "            \n",
    "            if i%(nbIt/100)==0:\n",
    "                thetaprime = self.theta - self.eps * (np.sign(theta)*self.lamb)\n",
    "            else:\n",
    "                thetaprime = self.theta - self.eps * gradient\n",
    "            \n",
    "            for k in xrange(0,len(theta)):\n",
    "                self.theta[k] = 0 if thetaprime[k]*theta[k]<0 else thetaprime[k]\n",
    "                \n",
    "            #self.tmp=self.theta\n",
    "            if printevery!=-1 and i%printevery==0:\n",
    "                    print(\"Iteration %s | Cost: %f | Score: %.03f\" % (str(i).ljust(6), cost,self.score(X,y)))\n",
    "                    ttt = self.nb_used_features()\n",
    "                    print(\"%d features used\"%(ttt))\n",
    "                    self.used_features=ttt\n",
    "            elif i%1000==0:\n",
    "                ttt = self.nb_used_features()\n",
    "                self.used_features=ttt\n",
    "            #self.used_features=self.nb_used_features()\n",
    "            #ttt = self.nb_used_features()\n",
    "            #self.used_features=ttt\n",
    "            \n",
    "                \n",
    "    def predict(self,x):\n",
    "        #print(\"Product: %f\"%(np.dot(x,self.theta)))\n",
    "        ret=[]\n",
    "        for i in x:\n",
    "            ret.append(1 if np.dot(i,self.theta)>0 else -1)\n",
    "        return ret\n",
    "    \n",
    "    def score(self,X,y):\n",
    "        cpt=0.0\n",
    "        allpred = self.predict(X)\n",
    "        for idx,i in enumerate(allpred):\n",
    "            cpt += 1 if i==y[idx] else 0\n",
    "        #print(cpt,len(X))\n",
    "        return cpt/len(X)\n",
    "    \n",
    "    def nb_used_features(self):\n",
    "        cpt=0\n",
    "        for ii in self.theta:\n",
    "            if ii==0:\n",
    "                cpt+=1\n",
    "        return len(self.theta)-cpt"
   ]
  },
  {
   "cell_type": "code",
   "execution_count": 48,
   "metadata": {
    "collapsed": false
   },
   "outputs": [],
   "source": [
    "import copy\n",
    "#theta = np.zeros(len(X[0]))\n",
    "\n",
    "theta = copy.deepcopy(X[0])\n",
    "lamb=300\n",
    "eps=0.00001\n",
    "\n",
    "#gd = SimpleGradientDescent(theta,eps)\n",
    "gd = GradientDescent(theta,lamb,eps)\n",
    "#gd.tmp"
   ]
  },
  {
   "cell_type": "code",
   "execution_count": 49,
   "metadata": {
    "collapsed": false
   },
   "outputs": [
    {
     "name": "stdout",
     "output_type": "stream",
     "text": [
      "Iteration 0      | Cost: 1500.042117 | Score: 0.526\n",
      "29 features used\n",
      "Iteration 100    | Cost: 484.232259 | Score: 0.630\n",
      "29 features used\n",
      "Iteration 200    | Cost: 222.540594 | Score: 0.758\n",
      "28 features used\n",
      "Iteration 300    | Cost: 134.755933 | Score: 0.852\n",
      "19 features used\n",
      "Iteration 400    | Cost: 114.286452 | Score: 0.874\n",
      "13 features used\n",
      "Iteration 500    | Cost: 110.157391 | Score: 0.873\n",
      "10 features used\n",
      "Iteration 600    | Cost: 109.149157 | Score: 0.876\n",
      "8 features used\n",
      "Iteration 700    | Cost: 108.737909 | Score: 0.876\n",
      "8 features used\n",
      "Iteration 800    | Cost: 108.542392 | Score: 0.876\n",
      "8 features used\n",
      "Iteration 900    | Cost: 108.446069 | Score: 0.876\n",
      "8 features used\n",
      "Cross validation scores: [ 0.885  0.845  0.865  0.84   0.89 ], mean: 0.86\n"
     ]
    }
   ],
   "source": [
    "nbIterations = 1000\n",
    "gd.fit(X,y,nbIterations,printevery=nbIterations/10)\n",
    "scores = cross_validation.cross_val_score(gd, X, y, cv=5,scoring=\"accuracy\")\n",
    "print(\"Cross validation scores: %s, mean: %.02f\"%(scores,np.mean(scores)))"
   ]
  },
  {
   "cell_type": "code",
   "execution_count": 55,
   "metadata": {
    "collapsed": false
   },
   "outputs": [
    {
     "name": "stdout",
     "output_type": "stream",
     "text": [
      "Lamda: 0     | Cross val mean: 0.864 | Features: 30\n",
      "Lamda: 200   | Cross val mean: 0.869 | Features: 28\n",
      "Lamda: 400   | Cross val mean: 0.870 | Features: 24\n",
      "Lamda: 600   | Cross val mean: 0.870 | Features: 20\n",
      "Lamda: 800   | Cross val mean: 0.872 | Features: 17\n",
      "Lamda: 1000  | Cross val mean: 0.872 | Features: 12\n",
      "Lamda: 1200  | Cross val mean: 0.872 | Features: 9\n",
      "Lamda: 1400  | Cross val mean: 0.871 | Features: 8\n",
      "Lamda: 1600  | Cross val mean: 0.873 | Features: 8\n",
      "Lamda: 1800  | Cross val mean: 0.872 | Features: 6\n",
      "Lamda: 2000  | Cross val mean: 0.871 | Features: 5\n",
      "Lamda: 2200  | Cross val mean: 0.871 | Features: 4\n",
      "Lamda: 2400  | Cross val mean: 0.871 | Features: 3\n",
      "Lamda: 2600  | Cross val mean: 0.870 | Features: 3\n",
      "Lamda: 2800  | Cross val mean: 0.870 | Features: 3\n"
     ]
    }
   ],
   "source": [
    "eps=0.00001\n",
    "la = []\n",
    "cross_sc = []\n",
    "used_features = []\n",
    "\n",
    "for lamb in np.arange(0,3000,200):\n",
    "    theta = copy.deepcopy(X[0])\n",
    "    gd = GradientDescent(theta,lamb,eps)\n",
    "    nbIterations = 5000\n",
    "    gd.fit(X,y,nbIterations)\n",
    "    scoresSvm = cross_validation.cross_val_score(gd, X, y, cv=5,scoring=\"accuracy\")\n",
    "    print(\"Lamda: %s | Cross val mean: %.03f | Features: %d\"%(str(lamb).ljust(5),np.mean(scoresSvm),gd.used_features))\n",
    "    #print(\"Lamda: %.02f | Cross val mean: %.02f | Features: %d\"%(lamb,gd.score(X,y),gd.used_features))\n",
    "    cross_sc.append(np.mean(scoresSvm))\n",
    "    la.append(lamb)\n",
    "    used_features.append(gd.used_features)"
   ]
  },
  {
   "cell_type": "code",
   "execution_count": 56,
   "metadata": {
    "collapsed": false
   },
   "outputs": [
    {
     "data": {
      "image/png": "[encoded data removed]",
      "text/plain": [
       "<matplotlib.figure.Figure at 0x10e10fb90>"
      ]
     },
     "metadata": {},
     "output_type": "display_data"
    }
   ],
   "source": [
    "fig, ax1 = plt.subplots()\n",
    "\n",
    "ax2 = ax1.twinx()\n",
    "ax1.plot(la, cross_sc, '#6DC433')\n",
    "ax2.plot(la, used_features, '#5AC8ED')\n",
    "\n",
    "ax1.set_xlabel('lambda')\n",
    "ax1.set_ylabel('Cross val score', color='#6DC433')\n",
    "ax2.set_ylabel('Nb features used', color='#5AC8ED')\n",
    "\n",
    "ax1.yaxis.grid(False)\n",
    "ax2.grid(False)\n",
    "plt.show()"
   ]
  },
  {
   "cell_type": "markdown",
   "metadata": {},
   "source": [
    "---\n",
    "### L2"
   ]
  },
  {
   "cell_type": "code",
   "execution_count": null,
   "metadata": {
    "collapsed": true
   },
   "outputs": [],
   "source": [
    "class GradientDescentL2(base.BaseEstimator):\n",
    "    def __init__(self,theta,lamb,eps):\n",
    "        self.theta=theta\n",
    "        self.eps=eps\n",
    "        self.lamb=lamb\n",
    "\n",
    "    def fit(self,X,y,nbIt=1000,printevery=-1):\n",
    "        l=len(X)\n",
    "        xTrans = X.transpose()\n",
    "        \n",
    "        for i in xrange(0,nbIt):\n",
    "            index = np.random.randint(l)\n",
    "            loss = np.dot(X, self.theta) - y\n",
    "            cost = np.sum(loss ** 2) / (2 * l) + (self.lamb*(np.linalg.norm(-self.theta)**2))\n",
    "            gradient = np.dot(xTrans,(np.dot(theta,xTrans)-y))+np.sign(theta)*self.lamb\n",
    "            thetaprime = self.theta - self.eps * gradient\n",
    "            \n",
    "            for k in xrange(0,len(theta)):\n",
    "                theta[k] = 0 if thetaprime[k]*theta[k]<0 else thetaprime[k]\n",
    "\n",
    "            if printevery!=-1 and i%printevery==0:\n",
    "                    print(\"Iteration %s | Cost: %f\" % (str(i).ljust(6), cost))\n",
    "                \n",
    "    def predict(self,x):\n",
    "        #print(\"Product: %f\"%(np.dot(x,self.theta)))\n",
    "        ret=[]\n",
    "        for i in x:\n",
    "            ret.append(1 if np.dot(i,self.theta)>0 else -1)\n",
    "        return ret\n",
    "    \n",
    "    def score(self,X,y):\n",
    "        cpt=0.0\n",
    "        allpred = self.predict(X)\n",
    "        for idx,i in enumerate(allpred):\n",
    "            cpt += 1 if i==y[idx] else 0\n",
    "        print(cpt,len(X))\n",
    "        return cpt/len(X)"
   ]
  },
  {
   "cell_type": "code",
   "execution_count": null,
   "metadata": {
    "collapsed": false
   },
   "outputs": [],
   "source": [
    "theta = np.zeros(len(X[0]))\n",
    "lamb=0.05\n",
    "eps=0.00001\n",
    "gd = GradientDescentL2(theta,lamb,eps)\n",
    "\n",
    "nbIterations = 20000\n",
    "gd.fit(X,y,nbIterations,printevery=nbIterations/10)\n",
    "\n",
    "print(\"Score: %s\"%gd.score(X,y))\n",
    "\n",
    "scoresSvm = cross_validation.cross_val_score(gd, X, y, cv=5,scoring=\"accuracy\")\n",
    "print(\"Cross validation scores: %s, mean: %.02f\"%(scoresSvm,np.mean(scoresSvm)))"
   ]
  },
  {
   "cell_type": "code",
   "execution_count": null,
   "metadata": {
    "collapsed": false
   },
   "outputs": [],
   "source": [
    "eps=0.00001\n",
    "la = []\n",
    "cross_sc = []\n",
    "\n",
    "for lamb in np.arange(0,12,0.5):\n",
    "    theta = np.zeros(len(X[0]))\n",
    "    gd = GradientDescentL2(theta,lamb,eps)\n",
    "    nbIterations = 5000\n",
    "    gd.fit(X,y,nbIterations)\n",
    "    scoresSvm = cross_validation.cross_val_score(gd, X, y, cv=5,scoring=\"accuracy\")\n",
    "    print(\"Lamda: %.02f, Cross val mean: %.02f\"%(lamb,np.mean(scoresSvm)))\n",
    "    cross_sc.append(np.mean(scoresSvm))\n",
    "    la.append(lamb)"
   ]
  },
  {
   "cell_type": "code",
   "execution_count": null,
   "metadata": {
    "collapsed": false
   },
   "outputs": [],
   "source": [
    "import matplotlib.pyplot as plt\n",
    "plt.plot(la,cross_sc)\n",
    "plt.ylabel('Cross val score')\n",
    "plt.xlabel('lambda')\n",
    "plt.show()"
   ]
  },
  {
   "cell_type": "code",
   "execution_count": null,
   "metadata": {
    "collapsed": true
   },
   "outputs": [],
   "source": []
  }
 ],
 "metadata": {
  "kernelspec": {
   "display_name": "Python 2",
   "language": "python",
   "name": "python2"
  },
  "language_info": {
   "codemirror_mode": {
    "name": "ipython",
    "version": 2
   },
   "file_extension": ".py",
   "mimetype": "text/x-python",
   "name": "python",
   "nbconvert_exporter": "python",
   "pygments_lexer": "ipython2",
   "version": "2.7.10"
  }
 },
 "nbformat": 4,
 "nbformat_minor": 0
}
