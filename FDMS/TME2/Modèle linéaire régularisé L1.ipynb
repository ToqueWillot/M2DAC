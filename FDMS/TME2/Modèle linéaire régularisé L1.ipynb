{
 "cells": [
  {
   "cell_type": "code",
   "execution_count": 66,
   "metadata": {
    "collapsed": false
   },
   "outputs": [],
   "source": [
    "%matplotlib inline\n",
    "import sklearn\n",
    "import matplotlib.pyplot as plt\n",
    "import seaborn as sns\n",
    "import numpy as np\n",
    "\n"
   ]
  },
  {
   "cell_type": "code",
   "execution_count": 43,
   "metadata": {
    "collapsed": false
   },
   "outputs": [],
   "source": [
    "data = sklearn.datasets.fetch_mldata('iris')\n"
   ]
  },
  {
   "cell_type": "code",
   "execution_count": null,
   "metadata": {
    "collapsed": true
   },
   "outputs": [],
   "source": [
    "#Classe abstraite d'une fonction à optimiser.\n",
    "class OptimFunc:\n",
    "    def __init__(self,dim=2):\n",
    "        self.dim=dim\n",
    "    def f(self,x): #fonction a calculer\n",
    "        x=to_array(x)\n",
    "        pass\n",
    "    def grad_f(self,x): #gradient de la fonction\n",
    "        x=to_array(x)\n",
    "        pass\n",
    "    def x_random(self,low=2,high=5):\n",
    "        return random.random(self.dim)*(high-low)+low\n",
    "\n",
    "    \n",
    "    \n",
    "    \n",
    "class GradientDescent:\n",
    "    def __init__(self,optim_f,eps=1e-4,max_iter=5000,delta=1e-6):\n",
    "        self.eps=eps\n",
    "        self.optim_f=optim_f\n",
    "        self.max_iter=max_iter\n",
    "        self.delta=delta\n",
    "\n",
    "    def fit(self):\n",
    "         #l = training set size\n",
    "            l=len(X)\n",
    "\n",
    "            for it in np.arange(1,nbIt+1):\n",
    "                for i in np.arange(len(X)):\n",
    "                    idx = np.random(l)\n",
    "                    thetaprime = theta-eps*idx\n",
    "                    for j in np.arange(1,l+1):\n",
    "                        if((thetaprime[j]*theta[j])<0):\n",
    "                            theta[j]=0\n",
    "                        else:\n",
    "                            theta[j]=thetaprime[j]\n",
    "                lTheta = (1/l) * (y-(theta.dot(X))**2).sum()\n",
    "                accuracy = 1.0\n",
    "                print (\"Loss\",lTheta,\"   , accuracy\")\n",
    "    def stop(self):\n",
    "        return (self.i>2) and (self.max_iter and (self.i>self.max_iter) or (self.delta and np.abs(self.log_f[-1]-self.log_f[-2]))<self.delta)\n",
    "    def get_eps(self):\n",
    "        return self.eps\n",
    "   \n",
    "\n",
    "class FF1(OptimFunc):   \n",
    "    def f(self,x): #fonction a calculer\n",
    "        x=to_array(x)\n",
    "        return x*np.cos(x)\n",
    "    def grad_f(self,x): #gradient de la fonction\n",
    "        x=to_array(x)\n",
    "        return np.cos(x)-x*(np.sin(x))   \n",
    "        "
   ]
  },
  {
   "cell_type": "code",
   "execution_count": 90,
   "metadata": {
    "collapsed": false
   },
   "outputs": [
    {
     "data": {
      "text/plain": [
       "array([1, 2, 3, 4, 5, 6, 7, 8, 9])"
      ]
     },
     "execution_count": 90,
     "metadata": {},
     "output_type": "execute_result"
    }
   ],
   "source": [
    "np.arange(1,10)"
   ]
  },
  {
   "cell_type": "code",
   "execution_count": null,
   "metadata": {
    "collapsed": true
   },
   "outputs": [],
   "source": []
  },
  {
   "cell_type": "code",
   "execution_count": null,
   "metadata": {
    "collapsed": true
   },
   "outputs": [],
   "source": []
  },
  {
   "cell_type": "code",
   "execution_count": null,
   "metadata": {
    "collapsed": true
   },
   "outputs": [],
   "source": []
  },
  {
   "cell_type": "code",
   "execution_count": null,
   "metadata": {
    "collapsed": true
   },
   "outputs": [],
   "source": []
  },
  {
   "cell_type": "code",
   "execution_count": null,
   "metadata": {
    "collapsed": true
   },
   "outputs": [],
   "source": []
  },
  {
   "cell_type": "code",
   "execution_count": null,
   "metadata": {
    "collapsed": true
   },
   "outputs": [],
   "source": []
  },
  {
   "cell_type": "code",
   "execution_count": null,
   "metadata": {
    "collapsed": true
   },
   "outputs": [],
   "source": []
  },
  {
   "cell_type": "code",
   "execution_count": null,
   "metadata": {
    "collapsed": true
   },
   "outputs": [],
   "source": []
  },
  {
   "cell_type": "code",
   "execution_count": 100,
   "metadata": {
    "collapsed": false
   },
   "outputs": [],
   "source": [
    "iris = sklearn.datasets.fetch_mldata('iris')\n",
    "X= iris.data\n",
    "y= iris.target\n",
    "\n",
    "for idx,i in enumerate(y):\n",
    "    if (i==2 or i==3):\n",
    "        y[idx]=-1\n",
    "\n"
   ]
  },
  {
   "cell_type": "code",
   "execution_count": 123,
   "metadata": {
    "collapsed": false
   },
   "outputs": [],
   "source": [
    "def GradientDescent(theta,X,y,nbIt,eps):\n",
    "    #l = training set size\n",
    "    l=len(X[0])\n",
    "    \n",
    "    for it in np.arange(nbIt):\n",
    "        for i in np.arange(len(X)):\n",
    "            idx = np.random.randint(l)\n",
    "            thetaprime = theta-eps*X[idx]\n",
    "            for j in np.arange(l):\n",
    "                if((thetaprime[j]*theta[j])<0):\n",
    "                    theta[j]=0\n",
    "                else:\n",
    "                    theta[j]=thetaprime[j]\n",
    "        #lTheta = (y-(theta.dot(X))**2).sum()\n",
    "        accuracy = 1.0\n",
    "        #print (\"Loss\",lTheta,\"   , accuracy\")\n",
    "    return theta\n",
    "\n",
    "            \n",
    "    "
   ]
  },
  {
   "cell_type": "code",
   "execution_count": 125,
   "metadata": {
    "collapsed": false
   },
   "outputs": [
    {
     "data": {
      "text/plain": [
       "array([ 10.65166904,   0.03666814,  12.95491471,  13.750005  ])"
      ]
     },
     "execution_count": 125,
     "metadata": {},
     "output_type": "execute_result"
    }
   ],
   "source": [
    "theta = np.zeros(len(X[0]))\n",
    "GradientDescent(theta,X,y,10,0.01)\n",
    "\n"
   ]
  },
  {
   "cell_type": "code",
   "execution_count": 110,
   "metadata": {
    "collapsed": false
   },
   "outputs": [
    {
     "ename": "ValueError",
     "evalue": "operands could not be broadcast together with shapes (150) (4) ",
     "output_type": "error",
     "traceback": [
      "\u001b[0;31m---------------------------------------------------------------------------\u001b[0m",
      "\u001b[0;31mValueError\u001b[0m                                Traceback (most recent call last)",
      "\u001b[0;32m<ipython-input-110-6892f21af290>\u001b[0m in \u001b[0;36m<module>\u001b[0;34m()\u001b[0m\n\u001b[0;32m----> 1\u001b[0;31m \u001b[0my\u001b[0m\u001b[0;34m-\u001b[0m\u001b[0mtheta\u001b[0m\u001b[0;34m.\u001b[0m\u001b[0mdot\u001b[0m\u001b[0;34m(\u001b[0m\u001b[0mX\u001b[0m\u001b[0;34m)\u001b[0m\u001b[0;34m**\u001b[0m\u001b[0;36m2\u001b[0m\u001b[0;34m\u001b[0m\u001b[0m\n\u001b[0m\u001b[1;32m      2\u001b[0m \u001b[0mtheta\u001b[0m\u001b[0;34m\u001b[0m\u001b[0m\n",
      "\u001b[0;31mValueError\u001b[0m: operands could not be broadcast together with shapes (150) (4) "
     ]
    }
   ],
   "source": [
    "y-theta.dot(X)**2\n",
    "theta"
   ]
  },
  {
   "cell_type": "code",
   "execution_count": null,
   "metadata": {
    "collapsed": true
   },
   "outputs": [],
   "source": []
  }
 ],
 "metadata": {
  "kernelspec": {
   "display_name": "Python 2",
   "language": "python",
   "name": "python2"
  },
  "language_info": {
   "codemirror_mode": {
    "name": "ipython",
    "version": 2
   },
   "file_extension": ".py",
   "mimetype": "text/x-python",
   "name": "python",
   "nbconvert_exporter": "python",
   "pygments_lexer": "ipython2",
   "version": "2.7.10"
  }
 },
 "nbformat": 4,
 "nbformat_minor": 0
}
