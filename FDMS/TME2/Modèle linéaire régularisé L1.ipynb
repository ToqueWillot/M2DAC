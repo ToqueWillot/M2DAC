{
 "cells": [
  {
   "cell_type": "code",
   "execution_count": 12,
   "metadata": {
    "collapsed": false
   },
   "outputs": [],
   "source": [
    "%matplotlib inline\n",
    "import sklearn\n",
    "import matplotlib.pyplot as plt\n",
    "import seaborn as sns\n",
    "import numpy as np\n",
    "import random\n",
    "\n",
    "from sklearn.datasets import fetch_mldata\n",
    "#mnist = fetch_mldata('iris')\n"
   ]
  },
  {
   "cell_type": "code",
   "execution_count": 23,
   "metadata": {
    "collapsed": true
   },
   "outputs": [],
   "source": [
    "iris = fetch_mldata('iris')\n",
    "X= iris.data\n",
    "y= iris.target"
   ]
  },
  {
   "cell_type": "code",
   "execution_count": 212,
   "metadata": {
    "collapsed": false
   },
   "outputs": [],
   "source": [
    "ds = sklearn.datasets.make_classification(n_samples=100,\n",
    "                                          n_features=20,\n",
    "                                          n_informative=2,\n",
    "                                          n_redundant=2,\n",
    "                                          n_repeated=0,\n",
    "                                          n_classes=2,\n",
    "                                          n_clusters_per_class=2,\n",
    "                                          weights=None,\n",
    "                                          flip_y=0.01,\n",
    "                                          class_sep=1.0,\n",
    "                                          hypercube=True,\n",
    "                                          shift=0.0,\n",
    "                                          scale=1.0,\n",
    "                                          shuffle=True,\n",
    "                                          random_state=None)\n",
    "X= ds[0]\n",
    "y= ds[1]"
   ]
  },
  {
   "cell_type": "code",
   "execution_count": 328,
   "metadata": {
    "collapsed": false
   },
   "outputs": [],
   "source": [
    "for idx,i in enumerate(y):\n",
    "    if (i==0):\n",
    "        y[idx]=-1"
   ]
  },
  {
   "cell_type": "code",
   "execution_count": 329,
   "metadata": {
    "collapsed": false
   },
   "outputs": [
    {
     "name": "stdout",
     "output_type": "stream",
     "text": [
      "[ 0.12414841 -1.14122514  1.17939814  0.27251061  0.66466406 -0.91626142\n",
      "  0.59943017  1.4939695  -1.10932434 -0.14444655 -0.72800743  1.62919734\n",
      "  0.92607915 -1.9661385   0.56170195 -0.15506284  1.24815468 -0.66347539\n",
      "  1.15760897  0.66956467]\n",
      "1\n"
     ]
    }
   ],
   "source": [
    "print(X[0])\n",
    "print(y[0])"
   ]
  },
  {
   "cell_type": "raw",
   "metadata": {},
   "source": [
    "def GradientDescent(theta,X,y,nbIt,eps):\n",
    "    #l = training set size\n",
    "    l=len(X)\n",
    "    \n",
    "    for it in xrange(0,nbIt):\n",
    "        for i in np.arange(l):\n",
    "            idx = np.random.randint(l)\n",
    "            thetaprime = theta-eps*X[idx]\n",
    "            for j in np.arange(l):\n",
    "                if((thetaprime[j]*theta[j])<0):\n",
    "                    theta[j]=0\n",
    "                else:\n",
    "                    theta[j]=thetaprime[j]\n",
    "        #lTheta = (y-(theta.dot(X))**2).sum()\n",
    "        accuracy = 1.0\n",
    "        #print (\"Loss\",lTheta,\"   , accuracy\")\n",
    "    return theta"
   ]
  },
  {
   "cell_type": "code",
   "execution_count": 233,
   "metadata": {
    "collapsed": true
   },
   "outputs": [],
   "source": [
    "class SimpleGradientDescent:\n",
    "    def __init__(self,theta,eps=0.01):\n",
    "        self.theta=theta\n",
    "        self.eps=eps\n",
    "        \n",
    "\n",
    "    def fit(self,X,y,nbIt=10000,printevery=1000):\n",
    "        l=len(X)\n",
    "        xTrans = X.transpose()\n",
    "        for i in xrange(0,nbIt):\n",
    "            hypothesis = np.dot(X, self.theta)\n",
    "            loss = hypothesis - y\n",
    "            cost = np.sum(loss ** 2) / (2 * l)\n",
    "            if i%printevery==0:\n",
    "                print(\"Iteration %s | Cost: %f\" % (str(i).ljust(6), cost))\n",
    "            # avg gradient per example\n",
    "            gradient = np.dot(xTrans, loss) / l\n",
    "            # update\n",
    "            self.theta = self.theta - self.eps * gradient\n",
    "    def predict(self,x):\n",
    "        #print(\"Product: %f\"%(np.dot(x,self.theta)))\n",
    "        return 1 if np.dot(x,self.theta)>0 else -1\n",
    "    def score(self,X,y):\n",
    "        cpt=0.0\n",
    "        for idx,i in enumerate(X):\n",
    "            cpt += 1 if self.predict(i)==y[idx] else 0\n",
    "        print(cpt,len(X))\n",
    "        return cpt/len(X)"
   ]
  },
  {
   "cell_type": "raw",
   "metadata": {},
   "source": [
    "### Pseudo-code descente de gradient L1\n",
    "\n",
    "procedureGradientL1(θ,X,Y,I;ε)\n",
    "    for it = 1, I do\n",
    "    \n",
    "        for i = 1, n do\n",
    "            idx ← random(l)\n",
    "            θ′ ← θ − ε∇θ L(θ)(idx)\n",
    "            for j=1,n do\n",
    "                if θj′ ∗ θj < 0 then\n",
    "                    θj ← 0\n",
    "                else\n",
    "                    θ j ← θ j′\n",
    "                end if\n",
    "            end for\n",
    "        end for\n",
    "        Afficher L(θ) et accuracy(θ) pour controle\n",
    "        \n",
    "    end for\n",
    "    return θ \n",
    "end procedure\n",
    "\n",
    "L(θ) = 1/l * somme de 1 a l:( yi − fθ(xi))2 + λC(θ) )"
   ]
  },
  {
   "cell_type": "code",
   "execution_count": 291,
   "metadata": {
    "collapsed": false
   },
   "outputs": [],
   "source": [
    "class GradientDescent:\n",
    "    def __init__(self,theta,lamb,eps):\n",
    "        self.theta=theta\n",
    "        self.eps=eps\n",
    "        self.lamb=lamb\n",
    "\n",
    "    def fit(self,X,y,nbIt=10000,printevery=1000):\n",
    "        l=len(X)\n",
    "        XX = copy.deepcopy(X)\n",
    "        xTrans = XX.transpose()\n",
    "        print(xTrans.shape)\n",
    "        for i in xrange(0,nbIt):\n",
    "            #for j in xrange(0,l):\n",
    "            index = np.random.randint(l)\n",
    "            loss = np.dot(X, self.theta) - y\n",
    "            #cost = np.sum(loss ** 2) * (1/l)\n",
    "            cost = np.sum(loss ** 2) / (2 * l) + (self.lamb*np.linalg.norm(self.theta))\n",
    "\n",
    "            # avg gradient per example\n",
    "            # a derive\n",
    "            # (theta.x-y)x+sign(theta)*lamda\n",
    "            #gradient = np.dot(xTrans, loss) / l\n",
    "            #gradient = np.dot((np.dot(theta,xTrans)-y),X)+np.sign(theta)*self.lamb\n",
    "            #print(theta.shape,xTrans.shape,y.shape)\n",
    "            gradient = np.dot(xTrans,(np.dot(theta,xTrans)-y))+np.sign(theta)*self.lamb\n",
    "            # update\n",
    "            thetaprime = self.theta - self.eps * gradient\n",
    "            \n",
    "            #print(gradient)\n",
    "\n",
    "            for k in xrange(0,len(theta)):\n",
    "                theta[k] = 0 if thetaprime[k]*theta[k]<0 else thetaprime[k]\n",
    "                    \n",
    "            if i%printevery==0:\n",
    "                    print(\"Iteration %s | Cost: %f\" % (str(i).ljust(6), cost))\n",
    "                \n",
    "    def predict(self,x):\n",
    "        #print(\"Product: %f\"%(np.dot(x,self.theta)))\n",
    "        return 1 if np.dot(x,self.theta)>0 else -1\n",
    "    \n",
    "    def score(self,X,y):\n",
    "        cpt=0.0\n",
    "        for idx,i in enumerate(X):\n",
    "            cpt += 1 if self.predict(i)==y[idx] else 0\n",
    "        print(cpt,len(X))\n",
    "        return cpt/len(X)"
   ]
  },
  {
   "cell_type": "code",
   "execution_count": 357,
   "metadata": {
    "collapsed": false
   },
   "outputs": [],
   "source": [
    "theta = np.zeros(len(X[0]))\n",
    "lamb=0.01\n",
    "eps=0.0001\n",
    "#out = GradientDescent(theta,X,y,100000,0.01,printat=10000)\n",
    "#gd = SimpleGradientDescent(theta,eps)\n",
    "gd = GradientDescent(theta,lamb,eps)"
   ]
  },
  {
   "cell_type": "code",
   "execution_count": 358,
   "metadata": {
    "collapsed": false
   },
   "outputs": [
    {
     "name": "stdout",
     "output_type": "stream",
     "text": [
      "(20, 100)\n",
      "Iteration 0      | Cost: 0.500000\n",
      "Iteration 2000   | Cost: 0.235551\n",
      "Iteration 4000   | Cost: 0.235551\n",
      "Iteration 6000   | Cost: 0.235551\n",
      "Iteration 8000   | Cost: 0.235552\n",
      "Iteration 10000  | Cost: 0.235552\n",
      "Iteration 12000  | Cost: 0.235553\n",
      "Iteration 14000  | Cost: 0.235553\n",
      "Iteration 16000  | Cost: 0.235554\n",
      "Iteration 18000  | Cost: 0.235554\n"
     ]
    }
   ],
   "source": [
    "nbIterations = 20000\n",
    "gd.fit(X,y,nbIterations,printevery=nbIterations/10)"
   ]
  },
  {
   "cell_type": "code",
   "execution_count": 344,
   "metadata": {
    "collapsed": false
   },
   "outputs": [
    {
     "name": "stdout",
     "output_type": "stream",
     "text": [
      "(93.0, 100)\n"
     ]
    },
    {
     "data": {
      "text/plain": [
       "0.93"
      ]
     },
     "execution_count": 344,
     "metadata": {},
     "output_type": "execute_result"
    }
   ],
   "source": [
    "gd.score(X,y)"
   ]
  },
  {
   "cell_type": "code",
   "execution_count": null,
   "metadata": {
    "collapsed": true
   },
   "outputs": [],
   "source": []
  },
  {
   "cell_type": "code",
   "execution_count": null,
   "metadata": {
    "collapsed": true
   },
   "outputs": [],
   "source": []
  },
  {
   "cell_type": "code",
   "execution_count": null,
   "metadata": {
    "collapsed": true
   },
   "outputs": [],
   "source": []
  },
  {
   "cell_type": "code",
   "execution_count": null,
   "metadata": {
    "collapsed": true
   },
   "outputs": [],
   "source": []
  },
  {
   "cell_type": "code",
   "execution_count": null,
   "metadata": {
    "collapsed": true
   },
   "outputs": [],
   "source": []
  },
  {
   "cell_type": "code",
   "execution_count": null,
   "metadata": {
    "collapsed": true
   },
   "outputs": [],
   "source": []
  },
  {
   "cell_type": "code",
   "execution_count": null,
   "metadata": {
    "collapsed": true
   },
   "outputs": [],
   "source": []
  }
 ],
 "metadata": {
  "kernelspec": {
   "display_name": "Python 2",
   "language": "python",
   "name": "python2"
  },
  "language_info": {
   "codemirror_mode": {
    "name": "ipython",
    "version": 2
   },
   "file_extension": ".py",
   "mimetype": "text/x-python",
   "name": "python",
   "nbconvert_exporter": "python",
   "pygments_lexer": "ipython2",
   "version": "2.7.10"
  }
 },
 "nbformat": 4,
 "nbformat_minor": 0
}
