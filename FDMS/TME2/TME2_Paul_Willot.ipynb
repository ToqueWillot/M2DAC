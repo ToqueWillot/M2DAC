{
 "cells": [
  {
   "cell_type": "markdown",
   "metadata": {},
   "source": [
    "# FDMS TME2  \n",
    "  \n",
    "Paul Willot"
   ]
  },
  {
   "cell_type": "code",
   "execution_count": 1,
   "metadata": {
    "collapsed": false
   },
   "outputs": [],
   "source": [
    "%matplotlib inline\n",
    "import sklearn\n",
    "import matplotlib.pyplot as plt\n",
    "import seaborn as sns\n",
    "import numpy as np\n",
    "import random\n",
    "import copy\n",
    "\n",
    "from sklearn.datasets import fetch_mldata\n",
    "from sklearn import cross_validation\n",
    "from sklearn import base\n",
    "from sklearn.linear_model import Lasso\n",
    "from sklearn.linear_model import ElasticNet\n",
    "#mnist = fetch_mldata('iris')\n",
    "\n",
    "import matplotlib.pyplot as plt\n"
   ]
  },
  {
   "cell_type": "markdown",
   "metadata": {},
   "source": [
    "--- \n",
    "## Data generation"
   ]
  },
  {
   "cell_type": "code",
   "execution_count": 3,
   "metadata": {
    "collapsed": false
   },
   "outputs": [],
   "source": [
    "ds = sklearn.datasets.make_classification(n_samples=20000,\n",
    "                                          n_features=30,    # 30 features\n",
    "                                          n_informative=5,  # only 5 informatives ones\n",
    "                                          n_redundant=0,\n",
    "                                          n_repeated=3,     # and 3 duplicate\n",
    "                                          n_classes=2,\n",
    "                                          n_clusters_per_class=1,\n",
    "                                          weights=None,\n",
    "                                          flip_y=0.03,\n",
    "                                          class_sep=0.8,\n",
    "                                          hypercube=True,\n",
    "                                          shift=0.0,\n",
    "                                          scale=1.0,\n",
    "                                          shuffle=True,\n",
    "                                          random_state=None)\n",
    "X= ds[0]\n",
    "y= ds[1]\n",
    "\n",
    "# labels: [0,1] -> [-1,1]\n",
    "for idx,i in enumerate(y):\n",
    "    if (i==0):\n",
    "        y[idx]=-1"
   ]
  },
  {
   "cell_type": "code",
   "execution_count": 4,
   "metadata": {
    "collapsed": false
   },
   "outputs": [
    {
     "name": "stdout",
     "output_type": "stream",
     "text": [
      "[-2.17203579 -1.73878073 -1.75401013 -0.89961043  0.92517207 -1.66479672\n",
      " -0.10310872  1.82915384 -1.15478618 -2.17203579  0.00618371  0.92517207\n",
      "  1.66346587 -0.76517213 -0.91434611  0.8060977   0.35508     1.28384287\n",
      " -0.03080881 -1.22900547  0.81055976  1.22569563 -0.72297449  0.81055976\n",
      " -0.03063604 -0.2256332  -2.05217595 -1.54350934  0.10835675  0.18635222]\n",
      "1\n"
     ]
    }
   ],
   "source": [
    "print(X[0])\n",
    "print(y[0])"
   ]
  },
  {
   "cell_type": "markdown",
   "metadata": {},
   "source": [
    "---\n",
    "### L1\n",
    "\n",
    "**Advantage:** good features selection"
   ]
  },
  {
   "cell_type": "markdown",
   "metadata": {},
   "source": [
    "#### L1 gradient pseudocode"
   ]
  },
  {
   "cell_type": "raw",
   "metadata": {},
   "source": [
    "procedureGradientL1(θ,X,Y,I;ε)\n",
    "    for it = 1, I do \n",
    "        for i = 1, n do\n",
    "            idx ← random(l)\n",
    "            θ′ ← θ − ε∇θ L(θ)(idx)\n",
    "            for j=1,n do\n",
    "                if θj′ ∗ θj < 0 then\n",
    "                    θj ← 0\n",
    "                else\n",
    "                    θ j ← θ j′\n",
    "                end if\n",
    "            end for\n",
    "        end for\n",
    "        Afficher L(θ) et accuracy(θ) pour controle\n",
    "    end for\n",
    "    return θ \n",
    "end procedure\n",
    "\n",
    "L(θ) = 1/l * somme de 1 a l:( yi − fθ(xi))2 + λC(θ) )"
   ]
  },
  {
   "cell_type": "code",
   "execution_count": 5,
   "metadata": {
    "collapsed": false
   },
   "outputs": [],
   "source": [
    "class GradientDescent(base.BaseEstimator):\n",
    "    def __init__(self,theta,lamb,eps):\n",
    "        self.theta=theta\n",
    "        self.eps=eps\n",
    "        self.lamb=lamb\n",
    "        self.used_features=len(theta)\n",
    "\n",
    "    def fit(self,X,y,nbIt=1000,printevery=-1):\n",
    "        l=len(X)\n",
    "        xTrans = X.transpose()\n",
    "        \n",
    "        for i in xrange(0,nbIt):\n",
    "            #index = np.random.randint(l)\n",
    "            loss = np.dot(X, self.theta) - y\n",
    "            cost = np.sum(loss ** 2) * (1 / l) + (self.lamb*np.linalg.norm(self.theta))\n",
    "            gradient = np.dot(xTrans,(np.dot(self.theta,xTrans)-y))\n",
    "            \n",
    "            if i%(nbIt/100)==0:\n",
    "                thetaprime = self.theta - self.eps * (np.sign(theta)*self.lamb)\n",
    "            else:\n",
    "                thetaprime = self.theta - self.eps * gradient\n",
    "            \n",
    "            for k in xrange(0,len(theta)):\n",
    "                self.theta[k] = 0 if thetaprime[k]*theta[k]<0 else thetaprime[k]\n",
    "            \n",
    "            \n",
    "            if printevery!=-1 and i%printevery==0:\n",
    "                    print(\"Iteration %s | Cost: %f | Score: %.03f\" % (str(i).ljust(6), cost,self.score(X,y)))\n",
    "                    ttt = self.nb_used_features()\n",
    "                    print(\"%d features used\"%(ttt))\n",
    "                    self.used_features=ttt\n",
    "            elif i%1000==0:\n",
    "                ttt = self.nb_used_features()\n",
    "                self.used_features=ttt\n",
    "            \n",
    "                \n",
    "    def predict(self,x):\n",
    "        ret=[]\n",
    "        for i in x:\n",
    "            ret.append(1 if np.dot(i,self.theta)>0 else -1)\n",
    "        return ret\n",
    "    \n",
    "    def score(self,X,y):\n",
    "        cpt=0.0\n",
    "        allpred = self.predict(X)\n",
    "        for idx,i in enumerate(allpred):\n",
    "            cpt += 1 if i==y[idx] else 0\n",
    "        return cpt/len(X)\n",
    "    \n",
    "    def nb_used_features(self):\n",
    "        cpt=0\n",
    "        for ii in self.theta:\n",
    "            if ii==0:\n",
    "                cpt+=1\n",
    "        return len(self.theta)-cpt"
   ]
  },
  {
   "cell_type": "code",
   "execution_count": 6,
   "metadata": {
    "collapsed": false
   },
   "outputs": [],
   "source": [
    "theta = copy.deepcopy(X[0])\n",
    "lamb=500\n",
    "eps=0.00001\n",
    "\n",
    "gd = GradientDescent(theta,lamb,eps)"
   ]
  },
  {
   "cell_type": "code",
   "execution_count": 7,
   "metadata": {
    "collapsed": false
   },
   "outputs": [
    {
     "name": "stdout",
     "output_type": "stream",
     "text": [
      "Iteration 0      | Cost: 3304.296262 | Score: 0.641\n",
      "30 features used\n",
      "Iteration 500    | Cost: 176.169854 | Score: 0.817\n",
      "11 features used\n",
      "Iteration 1000   | Cost: 176.169854 | Score: 0.817\n",
      "11 features used\n",
      "Iteration 1500   | Cost: 176.169854 | Score: 0.817\n",
      "11 features used\n",
      "Iteration 2000   | Cost: 176.169854 | Score: 0.817\n",
      "11 features used\n",
      "Iteration 2500   | Cost: 176.169854 | Score: 0.817\n",
      "11 features used\n",
      "Iteration 3000   | Cost: 176.169854 | Score: 0.817\n",
      "11 features used\n",
      "Iteration 3500   | Cost: 176.169854 | Score: 0.817\n",
      "11 features used\n",
      "Iteration 4000   | Cost: 176.169854 | Score: 0.817\n",
      "11 features used\n",
      "Iteration 4500   | Cost: 176.169854 | Score: 0.817\n",
      "11 features used\n",
      "Cross validation scores: [ 0.81475  0.81825  0.81825  0.815    0.822  ], mean: 0.82\n"
     ]
    }
   ],
   "source": [
    "nbIterations = 5000\n",
    "gd.fit(X,y,nbIterations,printevery=nbIterations/10)\n",
    "scores = cross_validation.cross_val_score(gd, X, y, cv=5,scoring=\"accuracy\")\n",
    "print(\"Cross validation scores: %s, mean: %.02f\"%(scores,np.mean(scores)))"
   ]
  },
  {
   "cell_type": "markdown",
   "metadata": {},
   "source": [
    "### Selecting lambda\n",
    "\n",
    "We have only 5 informatives features over 30, and 3 redundancies.  \n",
    "We thrive to reach this number of features, while keeping a good classification score."
   ]
  },
  {
   "cell_type": "code",
   "execution_count": 10,
   "metadata": {
    "collapsed": false
   },
   "outputs": [
    {
     "name": "stdout",
     "output_type": "stream",
     "text": [
      "Lamda: 0     | Cross val mean: 0.832 | Features: 30\n",
      "Lamda: 200   | Cross val mean: 0.836 | Features: 29\n",
      "Lamda: 400   | Cross val mean: 0.837 | Features: 21\n",
      "Lamda: 600   | Cross val mean: 0.840 | Features: 18\n",
      "Lamda: 800   | Cross val mean: 0.840 | Features: 16\n",
      "Lamda: 1000  | Cross val mean: 0.842 | Features: 14\n",
      "Lamda: 1200  | Cross val mean: 0.843 | Features: 12\n",
      "Lamda: 1400  | Cross val mean: 0.845 | Features: 12\n",
      "Lamda: 1600  | Cross val mean: 0.845 | Features: 11\n",
      "Lamda: 1800  | Cross val mean: 0.844 | Features: 9\n",
      "Lamda: 2000  | Cross val mean: 0.842 | Features: 9\n",
      "Lamda: 2200  | Cross val mean: 0.841 | Features: 9\n",
      "Lamda: 2400  | Cross val mean: 0.838 | Features: 5\n",
      "Lamda: 2600  | Cross val mean: 0.834 | Features: 5\n",
      "Lamda: 2800  | Cross val mean: 0.833 | Features: 5\n",
      "Lamda: 3000  | Cross val mean: 0.832 | Features: 5\n",
      "Lamda: 3200  | Cross val mean: 0.832 | Features: 5\n",
      "Lamda: 3400  | Cross val mean: 0.833 | Features: 5\n",
      "Lamda: 3600  | Cross val mean: 0.832 | Features: 5\n",
      "Lamda: 3800  | Cross val mean: 0.832 | Features: 5\n"
     ]
    }
   ],
   "source": [
    "eps=0.00001\n",
    "la = []\n",
    "cross_sc = []\n",
    "used_features = []\n",
    "\n",
    "for lamb in np.arange(0,4000,200):\n",
    "    theta = copy.deepcopy(X[0])\n",
    "    gd = GradientDescent(theta,lamb,eps)\n",
    "    nbIterations = 4000\n",
    "    gd.fit(X,y,nbIterations)\n",
    "    scoresSvm = cross_validation.cross_val_score(gd, X, y, cv=5,scoring=\"accuracy\")\n",
    "    print(\"Lamda: %s | Cross val mean: %.03f | Features: %d\"%(str(lamb).ljust(5),np.mean(scoresSvm),gd.used_features))\n",
    "    #print(\"Lamda: %.02f | Cross val mean: %.02f | Features: %d\"%(lamb,gd.score(X,y),gd.used_features))\n",
    "    cross_sc.append(np.mean(scoresSvm))\n",
    "    la.append(lamb)\n",
    "    used_features.append(gd.used_features)"
   ]
  },
  {
   "cell_type": "code",
   "execution_count": 11,
   "metadata": {
    "collapsed": false
   },
   "outputs": [
    {
     "data": {
      "image/png": "[encoded data removed]",
      "text/plain": [
       "<matplotlib.figure.Figure at 0x10f9d9b50>"
      ]
     },
     "metadata": {},
     "output_type": "display_data"
    }
   ],
   "source": [
    "fig, ax1 = plt.subplots()\n",
    "\n",
    "ax2 = ax1.twinx()\n",
    "ax1.plot(la, cross_sc, '#6DC433')\n",
    "ax2.plot(la, used_features, '#5AC8ED')\n",
    "\n",
    "ax1.set_xlabel('lambda')\n",
    "ax1.set_ylabel('Cross val score', color='#6DC433')\n",
    "ax2.set_ylabel('Nb features used', color='#5AC8ED')\n",
    "\n",
    "ax1.yaxis.grid(False)\n",
    "ax2.grid(False)\n",
    "plt.show()"
   ]
  },
  {
   "cell_type": "markdown",
   "metadata": {},
   "source": [
    "---\n",
    "### L2"
   ]
  },
  {
   "cell_type": "markdown",
   "metadata": {},
   "source": [
    "The difference between the L1 and L2 regularization is that L1 work on the sum of the weights, and L2 work on the sum of the square of the weights, and is therefor more sensitive to outliers.\n",
    "\n",
    "**Advantage:** good predictions with significants constraints"
   ]
  },
  {
   "cell_type": "code",
   "execution_count": 22,
   "metadata": {
    "collapsed": true
   },
   "outputs": [],
   "source": [
    "class GradientDescentL2(base.BaseEstimator):\n",
    "    def __init__(self,theta,lamb,eps):\n",
    "        self.theta=theta\n",
    "        self.eps=eps\n",
    "        self.lamb=lamb\n",
    "        self.used_features=len(theta)\n",
    "\n",
    "    def fit(self,X,y,nbIt=1000,printevery=-1):\n",
    "        l=len(X)\n",
    "        xTrans = X.transpose()\n",
    "        \n",
    "        for i in xrange(0,nbIt):\n",
    "            index = np.random.randint(l)\n",
    "            loss = np.dot(X, self.theta) - y\n",
    "            cost = np.sum(loss ** 2) * (1 / l) + (self.lamb*np.linalg.norm(self.theta))**2\n",
    "            gradient = np.dot(xTrans,(np.dot(self.theta,xTrans)-y))\n",
    "            \n",
    "            if i%(nbIt/100)==0:\n",
    "                thetaprime = self.theta - self.eps * (np.sign(theta)*self.lamb)\n",
    "            else:\n",
    "                thetaprime = self.theta - self.eps * gradient\n",
    "            \n",
    "            for k in xrange(0,len(theta)):\n",
    "                self.theta[k] = 0 if thetaprime[k]*theta[k]<0 else thetaprime[k]\n",
    "            \n",
    "            \n",
    "            if printevery!=-1 and i%printevery==0:\n",
    "                    print(\"Iteration %s | Cost: %f | Score: %.03f\" % (str(i).ljust(6), cost,self.score(X,y)))\n",
    "                    ttt = self.nb_used_features()\n",
    "                    print(\"%d features used\"%(ttt))\n",
    "                    self.used_features=ttt\n",
    "            elif i%1000==0:\n",
    "                ttt = self.nb_used_features()\n",
    "                self.used_features=ttt\n",
    "            \n",
    "                \n",
    "    def predict(self,x):\n",
    "        ret=[]\n",
    "        for i in x:\n",
    "            ret.append(1 if np.dot(i,self.theta)>0 else -1)\n",
    "        return ret\n",
    "    \n",
    "    def score(self,X,y):\n",
    "        cpt=0.0\n",
    "        allpred = self.predict(X)\n",
    "        for idx,i in enumerate(allpred):\n",
    "            cpt += 1 if i==y[idx] else 0\n",
    "        return cpt/len(X)\n",
    "    \n",
    "    def nb_used_features(self):\n",
    "        cpt=0\n",
    "        for ii in self.theta:\n",
    "            if ii==0:\n",
    "                cpt+=1\n",
    "        return len(self.theta)-cpt"
   ]
  },
  {
   "cell_type": "markdown",
   "metadata": {},
   "source": [
    "#### Test with only 200 samples"
   ]
  },
  {
   "cell_type": "code",
   "execution_count": 57,
   "metadata": {
    "collapsed": false
   },
   "outputs": [],
   "source": [
    "ds = sklearn.datasets.make_classification(n_samples=200,\n",
    "                                          n_features=30,    # 30 features\n",
    "                                          n_informative=5,  # only 5 informatives ones\n",
    "                                          n_redundant=0,\n",
    "                                          n_repeated=3,     # and 3 duplicate\n",
    "                                          n_classes=2,\n",
    "                                          n_clusters_per_class=1,\n",
    "                                          weights=None,\n",
    "                                          flip_y=0.01,\n",
    "                                          class_sep=0.8,\n",
    "                                          hypercube=True,\n",
    "                                          shift=0.0,\n",
    "                                          scale=1.0,\n",
    "                                          shuffle=True,\n",
    "                                          random_state=None)\n",
    "X= ds[0]\n",
    "y= ds[1]\n",
    "\n",
    "# labels: [0,1] -> [-1,1]\n",
    "for idx,i in enumerate(y):\n",
    "    if (i==0):\n",
    "        y[idx]=-1"
   ]
  },
  {
   "cell_type": "code",
   "execution_count": 58,
   "metadata": {
    "collapsed": false
   },
   "outputs": [],
   "source": [
    "theta = copy.deepcopy(X[0])\n",
    "lamb=2000\n",
    "eps=0.00001\n",
    "\n",
    "gd = GradientDescentL2(theta,lamb,eps)\n",
    "#gd.tmp"
   ]
  },
  {
   "cell_type": "code",
   "execution_count": 59,
   "metadata": {
    "collapsed": false
   },
   "outputs": [
    {
     "name": "stdout",
     "output_type": "stream",
     "text": [
      "Iteration 0      | Cost: 165083619.961018 | Score: 0.517\n",
      "29 features used\n",
      "Iteration 500    | Cost: 384214.774171 | Score: 0.766\n",
      "9 features used\n",
      "Iteration 1000   | Cost: 384136.704331 | Score: 0.766\n",
      "9 features used\n",
      "Iteration 1500   | Cost: 384136.680772 | Score: 0.766\n",
      "9 features used\n",
      "Iteration 2000   | Cost: 384136.680765 | Score: 0.766\n",
      "9 features used\n",
      "Iteration 2500   | Cost: 384136.680765 | Score: 0.766\n",
      "9 features used\n",
      "Iteration 3000   | Cost: 384136.680765 | Score: 0.766\n",
      "9 features used\n",
      "Iteration 3500   | Cost: 384136.680765 | Score: 0.766\n",
      "9 features used\n",
      "Iteration 4000   | Cost: 384136.680765 | Score: 0.766\n",
      "9 features used\n",
      "Iteration 4500   | Cost: 384136.680765 | Score: 0.766\n",
      "9 features used\n",
      "Cross validation scores: [ 0.73    0.7925  0.7575  0.7525  0.765 ], mean: 0.76\n"
     ]
    }
   ],
   "source": [
    "nbIterations = 5000\n",
    "gd.fit(X,y,nbIterations,printevery=nbIterations/10)\n",
    "scores = cross_validation.cross_val_score(gd, X, y, cv=5,scoring=\"accuracy\")\n",
    "print(\"Cross validation scores: %s, mean: %.02f\"%(scores,np.mean(scores)))"
   ]
  },
  {
   "cell_type": "markdown",
   "metadata": {},
   "source": [
    "### Selecting lambda\n",
    "\n",
    "Similar to L1"
   ]
  },
  {
   "cell_type": "code",
   "execution_count": 60,
   "metadata": {
    "collapsed": false
   },
   "outputs": [
    {
     "name": "stdout",
     "output_type": "stream",
     "text": [
      "Lamda: 0     | Cross val mean: 0.762 | Features: 30\n",
      "Lamda: 200   | Cross val mean: 0.763 | Features: 29\n",
      "Lamda: 400   | Cross val mean: 0.764 | Features: 24\n",
      "Lamda: 600   | Cross val mean: 0.762 | Features: 23\n",
      "Lamda: 800   | Cross val mean: 0.763 | Features: 19\n",
      "Lamda: 1000  | Cross val mean: 0.762 | Features: 15\n",
      "Lamda: 1200  | Cross val mean: 0.760 | Features: 12\n",
      "Lamda: 1400  | Cross val mean: 0.761 | Features: 11\n",
      "Lamda: 1600  | Cross val mean: 0.760 | Features: 10\n",
      "Lamda: 1800  | Cross val mean: 0.760 | Features: 10\n",
      "Lamda: 2000  | Cross val mean: 0.759 | Features: 9\n",
      "Lamda: 2200  | Cross val mean: 0.760 | Features: 9\n",
      "Lamda: 2400  | Cross val mean: 0.759 | Features: 7\n",
      "Lamda: 2600  | Cross val mean: 0.759 | Features: 6\n",
      "Lamda: 2800  | Cross val mean: 0.759 | Features: 6\n",
      "Lamda: 3000  | Cross val mean: 0.759 | Features: 6\n",
      "Lamda: 3200  | Cross val mean: 0.760 | Features: 6\n",
      "Lamda: 3400  | Cross val mean: 0.760 | Features: 6\n",
      "Lamda: 3600  | Cross val mean: 0.759 | Features: 6\n",
      "Lamda: 3800  | Cross val mean: 0.758 | Features: 6\n"
     ]
    }
   ],
   "source": [
    "eps=0.00001\n",
    "la = []\n",
    "cross_sc = []\n",
    "used_features = []\n",
    "\n",
    "for lamb in np.arange(0,4000,200):\n",
    "    theta = copy.deepcopy(X[0])\n",
    "    gd = GradientDescentL2(theta,lamb,eps)\n",
    "    nbIterations = 5000\n",
    "    gd.fit(X,y,nbIterations)\n",
    "    scoresSvm = cross_validation.cross_val_score(gd, X, y, cv=5,scoring=\"accuracy\")\n",
    "    print(\"Lamda: %s | Cross val mean: %.03f | Features: %d\"%(str(lamb).ljust(5),np.mean(scoresSvm),gd.used_features))\n",
    "    cross_sc.append(np.mean(scoresSvm))\n",
    "    la.append(lamb)\n",
    "    used_features.append(gd.used_features)"
   ]
  },
  {
   "cell_type": "code",
   "execution_count": 61,
   "metadata": {
    "collapsed": false
   },
   "outputs": [
    {
     "data": {
      "image/png": "[encoded data removed]",
      "text/plain": [
       "<matplotlib.figure.Figure at 0x1080c7490>"
      ]
     },
     "metadata": {},
     "output_type": "display_data"
    }
   ],
   "source": [
    "fig, ax1 = plt.subplots()\n",
    "\n",
    "ax2 = ax1.twinx()\n",
    "ax1.plot(la, cross_sc, '#6DC433')\n",
    "ax2.plot(la, used_features, '#5AC8ED')\n",
    "\n",
    "ax1.set_xlabel('lambda')\n",
    "ax1.set_ylabel('Cross val score', color='#6DC433')\n",
    "ax2.set_ylabel('Nb features used', color='#5AC8ED')\n",
    "\n",
    "ax1.yaxis.grid(False)\n",
    "ax2.grid(False)\n",
    "plt.show()"
   ]
  },
  {
   "cell_type": "markdown",
   "metadata": {},
   "source": [
    "---\n",
    "## Evaluation using sklearn Lasso\n",
    "\n",
    "Sklearn's Lasso works the same, although way faster, and a lambda 0 < λ < 1 is more practical"
   ]
  },
  {
   "cell_type": "code",
   "execution_count": 62,
   "metadata": {
    "collapsed": true
   },
   "outputs": [],
   "source": [
    "#used to cross-val on lasso and elastic-net\n",
    "def scorer(estimator, X, y):\n",
    "    pred = estimator.predict(X)\n",
    "    cpt=0.0\n",
    "    for idx,i in enumerate(pred):\n",
    "        if i<0:\n",
    "            cpt += 1 if y[idx]==-1 else 0\n",
    "        else:\n",
    "            cpt += 1 if y[idx]==1 else 0\n",
    "    return cpt/len(y)"
   ]
  },
  {
   "cell_type": "code",
   "execution_count": 71,
   "metadata": {
    "collapsed": false
   },
   "outputs": [
    {
     "name": "stdout",
     "output_type": "stream",
     "text": [
      "Cross validation scores: [ 0.832  0.86   0.846  0.862  0.872], mean: 0.85\n",
      "[-0.         -0.         -0.          0.          0.         -0.03322676\n",
      " -0.          0.13436393 -0.          0.         -0.25845565 -0.          0.\n",
      " -0.07689383 -0.          0.         -0.         -0.         -0.03722968\n",
      " -0.          0.          0.          0.         -0.          0.          0.\n",
      "  0.          0.         -0.          0.        ]\n",
      "Feature used: 5\n"
     ]
    }
   ],
   "source": [
    "lass = Lasso(alpha = 0.2)\n",
    "lass.fit(X,y)\n",
    "\n",
    "scores = cross_validation.cross_val_score(lass, X, y, cv=5,scoring=scorer)\n",
    "print(\"Cross validation scores: %s, mean: %.02f\"%(scores,np.mean(scores)))\n",
    "print(lass.coef_)\n",
    "print(\"Feature used: %d\"%np.count_nonzero(lass.coef_))"
   ]
  },
  {
   "cell_type": "code",
   "execution_count": 72,
   "metadata": {
    "collapsed": false
   },
   "outputs": [
    {
     "name": "stdout",
     "output_type": "stream",
     "text": [
      "Lamda: 0.05  | Cross val mean: 0.920 | Features: 7\n",
      "Lamda: 0.1   | Cross val mean: 0.910 | Features: 6\n",
      "Lamda: 0.15  | Cross val mean: 0.885 | Features: 7\n",
      "Lamda: 0.2   | Cross val mean: 0.854 | Features: 5\n",
      "Lamda: 0.25  | Cross val mean: 0.816 | Features: 4\n",
      "Lamda: 0.3   | Cross val mean: 0.812 | Features: 2\n",
      "Lamda: 0.35  | Cross val mean: 0.811 | Features: 2\n",
      "Lamda: 0.4   | Cross val mean: 0.809 | Features: 2\n",
      "Lamda: 0.45  | Cross val mean: 0.808 | Features: 3\n",
      "Lamda: 0.5   | Cross val mean: 0.808 | Features: 3\n",
      "Lamda: 0.55  | Cross val mean: 0.802 | Features: 2\n",
      "Lamda: 0.6   | Cross val mean: 0.798 | Features: 3\n",
      "Lamda: 0.65  | Cross val mean: 0.776 | Features: 3\n",
      "Lamda: 0.7   | Cross val mean: 0.750 | Features: 1\n",
      "Lamda: 0.75  | Cross val mean: 0.735 | Features: 2\n",
      "Lamda: 0.8   | Cross val mean: 0.486 | Features: 0\n",
      "Lamda: 0.85  | Cross val mean: 0.486 | Features: 0\n",
      "Lamda: 0.9   | Cross val mean: 0.486 | Features: 0\n",
      "Lamda: 0.95  | Cross val mean: 0.486 | Features: 0\n",
      "Lamda: 1.0   | Cross val mean: 0.486 | Features: 0\n"
     ]
    }
   ],
   "source": [
    "eps=0.00001\n",
    "la = []\n",
    "cross_sc = []\n",
    "used_features = []\n",
    "\n",
    "for lamb in np.arange(0.05,1.05,0.05):\n",
    "    theta = copy.deepcopy(X[0])\n",
    "    gd = Lasso(alpha = lamb)\n",
    "    nbIterations = 4000\n",
    "    gd.fit(X,y)\n",
    "    scoresSvm = cross_validation.cross_val_score(gd, X, y, cv=5,scoring=scorer)\n",
    "    print(\"Lamda: %s | Cross val mean: %.03f | Features: %d\"%(str(lamb).ljust(5),np.mean(scoresSvm),np.count_nonzero(gd.coef_)))\n",
    "    #print(\"Lamda: %.02f | Cross val mean: %.02f | Features: %d\"%(lamb,gd.score(X,y),gd.used_features))\n",
    "    cross_sc.append(np.mean(scoresSvm))\n",
    "    la.append(lamb)\n",
    "    used_features.append(np.count_nonzero(gd.coef_))"
   ]
  },
  {
   "cell_type": "code",
   "execution_count": 73,
   "metadata": {
    "collapsed": false
   },
   "outputs": [
    {
     "data": {
      "image/png": "[encoded data removed]",
      "text/plain": [
       "<matplotlib.figure.Figure at 0x1081eb1d0>"
      ]
     },
     "metadata": {},
     "output_type": "display_data"
    }
   ],
   "source": [
    "fig, ax1 = plt.subplots()\n",
    "\n",
    "ax2 = ax1.twinx()\n",
    "ax1.plot(la, cross_sc, '#6DC433')\n",
    "ax2.plot(la, used_features, '#5AC8ED')\n",
    "\n",
    "ax1.set_xlabel('lambda')\n",
    "ax1.set_ylabel('Cross val score', color='#6DC433')\n",
    "ax2.set_ylabel('Nb features used', color='#5AC8ED')\n",
    "\n",
    "ax1.yaxis.grid(False)\n",
    "ax2.grid(False)\n",
    "plt.show()"
   ]
  },
  {
   "cell_type": "markdown",
   "metadata": {},
   "source": [
    "---"
   ]
  },
  {
   "cell_type": "markdown",
   "metadata": {},
   "source": [
    "---\n",
    "## Comparaison of L1 and L2 using sklearn ElasticNet"
   ]
  },
  {
   "cell_type": "code",
   "execution_count": 168,
   "metadata": {
    "collapsed": false
   },
   "outputs": [
    {
     "name": "stdout",
     "output_type": "stream",
     "text": [
      "Cross validation scores: [ 0.844  0.844  0.868  0.832  0.84 ], mean: 0.85\n",
      "Feature used: 30\n",
      "Cross validation scores: [ 0.848  0.852  0.852  0.806  0.812], mean: 0.83\n",
      "Feature used: 7\n",
      "Cross validation scores: [ 0.844  0.848  0.846  0.81   0.818], mean: 0.83\n",
      "Feature used: 4\n"
     ]
    }
   ],
   "source": [
    "lass = ElasticNet(alpha = 0.2, l1_ratio=0)\n",
    "lass.fit(X,y)\n",
    "scores = cross_validation.cross_val_score(lass, X, y, cv=5,scoring=scorer)\n",
    "print(\"Cross validation scores: %s, mean: %.02f\"%(scores,np.mean(scores)))\n",
    "print(\"Feature used: %d\"%np.count_nonzero(lass.coef_))\n",
    "\n",
    "lass = ElasticNet(alpha = 0.2, l1_ratio=0.5)\n",
    "lass.fit(X,y)\n",
    "scores = cross_validation.cross_val_score(lass, X, y, cv=5,scoring=scorer)\n",
    "print(\"Cross validation scores: %s, mean: %.02f\"%(scores,np.mean(scores)))\n",
    "print(\"Feature used: %d\"%np.count_nonzero(lass.coef_))\n",
    "\n",
    "lass = ElasticNet(alpha = 0.2, l1_ratio=1)\n",
    "lass.fit(X,y)\n",
    "scores = cross_validation.cross_val_score(lass, X, y, cv=5,scoring=scorer)\n",
    "print(\"Cross validation scores: %s, mean: %.02f\"%(scores,np.mean(scores)))\n",
    "print(\"Feature used: %d\"%np.count_nonzero(lass.coef_))"
   ]
  },
  {
   "cell_type": "markdown",
   "metadata": {},
   "source": [
    "We observe that, as expected, the more we take L1 into account the less features are used."
   ]
  },
  {
   "cell_type": "code",
   "execution_count": 74,
   "metadata": {
    "collapsed": false
   },
   "outputs": [
    {
     "name": "stdout",
     "output_type": "stream",
     "text": [
      "Lamda: 0.05  | Cross val mean: 0.922 | Features: 20\n",
      "Lamda: 0.1   | Cross val mean: 0.917 | Features: 13\n",
      "Lamda: 0.15  | Cross val mean: 0.917 | Features: 8\n",
      "Lamda: 0.2   | Cross val mean: 0.916 | Features: 8\n",
      "Lamda: 0.25  | Cross val mean: 0.914 | Features: 8\n",
      "Lamda: 0.3   | Cross val mean: 0.913 | Features: 8\n",
      "Lamda: 0.35  | Cross val mean: 0.910 | Features: 8\n",
      "Lamda: 0.4   | Cross val mean: 0.908 | Features: 8\n",
      "Lamda: 0.45  | Cross val mean: 0.905 | Features: 8\n",
      "Lamda: 0.5   | Cross val mean: 0.902 | Features: 8\n",
      "Lamda: 0.55  | Cross val mean: 0.898 | Features: 8\n",
      "Lamda: 0.6   | Cross val mean: 0.895 | Features: 8\n",
      "Lamda: 0.65  | Cross val mean: 0.894 | Features: 8\n",
      "Lamda: 0.7   | Cross val mean: 0.889 | Features: 8\n",
      "Lamda: 0.75  | Cross val mean: 0.879 | Features: 8\n",
      "Lamda: 0.8   | Cross val mean: 0.874 | Features: 8\n",
      "Lamda: 0.85  | Cross val mean: 0.869 | Features: 7\n",
      "Lamda: 0.9   | Cross val mean: 0.865 | Features: 7\n",
      "Lamda: 0.95  | Cross val mean: 0.859 | Features: 7\n",
      "Lamda: 1.0   | Cross val mean: 0.854 | Features: 5\n"
     ]
    }
   ],
   "source": [
    "eps=0.00001\n",
    "la = []\n",
    "cross_sc = []\n",
    "used_features = []\n",
    "\n",
    "for lamb in np.arange(0.05,1.05,0.05):\n",
    "    theta = copy.deepcopy(X[0])\n",
    "    gd = ElasticNet(alpha = 0.2, l1_ratio=lamb)\n",
    "    nbIterations = 4000\n",
    "    gd.fit(X,y)\n",
    "    scoresSvm = cross_validation.cross_val_score(gd, X, y, cv=5,scoring=scorer)\n",
    "    print(\"Lamda: %s | Cross val mean: %.03f | Features: %d\"%(str(lamb).ljust(5),np.mean(scoresSvm),np.count_nonzero(gd.coef_)))\n",
    "    #print(\"Lamda: %.02f | Cross val mean: %.02f | Features: %d\"%(lamb,gd.score(X,y),gd.used_features))\n",
    "    cross_sc.append(np.mean(scoresSvm))\n",
    "    la.append(lamb)\n",
    "    used_features.append(np.count_nonzero(gd.coef_))"
   ]
  },
  {
   "cell_type": "code",
   "execution_count": 76,
   "metadata": {
    "collapsed": false
   },
   "outputs": [
    {
     "data": {
      "image/png": "[encoded data removed]",
      "text/plain": [
       "<matplotlib.figure.Figure at 0x10818abd0>"
      ]
     },
     "metadata": {},
     "output_type": "display_data"
    }
   ],
   "source": [
    "fig, ax1 = plt.subplots()\n",
    "\n",
    "ax2 = ax1.twinx()\n",
    "ax1.plot(la, cross_sc, '#FF9900')\n",
    "ax2.plot(la, used_features, '#9933FF')\n",
    "\n",
    "ax1.set_xlabel('L1 L2 ratio')\n",
    "ax1.set_ylabel('Cross val score', color='#FF9900')\n",
    "ax2.set_ylabel('Nb features used', color='#9933FF')\n",
    "\n",
    "ax1.yaxis.grid(False)\n",
    "ax2.grid(False)\n",
    "plt.show()"
   ]
  },
  {
   "cell_type": "markdown",
   "metadata": {},
   "source": [
    "---"
   ]
  }
 ],
 "metadata": {
  "kernelspec": {
   "display_name": "Python 2",
   "language": "python",
   "name": "python2"
  },
  "language_info": {
   "codemirror_mode": {
    "name": "ipython",
    "version": 2
   },
   "file_extension": ".py",
   "mimetype": "text/x-python",
   "name": "python",
   "nbconvert_exporter": "python",
   "pygments_lexer": "ipython2",
   "version": "2.7.10"
  }
 },
 "nbformat": 4,
 "nbformat_minor": 0
}
