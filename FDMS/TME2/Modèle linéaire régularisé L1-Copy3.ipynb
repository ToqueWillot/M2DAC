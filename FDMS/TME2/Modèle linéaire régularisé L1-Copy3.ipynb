{
 "cells": [
  {
   "cell_type": "markdown",
   "metadata": {},
   "source": [
    "## FDMS TME2\n",
    "Florian Toque & Paul Willot\n"
   ]
  },
  {
   "cell_type": "code",
   "execution_count": 1,
   "metadata": {
    "collapsed": false
   },
   "outputs": [],
   "source": [
    "%matplotlib inline\n",
    "import sklearn\n",
    "import matplotlib.pyplot as plt\n",
    "import seaborn as sns\n",
    "import numpy as np\n",
    "import random\n",
    "\n",
    "from sklearn.datasets import fetch_mldata\n",
    "from sklearn import cross_validation\n",
    "from sklearn import base\n",
    "#mnist = fetch_mldata('iris')\n",
    "\n",
    "import matplotlib.pyplot as plt\n"
   ]
  },
  {
   "cell_type": "code",
   "execution_count": 2,
   "metadata": {
    "collapsed": false
   },
   "outputs": [],
   "source": [
    "ds = sklearn.datasets.make_classification(n_samples=2500,\n",
    "                                          n_features=30,    # 30 features\n",
    "                                          n_informative=5,  # only 5 informatives ones\n",
    "                                          n_redundant=0,\n",
    "                                          n_repeated=3,     # and 3 duplicate\n",
    "                                          n_classes=2,\n",
    "                                          n_clusters_per_class=1,\n",
    "                                          weights=None,\n",
    "                                          flip_y=0.03,\n",
    "                                          class_sep=0.8,\n",
    "                                          hypercube=True,\n",
    "                                          shift=0.0,\n",
    "                                          scale=1.0,\n",
    "                                          shuffle=True,\n",
    "                                          random_state=None)\n",
    "X= ds[0]\n",
    "y= ds[1]"
   ]
  },
  {
   "cell_type": "code",
   "execution_count": 3,
   "metadata": {
    "collapsed": false
   },
   "outputs": [
    {
     "name": "stdout",
     "output_type": "stream",
     "text": [
      "[-0.11490165  0.54381646  0.45161525 -0.77679587  0.17152832 -0.772366\n",
      "  1.4463601  -0.66514163  1.24485181  1.32402384 -0.06236731 -0.88508171\n",
      "  2.30813979  1.35189351 -0.05294649 -0.47300922  0.12431896  2.98250813\n",
      "  0.08957802 -2.45779102  1.16856365 -0.09788907 -0.05294649  0.02751362\n",
      " -0.11490165  0.82608037  1.88379814  1.26934869 -0.11490165 -0.18606969]\n",
      "-1\n"
     ]
    }
   ],
   "source": [
    "# labels: [0,1] -> [-1,1]\n",
    "for idx,i in enumerate(y):\n",
    "    if (i==0):\n",
    "        y[idx]=-1\n",
    "\n",
    "print(X[0])\n",
    "print(y[0])"
   ]
  },
  {
   "cell_type": "raw",
   "metadata": {},
   "source": [
    "### Pseudo-code descente de gradient L1\n",
    "\n",
    "procedureGradientL1(θ,X,Y,I;ε)\n",
    "    for it = 1, I do\n",
    "    \n",
    "        for i = 1, n do\n",
    "            idx ← random(l)\n",
    "            θ′ ← θ − ε∇θ L(θ)(idx)\n",
    "            for j=1,n do\n",
    "                if θj′ ∗ θj < 0 then\n",
    "                    θj ← 0\n",
    "                else\n",
    "                    θ j ← θ j′\n",
    "                end if\n",
    "            end for\n",
    "        end for\n",
    "        Afficher L(θ) et accuracy(θ) pour controle\n",
    "        \n",
    "    end for\n",
    "    return θ \n",
    "end procedure\n",
    "\n",
    "L(θ) = 1/l * somme de 1 a l:( yi − fθ(xi))2 + λC(θ) )"
   ]
  },
  {
   "cell_type": "markdown",
   "metadata": {},
   "source": [
    "---\n",
    "### L1"
   ]
  },
  {
   "cell_type": "code",
   "execution_count": 4,
   "metadata": {
    "collapsed": false
   },
   "outputs": [],
   "source": [
    "class GradientDescent(base.BaseEstimator):\n",
    "    def __init__(self,theta,lamb,eps):\n",
    "        self.theta=theta\n",
    "        self.eps=eps\n",
    "        self.lamb=lamb\n",
    "        self.used_features=len(theta)\n",
    "\n",
    "    def fit(self,X,y,nbIt=1000,printevery=-1):\n",
    "        l=len(X)\n",
    "        xTrans = X.transpose()\n",
    "        \n",
    "        for i in xrange(0,nbIt):\n",
    "            index = np.random.randint(l)\n",
    "            loss = np.dot(X, self.theta) - y\n",
    "            cost = np.sum(loss ** 2) * (1 / l) + (self.lamb*np.linalg.norm(self.theta))\n",
    "            gradient = np.dot(xTrans,(np.dot(self.theta,xTrans)-y))\n",
    "            \n",
    "            if i%(nbIt/100)==0:\n",
    "                thetaprime = self.theta - self.eps * (np.sign(theta)*self.lamb)\n",
    "            else:\n",
    "                thetaprime = self.theta - self.eps * gradient\n",
    "            \n",
    "            for k in xrange(0,len(theta)):\n",
    "                self.theta[k] = 0 if thetaprime[k]*theta[k]<0 else thetaprime[k]\n",
    "            \n",
    "            \n",
    "            if printevery!=-1 and i%printevery==0:\n",
    "                    print(\"Iteration %s | Cost: %f | Score: %.03f\" % (str(i).ljust(6), cost,self.score(X,y)))\n",
    "                    ttt = self.nb_used_features()\n",
    "                    print(\"%d features used\"%(ttt))\n",
    "                    self.used_features=ttt\n",
    "            elif i%1000==0:\n",
    "                ttt = self.nb_used_features()\n",
    "                self.used_features=ttt\n",
    "            \n",
    "                \n",
    "    def predict(self,x):\n",
    "        ret=[]\n",
    "        for i in x:\n",
    "            ret.append(1 if np.dot(i,self.theta)>0 else -1)\n",
    "        return ret\n",
    "    \n",
    "    def score(self,X,y):\n",
    "        cpt=0.0\n",
    "        allpred = self.predict(X)\n",
    "        for idx,i in enumerate(allpred):\n",
    "            cpt += 1 if i==y[idx] else 0\n",
    "        return cpt/len(X)\n",
    "    \n",
    "    def nb_used_features(self):\n",
    "        cpt=0\n",
    "        for ii in self.theta:\n",
    "            if ii==0:\n",
    "                cpt+=1\n",
    "        return len(self.theta)-cpt"
   ]
  },
  {
   "cell_type": "code",
   "execution_count": 7,
   "metadata": {
    "collapsed": false
   },
   "outputs": [],
   "source": [
    "import copy\n",
    "#theta = np.zeros(len(X[0]))\n",
    "theta = copy.deepcopy(X[0])\n",
    "lamb=500\n",
    "eps=0.00001\n",
    "\n",
    "gd = GradientDescent(theta,lamb,eps)\n",
    "#gd.tmp"
   ]
  },
  {
   "cell_type": "code",
   "execution_count": 8,
   "metadata": {
    "collapsed": false
   },
   "outputs": [
    {
     "name": "stdout",
     "output_type": "stream",
     "text": [
      "Iteration 0      | Cost: 3081.797421 | Score: 0.565\n",
      "30 features used\n",
      "Iteration 500    | Cost: 223.310024 | Score: 0.841\n",
      "20 features used\n",
      "Iteration 1000   | Cost: 223.310481 | Score: 0.841\n",
      "20 features used\n",
      "Iteration 1500   | Cost: 223.310481 | Score: 0.841\n",
      "20 features used\n",
      "Iteration 2000   | Cost: 223.310481 | Score: 0.841\n",
      "20 features used\n",
      "Iteration 2500   | Cost: 223.310481 | Score: 0.841\n",
      "20 features used\n",
      "Iteration 3000   | Cost: 223.310481 | Score: 0.841\n",
      "20 features used\n",
      "Iteration 3500   | Cost: 223.310481 | Score: 0.841\n",
      "20 features used\n",
      "Iteration 4000   | Cost: 223.310481 | Score: 0.841\n",
      "20 features used\n",
      "Iteration 4500   | Cost: 223.310481 | Score: 0.841\n",
      "20 features used\n",
      "Cross validation scores: [ 0.816  0.836  0.856  0.836  0.852], mean: 0.84\n"
     ]
    }
   ],
   "source": [
    "nbIterations = 5000\n",
    "gd.fit(X,y,nbIterations,printevery=nbIterations/10)\n",
    "scores = cross_validation.cross_val_score(gd, X, y, cv=5,scoring=\"accuracy\")\n",
    "print(\"Cross validation scores: %s, mean: %.02f\"%(scores,np.mean(scores)))"
   ]
  },
  {
   "cell_type": "code",
   "execution_count": 10,
   "metadata": {
    "collapsed": false
   },
   "outputs": [
    {
     "name": "stdout",
     "output_type": "stream",
     "text": [
      "Lamda: 0     | Cross val mean: 0.832 | Features: 30\n",
      "Lamda: 200   | Cross val mean: 0.836 | Features: 29\n",
      "Lamda: 400   | Cross val mean: 0.837 | Features: 21\n",
      "Lamda: 600   | Cross val mean: 0.840 | Features: 18\n",
      "Lamda: 800   | Cross val mean: 0.840 | Features: 16\n",
      "Lamda: 1000  | Cross val mean: 0.842 | Features: 14\n",
      "Lamda: 1200  | Cross val mean: 0.843 | Features: 12\n",
      "Lamda: 1400  | Cross val mean: 0.845 | Features: 12\n",
      "Lamda: 1600  | Cross val mean: 0.845 | Features: 11\n",
      "Lamda: 1800  | Cross val mean: 0.844 | Features: 9\n",
      "Lamda: 2000  | Cross val mean: 0.842 | Features: 9\n",
      "Lamda: 2200  | Cross val mean: 0.841 | Features: 9\n",
      "Lamda: 2400  | Cross val mean: 0.838 | Features: 5\n",
      "Lamda: 2600  | Cross val mean: 0.834 | Features: 5\n",
      "Lamda: 2800  | Cross val mean: 0.833 | Features: 5\n",
      "Lamda: 3000  | Cross val mean: 0.832 | Features: 5\n",
      "Lamda: 3200  | Cross val mean: 0.832 | Features: 5\n",
      "Lamda: 3400  | Cross val mean: 0.833 | Features: 5\n",
      "Lamda: 3600  | Cross val mean: 0.832 | Features: 5\n",
      "Lamda: 3800  | Cross val mean: 0.832 | Features: 5\n"
     ]
    }
   ],
   "source": [
    "eps=0.00001\n",
    "la = []\n",
    "cross_sc = []\n",
    "used_features = []\n",
    "\n",
    "for lamb in np.arange(0,4000,200):\n",
    "    theta = copy.deepcopy(X[0])\n",
    "    gd = GradientDescent(theta,lamb,eps)\n",
    "    nbIterations = 4000\n",
    "    gd.fit(X,y,nbIterations)\n",
    "    scoresSvm = cross_validation.cross_val_score(gd, X, y, cv=5,scoring=\"accuracy\")\n",
    "    print(\"Lamda: %s | Cross val mean: %.03f | Features: %d\"%(str(lamb).ljust(5),np.mean(scoresSvm),gd.used_features))\n",
    "    #print(\"Lamda: %.02f | Cross val mean: %.02f | Features: %d\"%(lamb,gd.score(X,y),gd.used_features))\n",
    "    cross_sc.append(np.mean(scoresSvm))\n",
    "    la.append(lamb)\n",
    "    used_features.append(gd.used_features)"
   ]
  },
  {
   "cell_type": "code",
   "execution_count": 11,
   "metadata": {
    "collapsed": false
   },
   "outputs": [
    {
     "data": {
      "image/png": "[encoded data removed]",
      "text/plain": [
       "<matplotlib.figure.Figure at 0x10f9d9b50>"
      ]
     },
     "metadata": {},
     "output_type": "display_data"
    }
   ],
   "source": [
    "fig, ax1 = plt.subplots()\n",
    "\n",
    "ax2 = ax1.twinx()\n",
    "ax1.plot(la, cross_sc, '#6DC433')\n",
    "ax2.plot(la, used_features, '#5AC8ED')\n",
    "\n",
    "ax1.set_xlabel('lambda')\n",
    "ax1.set_ylabel('Cross val score', color='#6DC433')\n",
    "ax2.set_ylabel('Nb features used', color='#5AC8ED')\n",
    "\n",
    "ax1.yaxis.grid(False)\n",
    "ax2.grid(False)\n",
    "plt.show()"
   ]
  },
  {
   "cell_type": "markdown",
   "metadata": {},
   "source": [
    "---\n",
    "### L2"
   ]
  },
  {
   "cell_type": "code",
   "execution_count": null,
   "metadata": {
    "collapsed": true
   },
   "outputs": [],
   "source": [
    "class GradientDescentL2(base.BaseEstimator):\n",
    "    def __init__(self,theta,lamb,eps):\n",
    "        self.theta=theta\n",
    "        self.eps=eps\n",
    "        self.lamb=lamb\n",
    "\n",
    "    def fit(self,X,y,nbIt=1000,printevery=-1):\n",
    "        l=len(X)\n",
    "        xTrans = X.transpose()\n",
    "        \n",
    "        for i in xrange(0,nbIt):\n",
    "            index = np.random.randint(l)\n",
    "            loss = np.dot(X, self.theta) - y\n",
    "            cost = np.sum(loss ** 2) / (2 * l) + (self.lamb*(np.linalg.norm(-self.theta)**2))\n",
    "            gradient = np.dot(xTrans,(np.dot(theta,xTrans)-y))+np.sign(theta)*self.lamb\n",
    "            thetaprime = self.theta - self.eps * gradient\n",
    "            \n",
    "            for k in xrange(0,len(theta)):\n",
    "                theta[k] = 0 if thetaprime[k]*theta[k]<0 else thetaprime[k]\n",
    "\n",
    "            if printevery!=-1 and i%printevery==0:\n",
    "                    print(\"Iteration %s | Cost: %f\" % (str(i).ljust(6), cost))\n",
    "                \n",
    "    def predict(self,x):\n",
    "        #print(\"Product: %f\"%(np.dot(x,self.theta)))\n",
    "        ret=[]\n",
    "        for i in x:\n",
    "            ret.append(1 if np.dot(i,self.theta)>0 else -1)\n",
    "        return ret\n",
    "    \n",
    "    def score(self,X,y):\n",
    "        cpt=0.0\n",
    "        allpred = self.predict(X)\n",
    "        for idx,i in enumerate(allpred):\n",
    "            cpt += 1 if i==y[idx] else 0\n",
    "        print(cpt,len(X))\n",
    "        return cpt/len(X)"
   ]
  },
  {
   "cell_type": "code",
   "execution_count": null,
   "metadata": {
    "collapsed": false
   },
   "outputs": [],
   "source": [
    "theta = np.zeros(len(X[0]))\n",
    "lamb=0.05\n",
    "eps=0.00001\n",
    "gd = GradientDescentL2(theta,lamb,eps)\n",
    "\n",
    "nbIterations = 20000\n",
    "gd.fit(X,y,nbIterations,printevery=nbIterations/10)\n",
    "\n",
    "print(\"Score: %s\"%gd.score(X,y))\n",
    "\n",
    "scoresSvm = cross_validation.cross_val_score(gd, X, y, cv=5,scoring=\"accuracy\")\n",
    "print(\"Cross validation scores: %s, mean: %.02f\"%(scoresSvm,np.mean(scoresSvm)))"
   ]
  },
  {
   "cell_type": "code",
   "execution_count": null,
   "metadata": {
    "collapsed": false
   },
   "outputs": [],
   "source": [
    "eps=0.00001\n",
    "la = []\n",
    "cross_sc = []\n",
    "\n",
    "for lamb in np.arange(0,12,0.5):\n",
    "    theta = np.zeros(len(X[0]))\n",
    "    gd = GradientDescentL2(theta,lamb,eps)\n",
    "    nbIterations = 5000\n",
    "    gd.fit(X,y,nbIterations)\n",
    "    scoresSvm = cross_validation.cross_val_score(gd, X, y, cv=5,scoring=\"accuracy\")\n",
    "    print(\"Lamda: %.02f, Cross val mean: %.02f\"%(lamb,np.mean(scoresSvm)))\n",
    "    cross_sc.append(np.mean(scoresSvm))\n",
    "    la.append(lamb)"
   ]
  },
  {
   "cell_type": "code",
   "execution_count": null,
   "metadata": {
    "collapsed": false
   },
   "outputs": [],
   "source": [
    "import matplotlib.pyplot as plt\n",
    "plt.plot(la,cross_sc)\n",
    "plt.ylabel('Cross val score')\n",
    "plt.xlabel('lambda')\n",
    "plt.show()"
   ]
  },
  {
   "cell_type": "code",
   "execution_count": null,
   "metadata": {
    "collapsed": true
   },
   "outputs": [],
   "source": []
  }
 ],
 "metadata": {
  "kernelspec": {
   "display_name": "Python 2",
   "language": "python",
   "name": "python2"
  },
  "language_info": {
   "codemirror_mode": {
    "name": "ipython",
    "version": 2
   },
   "file_extension": ".py",
   "mimetype": "text/x-python",
   "name": "python",
   "nbconvert_exporter": "python",
   "pygments_lexer": "ipython2",
   "version": "2.7.10"
  }
 },
 "nbformat": 4,
 "nbformat_minor": 0
}
