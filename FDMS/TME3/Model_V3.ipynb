{
 "cells": [
  {
   "cell_type": "markdown",
   "metadata": {},
   "source": [
    "## FDMS TME3  \n",
    "\n",
    "Kaggle [How Much Did It Rain? II](https://www.kaggle.com/c/how-much-did-it-rain-ii)\n",
    "\n",
    "Florian Toque & Paul Willot  "
   ]
  },
  {
   "cell_type": "markdown",
   "metadata": {},
   "source": [
    "### Notes\n",
    "We tried different model, like SVM regression, MLP, Random Forest and KNN as recommanded by the winning team of the Kaggle on taxi trajectories. So far Random Forest seems to be the best, slightly better than the SVM.  \n",
    "The new features we exctracted only made a very small impact on predictions."
   ]
  },
  {
   "cell_type": "code",
   "execution_count": 97,
   "metadata": {
    "collapsed": false
   },
   "outputs": [],
   "source": [
    "# from __future__ import exam_success\n",
    "from __future__ import absolute_import\n",
    "from __future__ import print_function\n",
    "\n",
    "%matplotlib inline\n",
    "import sklearn\n",
    "import matplotlib.pyplot as plt\n",
    "import seaborn as sns\n",
    "import numpy as np\n",
    "import random\n",
    "import pandas as pd\n",
    "import scipy.stats as stats\n",
    "\n",
    "# Sk cheatsfrom sklearn.ensemble import ExtraTreesRegressor\n",
    "from sklearn.cross_validation import cross_val_score  # cross val\n",
    "from sklearn.ensemble import RandomForestRegressor\n",
    "from sklearn.ensemble import ExtraTreesRegressor\n",
    "from sklearn.ensemble import GradientBoostingRegressor\n",
    "from sklearn.preprocessing import Imputer   # get rid of nan\n",
    "from sklearn.neighbors import KNeighborsRegressor\n",
    "from sklearn import grid_search\n",
    "import os"
   ]
  },
  {
   "cell_type": "markdown",
   "metadata": {},
   "source": [
    "* 13.765.202 lines in train.csv  \n",
    "*  8.022.757 lines in test.csv  "
   ]
  },
  {
   "cell_type": "markdown",
   "metadata": {},
   "source": [
    "### Few words about the dataset\n",
    "\n",
    "Predictions is made in the USA corn growing states (mainly Iowa, Illinois, Indiana) during the season with the highest rainfall (as illustrated by [Iowa](https://en.wikipedia.org/wiki/Iowa#Climate) for the april to august months)\n",
    "\n",
    "The Kaggle page indicate that the dataset have been shuffled, so working on a subset seems acceptable  \n",
    "The test set is not a extracted from the same data as the training set however, which make the evaluation trickier"
   ]
  },
  {
   "cell_type": "markdown",
   "metadata": {},
   "source": [
    "### Load the dataset"
   ]
  },
  {
   "cell_type": "code",
   "execution_count": 111,
   "metadata": {
    "collapsed": false
   },
   "outputs": [
    {
     "name": "stdout",
     "output_type": "stream",
     "text": [
      "CPU times: user 26.2 ms, sys: 6.82 ms, total: 33 ms\n",
      "Wall time: 35.2 ms\n"
     ]
    }
   ],
   "source": [
    "%%time\n",
    "#filename = \"data/train.csv\"\n",
    "filename = \"data/reduced_train_10000.csv\"\n",
    "#filename = \"data/reduced_train_1000000.csv\"\n",
    "raw = pd.read_csv(filename)\n",
    "raw = raw.set_index('Id')"
   ]
  },
  {
   "cell_type": "code",
   "execution_count": 112,
   "metadata": {
    "collapsed": false
   },
   "outputs": [
    {
     "data": {
      "text/plain": [
       "Index([u'minutes_past', u'radardist_km', u'Ref', u'Ref_5x5_10th',\n",
       "       u'Ref_5x5_50th', u'Ref_5x5_90th', u'RefComposite',\n",
       "       u'RefComposite_5x5_10th', u'RefComposite_5x5_50th',\n",
       "       u'RefComposite_5x5_90th', u'RhoHV', u'RhoHV_5x5_10th',\n",
       "       u'RhoHV_5x5_50th', u'RhoHV_5x5_90th', u'Zdr', u'Zdr_5x5_10th',\n",
       "       u'Zdr_5x5_50th', u'Zdr_5x5_90th', u'Kdp', u'Kdp_5x5_10th',\n",
       "       u'Kdp_5x5_50th', u'Kdp_5x5_90th', u'Expected'],\n",
       "      dtype='object')"
      ]
     },
     "execution_count": 112,
     "metadata": {},
     "output_type": "execute_result"
    }
   ],
   "source": [
    "raw.columns"
   ]
  },
  {
   "cell_type": "code",
   "execution_count": 110,
   "metadata": {
    "collapsed": false
   },
   "outputs": [
    {
     "data": {
      "text/plain": [
       "Index([u'minutes_past', u'radardist_km', u'Ref', u'Ref_5x5_10th',\n",
       "       u'Ref_5x5_50th', u'Ref_5x5_90th', u'RefComposite',\n",
       "       u'RefComposite_5x5_10th', u'RefComposite_5x5_50th',\n",
       "       u'RefComposite_5x5_90th', u'RhoHV', u'RhoHV_5x5_10th',\n",
       "       u'RhoHV_5x5_50th', u'RhoHV_5x5_90th', u'Zdr', u'Zdr_5x5_10th',\n",
       "       u'Zdr_5x5_50th', u'Zdr_5x5_90th', u'Kdp', u'Kdp_5x5_10th',\n",
       "       u'Kdp_5x5_50th', u'Kdp_5x5_90th'],\n",
       "      dtype='object')"
      ]
     },
     "execution_count": 110,
     "metadata": {},
     "output_type": "execute_result"
    }
   ],
   "source": [
    "testFull.columns"
   ]
  },
  {
   "cell_type": "code",
   "execution_count": 3,
   "metadata": {
    "collapsed": false
   },
   "outputs": [
    {
     "data": {
      "text/plain": [
       "count    100000.000000\n",
       "mean        129.579825\n",
       "std         687.622542\n",
       "min           0.010000\n",
       "25%           0.254000\n",
       "50%           1.016000\n",
       "75%           3.556002\n",
       "max       32740.617000\n",
       "Name: Expected, dtype: float64"
      ]
     },
     "execution_count": 3,
     "metadata": {},
     "output_type": "execute_result"
    }
   ],
   "source": [
    "raw['Expected'].describe()"
   ]
  },
  {
   "cell_type": "markdown",
   "metadata": {},
   "source": [
    "Per wikipedia, a **value of more than 421 mm/h is considered \"Extreme/large hail\"**  \n",
    "If we encounter the value 327.40 meter per hour, we should probably start building Noah's ark  \n",
    "Therefor, it seems reasonable to **drop values too large**, considered as outliers"
   ]
  },
  {
   "cell_type": "code",
   "execution_count": 87,
   "metadata": {
    "collapsed": false
   },
   "outputs": [
    {
     "name": "stdout",
     "output_type": "stream",
     "text": [
      "Dropped 51720 (5.17%)\n"
     ]
    }
   ],
   "source": [
    "# Considering that the gauge may concentrate the rainfall, we set the cap to 1000\n",
    "# Comment this line to analyse the complete dataset \n",
    "l = len(raw)\n",
    "raw = raw[raw['Expected'] < 300]  #1000\n",
    "print(\"Dropped %d (%0.2f%%)\"%(l-len(raw),(l-len(raw))/float(l)*100))"
   ]
  },
  {
   "cell_type": "code",
   "execution_count": 5,
   "metadata": {
    "collapsed": false
   },
   "outputs": [
    {
     "data": {
      "text/html": [
       "<div>\n",
       "<table border=\"1\" class=\"dataframe\">\n",
       "  <thead>\n",
       "    <tr style=\"text-align: right;\">\n",
       "      <th></th>\n",
       "      <th>minutes_past</th>\n",
       "      <th>radardist_km</th>\n",
       "      <th>Ref</th>\n",
       "      <th>Ref_5x5_10th</th>\n",
       "      <th>Ref_5x5_50th</th>\n",
       "      <th>Ref_5x5_90th</th>\n",
       "      <th>RefComposite</th>\n",
       "      <th>RefComposite_5x5_10th</th>\n",
       "      <th>RefComposite_5x5_50th</th>\n",
       "      <th>RefComposite_5x5_90th</th>\n",
       "      <th>...</th>\n",
       "      <th>RhoHV_5x5_90th</th>\n",
       "      <th>Zdr</th>\n",
       "      <th>Zdr_5x5_10th</th>\n",
       "      <th>Zdr_5x5_50th</th>\n",
       "      <th>Zdr_5x5_90th</th>\n",
       "      <th>Kdp</th>\n",
       "      <th>Kdp_5x5_10th</th>\n",
       "      <th>Kdp_5x5_50th</th>\n",
       "      <th>Kdp_5x5_90th</th>\n",
       "      <th>Expected</th>\n",
       "    </tr>\n",
       "    <tr>\n",
       "      <th>Id</th>\n",
       "      <th></th>\n",
       "      <th></th>\n",
       "      <th></th>\n",
       "      <th></th>\n",
       "      <th></th>\n",
       "      <th></th>\n",
       "      <th></th>\n",
       "      <th></th>\n",
       "      <th></th>\n",
       "      <th></th>\n",
       "      <th></th>\n",
       "      <th></th>\n",
       "      <th></th>\n",
       "      <th></th>\n",
       "      <th></th>\n",
       "      <th></th>\n",
       "      <th></th>\n",
       "      <th></th>\n",
       "      <th></th>\n",
       "      <th></th>\n",
       "      <th></th>\n",
       "    </tr>\n",
       "  </thead>\n",
       "  <tbody>\n",
       "    <tr>\n",
       "      <th>1</th>\n",
       "      <td>3</td>\n",
       "      <td>10</td>\n",
       "      <td>NaN</td>\n",
       "      <td>NaN</td>\n",
       "      <td>NaN</td>\n",
       "      <td>NaN</td>\n",
       "      <td>NaN</td>\n",
       "      <td>NaN</td>\n",
       "      <td>NaN</td>\n",
       "      <td>NaN</td>\n",
       "      <td>...</td>\n",
       "      <td>NaN</td>\n",
       "      <td>NaN</td>\n",
       "      <td>NaN</td>\n",
       "      <td>NaN</td>\n",
       "      <td>NaN</td>\n",
       "      <td>NaN</td>\n",
       "      <td>NaN</td>\n",
       "      <td>NaN</td>\n",
       "      <td>NaN</td>\n",
       "      <td>0.254</td>\n",
       "    </tr>\n",
       "    <tr>\n",
       "      <th>1</th>\n",
       "      <td>16</td>\n",
       "      <td>10</td>\n",
       "      <td>NaN</td>\n",
       "      <td>NaN</td>\n",
       "      <td>NaN</td>\n",
       "      <td>NaN</td>\n",
       "      <td>NaN</td>\n",
       "      <td>NaN</td>\n",
       "      <td>NaN</td>\n",
       "      <td>NaN</td>\n",
       "      <td>...</td>\n",
       "      <td>NaN</td>\n",
       "      <td>NaN</td>\n",
       "      <td>NaN</td>\n",
       "      <td>NaN</td>\n",
       "      <td>NaN</td>\n",
       "      <td>NaN</td>\n",
       "      <td>NaN</td>\n",
       "      <td>NaN</td>\n",
       "      <td>NaN</td>\n",
       "      <td>0.254</td>\n",
       "    </tr>\n",
       "    <tr>\n",
       "      <th>1</th>\n",
       "      <td>25</td>\n",
       "      <td>10</td>\n",
       "      <td>NaN</td>\n",
       "      <td>NaN</td>\n",
       "      <td>NaN</td>\n",
       "      <td>NaN</td>\n",
       "      <td>NaN</td>\n",
       "      <td>NaN</td>\n",
       "      <td>NaN</td>\n",
       "      <td>NaN</td>\n",
       "      <td>...</td>\n",
       "      <td>NaN</td>\n",
       "      <td>NaN</td>\n",
       "      <td>NaN</td>\n",
       "      <td>NaN</td>\n",
       "      <td>NaN</td>\n",
       "      <td>NaN</td>\n",
       "      <td>NaN</td>\n",
       "      <td>NaN</td>\n",
       "      <td>NaN</td>\n",
       "      <td>0.254</td>\n",
       "    </tr>\n",
       "    <tr>\n",
       "      <th>1</th>\n",
       "      <td>35</td>\n",
       "      <td>10</td>\n",
       "      <td>NaN</td>\n",
       "      <td>NaN</td>\n",
       "      <td>NaN</td>\n",
       "      <td>NaN</td>\n",
       "      <td>NaN</td>\n",
       "      <td>NaN</td>\n",
       "      <td>NaN</td>\n",
       "      <td>NaN</td>\n",
       "      <td>...</td>\n",
       "      <td>NaN</td>\n",
       "      <td>NaN</td>\n",
       "      <td>NaN</td>\n",
       "      <td>NaN</td>\n",
       "      <td>NaN</td>\n",
       "      <td>NaN</td>\n",
       "      <td>NaN</td>\n",
       "      <td>NaN</td>\n",
       "      <td>NaN</td>\n",
       "      <td>0.254</td>\n",
       "    </tr>\n",
       "    <tr>\n",
       "      <th>1</th>\n",
       "      <td>45</td>\n",
       "      <td>10</td>\n",
       "      <td>NaN</td>\n",
       "      <td>NaN</td>\n",
       "      <td>NaN</td>\n",
       "      <td>NaN</td>\n",
       "      <td>NaN</td>\n",
       "      <td>NaN</td>\n",
       "      <td>NaN</td>\n",
       "      <td>NaN</td>\n",
       "      <td>...</td>\n",
       "      <td>NaN</td>\n",
       "      <td>NaN</td>\n",
       "      <td>NaN</td>\n",
       "      <td>NaN</td>\n",
       "      <td>NaN</td>\n",
       "      <td>NaN</td>\n",
       "      <td>NaN</td>\n",
       "      <td>NaN</td>\n",
       "      <td>NaN</td>\n",
       "      <td>0.254</td>\n",
       "    </tr>\n",
       "  </tbody>\n",
       "</table>\n",
       "<p>5 rows × 23 columns</p>\n",
       "</div>"
      ],
      "text/plain": [
       "    minutes_past  radardist_km  Ref  Ref_5x5_10th  Ref_5x5_50th  Ref_5x5_90th  \\\n",
       "Id                                                                              \n",
       "1              3            10  NaN           NaN           NaN           NaN   \n",
       "1             16            10  NaN           NaN           NaN           NaN   \n",
       "1             25            10  NaN           NaN           NaN           NaN   \n",
       "1             35            10  NaN           NaN           NaN           NaN   \n",
       "1             45            10  NaN           NaN           NaN           NaN   \n",
       "\n",
       "    RefComposite  RefComposite_5x5_10th  RefComposite_5x5_50th  \\\n",
       "Id                                                               \n",
       "1            NaN                    NaN                    NaN   \n",
       "1            NaN                    NaN                    NaN   \n",
       "1            NaN                    NaN                    NaN   \n",
       "1            NaN                    NaN                    NaN   \n",
       "1            NaN                    NaN                    NaN   \n",
       "\n",
       "    RefComposite_5x5_90th    ...     RhoHV_5x5_90th  Zdr  Zdr_5x5_10th  \\\n",
       "Id                           ...                                         \n",
       "1                     NaN    ...                NaN  NaN           NaN   \n",
       "1                     NaN    ...                NaN  NaN           NaN   \n",
       "1                     NaN    ...                NaN  NaN           NaN   \n",
       "1                     NaN    ...                NaN  NaN           NaN   \n",
       "1                     NaN    ...                NaN  NaN           NaN   \n",
       "\n",
       "    Zdr_5x5_50th  Zdr_5x5_90th  Kdp  Kdp_5x5_10th  Kdp_5x5_50th  Kdp_5x5_90th  \\\n",
       "Id                                                                              \n",
       "1            NaN           NaN  NaN           NaN           NaN           NaN   \n",
       "1            NaN           NaN  NaN           NaN           NaN           NaN   \n",
       "1            NaN           NaN  NaN           NaN           NaN           NaN   \n",
       "1            NaN           NaN  NaN           NaN           NaN           NaN   \n",
       "1            NaN           NaN  NaN           NaN           NaN           NaN   \n",
       "\n",
       "    Expected  \n",
       "Id            \n",
       "1      0.254  \n",
       "1      0.254  \n",
       "1      0.254  \n",
       "1      0.254  \n",
       "1      0.254  \n",
       "\n",
       "[5 rows x 23 columns]"
      ]
     },
     "execution_count": 5,
     "metadata": {},
     "output_type": "execute_result"
    }
   ],
   "source": [
    "raw.head(5)"
   ]
  },
  {
   "cell_type": "code",
   "execution_count": 6,
   "metadata": {
    "collapsed": false
   },
   "outputs": [
    {
     "data": {
      "text/html": [
       "<div>\n",
       "<table border=\"1\" class=\"dataframe\">\n",
       "  <thead>\n",
       "    <tr style=\"text-align: right;\">\n",
       "      <th></th>\n",
       "      <th>minutes_past</th>\n",
       "      <th>radardist_km</th>\n",
       "      <th>Ref</th>\n",
       "      <th>Ref_5x5_10th</th>\n",
       "      <th>Ref_5x5_50th</th>\n",
       "      <th>Ref_5x5_90th</th>\n",
       "      <th>RefComposite</th>\n",
       "      <th>RefComposite_5x5_10th</th>\n",
       "      <th>RefComposite_5x5_50th</th>\n",
       "      <th>RefComposite_5x5_90th</th>\n",
       "      <th>...</th>\n",
       "      <th>RhoHV_5x5_90th</th>\n",
       "      <th>Zdr</th>\n",
       "      <th>Zdr_5x5_10th</th>\n",
       "      <th>Zdr_5x5_50th</th>\n",
       "      <th>Zdr_5x5_90th</th>\n",
       "      <th>Kdp</th>\n",
       "      <th>Kdp_5x5_10th</th>\n",
       "      <th>Kdp_5x5_50th</th>\n",
       "      <th>Kdp_5x5_90th</th>\n",
       "      <th>Expected</th>\n",
       "    </tr>\n",
       "  </thead>\n",
       "  <tbody>\n",
       "    <tr>\n",
       "      <th>count</th>\n",
       "      <td>93759.000000</td>\n",
       "      <td>93759.000000</td>\n",
       "      <td>44923.000000</td>\n",
       "      <td>38391.000000</td>\n",
       "      <td>45078.000000</td>\n",
       "      <td>53038.000000</td>\n",
       "      <td>47946.000000</td>\n",
       "      <td>42219.000000</td>\n",
       "      <td>48042.000000</td>\n",
       "      <td>55118.000000</td>\n",
       "      <td>...</td>\n",
       "      <td>42064.000000</td>\n",
       "      <td>35938.000000</td>\n",
       "      <td>30835.000000</td>\n",
       "      <td>35925.000000</td>\n",
       "      <td>42064.000000</td>\n",
       "      <td>31231.000000</td>\n",
       "      <td>26418.000000</td>\n",
       "      <td>31283.000000</td>\n",
       "      <td>36505.000000</td>\n",
       "      <td>93759.000000</td>\n",
       "    </tr>\n",
       "    <tr>\n",
       "      <th>mean</th>\n",
       "      <td>29.684830</td>\n",
       "      <td>11.022334</td>\n",
       "      <td>23.684482</td>\n",
       "      <td>20.788948</td>\n",
       "      <td>23.378688</td>\n",
       "      <td>26.427731</td>\n",
       "      <td>25.424874</td>\n",
       "      <td>22.956797</td>\n",
       "      <td>25.139201</td>\n",
       "      <td>27.982365</td>\n",
       "      <td>...</td>\n",
       "      <td>1.014742</td>\n",
       "      <td>0.597837</td>\n",
       "      <td>-0.564851</td>\n",
       "      <td>0.429577</td>\n",
       "      <td>2.018197</td>\n",
       "      <td>-0.013098</td>\n",
       "      <td>-3.383198</td>\n",
       "      <td>-0.429909</td>\n",
       "      <td>3.855601</td>\n",
       "      <td>5.837679</td>\n",
       "    </tr>\n",
       "    <tr>\n",
       "      <th>std</th>\n",
       "      <td>17.418876</td>\n",
       "      <td>4.259865</td>\n",
       "      <td>10.224306</td>\n",
       "      <td>9.073503</td>\n",
       "      <td>9.936862</td>\n",
       "      <td>11.186952</td>\n",
       "      <td>10.627954</td>\n",
       "      <td>9.638466</td>\n",
       "      <td>10.372406</td>\n",
       "      <td>11.535892</td>\n",
       "      <td>...</td>\n",
       "      <td>0.045336</td>\n",
       "      <td>1.388384</td>\n",
       "      <td>0.974288</td>\n",
       "      <td>0.864887</td>\n",
       "      <td>1.539513</td>\n",
       "      <td>3.747791</td>\n",
       "      <td>2.771442</td>\n",
       "      <td>2.194894</td>\n",
       "      <td>3.762005</td>\n",
       "      <td>22.764656</td>\n",
       "    </tr>\n",
       "    <tr>\n",
       "      <th>min</th>\n",
       "      <td>0.000000</td>\n",
       "      <td>0.000000</td>\n",
       "      <td>-29.000000</td>\n",
       "      <td>-31.500000</td>\n",
       "      <td>-31.500000</td>\n",
       "      <td>-26.500000</td>\n",
       "      <td>-26.500000</td>\n",
       "      <td>-27.500000</td>\n",
       "      <td>-25.000000</td>\n",
       "      <td>-23.000000</td>\n",
       "      <td>...</td>\n",
       "      <td>0.208333</td>\n",
       "      <td>-7.875000</td>\n",
       "      <td>-7.875000</td>\n",
       "      <td>-7.875000</td>\n",
       "      <td>-7.875000</td>\n",
       "      <td>-52.880005</td>\n",
       "      <td>-51.420000</td>\n",
       "      <td>-46.870010</td>\n",
       "      <td>-41.540010</td>\n",
       "      <td>0.010000</td>\n",
       "    </tr>\n",
       "    <tr>\n",
       "      <th>25%</th>\n",
       "      <td>15.000000</td>\n",
       "      <td>9.000000</td>\n",
       "      <td>17.500000</td>\n",
       "      <td>15.500000</td>\n",
       "      <td>17.500000</td>\n",
       "      <td>19.500000</td>\n",
       "      <td>19.000000</td>\n",
       "      <td>17.500000</td>\n",
       "      <td>18.500000</td>\n",
       "      <td>20.500000</td>\n",
       "      <td>...</td>\n",
       "      <td>0.998333</td>\n",
       "      <td>-0.062500</td>\n",
       "      <td>-1.000000</td>\n",
       "      <td>0.062500</td>\n",
       "      <td>1.125000</td>\n",
       "      <td>-1.410004</td>\n",
       "      <td>-4.230011</td>\n",
       "      <td>-0.710007</td>\n",
       "      <td>1.759994</td>\n",
       "      <td>0.254000</td>\n",
       "    </tr>\n",
       "    <tr>\n",
       "      <th>50%</th>\n",
       "      <td>30.000000</td>\n",
       "      <td>12.000000</td>\n",
       "      <td>24.000000</td>\n",
       "      <td>21.000000</td>\n",
       "      <td>23.500000</td>\n",
       "      <td>27.000000</td>\n",
       "      <td>25.500000</td>\n",
       "      <td>23.000000</td>\n",
       "      <td>25.500000</td>\n",
       "      <td>28.500000</td>\n",
       "      <td>...</td>\n",
       "      <td>1.005000</td>\n",
       "      <td>0.500000</td>\n",
       "      <td>-0.500000</td>\n",
       "      <td>0.375000</td>\n",
       "      <td>1.687500</td>\n",
       "      <td>0.000000</td>\n",
       "      <td>-2.809998</td>\n",
       "      <td>0.000000</td>\n",
       "      <td>3.169998</td>\n",
       "      <td>0.830000</td>\n",
       "    </tr>\n",
       "    <tr>\n",
       "      <th>75%</th>\n",
       "      <td>45.000000</td>\n",
       "      <td>14.000000</td>\n",
       "      <td>30.500000</td>\n",
       "      <td>27.000000</td>\n",
       "      <td>30.500000</td>\n",
       "      <td>34.500000</td>\n",
       "      <td>33.000000</td>\n",
       "      <td>29.500000</td>\n",
       "      <td>32.500000</td>\n",
       "      <td>36.500000</td>\n",
       "      <td>...</td>\n",
       "      <td>1.051667</td>\n",
       "      <td>1.125000</td>\n",
       "      <td>0.000000</td>\n",
       "      <td>0.750000</td>\n",
       "      <td>2.500000</td>\n",
       "      <td>1.409988</td>\n",
       "      <td>-1.740006</td>\n",
       "      <td>0.349991</td>\n",
       "      <td>5.289993</td>\n",
       "      <td>2.794001</td>\n",
       "    </tr>\n",
       "    <tr>\n",
       "      <th>max</th>\n",
       "      <td>59.000000</td>\n",
       "      <td>21.000000</td>\n",
       "      <td>64.500000</td>\n",
       "      <td>57.000000</td>\n",
       "      <td>61.500000</td>\n",
       "      <td>67.500000</td>\n",
       "      <td>68.000000</td>\n",
       "      <td>59.500000</td>\n",
       "      <td>64.000000</td>\n",
       "      <td>79.500000</td>\n",
       "      <td>...</td>\n",
       "      <td>1.051667</td>\n",
       "      <td>7.937500</td>\n",
       "      <td>5.937500</td>\n",
       "      <td>7.937500</td>\n",
       "      <td>7.937500</td>\n",
       "      <td>47.849990</td>\n",
       "      <td>1.759994</td>\n",
       "      <td>5.629990</td>\n",
       "      <td>43.209990</td>\n",
       "      <td>244.000120</td>\n",
       "    </tr>\n",
       "  </tbody>\n",
       "</table>\n",
       "<p>8 rows × 23 columns</p>\n",
       "</div>"
      ],
      "text/plain": [
       "       minutes_past  radardist_km           Ref  Ref_5x5_10th  Ref_5x5_50th  \\\n",
       "count  93759.000000  93759.000000  44923.000000  38391.000000  45078.000000   \n",
       "mean      29.684830     11.022334     23.684482     20.788948     23.378688   \n",
       "std       17.418876      4.259865     10.224306      9.073503      9.936862   \n",
       "min        0.000000      0.000000    -29.000000    -31.500000    -31.500000   \n",
       "25%       15.000000      9.000000     17.500000     15.500000     17.500000   \n",
       "50%       30.000000     12.000000     24.000000     21.000000     23.500000   \n",
       "75%       45.000000     14.000000     30.500000     27.000000     30.500000   \n",
       "max       59.000000     21.000000     64.500000     57.000000     61.500000   \n",
       "\n",
       "       Ref_5x5_90th  RefComposite  RefComposite_5x5_10th  \\\n",
       "count  53038.000000  47946.000000           42219.000000   \n",
       "mean      26.427731     25.424874              22.956797   \n",
       "std       11.186952     10.627954               9.638466   \n",
       "min      -26.500000    -26.500000             -27.500000   \n",
       "25%       19.500000     19.000000              17.500000   \n",
       "50%       27.000000     25.500000              23.000000   \n",
       "75%       34.500000     33.000000              29.500000   \n",
       "max       67.500000     68.000000              59.500000   \n",
       "\n",
       "       RefComposite_5x5_50th  RefComposite_5x5_90th      ...       \\\n",
       "count           48042.000000           55118.000000      ...        \n",
       "mean               25.139201              27.982365      ...        \n",
       "std                10.372406              11.535892      ...        \n",
       "min               -25.000000             -23.000000      ...        \n",
       "25%                18.500000              20.500000      ...        \n",
       "50%                25.500000              28.500000      ...        \n",
       "75%                32.500000              36.500000      ...        \n",
       "max                64.000000              79.500000      ...        \n",
       "\n",
       "       RhoHV_5x5_90th           Zdr  Zdr_5x5_10th  Zdr_5x5_50th  Zdr_5x5_90th  \\\n",
       "count    42064.000000  35938.000000  30835.000000  35925.000000  42064.000000   \n",
       "mean         1.014742      0.597837     -0.564851      0.429577      2.018197   \n",
       "std          0.045336      1.388384      0.974288      0.864887      1.539513   \n",
       "min          0.208333     -7.875000     -7.875000     -7.875000     -7.875000   \n",
       "25%          0.998333     -0.062500     -1.000000      0.062500      1.125000   \n",
       "50%          1.005000      0.500000     -0.500000      0.375000      1.687500   \n",
       "75%          1.051667      1.125000      0.000000      0.750000      2.500000   \n",
       "max          1.051667      7.937500      5.937500      7.937500      7.937500   \n",
       "\n",
       "                Kdp  Kdp_5x5_10th  Kdp_5x5_50th  Kdp_5x5_90th      Expected  \n",
       "count  31231.000000  26418.000000  31283.000000  36505.000000  93759.000000  \n",
       "mean      -0.013098     -3.383198     -0.429909      3.855601      5.837679  \n",
       "std        3.747791      2.771442      2.194894      3.762005     22.764656  \n",
       "min      -52.880005    -51.420000    -46.870010    -41.540010      0.010000  \n",
       "25%       -1.410004     -4.230011     -0.710007      1.759994      0.254000  \n",
       "50%        0.000000     -2.809998      0.000000      3.169998      0.830000  \n",
       "75%        1.409988     -1.740006      0.349991      5.289993      2.794001  \n",
       "max       47.849990      1.759994      5.629990     43.209990    244.000120  \n",
       "\n",
       "[8 rows x 23 columns]"
      ]
     },
     "execution_count": 6,
     "metadata": {},
     "output_type": "execute_result"
    }
   ],
   "source": [
    "raw.describe()"
   ]
  },
  {
   "cell_type": "markdown",
   "metadata": {},
   "source": [
    "We regroup the data by ID"
   ]
  },
  {
   "cell_type": "code",
   "execution_count": 7,
   "metadata": {
    "collapsed": false
   },
   "outputs": [],
   "source": [
    "# We select all features except for the minutes past,\n",
    "# because we ignore the time repartition of the sequence for now\n",
    "\n",
    "features_columns = list([u'Ref', u'Ref_5x5_10th',\n",
    "       u'Ref_5x5_50th', u'Ref_5x5_90th', u'RefComposite',\n",
    "       u'RefComposite_5x5_10th', u'RefComposite_5x5_50th',\n",
    "       u'RefComposite_5x5_90th', u'RhoHV', u'RhoHV_5x5_10th',\n",
    "       u'RhoHV_5x5_50th', u'RhoHV_5x5_90th', u'Zdr', u'Zdr_5x5_10th',\n",
    "       u'Zdr_5x5_50th', u'Zdr_5x5_90th', u'Kdp', u'Kdp_5x5_10th',\n",
    "       u'Kdp_5x5_50th', u'Kdp_5x5_90th'])\n",
    "\n",
    "def getXy(raw):\n",
    "    selected_columns = list([ u'minutes_past',u'radardist_km', u'Ref', u'Ref_5x5_10th',\n",
    "       u'Ref_5x5_50th', u'Ref_5x5_90th', u'RefComposite',\n",
    "       u'RefComposite_5x5_10th', u'RefComposite_5x5_50th',\n",
    "       u'RefComposite_5x5_90th', u'RhoHV', u'RhoHV_5x5_10th',\n",
    "       u'RhoHV_5x5_50th', u'RhoHV_5x5_90th', u'Zdr', u'Zdr_5x5_10th',\n",
    "       u'Zdr_5x5_50th', u'Zdr_5x5_90th', u'Kdp', u'Kdp_5x5_10th',\n",
    "       u'Kdp_5x5_50th', u'Kdp_5x5_90th'])\n",
    "    \n",
    "    data = raw[selected_columns]\n",
    "    \n",
    "    docX, docY = [], []\n",
    "    for i in data.index.unique():\n",
    "        if isinstance(data.loc[i],pd.core.series.Series):\n",
    "            m = [data.loc[i].as_matrix()]\n",
    "            docX.append(m)\n",
    "            docY.append(float(raw.loc[i][\"Expected\"]))\n",
    "        else:\n",
    "            m = data.loc[i].as_matrix()\n",
    "            docX.append(m)\n",
    "            docY.append(float(raw.loc[i][:1][\"Expected\"]))\n",
    "    X , y = np.array(docX) , np.array(docY)\n",
    "    return X,y"
   ]
  },
  {
   "cell_type": "markdown",
   "metadata": {},
   "source": [
    "### On fully filled dataset"
   ]
  },
  {
   "cell_type": "code",
   "execution_count": 88,
   "metadata": {
    "collapsed": true
   },
   "outputs": [],
   "source": [
    "#noAnyNan = raw.loc[raw[features_columns].dropna(how='any').index.unique()]\n",
    "noAnyNan = raw.dropna()"
   ]
  },
  {
   "cell_type": "code",
   "execution_count": 89,
   "metadata": {
    "collapsed": false
   },
   "outputs": [],
   "source": [
    "noFullNan = raw.loc[raw[features_columns].dropna(how='all').index.unique()]"
   ]
  },
  {
   "cell_type": "code",
   "execution_count": 90,
   "metadata": {
    "collapsed": true
   },
   "outputs": [],
   "source": [
    "fullNan = raw.drop(raw[features_columns].dropna(how='all').index)"
   ]
  },
  {
   "cell_type": "markdown",
   "metadata": {
    "collapsed": true
   },
   "source": [
    "---\n",
    "# Predicitons\n"
   ]
  },
  {
   "cell_type": "markdown",
   "metadata": {},
   "source": [
    "As a first try, we make predictions on the complete data, and return the 50th percentile and uncomplete and fully empty data"
   ]
  },
  {
   "cell_type": "code",
   "execution_count": 91,
   "metadata": {
    "collapsed": false
   },
   "outputs": [
    {
     "name": "stdout",
     "output_type": "stream",
     "text": [
      "CPU times: user 17.5 s, sys: 127 ms, total: 17.6 s\n",
      "Wall time: 17.7 s\n"
     ]
    }
   ],
   "source": [
    "%%time\n",
    "X,y=getXy(noAnyNan)"
   ]
  },
  {
   "cell_type": "code",
   "execution_count": 12,
   "metadata": {
    "collapsed": false
   },
   "outputs": [
    {
     "name": "stdout",
     "output_type": "stream",
     "text": [
      "CPU times: user 175 ms, sys: 3.33 ms, total: 178 ms\n",
      "Wall time: 179 ms\n"
     ]
    }
   ],
   "source": [
    "%%time\n",
    "#XX = [np.array(t).mean(0) for t in X]\n",
    "XX = [np.append(np.nanmean(np.array(t),0),(np.array(t)[1:] - np.array(t)[:-1]).sum(0) ) for t in X]"
   ]
  },
  {
   "cell_type": "code",
   "execution_count": 92,
   "metadata": {
    "collapsed": false
   },
   "outputs": [
    {
     "name": "stdout",
     "output_type": "stream",
     "text": [
      "CPU times: user 8.67 s, sys: 36.9 ms, total: 8.7 s\n",
      "Wall time: 8.73 s\n"
     ]
    }
   ],
   "source": [
    "%%time\n",
    "XX=[]\n",
    "for t in X:\n",
    "    #print(idx)\n",
    "    \n",
    "    tmp = np.append(np.nanmean(np.array(t),0),(np.array(t)[1:] - np.array(t)[:-1]).sum(0) )\n",
    "    tmp = np.append(tmp,np.percentile(t,10,axis=0))\n",
    "    tmp = np.append(tmp,np.percentile(t,50,axis=0))\n",
    "    tmp = np.append(tmp,np.percentile(t,90,axis=0))\n",
    "\n",
    "    test = t\n",
    "    \n",
    "    try:\n",
    "        taa=test[:,0]\n",
    "    except TypeError:\n",
    "        taa=[test[0][0]]\n",
    "    valid_time = np.zeros_like(taa)\n",
    "    valid_time[0] = taa[0]\n",
    "    for n in xrange(1,len(taa)):\n",
    "        valid_time[n] = taa[n] - taa[n-1]\n",
    "    valid_time[-1] = valid_time[-1] + 60 - np.sum(valid_time)\n",
    "    valid_time = valid_time / 60.0\n",
    "\n",
    "    \n",
    "    sum=0\n",
    "    try:\n",
    "        column_ref=test[:,2]\n",
    "    except TypeError:\n",
    "        column_ref=[test[0][2]]\n",
    "    for dbz, hours in zip(column_ref, valid_time):\n",
    "        # See: https://en.wikipedia.org/wiki/DBZ_(meteorology)\n",
    "        if np.isfinite(dbz):\n",
    "            mmperhr = pow(pow(10, dbz/10)/200, 0.625)\n",
    "            sum = sum + mmperhr * hours\n",
    "            \n",
    "    XX.append(np.append(np.array(sum),tmp))\n",
    "    #XX.append(np.array([sum]))\n",
    "    #XX.append(tmp)\n"
   ]
  },
  {
   "cell_type": "code",
   "execution_count": 14,
   "metadata": {
    "collapsed": true
   },
   "outputs": [
    {
     "data": {
      "text/plain": [
       "array([  5.99821681e-01,   2.94285714e+01,   1.20000000e+01,\n",
       "         1.92857143e+01,   1.73571429e+01,   1.99285714e+01,\n",
       "         2.30714286e+01,   1.92857143e+01,   1.73571429e+01,\n",
       "         1.99285714e+01,   2.30714286e+01,   9.85476206e-01,\n",
       "         9.68333350e-01,   9.91190490e-01,   1.01166668e+00,\n",
       "         4.82142857e-01,  -4.28571429e-01,   1.96428571e-01,\n",
       "         9.64285714e-01,  -1.45000351e+00,  -2.45857240e+00,\n",
       "        -1.50002620e-01,   2.46570911e+00,   5.70000000e+01,\n",
       "         0.00000000e+00,  -6.00000000e+00,  -1.50000000e+00,\n",
       "        -1.50000000e+00,  -5.00000000e-01,  -6.00000000e+00,\n",
       "        -1.50000000e+00,  -1.50000000e+00,  -5.00000000e-01,\n",
       "         3.00000000e-02,   2.00000600e-02,   1.33333000e-02,\n",
       "        -6.66670000e-03,   1.50000000e+00,   0.00000000e+00,\n",
       "        -6.25000000e-02,   1.87500000e-01,   6.99997000e-01,\n",
       "        -1.40998840e+00,  -1.41000370e+00,  -2.11999510e+00,\n",
       "         6.40000000e+00,   1.20000000e+01,   1.59000000e+01,\n",
       "         1.59000000e+01,   1.85000000e+01,   2.18000000e+01,\n",
       "         1.59000000e+01,   1.59000000e+01,   1.85000000e+01,\n",
       "         2.18000000e+01,   9.65666672e-01,   9.58333338e-01,\n",
       "         9.81666700e-01,   1.00033335e+00,  -1.75000000e-01,\n",
       "        -6.50000000e-01,   1.00000000e-01,   6.75000000e-01,\n",
       "        -3.16999820e+00,  -3.16999820e+00,  -1.05999760e+00,\n",
       "         1.75999450e+00,   2.90000000e+01,   1.20000000e+01,\n",
       "         2.00000000e+01,   1.65000000e+01,   1.95000000e+01,\n",
       "         2.30000000e+01,   2.00000000e+01,   1.65000000e+01,\n",
       "         1.95000000e+01,   2.30000000e+01,   9.88333340e-01,\n",
       "         9.68333360e-01,   9.95000000e-01,   1.00833330e+00,\n",
       "         5.62500000e-01,  -4.37500000e-01,   1.87500000e-01,\n",
       "         9.37500000e-01,  -1.34001160e+00,  -2.47000120e+00,\n",
       "        -3.50006100e-01,   2.11999500e+00,   5.26000000e+01,\n",
       "         1.20000000e+01,   2.20000000e+01,   1.96000000e+01,\n",
       "         2.18000000e+01,   2.44000000e+01,   2.20000000e+01,\n",
       "         1.96000000e+01,   2.18000000e+01,   2.44000000e+01,\n",
       "         1.00166668e+00,   9.77666680e-01,   9.96333332e-01,\n",
       "         1.02700000e+00,   1.21250000e+00,  -2.37500000e-01,\n",
       "         2.75000000e-01,   1.27500000e+00,  -1.42007436e-01,\n",
       "        -1.60000612e+00,   8.49993916e-01,   3.65799254e+00])"
      ]
     },
     "execution_count": 14,
     "metadata": {},
     "output_type": "execute_result"
    }
   ],
   "source": [
    "XX[2]"
   ]
  },
  {
   "cell_type": "raw",
   "metadata": {},
   "source": [
    "(X[0][1:] - X[0][:-1]).sum(0)\n",
    "(t[1:] - t[:-1]).sum(0)\n",
    "%%time\n",
    "etreg = etreg.fit(XX,y)"
   ]
  },
  {
   "cell_type": "code",
   "execution_count": 93,
   "metadata": {
    "collapsed": true
   },
   "outputs": [],
   "source": [
    "def splitTrainTest(X, y, split=0.2):\n",
    "    tmp1, tmp2 = [], []\n",
    "    ps = int(len(X) * (1-split))\n",
    "    index_shuf = range(len(X))\n",
    "    random.shuffle(index_shuf)\n",
    "    for i in index_shuf:\n",
    "        tmp1.append(X[i])\n",
    "        tmp2.append(y[i])\n",
    "    return tmp1[:ps], tmp2[:ps], tmp1[ps:], tmp2[ps:]"
   ]
  },
  {
   "cell_type": "code",
   "execution_count": 94,
   "metadata": {
    "collapsed": true
   },
   "outputs": [],
   "source": [
    "X_train,y_train, X_test, y_test = splitTrainTest(XX,y)"
   ]
  },
  {
   "cell_type": "markdown",
   "metadata": {},
   "source": [
    "---"
   ]
  },
  {
   "cell_type": "code",
   "execution_count": 22,
   "metadata": {
    "collapsed": true
   },
   "outputs": [],
   "source": [
    "def manualScorer(estimator, X, y):\n",
    "    err = (estimator.predict(X_test)-y_test)**2\n",
    "    return -err.sum()/len(err)"
   ]
  },
  {
   "cell_type": "markdown",
   "metadata": {},
   "source": [
    "---"
   ]
  },
  {
   "cell_type": "markdown",
   "metadata": {},
   "source": [
    "max prof 24\n",
    "nb trees 84\n",
    "min sample per leaf 17\n",
    "min sample to split 51"
   ]
  },
  {
   "cell_type": "code",
   "execution_count": 21,
   "metadata": {
    "collapsed": true
   },
   "outputs": [],
   "source": [
    "from sklearn import svm"
   ]
  },
  {
   "cell_type": "code",
   "execution_count": 18,
   "metadata": {
    "collapsed": false
   },
   "outputs": [],
   "source": [
    "svr = svm.SVR(C=100000)"
   ]
  },
  {
   "cell_type": "code",
   "execution_count": null,
   "metadata": {
    "collapsed": false
   },
   "outputs": [],
   "source": [
    "%%time\n",
    "srv = svr.fit(X_train,y_train)"
   ]
  },
  {
   "cell_type": "code",
   "execution_count": null,
   "metadata": {
    "collapsed": false
   },
   "outputs": [],
   "source": [
    "err = (svr.predict(X_train)-y_train)**2\n",
    "err.sum()/len(err)"
   ]
  },
  {
   "cell_type": "code",
   "execution_count": null,
   "metadata": {
    "collapsed": false
   },
   "outputs": [],
   "source": [
    "err = (svr.predict(X_test)-y_test)**2\n",
    "err.sum()/len(err)"
   ]
  },
  {
   "cell_type": "code",
   "execution_count": 25,
   "metadata": {
    "collapsed": false
   },
   "outputs": [
    {
     "name": "stdout",
     "output_type": "stream",
     "text": [
      "Score: [ 0.52865286  0.91093893  0.8215682   0.87335142  0.21272327]\n",
      "Mean: 0.669\n",
      "CPU times: user 6.05 s, sys: 53.1 ms, total: 6.1 s\n",
      "Wall time: 6.16 s\n"
     ]
    }
   ],
   "source": [
    "%%time\n",
    "svr_score = cross_val_score(svr, XX, y, cv=5)\n",
    "print(\"Score: %s\\nMean: %.03f\"%(svr_score,svr_score.mean()))"
   ]
  },
  {
   "cell_type": "markdown",
   "metadata": {},
   "source": [
    "---"
   ]
  },
  {
   "cell_type": "code",
   "execution_count": 27,
   "metadata": {
    "collapsed": true
   },
   "outputs": [],
   "source": [
    "knn = KNeighborsRegressor(n_neighbors=6,weights='distance',algorithm='ball_tree')"
   ]
  },
  {
   "cell_type": "code",
   "execution_count": 28,
   "metadata": {
    "collapsed": false
   },
   "outputs": [],
   "source": [
    "#parameters = {'weights':('distance','uniform'),'algorithm':('auto', 'ball_tree', 'kd_tree', 'brute')}\n",
    "parameters = {'n_neighbors':range(1,10,1)}\n",
    "grid_knn = grid_search.GridSearchCV(knn, parameters,scoring=manualScorer)"
   ]
  },
  {
   "cell_type": "code",
   "execution_count": 29,
   "metadata": {
    "collapsed": false
   },
   "outputs": [
    {
     "name": "stdout",
     "output_type": "stream",
     "text": [
      "CPU times: user 1.26 s, sys: 4.03 ms, total: 1.27 s\n",
      "Wall time: 1.27 s\n"
     ]
    },
    {
     "data": {
      "text/plain": [
       "GridSearchCV(cv=None, error_score='raise',\n",
       "       estimator=KNeighborsRegressor(algorithm='ball_tree', leaf_size=30, metric='minkowski',\n",
       "          metric_params=None, n_neighbors=6, p=2, weights='distance'),\n",
       "       fit_params={}, iid=True, loss_func=None, n_jobs=1,\n",
       "       param_grid={'n_neighbors': [1, 2, 3, 4, 5, 6, 7, 8, 9]},\n",
       "       pre_dispatch='2*n_jobs', refit=True, score_func=None,\n",
       "       scoring=<function manualScorer at 0x110aa0ed8>, verbose=0)"
      ]
     },
     "execution_count": 29,
     "metadata": {},
     "output_type": "execute_result"
    }
   ],
   "source": [
    "%%time\n",
    "grid_knn.fit(X_train,y_train)"
   ]
  },
  {
   "cell_type": "code",
   "execution_count": 30,
   "metadata": {
    "collapsed": false
   },
   "outputs": [
    {
     "name": "stdout",
     "output_type": "stream",
     "text": [
      "[mean: -104.53917, std: 46.90261, params: {'n_neighbors': 1}, mean: -91.09434, std: 35.17553, params: {'n_neighbors': 2}, mean: -101.84580, std: 49.26225, params: {'n_neighbors': 3}, mean: -105.42949, std: 71.07642, params: {'n_neighbors': 4}, mean: -103.53711, std: 77.01319, params: {'n_neighbors': 5}, mean: -95.13442, std: 69.23005, params: {'n_neighbors': 6}, mean: -91.41373, std: 65.75289, params: {'n_neighbors': 7}, mean: -86.27320, std: 61.05561, params: {'n_neighbors': 8}, mean: -82.19850, std: 57.05147, params: {'n_neighbors': 9}]\n",
      "Best:  {'n_neighbors': 9}\n"
     ]
    }
   ],
   "source": [
    "print(grid_knn.grid_scores_)\n",
    "print(\"Best: \",grid_knn.best_params_)"
   ]
  },
  {
   "cell_type": "code",
   "execution_count": 31,
   "metadata": {
    "collapsed": true
   },
   "outputs": [],
   "source": [
    "knn = grid_knn.best_estimator_"
   ]
  },
  {
   "cell_type": "code",
   "execution_count": 32,
   "metadata": {
    "collapsed": false
   },
   "outputs": [],
   "source": [
    "knn= knn.fit(X_train,y_train)"
   ]
  },
  {
   "cell_type": "code",
   "execution_count": 33,
   "metadata": {
    "collapsed": false
   },
   "outputs": [
    {
     "data": {
      "text/plain": [
       "2.1117743915936922"
      ]
     },
     "execution_count": 33,
     "metadata": {},
     "output_type": "execute_result"
    }
   ],
   "source": [
    "err = (knn.predict(X_train)-y_train)**2\n",
    "err.sum()/len(err)"
   ]
  },
  {
   "cell_type": "code",
   "execution_count": 34,
   "metadata": {
    "collapsed": false
   },
   "outputs": [
    {
     "data": {
      "text/plain": [
       "42.269848400778471"
      ]
     },
     "execution_count": 34,
     "metadata": {},
     "output_type": "execute_result"
    }
   ],
   "source": [
    "err = (knn.predict(X_test)-y_test)**2\n",
    "err.sum()/len(err)"
   ]
  },
  {
   "cell_type": "markdown",
   "metadata": {},
   "source": [
    "---"
   ]
  },
  {
   "cell_type": "code",
   "execution_count": 35,
   "metadata": {
    "collapsed": true
   },
   "outputs": [],
   "source": [
    "etreg = ExtraTreesRegressor(n_estimators=200, max_depth=None, min_samples_split=1, random_state=0)"
   ]
  },
  {
   "cell_type": "code",
   "execution_count": 36,
   "metadata": {
    "collapsed": true
   },
   "outputs": [],
   "source": [
    "parameters = {'n_estimators':range(100,200,20)}\n",
    "grid_rf = grid_search.GridSearchCV(etreg, parameters,n_jobs=2,scoring=manualScorer)"
   ]
  },
  {
   "cell_type": "code",
   "execution_count": 37,
   "metadata": {
    "collapsed": false
   },
   "outputs": [
    {
     "name": "stdout",
     "output_type": "stream",
     "text": [
      "CPU times: user 4.44 s, sys: 241 ms, total: 4.68 s\n",
      "Wall time: 16.3 s\n"
     ]
    },
    {
     "data": {
      "text/plain": [
       "GridSearchCV(cv=None, error_score='raise',\n",
       "       estimator=ExtraTreesRegressor(bootstrap=False, criterion='mse', max_depth=None,\n",
       "          max_features='auto', max_leaf_nodes=None, min_samples_leaf=1,\n",
       "          min_samples_split=1, min_weight_fraction_leaf=0.0,\n",
       "          n_estimators=200, n_jobs=1, oob_score=False, random_state=0,\n",
       "          verbose=0, warm_start=False),\n",
       "       fit_params={}, iid=True, loss_func=None, n_jobs=2,\n",
       "       param_grid={'n_estimators': [100, 120, 140, 160, 180]},\n",
       "       pre_dispatch='2*n_jobs', refit=True, score_func=None,\n",
       "       scoring=<function manualScorer at 0x110aa0ed8>, verbose=0)"
      ]
     },
     "execution_count": 37,
     "metadata": {},
     "output_type": "execute_result"
    }
   ],
   "source": [
    "%%time\n",
    "grid_rf.fit(X_train,y_train)"
   ]
  },
  {
   "cell_type": "code",
   "execution_count": 38,
   "metadata": {
    "collapsed": false
   },
   "outputs": [
    {
     "name": "stdout",
     "output_type": "stream",
     "text": [
      "[mean: -55.73522, std: 40.35044, params: {'n_estimators': 100}, mean: -55.47051, std: 39.85010, params: {'n_estimators': 120}, mean: -56.18434, std: 40.62698, params: {'n_estimators': 140}, mean: -56.15046, std: 40.74838, params: {'n_estimators': 160}, mean: -56.37052, std: 40.72395, params: {'n_estimators': 180}]\n",
      "Best:  {'n_estimators': 120}\n"
     ]
    }
   ],
   "source": [
    "print(grid_rf.grid_scores_)\n",
    "print(\"Best: \",grid_rf.best_params_)"
   ]
  },
  {
   "cell_type": "code",
   "execution_count": 39,
   "metadata": {
    "collapsed": false
   },
   "outputs": [
    {
     "data": {
      "text/plain": [
       "{'n_estimators': 120}"
      ]
     },
     "execution_count": 39,
     "metadata": {},
     "output_type": "execute_result"
    }
   ],
   "source": [
    "grid_rf.best_params_"
   ]
  },
  {
   "cell_type": "code",
   "execution_count": 40,
   "metadata": {
    "collapsed": false
   },
   "outputs": [],
   "source": [
    "es = etreg\n",
    "#es = grid_rf.best_estimator_"
   ]
  },
  {
   "cell_type": "code",
   "execution_count": 41,
   "metadata": {
    "collapsed": false
   },
   "outputs": [
    {
     "name": "stdout",
     "output_type": "stream",
     "text": [
      "CPU times: user 3.4 s, sys: 16.4 ms, total: 3.41 s\n",
      "Wall time: 3.42 s\n"
     ]
    }
   ],
   "source": [
    "%%time\n",
    "es = es.fit(X_train,y_train)"
   ]
  },
  {
   "cell_type": "code",
   "execution_count": 42,
   "metadata": {
    "collapsed": false
   },
   "outputs": [
    {
     "data": {
      "text/plain": [
       "2.1117743915936917"
      ]
     },
     "execution_count": 42,
     "metadata": {},
     "output_type": "execute_result"
    }
   ],
   "source": [
    "err = (es.predict(X_train)-y_train)**2\n",
    "err.sum()/len(err)"
   ]
  },
  {
   "cell_type": "code",
   "execution_count": 43,
   "metadata": {
    "collapsed": false
   },
   "outputs": [
    {
     "data": {
      "text/plain": [
       "23.042852064874744"
      ]
     },
     "execution_count": 43,
     "metadata": {},
     "output_type": "execute_result"
    }
   ],
   "source": [
    "err = (es.predict(X_test)-y_test)**2\n",
    "err.sum()/len(err)"
   ]
  },
  {
   "cell_type": "markdown",
   "metadata": {},
   "source": [
    "---"
   ]
  },
  {
   "cell_type": "code",
   "execution_count": 98,
   "metadata": {
    "collapsed": false
   },
   "outputs": [],
   "source": [
    "gbr = GradientBoostingRegressor(loss='ls', learning_rate=0.1, n_estimators=900,\n",
    "                                subsample=1.0, min_samples_split=2, min_samples_leaf=1,\n",
    "                                min_weight_fraction_leaf=0.0, max_depth=4, init=None,\n",
    "                                random_state=None, max_features=None, alpha=0.5,\n",
    "                                verbose=0, max_leaf_nodes=None, warm_start=False)"
   ]
  },
  {
   "cell_type": "code",
   "execution_count": 99,
   "metadata": {
    "collapsed": false
   },
   "outputs": [
    {
     "name": "stdout",
     "output_type": "stream",
     "text": [
      "CPU times: user 4min 48s, sys: 653 ms, total: 4min 49s\n",
      "Wall time: 4min 51s\n"
     ]
    }
   ],
   "source": [
    "%%time\n",
    "gbr = gbr.fit(X_train,y_train)\n",
    "os.system('say \"終わりだ\"') #its over!"
   ]
  },
  {
   "cell_type": "code",
   "execution_count": 80,
   "metadata": {
    "collapsed": false
   },
   "outputs": [],
   "source": [
    "#parameters = {'max_depth':range(2,5,1),'alpha':[0.5,0.6,0.7,0.8,0.9]}\n",
    "#parameters = {'subsample':[0.2,0.4,0.5,0.6,0.8,1]}\n",
    "#parameters = {'subsample':[0.2,0.5,0.6,0.8,1],'n_estimators':[800,1000,1200]}\n",
    "#parameters = {'max_depth':range(2,4,1)}\n",
    "#parameters = {'n_estimators':[600,800,900]}\n",
    "#parameters = {'loss':['ls', 'lad', 'huber', 'quantile'],'alpha':[0.3,0.5,0.8,0.9]}\n",
    "\n",
    "grid_gbr = grid_search.GridSearchCV(gbr, parameters,n_jobs=2,scoring=manualScorer)"
   ]
  },
  {
   "cell_type": "code",
   "execution_count": 81,
   "metadata": {
    "collapsed": false
   },
   "outputs": [
    {
     "name": "stdout",
     "output_type": "stream",
     "text": [
      "CPU times: user 16.4 s, sys: 1.16 s, total: 17.5 s\n",
      "Wall time: 2min 27s\n"
     ]
    }
   ],
   "source": [
    "%%time\n",
    "grid_gbr = grid_gbr.fit(X_train,y_train)"
   ]
  },
  {
   "cell_type": "code",
   "execution_count": 82,
   "metadata": {
    "collapsed": false
   },
   "outputs": [
    {
     "name": "stdout",
     "output_type": "stream",
     "text": [
      "[mean: -42.96759, std: 2.26566, params: {'alpha': 0.3, 'loss': 'ls'}, mean: -112.57348, std: 2.89117, params: {'alpha': 0.3, 'loss': 'lad'}, mean: -100.31314, std: 6.08331, params: {'alpha': 0.3, 'loss': 'huber'}, mean: -130.80967, std: 0.93008, params: {'alpha': 0.3, 'loss': 'quantile'}, mean: -42.74488, std: 7.80268, params: {'alpha': 0.5, 'loss': 'ls'}, mean: -114.97495, std: 1.49172, params: {'alpha': 0.5, 'loss': 'lad'}, mean: -80.46645, std: 6.05650, params: {'alpha': 0.5, 'loss': 'huber'}, mean: -116.54107, std: 4.52786, params: {'alpha': 0.5, 'loss': 'quantile'}, mean: -48.71631, std: 9.54319, params: {'alpha': 0.8, 'loss': 'ls'}, mean: -114.75080, std: 2.35584, params: {'alpha': 0.8, 'loss': 'lad'}, mean: -51.93217, std: 9.86208, params: {'alpha': 0.8, 'loss': 'huber'}, mean: -85.26825, std: 3.29395, params: {'alpha': 0.8, 'loss': 'quantile'}, mean: -45.76086, std: 2.27370, params: {'alpha': 0.9, 'loss': 'ls'}, mean: -117.01689, std: 8.90194, params: {'alpha': 0.9, 'loss': 'lad'}, mean: -44.38461, std: 7.82885, params: {'alpha': 0.9, 'loss': 'huber'}, mean: -102.06466, std: 7.07691, params: {'alpha': 0.9, 'loss': 'quantile'}]\n",
      "Best:  {'alpha': 0.5, 'loss': 'ls'}\n"
     ]
    }
   ],
   "source": [
    "print(grid_gbr.grid_scores_)\n",
    "print(\"Best: \",grid_gbr.best_params_)"
   ]
  },
  {
   "cell_type": "code",
   "execution_count": 85,
   "metadata": {
    "collapsed": false
   },
   "outputs": [
    {
     "name": "stdout",
     "output_type": "stream",
     "text": [
      "1.82991003151\n",
      "23.8878088993\n"
     ]
    }
   ],
   "source": [
    "err = (gbr.predict(X_train)-y_train)**2\n",
    "print(err.sum()/len(err))\n",
    "err = (gbr.predict(X_test)-y_test)**2\n",
    "print(err.sum()/len(err))"
   ]
  },
  {
   "cell_type": "code",
   "execution_count": 100,
   "metadata": {
    "collapsed": false
   },
   "outputs": [
    {
     "name": "stdout",
     "output_type": "stream",
     "text": [
      "27.325739932\n",
      "123.44709784\n"
     ]
    }
   ],
   "source": [
    "err = (gbr.predict(X_train)-y_train)**2\n",
    "print(err.sum()/len(err))\n",
    "err = (gbr.predict(X_test)-y_test)**2\n",
    "print(err.sum()/len(err))"
   ]
  },
  {
   "cell_type": "markdown",
   "metadata": {},
   "source": [
    "---"
   ]
  },
  {
   "cell_type": "code",
   "execution_count": null,
   "metadata": {
    "collapsed": false
   },
   "outputs": [],
   "source": [
    "from keras.models import Sequential\n",
    "from keras.layers.core import Dense, Dropout, Activation\n",
    "from keras.optimizers import SGD\n",
    "\n",
    "in_dim = len(XX[0])\n",
    "out_dim = 1  \n",
    "\n",
    "model = Sequential()\n",
    "# Dense(64) is a fully-connected layer with 64 hidden units.\n",
    "# in the first layer, you must specify the expected input data shape:\n",
    "# here, 20-dimensional vectors.\n",
    "model.add(Dense(128, input_shape=(in_dim,)))\n",
    "model.add(Activation('tanh'))\n",
    "model.add(Dropout(0.5))\n",
    "model.add(Dense(1, init='uniform'))\n",
    "model.add(Activation('linear'))\n",
    "\n",
    "#sgd = SGD(lr=0.1, decay=1e-6, momentum=0.9, nesterov=True)\n",
    "#model.compile(loss='mean_squared_error', optimizer=sgd)\n",
    "\n",
    "rms = RMSprop()\n",
    "model.compile(loss='mean_squared_error', optimizer=rms)\n",
    "\n",
    "#model.fit(X_train, y_train, nb_epoch=20, batch_size=16)\n",
    "#score = model.evaluate(X_test, y_test, batch_size=16)"
   ]
  },
  {
   "cell_type": "code",
   "execution_count": null,
   "metadata": {
    "collapsed": true
   },
   "outputs": [],
   "source": [
    "prep = []\n",
    "for i in y_train:\n",
    "    prep.append(min(i,20))"
   ]
  },
  {
   "cell_type": "code",
   "execution_count": null,
   "metadata": {
    "collapsed": true
   },
   "outputs": [],
   "source": [
    "prep=np.array(prep)\n",
    "mi,ma = prep.min(),prep.max()\n",
    "fy = (prep-mi) / (ma-mi)\n",
    "#my = fy.max()\n",
    "#fy = fy/fy.max()"
   ]
  },
  {
   "cell_type": "code",
   "execution_count": null,
   "metadata": {
    "collapsed": false
   },
   "outputs": [],
   "source": [
    "model.fit(np.array(X_train), fy, batch_size=10, nb_epoch=10, validation_split=0.1)  "
   ]
  },
  {
   "cell_type": "code",
   "execution_count": null,
   "metadata": {
    "collapsed": true
   },
   "outputs": [],
   "source": [
    "pred = model.predict(np.array(X_test))*ma+mi"
   ]
  },
  {
   "cell_type": "code",
   "execution_count": null,
   "metadata": {
    "collapsed": false
   },
   "outputs": [],
   "source": [
    "err = (pred-y_test)**2\n",
    "err.sum()/len(err)"
   ]
  },
  {
   "cell_type": "code",
   "execution_count": null,
   "metadata": {
    "collapsed": false
   },
   "outputs": [],
   "source": [
    "r = random.randrange(len(X_train))\n",
    "print(\"(Train) Prediction %0.4f, True: %0.4f\"%(model.predict(np.array([X_train[r]]))[0][0]*ma+mi,y_train[r]))\n",
    "\n",
    "r = random.randrange(len(X_test))\n",
    "print(\"(Test)  Prediction %0.4f, True: %0.4f\"%(model.predict(np.array([X_test[r]]))[0][0]*ma+mi,y_test[r]))"
   ]
  },
  {
   "cell_type": "markdown",
   "metadata": {},
   "source": [
    "---"
   ]
  },
  {
   "cell_type": "code",
   "execution_count": null,
   "metadata": {
    "collapsed": true
   },
   "outputs": [],
   "source": [
    "def marshall_palmer(ref, minutes_past):\n",
    "    #print(\"Estimating rainfall from {0} observations\".format(len(minutes_past)))\n",
    "    # how long is each observation valid?\n",
    "    valid_time = np.zeros_like(minutes_past)\n",
    "    valid_time[0] = minutes_past.iloc[0]\n",
    "    for n in xrange(1, len(minutes_past)):\n",
    "        valid_time[n] = minutes_past.iloc[n] - minutes_past.iloc[n-1]\n",
    "    valid_time[-1] = valid_time[-1] + 60 - np.sum(valid_time)\n",
    "    valid_time = valid_time / 60.0\n",
    "\n",
    "    # sum up rainrate * validtime\n",
    "    sum = 0\n",
    "    for dbz, hours in zip(ref, valid_time):\n",
    "        # See: https://en.wikipedia.org/wiki/DBZ_(meteorology)\n",
    "        if np.isfinite(dbz):\n",
    "            mmperhr = pow(pow(10, dbz/10)/200, 0.625)\n",
    "            sum = sum + mmperhr * hours\n",
    "    return sum\n",
    "\n",
    "\n",
    "def simplesum(ref,hour):\n",
    "    hour.sum()\n",
    "\n",
    "# each unique Id is an hour of data at some gauge\n",
    "def myfunc(hour):\n",
    "    #rowid = hour['Id'].iloc[0]\n",
    "    # sort hour by minutes_past\n",
    "    hour = hour.sort('minutes_past', ascending=True)\n",
    "    est = marshall_palmer(hour['Ref'], hour['minutes_past'])\n",
    "    return est"
   ]
  },
  {
   "cell_type": "code",
   "execution_count": null,
   "metadata": {
    "collapsed": false
   },
   "outputs": [],
   "source": [
    "info = raw.groupby(raw.index)"
   ]
  },
  {
   "cell_type": "code",
   "execution_count": null,
   "metadata": {
    "collapsed": false
   },
   "outputs": [],
   "source": [
    "estimates = raw.groupby(raw.index).apply(myfunc)\n",
    "estimates.head(20)"
   ]
  },
  {
   "cell_type": "code",
   "execution_count": null,
   "metadata": {
    "collapsed": true
   },
   "outputs": [],
   "source": []
  },
  {
   "cell_type": "code",
   "execution_count": null,
   "metadata": {
    "collapsed": true
   },
   "outputs": [],
   "source": []
  },
  {
   "cell_type": "code",
   "execution_count": null,
   "metadata": {
    "collapsed": true
   },
   "outputs": [],
   "source": []
  },
  {
   "cell_type": "code",
   "execution_count": null,
   "metadata": {
    "collapsed": true
   },
   "outputs": [],
   "source": []
  },
  {
   "cell_type": "code",
   "execution_count": null,
   "metadata": {
    "collapsed": true
   },
   "outputs": [],
   "source": []
  },
  {
   "cell_type": "code",
   "execution_count": null,
   "metadata": {
    "collapsed": true
   },
   "outputs": [],
   "source": []
  },
  {
   "cell_type": "code",
   "execution_count": null,
   "metadata": {
    "collapsed": false
   },
   "outputs": [],
   "source": [
    "%%time\n",
    "etreg.fit(X_train,y_train)"
   ]
  },
  {
   "cell_type": "code",
   "execution_count": null,
   "metadata": {
    "collapsed": false
   },
   "outputs": [],
   "source": [
    "%%time\n",
    "et_score = cross_val_score(etreg, XX, y, cv=5)\n",
    "print(\"Score: %s\\tMean: %.03f\"%(et_score,et_score.mean()))"
   ]
  },
  {
   "cell_type": "code",
   "execution_count": null,
   "metadata": {
    "collapsed": false
   },
   "outputs": [],
   "source": [
    "%%time\n",
    "et_score = cross_val_score(etreg, XX, y, cv=5)\n",
    "print(\"Score: %s\\tMean: %.03f\"%(et_score,et_score.mean()))"
   ]
  },
  {
   "cell_type": "code",
   "execution_count": null,
   "metadata": {
    "collapsed": false
   },
   "outputs": [],
   "source": [
    "err = (etreg.predict(X_test)-y_test)**2\n",
    "err.sum()/len(err)"
   ]
  },
  {
   "cell_type": "code",
   "execution_count": null,
   "metadata": {
    "collapsed": false
   },
   "outputs": [],
   "source": [
    "err = (etreg.predict(X_test)-y_test)**2\n",
    "err.sum()/len(err)"
   ]
  },
  {
   "cell_type": "code",
   "execution_count": null,
   "metadata": {
    "collapsed": false
   },
   "outputs": [],
   "source": [
    "r = random.randrange(len(X_train))\n",
    "print(r)\n",
    "print(etreg.predict(X_train[r]))\n",
    "print(y_train[r])\n",
    "\n",
    "r = random.randrange(len(X_test))\n",
    "print(r)\n",
    "print(etreg.predict(X_test[r]))\n",
    "print(y_test[r])"
   ]
  },
  {
   "cell_type": "markdown",
   "metadata": {},
   "source": [
    "---"
   ]
  },
  {
   "cell_type": "code",
   "execution_count": 102,
   "metadata": {
    "collapsed": false
   },
   "outputs": [
    {
     "name": "stdout",
     "output_type": "stream",
     "text": [
      "CPU times: user 10.6 ms, sys: 3.85 ms, total: 14.5 ms\n",
      "Wall time: 14.9 ms\n"
     ]
    }
   ],
   "source": [
    "%%time\n",
    "filename = \"data/reduced_test_5000.csv\"\n",
    "#filename = \"data/test.csv\"\n",
    "test = pd.read_csv(filename)\n",
    "test = test.set_index('Id')"
   ]
  },
  {
   "cell_type": "code",
   "execution_count": 113,
   "metadata": {
    "collapsed": true
   },
   "outputs": [],
   "source": [
    "features_columns = list([u'Ref', u'Ref_5x5_10th',\n",
    "       u'Ref_5x5_50th', u'Ref_5x5_90th', u'RefComposite',\n",
    "       u'RefComposite_5x5_10th', u'RefComposite_5x5_50th',\n",
    "       u'RefComposite_5x5_90th', u'RhoHV', u'RhoHV_5x5_10th',\n",
    "       u'RhoHV_5x5_50th', u'RhoHV_5x5_90th', u'Zdr', u'Zdr_5x5_10th',\n",
    "       u'Zdr_5x5_50th', u'Zdr_5x5_90th', u'Kdp', u'Kdp_5x5_10th',\n",
    "       u'Kdp_5x5_50th', u'Kdp_5x5_90th'])\n",
    "\n",
    "def getX(raw):\n",
    "    selected_columns = list([ u'minutes_past',u'radardist_km', u'Ref', u'Ref_5x5_10th',\n",
    "       u'Ref_5x5_50th', u'Ref_5x5_90th', u'RefComposite',\n",
    "       u'RefComposite_5x5_10th', u'RefComposite_5x5_50th',\n",
    "       u'RefComposite_5x5_90th', u'RhoHV', u'RhoHV_5x5_10th',\n",
    "       u'RhoHV_5x5_50th', u'RhoHV_5x5_90th', u'Zdr', u'Zdr_5x5_10th',\n",
    "       u'Zdr_5x5_50th', u'Zdr_5x5_90th', u'Kdp', u'Kdp_5x5_10th',\n",
    "       u'Kdp_5x5_50th', u'Kdp_5x5_90th'])\n",
    "    \n",
    "    data = raw[selected_columns]\n",
    "    \n",
    "    docX= []\n",
    "    for i in data.index.unique():\n",
    "        if isinstance(data.loc[i],pd.core.series.Series):\n",
    "            m = [data.loc[i].as_matrix()]\n",
    "            docX.append(m)\n",
    "        else:\n",
    "            m = data.loc[i].as_matrix()\n",
    "            docX.append(m)\n",
    "    X = np.array(docX)\n",
    "    return X"
   ]
  },
  {
   "cell_type": "code",
   "execution_count": null,
   "metadata": {
    "collapsed": true
   },
   "outputs": [],
   "source": [
    "# We select all features except for the minutes past,\n",
    "# because we ignore the time repartition of the sequence for now\n",
    "\n",
    "features_columns = list([u'Ref', u'Ref_5x5_10th',\n",
    "       u'Ref_5x5_50th', u'Ref_5x5_90th', u'RefComposite',\n",
    "       u'RefComposite_5x5_10th', u'RefComposite_5x5_50th',\n",
    "       u'RefComposite_5x5_90th', u'RhoHV', u'RhoHV_5x5_10th',\n",
    "       u'RhoHV_5x5_50th', u'RhoHV_5x5_90th', u'Zdr', u'Zdr_5x5_10th',\n",
    "       u'Zdr_5x5_50th', u'Zdr_5x5_90th', u'Kdp', u'Kdp_5x5_10th',\n",
    "       u'Kdp_5x5_50th', u'Kdp_5x5_90th'])\n",
    "\n",
    "def getXy(raw):\n",
    "    selected_columns = list([ u'minutes_past',u'radardist_km', u'Ref', u'Ref_5x5_10th',\n",
    "       u'Ref_5x5_50th', u'Ref_5x5_90th', u'RefComposite',\n",
    "       u'RefComposite_5x5_10th', u'RefComposite_5x5_50th',\n",
    "       u'RefComposite_5x5_90th', u'RhoHV', u'RhoHV_5x5_10th',\n",
    "       u'RhoHV_5x5_50th', u'RhoHV_5x5_90th', u'Zdr', u'Zdr_5x5_10th',\n",
    "       u'Zdr_5x5_50th', u'Zdr_5x5_90th', u'Kdp', u'Kdp_5x5_10th',\n",
    "       u'Kdp_5x5_50th', u'Kdp_5x5_90th'])\n",
    "    \n",
    "    data = raw[selected_columns]\n",
    "    \n",
    "    docX, docY = [], []\n",
    "    for i in data.index.unique():\n",
    "        if isinstance(data.loc[i],pd.core.series.Series):\n",
    "            m = [data.loc[i].as_matrix()]\n",
    "            docX.append(m)\n",
    "            docY.append(float(raw.loc[i][\"Expected\"]))\n",
    "        else:\n",
    "            m = data.loc[i].as_matrix()\n",
    "            docX.append(m)\n",
    "            docY.append(float(raw.loc[i][:1][\"Expected\"]))\n",
    "    X , y = np.array(docX) , np.array(docY)\n",
    "    return X,y"
   ]
  },
  {
   "cell_type": "code",
   "execution_count": 114,
   "metadata": {
    "collapsed": false
   },
   "outputs": [
    {
     "name": "stderr",
     "output_type": "stream",
     "text": [
      "/Library/Python/2.7/site-packages/ipykernel/__main__.py:18: DeprecationWarning: using a non-integer number instead of an integer will result in an error in the future\n"
     ]
    },
    {
     "ename": "IndexError",
     "evalue": "only integers, slices (`:`), ellipsis (`...`), numpy.newaxis (`None`) and integer or boolean arrays are valid indices",
     "output_type": "error",
     "traceback": [
      "\u001b[0;31m---------------------------------------------------------------------------\u001b[0m",
      "\u001b[0;31mIndexError\u001b[0m                                Traceback (most recent call last)",
      "\u001b[0;32m<ipython-input-114-bc80d4902c17>\u001b[0m in \u001b[0;36m<module>\u001b[0;34m()\u001b[0m\n\u001b[0;32m----> 1\u001b[0;31m \u001b[0mX\u001b[0m\u001b[0;34m=\u001b[0m\u001b[0mgetX\u001b[0m\u001b[0;34m(\u001b[0m\u001b[0mtest\u001b[0m\u001b[0;34m)\u001b[0m\u001b[0;34m\u001b[0m\u001b[0m\n\u001b[0m\u001b[1;32m      2\u001b[0m \u001b[0;34m\u001b[0m\u001b[0m\n\u001b[1;32m      3\u001b[0m \u001b[0mtmp\u001b[0m \u001b[0;34m=\u001b[0m \u001b[0;34m[\u001b[0m\u001b[0;34m]\u001b[0m\u001b[0;34m\u001b[0m\u001b[0m\n\u001b[1;32m      4\u001b[0m \u001b[0;32mfor\u001b[0m \u001b[0mi\u001b[0m \u001b[0;32min\u001b[0m \u001b[0mX\u001b[0m\u001b[0;34m:\u001b[0m\u001b[0;34m\u001b[0m\u001b[0m\n\u001b[1;32m      5\u001b[0m     \u001b[0mtmp\u001b[0m\u001b[0;34m.\u001b[0m\u001b[0mappend\u001b[0m\u001b[0;34m(\u001b[0m\u001b[0mlen\u001b[0m\u001b[0;34m(\u001b[0m\u001b[0mi\u001b[0m\u001b[0;34m)\u001b[0m\u001b[0;34m)\u001b[0m\u001b[0;34m\u001b[0m\u001b[0m\n",
      "\u001b[0;32m<ipython-input-113-655fb5005179>\u001b[0m in \u001b[0;36mgetX\u001b[0;34m(raw)\u001b[0m\n\u001b[1;32m     16\u001b[0m        u'Kdp_5x5_50th', u'Kdp_5x5_90th'])\n\u001b[1;32m     17\u001b[0m \u001b[0;34m\u001b[0m\u001b[0m\n\u001b[0;32m---> 18\u001b[0;31m     \u001b[0mdata\u001b[0m \u001b[0;34m=\u001b[0m \u001b[0mraw\u001b[0m\u001b[0;34m[\u001b[0m\u001b[0mselected_columns\u001b[0m\u001b[0;34m]\u001b[0m\u001b[0;34m\u001b[0m\u001b[0m\n\u001b[0m\u001b[1;32m     19\u001b[0m \u001b[0;34m\u001b[0m\u001b[0m\n\u001b[1;32m     20\u001b[0m     \u001b[0mdocX\u001b[0m\u001b[0;34m=\u001b[0m \u001b[0;34m[\u001b[0m\u001b[0;34m]\u001b[0m\u001b[0;34m\u001b[0m\u001b[0m\n",
      "\u001b[0;31mIndexError\u001b[0m: only integers, slices (`:`), ellipsis (`...`), numpy.newaxis (`None`) and integer or boolean arrays are valid indices"
     ]
    }
   ],
   "source": [
    "X=getX(test)\n",
    "\n",
    "tmp = []\n",
    "for i in X:\n",
    "    tmp.append(len(i))\n",
    "tmp = np.array(tmp)\n",
    "sns.countplot(tmp,order=range(tmp.min(),tmp.max()+1))\n",
    "plt.title(\"Number of ID per number of observations\\n(On test dataset)\")\n",
    "plt.plot()"
   ]
  },
  {
   "cell_type": "code",
   "execution_count": 105,
   "metadata": {
    "collapsed": true
   },
   "outputs": [],
   "source": [
    "testFull = test.dropna()"
   ]
  },
  {
   "cell_type": "code",
   "execution_count": 106,
   "metadata": {
    "collapsed": false
   },
   "outputs": [
    {
     "name": "stdout",
     "output_type": "stream",
     "text": [
      "CPU times: user 29.6 ms, sys: 2.63 ms, total: 32.3 ms\n",
      "Wall time: 30 ms\n"
     ]
    }
   ],
   "source": [
    "%%time\n",
    "X=getX(testFull)  # 1min\n",
    "XX = [np.array(t).mean(0) for t in X]  # 10s"
   ]
  },
  {
   "cell_type": "code",
   "execution_count": 107,
   "metadata": {
    "collapsed": false
   },
   "outputs": [
    {
     "name": "stdout",
     "output_type": "stream",
     "text": [
      "CPU times: user 30.5 ms, sys: 1.65 ms, total: 32.2 ms\n",
      "Wall time: 30.9 ms\n"
     ]
    }
   ],
   "source": [
    "%%time\n",
    "XX=[]\n",
    "for t in X:\n",
    "    #print(idx)\n",
    "    \n",
    "    tmp = np.append(np.nanmean(np.array(t),0),(np.array(t)[1:] - np.array(t)[:-1]).sum(0) )\n",
    "    tmp = np.append(tmp,np.percentile(t,10,axis=0))\n",
    "    tmp = np.append(tmp,np.percentile(t,50,axis=0))\n",
    "    tmp = np.append(tmp,np.percentile(t,90,axis=0))\n",
    "\n",
    "    test = t\n",
    "    \n",
    "    try:\n",
    "        taa=test[:,0]\n",
    "    except TypeError:\n",
    "        taa=[test[0][0]]\n",
    "    valid_time = np.zeros_like(taa)\n",
    "    valid_time[0] = taa[0]\n",
    "    for n in xrange(1,len(taa)):\n",
    "        valid_time[n] = taa[n] - taa[n-1]\n",
    "    valid_time[-1] = valid_time[-1] + 60 - np.sum(valid_time)\n",
    "    valid_time = valid_time / 60.0\n",
    "\n",
    "    \n",
    "    sum=0\n",
    "    try:\n",
    "        column_ref=test[:,2]\n",
    "    except TypeError:\n",
    "        column_ref=[test[0][2]]\n",
    "    for dbz, hours in zip(column_ref, valid_time):\n",
    "        # See: https://en.wikipedia.org/wiki/DBZ_(meteorology)\n",
    "        if np.isfinite(dbz):\n",
    "            mmperhr = pow(pow(10, dbz/10)/200, 0.625)\n",
    "            sum = sum + mmperhr * hours\n",
    "            \n",
    "    XX.append(np.append(np.array(sum),tmp))\n",
    "    #XX.append(np.array([sum]))\n",
    "    #XX.append(tmp)\n"
   ]
  },
  {
   "cell_type": "code",
   "execution_count": 108,
   "metadata": {
    "collapsed": false
   },
   "outputs": [
    {
     "ename": "ValueError",
     "evalue": "X.shape[1] should be 111, not 106.",
     "output_type": "error",
     "traceback": [
      "\u001b[0;31m---------------------------------------------------------------------------\u001b[0m",
      "\u001b[0;31mValueError\u001b[0m                                Traceback (most recent call last)",
      "\u001b[0;32m<ipython-input-108-6727ce741786>\u001b[0m in \u001b[0;36m<module>\u001b[0;34m()\u001b[0m\n\u001b[0;32m----> 1\u001b[0;31m \u001b[0mpd\u001b[0m\u001b[0;34m.\u001b[0m\u001b[0mDataFrame\u001b[0m\u001b[0;34m(\u001b[0m\u001b[0mgbr\u001b[0m\u001b[0;34m.\u001b[0m\u001b[0mpredict\u001b[0m\u001b[0;34m(\u001b[0m\u001b[0mXX\u001b[0m\u001b[0;34m)\u001b[0m\u001b[0;34m)\u001b[0m\u001b[0;34m.\u001b[0m\u001b[0mdescribe\u001b[0m\u001b[0;34m(\u001b[0m\u001b[0;34m)\u001b[0m\u001b[0;34m\u001b[0m\u001b[0m\n\u001b[0m",
      "\u001b[0;32m/Library/Python/2.7/site-packages/sklearn/ensemble/gradient_boosting.pyc\u001b[0m in \u001b[0;36mpredict\u001b[0;34m(self, X)\u001b[0m\n\u001b[1;32m   1597\u001b[0m             \u001b[0mThe\u001b[0m \u001b[0mpredicted\u001b[0m \u001b[0mvalues\u001b[0m\u001b[0;34m.\u001b[0m\u001b[0;34m\u001b[0m\u001b[0m\n\u001b[1;32m   1598\u001b[0m         \"\"\"\n\u001b[0;32m-> 1599\u001b[0;31m         \u001b[0;32mreturn\u001b[0m \u001b[0mself\u001b[0m\u001b[0;34m.\u001b[0m\u001b[0mdecision_function\u001b[0m\u001b[0;34m(\u001b[0m\u001b[0mX\u001b[0m\u001b[0;34m)\u001b[0m\u001b[0;34m.\u001b[0m\u001b[0mravel\u001b[0m\u001b[0;34m(\u001b[0m\u001b[0;34m)\u001b[0m\u001b[0;34m\u001b[0m\u001b[0m\n\u001b[0m\u001b[1;32m   1600\u001b[0m \u001b[0;34m\u001b[0m\u001b[0m\n\u001b[1;32m   1601\u001b[0m     \u001b[0;32mdef\u001b[0m \u001b[0mstaged_predict\u001b[0m\u001b[0;34m(\u001b[0m\u001b[0mself\u001b[0m\u001b[0;34m,\u001b[0m \u001b[0mX\u001b[0m\u001b[0;34m)\u001b[0m\u001b[0;34m:\u001b[0m\u001b[0;34m\u001b[0m\u001b[0m\n",
      "\u001b[0;32m/Library/Python/2.7/site-packages/sklearn/ensemble/gradient_boosting.pyc\u001b[0m in \u001b[0;36mdecision_function\u001b[0;34m(self, X)\u001b[0m\n\u001b[1;32m   1100\u001b[0m         \"\"\"\n\u001b[1;32m   1101\u001b[0m         \u001b[0mX\u001b[0m \u001b[0;34m=\u001b[0m \u001b[0mcheck_array\u001b[0m\u001b[0;34m(\u001b[0m\u001b[0mX\u001b[0m\u001b[0;34m,\u001b[0m \u001b[0mdtype\u001b[0m\u001b[0;34m=\u001b[0m\u001b[0mDTYPE\u001b[0m\u001b[0;34m,\u001b[0m \u001b[0morder\u001b[0m\u001b[0;34m=\u001b[0m\u001b[0;34m\"C\"\u001b[0m\u001b[0;34m)\u001b[0m\u001b[0;34m\u001b[0m\u001b[0m\n\u001b[0;32m-> 1102\u001b[0;31m         \u001b[0mscore\u001b[0m \u001b[0;34m=\u001b[0m \u001b[0mself\u001b[0m\u001b[0;34m.\u001b[0m\u001b[0m_decision_function\u001b[0m\u001b[0;34m(\u001b[0m\u001b[0mX\u001b[0m\u001b[0;34m)\u001b[0m\u001b[0;34m\u001b[0m\u001b[0m\n\u001b[0m\u001b[1;32m   1103\u001b[0m         \u001b[0;32mif\u001b[0m \u001b[0mscore\u001b[0m\u001b[0;34m.\u001b[0m\u001b[0mshape\u001b[0m\u001b[0;34m[\u001b[0m\u001b[0;36m1\u001b[0m\u001b[0;34m]\u001b[0m \u001b[0;34m==\u001b[0m \u001b[0;36m1\u001b[0m\u001b[0;34m:\u001b[0m\u001b[0;34m\u001b[0m\u001b[0m\n\u001b[1;32m   1104\u001b[0m             \u001b[0;32mreturn\u001b[0m \u001b[0mscore\u001b[0m\u001b[0;34m.\u001b[0m\u001b[0mravel\u001b[0m\u001b[0;34m(\u001b[0m\u001b[0;34m)\u001b[0m\u001b[0;34m\u001b[0m\u001b[0m\n",
      "\u001b[0;32m/Library/Python/2.7/site-packages/sklearn/ensemble/gradient_boosting.pyc\u001b[0m in \u001b[0;36m_decision_function\u001b[0;34m(self, X)\u001b[0m\n\u001b[1;32m   1079\u001b[0m         \u001b[0;31m# for use in inner loop, not raveling the output in single-class case,\u001b[0m\u001b[0;34m\u001b[0m\u001b[0;34m\u001b[0m\u001b[0m\n\u001b[1;32m   1080\u001b[0m         \u001b[0;31m# not doing input validation.\u001b[0m\u001b[0;34m\u001b[0m\u001b[0;34m\u001b[0m\u001b[0m\n\u001b[0;32m-> 1081\u001b[0;31m         \u001b[0mscore\u001b[0m \u001b[0;34m=\u001b[0m \u001b[0mself\u001b[0m\u001b[0;34m.\u001b[0m\u001b[0m_init_decision_function\u001b[0m\u001b[0;34m(\u001b[0m\u001b[0mX\u001b[0m\u001b[0;34m)\u001b[0m\u001b[0;34m\u001b[0m\u001b[0m\n\u001b[0m\u001b[1;32m   1082\u001b[0m         \u001b[0mpredict_stages\u001b[0m\u001b[0;34m(\u001b[0m\u001b[0mself\u001b[0m\u001b[0;34m.\u001b[0m\u001b[0mestimators_\u001b[0m\u001b[0;34m,\u001b[0m \u001b[0mX\u001b[0m\u001b[0;34m,\u001b[0m \u001b[0mself\u001b[0m\u001b[0;34m.\u001b[0m\u001b[0mlearning_rate\u001b[0m\u001b[0;34m,\u001b[0m \u001b[0mscore\u001b[0m\u001b[0;34m)\u001b[0m\u001b[0;34m\u001b[0m\u001b[0m\n\u001b[1;32m   1083\u001b[0m         \u001b[0;32mreturn\u001b[0m \u001b[0mscore\u001b[0m\u001b[0;34m\u001b[0m\u001b[0m\n",
      "\u001b[0;32m/Library/Python/2.7/site-packages/sklearn/ensemble/gradient_boosting.pyc\u001b[0m in \u001b[0;36m_init_decision_function\u001b[0;34m(self, X)\u001b[0m\n\u001b[1;32m   1072\u001b[0m         \u001b[0;32mif\u001b[0m \u001b[0mX\u001b[0m\u001b[0;34m.\u001b[0m\u001b[0mshape\u001b[0m\u001b[0;34m[\u001b[0m\u001b[0;36m1\u001b[0m\u001b[0;34m]\u001b[0m \u001b[0;34m!=\u001b[0m \u001b[0mself\u001b[0m\u001b[0;34m.\u001b[0m\u001b[0mn_features\u001b[0m\u001b[0;34m:\u001b[0m\u001b[0;34m\u001b[0m\u001b[0m\n\u001b[1;32m   1073\u001b[0m             raise ValueError(\"X.shape[1] should be {0:d}, not {1:d}.\".format(\n\u001b[0;32m-> 1074\u001b[0;31m                 self.n_features, X.shape[1]))\n\u001b[0m\u001b[1;32m   1075\u001b[0m         \u001b[0mscore\u001b[0m \u001b[0;34m=\u001b[0m \u001b[0mself\u001b[0m\u001b[0;34m.\u001b[0m\u001b[0minit_\u001b[0m\u001b[0;34m.\u001b[0m\u001b[0mpredict\u001b[0m\u001b[0;34m(\u001b[0m\u001b[0mX\u001b[0m\u001b[0;34m)\u001b[0m\u001b[0;34m.\u001b[0m\u001b[0mastype\u001b[0m\u001b[0;34m(\u001b[0m\u001b[0mnp\u001b[0m\u001b[0;34m.\u001b[0m\u001b[0mfloat64\u001b[0m\u001b[0;34m)\u001b[0m\u001b[0;34m\u001b[0m\u001b[0m\n\u001b[1;32m   1076\u001b[0m         \u001b[0;32mreturn\u001b[0m \u001b[0mscore\u001b[0m\u001b[0;34m\u001b[0m\u001b[0m\n",
      "\u001b[0;31mValueError\u001b[0m: X.shape[1] should be 111, not 106."
     ]
    }
   ],
   "source": [
    "pd.DataFrame(gbr.predict(XX)).describe()"
   ]
  },
  {
   "cell_type": "code",
   "execution_count": null,
   "metadata": {
    "collapsed": false,
    "scrolled": true
   },
   "outputs": [],
   "source": [
    "predFull = zip(testFull.index.unique(),etreg.predict(XX))"
   ]
  },
  {
   "cell_type": "code",
   "execution_count": null,
   "metadata": {
    "collapsed": true
   },
   "outputs": [],
   "source": [
    "testNan = test.drop(test[features_columns].dropna(how='all').index)"
   ]
  },
  {
   "cell_type": "code",
   "execution_count": null,
   "metadata": {
    "collapsed": true
   },
   "outputs": [],
   "source": [
    "tmp = np.empty(len(testNan))\n",
    "tmp.fill(0.445000)   # 50th percentile of full Nan dataset\n",
    "predNan = zip(testNan.index.unique(),tmp)"
   ]
  },
  {
   "cell_type": "code",
   "execution_count": null,
   "metadata": {
    "collapsed": true
   },
   "outputs": [],
   "source": [
    "testLeft = test.drop(testNan.index.unique()).drop(testFull.index.unique())"
   ]
  },
  {
   "cell_type": "code",
   "execution_count": null,
   "metadata": {
    "collapsed": true
   },
   "outputs": [],
   "source": [
    "tmp = np.empty(len(testLeft))\n",
    "tmp.fill(1.27)   # 50th percentile of full Nan dataset\n",
    "predLeft = zip(testLeft.index.unique(),tmp)"
   ]
  },
  {
   "cell_type": "code",
   "execution_count": null,
   "metadata": {
    "collapsed": false
   },
   "outputs": [],
   "source": [
    "len(testFull.index.unique())"
   ]
  },
  {
   "cell_type": "code",
   "execution_count": null,
   "metadata": {
    "collapsed": false
   },
   "outputs": [],
   "source": [
    "len(testNan.index.unique())"
   ]
  },
  {
   "cell_type": "code",
   "execution_count": null,
   "metadata": {
    "collapsed": false
   },
   "outputs": [],
   "source": [
    "len(testLeft.index.unique())"
   ]
  },
  {
   "cell_type": "code",
   "execution_count": null,
   "metadata": {
    "collapsed": false
   },
   "outputs": [],
   "source": [
    "pred = predFull + predNan + predLeft"
   ]
  },
  {
   "cell_type": "code",
   "execution_count": null,
   "metadata": {
    "collapsed": false
   },
   "outputs": [],
   "source": [
    "pred.sort(key=lambda x: x[0], reverse=False)"
   ]
  },
  {
   "cell_type": "code",
   "execution_count": null,
   "metadata": {
    "collapsed": false
   },
   "outputs": [],
   "source": [
    "submission = pd.DataFrame(pred)\n",
    "submission.columns = [\"Id\",\"Expected\"]\n",
    "submission.head()"
   ]
  },
  {
   "cell_type": "code",
   "execution_count": null,
   "metadata": {
    "collapsed": false
   },
   "outputs": [],
   "source": [
    "submission.to_csv(\"first_submit.csv\",index=False)"
   ]
  },
  {
   "cell_type": "code",
   "execution_count": null,
   "metadata": {
    "collapsed": true
   },
   "outputs": [],
   "source": []
  },
  {
   "cell_type": "code",
   "execution_count": null,
   "metadata": {
    "collapsed": false
   },
   "outputs": [],
   "source": [
    "filename = \"data/sample_solution.csv\"\n",
    "sol = pd.read_csv(filename)"
   ]
  },
  {
   "cell_type": "code",
   "execution_count": null,
   "metadata": {
    "collapsed": false
   },
   "outputs": [],
   "source": [
    "ss = np.array(sol)"
   ]
  },
  {
   "cell_type": "code",
   "execution_count": null,
   "metadata": {
    "collapsed": false
   },
   "outputs": [],
   "source": [
    "%%time\n",
    "for a,b in predFull:\n",
    "    ss[a-1][1]=b"
   ]
  },
  {
   "cell_type": "code",
   "execution_count": null,
   "metadata": {
    "collapsed": false
   },
   "outputs": [],
   "source": [
    "ss"
   ]
  },
  {
   "cell_type": "code",
   "execution_count": null,
   "metadata": {
    "collapsed": false
   },
   "outputs": [],
   "source": [
    "sub = pd.DataFrame(ss)\n",
    "sub.columns = [\"Id\",\"Expected\"]\n",
    "sub.Id = sub.Id.astype(int)\n",
    "sub.head()"
   ]
  },
  {
   "cell_type": "code",
   "execution_count": null,
   "metadata": {
    "collapsed": true
   },
   "outputs": [],
   "source": [
    "sub.to_csv(\"submit_2.csv\",index=False)"
   ]
  },
  {
   "cell_type": "code",
   "execution_count": null,
   "metadata": {
    "collapsed": true
   },
   "outputs": [],
   "source": []
  },
  {
   "cell_type": "code",
   "execution_count": null,
   "metadata": {
    "collapsed": true
   },
   "outputs": [],
   "source": []
  },
  {
   "cell_type": "code",
   "execution_count": null,
   "metadata": {
    "collapsed": true
   },
   "outputs": [],
   "source": []
  },
  {
   "cell_type": "code",
   "execution_count": null,
   "metadata": {
    "collapsed": true
   },
   "outputs": [],
   "source": []
  },
  {
   "cell_type": "code",
   "execution_count": null,
   "metadata": {
    "collapsed": true
   },
   "outputs": [],
   "source": []
  },
  {
   "cell_type": "code",
   "execution_count": null,
   "metadata": {
    "collapsed": true
   },
   "outputs": [],
   "source": []
  },
  {
   "cell_type": "code",
   "execution_count": null,
   "metadata": {
    "collapsed": true
   },
   "outputs": [],
   "source": []
  },
  {
   "cell_type": "code",
   "execution_count": null,
   "metadata": {
    "collapsed": true
   },
   "outputs": [],
   "source": []
  },
  {
   "cell_type": "code",
   "execution_count": null,
   "metadata": {
    "collapsed": true
   },
   "outputs": [],
   "source": []
  },
  {
   "cell_type": "code",
   "execution_count": null,
   "metadata": {
    "collapsed": true
   },
   "outputs": [],
   "source": []
  }
 ],
 "metadata": {
  "kernelspec": {
   "display_name": "Python 2",
   "language": "python",
   "name": "python2"
  },
  "language_info": {
   "codemirror_mode": {
    "name": "ipython",
    "version": 2
   },
   "file_extension": ".py",
   "mimetype": "text/x-python",
   "name": "python",
   "nbconvert_exporter": "python",
   "pygments_lexer": "ipython2",
   "version": "2.7.10"
  }
 },
 "nbformat": 4,
 "nbformat_minor": 0
}
