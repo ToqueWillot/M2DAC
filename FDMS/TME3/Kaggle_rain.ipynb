{
 "cells": [
  {
   "cell_type": "markdown",
   "metadata": {},
   "source": [
    "## FDMS TME3  \n",
    "\n",
    "Kaggle [How Much Did It Rain? II](https://www.kaggle.com/c/how-much-did-it-rain-ii)\n",
    "\n",
    "Florian Toque & Paul Willot  "
   ]
  },
  {
   "cell_type": "code",
   "execution_count": 1,
   "metadata": {
    "collapsed": true
   },
   "outputs": [],
   "source": [
    "%matplotlib inline\n",
    "import sklearn\n",
    "import matplotlib.pyplot as plt\n",
    "import seaborn as sns\n",
    "import numpy as np\n",
    "import random\n",
    "import pandas as pd"
   ]
  },
  {
   "cell_type": "code",
   "execution_count": 2,
   "metadata": {
    "collapsed": true
   },
   "outputs": [],
   "source": [
    "filename = \"data/train.csv\"\n",
    "train = pd.read_csv(filename)\n"
   ]
  },
  {
   "cell_type": "code",
   "execution_count": 4,
   "metadata": {
    "collapsed": false
   },
   "outputs": [
    {
     "ename": "KeyError",
     "evalue": "'[  nan   nan   nan   nan   nan   nan   5.   22.5  15.5  14.   16.5  12.\\n  19.   14.   11.    3.5  14.5  16.5   nan   nan   nan   nan   nan   nan\\n   nan   nan   nan   nan   nan   nan  16.   14.   24.5   nan   nan   nan\\n  10.5  33.5  33.5   nan   nan   nan   8.5   nan   nan   nan   nan   nan\\n   nan   nan   nan   nan   nan   nan   nan   nan   nan   nan   nan   nan\\n   nan   nan   nan   nan  10.5   nan   nan   nan   nan   nan   nan   nan\\n   nan   nan   nan   nan   nan   nan   nan   nan  17.5   nan   nan  19.\\n  22.5  22.   13.5  14.    nan   nan   nan   nan   nan   nan   nan   nan\\n   nan   nan   nan   nan] not in index'",
     "output_type": "error",
     "traceback": [
      "\u001b[0;31m---------------------------------------------------------------------------\u001b[0m",
      "\u001b[0;31mKeyError\u001b[0m                                  Traceback (most recent call last)",
      "\u001b[0;32m<ipython-input-4-161e5c6857ef>\u001b[0m in \u001b[0;36m<module>\u001b[0;34m()\u001b[0m\n\u001b[1;32m      1\u001b[0m \u001b[0mmini_train\u001b[0m \u001b[0;34m=\u001b[0m \u001b[0mpd\u001b[0m\u001b[0;34m.\u001b[0m\u001b[0mread_csv\u001b[0m\u001b[0;34m(\u001b[0m\u001b[0mfilename\u001b[0m\u001b[0;34m,\u001b[0m\u001b[0mnrows\u001b[0m\u001b[0;34m=\u001b[0m\u001b[0;36m100\u001b[0m\u001b[0;34m)\u001b[0m\u001b[0;34m\u001b[0m\u001b[0m\n\u001b[0;32m----> 2\u001b[0;31m \u001b[0mmini_train\u001b[0m\u001b[0;34m[\u001b[0m\u001b[0mmini_train\u001b[0m\u001b[0;34m[\u001b[0m\u001b[0;34m\"Ref_5x5_10th\"\u001b[0m\u001b[0;34m]\u001b[0m\u001b[0;34m]\u001b[0m\u001b[0;34m\u001b[0m\u001b[0m\n\u001b[0m\u001b[1;32m      3\u001b[0m \u001b[0;34m\u001b[0m\u001b[0m\n",
      "\u001b[0;32m/Library/Python/2.7/site-packages/pandas/core/frame.pyc\u001b[0m in \u001b[0;36m__getitem__\u001b[0;34m(self, key)\u001b[0m\n\u001b[1;32m   1789\u001b[0m         \u001b[0;32mif\u001b[0m \u001b[0misinstance\u001b[0m\u001b[0;34m(\u001b[0m\u001b[0mkey\u001b[0m\u001b[0;34m,\u001b[0m \u001b[0;34m(\u001b[0m\u001b[0mSeries\u001b[0m\u001b[0;34m,\u001b[0m \u001b[0mnp\u001b[0m\u001b[0;34m.\u001b[0m\u001b[0mndarray\u001b[0m\u001b[0;34m,\u001b[0m \u001b[0mIndex\u001b[0m\u001b[0;34m,\u001b[0m \u001b[0mlist\u001b[0m\u001b[0;34m)\u001b[0m\u001b[0;34m)\u001b[0m\u001b[0;34m:\u001b[0m\u001b[0;34m\u001b[0m\u001b[0m\n\u001b[1;32m   1790\u001b[0m             \u001b[0;31m# either boolean or fancy integer index\u001b[0m\u001b[0;34m\u001b[0m\u001b[0;34m\u001b[0m\u001b[0m\n\u001b[0;32m-> 1791\u001b[0;31m             \u001b[0;32mreturn\u001b[0m \u001b[0mself\u001b[0m\u001b[0;34m.\u001b[0m\u001b[0m_getitem_array\u001b[0m\u001b[0;34m(\u001b[0m\u001b[0mkey\u001b[0m\u001b[0;34m)\u001b[0m\u001b[0;34m\u001b[0m\u001b[0m\n\u001b[0m\u001b[1;32m   1792\u001b[0m         \u001b[0;32melif\u001b[0m \u001b[0misinstance\u001b[0m\u001b[0;34m(\u001b[0m\u001b[0mkey\u001b[0m\u001b[0;34m,\u001b[0m \u001b[0mDataFrame\u001b[0m\u001b[0;34m)\u001b[0m\u001b[0;34m:\u001b[0m\u001b[0;34m\u001b[0m\u001b[0m\n\u001b[1;32m   1793\u001b[0m             \u001b[0;32mreturn\u001b[0m \u001b[0mself\u001b[0m\u001b[0;34m.\u001b[0m\u001b[0m_getitem_frame\u001b[0m\u001b[0;34m(\u001b[0m\u001b[0mkey\u001b[0m\u001b[0;34m)\u001b[0m\u001b[0;34m\u001b[0m\u001b[0m\n",
      "\u001b[0;32m/Library/Python/2.7/site-packages/pandas/core/frame.pyc\u001b[0m in \u001b[0;36m_getitem_array\u001b[0;34m(self, key)\u001b[0m\n\u001b[1;32m   1833\u001b[0m             \u001b[0;32mreturn\u001b[0m \u001b[0mself\u001b[0m\u001b[0;34m.\u001b[0m\u001b[0mtake\u001b[0m\u001b[0;34m(\u001b[0m\u001b[0mindexer\u001b[0m\u001b[0;34m,\u001b[0m \u001b[0maxis\u001b[0m\u001b[0;34m=\u001b[0m\u001b[0;36m0\u001b[0m\u001b[0;34m,\u001b[0m \u001b[0mconvert\u001b[0m\u001b[0;34m=\u001b[0m\u001b[0mFalse\u001b[0m\u001b[0;34m)\u001b[0m\u001b[0;34m\u001b[0m\u001b[0m\n\u001b[1;32m   1834\u001b[0m         \u001b[0;32melse\u001b[0m\u001b[0;34m:\u001b[0m\u001b[0;34m\u001b[0m\u001b[0m\n\u001b[0;32m-> 1835\u001b[0;31m             \u001b[0mindexer\u001b[0m \u001b[0;34m=\u001b[0m \u001b[0mself\u001b[0m\u001b[0;34m.\u001b[0m\u001b[0mix\u001b[0m\u001b[0;34m.\u001b[0m\u001b[0m_convert_to_indexer\u001b[0m\u001b[0;34m(\u001b[0m\u001b[0mkey\u001b[0m\u001b[0;34m,\u001b[0m \u001b[0maxis\u001b[0m\u001b[0;34m=\u001b[0m\u001b[0;36m1\u001b[0m\u001b[0;34m)\u001b[0m\u001b[0;34m\u001b[0m\u001b[0m\n\u001b[0m\u001b[1;32m   1836\u001b[0m             \u001b[0;32mreturn\u001b[0m \u001b[0mself\u001b[0m\u001b[0;34m.\u001b[0m\u001b[0mtake\u001b[0m\u001b[0;34m(\u001b[0m\u001b[0mindexer\u001b[0m\u001b[0;34m,\u001b[0m \u001b[0maxis\u001b[0m\u001b[0;34m=\u001b[0m\u001b[0;36m1\u001b[0m\u001b[0;34m,\u001b[0m \u001b[0mconvert\u001b[0m\u001b[0;34m=\u001b[0m\u001b[0mTrue\u001b[0m\u001b[0;34m)\u001b[0m\u001b[0;34m\u001b[0m\u001b[0m\n\u001b[1;32m   1837\u001b[0m \u001b[0;34m\u001b[0m\u001b[0m\n",
      "\u001b[0;32m/Library/Python/2.7/site-packages/pandas/core/indexing.pyc\u001b[0m in \u001b[0;36m_convert_to_indexer\u001b[0;34m(self, obj, axis, is_setter)\u001b[0m\n\u001b[1;32m   1110\u001b[0m                 \u001b[0mmask\u001b[0m \u001b[0;34m=\u001b[0m \u001b[0mcheck\u001b[0m \u001b[0;34m==\u001b[0m \u001b[0;34m-\u001b[0m\u001b[0;36m1\u001b[0m\u001b[0;34m\u001b[0m\u001b[0m\n\u001b[1;32m   1111\u001b[0m                 \u001b[0;32mif\u001b[0m \u001b[0mmask\u001b[0m\u001b[0;34m.\u001b[0m\u001b[0many\u001b[0m\u001b[0;34m(\u001b[0m\u001b[0;34m)\u001b[0m\u001b[0;34m:\u001b[0m\u001b[0;34m\u001b[0m\u001b[0m\n\u001b[0;32m-> 1112\u001b[0;31m                     \u001b[0;32mraise\u001b[0m \u001b[0mKeyError\u001b[0m\u001b[0;34m(\u001b[0m\u001b[0;34m'%s not in index'\u001b[0m \u001b[0;34m%\u001b[0m \u001b[0mobjarr\u001b[0m\u001b[0;34m[\u001b[0m\u001b[0mmask\u001b[0m\u001b[0;34m]\u001b[0m\u001b[0;34m)\u001b[0m\u001b[0;34m\u001b[0m\u001b[0m\n\u001b[0m\u001b[1;32m   1113\u001b[0m \u001b[0;34m\u001b[0m\u001b[0m\n\u001b[1;32m   1114\u001b[0m                 \u001b[0;32mreturn\u001b[0m \u001b[0m_values_from_object\u001b[0m\u001b[0;34m(\u001b[0m\u001b[0mindexer\u001b[0m\u001b[0;34m)\u001b[0m\u001b[0;34m\u001b[0m\u001b[0m\n",
      "\u001b[0;31mKeyError\u001b[0m: '[  nan   nan   nan   nan   nan   nan   5.   22.5  15.5  14.   16.5  12.\\n  19.   14.   11.    3.5  14.5  16.5   nan   nan   nan   nan   nan   nan\\n   nan   nan   nan   nan   nan   nan  16.   14.   24.5   nan   nan   nan\\n  10.5  33.5  33.5   nan   nan   nan   8.5   nan   nan   nan   nan   nan\\n   nan   nan   nan   nan   nan   nan   nan   nan   nan   nan   nan   nan\\n   nan   nan   nan   nan  10.5   nan   nan   nan   nan   nan   nan   nan\\n   nan   nan   nan   nan   nan   nan   nan   nan  17.5   nan   nan  19.\\n  22.5  22.   13.5  14.    nan   nan   nan   nan   nan   nan   nan   nan\\n   nan   nan   nan   nan] not in index'"
     ]
    }
   ],
   "source": [
    "mini_train = pd.read_csv(filename,nrows=100)\n",
    "mini_train[mini_train[\"Ref_5x5_10th\"]]\n",
    "\n"
   ]
  },
  {
   "cell_type": "code",
   "execution_count": 55,
   "metadata": {
    "collapsed": false
   },
   "outputs": [],
   "source": [
    "mini_train_clean = mini_train[[not i for i in np.isnan(mini_train[\"Ref_5x5_10th\"])]]"
   ]
  },
  {
   "cell_type": "code",
   "execution_count": 82,
   "metadata": {
    "collapsed": false
   },
   "outputs": [
    {
     "data": {
      "text/plain": [
       "<pandas.core.indexing._IXIndexer at 0x106cd7e10>"
      ]
     },
     "execution_count": 82,
     "metadata": {},
     "output_type": "execute_result"
    }
   ],
   "source": [
    "mini_train_clean.ix(1)\n"
   ]
  },
  {
   "cell_type": "code",
   "execution_count": 4,
   "metadata": {
    "collapsed": false
   },
   "outputs": [
    {
     "name": "stdout",
     "output_type": "stream",
     "text": [
      "dick and dac\n",
      "dac a dit\n",
      "dick and dac\n",
      "dick and dac\n",
      "dick and dac\n",
      "dac a dit\n",
      "dick and dac\n",
      "dac a dit\n",
      "dac a dit\n",
      "dick and dac\n"
     ]
    }
   ],
   "source": [
    "for i in np.arange(1,11):\n",
    "    print(np.random.choice((\"dac a dit\",\"dick and dac\")))"
   ]
  },
  {
   "cell_type": "code",
   "execution_count": 2,
   "metadata": {
    "collapsed": false
   },
   "outputs": [
    {
     "data": {
      "text/html": [
       "<div>\n",
       "<table border=\"1\" class=\"dataframe\">\n",
       "  <thead>\n",
       "    <tr style=\"text-align: right;\">\n",
       "      <th></th>\n",
       "      <th>Id</th>\n",
       "      <th>minutes_past</th>\n",
       "      <th>radardist_km</th>\n",
       "      <th>Ref</th>\n",
       "      <th>Ref_5x5_10th</th>\n",
       "      <th>Ref_5x5_50th</th>\n",
       "      <th>Ref_5x5_90th</th>\n",
       "      <th>RefComposite</th>\n",
       "      <th>RefComposite_5x5_10th</th>\n",
       "      <th>RefComposite_5x5_50th</th>\n",
       "      <th>...</th>\n",
       "      <th>RhoHV_5x5_90th</th>\n",
       "      <th>Zdr</th>\n",
       "      <th>Zdr_5x5_10th</th>\n",
       "      <th>Zdr_5x5_50th</th>\n",
       "      <th>Zdr_5x5_90th</th>\n",
       "      <th>Kdp</th>\n",
       "      <th>Kdp_5x5_10th</th>\n",
       "      <th>Kdp_5x5_50th</th>\n",
       "      <th>Kdp_5x5_90th</th>\n",
       "      <th>Expected</th>\n",
       "    </tr>\n",
       "  </thead>\n",
       "  <tbody>\n",
       "    <tr>\n",
       "      <th>0</th>\n",
       "      <td>1</td>\n",
       "      <td>3</td>\n",
       "      <td>10</td>\n",
       "      <td>NaN</td>\n",
       "      <td>NaN</td>\n",
       "      <td>NaN</td>\n",
       "      <td>NaN</td>\n",
       "      <td>NaN</td>\n",
       "      <td>NaN</td>\n",
       "      <td>NaN</td>\n",
       "      <td>...</td>\n",
       "      <td>NaN</td>\n",
       "      <td>NaN</td>\n",
       "      <td>NaN</td>\n",
       "      <td>NaN</td>\n",
       "      <td>NaN</td>\n",
       "      <td>NaN</td>\n",
       "      <td>NaN</td>\n",
       "      <td>NaN</td>\n",
       "      <td>NaN</td>\n",
       "      <td>0.254</td>\n",
       "    </tr>\n",
       "    <tr>\n",
       "      <th>1</th>\n",
       "      <td>1</td>\n",
       "      <td>16</td>\n",
       "      <td>10</td>\n",
       "      <td>NaN</td>\n",
       "      <td>NaN</td>\n",
       "      <td>NaN</td>\n",
       "      <td>NaN</td>\n",
       "      <td>NaN</td>\n",
       "      <td>NaN</td>\n",
       "      <td>NaN</td>\n",
       "      <td>...</td>\n",
       "      <td>NaN</td>\n",
       "      <td>NaN</td>\n",
       "      <td>NaN</td>\n",
       "      <td>NaN</td>\n",
       "      <td>NaN</td>\n",
       "      <td>NaN</td>\n",
       "      <td>NaN</td>\n",
       "      <td>NaN</td>\n",
       "      <td>NaN</td>\n",
       "      <td>0.254</td>\n",
       "    </tr>\n",
       "    <tr>\n",
       "      <th>2</th>\n",
       "      <td>1</td>\n",
       "      <td>25</td>\n",
       "      <td>10</td>\n",
       "      <td>NaN</td>\n",
       "      <td>NaN</td>\n",
       "      <td>NaN</td>\n",
       "      <td>NaN</td>\n",
       "      <td>NaN</td>\n",
       "      <td>NaN</td>\n",
       "      <td>NaN</td>\n",
       "      <td>...</td>\n",
       "      <td>NaN</td>\n",
       "      <td>NaN</td>\n",
       "      <td>NaN</td>\n",
       "      <td>NaN</td>\n",
       "      <td>NaN</td>\n",
       "      <td>NaN</td>\n",
       "      <td>NaN</td>\n",
       "      <td>NaN</td>\n",
       "      <td>NaN</td>\n",
       "      <td>0.254</td>\n",
       "    </tr>\n",
       "    <tr>\n",
       "      <th>3</th>\n",
       "      <td>1</td>\n",
       "      <td>35</td>\n",
       "      <td>10</td>\n",
       "      <td>NaN</td>\n",
       "      <td>NaN</td>\n",
       "      <td>NaN</td>\n",
       "      <td>NaN</td>\n",
       "      <td>NaN</td>\n",
       "      <td>NaN</td>\n",
       "      <td>NaN</td>\n",
       "      <td>...</td>\n",
       "      <td>NaN</td>\n",
       "      <td>NaN</td>\n",
       "      <td>NaN</td>\n",
       "      <td>NaN</td>\n",
       "      <td>NaN</td>\n",
       "      <td>NaN</td>\n",
       "      <td>NaN</td>\n",
       "      <td>NaN</td>\n",
       "      <td>NaN</td>\n",
       "      <td>0.254</td>\n",
       "    </tr>\n",
       "    <tr>\n",
       "      <th>4</th>\n",
       "      <td>1</td>\n",
       "      <td>45</td>\n",
       "      <td>10</td>\n",
       "      <td>NaN</td>\n",
       "      <td>NaN</td>\n",
       "      <td>NaN</td>\n",
       "      <td>NaN</td>\n",
       "      <td>NaN</td>\n",
       "      <td>NaN</td>\n",
       "      <td>NaN</td>\n",
       "      <td>...</td>\n",
       "      <td>NaN</td>\n",
       "      <td>NaN</td>\n",
       "      <td>NaN</td>\n",
       "      <td>NaN</td>\n",
       "      <td>NaN</td>\n",
       "      <td>NaN</td>\n",
       "      <td>NaN</td>\n",
       "      <td>NaN</td>\n",
       "      <td>NaN</td>\n",
       "      <td>0.254</td>\n",
       "    </tr>\n",
       "  </tbody>\n",
       "</table>\n",
       "<p>5 rows × 24 columns</p>\n",
       "</div>"
      ],
      "text/plain": [
       "   Id  minutes_past  radardist_km  Ref  Ref_5x5_10th  Ref_5x5_50th  \\\n",
       "0   1             3            10  NaN           NaN           NaN   \n",
       "1   1            16            10  NaN           NaN           NaN   \n",
       "2   1            25            10  NaN           NaN           NaN   \n",
       "3   1            35            10  NaN           NaN           NaN   \n",
       "4   1            45            10  NaN           NaN           NaN   \n",
       "\n",
       "   Ref_5x5_90th  RefComposite  RefComposite_5x5_10th  RefComposite_5x5_50th  \\\n",
       "0           NaN           NaN                    NaN                    NaN   \n",
       "1           NaN           NaN                    NaN                    NaN   \n",
       "2           NaN           NaN                    NaN                    NaN   \n",
       "3           NaN           NaN                    NaN                    NaN   \n",
       "4           NaN           NaN                    NaN                    NaN   \n",
       "\n",
       "     ...     RhoHV_5x5_90th  Zdr  Zdr_5x5_10th  Zdr_5x5_50th  Zdr_5x5_90th  \\\n",
       "0    ...                NaN  NaN           NaN           NaN           NaN   \n",
       "1    ...                NaN  NaN           NaN           NaN           NaN   \n",
       "2    ...                NaN  NaN           NaN           NaN           NaN   \n",
       "3    ...                NaN  NaN           NaN           NaN           NaN   \n",
       "4    ...                NaN  NaN           NaN           NaN           NaN   \n",
       "\n",
       "   Kdp  Kdp_5x5_10th  Kdp_5x5_50th  Kdp_5x5_90th  Expected  \n",
       "0  NaN           NaN           NaN           NaN     0.254  \n",
       "1  NaN           NaN           NaN           NaN     0.254  \n",
       "2  NaN           NaN           NaN           NaN     0.254  \n",
       "3  NaN           NaN           NaN           NaN     0.254  \n",
       "4  NaN           NaN           NaN           NaN     0.254  \n",
       "\n",
       "[5 rows x 24 columns]"
      ]
     },
     "execution_count": 2,
     "metadata": {},
     "output_type": "execute_result"
    }
   ],
   "source": [
    "rain_train = pd.read_csv('./data/reduced_train.csv')\n",
    "rain_train.head()"
   ]
  },
  {
   "cell_type": "code",
   "execution_count": 3,
   "metadata": {
    "collapsed": false
   },
   "outputs": [
    {
     "data": {
      "text/html": [
       "<div>\n",
       "<table border=\"1\" class=\"dataframe\">\n",
       "  <thead>\n",
       "    <tr style=\"text-align: right;\">\n",
       "      <th></th>\n",
       "      <th>Id</th>\n",
       "      <th>minutes_past</th>\n",
       "      <th>radardist_km</th>\n",
       "      <th>Ref</th>\n",
       "      <th>Ref_5x5_10th</th>\n",
       "      <th>Ref_5x5_50th</th>\n",
       "      <th>Ref_5x5_90th</th>\n",
       "      <th>RefComposite</th>\n",
       "      <th>RefComposite_5x5_10th</th>\n",
       "      <th>RefComposite_5x5_50th</th>\n",
       "      <th>...</th>\n",
       "      <th>RhoHV_5x5_90th</th>\n",
       "      <th>Zdr</th>\n",
       "      <th>Zdr_5x5_10th</th>\n",
       "      <th>Zdr_5x5_50th</th>\n",
       "      <th>Zdr_5x5_90th</th>\n",
       "      <th>Kdp</th>\n",
       "      <th>Kdp_5x5_10th</th>\n",
       "      <th>Kdp_5x5_50th</th>\n",
       "      <th>Kdp_5x5_90th</th>\n",
       "      <th>Expected</th>\n",
       "    </tr>\n",
       "  </thead>\n",
       "  <tbody>\n",
       "    <tr>\n",
       "      <th>count</th>\n",
       "      <td>999.000000</td>\n",
       "      <td>999.000000</td>\n",
       "      <td>999.000000</td>\n",
       "      <td>478.000000</td>\n",
       "      <td>408.000000</td>\n",
       "      <td>483.000000</td>\n",
       "      <td>559.000000</td>\n",
       "      <td>513.000000</td>\n",
       "      <td>457.000000</td>\n",
       "      <td>518.000000</td>\n",
       "      <td>...</td>\n",
       "      <td>388.000000</td>\n",
       "      <td>340.000000</td>\n",
       "      <td>302.000000</td>\n",
       "      <td>340.000000</td>\n",
       "      <td>388.000000</td>\n",
       "      <td>289.000000</td>\n",
       "      <td>252.000000</td>\n",
       "      <td>286.000000</td>\n",
       "      <td>341.000000</td>\n",
       "      <td>999.000000</td>\n",
       "    </tr>\n",
       "    <tr>\n",
       "      <th>mean</th>\n",
       "      <td>48.452452</td>\n",
       "      <td>29.549550</td>\n",
       "      <td>11.490490</td>\n",
       "      <td>23.031381</td>\n",
       "      <td>19.807598</td>\n",
       "      <td>22.595238</td>\n",
       "      <td>26.615385</td>\n",
       "      <td>25.129630</td>\n",
       "      <td>22.310722</td>\n",
       "      <td>24.838803</td>\n",
       "      <td>...</td>\n",
       "      <td>1.018359</td>\n",
       "      <td>0.581066</td>\n",
       "      <td>-0.581126</td>\n",
       "      <td>0.413419</td>\n",
       "      <td>1.856959</td>\n",
       "      <td>0.061484</td>\n",
       "      <td>-3.407266</td>\n",
       "      <td>-0.176054</td>\n",
       "      <td>3.755743</td>\n",
       "      <td>152.523533</td>\n",
       "    </tr>\n",
       "    <tr>\n",
       "      <th>std</th>\n",
       "      <td>28.412180</td>\n",
       "      <td>17.421605</td>\n",
       "      <td>4.166819</td>\n",
       "      <td>9.556138</td>\n",
       "      <td>9.311778</td>\n",
       "      <td>9.448388</td>\n",
       "      <td>9.921674</td>\n",
       "      <td>9.865267</td>\n",
       "      <td>9.474039</td>\n",
       "      <td>9.654454</td>\n",
       "      <td>...</td>\n",
       "      <td>0.050362</td>\n",
       "      <td>1.143212</td>\n",
       "      <td>0.890693</td>\n",
       "      <td>0.732893</td>\n",
       "      <td>1.304650</td>\n",
       "      <td>3.806644</td>\n",
       "      <td>2.737082</td>\n",
       "      <td>1.845907</td>\n",
       "      <td>3.419154</td>\n",
       "      <td>471.297121</td>\n",
       "    </tr>\n",
       "    <tr>\n",
       "      <th>min</th>\n",
       "      <td>1.000000</td>\n",
       "      <td>0.000000</td>\n",
       "      <td>2.000000</td>\n",
       "      <td>-2.500000</td>\n",
       "      <td>-7.500000</td>\n",
       "      <td>-3.500000</td>\n",
       "      <td>-1.500000</td>\n",
       "      <td>-1.000000</td>\n",
       "      <td>-4.500000</td>\n",
       "      <td>-1.500000</td>\n",
       "      <td>...</td>\n",
       "      <td>0.208333</td>\n",
       "      <td>-2.500000</td>\n",
       "      <td>-4.625000</td>\n",
       "      <td>-2.125000</td>\n",
       "      <td>-2.000000</td>\n",
       "      <td>-23.870010</td>\n",
       "      <td>-17.910004</td>\n",
       "      <td>-22.460007</td>\n",
       "      <td>-13.230011</td>\n",
       "      <td>0.010000</td>\n",
       "    </tr>\n",
       "    <tr>\n",
       "      <th>25%</th>\n",
       "      <td>23.000000</td>\n",
       "      <td>14.000000</td>\n",
       "      <td>9.000000</td>\n",
       "      <td>17.000000</td>\n",
       "      <td>14.000000</td>\n",
       "      <td>17.000000</td>\n",
       "      <td>20.000000</td>\n",
       "      <td>19.000000</td>\n",
       "      <td>16.500000</td>\n",
       "      <td>18.500000</td>\n",
       "      <td>...</td>\n",
       "      <td>0.998333</td>\n",
       "      <td>0.000000</td>\n",
       "      <td>-1.109375</td>\n",
       "      <td>0.000000</td>\n",
       "      <td>1.062500</td>\n",
       "      <td>-1.410004</td>\n",
       "      <td>-4.230011</td>\n",
       "      <td>-0.710007</td>\n",
       "      <td>1.759994</td>\n",
       "      <td>0.350000</td>\n",
       "    </tr>\n",
       "    <tr>\n",
       "      <th>50%</th>\n",
       "      <td>48.000000</td>\n",
       "      <td>29.000000</td>\n",
       "      <td>12.000000</td>\n",
       "      <td>23.000000</td>\n",
       "      <td>20.250000</td>\n",
       "      <td>23.000000</td>\n",
       "      <td>27.500000</td>\n",
       "      <td>24.500000</td>\n",
       "      <td>22.000000</td>\n",
       "      <td>24.500000</td>\n",
       "      <td>...</td>\n",
       "      <td>1.011667</td>\n",
       "      <td>0.500000</td>\n",
       "      <td>-0.500000</td>\n",
       "      <td>0.312500</td>\n",
       "      <td>1.562500</td>\n",
       "      <td>0.349991</td>\n",
       "      <td>-2.470001</td>\n",
       "      <td>0.000000</td>\n",
       "      <td>2.819992</td>\n",
       "      <td>1.270001</td>\n",
       "    </tr>\n",
       "    <tr>\n",
       "      <th>75%</th>\n",
       "      <td>73.000000</td>\n",
       "      <td>45.000000</td>\n",
       "      <td>14.000000</td>\n",
       "      <td>30.000000</td>\n",
       "      <td>26.000000</td>\n",
       "      <td>29.500000</td>\n",
       "      <td>34.000000</td>\n",
       "      <td>32.000000</td>\n",
       "      <td>28.500000</td>\n",
       "      <td>31.500000</td>\n",
       "      <td>...</td>\n",
       "      <td>1.051667</td>\n",
       "      <td>1.062500</td>\n",
       "      <td>0.062500</td>\n",
       "      <td>0.750000</td>\n",
       "      <td>2.250000</td>\n",
       "      <td>1.759994</td>\n",
       "      <td>-1.635006</td>\n",
       "      <td>0.699997</td>\n",
       "      <td>5.279999</td>\n",
       "      <td>4.191002</td>\n",
       "    </tr>\n",
       "    <tr>\n",
       "      <th>max</th>\n",
       "      <td>97.000000</td>\n",
       "      <td>59.000000</td>\n",
       "      <td>20.000000</td>\n",
       "      <td>56.500000</td>\n",
       "      <td>56.500000</td>\n",
       "      <td>58.500000</td>\n",
       "      <td>63.000000</td>\n",
       "      <td>59.000000</td>\n",
       "      <td>56.500000</td>\n",
       "      <td>59.000000</td>\n",
       "      <td>...</td>\n",
       "      <td>1.051667</td>\n",
       "      <td>7.937500</td>\n",
       "      <td>1.500000</td>\n",
       "      <td>7.937500</td>\n",
       "      <td>7.937500</td>\n",
       "      <td>14.619995</td>\n",
       "      <td>1.059998</td>\n",
       "      <td>3.509994</td>\n",
       "      <td>25.049988</td>\n",
       "      <td>2976.627700</td>\n",
       "    </tr>\n",
       "  </tbody>\n",
       "</table>\n",
       "<p>8 rows × 24 columns</p>\n",
       "</div>"
      ],
      "text/plain": [
       "               Id  minutes_past  radardist_km         Ref  Ref_5x5_10th  \\\n",
       "count  999.000000    999.000000    999.000000  478.000000    408.000000   \n",
       "mean    48.452452     29.549550     11.490490   23.031381     19.807598   \n",
       "std     28.412180     17.421605      4.166819    9.556138      9.311778   \n",
       "min      1.000000      0.000000      2.000000   -2.500000     -7.500000   \n",
       "25%     23.000000     14.000000      9.000000   17.000000     14.000000   \n",
       "50%     48.000000     29.000000     12.000000   23.000000     20.250000   \n",
       "75%     73.000000     45.000000     14.000000   30.000000     26.000000   \n",
       "max     97.000000     59.000000     20.000000   56.500000     56.500000   \n",
       "\n",
       "       Ref_5x5_50th  Ref_5x5_90th  RefComposite  RefComposite_5x5_10th  \\\n",
       "count    483.000000    559.000000    513.000000             457.000000   \n",
       "mean      22.595238     26.615385     25.129630              22.310722   \n",
       "std        9.448388      9.921674      9.865267               9.474039   \n",
       "min       -3.500000     -1.500000     -1.000000              -4.500000   \n",
       "25%       17.000000     20.000000     19.000000              16.500000   \n",
       "50%       23.000000     27.500000     24.500000              22.000000   \n",
       "75%       29.500000     34.000000     32.000000              28.500000   \n",
       "max       58.500000     63.000000     59.000000              56.500000   \n",
       "\n",
       "       RefComposite_5x5_50th     ...       RhoHV_5x5_90th         Zdr  \\\n",
       "count             518.000000     ...           388.000000  340.000000   \n",
       "mean               24.838803     ...             1.018359    0.581066   \n",
       "std                 9.654454     ...             0.050362    1.143212   \n",
       "min                -1.500000     ...             0.208333   -2.500000   \n",
       "25%                18.500000     ...             0.998333    0.000000   \n",
       "50%                24.500000     ...             1.011667    0.500000   \n",
       "75%                31.500000     ...             1.051667    1.062500   \n",
       "max                59.000000     ...             1.051667    7.937500   \n",
       "\n",
       "       Zdr_5x5_10th  Zdr_5x5_50th  Zdr_5x5_90th         Kdp  Kdp_5x5_10th  \\\n",
       "count    302.000000    340.000000    388.000000  289.000000    252.000000   \n",
       "mean      -0.581126      0.413419      1.856959    0.061484     -3.407266   \n",
       "std        0.890693      0.732893      1.304650    3.806644      2.737082   \n",
       "min       -4.625000     -2.125000     -2.000000  -23.870010    -17.910004   \n",
       "25%       -1.109375      0.000000      1.062500   -1.410004     -4.230011   \n",
       "50%       -0.500000      0.312500      1.562500    0.349991     -2.470001   \n",
       "75%        0.062500      0.750000      2.250000    1.759994     -1.635006   \n",
       "max        1.500000      7.937500      7.937500   14.619995      1.059998   \n",
       "\n",
       "       Kdp_5x5_50th  Kdp_5x5_90th     Expected  \n",
       "count    286.000000    341.000000   999.000000  \n",
       "mean      -0.176054      3.755743   152.523533  \n",
       "std        1.845907      3.419154   471.297121  \n",
       "min      -22.460007    -13.230011     0.010000  \n",
       "25%       -0.710007      1.759994     0.350000  \n",
       "50%        0.000000      2.819992     1.270001  \n",
       "75%        0.699997      5.279999     4.191002  \n",
       "max        3.509994     25.049988  2976.627700  \n",
       "\n",
       "[8 rows x 24 columns]"
      ]
     },
     "execution_count": 3,
     "metadata": {},
     "output_type": "execute_result"
    }
   ],
   "source": [
    "rain_train.describe()"
   ]
  },
  {
   "cell_type": "code",
   "execution_count": null,
   "metadata": {
    "collapsed": true
   },
   "outputs": [],
   "source": []
  },
  {
   "cell_type": "code",
   "execution_count": null,
   "metadata": {
    "collapsed": true
   },
   "outputs": [],
   "source": []
  },
  {
   "cell_type": "code",
   "execution_count": 6,
   "metadata": {
    "collapsed": false
   },
   "outputs": [],
   "source": [
    "d = {'a':1,'b':2}"
   ]
  },
  {
   "cell_type": "code",
   "execution_count": 8,
   "metadata": {
    "collapsed": false
   },
   "outputs": [
    {
     "ename": "KeyError",
     "evalue": "'c'",
     "output_type": "error",
     "traceback": [
      "\u001b[0;31m---------------------------------------------------------------------------\u001b[0m",
      "\u001b[0;31mKeyError\u001b[0m                                  Traceback (most recent call last)",
      "\u001b[0;32m<ipython-input-8-3e4d85f12902>\u001b[0m in \u001b[0;36m<module>\u001b[0;34m()\u001b[0m\n\u001b[0;32m----> 1\u001b[0;31m \u001b[0md\u001b[0m\u001b[0;34m[\u001b[0m\u001b[0;34m'c'\u001b[0m\u001b[0;34m]\u001b[0m\u001b[0;34m\u001b[0m\u001b[0m\n\u001b[0m",
      "\u001b[0;31mKeyError\u001b[0m: 'c'"
     ]
    }
   ],
   "source": [
    "d['c']"
   ]
  },
  {
   "cell_type": "code",
   "execution_count": null,
   "metadata": {
    "collapsed": true
   },
   "outputs": [],
   "source": []
  },
  {
   "cell_type": "code",
   "execution_count": null,
   "metadata": {
    "collapsed": true
   },
   "outputs": [],
   "source": []
  },
  {
   "cell_type": "code",
   "execution_count": null,
   "metadata": {
    "collapsed": true
   },
   "outputs": [],
   "source": []
  },
  {
   "cell_type": "code",
   "execution_count": null,
   "metadata": {
    "collapsed": true
   },
   "outputs": [],
   "source": []
  },
  {
   "cell_type": "code",
   "execution_count": null,
   "metadata": {
    "collapsed": true
   },
   "outputs": [],
   "source": []
  },
  {
   "cell_type": "code",
   "execution_count": null,
   "metadata": {
    "collapsed": true
   },
   "outputs": [],
   "source": []
  },
  {
   "cell_type": "code",
   "execution_count": null,
   "metadata": {
    "collapsed": true
   },
   "outputs": [],
   "source": []
  },
  {
   "cell_type": "code",
   "execution_count": null,
   "metadata": {
    "collapsed": true
   },
   "outputs": [],
   "source": []
  },
  {
   "cell_type": "code",
   "execution_count": null,
   "metadata": {
    "collapsed": true
   },
   "outputs": [],
   "source": []
  }
 ],
 "metadata": {
  "kernelspec": {
   "display_name": "Python 2",
   "language": "python",
   "name": "python2"
  },
  "language_info": {
   "codemirror_mode": {
    "name": "ipython",
    "version": 2
   },
   "file_extension": ".py",
   "mimetype": "text/x-python",
   "name": "python",
   "nbconvert_exporter": "python",
   "pygments_lexer": "ipython2",
   "version": "2.7.10"
  }
 },
 "nbformat": 4,
 "nbformat_minor": 0
}
