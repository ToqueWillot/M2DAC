{
 "cells": [
  {
   "cell_type": "markdown",
   "metadata": {},
   "source": [
    "## FDMS TME3  \n",
    "\n",
    "Kaggle [How Much Did It Rain? II](https://www.kaggle.com/c/how-much-did-it-rain-ii)\n",
    "\n",
    "Florian Toque & Paul Willot  "
   ]
  },
  {
   "cell_type": "markdown",
   "metadata": {},
   "source": [
    "# Dear professor Denoyer...\n",
    "## Warning  \n",
    "\n",
    "\n",
    "**This is an early version of our entry for the Kaggle challenge**  \n",
    "\n",
    "It's still very messy and we send it because we forgot that we had to submit our progress step by step...\n",
    "\n",
    "**To summarize our goal, we plan to use a RNN to take advantage of the sequential data**"
   ]
  },
  {
   "cell_type": "code",
   "execution_count": 85,
   "metadata": {
    "collapsed": true
   },
   "outputs": [],
   "source": [
    "# from __future__ import exam_success\n",
    "from __future__ import absolute_import\n",
    "from __future__ import print_function\n",
    "\n",
    "%matplotlib inline\n",
    "import sklearn\n",
    "import matplotlib.pyplot as plt\n",
    "import seaborn as sns\n",
    "import numpy as np\n",
    "import random\n",
    "import pandas as pd\n",
    "\n",
    "# Sk cheats\n",
    "from sklearn.cross_validation import cross_val_score  # cross val\n",
    "from sklearn.ensemble import RandomForestRegressor\n",
    "from sklearn.ensemble import ExtraTreesRegressor\n",
    "from sklearn.preprocessing import Imputer   # get rid of nan"
   ]
  },
  {
   "cell_type": "code",
   "execution_count": null,
   "metadata": {
    "collapsed": true
   },
   "outputs": [],
   "source": []
  },
  {
   "cell_type": "code",
   "execution_count": null,
   "metadata": {
    "collapsed": true
   },
   "outputs": [],
   "source": []
  },
  {
   "cell_type": "markdown",
   "metadata": {},
   "source": [
    "* 13.765.202 lines in train.csv  \n",
    "*  8.022.757 lines in test.csv  \n",
    "\n",
    "Reduced to\n",
    "\n",
    "* 10.000\n",
    "* 5.000"
   ]
  },
  {
   "cell_type": "code",
   "execution_count": 58,
   "metadata": {
    "collapsed": false
   },
   "outputs": [],
   "source": [
    "filename = \"data/reduced_train_1000000.csv\"\n",
    "train = pd.read_csv(filename)\n",
    "train = train.set_index('Id')\n",
    "train = train.dropna()"
   ]
  },
  {
   "cell_type": "code",
   "execution_count": 59,
   "metadata": {
    "collapsed": false
   },
   "outputs": [
    {
     "data": {
      "text/html": [
       "<div>\n",
       "<table border=\"1\" class=\"dataframe\">\n",
       "  <thead>\n",
       "    <tr style=\"text-align: right;\">\n",
       "      <th></th>\n",
       "      <th>minutes_past</th>\n",
       "      <th>radardist_km</th>\n",
       "      <th>Ref</th>\n",
       "      <th>Ref_5x5_10th</th>\n",
       "      <th>Ref_5x5_50th</th>\n",
       "      <th>Ref_5x5_90th</th>\n",
       "      <th>RefComposite</th>\n",
       "      <th>RefComposite_5x5_10th</th>\n",
       "      <th>RefComposite_5x5_50th</th>\n",
       "      <th>RefComposite_5x5_90th</th>\n",
       "      <th>...</th>\n",
       "      <th>RhoHV_5x5_90th</th>\n",
       "      <th>Zdr</th>\n",
       "      <th>Zdr_5x5_10th</th>\n",
       "      <th>Zdr_5x5_50th</th>\n",
       "      <th>Zdr_5x5_90th</th>\n",
       "      <th>Kdp</th>\n",
       "      <th>Kdp_5x5_10th</th>\n",
       "      <th>Kdp_5x5_50th</th>\n",
       "      <th>Kdp_5x5_90th</th>\n",
       "      <th>Expected</th>\n",
       "    </tr>\n",
       "    <tr>\n",
       "      <th>Id</th>\n",
       "      <th></th>\n",
       "      <th></th>\n",
       "      <th></th>\n",
       "      <th></th>\n",
       "      <th></th>\n",
       "      <th></th>\n",
       "      <th></th>\n",
       "      <th></th>\n",
       "      <th></th>\n",
       "      <th></th>\n",
       "      <th></th>\n",
       "      <th></th>\n",
       "      <th></th>\n",
       "      <th></th>\n",
       "      <th></th>\n",
       "      <th></th>\n",
       "      <th></th>\n",
       "      <th></th>\n",
       "      <th></th>\n",
       "      <th></th>\n",
       "      <th></th>\n",
       "    </tr>\n",
       "  </thead>\n",
       "  <tbody>\n",
       "    <tr>\n",
       "      <th>2</th>\n",
       "      <td>1</td>\n",
       "      <td>2</td>\n",
       "      <td>9.0</td>\n",
       "      <td>5.0</td>\n",
       "      <td>7.5</td>\n",
       "      <td>10.5</td>\n",
       "      <td>15.0</td>\n",
       "      <td>10.5</td>\n",
       "      <td>16.5</td>\n",
       "      <td>23.5</td>\n",
       "      <td>...</td>\n",
       "      <td>0.998333</td>\n",
       "      <td>0.3750</td>\n",
       "      <td>-0.1250</td>\n",
       "      <td>0.3125</td>\n",
       "      <td>0.8750</td>\n",
       "      <td>1.059998</td>\n",
       "      <td>-1.410004</td>\n",
       "      <td>-0.350006</td>\n",
       "      <td>1.059998</td>\n",
       "      <td>1.016</td>\n",
       "    </tr>\n",
       "    <tr>\n",
       "      <th>2</th>\n",
       "      <td>16</td>\n",
       "      <td>2</td>\n",
       "      <td>18.0</td>\n",
       "      <td>14.0</td>\n",
       "      <td>17.5</td>\n",
       "      <td>21.0</td>\n",
       "      <td>20.5</td>\n",
       "      <td>18.0</td>\n",
       "      <td>20.5</td>\n",
       "      <td>23.0</td>\n",
       "      <td>...</td>\n",
       "      <td>1.001667</td>\n",
       "      <td>0.2500</td>\n",
       "      <td>0.1250</td>\n",
       "      <td>0.3750</td>\n",
       "      <td>0.6875</td>\n",
       "      <td>0.349991</td>\n",
       "      <td>-1.059998</td>\n",
       "      <td>0.000000</td>\n",
       "      <td>1.059998</td>\n",
       "      <td>1.016</td>\n",
       "    </tr>\n",
       "    <tr>\n",
       "      <th>2</th>\n",
       "      <td>21</td>\n",
       "      <td>2</td>\n",
       "      <td>24.5</td>\n",
       "      <td>16.5</td>\n",
       "      <td>21.0</td>\n",
       "      <td>24.5</td>\n",
       "      <td>24.5</td>\n",
       "      <td>21.0</td>\n",
       "      <td>24.0</td>\n",
       "      <td>28.0</td>\n",
       "      <td>...</td>\n",
       "      <td>0.998333</td>\n",
       "      <td>0.2500</td>\n",
       "      <td>0.0625</td>\n",
       "      <td>0.1875</td>\n",
       "      <td>0.5625</td>\n",
       "      <td>-0.350006</td>\n",
       "      <td>-1.059998</td>\n",
       "      <td>-0.350006</td>\n",
       "      <td>1.759994</td>\n",
       "      <td>1.016</td>\n",
       "    </tr>\n",
       "    <tr>\n",
       "      <th>2</th>\n",
       "      <td>26</td>\n",
       "      <td>2</td>\n",
       "      <td>12.0</td>\n",
       "      <td>12.0</td>\n",
       "      <td>16.0</td>\n",
       "      <td>20.0</td>\n",
       "      <td>16.5</td>\n",
       "      <td>17.0</td>\n",
       "      <td>19.0</td>\n",
       "      <td>21.0</td>\n",
       "      <td>...</td>\n",
       "      <td>0.998333</td>\n",
       "      <td>0.5625</td>\n",
       "      <td>0.2500</td>\n",
       "      <td>0.4375</td>\n",
       "      <td>0.6875</td>\n",
       "      <td>-1.760010</td>\n",
       "      <td>-1.760010</td>\n",
       "      <td>-0.350006</td>\n",
       "      <td>0.709991</td>\n",
       "      <td>1.016</td>\n",
       "    </tr>\n",
       "    <tr>\n",
       "      <th>2</th>\n",
       "      <td>31</td>\n",
       "      <td>2</td>\n",
       "      <td>22.5</td>\n",
       "      <td>19.0</td>\n",
       "      <td>22.0</td>\n",
       "      <td>25.0</td>\n",
       "      <td>26.0</td>\n",
       "      <td>23.5</td>\n",
       "      <td>25.5</td>\n",
       "      <td>27.5</td>\n",
       "      <td>...</td>\n",
       "      <td>1.001667</td>\n",
       "      <td>0.0000</td>\n",
       "      <td>-0.1875</td>\n",
       "      <td>0.2500</td>\n",
       "      <td>0.6250</td>\n",
       "      <td>-1.059998</td>\n",
       "      <td>-2.120010</td>\n",
       "      <td>-0.710007</td>\n",
       "      <td>0.349991</td>\n",
       "      <td>1.016</td>\n",
       "    </tr>\n",
       "  </tbody>\n",
       "</table>\n",
       "<p>5 rows × 23 columns</p>\n",
       "</div>"
      ],
      "text/plain": [
       "    minutes_past  radardist_km   Ref  Ref_5x5_10th  Ref_5x5_50th  \\\n",
       "Id                                                                 \n",
       "2              1             2   9.0           5.0           7.5   \n",
       "2             16             2  18.0          14.0          17.5   \n",
       "2             21             2  24.5          16.5          21.0   \n",
       "2             26             2  12.0          12.0          16.0   \n",
       "2             31             2  22.5          19.0          22.0   \n",
       "\n",
       "    Ref_5x5_90th  RefComposite  RefComposite_5x5_10th  RefComposite_5x5_50th  \\\n",
       "Id                                                                             \n",
       "2           10.5          15.0                   10.5                   16.5   \n",
       "2           21.0          20.5                   18.0                   20.5   \n",
       "2           24.5          24.5                   21.0                   24.0   \n",
       "2           20.0          16.5                   17.0                   19.0   \n",
       "2           25.0          26.0                   23.5                   25.5   \n",
       "\n",
       "    RefComposite_5x5_90th    ...     RhoHV_5x5_90th     Zdr  Zdr_5x5_10th  \\\n",
       "Id                           ...                                            \n",
       "2                    23.5    ...           0.998333  0.3750       -0.1250   \n",
       "2                    23.0    ...           1.001667  0.2500        0.1250   \n",
       "2                    28.0    ...           0.998333  0.2500        0.0625   \n",
       "2                    21.0    ...           0.998333  0.5625        0.2500   \n",
       "2                    27.5    ...           1.001667  0.0000       -0.1875   \n",
       "\n",
       "    Zdr_5x5_50th  Zdr_5x5_90th       Kdp  Kdp_5x5_10th  Kdp_5x5_50th  \\\n",
       "Id                                                                     \n",
       "2         0.3125        0.8750  1.059998     -1.410004     -0.350006   \n",
       "2         0.3750        0.6875  0.349991     -1.059998      0.000000   \n",
       "2         0.1875        0.5625 -0.350006     -1.059998     -0.350006   \n",
       "2         0.4375        0.6875 -1.760010     -1.760010     -0.350006   \n",
       "2         0.2500        0.6250 -1.059998     -2.120010     -0.710007   \n",
       "\n",
       "    Kdp_5x5_90th  Expected  \n",
       "Id                          \n",
       "2       1.059998     1.016  \n",
       "2       1.059998     1.016  \n",
       "2       1.759994     1.016  \n",
       "2       0.709991     1.016  \n",
       "2       0.349991     1.016  \n",
       "\n",
       "[5 rows x 23 columns]"
      ]
     },
     "execution_count": 59,
     "metadata": {},
     "output_type": "execute_result"
    }
   ],
   "source": [
    "train.head()"
   ]
  },
  {
   "cell_type": "code",
   "execution_count": 62,
   "metadata": {
    "collapsed": false
   },
   "outputs": [
    {
     "data": {
      "text/plain": [
       "count    208668.000000\n",
       "mean          6.066161\n",
       "std          30.370965\n",
       "min           0.010000\n",
       "25%           0.508000\n",
       "50%           1.778001\n",
       "75%           4.064002\n",
       "max         819.150450\n",
       "Name: Expected, dtype: float64"
      ]
     },
     "execution_count": 62,
     "metadata": {},
     "output_type": "execute_result"
    }
   ],
   "source": [
    "train[\"Expected\"].describe()"
   ]
  },
  {
   "cell_type": "markdown",
   "metadata": {},
   "source": [
    "Get rid of Nan value for now"
   ]
  },
  {
   "cell_type": "code",
   "execution_count": 298,
   "metadata": {
    "collapsed": false
   },
   "outputs": [],
   "source": [
    "train_clean = train[[not i for i in np.isnan(train[\"Ref_5x5_10th\"])]]"
   ]
  },
  {
   "cell_type": "markdown",
   "metadata": {},
   "source": [
    "*Forums indicate that a higher than 1m rainfall is probably an error. Which is quite understandable. We filter that out*"
   ]
  },
  {
   "cell_type": "code",
   "execution_count": 61,
   "metadata": {
    "collapsed": true
   },
   "outputs": [],
   "source": [
    "train = train[train['Expected'] < 1000]"
   ]
  },
  {
   "cell_type": "code",
   "execution_count": 300,
   "metadata": {
    "collapsed": false
   },
   "outputs": [
    {
     "data": {
      "text/html": [
       "<div>\n",
       "<table border=\"1\" class=\"dataframe\">\n",
       "  <thead>\n",
       "    <tr style=\"text-align: right;\">\n",
       "      <th></th>\n",
       "      <th>minutes_past</th>\n",
       "      <th>radardist_km</th>\n",
       "      <th>Ref</th>\n",
       "      <th>Ref_5x5_10th</th>\n",
       "      <th>Ref_5x5_50th</th>\n",
       "      <th>Ref_5x5_90th</th>\n",
       "      <th>RefComposite</th>\n",
       "      <th>RefComposite_5x5_10th</th>\n",
       "      <th>RefComposite_5x5_50th</th>\n",
       "      <th>RefComposite_5x5_90th</th>\n",
       "      <th>...</th>\n",
       "      <th>RhoHV_5x5_90th</th>\n",
       "      <th>Zdr</th>\n",
       "      <th>Zdr_5x5_10th</th>\n",
       "      <th>Zdr_5x5_50th</th>\n",
       "      <th>Zdr_5x5_90th</th>\n",
       "      <th>Kdp</th>\n",
       "      <th>Kdp_5x5_10th</th>\n",
       "      <th>Kdp_5x5_50th</th>\n",
       "      <th>Kdp_5x5_90th</th>\n",
       "      <th>Expected</th>\n",
       "    </tr>\n",
       "    <tr>\n",
       "      <th>Id</th>\n",
       "      <th></th>\n",
       "      <th></th>\n",
       "      <th></th>\n",
       "      <th></th>\n",
       "      <th></th>\n",
       "      <th></th>\n",
       "      <th></th>\n",
       "      <th></th>\n",
       "      <th></th>\n",
       "      <th></th>\n",
       "      <th></th>\n",
       "      <th></th>\n",
       "      <th></th>\n",
       "      <th></th>\n",
       "      <th></th>\n",
       "      <th></th>\n",
       "      <th></th>\n",
       "      <th></th>\n",
       "      <th></th>\n",
       "      <th></th>\n",
       "      <th></th>\n",
       "    </tr>\n",
       "  </thead>\n",
       "  <tbody>\n",
       "    <tr>\n",
       "      <th>2</th>\n",
       "      <td>1</td>\n",
       "      <td>2</td>\n",
       "      <td>9.0</td>\n",
       "      <td>5.0</td>\n",
       "      <td>7.5</td>\n",
       "      <td>10.5</td>\n",
       "      <td>15.0</td>\n",
       "      <td>10.5</td>\n",
       "      <td>16.5</td>\n",
       "      <td>23.5</td>\n",
       "      <td>...</td>\n",
       "      <td>0.998333</td>\n",
       "      <td>0.3750</td>\n",
       "      <td>-0.1250</td>\n",
       "      <td>0.3125</td>\n",
       "      <td>0.8750</td>\n",
       "      <td>1.059998</td>\n",
       "      <td>-1.410004</td>\n",
       "      <td>-0.350006</td>\n",
       "      <td>1.059998</td>\n",
       "      <td>1.016</td>\n",
       "    </tr>\n",
       "    <tr>\n",
       "      <th>2</th>\n",
       "      <td>6</td>\n",
       "      <td>2</td>\n",
       "      <td>26.5</td>\n",
       "      <td>22.5</td>\n",
       "      <td>25.5</td>\n",
       "      <td>31.5</td>\n",
       "      <td>26.5</td>\n",
       "      <td>26.5</td>\n",
       "      <td>28.5</td>\n",
       "      <td>32.0</td>\n",
       "      <td>...</td>\n",
       "      <td>1.005000</td>\n",
       "      <td>0.0625</td>\n",
       "      <td>-0.1875</td>\n",
       "      <td>0.2500</td>\n",
       "      <td>0.6875</td>\n",
       "      <td>NaN</td>\n",
       "      <td>NaN</td>\n",
       "      <td>NaN</td>\n",
       "      <td>1.409988</td>\n",
       "      <td>1.016</td>\n",
       "    </tr>\n",
       "    <tr>\n",
       "      <th>2</th>\n",
       "      <td>11</td>\n",
       "      <td>2</td>\n",
       "      <td>21.5</td>\n",
       "      <td>15.5</td>\n",
       "      <td>20.5</td>\n",
       "      <td>25.0</td>\n",
       "      <td>26.5</td>\n",
       "      <td>23.5</td>\n",
       "      <td>25.0</td>\n",
       "      <td>27.0</td>\n",
       "      <td>...</td>\n",
       "      <td>1.001667</td>\n",
       "      <td>0.3125</td>\n",
       "      <td>-0.0625</td>\n",
       "      <td>0.3125</td>\n",
       "      <td>0.6250</td>\n",
       "      <td>0.349991</td>\n",
       "      <td>NaN</td>\n",
       "      <td>-0.350006</td>\n",
       "      <td>1.759994</td>\n",
       "      <td>1.016</td>\n",
       "    </tr>\n",
       "    <tr>\n",
       "      <th>2</th>\n",
       "      <td>16</td>\n",
       "      <td>2</td>\n",
       "      <td>18.0</td>\n",
       "      <td>14.0</td>\n",
       "      <td>17.5</td>\n",
       "      <td>21.0</td>\n",
       "      <td>20.5</td>\n",
       "      <td>18.0</td>\n",
       "      <td>20.5</td>\n",
       "      <td>23.0</td>\n",
       "      <td>...</td>\n",
       "      <td>1.001667</td>\n",
       "      <td>0.2500</td>\n",
       "      <td>0.1250</td>\n",
       "      <td>0.3750</td>\n",
       "      <td>0.6875</td>\n",
       "      <td>0.349991</td>\n",
       "      <td>-1.059998</td>\n",
       "      <td>0.000000</td>\n",
       "      <td>1.059998</td>\n",
       "      <td>1.016</td>\n",
       "    </tr>\n",
       "    <tr>\n",
       "      <th>2</th>\n",
       "      <td>21</td>\n",
       "      <td>2</td>\n",
       "      <td>24.5</td>\n",
       "      <td>16.5</td>\n",
       "      <td>21.0</td>\n",
       "      <td>24.5</td>\n",
       "      <td>24.5</td>\n",
       "      <td>21.0</td>\n",
       "      <td>24.0</td>\n",
       "      <td>28.0</td>\n",
       "      <td>...</td>\n",
       "      <td>0.998333</td>\n",
       "      <td>0.2500</td>\n",
       "      <td>0.0625</td>\n",
       "      <td>0.1875</td>\n",
       "      <td>0.5625</td>\n",
       "      <td>-0.350006</td>\n",
       "      <td>-1.059998</td>\n",
       "      <td>-0.350006</td>\n",
       "      <td>1.759994</td>\n",
       "      <td>1.016</td>\n",
       "    </tr>\n",
       "  </tbody>\n",
       "</table>\n",
       "<p>5 rows × 23 columns</p>\n",
       "</div>"
      ],
      "text/plain": [
       "    minutes_past  radardist_km   Ref  Ref_5x5_10th  Ref_5x5_50th  \\\n",
       "Id                                                                 \n",
       "2              1             2   9.0           5.0           7.5   \n",
       "2              6             2  26.5          22.5          25.5   \n",
       "2             11             2  21.5          15.5          20.5   \n",
       "2             16             2  18.0          14.0          17.5   \n",
       "2             21             2  24.5          16.5          21.0   \n",
       "\n",
       "    Ref_5x5_90th  RefComposite  RefComposite_5x5_10th  RefComposite_5x5_50th  \\\n",
       "Id                                                                             \n",
       "2           10.5          15.0                   10.5                   16.5   \n",
       "2           31.5          26.5                   26.5                   28.5   \n",
       "2           25.0          26.5                   23.5                   25.0   \n",
       "2           21.0          20.5                   18.0                   20.5   \n",
       "2           24.5          24.5                   21.0                   24.0   \n",
       "\n",
       "    RefComposite_5x5_90th    ...     RhoHV_5x5_90th     Zdr  Zdr_5x5_10th  \\\n",
       "Id                           ...                                            \n",
       "2                    23.5    ...           0.998333  0.3750       -0.1250   \n",
       "2                    32.0    ...           1.005000  0.0625       -0.1875   \n",
       "2                    27.0    ...           1.001667  0.3125       -0.0625   \n",
       "2                    23.0    ...           1.001667  0.2500        0.1250   \n",
       "2                    28.0    ...           0.998333  0.2500        0.0625   \n",
       "\n",
       "    Zdr_5x5_50th  Zdr_5x5_90th       Kdp  Kdp_5x5_10th  Kdp_5x5_50th  \\\n",
       "Id                                                                     \n",
       "2         0.3125        0.8750  1.059998     -1.410004     -0.350006   \n",
       "2         0.2500        0.6875       NaN           NaN           NaN   \n",
       "2         0.3125        0.6250  0.349991           NaN     -0.350006   \n",
       "2         0.3750        0.6875  0.349991     -1.059998      0.000000   \n",
       "2         0.1875        0.5625 -0.350006     -1.059998     -0.350006   \n",
       "\n",
       "    Kdp_5x5_90th  Expected  \n",
       "Id                          \n",
       "2       1.059998     1.016  \n",
       "2       1.409988     1.016  \n",
       "2       1.759994     1.016  \n",
       "2       1.059998     1.016  \n",
       "2       1.759994     1.016  \n",
       "\n",
       "[5 rows x 23 columns]"
      ]
     },
     "execution_count": 300,
     "metadata": {},
     "output_type": "execute_result"
    }
   ],
   "source": [
    "train_clean.head()"
   ]
  },
  {
   "cell_type": "code",
   "execution_count": 301,
   "metadata": {
    "collapsed": false
   },
   "outputs": [
    {
     "data": {
      "text/html": [
       "<div>\n",
       "<table border=\"1\" class=\"dataframe\">\n",
       "  <thead>\n",
       "    <tr style=\"text-align: right;\">\n",
       "      <th></th>\n",
       "      <th>minutes_past</th>\n",
       "      <th>radardist_km</th>\n",
       "      <th>Ref</th>\n",
       "      <th>Ref_5x5_10th</th>\n",
       "      <th>Ref_5x5_50th</th>\n",
       "      <th>Ref_5x5_90th</th>\n",
       "      <th>RefComposite</th>\n",
       "      <th>RefComposite_5x5_10th</th>\n",
       "      <th>RefComposite_5x5_50th</th>\n",
       "      <th>RefComposite_5x5_90th</th>\n",
       "      <th>...</th>\n",
       "      <th>RhoHV_5x5_90th</th>\n",
       "      <th>Zdr</th>\n",
       "      <th>Zdr_5x5_10th</th>\n",
       "      <th>Zdr_5x5_50th</th>\n",
       "      <th>Zdr_5x5_90th</th>\n",
       "      <th>Kdp</th>\n",
       "      <th>Kdp_5x5_10th</th>\n",
       "      <th>Kdp_5x5_50th</th>\n",
       "      <th>Kdp_5x5_90th</th>\n",
       "      <th>Expected</th>\n",
       "    </tr>\n",
       "  </thead>\n",
       "  <tbody>\n",
       "    <tr>\n",
       "      <th>count</th>\n",
       "      <td>3812.000000</td>\n",
       "      <td>3812.000000</td>\n",
       "      <td>3797.000000</td>\n",
       "      <td>3812.000000</td>\n",
       "      <td>3812.000000</td>\n",
       "      <td>3812.000000</td>\n",
       "      <td>3808.000000</td>\n",
       "      <td>3812.000000</td>\n",
       "      <td>3812.000000</td>\n",
       "      <td>3812.000000</td>\n",
       "      <td>...</td>\n",
       "      <td>2948.000000</td>\n",
       "      <td>2676.000000</td>\n",
       "      <td>2438.000000</td>\n",
       "      <td>2702.000000</td>\n",
       "      <td>2948.000000</td>\n",
       "      <td>2353.000000</td>\n",
       "      <td>2053.000000</td>\n",
       "      <td>2368.000000</td>\n",
       "      <td>2659.000000</td>\n",
       "      <td>3812.000000</td>\n",
       "    </tr>\n",
       "    <tr>\n",
       "      <th>mean</th>\n",
       "      <td>28.244229</td>\n",
       "      <td>9.170252</td>\n",
       "      <td>25.106795</td>\n",
       "      <td>20.418547</td>\n",
       "      <td>24.881689</td>\n",
       "      <td>29.860047</td>\n",
       "      <td>28.023241</td>\n",
       "      <td>23.976784</td>\n",
       "      <td>27.745278</td>\n",
       "      <td>32.286070</td>\n",
       "      <td>...</td>\n",
       "      <td>1.013353</td>\n",
       "      <td>0.594264</td>\n",
       "      <td>-0.535634</td>\n",
       "      <td>0.484572</td>\n",
       "      <td>1.988149</td>\n",
       "      <td>0.069932</td>\n",
       "      <td>-3.233701</td>\n",
       "      <td>-0.346879</td>\n",
       "      <td>3.745275</td>\n",
       "      <td>5.001385</td>\n",
       "    </tr>\n",
       "    <tr>\n",
       "      <th>std</th>\n",
       "      <td>17.005761</td>\n",
       "      <td>4.335888</td>\n",
       "      <td>9.680764</td>\n",
       "      <td>9.300325</td>\n",
       "      <td>9.236536</td>\n",
       "      <td>9.363145</td>\n",
       "      <td>9.485070</td>\n",
       "      <td>9.062861</td>\n",
       "      <td>9.082043</td>\n",
       "      <td>9.369318</td>\n",
       "      <td>...</td>\n",
       "      <td>0.028922</td>\n",
       "      <td>1.338388</td>\n",
       "      <td>0.994839</td>\n",
       "      <td>0.793003</td>\n",
       "      <td>1.426959</td>\n",
       "      <td>3.409249</td>\n",
       "      <td>2.734048</td>\n",
       "      <td>2.035334</td>\n",
       "      <td>3.826471</td>\n",
       "      <td>20.272453</td>\n",
       "    </tr>\n",
       "    <tr>\n",
       "      <th>min</th>\n",
       "      <td>0.000000</td>\n",
       "      <td>0.000000</td>\n",
       "      <td>-19.000000</td>\n",
       "      <td>-23.000000</td>\n",
       "      <td>-17.500000</td>\n",
       "      <td>-4.500000</td>\n",
       "      <td>-11.500000</td>\n",
       "      <td>-21.000000</td>\n",
       "      <td>-13.500000</td>\n",
       "      <td>-4.000000</td>\n",
       "      <td>...</td>\n",
       "      <td>0.645000</td>\n",
       "      <td>-7.875000</td>\n",
       "      <td>-7.875000</td>\n",
       "      <td>-7.000000</td>\n",
       "      <td>-3.687500</td>\n",
       "      <td>-23.870010</td>\n",
       "      <td>-35.640000</td>\n",
       "      <td>-43.839996</td>\n",
       "      <td>-35.180008</td>\n",
       "      <td>0.010000</td>\n",
       "    </tr>\n",
       "    <tr>\n",
       "      <th>25%</th>\n",
       "      <td>13.000000</td>\n",
       "      <td>6.000000</td>\n",
       "      <td>19.500000</td>\n",
       "      <td>15.000000</td>\n",
       "      <td>20.000000</td>\n",
       "      <td>24.500000</td>\n",
       "      <td>22.500000</td>\n",
       "      <td>19.000000</td>\n",
       "      <td>22.500000</td>\n",
       "      <td>26.500000</td>\n",
       "      <td>...</td>\n",
       "      <td>0.995000</td>\n",
       "      <td>-0.062500</td>\n",
       "      <td>-1.000000</td>\n",
       "      <td>0.062500</td>\n",
       "      <td>1.125000</td>\n",
       "      <td>-1.400009</td>\n",
       "      <td>-4.220001</td>\n",
       "      <td>-0.710007</td>\n",
       "      <td>1.759994</td>\n",
       "      <td>0.508000</td>\n",
       "    </tr>\n",
       "    <tr>\n",
       "      <th>50%</th>\n",
       "      <td>28.000000</td>\n",
       "      <td>10.000000</td>\n",
       "      <td>25.500000</td>\n",
       "      <td>21.000000</td>\n",
       "      <td>25.000000</td>\n",
       "      <td>30.000000</td>\n",
       "      <td>28.000000</td>\n",
       "      <td>24.000000</td>\n",
       "      <td>28.000000</td>\n",
       "      <td>32.500000</td>\n",
       "      <td>...</td>\n",
       "      <td>0.998333</td>\n",
       "      <td>0.500000</td>\n",
       "      <td>-0.437500</td>\n",
       "      <td>0.437500</td>\n",
       "      <td>1.687500</td>\n",
       "      <td>0.000000</td>\n",
       "      <td>-2.470001</td>\n",
       "      <td>0.000000</td>\n",
       "      <td>3.169998</td>\n",
       "      <td>1.778001</td>\n",
       "    </tr>\n",
       "    <tr>\n",
       "      <th>75%</th>\n",
       "      <td>42.000000</td>\n",
       "      <td>12.000000</td>\n",
       "      <td>31.500000</td>\n",
       "      <td>26.500000</td>\n",
       "      <td>31.000000</td>\n",
       "      <td>36.000000</td>\n",
       "      <td>34.000000</td>\n",
       "      <td>30.000000</td>\n",
       "      <td>33.500000</td>\n",
       "      <td>38.000000</td>\n",
       "      <td>...</td>\n",
       "      <td>1.051667</td>\n",
       "      <td>1.125000</td>\n",
       "      <td>0.062500</td>\n",
       "      <td>0.812500</td>\n",
       "      <td>2.500000</td>\n",
       "      <td>1.729996</td>\n",
       "      <td>-1.410004</td>\n",
       "      <td>0.349991</td>\n",
       "      <td>5.279999</td>\n",
       "      <td>3.810002</td>\n",
       "    </tr>\n",
       "    <tr>\n",
       "      <th>max</th>\n",
       "      <td>59.000000</td>\n",
       "      <td>20.000000</td>\n",
       "      <td>61.500000</td>\n",
       "      <td>57.000000</td>\n",
       "      <td>61.500000</td>\n",
       "      <td>66.500000</td>\n",
       "      <td>68.000000</td>\n",
       "      <td>59.500000</td>\n",
       "      <td>64.000000</td>\n",
       "      <td>68.000000</td>\n",
       "      <td>...</td>\n",
       "      <td>1.051667</td>\n",
       "      <td>7.937500</td>\n",
       "      <td>2.625000</td>\n",
       "      <td>7.937500</td>\n",
       "      <td>7.937500</td>\n",
       "      <td>19.319992</td>\n",
       "      <td>1.059998</td>\n",
       "      <td>4.190002</td>\n",
       "      <td>43.209990</td>\n",
       "      <td>876.300500</td>\n",
       "    </tr>\n",
       "  </tbody>\n",
       "</table>\n",
       "<p>8 rows × 23 columns</p>\n",
       "</div>"
      ],
      "text/plain": [
       "       minutes_past  radardist_km          Ref  Ref_5x5_10th  Ref_5x5_50th  \\\n",
       "count   3812.000000   3812.000000  3797.000000   3812.000000   3812.000000   \n",
       "mean      28.244229      9.170252    25.106795     20.418547     24.881689   \n",
       "std       17.005761      4.335888     9.680764      9.300325      9.236536   \n",
       "min        0.000000      0.000000   -19.000000    -23.000000    -17.500000   \n",
       "25%       13.000000      6.000000    19.500000     15.000000     20.000000   \n",
       "50%       28.000000     10.000000    25.500000     21.000000     25.000000   \n",
       "75%       42.000000     12.000000    31.500000     26.500000     31.000000   \n",
       "max       59.000000     20.000000    61.500000     57.000000     61.500000   \n",
       "\n",
       "       Ref_5x5_90th  RefComposite  RefComposite_5x5_10th  \\\n",
       "count   3812.000000   3808.000000            3812.000000   \n",
       "mean      29.860047     28.023241              23.976784   \n",
       "std        9.363145      9.485070               9.062861   \n",
       "min       -4.500000    -11.500000             -21.000000   \n",
       "25%       24.500000     22.500000              19.000000   \n",
       "50%       30.000000     28.000000              24.000000   \n",
       "75%       36.000000     34.000000              30.000000   \n",
       "max       66.500000     68.000000              59.500000   \n",
       "\n",
       "       RefComposite_5x5_50th  RefComposite_5x5_90th     ...       \\\n",
       "count            3812.000000            3812.000000     ...        \n",
       "mean               27.745278              32.286070     ...        \n",
       "std                 9.082043               9.369318     ...        \n",
       "min               -13.500000              -4.000000     ...        \n",
       "25%                22.500000              26.500000     ...        \n",
       "50%                28.000000              32.500000     ...        \n",
       "75%                33.500000              38.000000     ...        \n",
       "max                64.000000              68.000000     ...        \n",
       "\n",
       "       RhoHV_5x5_90th          Zdr  Zdr_5x5_10th  Zdr_5x5_50th  Zdr_5x5_90th  \\\n",
       "count     2948.000000  2676.000000   2438.000000   2702.000000   2948.000000   \n",
       "mean         1.013353     0.594264     -0.535634      0.484572      1.988149   \n",
       "std          0.028922     1.338388      0.994839      0.793003      1.426959   \n",
       "min          0.645000    -7.875000     -7.875000     -7.000000     -3.687500   \n",
       "25%          0.995000    -0.062500     -1.000000      0.062500      1.125000   \n",
       "50%          0.998333     0.500000     -0.437500      0.437500      1.687500   \n",
       "75%          1.051667     1.125000      0.062500      0.812500      2.500000   \n",
       "max          1.051667     7.937500      2.625000      7.937500      7.937500   \n",
       "\n",
       "               Kdp  Kdp_5x5_10th  Kdp_5x5_50th  Kdp_5x5_90th     Expected  \n",
       "count  2353.000000   2053.000000   2368.000000   2659.000000  3812.000000  \n",
       "mean      0.069932     -3.233701     -0.346879      3.745275     5.001385  \n",
       "std       3.409249      2.734048      2.035334      3.826471    20.272453  \n",
       "min     -23.870010    -35.640000    -43.839996    -35.180008     0.010000  \n",
       "25%      -1.400009     -4.220001     -0.710007      1.759994     0.508000  \n",
       "50%       0.000000     -2.470001      0.000000      3.169998     1.778001  \n",
       "75%       1.729996     -1.410004      0.349991      5.279999     3.810002  \n",
       "max      19.319992      1.059998      4.190002     43.209990   876.300500  \n",
       "\n",
       "[8 rows x 23 columns]"
      ]
     },
     "execution_count": 301,
     "metadata": {},
     "output_type": "execute_result"
    }
   ],
   "source": [
    "train_clean.describe()"
   ]
  },
  {
   "cell_type": "code",
   "execution_count": 49,
   "metadata": {
    "collapsed": false
   },
   "outputs": [
    {
     "data": {
      "text/plain": [
       "count    3812.000000\n",
       "mean        5.001385\n",
       "std        20.272453\n",
       "min         0.010000\n",
       "25%         0.508000\n",
       "50%         1.778001\n",
       "75%         3.810002\n",
       "max       876.300500\n",
       "Name: Expected, dtype: float64"
      ]
     },
     "execution_count": 49,
     "metadata": {},
     "output_type": "execute_result"
    }
   ],
   "source": [
    "train_clean['Expected'].describe()"
   ]
  },
  {
   "cell_type": "markdown",
   "metadata": {},
   "source": [
    "---\n",
    "\n",
    "_Memento  (mauri)_\n",
    "\n",
    "---\n"
   ]
  },
  {
   "cell_type": "raw",
   "metadata": {},
   "source": [
    "# swap litteral values\n",
    "train_df[\"Sex\"] = train_df[\"Sex\"].apply(lambda sex: 0 if sex == \"male\" else 1)\n",
    "\n",
    "def replace_non_numeric(df):\n",
    "    df[\"Sex\"] = df[\"Sex\"].apply(lambda sex: 0 if sex == \"male\" else 1)\n",
    "    return df"
   ]
  },
  {
   "cell_type": "markdown",
   "metadata": {
    "collapsed": true
   },
   "source": [
    "---"
   ]
  },
  {
   "cell_type": "code",
   "execution_count": null,
   "metadata": {
    "collapsed": true
   },
   "outputs": [],
   "source": [
    "RandomForestRegressor()"
   ]
  },
  {
   "cell_type": "raw",
   "metadata": {
    "collapsed": true
   },
   "source": [
    "import pandas as pd\n",
    "from sklearn.ensemble import ExtraTreesClassifier\n",
    "from sklearn.cross_validation import cross_val_score\n",
    " \n",
    "train_df = pd.read_csv(\"train.csv\")\n",
    " \n",
    "et = ExtraTreesClassifier(n_estimators=100, max_depth=None, min_samples_split=1, random_state=0)\n",
    " \n",
    "columns = [\"Fare\", \"Pclass\"]\n",
    " \n",
    "labels = train_df[\"Survived\"].values\n",
    "features = train_df[list(columns)].values\n",
    " \n",
    "et_score = cross_val_score(et, features, labels, n_jobs=-1).mean()\n",
    " \n",
    "print(\"{0} -> ET: {1})\".format(columns, et_score))"
   ]
  },
  {
   "cell_type": "code",
   "execution_count": 54,
   "metadata": {
    "collapsed": true
   },
   "outputs": [],
   "source": [
    "etreg = ExtraTreesRegressor(n_estimators=100, max_depth=None, min_samples_split=1, random_state=0)"
   ]
  },
  {
   "cell_type": "code",
   "execution_count": 294,
   "metadata": {
    "collapsed": true
   },
   "outputs": [],
   "source": [
    "\"\"\"\n",
    "columns = train_clean.columns\n",
    "columns = [\"minutes_past\",\"radardist_km\",\"Ref\",\"Ref_5x5_10th\", \"Ref_5x5_50th\"]\n",
    "columns = [u'Id', u'minutes_past', u'radardist_km', u'Ref', u'Ref_5x5_10th',\n",
    "       u'Ref_5x5_50th', u'Ref_5x5_90th', u'RefComposite',\n",
    "       u'RefComposite_5x5_10th', u'RefComposite_5x5_50th',\n",
    "       u'RefComposite_5x5_90th', u'RhoHV', u'RhoHV_5x5_10th',\n",
    "       u'RhoHV_5x5_50th', u'RhoHV_5x5_90th', u'Zdr', u'Zdr_5x5_10th',\n",
    "       u'Zdr_5x5_50th', u'Zdr_5x5_90th', u'Kdp', u'Kdp_5x5_10th',\n",
    "       u'Kdp_5x5_50th', u'Kdp_5x5_90th', u'Expected']\n",
    "\"\"\"\n",
    "columns = [u'minutes_past', u'radardist_km', u'Ref', u'Ref_5x5_10th',\n",
    "       u'Ref_5x5_50th', u'Ref_5x5_90th', u'RefComposite',\n",
    "       u'RefComposite_5x5_10th', u'RefComposite_5x5_50th',\n",
    "       u'RefComposite_5x5_90th', u'RhoHV', u'RhoHV_5x5_10th',\n",
    "       u'RhoHV_5x5_50th', u'RhoHV_5x5_90th', u'Zdr', u'Zdr_5x5_10th',\n",
    "       u'Zdr_5x5_50th', u'Zdr_5x5_90th', u'Kdp', u'Kdp_5x5_10th',\n",
    "       u'Kdp_5x5_50th', u'Kdp_5x5_90th']\n",
    " \n",
    "labels = train_clean[\"Expected\"].values\n",
    "features = train_clean[list(columns)].values"
   ]
  },
  {
   "cell_type": "code",
   "execution_count": 295,
   "metadata": {
    "collapsed": false
   },
   "outputs": [],
   "source": [
    "imp = Imputer(missing_values='NaN', strategy='mean', axis=0)\n",
    "imp.fit(features)\n",
    "features_trans = imp.transform(features)"
   ]
  },
  {
   "cell_type": "code",
   "execution_count": 138,
   "metadata": {
    "collapsed": false
   },
   "outputs": [],
   "source": [
    "ftrain = features_trans[:3000]\n",
    "ltrain = labels[:3000]\n",
    "ftest = features_trans[3000:]\n",
    "ltest = labels[3000:]"
   ]
  },
  {
   "cell_type": "code",
   "execution_count": 139,
   "metadata": {
    "collapsed": false
   },
   "outputs": [
    {
     "name": "stdout",
     "output_type": "stream",
     "text": [
      "CPU times: user 1.25 s, sys: 42.6 ms, total: 1.3 s\n",
      "Wall time: 1.3 s\n"
     ]
    },
    {
     "data": {
      "text/plain": [
       "ExtraTreesRegressor(bootstrap=False, criterion='mse', max_depth=None,\n",
       "          max_features='auto', max_leaf_nodes=None, min_samples_leaf=1,\n",
       "          min_samples_split=1, min_weight_fraction_leaf=0.0,\n",
       "          n_estimators=100, n_jobs=1, oob_score=False, random_state=0,\n",
       "          verbose=0, warm_start=False)"
      ]
     },
     "execution_count": 139,
     "metadata": {},
     "output_type": "execute_result"
    }
   ],
   "source": [
    "%%time\n",
    "etreg.fit(ftrain,ltrain)"
   ]
  },
  {
   "cell_type": "code",
   "execution_count": 89,
   "metadata": {
    "collapsed": true
   },
   "outputs": [],
   "source": [
    "def scorer(estimator, X, y):\n",
    "    return (estimator.predict(X[0])-y)**2"
   ]
  },
  {
   "cell_type": "code",
   "execution_count": 140,
   "metadata": {
    "collapsed": false
   },
   "outputs": [
    {
     "name": "stdout",
     "output_type": "stream",
     "text": [
      "Features: [u'minutes_past', u'radardist_km', u'Ref', u'Ref_5x5_10th', u'Ref_5x5_50th', u'Ref_5x5_90th', u'RefComposite', u'RefComposite_5x5_10th', u'RefComposite_5x5_50th', u'RefComposite_5x5_90th', u'RhoHV', u'RhoHV_5x5_10th', u'RhoHV_5x5_50th', u'RhoHV_5x5_90th', u'Zdr', u'Zdr_5x5_10th', u'Zdr_5x5_50th', u'Zdr_5x5_90th', u'Kdp', u'Kdp_5x5_10th', u'Kdp_5x5_50th', u'Kdp_5x5_90th']\n",
      "Score: [ -2.26736705e-03   7.75750100e-01  -3.28141465e+00   1.32098540e-01\n",
      "  -6.60898231e+00]\tMean: -1.797)\n",
      "CPU times: user 6.21 s, sys: 146 ms, total: 6.35 s\n",
      "Wall time: 6.35 s\n"
     ]
    }
   ],
   "source": [
    "%%time\n",
    "et_score = cross_val_score(etreg, features_trans, labels, cv=5)\n",
    " \n",
    "print(\"Features: %s\\nScore: %s\\tMean: %.03f\"%(columns, et_score,et_score.mean()))"
   ]
  },
  {
   "cell_type": "code",
   "execution_count": 141,
   "metadata": {
    "collapsed": false
   },
   "outputs": [
    {
     "name": "stdout",
     "output_type": "stream",
     "text": [
      "2910\n",
      "[ 6.858004]\n",
      "6.858004\n"
     ]
    }
   ],
   "source": [
    "r = random.randrange(len(ltrain))\n",
    "print(r)\n",
    "print(etreg.predict(ftrain[r]))\n",
    "print(ltrain[r])"
   ]
  },
  {
   "cell_type": "code",
   "execution_count": 153,
   "metadata": {
    "collapsed": false
   },
   "outputs": [
    {
     "name": "stdout",
     "output_type": "stream",
     "text": [
      "654\n",
      "[ 3.90697198]\n",
      "2.7940013\n"
     ]
    }
   ],
   "source": [
    "r = random.randrange(len(ltest))\n",
    "print(r)\n",
    "print(etreg.predict(ftest[r]))\n",
    "print(ltest[r])"
   ]
  },
  {
   "cell_type": "code",
   "execution_count": 143,
   "metadata": {
    "collapsed": false
   },
   "outputs": [],
   "source": [
    "err = (etreg.predict(ftest)-ltest)**2"
   ]
  },
  {
   "cell_type": "code",
   "execution_count": 144,
   "metadata": {
    "collapsed": false
   },
   "outputs": [
    {
     "data": {
      "text/plain": [
       "196.01609423033887"
      ]
     },
     "execution_count": 144,
     "metadata": {},
     "output_type": "execute_result"
    }
   ],
   "source": [
    "err.sum()/len(err)"
   ]
  },
  {
   "cell_type": "markdown",
   "metadata": {},
   "source": [
    "---\n",
    "\n",
    "Submit\n",
    "\n",
    "---"
   ]
  },
  {
   "cell_type": "code",
   "execution_count": 154,
   "metadata": {
    "collapsed": true
   },
   "outputs": [],
   "source": [
    "filename = \"data/reduced_test_5000.csv\"\n",
    "test = pd.read_csv(filename)"
   ]
  },
  {
   "cell_type": "code",
   "execution_count": 164,
   "metadata": {
    "collapsed": true
   },
   "outputs": [],
   "source": [
    "columns = [u'minutes_past', u'radardist_km', u'Ref', u'Ref_5x5_10th',\n",
    "       u'Ref_5x5_50th', u'Ref_5x5_90th', u'RefComposite',\n",
    "       u'RefComposite_5x5_10th', u'RefComposite_5x5_50th',\n",
    "       u'RefComposite_5x5_90th', u'RhoHV', u'RhoHV_5x5_10th',\n",
    "       u'RhoHV_5x5_50th', u'RhoHV_5x5_90th', u'Zdr', u'Zdr_5x5_10th',\n",
    "       u'Zdr_5x5_50th', u'Zdr_5x5_90th', u'Kdp', u'Kdp_5x5_10th',\n",
    "       u'Kdp_5x5_50th', u'Kdp_5x5_90th']\n",
    "features = test[list(columns)].values"
   ]
  },
  {
   "cell_type": "code",
   "execution_count": 165,
   "metadata": {
    "collapsed": true
   },
   "outputs": [],
   "source": [
    "imp = Imputer(missing_values='NaN', strategy='mean', axis=0)\n",
    "imp.fit(features)\n",
    "features_trans = imp.transform(features)"
   ]
  },
  {
   "cell_type": "code",
   "execution_count": 166,
   "metadata": {
    "collapsed": true
   },
   "outputs": [],
   "source": [
    "fall = test[test.columns].values"
   ]
  },
  {
   "cell_type": "code",
   "execution_count": 177,
   "metadata": {
    "collapsed": false
   },
   "outputs": [
    {
     "data": {
      "text/plain": [
       "array([  2.,  12.,  15.,  nan,  nan,  nan,  nan,  nan,  nan,  nan,  nan,\n",
       "        nan,  nan,  nan,  nan,  nan,  nan,  nan,  nan,  nan,  nan,  nan,\n",
       "        nan])"
      ]
     },
     "execution_count": 177,
     "metadata": {},
     "output_type": "execute_result"
    }
   ],
   "source": [
    "fall[20]"
   ]
  },
  {
   "cell_type": "code",
   "execution_count": 173,
   "metadata": {
    "collapsed": false
   },
   "outputs": [
    {
     "data": {
      "text/plain": [
       "array([  1.        ,   8.        ,  22.41518913,  19.80155642,\n",
       "        22.10491607,  14.        ,  24.05639308,  21.99042553,\n",
       "        23.72933182,  15.        ,   0.98224537,   0.93533269,\n",
       "         0.98130561,   1.01558046,   0.47618814,  -0.66830184,\n",
       "         0.24352433,   1.84881703,   0.33119267,  -3.23234445,\n",
       "        -0.39269493,   3.89739166])"
      ]
     },
     "execution_count": 173,
     "metadata": {},
     "output_type": "execute_result"
    }
   ],
   "source": [
    "features_trans[0]"
   ]
  },
  {
   "cell_type": "code",
   "execution_count": 188,
   "metadata": {
    "collapsed": false
   },
   "outputs": [
    {
     "name": "stdout",
     "output_type": "stream",
     "text": [
      "17\n"
     ]
    }
   ],
   "source": [
    "i = 1\n",
    "pred = 0\n",
    "while fall[i][0] == 1:\n",
    "    #print(fall[i])\n",
    "    pred+=etreg.predict(features_trans[i])[0]\n",
    "    #print(etreg.predict(features_trans[i])[0])\n",
    "    i+=1\n",
    "print(i)"
   ]
  },
  {
   "cell_type": "code",
   "execution_count": 192,
   "metadata": {
    "collapsed": false
   },
   "outputs": [
    {
     "data": {
      "text/plain": [
       "460.0"
      ]
     },
     "execution_count": 192,
     "metadata": {},
     "output_type": "execute_result"
    }
   ],
   "source": [
    "fall[-1][0]"
   ]
  },
  {
   "cell_type": "code",
   "execution_count": 202,
   "metadata": {
    "collapsed": false
   },
   "outputs": [
    {
     "name": "stdout",
     "output_type": "stream",
     "text": [
      "CPU times: user 11.9 s, sys: 47.2 ms, total: 11.9 s\n",
      "Wall time: 12 s\n"
     ]
    }
   ],
   "source": [
    "%%time\n",
    "res=[]\n",
    "i=0\n",
    "while i<len(fall) and i < 10000:\n",
    "    pred = 0\n",
    "    lenn = 0\n",
    "    curr=fall[i][0]\n",
    "    while i<len(fall) and fall[i][0] == curr:\n",
    "        #print(fall[i])\n",
    "        pred+=etreg.predict(features_trans[i])[0]\n",
    "        #print(etreg.predict(features_trans[i])[0])\n",
    "        i+=1\n",
    "        lenn += 1\n",
    "    res.append((curr,pred/lenn))\n",
    "    #i+=1\n",
    "    #print(i)"
   ]
  },
  {
   "cell_type": "code",
   "execution_count": 199,
   "metadata": {
    "collapsed": false
   },
   "outputs": [
    {
     "data": {
      "text/plain": [
       "460"
      ]
     },
     "execution_count": 199,
     "metadata": {},
     "output_type": "execute_result"
    }
   ],
   "source": [
    "len(res)"
   ]
  },
  {
   "cell_type": "code",
   "execution_count": 203,
   "metadata": {
    "collapsed": false
   },
   "outputs": [
    {
     "data": {
      "text/plain": [
       "[(1.0, 2.1142275617605883),\n",
       " (2.0, 1.0368167780596871),\n",
       " (3.0, 6.6831796034460016),\n",
       " (4.0, 7.0145211283436399),\n",
       " (5.0, 2.3839445058508328),\n",
       " (6.0, 3.2730617268046158),\n",
       " (7.0, 4.1804031388372724),\n",
       " (8.0, 1.9472981445571425),\n",
       " (9.0, 1.0272548098142853),\n",
       " (10.0, 8.0115426694183345)]"
      ]
     },
     "execution_count": 203,
     "metadata": {},
     "output_type": "execute_result"
    }
   ],
   "source": [
    "res[:10]"
   ]
  },
  {
   "cell_type": "code",
   "execution_count": 228,
   "metadata": {
    "collapsed": true
   },
   "outputs": [],
   "source": [
    "def myfunc(hour):\n",
    "    #rowid = hour['Id'].iloc[0]\n",
    "    # sort hour by minutes_past\n",
    "    hour = hour.sort('minutes_past', ascending=True)\n",
    "    #est = (hour['Id'],random.random())\n",
    "    est = random.random()\n",
    "    return est"
   ]
  },
  {
   "cell_type": "code",
   "execution_count": 275,
   "metadata": {
    "collapsed": false
   },
   "outputs": [],
   "source": [
    "def marshall_palmer(ref, minutes_past):\n",
    "    #print(\"Estimating rainfall from {0} observations\".format(len(minutes_past)))\n",
    "    # how long is each observation valid?\n",
    "    valid_time = np.zeros_like(minutes_past)\n",
    "    valid_time[0] = minutes_past.iloc[0]\n",
    "    for n in xrange(1, len(minutes_past)):\n",
    "        valid_time[n] = minutes_past.iloc[n] - minutes_past.iloc[n-1]\n",
    "    valid_time[-1] = valid_time[-1] + 60 - np.sum(valid_time)\n",
    "    valid_time = valid_time / 60.0\n",
    "\n",
    "    # sum up rainrate * validtime\n",
    "    sum = 0\n",
    "    for dbz, hours in zip(ref, valid_time):\n",
    "        # See: https://en.wikipedia.org/wiki/DBZ_(meteorology)\n",
    "        if np.isfinite(dbz):\n",
    "            mmperhr = pow(pow(10, dbz/10)/200, 0.625)\n",
    "            sum = sum + mmperhr * hours\n",
    "    return sum\n",
    "\n",
    "\n",
    "def simplesum(ref,hour):\n",
    "    hour.sum()\n",
    "\n",
    "# each unique Id is an hour of data at some gauge\n",
    "def myfunc(hour):\n",
    "    #rowid = hour['Id'].iloc[0]\n",
    "    # sort hour by minutes_past\n",
    "    hour = hour.sort('minutes_past', ascending=True)\n",
    "    est = marshall_palmer(hour['Ref'], hour['minutes_past'])\n",
    "    return est"
   ]
  },
  {
   "cell_type": "code",
   "execution_count": 276,
   "metadata": {
    "collapsed": false
   },
   "outputs": [],
   "source": [
    "estimates = train.groupby(train.index).apply(myfunc)\n",
    "estimates.head(20)"
   ]
  },
  {
   "cell_type": "code",
   "execution_count": 241,
   "metadata": {
    "collapsed": false
   },
   "outputs": [
    {
     "data": {
      "text/plain": [
       "0      0.254000\n",
       "1      0.254000\n",
       "2      0.254000\n",
       "3      0.254000\n",
       "4      0.254000\n",
       "5      0.254000\n",
       "6      1.016000\n",
       "7      1.016000\n",
       "8      1.016000\n",
       "9      1.016000\n",
       "10     1.016000\n",
       "11     1.016000\n",
       "12     1.016000\n",
       "13     1.016000\n",
       "14     1.016000\n",
       "15     1.016000\n",
       "16     1.016000\n",
       "17     1.016000\n",
       "18    26.162014\n",
       "19    26.162014\n",
       "Name: Expected, dtype: float64"
      ]
     },
     "execution_count": 241,
     "metadata": {},
     "output_type": "execute_result"
    }
   ],
   "source": [
    "train[\"Expected\"].head(20)"
   ]
  },
  {
   "cell_type": "code",
   "execution_count": null,
   "metadata": {
    "collapsed": true
   },
   "outputs": [],
   "source": [
    "res=[]\n",
    "for i in fall:\n",
    "    pred = 0\n",
    "    curr=i[0]\n",
    "    while fall[i][0] == 1:\n",
    "        #print(fall[i])\n",
    "        pred+=etreg.predict(features_trans[i])[0]\n",
    "        #print(etreg.predict(features_trans[i])[0])\n",
    "        i+=1\n",
    "    print(i)"
   ]
  },
  {
   "cell_type": "code",
   "execution_count": 178,
   "metadata": {
    "collapsed": false
   },
   "outputs": [
    {
     "data": {
      "text/plain": [
       "array([ 2.08148106])"
      ]
     },
     "execution_count": 178,
     "metadata": {},
     "output_type": "execute_result"
    }
   ],
   "source": [
    "etreg.predict(features_trans[0])"
   ]
  },
  {
   "cell_type": "code",
   "execution_count": 291,
   "metadata": {
    "collapsed": true
   },
   "outputs": [],
   "source": [
    "def marshall_palmer(data):\n",
    "    res=[]\n",
    "    for n in data:\n",
    "        res.append(etreg.predict(n)[0])\n",
    "    return np.array(res).mean()\n",
    "\n",
    "\n",
    "def simplesum(ref,hour):\n",
    "    hour.sum()\n",
    "\n",
    "def myfunc(hour):\n",
    "    hour = hour.sort('minutes_past', ascending=True)\n",
    "    est = marshall_palmer(hour[train.columns])\n",
    "    return est"
   ]
  },
  {
   "cell_type": "code",
   "execution_count": 302,
   "metadata": {
    "collapsed": true
   },
   "outputs": [
    {
     "ename": "ValueError",
     "evalue": "could not convert string to float: minutes_past",
     "output_type": "error",
     "traceback": [
      "\u001b[0;31m---------------------------------------------------------------------------\u001b[0m",
      "\u001b[0;31mValueError\u001b[0m                                Traceback (most recent call last)",
      "\u001b[0;32m<ipython-input-302-edc026cfb441>\u001b[0m in \u001b[0;36m<module>\u001b[0;34m()\u001b[0m\n\u001b[0;32m----> 1\u001b[0;31m \u001b[0mestimates\u001b[0m \u001b[0;34m=\u001b[0m \u001b[0mtrain_clean\u001b[0m\u001b[0;34m.\u001b[0m\u001b[0mgroupby\u001b[0m\u001b[0;34m(\u001b[0m\u001b[0mtrain_clean\u001b[0m\u001b[0;34m.\u001b[0m\u001b[0mindex\u001b[0m\u001b[0;34m)\u001b[0m\u001b[0;34m.\u001b[0m\u001b[0mapply\u001b[0m\u001b[0;34m(\u001b[0m\u001b[0mmyfunc\u001b[0m\u001b[0;34m)\u001b[0m\u001b[0;34m\u001b[0m\u001b[0m\n\u001b[0m\u001b[1;32m      2\u001b[0m \u001b[0mestimates\u001b[0m\u001b[0;34m.\u001b[0m\u001b[0mhead\u001b[0m\u001b[0;34m(\u001b[0m\u001b[0;36m20\u001b[0m\u001b[0;34m)\u001b[0m\u001b[0;34m\u001b[0m\u001b[0m\n",
      "\u001b[0;32m/Library/Python/2.7/site-packages/pandas/core/groupby.pyc\u001b[0m in \u001b[0;36mapply\u001b[0;34m(self, func, *args, **kwargs)\u001b[0m\n\u001b[1;32m    669\u001b[0m         \u001b[0;31m# ignore SettingWithCopy here in case the user mutates\u001b[0m\u001b[0;34m\u001b[0m\u001b[0;34m\u001b[0m\u001b[0m\n\u001b[1;32m    670\u001b[0m         \u001b[0;32mwith\u001b[0m \u001b[0moption_context\u001b[0m\u001b[0;34m(\u001b[0m\u001b[0;34m'mode.chained_assignment'\u001b[0m\u001b[0;34m,\u001b[0m\u001b[0mNone\u001b[0m\u001b[0;34m)\u001b[0m\u001b[0;34m:\u001b[0m\u001b[0;34m\u001b[0m\u001b[0m\n\u001b[0;32m--> 671\u001b[0;31m             \u001b[0;32mreturn\u001b[0m \u001b[0mself\u001b[0m\u001b[0;34m.\u001b[0m\u001b[0m_python_apply_general\u001b[0m\u001b[0;34m(\u001b[0m\u001b[0mf\u001b[0m\u001b[0;34m)\u001b[0m\u001b[0;34m\u001b[0m\u001b[0m\n\u001b[0m\u001b[1;32m    672\u001b[0m \u001b[0;34m\u001b[0m\u001b[0m\n\u001b[1;32m    673\u001b[0m     \u001b[0;32mdef\u001b[0m \u001b[0m_python_apply_general\u001b[0m\u001b[0;34m(\u001b[0m\u001b[0mself\u001b[0m\u001b[0;34m,\u001b[0m \u001b[0mf\u001b[0m\u001b[0;34m)\u001b[0m\u001b[0;34m:\u001b[0m\u001b[0;34m\u001b[0m\u001b[0m\n",
      "\u001b[0;32m/Library/Python/2.7/site-packages/pandas/core/groupby.pyc\u001b[0m in \u001b[0;36m_python_apply_general\u001b[0;34m(self, f)\u001b[0m\n\u001b[1;32m    673\u001b[0m     \u001b[0;32mdef\u001b[0m \u001b[0m_python_apply_general\u001b[0m\u001b[0;34m(\u001b[0m\u001b[0mself\u001b[0m\u001b[0;34m,\u001b[0m \u001b[0mf\u001b[0m\u001b[0;34m)\u001b[0m\u001b[0;34m:\u001b[0m\u001b[0;34m\u001b[0m\u001b[0m\n\u001b[1;32m    674\u001b[0m         keys, values, mutated = self.grouper.apply(f, self._selected_obj,\n\u001b[0;32m--> 675\u001b[0;31m                                                    self.axis)\n\u001b[0m\u001b[1;32m    676\u001b[0m \u001b[0;34m\u001b[0m\u001b[0m\n\u001b[1;32m    677\u001b[0m         return self._wrap_applied_output(keys, values,\n",
      "\u001b[0;32m/Library/Python/2.7/site-packages/pandas/core/groupby.pyc\u001b[0m in \u001b[0;36mapply\u001b[0;34m(self, f, data, axis)\u001b[0m\n\u001b[1;32m   1292\u001b[0m             \u001b[0;31m# group might be modified\u001b[0m\u001b[0;34m\u001b[0m\u001b[0;34m\u001b[0m\u001b[0m\n\u001b[1;32m   1293\u001b[0m             \u001b[0mgroup_axes\u001b[0m \u001b[0;34m=\u001b[0m \u001b[0m_get_axes\u001b[0m\u001b[0;34m(\u001b[0m\u001b[0mgroup\u001b[0m\u001b[0;34m)\u001b[0m\u001b[0;34m\u001b[0m\u001b[0m\n\u001b[0;32m-> 1294\u001b[0;31m             \u001b[0mres\u001b[0m \u001b[0;34m=\u001b[0m \u001b[0mf\u001b[0m\u001b[0;34m(\u001b[0m\u001b[0mgroup\u001b[0m\u001b[0;34m)\u001b[0m\u001b[0;34m\u001b[0m\u001b[0m\n\u001b[0m\u001b[1;32m   1295\u001b[0m             \u001b[0;32mif\u001b[0m \u001b[0;32mnot\u001b[0m \u001b[0m_is_indexed_like\u001b[0m\u001b[0;34m(\u001b[0m\u001b[0mres\u001b[0m\u001b[0;34m,\u001b[0m \u001b[0mgroup_axes\u001b[0m\u001b[0;34m)\u001b[0m\u001b[0;34m:\u001b[0m\u001b[0;34m\u001b[0m\u001b[0m\n\u001b[1;32m   1296\u001b[0m                 \u001b[0mmutated\u001b[0m \u001b[0;34m=\u001b[0m \u001b[0mTrue\u001b[0m\u001b[0;34m\u001b[0m\u001b[0m\n",
      "\u001b[0;32m/Library/Python/2.7/site-packages/pandas/core/groupby.pyc\u001b[0m in \u001b[0;36mf\u001b[0;34m(g)\u001b[0m\n\u001b[1;32m    665\u001b[0m         \u001b[0;34m@\u001b[0m\u001b[0mwraps\u001b[0m\u001b[0;34m(\u001b[0m\u001b[0mfunc\u001b[0m\u001b[0;34m)\u001b[0m\u001b[0;34m\u001b[0m\u001b[0m\n\u001b[1;32m    666\u001b[0m         \u001b[0;32mdef\u001b[0m \u001b[0mf\u001b[0m\u001b[0;34m(\u001b[0m\u001b[0mg\u001b[0m\u001b[0;34m)\u001b[0m\u001b[0;34m:\u001b[0m\u001b[0;34m\u001b[0m\u001b[0m\n\u001b[0;32m--> 667\u001b[0;31m             \u001b[0;32mreturn\u001b[0m \u001b[0mfunc\u001b[0m\u001b[0;34m(\u001b[0m\u001b[0mg\u001b[0m\u001b[0;34m,\u001b[0m \u001b[0;34m*\u001b[0m\u001b[0margs\u001b[0m\u001b[0;34m,\u001b[0m \u001b[0;34m**\u001b[0m\u001b[0mkwargs\u001b[0m\u001b[0;34m)\u001b[0m\u001b[0;34m\u001b[0m\u001b[0m\n\u001b[0m\u001b[1;32m    668\u001b[0m \u001b[0;34m\u001b[0m\u001b[0m\n\u001b[1;32m    669\u001b[0m         \u001b[0;31m# ignore SettingWithCopy here in case the user mutates\u001b[0m\u001b[0;34m\u001b[0m\u001b[0;34m\u001b[0m\u001b[0m\n",
      "\u001b[0;32m<ipython-input-291-903557efb5b5>\u001b[0m in \u001b[0;36mmyfunc\u001b[0;34m(hour)\u001b[0m\n\u001b[1;32m     11\u001b[0m \u001b[0;32mdef\u001b[0m \u001b[0mmyfunc\u001b[0m\u001b[0;34m(\u001b[0m\u001b[0mhour\u001b[0m\u001b[0;34m)\u001b[0m\u001b[0;34m:\u001b[0m\u001b[0;34m\u001b[0m\u001b[0m\n\u001b[1;32m     12\u001b[0m     \u001b[0mhour\u001b[0m \u001b[0;34m=\u001b[0m \u001b[0mhour\u001b[0m\u001b[0;34m.\u001b[0m\u001b[0msort\u001b[0m\u001b[0;34m(\u001b[0m\u001b[0;34m'minutes_past'\u001b[0m\u001b[0;34m,\u001b[0m \u001b[0mascending\u001b[0m\u001b[0;34m=\u001b[0m\u001b[0mTrue\u001b[0m\u001b[0;34m)\u001b[0m\u001b[0;34m\u001b[0m\u001b[0m\n\u001b[0;32m---> 13\u001b[0;31m     \u001b[0mest\u001b[0m \u001b[0;34m=\u001b[0m \u001b[0mmarshall_palmer\u001b[0m\u001b[0;34m(\u001b[0m\u001b[0mhour\u001b[0m\u001b[0;34m[\u001b[0m\u001b[0mtrain\u001b[0m\u001b[0;34m.\u001b[0m\u001b[0mcolumns\u001b[0m\u001b[0;34m]\u001b[0m\u001b[0;34m)\u001b[0m\u001b[0;34m\u001b[0m\u001b[0m\n\u001b[0m\u001b[1;32m     14\u001b[0m     \u001b[0;32mreturn\u001b[0m \u001b[0mest\u001b[0m\u001b[0;34m\u001b[0m\u001b[0m\n",
      "\u001b[0;32m<ipython-input-291-903557efb5b5>\u001b[0m in \u001b[0;36mmarshall_palmer\u001b[0;34m(data)\u001b[0m\n\u001b[1;32m      2\u001b[0m     \u001b[0mres\u001b[0m\u001b[0;34m=\u001b[0m\u001b[0;34m[\u001b[0m\u001b[0;34m]\u001b[0m\u001b[0;34m\u001b[0m\u001b[0m\n\u001b[1;32m      3\u001b[0m     \u001b[0;32mfor\u001b[0m \u001b[0mn\u001b[0m \u001b[0;32min\u001b[0m \u001b[0mdata\u001b[0m\u001b[0;34m:\u001b[0m\u001b[0;34m\u001b[0m\u001b[0m\n\u001b[0;32m----> 4\u001b[0;31m         \u001b[0mres\u001b[0m\u001b[0;34m.\u001b[0m\u001b[0mappend\u001b[0m\u001b[0;34m(\u001b[0m\u001b[0mint\u001b[0m\u001b[0;34m(\u001b[0m\u001b[0metreg\u001b[0m\u001b[0;34m.\u001b[0m\u001b[0mpredict\u001b[0m\u001b[0;34m(\u001b[0m\u001b[0mn\u001b[0m\u001b[0;34m)\u001b[0m\u001b[0;34m[\u001b[0m\u001b[0;36m0\u001b[0m\u001b[0;34m]\u001b[0m\u001b[0;34m)\u001b[0m\u001b[0;34m)\u001b[0m\u001b[0;34m\u001b[0m\u001b[0m\n\u001b[0m\u001b[1;32m      5\u001b[0m     \u001b[0;32mreturn\u001b[0m \u001b[0mnp\u001b[0m\u001b[0;34m.\u001b[0m\u001b[0marray\u001b[0m\u001b[0;34m(\u001b[0m\u001b[0mres\u001b[0m\u001b[0;34m)\u001b[0m\u001b[0;34m.\u001b[0m\u001b[0mmean\u001b[0m\u001b[0;34m(\u001b[0m\u001b[0;34m)\u001b[0m\u001b[0;34m\u001b[0m\u001b[0m\n\u001b[1;32m      6\u001b[0m \u001b[0;34m\u001b[0m\u001b[0m\n",
      "\u001b[0;32m/Library/Python/2.7/site-packages/sklearn/ensemble/forest.pyc\u001b[0m in \u001b[0;36mpredict\u001b[0;34m(self, X)\u001b[0m\n\u001b[1;32m    615\u001b[0m \u001b[0;34m\u001b[0m\u001b[0m\n\u001b[1;32m    616\u001b[0m         \u001b[0;31m# Check data\u001b[0m\u001b[0;34m\u001b[0m\u001b[0;34m\u001b[0m\u001b[0m\n\u001b[0;32m--> 617\u001b[0;31m         \u001b[0mX\u001b[0m \u001b[0;34m=\u001b[0m \u001b[0mcheck_array\u001b[0m\u001b[0;34m(\u001b[0m\u001b[0mX\u001b[0m\u001b[0;34m,\u001b[0m \u001b[0mdtype\u001b[0m\u001b[0;34m=\u001b[0m\u001b[0mDTYPE\u001b[0m\u001b[0;34m,\u001b[0m \u001b[0maccept_sparse\u001b[0m\u001b[0;34m=\u001b[0m\u001b[0;34m\"csr\"\u001b[0m\u001b[0;34m)\u001b[0m\u001b[0;34m\u001b[0m\u001b[0m\n\u001b[0m\u001b[1;32m    618\u001b[0m         if issparse(X) and (X.indices.dtype != np.intc or\n\u001b[1;32m    619\u001b[0m                             X.indptr.dtype != np.intc):\n",
      "\u001b[0;32m/Library/Python/2.7/site-packages/sklearn/utils/validation.pyc\u001b[0m in \u001b[0;36mcheck_array\u001b[0;34m(array, accept_sparse, dtype, order, copy, force_all_finite, ensure_2d, allow_nd, ensure_min_samples, ensure_min_features)\u001b[0m\n\u001b[1;32m    342\u001b[0m             \u001b[0;32melse\u001b[0m\u001b[0;34m:\u001b[0m\u001b[0;34m\u001b[0m\u001b[0m\n\u001b[1;32m    343\u001b[0m                 \u001b[0mdtype\u001b[0m \u001b[0;34m=\u001b[0m \u001b[0mNone\u001b[0m\u001b[0;34m\u001b[0m\u001b[0m\n\u001b[0;32m--> 344\u001b[0;31m         \u001b[0marray\u001b[0m \u001b[0;34m=\u001b[0m \u001b[0mnp\u001b[0m\u001b[0;34m.\u001b[0m\u001b[0marray\u001b[0m\u001b[0;34m(\u001b[0m\u001b[0marray\u001b[0m\u001b[0;34m,\u001b[0m \u001b[0mdtype\u001b[0m\u001b[0;34m=\u001b[0m\u001b[0mdtype\u001b[0m\u001b[0;34m,\u001b[0m \u001b[0morder\u001b[0m\u001b[0;34m=\u001b[0m\u001b[0morder\u001b[0m\u001b[0;34m,\u001b[0m \u001b[0mcopy\u001b[0m\u001b[0;34m=\u001b[0m\u001b[0mcopy\u001b[0m\u001b[0;34m)\u001b[0m\u001b[0;34m\u001b[0m\u001b[0m\n\u001b[0m\u001b[1;32m    345\u001b[0m         \u001b[0;31m# make sure we actually converted to numeric:\u001b[0m\u001b[0;34m\u001b[0m\u001b[0;34m\u001b[0m\u001b[0m\n\u001b[1;32m    346\u001b[0m         \u001b[0;32mif\u001b[0m \u001b[0mdtype_numeric\u001b[0m \u001b[0;32mand\u001b[0m \u001b[0marray\u001b[0m\u001b[0;34m.\u001b[0m\u001b[0mdtype\u001b[0m\u001b[0;34m.\u001b[0m\u001b[0mkind\u001b[0m \u001b[0;34m==\u001b[0m \u001b[0;34m\"O\"\u001b[0m\u001b[0;34m:\u001b[0m\u001b[0;34m\u001b[0m\u001b[0m\n",
      "\u001b[0;31mValueError\u001b[0m: could not convert string to float: minutes_past"
     ]
    }
   ],
   "source": [
    "estimates = train_clean.groupby(train_clean.index).apply(myfunc)\n",
    "estimates.head(20)"
   ]
  },
  {
   "cell_type": "code",
   "execution_count": null,
   "metadata": {
    "collapsed": true
   },
   "outputs": [],
   "source": []
  },
  {
   "cell_type": "code",
   "execution_count": null,
   "metadata": {
    "collapsed": true
   },
   "outputs": [],
   "source": []
  },
  {
   "cell_type": "markdown",
   "metadata": {},
   "source": [
    "---\n",
    "\n",
    "RNN\n",
    "\n",
    "\n",
    "---"
   ]
  },
  {
   "cell_type": "code",
   "execution_count": 9,
   "metadata": {
    "collapsed": false
   },
   "outputs": [],
   "source": [
    "import pandas as pd  \n",
    "from random import random\n",
    "\n",
    "flow = (list(range(1,10,1)) + list(range(10,1,-1)))*1000  \n",
    "pdata = pd.DataFrame({\"a\":flow, \"b\":flow})  \n",
    "pdata.b = pdata.b.shift(9)  \n",
    "data = pdata.iloc[10:] * random()  # some noise  \n"
   ]
  },
  {
   "cell_type": "code",
   "execution_count": 136,
   "metadata": {
    "collapsed": true
   },
   "outputs": [
    {
     "data": {
      "text/html": [
       "<div>\n",
       "<table border=\"1\" class=\"dataframe\">\n",
       "  <thead>\n",
       "    <tr style=\"text-align: right;\">\n",
       "      <th></th>\n",
       "      <th>radardist_km</th>\n",
       "      <th>Ref</th>\n",
       "      <th>Ref_5x5_10th</th>\n",
       "    </tr>\n",
       "    <tr>\n",
       "      <th>Id</th>\n",
       "      <th></th>\n",
       "      <th></th>\n",
       "      <th></th>\n",
       "    </tr>\n",
       "  </thead>\n",
       "  <tbody>\n",
       "    <tr>\n",
       "      <th>2</th>\n",
       "      <td>2</td>\n",
       "      <td>9.0</td>\n",
       "      <td>5.0</td>\n",
       "    </tr>\n",
       "    <tr>\n",
       "      <th>2</th>\n",
       "      <td>2</td>\n",
       "      <td>18.0</td>\n",
       "      <td>14.0</td>\n",
       "    </tr>\n",
       "    <tr>\n",
       "      <th>2</th>\n",
       "      <td>2</td>\n",
       "      <td>24.5</td>\n",
       "      <td>16.5</td>\n",
       "    </tr>\n",
       "    <tr>\n",
       "      <th>2</th>\n",
       "      <td>2</td>\n",
       "      <td>12.0</td>\n",
       "      <td>12.0</td>\n",
       "    </tr>\n",
       "    <tr>\n",
       "      <th>2</th>\n",
       "      <td>2</td>\n",
       "      <td>22.5</td>\n",
       "      <td>19.0</td>\n",
       "    </tr>\n",
       "    <tr>\n",
       "      <th>2</th>\n",
       "      <td>2</td>\n",
       "      <td>14.0</td>\n",
       "      <td>14.0</td>\n",
       "    </tr>\n",
       "    <tr>\n",
       "      <th>2</th>\n",
       "      <td>2</td>\n",
       "      <td>12.0</td>\n",
       "      <td>11.0</td>\n",
       "    </tr>\n",
       "    <tr>\n",
       "      <th>2</th>\n",
       "      <td>2</td>\n",
       "      <td>1.5</td>\n",
       "      <td>3.5</td>\n",
       "    </tr>\n",
       "    <tr>\n",
       "      <th>2</th>\n",
       "      <td>2</td>\n",
       "      <td>16.0</td>\n",
       "      <td>14.5</td>\n",
       "    </tr>\n",
       "    <tr>\n",
       "      <th>10</th>\n",
       "      <td>10</td>\n",
       "      <td>32.5</td>\n",
       "      <td>32.0</td>\n",
       "    </tr>\n",
       "  </tbody>\n",
       "</table>\n",
       "</div>"
      ],
      "text/plain": [
       "    radardist_km   Ref  Ref_5x5_10th\n",
       "Id                                  \n",
       "2              2   9.0           5.0\n",
       "2              2  18.0          14.0\n",
       "2              2  24.5          16.5\n",
       "2              2  12.0          12.0\n",
       "2              2  22.5          19.0\n",
       "2              2  14.0          14.0\n",
       "2              2  12.0          11.0\n",
       "2              2   1.5           3.5\n",
       "2              2  16.0          14.5\n",
       "10            10  32.5          32.0"
      ]
     },
     "execution_count": 136,
     "metadata": {},
     "output_type": "execute_result"
    }
   ],
   "source": [
    "#columns = [u'minutes_past', u'radardist_km', u'Ref', u'Ref_5x5_10th',\n",
    "#       u'Ref_5x5_50th', u'Ref_5x5_90th', u'RefComposite',\n",
    "#       u'RefComposite_5x5_10th', u'RefComposite_5x5_50th',\n",
    "#       u'RefComposite_5x5_90th', u'RhoHV', u'RhoHV_5x5_10th',\n",
    "#       u'RhoHV_5x5_50th', u'RhoHV_5x5_90th', u'Zdr', u'Zdr_5x5_10th',\n",
    "#       u'Zdr_5x5_50th', u'Zdr_5x5_90th', u'Kdp', u'Kdp_5x5_10th',\n",
    "#       u'Kdp_5x5_50th', u'Kdp_5x5_90th']\n",
    "columns = [u'radardist_km', u'Ref', u'Ref_5x5_10th']\n",
    "nb_features = len(columns)\n",
    "data = train[list(columns)]\n",
    "data.head(10)"
   ]
  },
  {
   "cell_type": "code",
   "execution_count": 11,
   "metadata": {
    "collapsed": false
   },
   "outputs": [
    {
     "data": {
      "text/plain": [
       "array([  1.        ,   2.        ,   9.        ,   5.        ,\n",
       "         7.5       ,  10.5       ,  15.        ,  10.5       ,\n",
       "        16.5       ,  23.5       ,   0.99833333,   0.99833333,\n",
       "         0.99833333,   0.99833333,   0.375     ,  -0.125     ,\n",
       "         0.3125    ,   0.875     ,   1.0599976 ,  -1.4100037 ,\n",
       "        -0.3500061 ,   1.0599976 ])"
      ]
     },
     "execution_count": 11,
     "metadata": {},
     "output_type": "execute_result"
    }
   ],
   "source": [
    "data.iloc[0].as_matrix()"
   ]
  },
  {
   "cell_type": "code",
   "execution_count": 12,
   "metadata": {
    "collapsed": false
   },
   "outputs": [
    {
     "data": {
      "text/html": [
       "<div>\n",
       "<table border=\"1\" class=\"dataframe\">\n",
       "  <thead>\n",
       "    <tr style=\"text-align: right;\">\n",
       "      <th></th>\n",
       "      <th>minutes_past</th>\n",
       "      <th>radardist_km</th>\n",
       "      <th>Ref</th>\n",
       "      <th>Ref_5x5_10th</th>\n",
       "      <th>Ref_5x5_50th</th>\n",
       "      <th>Ref_5x5_90th</th>\n",
       "      <th>RefComposite</th>\n",
       "      <th>RefComposite_5x5_10th</th>\n",
       "      <th>RefComposite_5x5_50th</th>\n",
       "      <th>RefComposite_5x5_90th</th>\n",
       "      <th>...</th>\n",
       "      <th>RhoHV_5x5_90th</th>\n",
       "      <th>Zdr</th>\n",
       "      <th>Zdr_5x5_10th</th>\n",
       "      <th>Zdr_5x5_50th</th>\n",
       "      <th>Zdr_5x5_90th</th>\n",
       "      <th>Kdp</th>\n",
       "      <th>Kdp_5x5_10th</th>\n",
       "      <th>Kdp_5x5_50th</th>\n",
       "      <th>Kdp_5x5_90th</th>\n",
       "      <th>Expected</th>\n",
       "    </tr>\n",
       "    <tr>\n",
       "      <th>Id</th>\n",
       "      <th></th>\n",
       "      <th></th>\n",
       "      <th></th>\n",
       "      <th></th>\n",
       "      <th></th>\n",
       "      <th></th>\n",
       "      <th></th>\n",
       "      <th></th>\n",
       "      <th></th>\n",
       "      <th></th>\n",
       "      <th></th>\n",
       "      <th></th>\n",
       "      <th></th>\n",
       "      <th></th>\n",
       "      <th></th>\n",
       "      <th></th>\n",
       "      <th></th>\n",
       "      <th></th>\n",
       "      <th></th>\n",
       "      <th></th>\n",
       "      <th></th>\n",
       "    </tr>\n",
       "  </thead>\n",
       "  <tbody>\n",
       "    <tr>\n",
       "      <th>2</th>\n",
       "      <td>1</td>\n",
       "      <td>2</td>\n",
       "      <td>9.0</td>\n",
       "      <td>5.0</td>\n",
       "      <td>7.5</td>\n",
       "      <td>10.5</td>\n",
       "      <td>15.0</td>\n",
       "      <td>10.5</td>\n",
       "      <td>16.5</td>\n",
       "      <td>23.5</td>\n",
       "      <td>...</td>\n",
       "      <td>0.998333</td>\n",
       "      <td>0.3750</td>\n",
       "      <td>-0.1250</td>\n",
       "      <td>0.3125</td>\n",
       "      <td>0.8750</td>\n",
       "      <td>1.059998</td>\n",
       "      <td>-1.410004</td>\n",
       "      <td>-0.350006</td>\n",
       "      <td>1.059998</td>\n",
       "      <td>1.016</td>\n",
       "    </tr>\n",
       "    <tr>\n",
       "      <th>2</th>\n",
       "      <td>16</td>\n",
       "      <td>2</td>\n",
       "      <td>18.0</td>\n",
       "      <td>14.0</td>\n",
       "      <td>17.5</td>\n",
       "      <td>21.0</td>\n",
       "      <td>20.5</td>\n",
       "      <td>18.0</td>\n",
       "      <td>20.5</td>\n",
       "      <td>23.0</td>\n",
       "      <td>...</td>\n",
       "      <td>1.001667</td>\n",
       "      <td>0.2500</td>\n",
       "      <td>0.1250</td>\n",
       "      <td>0.3750</td>\n",
       "      <td>0.6875</td>\n",
       "      <td>0.349991</td>\n",
       "      <td>-1.059998</td>\n",
       "      <td>0.000000</td>\n",
       "      <td>1.059998</td>\n",
       "      <td>1.016</td>\n",
       "    </tr>\n",
       "    <tr>\n",
       "      <th>2</th>\n",
       "      <td>21</td>\n",
       "      <td>2</td>\n",
       "      <td>24.5</td>\n",
       "      <td>16.5</td>\n",
       "      <td>21.0</td>\n",
       "      <td>24.5</td>\n",
       "      <td>24.5</td>\n",
       "      <td>21.0</td>\n",
       "      <td>24.0</td>\n",
       "      <td>28.0</td>\n",
       "      <td>...</td>\n",
       "      <td>0.998333</td>\n",
       "      <td>0.2500</td>\n",
       "      <td>0.0625</td>\n",
       "      <td>0.1875</td>\n",
       "      <td>0.5625</td>\n",
       "      <td>-0.350006</td>\n",
       "      <td>-1.059998</td>\n",
       "      <td>-0.350006</td>\n",
       "      <td>1.759994</td>\n",
       "      <td>1.016</td>\n",
       "    </tr>\n",
       "    <tr>\n",
       "      <th>2</th>\n",
       "      <td>26</td>\n",
       "      <td>2</td>\n",
       "      <td>12.0</td>\n",
       "      <td>12.0</td>\n",
       "      <td>16.0</td>\n",
       "      <td>20.0</td>\n",
       "      <td>16.5</td>\n",
       "      <td>17.0</td>\n",
       "      <td>19.0</td>\n",
       "      <td>21.0</td>\n",
       "      <td>...</td>\n",
       "      <td>0.998333</td>\n",
       "      <td>0.5625</td>\n",
       "      <td>0.2500</td>\n",
       "      <td>0.4375</td>\n",
       "      <td>0.6875</td>\n",
       "      <td>-1.760010</td>\n",
       "      <td>-1.760010</td>\n",
       "      <td>-0.350006</td>\n",
       "      <td>0.709991</td>\n",
       "      <td>1.016</td>\n",
       "    </tr>\n",
       "    <tr>\n",
       "      <th>2</th>\n",
       "      <td>31</td>\n",
       "      <td>2</td>\n",
       "      <td>22.5</td>\n",
       "      <td>19.0</td>\n",
       "      <td>22.0</td>\n",
       "      <td>25.0</td>\n",
       "      <td>26.0</td>\n",
       "      <td>23.5</td>\n",
       "      <td>25.5</td>\n",
       "      <td>27.5</td>\n",
       "      <td>...</td>\n",
       "      <td>1.001667</td>\n",
       "      <td>0.0000</td>\n",
       "      <td>-0.1875</td>\n",
       "      <td>0.2500</td>\n",
       "      <td>0.6250</td>\n",
       "      <td>-1.059998</td>\n",
       "      <td>-2.120010</td>\n",
       "      <td>-0.710007</td>\n",
       "      <td>0.349991</td>\n",
       "      <td>1.016</td>\n",
       "    </tr>\n",
       "  </tbody>\n",
       "</table>\n",
       "<p>5 rows × 23 columns</p>\n",
       "</div>"
      ],
      "text/plain": [
       "    minutes_past  radardist_km   Ref  Ref_5x5_10th  Ref_5x5_50th  \\\n",
       "Id                                                                 \n",
       "2              1             2   9.0           5.0           7.5   \n",
       "2             16             2  18.0          14.0          17.5   \n",
       "2             21             2  24.5          16.5          21.0   \n",
       "2             26             2  12.0          12.0          16.0   \n",
       "2             31             2  22.5          19.0          22.0   \n",
       "\n",
       "    Ref_5x5_90th  RefComposite  RefComposite_5x5_10th  RefComposite_5x5_50th  \\\n",
       "Id                                                                             \n",
       "2           10.5          15.0                   10.5                   16.5   \n",
       "2           21.0          20.5                   18.0                   20.5   \n",
       "2           24.5          24.5                   21.0                   24.0   \n",
       "2           20.0          16.5                   17.0                   19.0   \n",
       "2           25.0          26.0                   23.5                   25.5   \n",
       "\n",
       "    RefComposite_5x5_90th    ...     RhoHV_5x5_90th     Zdr  Zdr_5x5_10th  \\\n",
       "Id                           ...                                            \n",
       "2                    23.5    ...           0.998333  0.3750       -0.1250   \n",
       "2                    23.0    ...           1.001667  0.2500        0.1250   \n",
       "2                    28.0    ...           0.998333  0.2500        0.0625   \n",
       "2                    21.0    ...           0.998333  0.5625        0.2500   \n",
       "2                    27.5    ...           1.001667  0.0000       -0.1875   \n",
       "\n",
       "    Zdr_5x5_50th  Zdr_5x5_90th       Kdp  Kdp_5x5_10th  Kdp_5x5_50th  \\\n",
       "Id                                                                     \n",
       "2         0.3125        0.8750  1.059998     -1.410004     -0.350006   \n",
       "2         0.3750        0.6875  0.349991     -1.059998      0.000000   \n",
       "2         0.1875        0.5625 -0.350006     -1.059998     -0.350006   \n",
       "2         0.4375        0.6875 -1.760010     -1.760010     -0.350006   \n",
       "2         0.2500        0.6250 -1.059998     -2.120010     -0.710007   \n",
       "\n",
       "    Kdp_5x5_90th  Expected  \n",
       "Id                          \n",
       "2       1.059998     1.016  \n",
       "2       1.059998     1.016  \n",
       "2       1.759994     1.016  \n",
       "2       0.709991     1.016  \n",
       "2       0.349991     1.016  \n",
       "\n",
       "[5 rows x 23 columns]"
      ]
     },
     "execution_count": 12,
     "metadata": {},
     "output_type": "execute_result"
    }
   ],
   "source": [
    "train.head(5)"
   ]
  },
  {
   "cell_type": "code",
   "execution_count": 13,
   "metadata": {
    "collapsed": false
   },
   "outputs": [
    {
     "data": {
      "text/html": [
       "<div>\n",
       "<table border=\"1\" class=\"dataframe\">\n",
       "  <thead>\n",
       "    <tr style=\"text-align: right;\">\n",
       "      <th></th>\n",
       "      <th>minutes_past</th>\n",
       "      <th>radardist_km</th>\n",
       "      <th>Ref</th>\n",
       "      <th>Ref_5x5_10th</th>\n",
       "      <th>Ref_5x5_50th</th>\n",
       "      <th>Ref_5x5_90th</th>\n",
       "      <th>RefComposite</th>\n",
       "      <th>RefComposite_5x5_10th</th>\n",
       "      <th>RefComposite_5x5_50th</th>\n",
       "      <th>RefComposite_5x5_90th</th>\n",
       "      <th>...</th>\n",
       "      <th>RhoHV_5x5_90th</th>\n",
       "      <th>Zdr</th>\n",
       "      <th>Zdr_5x5_10th</th>\n",
       "      <th>Zdr_5x5_50th</th>\n",
       "      <th>Zdr_5x5_90th</th>\n",
       "      <th>Kdp</th>\n",
       "      <th>Kdp_5x5_10th</th>\n",
       "      <th>Kdp_5x5_50th</th>\n",
       "      <th>Kdp_5x5_90th</th>\n",
       "      <th>Expected</th>\n",
       "    </tr>\n",
       "    <tr>\n",
       "      <th>Id</th>\n",
       "      <th></th>\n",
       "      <th></th>\n",
       "      <th></th>\n",
       "      <th></th>\n",
       "      <th></th>\n",
       "      <th></th>\n",
       "      <th></th>\n",
       "      <th></th>\n",
       "      <th></th>\n",
       "      <th></th>\n",
       "      <th></th>\n",
       "      <th></th>\n",
       "      <th></th>\n",
       "      <th></th>\n",
       "      <th></th>\n",
       "      <th></th>\n",
       "      <th></th>\n",
       "      <th></th>\n",
       "      <th></th>\n",
       "      <th></th>\n",
       "      <th></th>\n",
       "    </tr>\n",
       "  </thead>\n",
       "  <tbody>\n",
       "    <tr>\n",
       "      <th>11</th>\n",
       "      <td>1</td>\n",
       "      <td>12</td>\n",
       "      <td>21.0</td>\n",
       "      <td>16.5</td>\n",
       "      <td>20.0</td>\n",
       "      <td>23.0</td>\n",
       "      <td>21.0</td>\n",
       "      <td>16.5</td>\n",
       "      <td>20.0</td>\n",
       "      <td>23.0</td>\n",
       "      <td>...</td>\n",
       "      <td>1.015000</td>\n",
       "      <td>-0.4375</td>\n",
       "      <td>-0.4375</td>\n",
       "      <td>0.2500</td>\n",
       "      <td>0.8750</td>\n",
       "      <td>-1.410004</td>\n",
       "      <td>-1.760010</td>\n",
       "      <td>1.059998</td>\n",
       "      <td>3.879990</td>\n",
       "      <td>2.540001</td>\n",
       "    </tr>\n",
       "    <tr>\n",
       "      <th>11</th>\n",
       "      <td>10</td>\n",
       "      <td>12</td>\n",
       "      <td>23.5</td>\n",
       "      <td>22.0</td>\n",
       "      <td>24.5</td>\n",
       "      <td>26.5</td>\n",
       "      <td>23.5</td>\n",
       "      <td>22.0</td>\n",
       "      <td>24.5</td>\n",
       "      <td>26.5</td>\n",
       "      <td>...</td>\n",
       "      <td>1.001667</td>\n",
       "      <td>0.5625</td>\n",
       "      <td>-0.1250</td>\n",
       "      <td>0.2500</td>\n",
       "      <td>0.7500</td>\n",
       "      <td>0.709991</td>\n",
       "      <td>-2.470001</td>\n",
       "      <td>0.000000</td>\n",
       "      <td>2.119995</td>\n",
       "      <td>2.540001</td>\n",
       "    </tr>\n",
       "    <tr>\n",
       "      <th>11</th>\n",
       "      <td>20</td>\n",
       "      <td>12</td>\n",
       "      <td>20.0</td>\n",
       "      <td>17.0</td>\n",
       "      <td>19.5</td>\n",
       "      <td>23.0</td>\n",
       "      <td>20.0</td>\n",
       "      <td>17.0</td>\n",
       "      <td>19.5</td>\n",
       "      <td>23.0</td>\n",
       "      <td>...</td>\n",
       "      <td>1.001667</td>\n",
       "      <td>0.0625</td>\n",
       "      <td>-0.3125</td>\n",
       "      <td>0.0625</td>\n",
       "      <td>0.5625</td>\n",
       "      <td>-1.059998</td>\n",
       "      <td>-2.110001</td>\n",
       "      <td>-1.059998</td>\n",
       "      <td>1.759994</td>\n",
       "      <td>2.540001</td>\n",
       "    </tr>\n",
       "    <tr>\n",
       "      <th>11</th>\n",
       "      <td>29</td>\n",
       "      <td>12</td>\n",
       "      <td>16.5</td>\n",
       "      <td>16.5</td>\n",
       "      <td>19.0</td>\n",
       "      <td>23.0</td>\n",
       "      <td>16.5</td>\n",
       "      <td>16.5</td>\n",
       "      <td>19.0</td>\n",
       "      <td>23.0</td>\n",
       "      <td>...</td>\n",
       "      <td>0.998333</td>\n",
       "      <td>0.0000</td>\n",
       "      <td>-0.6875</td>\n",
       "      <td>0.1250</td>\n",
       "      <td>0.9375</td>\n",
       "      <td>-3.169998</td>\n",
       "      <td>-3.169998</td>\n",
       "      <td>0.709991</td>\n",
       "      <td>2.470001</td>\n",
       "      <td>2.540001</td>\n",
       "    </tr>\n",
       "    <tr>\n",
       "      <th>11</th>\n",
       "      <td>39</td>\n",
       "      <td>12</td>\n",
       "      <td>20.0</td>\n",
       "      <td>16.5</td>\n",
       "      <td>18.5</td>\n",
       "      <td>21.5</td>\n",
       "      <td>20.0</td>\n",
       "      <td>16.5</td>\n",
       "      <td>18.5</td>\n",
       "      <td>21.5</td>\n",
       "      <td>...</td>\n",
       "      <td>1.021667</td>\n",
       "      <td>0.6875</td>\n",
       "      <td>-0.3750</td>\n",
       "      <td>0.3125</td>\n",
       "      <td>1.2500</td>\n",
       "      <td>-1.340012</td>\n",
       "      <td>-1.360001</td>\n",
       "      <td>-0.350006</td>\n",
       "      <td>1.759994</td>\n",
       "      <td>2.540001</td>\n",
       "    </tr>\n",
       "    <tr>\n",
       "      <th>11</th>\n",
       "      <td>49</td>\n",
       "      <td>12</td>\n",
       "      <td>19.0</td>\n",
       "      <td>18.0</td>\n",
       "      <td>19.5</td>\n",
       "      <td>22.0</td>\n",
       "      <td>19.0</td>\n",
       "      <td>18.0</td>\n",
       "      <td>19.5</td>\n",
       "      <td>22.0</td>\n",
       "      <td>...</td>\n",
       "      <td>1.035000</td>\n",
       "      <td>1.4375</td>\n",
       "      <td>-0.6250</td>\n",
       "      <td>0.1875</td>\n",
       "      <td>1.3125</td>\n",
       "      <td>-3.169998</td>\n",
       "      <td>-3.169998</td>\n",
       "      <td>-1.059998</td>\n",
       "      <td>3.509994</td>\n",
       "      <td>2.540001</td>\n",
       "    </tr>\n",
       "    <tr>\n",
       "      <th>11</th>\n",
       "      <td>58</td>\n",
       "      <td>12</td>\n",
       "      <td>15.0</td>\n",
       "      <td>15.0</td>\n",
       "      <td>18.5</td>\n",
       "      <td>22.5</td>\n",
       "      <td>15.0</td>\n",
       "      <td>15.0</td>\n",
       "      <td>18.5</td>\n",
       "      <td>22.5</td>\n",
       "      <td>...</td>\n",
       "      <td>1.008333</td>\n",
       "      <td>1.0625</td>\n",
       "      <td>-0.4375</td>\n",
       "      <td>0.1875</td>\n",
       "      <td>1.0625</td>\n",
       "      <td>-0.710007</td>\n",
       "      <td>-3.169998</td>\n",
       "      <td>-0.350006</td>\n",
       "      <td>1.759994</td>\n",
       "      <td>2.540001</td>\n",
       "    </tr>\n",
       "  </tbody>\n",
       "</table>\n",
       "<p>7 rows × 23 columns</p>\n",
       "</div>"
      ],
      "text/plain": [
       "    minutes_past  radardist_km   Ref  Ref_5x5_10th  Ref_5x5_50th  \\\n",
       "Id                                                                 \n",
       "11             1            12  21.0          16.5          20.0   \n",
       "11            10            12  23.5          22.0          24.5   \n",
       "11            20            12  20.0          17.0          19.5   \n",
       "11            29            12  16.5          16.5          19.0   \n",
       "11            39            12  20.0          16.5          18.5   \n",
       "11            49            12  19.0          18.0          19.5   \n",
       "11            58            12  15.0          15.0          18.5   \n",
       "\n",
       "    Ref_5x5_90th  RefComposite  RefComposite_5x5_10th  RefComposite_5x5_50th  \\\n",
       "Id                                                                             \n",
       "11          23.0          21.0                   16.5                   20.0   \n",
       "11          26.5          23.5                   22.0                   24.5   \n",
       "11          23.0          20.0                   17.0                   19.5   \n",
       "11          23.0          16.5                   16.5                   19.0   \n",
       "11          21.5          20.0                   16.5                   18.5   \n",
       "11          22.0          19.0                   18.0                   19.5   \n",
       "11          22.5          15.0                   15.0                   18.5   \n",
       "\n",
       "    RefComposite_5x5_90th    ...     RhoHV_5x5_90th     Zdr  Zdr_5x5_10th  \\\n",
       "Id                           ...                                            \n",
       "11                   23.0    ...           1.015000 -0.4375       -0.4375   \n",
       "11                   26.5    ...           1.001667  0.5625       -0.1250   \n",
       "11                   23.0    ...           1.001667  0.0625       -0.3125   \n",
       "11                   23.0    ...           0.998333  0.0000       -0.6875   \n",
       "11                   21.5    ...           1.021667  0.6875       -0.3750   \n",
       "11                   22.0    ...           1.035000  1.4375       -0.6250   \n",
       "11                   22.5    ...           1.008333  1.0625       -0.4375   \n",
       "\n",
       "    Zdr_5x5_50th  Zdr_5x5_90th       Kdp  Kdp_5x5_10th  Kdp_5x5_50th  \\\n",
       "Id                                                                     \n",
       "11        0.2500        0.8750 -1.410004     -1.760010      1.059998   \n",
       "11        0.2500        0.7500  0.709991     -2.470001      0.000000   \n",
       "11        0.0625        0.5625 -1.059998     -2.110001     -1.059998   \n",
       "11        0.1250        0.9375 -3.169998     -3.169998      0.709991   \n",
       "11        0.3125        1.2500 -1.340012     -1.360001     -0.350006   \n",
       "11        0.1875        1.3125 -3.169998     -3.169998     -1.059998   \n",
       "11        0.1875        1.0625 -0.710007     -3.169998     -0.350006   \n",
       "\n",
       "    Kdp_5x5_90th  Expected  \n",
       "Id                          \n",
       "11      3.879990  2.540001  \n",
       "11      2.119995  2.540001  \n",
       "11      1.759994  2.540001  \n",
       "11      2.470001  2.540001  \n",
       "11      1.759994  2.540001  \n",
       "11      3.509994  2.540001  \n",
       "11      1.759994  2.540001  \n",
       "\n",
       "[7 rows x 23 columns]"
      ]
     },
     "execution_count": 13,
     "metadata": {},
     "output_type": "execute_result"
    }
   ],
   "source": [
    "train.loc[11]"
   ]
  },
  {
   "cell_type": "code",
   "execution_count": 14,
   "metadata": {
    "collapsed": false
   },
   "outputs": [
    {
     "data": {
      "text/plain": [
       "<bound method Series.as_matrix of Id\n",
       "11    2.540001\n",
       "Name: Expected, dtype: float64>"
      ]
     },
     "execution_count": 14,
     "metadata": {},
     "output_type": "execute_result"
    }
   ],
   "source": [
    "train.loc[11][:1][\"Expected\"].as_matrix"
   ]
  },
  {
   "cell_type": "code",
   "execution_count": 15,
   "metadata": {
    "collapsed": false
   },
   "outputs": [],
   "source": [
    "#train.index.unique()"
   ]
  },
  {
   "cell_type": "code",
   "execution_count": 16,
   "metadata": {
    "collapsed": false
   },
   "outputs": [
    {
     "name": "stderr",
     "output_type": "stream",
     "text": [
      "/Library/Python/2.7/site-packages/pandas/core/index.py:843: FutureWarning: slice indexers when using iloc should be integers and not floating point\n",
      "  \"and not floating point\",FutureWarning)\n"
     ]
    }
   ],
   "source": [
    "def _load_data(data, n_prev = 100):  \n",
    "    \"\"\"\n",
    "    data should be pd.DataFrame()\n",
    "    \"\"\"\n",
    "\n",
    "    docX, docY = [], []\n",
    "    for i in range(len(data)-n_prev):\n",
    "        docX.append(data.iloc[i:i+n_prev].as_matrix())\n",
    "        docY.append(data.iloc[i+n_prev].as_matrix())\n",
    "    alsX = np.array(docX)\n",
    "    alsY = np.array(docY)\n",
    "\n",
    "    return alsX, alsY\n",
    "\n",
    "def train_test_split(df, test_size=0.1):  \n",
    "    ntrn = round(len(df) * (1 - test_size))\n",
    "\n",
    "    X_train, y_train = _load_data(df.iloc[0:ntrn])\n",
    "    X_test, y_test = _load_data(df.iloc[ntrn:])\n",
    "    \n",
    "    return (X_train, y_train), (X_test, y_test)\n",
    "\n",
    "(X_train, y_train), (X_test, y_test) = train_test_split(data)"
   ]
  },
  {
   "cell_type": "code",
   "execution_count": 21,
   "metadata": {
    "collapsed": false
   },
   "outputs": [
    {
     "data": {
      "text/plain": [
       "(1743, 100, 22)"
      ]
     },
     "execution_count": 21,
     "metadata": {},
     "output_type": "execute_result"
    }
   ],
   "source": [
    "np.shape(X_train)"
   ]
  },
  {
   "cell_type": "code",
   "execution_count": 18,
   "metadata": {
    "collapsed": false
   },
   "outputs": [
    {
     "data": {
      "text/plain": [
       "[2, 1]"
      ]
     },
     "execution_count": 18,
     "metadata": {},
     "output_type": "execute_result"
    }
   ],
   "source": [
    "t = np.array([2,1])\n",
    "t.shape = (1,2)\n",
    "t.tolist()[0]"
   ]
  },
  {
   "cell_type": "code",
   "execution_count": 689,
   "metadata": {
    "collapsed": false
   },
   "outputs": [
    {
     "data": {
      "text/plain": [
       "(2, 1)"
      ]
     },
     "execution_count": 689,
     "metadata": {},
     "output_type": "execute_result"
    }
   ],
   "source": [
    "np.shape(t)"
   ]
  },
  {
   "cell_type": "code",
   "execution_count": 774,
   "metadata": {
    "collapsed": false
   },
   "outputs": [
    {
     "data": {
      "text/plain": [
       "array([[[ 5.88354853,  1.30745523],\n",
       "        [ 5.22982091,  1.96118284]],\n",
       "\n",
       "       [[ 5.22982091,  1.96118284],\n",
       "        [ 4.5760933 ,  2.61491046]]])"
      ]
     },
     "execution_count": 774,
     "metadata": {},
     "output_type": "execute_result"
    }
   ],
   "source": [
    "X_train[:2,:2]"
   ]
  },
  {
   "cell_type": "code",
   "execution_count": 772,
   "metadata": {
    "collapsed": false
   },
   "outputs": [
    {
     "ename": "IndexError",
     "evalue": "too many indices",
     "output_type": "error",
     "traceback": [
      "\u001b[0;31m---------------------------------------------------------------------------\u001b[0m",
      "\u001b[0;31mIndexError\u001b[0m                                Traceback (most recent call last)",
      "\u001b[0;32m<ipython-input-772-71fbb2c61d17>\u001b[0m in \u001b[0;36m<module>\u001b[0;34m()\u001b[0m\n\u001b[0;32m----> 1\u001b[0;31m \u001b[0mXX\u001b[0m\u001b[0;34m[\u001b[0m\u001b[0;34m:\u001b[0m\u001b[0;36m2\u001b[0m\u001b[0;34m,\u001b[0m\u001b[0;34m:\u001b[0m\u001b[0;36m2\u001b[0m\u001b[0;34m]\u001b[0m\u001b[0;34m\u001b[0m\u001b[0m\n\u001b[0m",
      "\u001b[0;31mIndexError\u001b[0m: too many indices"
     ]
    }
   ],
   "source": [
    "XX[:2,:2]"
   ]
  },
  {
   "cell_type": "code",
   "execution_count": 773,
   "metadata": {
    "collapsed": true
   },
   "outputs": [
    {
     "data": {
      "text/plain": [
       "array([ array([[  1.        ,   2.        ,   9.        ,   5.        ,\n",
       "          7.5       ,  10.5       ,  15.        ,  10.5       ,\n",
       "         16.5       ,  23.5       ,   0.99833333,   0.99833333,\n",
       "          0.99833333,   0.99833333,   0.375     ,  -0.125     ,\n",
       "          0.3125    ,   0.875     ,   1.0599976 ,  -1.4100037 ,\n",
       "         -0.3500061 ,   1.0599976 ,   1.0160005 ],\n",
       "       [ 16.        ,   2.        ,  18.        ,  14.        ,\n",
       "         17.5       ,  21.        ,  20.5       ,  18.        ,\n",
       "         20.5       ,  23.        ,   0.995     ,   0.995     ,\n",
       "          0.99833333,   1.0016667 ,   0.25      ,   0.125     ,\n",
       "          0.375     ,   0.6875    ,   0.34999084,  -1.0599976 ,\n",
       "          0.        ,   1.0599976 ,   1.0160005 ],\n",
       "       [ 21.        ,   2.        ,  24.5       ,  16.5       ,\n",
       "         21.        ,  24.5       ,  24.5       ,  21.        ,\n",
       "         24.        ,  28.        ,   0.99833333,   0.995     ,\n",
       "          0.99833333,   0.99833333,   0.25      ,   0.0625    ,\n",
       "          0.1875    ,   0.5625    ,  -0.3500061 ,  -1.0599976 ,\n",
       "         -0.3500061 ,   1.7599945 ,   1.0160005 ],\n",
       "       [ 26.        ,   2.        ,  12.        ,  12.        ,\n",
       "         16.        ,  20.        ,  16.5       ,  17.        ,\n",
       "         19.        ,  21.        ,   0.99833333,   0.995     ,\n",
       "          0.99833333,   0.99833333,   0.5625    ,   0.25      ,\n",
       "          0.4375    ,   0.6875    ,  -1.7600098 ,  -1.7600098 ,\n",
       "         -0.3500061 ,   0.70999146,   1.0160005 ],\n",
       "       [ 31.        ,   2.        ,  22.5       ,  19.        ,\n",
       "         22.        ,  25.        ,  26.        ,  23.5       ,\n",
       "         25.5       ,  27.5       ,   0.99833333,   0.995     ,\n",
       "          0.99833333,   1.0016667 ,   0.        ,  -0.1875    ,\n",
       "          0.25      ,   0.625     ,  -1.0599976 ,  -2.1200104 ,\n",
       "         -0.7100067 ,   0.34999084,   1.0160005 ],\n",
       "       [ 37.        ,   2.        ,  14.        ,  14.        ,\n",
       "         18.5       ,  21.        ,  19.5       ,  20.        ,\n",
       "         21.        ,  23.        ,   0.99833333,   0.9916667 ,\n",
       "          0.99833333,   0.99833333,   0.5       ,   0.1875    ,\n",
       "          0.4375    ,   0.8125    ,   0.        ,  -1.7600098 ,\n",
       "         -0.3500061 ,   1.0599976 ,   1.0160005 ],\n",
       "       [ 42.        ,   2.        ,  12.        ,  11.        ,\n",
       "         12.5       ,  17.        ,  19.5       ,  18.        ,\n",
       "         21.        ,  23.        ,   0.99833333,   0.995     ,\n",
       "          0.99833333,   0.99833333,   0.625     ,   0.375     ,\n",
       "          0.625     ,   0.875     ,  -0.3500061 ,  -0.3500061 ,\n",
       "          0.        ,   0.34999084,   1.0160005 ],\n",
       "       [ 47.        ,   2.        ,   1.5       ,   3.5       ,\n",
       "          7.        ,  10.5       ,  18.        ,  16.5       ,\n",
       "         18.5       ,  21.5       ,   0.99833333,   0.995     ,\n",
       "          0.99833333,   0.99833333,   0.375     ,   0.1875    ,\n",
       "          0.5       ,   0.6875    ,   0.34999084,  -2.1100006 ,\n",
       "         -0.3500061 ,   1.0599976 ,   1.0160005 ],\n",
       "       [ 53.        ,   2.        ,  16.        ,  14.5       ,\n",
       "         18.        ,  23.5       ,  28.        ,  23.5       ,\n",
       "         26.5       ,  29.5       ,   0.99833333,   0.9916667 ,\n",
       "          0.99833333,   0.99833333,   0.875     ,   0.625     ,\n",
       "          0.9375    ,   1.375     ,  -0.3500061 ,  -1.4100037 ,\n",
       "         -0.3500061 ,   2.119995  ,   1.0160005 ]]),\n",
       "       array([[  2.00000000e+00,   1.00000000e+01,   3.25000000e+01,\n",
       "          3.20000000e+01,   3.50000000e+01,   3.70000000e+01,\n",
       "          3.50000000e+01,   3.35000000e+01,   3.55000000e+01,\n",
       "          3.95000000e+01,   9.41666660e-01,   8.15000000e-01,\n",
       "          9.35000000e-01,   9.91666700e-01,   1.87500000e+00,\n",
       "         -1.93750000e+00,   3.75000000e-01,   2.68750000e+00,\n",
       "          1.09899900e+01,  -6.33000200e+00,   7.09991460e-01,\n",
       "          1.10899960e+01,   1.00000050e-02],\n",
       "       [  6.00000000e+00,   1.00000000e+01,   3.75000000e+01,\n",
       "          3.05000000e+01,   3.45000000e+01,   3.75000000e+01,\n",
       "          3.75000000e+01,   3.25000000e+01,   3.55000000e+01,\n",
       "          3.90000000e+01,   8.91666650e-01,   7.25000000e-01,\n",
       "          9.31666700e-01,   9.91666700e-01,   7.50000000e-01,\n",
       "         -1.56250000e+00,   6.87500000e-01,   3.68750000e+00,\n",
       "         -2.02500000e+01,  -1.17500000e+01,   0.00000000e+00,\n",
       "          8.42999300e+00,   1.00000050e-02],\n",
       "       [  1.10000000e+01,   1.00000000e+01,   3.60000000e+01,\n",
       "          3.10000000e+01,   3.40000000e+01,   3.60000000e+01,\n",
       "          3.60000000e+01,   3.35000000e+01,   3.65000000e+01,\n",
       "          3.85000000e+01,   9.55000000e-01,   7.21666700e-01,\n",
       "          9.11666700e-01,   9.71666700e-01,   1.18750000e+00,\n",
       "         -5.00000000e-01,   1.18750000e+00,   5.87500000e+00,\n",
       "         -3.16999820e+00,  -1.34499970e+01,  -3.16999820e+00,\n",
       "          8.08000200e+00,   1.00000050e-02],\n",
       "       [  1.60000000e+01,   1.00000000e+01,   2.90000000e+01,\n",
       "          2.85000000e+01,   3.20000000e+01,   3.60000000e+01,\n",
       "          2.90000000e+01,   3.10000000e+01,   3.30000000e+01,\n",
       "          3.60000000e+01,   7.61666660e-01,   7.61666660e-01,\n",
       "          9.31666700e-01,   9.85000000e-01,   9.37500000e-01,\n",
       "         -6.87500000e-01,   8.12500000e-01,   2.93750000e+00,\n",
       "          0.00000000e+00,  -3.50006100e-01,   1.05999760e+00,\n",
       "          1.03999940e+01,   1.00000050e-02],\n",
       "       [  2.00000000e+01,   1.00000000e+01,   3.25000000e+01,\n",
       "          3.10000000e+01,   3.35000000e+01,   3.80000000e+01,\n",
       "          3.25000000e+01,   3.25000000e+01,   3.40000000e+01,\n",
       "          3.85000000e+01,   9.75000000e-01,   9.18333350e-01,\n",
       "          9.71666700e-01,   9.85000000e-01,  -2.43750000e+00,\n",
       "         -1.31250000e+00,   5.62500000e-01,   2.25000000e+00,\n",
       "          5.97999570e+00,   0.00000000e+00,   2.11000060e+00,\n",
       "          6.87998960e+00,   1.00000050e-02],\n",
       "       [  2.50000000e+01,   1.00000000e+01,   3.20000000e+01,\n",
       "          2.65000000e+01,   3.20000000e+01,   3.70000000e+01,\n",
       "          3.65000000e+01,   2.95000000e+01,   3.50000000e+01,\n",
       "          3.80000000e+01,   8.61666700e-01,   8.68333340e-01,\n",
       "          9.15000000e-01,   9.78333350e-01,  -5.00000000e-01,\n",
       "         -1.25000000e+00,   3.75000000e-01,   3.31250000e+00,\n",
       "         -5.98001100e+00,  -6.38999940e+00,   1.05999760e+00,\n",
       "          1.19299930e+01,   1.00000050e-02],\n",
       "       [  3.00000000e+01,   1.00000000e+01,   3.65000000e+01,\n",
       "          2.70000000e+01,   3.25000000e+01,   3.60000000e+01,\n",
       "          3.65000000e+01,   2.85000000e+01,   3.40000000e+01,\n",
       "          3.60000000e+01,   9.91666700e-01,   9.21666700e-01,\n",
       "          9.78333350e-01,   9.91666700e-01,   3.12500000e-01,\n",
       "         -4.37500000e-01,   4.37500000e-01,   2.25000000e+00,\n",
       "         -1.88000490e+00,  -3.52000430e+00,  -1.05999760e+00,\n",
       "          2.47000120e+00,   1.00000050e-02],\n",
       "       [  3.40000000e+01,   1.00000000e+01,   3.25000000e+01,\n",
       "          3.15000000e+01,   3.45000000e+01,   3.95000000e+01,\n",
       "          3.45000000e+01,   3.30000000e+01,   3.55000000e+01,\n",
       "          3.95000000e+01,   9.95000000e-01,   9.11666700e-01,\n",
       "          9.81666700e-01,   9.95000000e-01,   2.50000000e-01,\n",
       "         -2.50000000e-01,   3.75000000e-01,   2.37500000e+00,\n",
       "          1.40998840e+00,  -5.55000300e+00,   3.49990840e-01,\n",
       "          4.22999570e+00,   1.00000050e-02],\n",
       "       [  3.90000000e+01,   1.00000000e+01,   3.80000000e+01,\n",
       "          3.30000000e+01,   3.60000000e+01,   3.85000000e+01,\n",
       "          3.80000000e+01,   3.45000000e+01,   3.70000000e+01,\n",
       "          3.95000000e+01,   7.51666670e-01,   8.18333300e-01,\n",
       "          9.41666660e-01,   9.85000000e-01,  -3.12500000e-01,\n",
       "         -8.75000000e-01,   5.00000000e-01,   2.87500000e+00,\n",
       "          4.50999450e+00,  -9.13000500e+00,   3.50999450e+00,\n",
       "          7.73999000e+00,   1.00000050e-02],\n",
       "       [  4.40000000e+01,   1.00000000e+01,   3.65000000e+01,\n",
       "          3.25000000e+01,   3.40000000e+01,   3.60000000e+01,\n",
       "          3.65000000e+01,   3.35000000e+01,   3.50000000e+01,\n",
       "          3.65000000e+01,   9.41666660e-01,   8.58333350e-01,\n",
       "          9.35000000e-01,   9.88333340e-01,  -1.25000000e+00,\n",
       "         -1.62500000e+00,   4.37500000e-01,   1.75000000e+00,\n",
       "         -2.47000120e+00,  -5.63000500e+00,  -3.50006100e-01,\n",
       "          3.16999820e+00,   1.00000050e-02],\n",
       "       [  4.80000000e+01,   1.00000000e+01,   3.25000000e+01,\n",
       "          3.00000000e+01,   3.15000000e+01,   3.75000000e+01,\n",
       "          3.25000000e+01,   3.10000000e+01,   3.25000000e+01,\n",
       "          3.75000000e+01,   8.65000000e-01,   8.71666670e-01,\n",
       "          9.68333360e-01,   9.91666700e-01,   1.06250000e+00,\n",
       "         -1.25000000e+00,   0.00000000e+00,   2.06250000e+00,\n",
       "         -2.12001040e+00,  -5.29000850e+00,  -3.51000980e+00,\n",
       "          2.11999500e+00,   1.00000050e-02],\n",
       "       [  5.30000000e+01,   1.00000000e+01,   3.20000000e+01,\n",
       "          3.00000000e+01,   3.40000000e+01,   3.65000000e+01,\n",
       "          3.30000000e+01,   3.25000000e+01,   3.40000000e+01,\n",
       "          3.75000000e+01,   9.01666640e-01,   8.38333300e-01,\n",
       "          9.48333300e-01,   9.95000000e-01,   1.18750000e+00,\n",
       "         -6.87500000e-01,   5.62500000e-01,   2.00000000e+00,\n",
       "         -3.87001040e+00,  -3.87001040e+00,   1.40998840e+00,\n",
       "          7.45999150e+00,   1.00000050e-02]])], dtype=object)"
      ]
     },
     "execution_count": 773,
     "metadata": {},
     "output_type": "execute_result"
    }
   ],
   "source": [
    "XX[:2][:2]"
   ]
  },
  {
   "cell_type": "code",
   "execution_count": 50,
   "metadata": {
    "collapsed": false
   },
   "outputs": [
    {
     "data": {
      "text/plain": [
       "(297, 50, 22)"
      ]
     },
     "execution_count": 50,
     "metadata": {},
     "output_type": "execute_result"
    }
   ],
   "source": [
    "np.shape(XX)"
   ]
  },
  {
   "cell_type": "code",
   "execution_count": 30,
   "metadata": {
    "collapsed": true
   },
   "outputs": [
    {
     "name": "stdout",
     "output_type": "stream",
     "text": [
      "(9, 23)\n",
      "(12, 23)\n",
      "(7, 23)\n",
      "(10, 23)\n",
      "(3, 23)\n",
      "(23,)\n",
      "(12, 23)\n",
      "(5, 23)\n",
      "(11, 23)\n",
      "(3, 23)\n",
      "(6, 23)\n",
      "(9, 23)\n",
      "(13, 23)\n",
      "(11, 23)\n",
      "(12, 23)\n",
      "(8, 23)\n",
      "(2, 23)\n",
      "(4, 23)\n",
      "(9, 23)\n",
      "(12, 23)\n",
      "(6, 23)\n",
      "(10, 23)\n",
      "(14, 23)\n",
      "(6, 23)\n",
      "(10, 23)\n",
      "(4, 23)\n",
      "(3, 23)\n",
      "(4, 23)\n",
      "(6, 23)\n",
      "(23,)\n",
      "(9, 23)\n",
      "(6, 23)\n",
      "(10, 23)\n",
      "(23,)\n",
      "(23,)\n",
      "(23,)\n",
      "(23,)\n",
      "(10, 23)\n",
      "(23,)\n",
      "(11, 23)\n",
      "(4, 23)\n",
      "(13, 23)\n",
      "(5, 23)\n",
      "(11, 23)\n",
      "(10, 23)\n",
      "(12, 23)\n",
      "(5, 23)\n",
      "(6, 23)\n",
      "(7, 23)\n",
      "(7, 23)\n",
      "(10, 23)\n",
      "(23,)\n",
      "(23,)\n",
      "(6, 23)\n",
      "(23,)\n",
      "(23,)\n",
      "(9, 23)\n",
      "(7, 23)\n",
      "(23,)\n",
      "(12, 23)\n",
      "(10, 23)\n",
      "(9, 23)\n",
      "(4, 23)\n",
      "(23,)\n",
      "(5, 23)\n",
      "(13, 23)\n",
      "(12, 23)\n",
      "(23,)\n",
      "(2, 23)\n",
      "(2, 23)\n",
      "(11, 23)\n",
      "(10, 23)\n",
      "(4, 23)\n",
      "(6, 23)\n",
      "(11, 23)\n",
      "(4, 23)\n",
      "(11, 23)\n",
      "(12, 23)\n",
      "(3, 23)\n",
      "(3, 23)\n",
      "(7, 23)\n",
      "(8, 23)\n",
      "(23,)\n",
      "(6, 23)\n",
      "(12, 23)\n",
      "(13, 23)\n",
      "(12, 23)\n",
      "(8, 23)\n",
      "(2, 23)\n",
      "(9, 23)\n",
      "(10, 23)\n",
      "(11, 23)\n",
      "(4, 23)\n",
      "(12, 23)\n",
      "(9, 23)\n",
      "(6, 23)\n",
      "(13, 23)\n",
      "(23,)\n",
      "(6, 23)\n",
      "(11, 23)\n",
      "(3, 23)\n",
      "(11, 23)\n",
      "(13, 23)\n",
      "(13, 23)\n",
      "(9, 23)\n",
      "(11, 23)\n",
      "(7, 23)\n",
      "(8, 23)\n",
      "(7, 23)\n",
      "(13, 23)\n",
      "(10, 23)\n",
      "(6, 23)\n",
      "(11, 23)\n",
      "(5, 23)\n",
      "(5, 23)\n",
      "(7, 23)\n",
      "(4, 23)\n",
      "(14, 23)\n",
      "(4, 23)\n",
      "(4, 23)\n",
      "(23,)\n",
      "(23,)\n",
      "(4, 23)\n",
      "(2, 23)\n",
      "(2, 23)\n",
      "(4, 23)\n",
      "(23,)\n",
      "(5, 23)\n",
      "(11, 23)\n",
      "(11, 23)\n",
      "(23,)\n",
      "(12, 23)\n",
      "(3, 23)\n",
      "(10, 23)\n",
      "(11, 23)\n",
      "(3, 23)\n",
      "(4, 23)\n",
      "(12, 23)\n",
      "(11, 23)\n",
      "(7, 23)\n",
      "(5, 23)\n",
      "(6, 23)\n",
      "(10, 23)\n",
      "(23,)\n",
      "(10, 23)\n",
      "(13, 23)\n",
      "(8, 23)\n",
      "(23,)\n",
      "(11, 23)\n",
      "(23,)\n",
      "(6, 23)\n",
      "(12, 23)\n",
      "(11, 23)\n",
      "(6, 23)\n",
      "(11, 23)\n",
      "(23,)\n",
      "(5, 23)\n",
      "(12, 23)\n",
      "(8, 23)\n",
      "(10, 23)\n",
      "(11, 23)\n",
      "(7, 23)\n",
      "(12, 23)\n",
      "(3, 23)\n",
      "(5, 23)\n",
      "(12, 23)\n",
      "(5, 23)\n",
      "(3, 23)\n",
      "(10, 23)\n",
      "(8, 23)\n",
      "(23,)\n",
      "(3, 23)\n",
      "(2, 23)\n",
      "(9, 23)\n",
      "(12, 23)\n",
      "(4, 23)\n",
      "(3, 23)\n",
      "(2, 23)\n",
      "(23,)\n",
      "(3, 23)\n",
      "(4, 23)\n",
      "(5, 23)\n",
      "(23,)\n",
      "(2, 23)\n",
      "(2, 23)\n",
      "(4, 23)\n",
      "(10, 23)\n",
      "(7, 23)\n",
      "(9, 23)\n",
      "(11, 23)\n",
      "(11, 23)\n",
      "(8, 23)\n",
      "(12, 23)\n",
      "(3, 23)\n",
      "(8, 23)\n",
      "(2, 23)\n",
      "(3, 23)\n",
      "(2, 23)\n",
      "(12, 23)\n",
      "(8, 23)\n",
      "(12, 23)\n",
      "(10, 23)\n",
      "(11, 23)\n",
      "(12, 23)\n",
      "(8, 23)\n",
      "(23,)\n",
      "(3, 23)\n",
      "(23,)\n",
      "(9, 23)\n",
      "(12, 23)\n",
      "(10, 23)\n",
      "(12, 23)\n",
      "(23,)\n",
      "(6, 23)\n",
      "(9, 23)\n",
      "(7, 23)\n",
      "(2, 23)\n",
      "(6, 23)\n",
      "(4, 23)\n",
      "(11, 23)\n",
      "(7, 23)\n",
      "(2, 23)\n",
      "(3, 23)\n",
      "(6, 23)\n",
      "(23,)\n",
      "(10, 23)\n",
      "(8, 23)\n",
      "(11, 23)\n",
      "(23,)\n",
      "(5, 23)\n",
      "(4, 23)\n",
      "(4, 23)\n",
      "(4, 23)\n",
      "(7, 23)\n",
      "(10, 23)\n",
      "(5, 23)\n",
      "(8, 23)\n",
      "(10, 23)\n",
      "(11, 23)\n",
      "(12, 23)\n",
      "(2, 23)\n",
      "(10, 23)\n",
      "(3, 23)\n",
      "(14, 23)\n",
      "(3, 23)\n",
      "(5, 23)\n",
      "(7, 23)\n",
      "(4, 23)\n",
      "(2, 23)\n",
      "(2, 23)\n",
      "(2, 23)\n",
      "(12, 23)\n",
      "(12, 23)\n",
      "(4, 23)\n",
      "(9, 23)\n",
      "(5, 23)\n",
      "(8, 23)\n",
      "(7, 23)\n",
      "(4, 23)\n",
      "(9, 23)\n",
      "(8, 23)\n",
      "(5, 23)\n",
      "(7, 23)\n",
      "(3, 23)\n",
      "(11, 23)\n",
      "(6, 23)\n",
      "(4, 23)\n",
      "(7, 23)\n",
      "(9, 23)\n",
      "(7, 23)\n",
      "(10, 23)\n",
      "(10, 23)\n",
      "(23,)\n",
      "(12, 23)\n",
      "(10, 23)\n",
      "(7, 23)\n",
      "(12, 23)\n",
      "(11, 23)\n",
      "(6, 23)\n",
      "(23,)\n",
      "(13, 23)\n",
      "(2, 23)\n",
      "(11, 23)\n",
      "(3, 23)\n",
      "(12, 23)\n",
      "(10, 23)\n",
      "(10, 23)\n",
      "(6, 23)\n",
      "(13, 23)\n",
      "(5, 23)\n",
      "(12, 23)\n",
      "(3, 23)\n",
      "(6, 23)\n",
      "(4, 23)\n",
      "(13, 23)\n",
      "(2, 23)\n",
      "(9, 23)\n"
     ]
    }
   ],
   "source": [
    "for i in XX:\n",
    "    print(np.shape(i))"
   ]
  },
  {
   "cell_type": "code",
   "execution_count": 22,
   "metadata": {
    "collapsed": false
   },
   "outputs": [
    {
     "data": {
      "text/plain": [
       "(9, 23)"
      ]
     },
     "execution_count": 22,
     "metadata": {},
     "output_type": "execute_result"
    }
   ],
   "source": [
    "np.shape(XX[0])"
   ]
  },
  {
   "cell_type": "code",
   "execution_count": 28,
   "metadata": {
    "collapsed": false
   },
   "outputs": [],
   "source": [
    "z = np.zeros([297,9,23])"
   ]
  },
  {
   "cell_type": "code",
   "execution_count": 29,
   "metadata": {
    "collapsed": false
   },
   "outputs": [
    {
     "data": {
      "text/plain": [
       "(297, 9, 23)"
      ]
     },
     "execution_count": 29,
     "metadata": {},
     "output_type": "execute_result"
    }
   ],
   "source": [
    "np.shape(z)"
   ]
  },
  {
   "cell_type": "code",
   "execution_count": 791,
   "metadata": {
    "collapsed": false
   },
   "outputs": [
    {
     "data": {
      "text/plain": [
       "(1, 297)"
      ]
     },
     "execution_count": 791,
     "metadata": {},
     "output_type": "execute_result"
    }
   ],
   "source": [
    "np.shape(np.reshape(XX,(297,1)))"
   ]
  },
  {
   "cell_type": "code",
   "execution_count": 716,
   "metadata": {
    "collapsed": true
   },
   "outputs": [],
   "source": [
    "tl = train.loc[2][:1][\"Expected\"]"
   ]
  },
  {
   "cell_type": "code",
   "execution_count": 718,
   "metadata": {
    "collapsed": false
   },
   "outputs": [
    {
     "data": {
      "text/plain": [
       "{'float64': Id\n",
       " 2    1.016\n",
       " Name: Expected, dtype: float64}"
      ]
     },
     "execution_count": 718,
     "metadata": {},
     "output_type": "execute_result"
    }
   ],
   "source": [
    "tl.as_blocks()"
   ]
  },
  {
   "cell_type": "code",
   "execution_count": 719,
   "metadata": {
    "collapsed": false
   },
   "outputs": [
    {
     "data": {
      "text/plain": [
       "array([ 1.0160005])"
      ]
     },
     "execution_count": 719,
     "metadata": {},
     "output_type": "execute_result"
    }
   ],
   "source": [
    "tl.as_matrix()"
   ]
  },
  {
   "cell_type": "code",
   "execution_count": 777,
   "metadata": {
    "collapsed": false
   },
   "outputs": [
    {
     "data": {
      "text/plain": [
       "array([[ 4.5760933 ,  2.61491046],\n",
       "       [ 3.92236568,  3.26863807]])"
      ]
     },
     "execution_count": 777,
     "metadata": {},
     "output_type": "execute_result"
    }
   ],
   "source": [
    "data.iloc[2:4].as_matrix()"
   ]
  },
  {
   "cell_type": "code",
   "execution_count": 776,
   "metadata": {
    "collapsed": true
   },
   "outputs": [
    {
     "data": {
      "text/plain": [
       "array([[  1.        ,   2.        ,   9.        ,   5.        ,\n",
       "          7.5       ,  10.5       ,  15.        ,  10.5       ,\n",
       "         16.5       ,  23.5       ,   0.99833333,   0.99833333,\n",
       "          0.99833333,   0.99833333,   0.375     ,  -0.125     ,\n",
       "          0.3125    ,   0.875     ,   1.0599976 ,  -1.4100037 ,\n",
       "         -0.3500061 ,   1.0599976 ,   1.0160005 ],\n",
       "       [ 16.        ,   2.        ,  18.        ,  14.        ,\n",
       "         17.5       ,  21.        ,  20.5       ,  18.        ,\n",
       "         20.5       ,  23.        ,   0.995     ,   0.995     ,\n",
       "          0.99833333,   1.0016667 ,   0.25      ,   0.125     ,\n",
       "          0.375     ,   0.6875    ,   0.34999084,  -1.0599976 ,\n",
       "          0.        ,   1.0599976 ,   1.0160005 ],\n",
       "       [ 21.        ,   2.        ,  24.5       ,  16.5       ,\n",
       "         21.        ,  24.5       ,  24.5       ,  21.        ,\n",
       "         24.        ,  28.        ,   0.99833333,   0.995     ,\n",
       "          0.99833333,   0.99833333,   0.25      ,   0.0625    ,\n",
       "          0.1875    ,   0.5625    ,  -0.3500061 ,  -1.0599976 ,\n",
       "         -0.3500061 ,   1.7599945 ,   1.0160005 ],\n",
       "       [ 26.        ,   2.        ,  12.        ,  12.        ,\n",
       "         16.        ,  20.        ,  16.5       ,  17.        ,\n",
       "         19.        ,  21.        ,   0.99833333,   0.995     ,\n",
       "          0.99833333,   0.99833333,   0.5625    ,   0.25      ,\n",
       "          0.4375    ,   0.6875    ,  -1.7600098 ,  -1.7600098 ,\n",
       "         -0.3500061 ,   0.70999146,   1.0160005 ],\n",
       "       [ 31.        ,   2.        ,  22.5       ,  19.        ,\n",
       "         22.        ,  25.        ,  26.        ,  23.5       ,\n",
       "         25.5       ,  27.5       ,   0.99833333,   0.995     ,\n",
       "          0.99833333,   1.0016667 ,   0.        ,  -0.1875    ,\n",
       "          0.25      ,   0.625     ,  -1.0599976 ,  -2.1200104 ,\n",
       "         -0.7100067 ,   0.34999084,   1.0160005 ],\n",
       "       [ 37.        ,   2.        ,  14.        ,  14.        ,\n",
       "         18.5       ,  21.        ,  19.5       ,  20.        ,\n",
       "         21.        ,  23.        ,   0.99833333,   0.9916667 ,\n",
       "          0.99833333,   0.99833333,   0.5       ,   0.1875    ,\n",
       "          0.4375    ,   0.8125    ,   0.        ,  -1.7600098 ,\n",
       "         -0.3500061 ,   1.0599976 ,   1.0160005 ],\n",
       "       [ 42.        ,   2.        ,  12.        ,  11.        ,\n",
       "         12.5       ,  17.        ,  19.5       ,  18.        ,\n",
       "         21.        ,  23.        ,   0.99833333,   0.995     ,\n",
       "          0.99833333,   0.99833333,   0.625     ,   0.375     ,\n",
       "          0.625     ,   0.875     ,  -0.3500061 ,  -0.3500061 ,\n",
       "          0.        ,   0.34999084,   1.0160005 ],\n",
       "       [ 47.        ,   2.        ,   1.5       ,   3.5       ,\n",
       "          7.        ,  10.5       ,  18.        ,  16.5       ,\n",
       "         18.5       ,  21.5       ,   0.99833333,   0.995     ,\n",
       "          0.99833333,   0.99833333,   0.375     ,   0.1875    ,\n",
       "          0.5       ,   0.6875    ,   0.34999084,  -2.1100006 ,\n",
       "         -0.3500061 ,   1.0599976 ,   1.0160005 ],\n",
       "       [ 53.        ,   2.        ,  16.        ,  14.5       ,\n",
       "         18.        ,  23.5       ,  28.        ,  23.5       ,\n",
       "         26.5       ,  29.5       ,   0.99833333,   0.9916667 ,\n",
       "          0.99833333,   0.99833333,   0.875     ,   0.625     ,\n",
       "          0.9375    ,   1.375     ,  -0.3500061 ,  -1.4100037 ,\n",
       "         -0.3500061 ,   2.119995  ,   1.0160005 ]])"
      ]
     },
     "execution_count": 776,
     "metadata": {},
     "output_type": "execute_result"
    }
   ],
   "source": [
    "train.loc[2].as_matrix()"
   ]
  },
  {
   "cell_type": "code",
   "execution_count": 46,
   "metadata": {
    "collapsed": false
   },
   "outputs": [],
   "source": [
    "m = data.loc[10].as_matrix()\n",
    "pad = np.pad(m, ((0, max_padding -len(m) ),(0,0)), 'constant')"
   ]
  },
  {
   "cell_type": "code",
   "execution_count": 47,
   "metadata": {
    "collapsed": false
   },
   "outputs": [
    {
     "data": {
      "text/plain": [
       "array([[  2.        ,  10.        ,  32.5       , ...,  -6.330002  ,\n",
       "          0.70999146,  11.089996  ],\n",
       "       [  6.        ,  10.        ,  37.5       , ..., -11.75      ,\n",
       "          0.        ,   8.429993  ],\n",
       "       [ 11.        ,  10.        ,  36.        , ..., -13.449997  ,\n",
       "         -3.1699982 ,   8.080002  ],\n",
       "       ..., \n",
       "       [  0.        ,   0.        ,   0.        , ...,   0.        ,\n",
       "          0.        ,   0.        ],\n",
       "       [  0.        ,   0.        ,   0.        , ...,   0.        ,\n",
       "          0.        ,   0.        ],\n",
       "       [  0.        ,   0.        ,   0.        , ...,   0.        ,\n",
       "          0.        ,   0.        ]])"
      ]
     },
     "execution_count": 47,
     "metadata": {},
     "output_type": "execute_result"
    }
   ],
   "source": [
    "pad"
   ]
  },
  {
   "cell_type": "code",
   "execution_count": 44,
   "metadata": {
    "collapsed": true
   },
   "outputs": [
    {
     "data": {
      "text/plain": [
       "array([  2,  10,  11,  12,  14,  15,  17,  18,  24,  27,  29,  32,  33,\n",
       "        34,  38,  41,  51,  56,  58,  62,  69,  72,  73,  74,  77,  78,\n",
       "        87,  90,  92,  94,  98, 102, 103, 104, 105, 106, 111, 117, 123,\n",
       "       127, 128, 133, 135, 136, 139, 144, 145, 151, 153, 155, 156, 160,\n",
       "       163, 164, 166, 174, 177, 178, 184, 186, 188, 189, 191, 192, 193,\n",
       "       198, 200, 206, 208, 210, 219, 220, 221, 224, 225, 226, 227, 230,\n",
       "       237, 240, 243, 245, 246, 249, 250, 251, 254, 255, 261, 263, 265,\n",
       "       266, 269, 274, 276, 279, 280, 284, 285, 288, 289, 291, 300, 302,\n",
       "       304, 309, 310, 316, 322, 325, 327, 330, 332, 335, 336, 340, 341,\n",
       "       344, 345, 347, 348, 350, 353, 358, 361, 362, 364, 365, 366, 368,\n",
       "       369, 371, 373, 379, 382, 390, 391, 396, 402, 403, 404, 405, 406,\n",
       "       410, 411, 416, 418, 425, 429, 431, 432, 436, 438, 442, 443, 445,\n",
       "       451, 453, 462, 465, 474, 475, 476, 483, 489, 495, 500, 502, 506,\n",
       "       521, 523, 527, 531, 539, 541, 545, 546, 547, 548, 551, 552, 556,\n",
       "       557, 559, 560, 563, 565, 566, 569, 575, 576, 577, 583, 584, 585,\n",
       "       592, 597, 599, 603, 605, 616, 617, 620, 625, 628, 629, 639, 640,\n",
       "       641, 644, 647, 651, 655, 657, 658, 662, 669, 673, 675, 682, 685,\n",
       "       689, 697, 706, 707, 708, 720, 727, 729, 736, 739, 741, 742, 743,\n",
       "       746, 748, 752, 754, 762, 770, 771, 778, 781, 782, 784, 786, 788,\n",
       "       789, 793, 796, 797, 801, 803, 804, 812, 817, 818, 821, 823, 825,\n",
       "       826, 828, 830, 836, 837, 838, 861, 862, 864, 868, 871, 872, 875,\n",
       "       877, 878, 880, 885, 887, 894, 899, 901, 902, 904, 905, 906, 908,\n",
       "       909, 912, 913, 917, 925, 929, 930, 931, 938, 939, 940])"
      ]
     },
     "execution_count": 44,
     "metadata": {},
     "output_type": "execute_result"
    }
   ],
   "source": [
    "train.index.unique()"
   ]
  },
  {
   "cell_type": "code",
   "execution_count": 132,
   "metadata": {
    "collapsed": true
   },
   "outputs": [],
   "source": [
    "max_padding = 20"
   ]
  },
  {
   "cell_type": "code",
   "execution_count": 137,
   "metadata": {
    "collapsed": false
   },
   "outputs": [
    {
     "name": "stdout",
     "output_type": "stream",
     "text": [
      "CPU times: user 18.4 s, sys: 59.5 ms, total: 18.5 s\n",
      "Wall time: 18.5 s\n"
     ]
    }
   ],
   "source": [
    "%%time\n",
    "\n",
    "docX, docY = [], []\n",
    "for i in train.index.unique():\n",
    "    if isinstance(train.loc[i],pd.core.series.Series):\n",
    "        m = [data.loc[i].as_matrix()]\n",
    "        pad = np.pad(m, ((0, max_padding -len(m) ),(0,0)), 'constant')\n",
    "        docX.append(pad)\n",
    "        docY.append(float(train.loc[i][\"Expected\"]))\n",
    "    else:\n",
    "        m = data.loc[i].as_matrix()\n",
    "        pad = np.pad(m, ((0, max_padding -len(m) ),(0,0)), 'constant')\n",
    "        docX.append(pad)\n",
    "        docY.append(float(train.loc[i][:1][\"Expected\"]))\n",
    "    #docY.append(train.loc[i][:1][\"Expected\"].as_matrix)\n",
    "XX = np.array(docX)\n",
    "yy = np.array(docY)"
   ]
  },
  {
   "cell_type": "code",
   "execution_count": 138,
   "metadata": {
    "collapsed": false
   },
   "outputs": [
    {
     "data": {
      "text/plain": [
       "(28899, 20, 3)"
      ]
     },
     "execution_count": 138,
     "metadata": {},
     "output_type": "execute_result"
    }
   ],
   "source": [
    "np.shape(XX)"
   ]
  },
  {
   "cell_type": "code",
   "execution_count": 34,
   "metadata": {
    "collapsed": true
   },
   "outputs": [
    {
     "ename": "ValueError",
     "evalue": "Unable to create correctly shaped tuple from ((0, 27), (0, 0))",
     "output_type": "error",
     "traceback": [
      "\u001b[0;31m---------------------------------------------------------------------------\u001b[0m",
      "\u001b[0;31mValueError\u001b[0m                                Traceback (most recent call last)",
      "\u001b[0;32m<ipython-input-34-8b5129e33870>\u001b[0m in \u001b[0;36m<module>\u001b[0;34m()\u001b[0m\n\u001b[1;32m     26\u001b[0m     \u001b[0;32mreturn\u001b[0m \u001b[0;34m(\u001b[0m\u001b[0mX_train\u001b[0m\u001b[0;34m,\u001b[0m \u001b[0my_train\u001b[0m\u001b[0;34m)\u001b[0m\u001b[0;34m,\u001b[0m \u001b[0;34m(\u001b[0m\u001b[0mX_test\u001b[0m\u001b[0;34m,\u001b[0m \u001b[0my_test\u001b[0m\u001b[0;34m)\u001b[0m\u001b[0;34m\u001b[0m\u001b[0m\n\u001b[1;32m     27\u001b[0m \u001b[0;34m\u001b[0m\u001b[0m\n\u001b[0;32m---> 28\u001b[0;31m \u001b[0;34m(\u001b[0m\u001b[0mX_train\u001b[0m\u001b[0;34m,\u001b[0m \u001b[0my_train\u001b[0m\u001b[0;34m)\u001b[0m\u001b[0;34m,\u001b[0m \u001b[0;34m(\u001b[0m\u001b[0mX_test\u001b[0m\u001b[0;34m,\u001b[0m \u001b[0my_test\u001b[0m\u001b[0;34m)\u001b[0m \u001b[0;34m=\u001b[0m \u001b[0mtrain_test_split\u001b[0m\u001b[0;34m(\u001b[0m\u001b[0mtrain\u001b[0m\u001b[0;34m)\u001b[0m\u001b[0;34m\u001b[0m\u001b[0m\n\u001b[0m",
      "\u001b[0;32m<ipython-input-34-8b5129e33870>\u001b[0m in \u001b[0;36mtrain_test_split\u001b[0;34m(df, test_size)\u001b[0m\n\u001b[1;32m     21\u001b[0m     \u001b[0mntrn\u001b[0m \u001b[0;34m=\u001b[0m \u001b[0mround\u001b[0m\u001b[0;34m(\u001b[0m\u001b[0mlen\u001b[0m\u001b[0;34m(\u001b[0m\u001b[0mdf\u001b[0m\u001b[0;34m)\u001b[0m \u001b[0;34m*\u001b[0m \u001b[0;34m(\u001b[0m\u001b[0;36m1\u001b[0m \u001b[0;34m-\u001b[0m \u001b[0mtest_size\u001b[0m\u001b[0;34m)\u001b[0m\u001b[0;34m)\u001b[0m\u001b[0;34m\u001b[0m\u001b[0m\n\u001b[1;32m     22\u001b[0m \u001b[0;34m\u001b[0m\u001b[0m\n\u001b[0;32m---> 23\u001b[0;31m     \u001b[0mX_train\u001b[0m\u001b[0;34m,\u001b[0m \u001b[0my_train\u001b[0m \u001b[0;34m=\u001b[0m \u001b[0m_load_data\u001b[0m\u001b[0;34m(\u001b[0m\u001b[0mdf\u001b[0m\u001b[0;34m.\u001b[0m\u001b[0miloc\u001b[0m\u001b[0;34m[\u001b[0m\u001b[0;36m0\u001b[0m\u001b[0;34m:\u001b[0m\u001b[0mntrn\u001b[0m\u001b[0;34m]\u001b[0m\u001b[0;34m)\u001b[0m\u001b[0;34m\u001b[0m\u001b[0m\n\u001b[0m\u001b[1;32m     24\u001b[0m     \u001b[0mX_test\u001b[0m\u001b[0;34m,\u001b[0m \u001b[0my_test\u001b[0m \u001b[0;34m=\u001b[0m \u001b[0m_load_data\u001b[0m\u001b[0;34m(\u001b[0m\u001b[0mdf\u001b[0m\u001b[0;34m.\u001b[0m\u001b[0miloc\u001b[0m\u001b[0;34m[\u001b[0m\u001b[0mntrn\u001b[0m\u001b[0;34m:\u001b[0m\u001b[0;34m]\u001b[0m\u001b[0;34m)\u001b[0m\u001b[0;34m\u001b[0m\u001b[0m\n\u001b[1;32m     25\u001b[0m \u001b[0;34m\u001b[0m\u001b[0m\n",
      "\u001b[0;32m<ipython-input-34-8b5129e33870>\u001b[0m in \u001b[0;36m_load_data\u001b[0;34m(data)\u001b[0m\n\u001b[1;32m      7\u001b[0m         \u001b[0;31m#np.pad(tmp, ((0, max_padding -len(tmp) ),(0,0)), 'constant')\u001b[0m\u001b[0;34m\u001b[0m\u001b[0;34m\u001b[0m\u001b[0m\n\u001b[1;32m      8\u001b[0m         \u001b[0mm\u001b[0m \u001b[0;34m=\u001b[0m \u001b[0mdata\u001b[0m\u001b[0;34m.\u001b[0m\u001b[0mloc\u001b[0m\u001b[0;34m[\u001b[0m\u001b[0mi\u001b[0m\u001b[0;34m]\u001b[0m\u001b[0;34m.\u001b[0m\u001b[0mas_matrix\u001b[0m\u001b[0;34m(\u001b[0m\u001b[0;34m)\u001b[0m\u001b[0;34m\u001b[0m\u001b[0m\n\u001b[0;32m----> 9\u001b[0;31m         \u001b[0mpad\u001b[0m \u001b[0;34m=\u001b[0m \u001b[0mnp\u001b[0m\u001b[0;34m.\u001b[0m\u001b[0mpad\u001b[0m\u001b[0;34m(\u001b[0m\u001b[0mm\u001b[0m\u001b[0;34m,\u001b[0m \u001b[0;34m(\u001b[0m\u001b[0;34m(\u001b[0m\u001b[0;36m0\u001b[0m\u001b[0;34m,\u001b[0m \u001b[0mmax_padding\u001b[0m \u001b[0;34m-\u001b[0m\u001b[0mlen\u001b[0m\u001b[0;34m(\u001b[0m\u001b[0mm\u001b[0m\u001b[0;34m)\u001b[0m \u001b[0;34m)\u001b[0m\u001b[0;34m,\u001b[0m\u001b[0;34m(\u001b[0m\u001b[0;36m0\u001b[0m\u001b[0;34m,\u001b[0m\u001b[0;36m0\u001b[0m\u001b[0;34m)\u001b[0m\u001b[0;34m)\u001b[0m\u001b[0;34m,\u001b[0m \u001b[0;34m'constant'\u001b[0m\u001b[0;34m)\u001b[0m\u001b[0;34m\u001b[0m\u001b[0m\n\u001b[0m\u001b[1;32m     10\u001b[0m         \u001b[0mdocX\u001b[0m\u001b[0;34m.\u001b[0m\u001b[0mappend\u001b[0m\u001b[0;34m(\u001b[0m\u001b[0mpad\u001b[0m\u001b[0;34m)\u001b[0m\u001b[0;34m\u001b[0m\u001b[0m\n\u001b[1;32m     11\u001b[0m         \u001b[0;32mif\u001b[0m \u001b[0misinstance\u001b[0m\u001b[0;34m(\u001b[0m\u001b[0mtrain\u001b[0m\u001b[0;34m.\u001b[0m\u001b[0mloc\u001b[0m\u001b[0;34m[\u001b[0m\u001b[0mi\u001b[0m\u001b[0;34m]\u001b[0m\u001b[0;34m,\u001b[0m\u001b[0mpd\u001b[0m\u001b[0;34m.\u001b[0m\u001b[0mcore\u001b[0m\u001b[0;34m.\u001b[0m\u001b[0mseries\u001b[0m\u001b[0;34m.\u001b[0m\u001b[0mSeries\u001b[0m\u001b[0;34m)\u001b[0m\u001b[0;34m:\u001b[0m\u001b[0;34m\u001b[0m\u001b[0m\n",
      "\u001b[0;32m/System/Library/Frameworks/Python.framework/Versions/2.7/Extras/lib/python/numpy/lib/arraypad.pyc\u001b[0m in \u001b[0;36mpad\u001b[0;34m(array, pad_width, mode, **kwargs)\u001b[0m\n\u001b[1;32m   1280\u001b[0m \u001b[0;34m\u001b[0m\u001b[0m\n\u001b[1;32m   1281\u001b[0m     \u001b[0mnarray\u001b[0m \u001b[0;34m=\u001b[0m \u001b[0mnp\u001b[0m\u001b[0;34m.\u001b[0m\u001b[0marray\u001b[0m\u001b[0;34m(\u001b[0m\u001b[0marray\u001b[0m\u001b[0;34m)\u001b[0m\u001b[0;34m\u001b[0m\u001b[0m\n\u001b[0;32m-> 1282\u001b[0;31m     \u001b[0mpad_width\u001b[0m \u001b[0;34m=\u001b[0m \u001b[0m_validate_lengths\u001b[0m\u001b[0;34m(\u001b[0m\u001b[0mnarray\u001b[0m\u001b[0;34m,\u001b[0m \u001b[0mpad_width\u001b[0m\u001b[0;34m)\u001b[0m\u001b[0;34m\u001b[0m\u001b[0m\n\u001b[0m\u001b[1;32m   1283\u001b[0m \u001b[0;34m\u001b[0m\u001b[0m\n\u001b[1;32m   1284\u001b[0m     allowedkwargs = {\n",
      "\u001b[0;32m/System/Library/Frameworks/Python.framework/Versions/2.7/Extras/lib/python/numpy/lib/arraypad.pyc\u001b[0m in \u001b[0;36m_validate_lengths\u001b[0;34m(narray, number_elements)\u001b[0m\n\u001b[1;32m   1077\u001b[0m \u001b[0;34m\u001b[0m\u001b[0m\n\u001b[1;32m   1078\u001b[0m     \"\"\"\n\u001b[0;32m-> 1079\u001b[0;31m     \u001b[0mnormshp\u001b[0m \u001b[0;34m=\u001b[0m \u001b[0m_normalize_shape\u001b[0m\u001b[0;34m(\u001b[0m\u001b[0mnarray\u001b[0m\u001b[0;34m,\u001b[0m \u001b[0mnumber_elements\u001b[0m\u001b[0;34m)\u001b[0m\u001b[0;34m\u001b[0m\u001b[0m\n\u001b[0m\u001b[1;32m   1080\u001b[0m     \u001b[0;32mfor\u001b[0m \u001b[0mi\u001b[0m \u001b[0;32min\u001b[0m \u001b[0mnormshp\u001b[0m\u001b[0;34m:\u001b[0m\u001b[0;34m\u001b[0m\u001b[0m\n\u001b[1;32m   1081\u001b[0m         \u001b[0mchk\u001b[0m \u001b[0;34m=\u001b[0m \u001b[0;34m[\u001b[0m\u001b[0;36m1\u001b[0m \u001b[0;32mif\u001b[0m \u001b[0mx\u001b[0m \u001b[0;32mis\u001b[0m \u001b[0mNone\u001b[0m \u001b[0;32melse\u001b[0m \u001b[0mx\u001b[0m \u001b[0;32mfor\u001b[0m \u001b[0mx\u001b[0m \u001b[0;32min\u001b[0m \u001b[0mi\u001b[0m\u001b[0;34m]\u001b[0m\u001b[0;34m\u001b[0m\u001b[0m\n",
      "\u001b[0;32m/System/Library/Frameworks/Python.framework/Versions/2.7/Extras/lib/python/numpy/lib/arraypad.pyc\u001b[0m in \u001b[0;36m_normalize_shape\u001b[0;34m(narray, shape)\u001b[0m\n\u001b[1;32m   1042\u001b[0m     \u001b[0;32mif\u001b[0m \u001b[0mnormshp\u001b[0m \u001b[0;32mis\u001b[0m \u001b[0mNone\u001b[0m\u001b[0;34m:\u001b[0m\u001b[0;34m\u001b[0m\u001b[0m\n\u001b[1;32m   1043\u001b[0m         \u001b[0mfmt\u001b[0m \u001b[0;34m=\u001b[0m \u001b[0;34m\"Unable to create correctly shaped tuple from %s\"\u001b[0m\u001b[0;34m\u001b[0m\u001b[0m\n\u001b[0;32m-> 1044\u001b[0;31m         \u001b[0;32mraise\u001b[0m \u001b[0mValueError\u001b[0m\u001b[0;34m(\u001b[0m\u001b[0mfmt\u001b[0m \u001b[0;34m%\u001b[0m \u001b[0;34m(\u001b[0m\u001b[0mshape\u001b[0m\u001b[0;34m,\u001b[0m\u001b[0;34m)\u001b[0m\u001b[0;34m)\u001b[0m\u001b[0;34m\u001b[0m\u001b[0m\n\u001b[0m\u001b[1;32m   1045\u001b[0m     \u001b[0;32mreturn\u001b[0m \u001b[0mnormshp\u001b[0m\u001b[0;34m\u001b[0m\u001b[0m\n\u001b[1;32m   1046\u001b[0m \u001b[0;34m\u001b[0m\u001b[0m\n",
      "\u001b[0;31mValueError\u001b[0m: Unable to create correctly shaped tuple from ((0, 27), (0, 0))"
     ]
    }
   ],
   "source": [
    "def _load_data(data):  \n",
    "    \"\"\"\n",
    "    data should be pd.DataFrame()\n",
    "    \"\"\"\n",
    "    docX, docY = [], []\n",
    "    for i in data.index.unique():\n",
    "        #np.pad(tmp, ((0, max_padding -len(tmp) ),(0,0)), 'constant')\n",
    "        m = data.loc[i].as_matrix()\n",
    "        pad = np.pad(m, ((0, max_padding -len(m) ),(0,0)), 'constant')\n",
    "        docX.append(pad)\n",
    "        if isinstance(train.loc[i],pd.core.series.Series):\n",
    "            docY.append(float(train.loc[i][\"Expected\"]))\n",
    "        else:\n",
    "            docY.append(float(train.loc[i][:1][\"Expected\"]))\n",
    "    alsX = np.array(docX)\n",
    "    alsY = np.array(docY)\n",
    "\n",
    "    return alsX, alsY\n",
    "\n",
    "def train_test_split(df, test_size=0.1):  \n",
    "    ntrn = round(len(df) * (1 - test_size))\n",
    "\n",
    "    X_train, y_train = _load_data(df.iloc[0:ntrn])\n",
    "    X_test, y_test = _load_data(df.iloc[ntrn:])\n",
    "    \n",
    "    return (X_train, y_train), (X_test, y_test)\n",
    "\n",
    "(X_train, y_train), (X_test, y_test) = train_test_split(train)"
   ]
  },
  {
   "cell_type": "code",
   "execution_count": 375,
   "metadata": {
    "collapsed": false
   },
   "outputs": [
    {
     "data": {
      "text/plain": [
       "100"
      ]
     },
     "execution_count": 375,
     "metadata": {},
     "output_type": "execute_result"
    }
   ],
   "source": [
    "len(X_train[0])"
   ]
  },
  {
   "cell_type": "code",
   "execution_count": 394,
   "metadata": {
    "collapsed": false
   },
   "outputs": [
    {
     "data": {
      "text/html": [
       "<div>\n",
       "<table border=\"1\" class=\"dataframe\">\n",
       "  <thead>\n",
       "    <tr style=\"text-align: right;\">\n",
       "      <th></th>\n",
       "      <th>Id</th>\n",
       "      <th>minutes_past</th>\n",
       "      <th>radardist_km</th>\n",
       "      <th>Ref</th>\n",
       "      <th>Ref_5x5_10th</th>\n",
       "      <th>Ref_5x5_50th</th>\n",
       "      <th>Ref_5x5_90th</th>\n",
       "      <th>RefComposite</th>\n",
       "      <th>RefComposite_5x5_10th</th>\n",
       "      <th>RefComposite_5x5_50th</th>\n",
       "      <th>...</th>\n",
       "      <th>RhoHV_5x5_90th</th>\n",
       "      <th>Zdr</th>\n",
       "      <th>Zdr_5x5_10th</th>\n",
       "      <th>Zdr_5x5_50th</th>\n",
       "      <th>Zdr_5x5_90th</th>\n",
       "      <th>Kdp</th>\n",
       "      <th>Kdp_5x5_10th</th>\n",
       "      <th>Kdp_5x5_50th</th>\n",
       "      <th>Kdp_5x5_90th</th>\n",
       "      <th>Expected</th>\n",
       "    </tr>\n",
       "  </thead>\n",
       "  <tbody>\n",
       "    <tr>\n",
       "      <th>6</th>\n",
       "      <td>2</td>\n",
       "      <td>1</td>\n",
       "      <td>2</td>\n",
       "      <td>9.0</td>\n",
       "      <td>5.0</td>\n",
       "      <td>7.5</td>\n",
       "      <td>10.5</td>\n",
       "      <td>15.0</td>\n",
       "      <td>10.5</td>\n",
       "      <td>16.5</td>\n",
       "      <td>...</td>\n",
       "      <td>0.998333</td>\n",
       "      <td>0.3750</td>\n",
       "      <td>-0.1250</td>\n",
       "      <td>0.3125</td>\n",
       "      <td>0.8750</td>\n",
       "      <td>1.059998</td>\n",
       "      <td>-1.410004</td>\n",
       "      <td>-0.350006</td>\n",
       "      <td>1.059998</td>\n",
       "      <td>1.016</td>\n",
       "    </tr>\n",
       "    <tr>\n",
       "      <th>9</th>\n",
       "      <td>2</td>\n",
       "      <td>16</td>\n",
       "      <td>2</td>\n",
       "      <td>18.0</td>\n",
       "      <td>14.0</td>\n",
       "      <td>17.5</td>\n",
       "      <td>21.0</td>\n",
       "      <td>20.5</td>\n",
       "      <td>18.0</td>\n",
       "      <td>20.5</td>\n",
       "      <td>...</td>\n",
       "      <td>1.001667</td>\n",
       "      <td>0.2500</td>\n",
       "      <td>0.1250</td>\n",
       "      <td>0.3750</td>\n",
       "      <td>0.6875</td>\n",
       "      <td>0.349991</td>\n",
       "      <td>-1.059998</td>\n",
       "      <td>0.000000</td>\n",
       "      <td>1.059998</td>\n",
       "      <td>1.016</td>\n",
       "    </tr>\n",
       "    <tr>\n",
       "      <th>10</th>\n",
       "      <td>2</td>\n",
       "      <td>21</td>\n",
       "      <td>2</td>\n",
       "      <td>24.5</td>\n",
       "      <td>16.5</td>\n",
       "      <td>21.0</td>\n",
       "      <td>24.5</td>\n",
       "      <td>24.5</td>\n",
       "      <td>21.0</td>\n",
       "      <td>24.0</td>\n",
       "      <td>...</td>\n",
       "      <td>0.998333</td>\n",
       "      <td>0.2500</td>\n",
       "      <td>0.0625</td>\n",
       "      <td>0.1875</td>\n",
       "      <td>0.5625</td>\n",
       "      <td>-0.350006</td>\n",
       "      <td>-1.059998</td>\n",
       "      <td>-0.350006</td>\n",
       "      <td>1.759994</td>\n",
       "      <td>1.016</td>\n",
       "    </tr>\n",
       "    <tr>\n",
       "      <th>11</th>\n",
       "      <td>2</td>\n",
       "      <td>26</td>\n",
       "      <td>2</td>\n",
       "      <td>12.0</td>\n",
       "      <td>12.0</td>\n",
       "      <td>16.0</td>\n",
       "      <td>20.0</td>\n",
       "      <td>16.5</td>\n",
       "      <td>17.0</td>\n",
       "      <td>19.0</td>\n",
       "      <td>...</td>\n",
       "      <td>0.998333</td>\n",
       "      <td>0.5625</td>\n",
       "      <td>0.2500</td>\n",
       "      <td>0.4375</td>\n",
       "      <td>0.6875</td>\n",
       "      <td>-1.760010</td>\n",
       "      <td>-1.760010</td>\n",
       "      <td>-0.350006</td>\n",
       "      <td>0.709991</td>\n",
       "      <td>1.016</td>\n",
       "    </tr>\n",
       "    <tr>\n",
       "      <th>12</th>\n",
       "      <td>2</td>\n",
       "      <td>31</td>\n",
       "      <td>2</td>\n",
       "      <td>22.5</td>\n",
       "      <td>19.0</td>\n",
       "      <td>22.0</td>\n",
       "      <td>25.0</td>\n",
       "      <td>26.0</td>\n",
       "      <td>23.5</td>\n",
       "      <td>25.5</td>\n",
       "      <td>...</td>\n",
       "      <td>1.001667</td>\n",
       "      <td>0.0000</td>\n",
       "      <td>-0.1875</td>\n",
       "      <td>0.2500</td>\n",
       "      <td>0.6250</td>\n",
       "      <td>-1.059998</td>\n",
       "      <td>-2.120010</td>\n",
       "      <td>-0.710007</td>\n",
       "      <td>0.349991</td>\n",
       "      <td>1.016</td>\n",
       "    </tr>\n",
       "  </tbody>\n",
       "</table>\n",
       "<p>5 rows × 24 columns</p>\n",
       "</div>"
      ],
      "text/plain": [
       "    Id  minutes_past  radardist_km   Ref  Ref_5x5_10th  Ref_5x5_50th  \\\n",
       "6    2             1             2   9.0           5.0           7.5   \n",
       "9    2            16             2  18.0          14.0          17.5   \n",
       "10   2            21             2  24.5          16.5          21.0   \n",
       "11   2            26             2  12.0          12.0          16.0   \n",
       "12   2            31             2  22.5          19.0          22.0   \n",
       "\n",
       "    Ref_5x5_90th  RefComposite  RefComposite_5x5_10th  RefComposite_5x5_50th  \\\n",
       "6           10.5          15.0                   10.5                   16.5   \n",
       "9           21.0          20.5                   18.0                   20.5   \n",
       "10          24.5          24.5                   21.0                   24.0   \n",
       "11          20.0          16.5                   17.0                   19.0   \n",
       "12          25.0          26.0                   23.5                   25.5   \n",
       "\n",
       "      ...     RhoHV_5x5_90th     Zdr  Zdr_5x5_10th  Zdr_5x5_50th  \\\n",
       "6     ...           0.998333  0.3750       -0.1250        0.3125   \n",
       "9     ...           1.001667  0.2500        0.1250        0.3750   \n",
       "10    ...           0.998333  0.2500        0.0625        0.1875   \n",
       "11    ...           0.998333  0.5625        0.2500        0.4375   \n",
       "12    ...           1.001667  0.0000       -0.1875        0.2500   \n",
       "\n",
       "    Zdr_5x5_90th       Kdp  Kdp_5x5_10th  Kdp_5x5_50th  Kdp_5x5_90th  Expected  \n",
       "6         0.8750  1.059998     -1.410004     -0.350006      1.059998     1.016  \n",
       "9         0.6875  0.349991     -1.059998      0.000000      1.059998     1.016  \n",
       "10        0.5625 -0.350006     -1.059998     -0.350006      1.759994     1.016  \n",
       "11        0.6875 -1.760010     -1.760010     -0.350006      0.709991     1.016  \n",
       "12        0.6250 -1.059998     -2.120010     -0.710007      0.349991     1.016  \n",
       "\n",
       "[5 rows x 24 columns]"
      ]
     },
     "execution_count": 394,
     "metadata": {},
     "output_type": "execute_result"
    }
   ],
   "source": [
    "train.head()"
   ]
  },
  {
   "cell_type": "code",
   "execution_count": 423,
   "metadata": {
    "collapsed": false
   },
   "outputs": [
    {
     "data": {
      "text/plain": [
       "array([[ 2.66313169,  0.59180704],\n",
       "       [ 2.36722817,  0.88771056],\n",
       "       [ 2.07132464,  1.18361408],\n",
       "       [ 1.77542112,  1.4795176 ],\n",
       "       [ 1.4795176 ,  1.77542112],\n",
       "       [ 1.18361408,  2.07132464],\n",
       "       [ 0.88771056,  2.36722817],\n",
       "       [ 0.59180704,  2.66313169],\n",
       "       [ 0.29590352,  2.95903521],\n",
       "       [ 0.59180704,  2.66313169]])"
      ]
     },
     "execution_count": 423,
     "metadata": {},
     "output_type": "execute_result"
    }
   ],
   "source": [
    "X_train[0][:10]"
   ]
  },
  {
   "cell_type": "code",
   "execution_count": 424,
   "metadata": {
    "collapsed": true
   },
   "outputs": [],
   "source": [
    "yt = []\n",
    "for i in y_train:\n",
    "    yt.append([i[0]])"
   ]
  },
  {
   "cell_type": "code",
   "execution_count": 425,
   "metadata": {
    "collapsed": false
   },
   "outputs": [
    {
     "data": {
      "text/plain": [
       "[0.88771056196653186]"
      ]
     },
     "execution_count": 425,
     "metadata": {},
     "output_type": "execute_result"
    }
   ],
   "source": [
    "yt[0]"
   ]
  },
  {
   "cell_type": "code",
   "execution_count": 439,
   "metadata": {
    "collapsed": false
   },
   "outputs": [
    {
     "data": {
      "text/plain": [
       "(16091, 100, 2)"
      ]
     },
     "execution_count": 439,
     "metadata": {},
     "output_type": "execute_result"
    }
   ],
   "source": [
    "X_train.shape"
   ]
  },
  {
   "cell_type": "code",
   "execution_count": 450,
   "metadata": {
    "collapsed": false
   },
   "outputs": [
    {
     "data": {
      "text/plain": [
       "21"
      ]
     },
     "execution_count": 450,
     "metadata": {},
     "output_type": "execute_result"
    }
   ],
   "source": [
    "len(fea[0])"
   ]
  },
  {
   "cell_type": "code",
   "execution_count": 449,
   "metadata": {
    "collapsed": false
   },
   "outputs": [
    {
     "data": {
      "text/plain": [
       "2"
      ]
     },
     "execution_count": 449,
     "metadata": {},
     "output_type": "execute_result"
    }
   ],
   "source": [
    "len(X_train[0][0])"
   ]
  },
  {
   "cell_type": "code",
   "execution_count": 442,
   "metadata": {
    "collapsed": false
   },
   "outputs": [],
   "source": [
    "f = np.array(fea)"
   ]
  },
  {
   "cell_type": "code",
   "execution_count": 443,
   "metadata": {
    "collapsed": false
   },
   "outputs": [
    {
     "ename": "TypeError",
     "evalue": "'tuple' object is not callable",
     "output_type": "error",
     "traceback": [
      "\u001b[0;31m---------------------------------------------------------------------------\u001b[0m",
      "\u001b[0;31mTypeError\u001b[0m                                 Traceback (most recent call last)",
      "\u001b[0;32m<ipython-input-443-4a75c17b35fb>\u001b[0m in \u001b[0;36m<module>\u001b[0;34m()\u001b[0m\n\u001b[0;32m----> 1\u001b[0;31m \u001b[0mf\u001b[0m\u001b[0;34m.\u001b[0m\u001b[0mshape\u001b[0m\u001b[0;34m(\u001b[0m\u001b[0;34m)\u001b[0m\u001b[0;34m\u001b[0m\u001b[0m\n\u001b[0m",
      "\u001b[0;31mTypeError\u001b[0m: 'tuple' object is not callable"
     ]
    }
   ],
   "source": [
    "f.shape()"
   ]
  },
  {
   "cell_type": "code",
   "execution_count": 428,
   "metadata": {
    "collapsed": false
   },
   "outputs": [
    {
     "name": "stdout",
     "output_type": "stream",
     "text": [
      "Train on 15286 samples, validate on 805 samples\n",
      "Epoch 0\n",
      "15286/15286 [==============================] - 11s - loss: 1.4571 - val_loss: 0.5908\n",
      "Epoch 1\n",
      "15286/15286 [==============================] - 10s - loss: 0.4297 - val_loss: 0.3123\n"
     ]
    },
    {
     "data": {
      "text/plain": [
       "<keras.callbacks.History at 0x1495fe7d0>"
      ]
     },
     "execution_count": 428,
     "metadata": {},
     "output_type": "execute_result"
    }
   ],
   "source": [
    "#(X_train, y_train), (X_test, y_test) = train_test_split(data)  # retrieve data\n",
    "\n",
    "# and now train the model\n",
    "# batch_size should be appropriate to your memory size\n",
    "# number of epochs should be higher for real world problems\n",
    "model.fit(X_train, yt, batch_size=450, nb_epoch=2, validation_split=0.05)  "
   ]
  },
  {
   "cell_type": "code",
   "execution_count": 393,
   "metadata": {
    "collapsed": false
   },
   "outputs": [
    {
     "data": {
      "text/plain": [
       "<matplotlib.axes.AxesSubplot at 0x110ae8f50>"
      ]
     },
     "execution_count": 393,
     "metadata": {},
     "output_type": "execute_result"
    },
    {
     "data": {
      "image/png": "[encoded data removed]",
      "text/plain": [
       "<matplotlib.figure.Figure at 0x1313a6f50>"
      ]
     },
     "metadata": {},
     "output_type": "display_data"
    },
    {
     "data": {
      "image/png": "[encoded data removed]",
      "text/plain": [
       "<matplotlib.figure.Figure at 0x1313a6610>"
      ]
     },
     "metadata": {},
     "output_type": "display_data"
    }
   ],
   "source": [
    "predicted = model.predict(X_test)  \n",
    "rmse = np.sqrt(((predicted - y_test) ** 2).mean(axis=0))\n",
    "\n",
    "# and maybe plot it\n",
    "pd.DataFrame(predicted[:100]).plot()  \n",
    "pd.DataFrame(y_test[:100]).plot()  "
   ]
  },
  {
   "cell_type": "code",
   "execution_count": null,
   "metadata": {
    "collapsed": true
   },
   "outputs": [],
   "source": []
  },
  {
   "cell_type": "code",
   "execution_count": 531,
   "metadata": {
    "collapsed": true
   },
   "outputs": [],
   "source": [
    "filename = \"data/reduced_train_10000.csv\"\n",
    "train = pd.read_csv(filename)\n",
    "train = train.dropna()\n",
    "train = train.set_index('Id')"
   ]
  },
  {
   "cell_type": "code",
   "execution_count": 533,
   "metadata": {
    "collapsed": false
   },
   "outputs": [
    {
     "data": {
      "text/html": [
       "<div>\n",
       "<table border=\"1\" class=\"dataframe\">\n",
       "  <thead>\n",
       "    <tr style=\"text-align: right;\">\n",
       "      <th></th>\n",
       "      <th>minutes_past</th>\n",
       "      <th>radardist_km</th>\n",
       "      <th>Ref</th>\n",
       "      <th>Ref_5x5_10th</th>\n",
       "      <th>Ref_5x5_50th</th>\n",
       "      <th>Ref_5x5_90th</th>\n",
       "      <th>RefComposite</th>\n",
       "      <th>RefComposite_5x5_10th</th>\n",
       "      <th>RefComposite_5x5_50th</th>\n",
       "      <th>RefComposite_5x5_90th</th>\n",
       "      <th>...</th>\n",
       "      <th>RhoHV_5x5_90th</th>\n",
       "      <th>Zdr</th>\n",
       "      <th>Zdr_5x5_10th</th>\n",
       "      <th>Zdr_5x5_50th</th>\n",
       "      <th>Zdr_5x5_90th</th>\n",
       "      <th>Kdp</th>\n",
       "      <th>Kdp_5x5_10th</th>\n",
       "      <th>Kdp_5x5_50th</th>\n",
       "      <th>Kdp_5x5_90th</th>\n",
       "      <th>Expected</th>\n",
       "    </tr>\n",
       "    <tr>\n",
       "      <th>Id</th>\n",
       "      <th></th>\n",
       "      <th></th>\n",
       "      <th></th>\n",
       "      <th></th>\n",
       "      <th></th>\n",
       "      <th></th>\n",
       "      <th></th>\n",
       "      <th></th>\n",
       "      <th></th>\n",
       "      <th></th>\n",
       "      <th></th>\n",
       "      <th></th>\n",
       "      <th></th>\n",
       "      <th></th>\n",
       "      <th></th>\n",
       "      <th></th>\n",
       "      <th></th>\n",
       "      <th></th>\n",
       "      <th></th>\n",
       "      <th></th>\n",
       "      <th></th>\n",
       "    </tr>\n",
       "  </thead>\n",
       "  <tbody>\n",
       "    <tr>\n",
       "      <th>2</th>\n",
       "      <td>1</td>\n",
       "      <td>2</td>\n",
       "      <td>9.0</td>\n",
       "      <td>5.0</td>\n",
       "      <td>7.5</td>\n",
       "      <td>10.5</td>\n",
       "      <td>15.0</td>\n",
       "      <td>10.5</td>\n",
       "      <td>16.5</td>\n",
       "      <td>23.5</td>\n",
       "      <td>...</td>\n",
       "      <td>0.998333</td>\n",
       "      <td>0.3750</td>\n",
       "      <td>-0.1250</td>\n",
       "      <td>0.3125</td>\n",
       "      <td>0.8750</td>\n",
       "      <td>1.059998</td>\n",
       "      <td>-1.410004</td>\n",
       "      <td>-0.350006</td>\n",
       "      <td>1.059998</td>\n",
       "      <td>1.016</td>\n",
       "    </tr>\n",
       "    <tr>\n",
       "      <th>2</th>\n",
       "      <td>16</td>\n",
       "      <td>2</td>\n",
       "      <td>18.0</td>\n",
       "      <td>14.0</td>\n",
       "      <td>17.5</td>\n",
       "      <td>21.0</td>\n",
       "      <td>20.5</td>\n",
       "      <td>18.0</td>\n",
       "      <td>20.5</td>\n",
       "      <td>23.0</td>\n",
       "      <td>...</td>\n",
       "      <td>1.001667</td>\n",
       "      <td>0.2500</td>\n",
       "      <td>0.1250</td>\n",
       "      <td>0.3750</td>\n",
       "      <td>0.6875</td>\n",
       "      <td>0.349991</td>\n",
       "      <td>-1.059998</td>\n",
       "      <td>0.000000</td>\n",
       "      <td>1.059998</td>\n",
       "      <td>1.016</td>\n",
       "    </tr>\n",
       "    <tr>\n",
       "      <th>2</th>\n",
       "      <td>21</td>\n",
       "      <td>2</td>\n",
       "      <td>24.5</td>\n",
       "      <td>16.5</td>\n",
       "      <td>21.0</td>\n",
       "      <td>24.5</td>\n",
       "      <td>24.5</td>\n",
       "      <td>21.0</td>\n",
       "      <td>24.0</td>\n",
       "      <td>28.0</td>\n",
       "      <td>...</td>\n",
       "      <td>0.998333</td>\n",
       "      <td>0.2500</td>\n",
       "      <td>0.0625</td>\n",
       "      <td>0.1875</td>\n",
       "      <td>0.5625</td>\n",
       "      <td>-0.350006</td>\n",
       "      <td>-1.059998</td>\n",
       "      <td>-0.350006</td>\n",
       "      <td>1.759994</td>\n",
       "      <td>1.016</td>\n",
       "    </tr>\n",
       "    <tr>\n",
       "      <th>2</th>\n",
       "      <td>26</td>\n",
       "      <td>2</td>\n",
       "      <td>12.0</td>\n",
       "      <td>12.0</td>\n",
       "      <td>16.0</td>\n",
       "      <td>20.0</td>\n",
       "      <td>16.5</td>\n",
       "      <td>17.0</td>\n",
       "      <td>19.0</td>\n",
       "      <td>21.0</td>\n",
       "      <td>...</td>\n",
       "      <td>0.998333</td>\n",
       "      <td>0.5625</td>\n",
       "      <td>0.2500</td>\n",
       "      <td>0.4375</td>\n",
       "      <td>0.6875</td>\n",
       "      <td>-1.760010</td>\n",
       "      <td>-1.760010</td>\n",
       "      <td>-0.350006</td>\n",
       "      <td>0.709991</td>\n",
       "      <td>1.016</td>\n",
       "    </tr>\n",
       "    <tr>\n",
       "      <th>2</th>\n",
       "      <td>31</td>\n",
       "      <td>2</td>\n",
       "      <td>22.5</td>\n",
       "      <td>19.0</td>\n",
       "      <td>22.0</td>\n",
       "      <td>25.0</td>\n",
       "      <td>26.0</td>\n",
       "      <td>23.5</td>\n",
       "      <td>25.5</td>\n",
       "      <td>27.5</td>\n",
       "      <td>...</td>\n",
       "      <td>1.001667</td>\n",
       "      <td>0.0000</td>\n",
       "      <td>-0.1875</td>\n",
       "      <td>0.2500</td>\n",
       "      <td>0.6250</td>\n",
       "      <td>-1.059998</td>\n",
       "      <td>-2.120010</td>\n",
       "      <td>-0.710007</td>\n",
       "      <td>0.349991</td>\n",
       "      <td>1.016</td>\n",
       "    </tr>\n",
       "    <tr>\n",
       "      <th>2</th>\n",
       "      <td>37</td>\n",
       "      <td>2</td>\n",
       "      <td>14.0</td>\n",
       "      <td>14.0</td>\n",
       "      <td>18.5</td>\n",
       "      <td>21.0</td>\n",
       "      <td>19.5</td>\n",
       "      <td>20.0</td>\n",
       "      <td>21.0</td>\n",
       "      <td>23.0</td>\n",
       "      <td>...</td>\n",
       "      <td>0.998333</td>\n",
       "      <td>0.5000</td>\n",
       "      <td>0.1875</td>\n",
       "      <td>0.4375</td>\n",
       "      <td>0.8125</td>\n",
       "      <td>0.000000</td>\n",
       "      <td>-1.760010</td>\n",
       "      <td>-0.350006</td>\n",
       "      <td>1.059998</td>\n",
       "      <td>1.016</td>\n",
       "    </tr>\n",
       "    <tr>\n",
       "      <th>2</th>\n",
       "      <td>42</td>\n",
       "      <td>2</td>\n",
       "      <td>12.0</td>\n",
       "      <td>11.0</td>\n",
       "      <td>12.5</td>\n",
       "      <td>17.0</td>\n",
       "      <td>19.5</td>\n",
       "      <td>18.0</td>\n",
       "      <td>21.0</td>\n",
       "      <td>23.0</td>\n",
       "      <td>...</td>\n",
       "      <td>0.998333</td>\n",
       "      <td>0.6250</td>\n",
       "      <td>0.3750</td>\n",
       "      <td>0.6250</td>\n",
       "      <td>0.8750</td>\n",
       "      <td>-0.350006</td>\n",
       "      <td>-0.350006</td>\n",
       "      <td>0.000000</td>\n",
       "      <td>0.349991</td>\n",
       "      <td>1.016</td>\n",
       "    </tr>\n",
       "    <tr>\n",
       "      <th>2</th>\n",
       "      <td>47</td>\n",
       "      <td>2</td>\n",
       "      <td>1.5</td>\n",
       "      <td>3.5</td>\n",
       "      <td>7.0</td>\n",
       "      <td>10.5</td>\n",
       "      <td>18.0</td>\n",
       "      <td>16.5</td>\n",
       "      <td>18.5</td>\n",
       "      <td>21.5</td>\n",
       "      <td>...</td>\n",
       "      <td>0.998333</td>\n",
       "      <td>0.3750</td>\n",
       "      <td>0.1875</td>\n",
       "      <td>0.5000</td>\n",
       "      <td>0.6875</td>\n",
       "      <td>0.349991</td>\n",
       "      <td>-2.110001</td>\n",
       "      <td>-0.350006</td>\n",
       "      <td>1.059998</td>\n",
       "      <td>1.016</td>\n",
       "    </tr>\n",
       "    <tr>\n",
       "      <th>2</th>\n",
       "      <td>53</td>\n",
       "      <td>2</td>\n",
       "      <td>16.0</td>\n",
       "      <td>14.5</td>\n",
       "      <td>18.0</td>\n",
       "      <td>23.5</td>\n",
       "      <td>28.0</td>\n",
       "      <td>23.5</td>\n",
       "      <td>26.5</td>\n",
       "      <td>29.5</td>\n",
       "      <td>...</td>\n",
       "      <td>0.998333</td>\n",
       "      <td>0.8750</td>\n",
       "      <td>0.6250</td>\n",
       "      <td>0.9375</td>\n",
       "      <td>1.3750</td>\n",
       "      <td>-0.350006</td>\n",
       "      <td>-1.410004</td>\n",
       "      <td>-0.350006</td>\n",
       "      <td>2.119995</td>\n",
       "      <td>1.016</td>\n",
       "    </tr>\n",
       "    <tr>\n",
       "      <th>10</th>\n",
       "      <td>2</td>\n",
       "      <td>10</td>\n",
       "      <td>32.5</td>\n",
       "      <td>32.0</td>\n",
       "      <td>35.0</td>\n",
       "      <td>37.0</td>\n",
       "      <td>35.0</td>\n",
       "      <td>33.5</td>\n",
       "      <td>35.5</td>\n",
       "      <td>39.5</td>\n",
       "      <td>...</td>\n",
       "      <td>0.991667</td>\n",
       "      <td>1.8750</td>\n",
       "      <td>-1.9375</td>\n",
       "      <td>0.3750</td>\n",
       "      <td>2.6875</td>\n",
       "      <td>10.989990</td>\n",
       "      <td>-6.330002</td>\n",
       "      <td>0.709991</td>\n",
       "      <td>11.089996</td>\n",
       "      <td>0.010</td>\n",
       "    </tr>\n",
       "  </tbody>\n",
       "</table>\n",
       "<p>10 rows × 23 columns</p>\n",
       "</div>"
      ],
      "text/plain": [
       "    minutes_past  radardist_km   Ref  Ref_5x5_10th  Ref_5x5_50th  \\\n",
       "Id                                                                 \n",
       "2              1             2   9.0           5.0           7.5   \n",
       "2             16             2  18.0          14.0          17.5   \n",
       "2             21             2  24.5          16.5          21.0   \n",
       "2             26             2  12.0          12.0          16.0   \n",
       "2             31             2  22.5          19.0          22.0   \n",
       "2             37             2  14.0          14.0          18.5   \n",
       "2             42             2  12.0          11.0          12.5   \n",
       "2             47             2   1.5           3.5           7.0   \n",
       "2             53             2  16.0          14.5          18.0   \n",
       "10             2            10  32.5          32.0          35.0   \n",
       "\n",
       "    Ref_5x5_90th  RefComposite  RefComposite_5x5_10th  RefComposite_5x5_50th  \\\n",
       "Id                                                                             \n",
       "2           10.5          15.0                   10.5                   16.5   \n",
       "2           21.0          20.5                   18.0                   20.5   \n",
       "2           24.5          24.5                   21.0                   24.0   \n",
       "2           20.0          16.5                   17.0                   19.0   \n",
       "2           25.0          26.0                   23.5                   25.5   \n",
       "2           21.0          19.5                   20.0                   21.0   \n",
       "2           17.0          19.5                   18.0                   21.0   \n",
       "2           10.5          18.0                   16.5                   18.5   \n",
       "2           23.5          28.0                   23.5                   26.5   \n",
       "10          37.0          35.0                   33.5                   35.5   \n",
       "\n",
       "    RefComposite_5x5_90th    ...     RhoHV_5x5_90th     Zdr  Zdr_5x5_10th  \\\n",
       "Id                           ...                                            \n",
       "2                    23.5    ...           0.998333  0.3750       -0.1250   \n",
       "2                    23.0    ...           1.001667  0.2500        0.1250   \n",
       "2                    28.0    ...           0.998333  0.2500        0.0625   \n",
       "2                    21.0    ...           0.998333  0.5625        0.2500   \n",
       "2                    27.5    ...           1.001667  0.0000       -0.1875   \n",
       "2                    23.0    ...           0.998333  0.5000        0.1875   \n",
       "2                    23.0    ...           0.998333  0.6250        0.3750   \n",
       "2                    21.5    ...           0.998333  0.3750        0.1875   \n",
       "2                    29.5    ...           0.998333  0.8750        0.6250   \n",
       "10                   39.5    ...           0.991667  1.8750       -1.9375   \n",
       "\n",
       "    Zdr_5x5_50th  Zdr_5x5_90th        Kdp  Kdp_5x5_10th  Kdp_5x5_50th  \\\n",
       "Id                                                                      \n",
       "2         0.3125        0.8750   1.059998     -1.410004     -0.350006   \n",
       "2         0.3750        0.6875   0.349991     -1.059998      0.000000   \n",
       "2         0.1875        0.5625  -0.350006     -1.059998     -0.350006   \n",
       "2         0.4375        0.6875  -1.760010     -1.760010     -0.350006   \n",
       "2         0.2500        0.6250  -1.059998     -2.120010     -0.710007   \n",
       "2         0.4375        0.8125   0.000000     -1.760010     -0.350006   \n",
       "2         0.6250        0.8750  -0.350006     -0.350006      0.000000   \n",
       "2         0.5000        0.6875   0.349991     -2.110001     -0.350006   \n",
       "2         0.9375        1.3750  -0.350006     -1.410004     -0.350006   \n",
       "10        0.3750        2.6875  10.989990     -6.330002      0.709991   \n",
       "\n",
       "    Kdp_5x5_90th  Expected  \n",
       "Id                          \n",
       "2       1.059998     1.016  \n",
       "2       1.059998     1.016  \n",
       "2       1.759994     1.016  \n",
       "2       0.709991     1.016  \n",
       "2       0.349991     1.016  \n",
       "2       1.059998     1.016  \n",
       "2       0.349991     1.016  \n",
       "2       1.059998     1.016  \n",
       "2       2.119995     1.016  \n",
       "10     11.089996     0.010  \n",
       "\n",
       "[10 rows x 23 columns]"
      ]
     },
     "execution_count": 533,
     "metadata": {},
     "output_type": "execute_result"
    }
   ],
   "source": [
    "train.head(10)"
   ]
  },
  {
   "cell_type": "code",
   "execution_count": 472,
   "metadata": {
    "collapsed": false
   },
   "outputs": [],
   "source": [
    "columns = [u'Id', u'minutes_past', u'radardist_km', u'Ref', u'Ref_5x5_10th',\n",
    "       u'Ref_5x5_50th', u'Ref_5x5_90th', u'RefComposite',\n",
    "       u'RefComposite_5x5_10th', u'RefComposite_5x5_50th',\n",
    "       u'RefComposite_5x5_90th', u'RhoHV', u'RhoHV_5x5_10th',\n",
    "       u'RhoHV_5x5_50th', u'RhoHV_5x5_90th', u'Zdr', u'Zdr_5x5_10th',\n",
    "       u'Zdr_5x5_50th', u'Zdr_5x5_90th', u'Kdp', u'Kdp_5x5_10th',\n",
    "       u'Kdp_5x5_50th', u'Kdp_5x5_90th']\n",
    "\n",
    " \n",
    "labels = train[\"Expected\"].values\n",
    "features = train[list(columns)].values"
   ]
  },
  {
   "cell_type": "code",
   "execution_count": 474,
   "metadata": {
    "collapsed": false
   },
   "outputs": [
    {
     "data": {
      "text/plain": [
       "(2048, 23)"
      ]
     },
     "execution_count": 474,
     "metadata": {},
     "output_type": "execute_result"
    }
   ],
   "source": [
    "np.shape(features)"
   ]
  },
  {
   "cell_type": "code",
   "execution_count": 475,
   "metadata": {
    "collapsed": false
   },
   "outputs": [],
   "source": [
    "#max_padding = np.array([len(i) for i in fea]).max()\n",
    "max_padding = 14"
   ]
  },
  {
   "cell_type": "code",
   "execution_count": 494,
   "metadata": {
    "collapsed": false
   },
   "outputs": [],
   "source": [
    "fea=[]\n",
    "lab=[]\n",
    "init=features[0][0]\n",
    "tmp=[]\n",
    "\n",
    "for idx,i in enumerate(features):\n",
    "    if i[0]==init:\n",
    "        tmp.append(i[1:])\n",
    "    else:\n",
    "        fea.append(np.pad(tmp, ((0, max_padding -len(tmp) ),(0,0)), 'constant').tolist())\n",
    "        lab.append(labels[idx])\n",
    "        tmp=[]\n",
    "        init=i[0]\n",
    "        tmp.append(i[1:])\n",
    "fea.append(np.array(tmp))\n",
    "lab.append(labels[idx])"
   ]
  },
  {
   "cell_type": "code",
   "execution_count": 495,
   "metadata": {
    "collapsed": true
   },
   "outputs": [],
   "source": [
    "f = np.array(fea)\n",
    "y = np.array(lab)"
   ]
  },
  {
   "cell_type": "code",
   "execution_count": 463,
   "metadata": {
    "collapsed": false
   },
   "outputs": [
    {
     "data": {
      "text/plain": [
       "numpy.ndarray"
      ]
     },
     "execution_count": 463,
     "metadata": {},
     "output_type": "execute_result"
    }
   ],
   "source": [
    "type(X_train[0][0])"
   ]
  },
  {
   "cell_type": "code",
   "execution_count": 462,
   "metadata": {
    "collapsed": false
   },
   "outputs": [
    {
     "data": {
      "text/plain": [
       "numpy.ndarray"
      ]
     },
     "execution_count": 462,
     "metadata": {},
     "output_type": "execute_result"
    }
   ],
   "source": [
    "type(f[0][0])"
   ]
  },
  {
   "cell_type": "code",
   "execution_count": 452,
   "metadata": {
    "collapsed": true
   },
   "outputs": [
    {
     "data": {
      "text/plain": [
       "array([[  1.        ,   2.        ,   9.        ,   5.        ,\n",
       "          7.5       ,  10.5       ,  15.        ,  10.5       ,\n",
       "         16.5       ,  23.5       ,   0.99833333,   0.99833333,\n",
       "          0.99833333,   0.99833333,   0.375     ,  -0.125     ,\n",
       "          0.3125    ,   0.875     ,   1.0599976 ,  -1.4100037 ,\n",
       "         -0.3500061 ,   1.0599976 ],\n",
       "       [ 16.        ,   2.        ,  18.        ,  14.        ,\n",
       "         17.5       ,  21.        ,  20.5       ,  18.        ,\n",
       "         20.5       ,  23.        ,   0.995     ,   0.995     ,\n",
       "          0.99833333,   1.0016667 ,   0.25      ,   0.125     ,\n",
       "          0.375     ,   0.6875    ,   0.34999084,  -1.0599976 ,\n",
       "          0.        ,   1.0599976 ],\n",
       "       [ 21.        ,   2.        ,  24.5       ,  16.5       ,\n",
       "         21.        ,  24.5       ,  24.5       ,  21.        ,\n",
       "         24.        ,  28.        ,   0.99833333,   0.995     ,\n",
       "          0.99833333,   0.99833333,   0.25      ,   0.0625    ,\n",
       "          0.1875    ,   0.5625    ,  -0.3500061 ,  -1.0599976 ,\n",
       "         -0.3500061 ,   1.7599945 ],\n",
       "       [ 26.        ,   2.        ,  12.        ,  12.        ,\n",
       "         16.        ,  20.        ,  16.5       ,  17.        ,\n",
       "         19.        ,  21.        ,   0.99833333,   0.995     ,\n",
       "          0.99833333,   0.99833333,   0.5625    ,   0.25      ,\n",
       "          0.4375    ,   0.6875    ,  -1.7600098 ,  -1.7600098 ,\n",
       "         -0.3500061 ,   0.70999146],\n",
       "       [ 31.        ,   2.        ,  22.5       ,  19.        ,\n",
       "         22.        ,  25.        ,  26.        ,  23.5       ,\n",
       "         25.5       ,  27.5       ,   0.99833333,   0.995     ,\n",
       "          0.99833333,   1.0016667 ,   0.        ,  -0.1875    ,\n",
       "          0.25      ,   0.625     ,  -1.0599976 ,  -2.1200104 ,\n",
       "         -0.7100067 ,   0.34999084],\n",
       "       [ 37.        ,   2.        ,  14.        ,  14.        ,\n",
       "         18.5       ,  21.        ,  19.5       ,  20.        ,\n",
       "         21.        ,  23.        ,   0.99833333,   0.9916667 ,\n",
       "          0.99833333,   0.99833333,   0.5       ,   0.1875    ,\n",
       "          0.4375    ,   0.8125    ,   0.        ,  -1.7600098 ,\n",
       "         -0.3500061 ,   1.0599976 ],\n",
       "       [ 42.        ,   2.        ,  12.        ,  11.        ,\n",
       "         12.5       ,  17.        ,  19.5       ,  18.        ,\n",
       "         21.        ,  23.        ,   0.99833333,   0.995     ,\n",
       "          0.99833333,   0.99833333,   0.625     ,   0.375     ,\n",
       "          0.625     ,   0.875     ,  -0.3500061 ,  -0.3500061 ,\n",
       "          0.        ,   0.34999084],\n",
       "       [ 47.        ,   2.        ,   1.5       ,   3.5       ,\n",
       "          7.        ,  10.5       ,  18.        ,  16.5       ,\n",
       "         18.5       ,  21.5       ,   0.99833333,   0.995     ,\n",
       "          0.99833333,   0.99833333,   0.375     ,   0.1875    ,\n",
       "          0.5       ,   0.6875    ,   0.34999084,  -2.1100006 ,\n",
       "         -0.3500061 ,   1.0599976 ],\n",
       "       [ 53.        ,   2.        ,  16.        ,  14.5       ,\n",
       "         18.        ,  23.5       ,  28.        ,  23.5       ,\n",
       "         26.5       ,  29.5       ,   0.99833333,   0.9916667 ,\n",
       "          0.99833333,   0.99833333,   0.875     ,   0.625     ,\n",
       "          0.9375    ,   1.375     ,  -0.3500061 ,  -1.4100037 ,\n",
       "         -0.3500061 ,   2.119995  ],\n",
       "       [  0.        ,   0.        ,   0.        ,   0.        ,\n",
       "          0.        ,   0.        ,   0.        ,   0.        ,\n",
       "          0.        ,   0.        ,   0.        ,   0.        ,\n",
       "          0.        ,   0.        ,   0.        ,   0.        ,\n",
       "          0.        ,   0.        ,   0.        ,   0.        ,\n",
       "          0.        ,   0.        ],\n",
       "       [  0.        ,   0.        ,   0.        ,   0.        ,\n",
       "          0.        ,   0.        ,   0.        ,   0.        ,\n",
       "          0.        ,   0.        ,   0.        ,   0.        ,\n",
       "          0.        ,   0.        ,   0.        ,   0.        ,\n",
       "          0.        ,   0.        ,   0.        ,   0.        ,\n",
       "          0.        ,   0.        ],\n",
       "       [  0.        ,   0.        ,   0.        ,   0.        ,\n",
       "          0.        ,   0.        ,   0.        ,   0.        ,\n",
       "          0.        ,   0.        ,   0.        ,   0.        ,\n",
       "          0.        ,   0.        ,   0.        ,   0.        ,\n",
       "          0.        ,   0.        ,   0.        ,   0.        ,\n",
       "          0.        ,   0.        ],\n",
       "       [  0.        ,   0.        ,   0.        ,   0.        ,\n",
       "          0.        ,   0.        ,   0.        ,   0.        ,\n",
       "          0.        ,   0.        ,   0.        ,   0.        ,\n",
       "          0.        ,   0.        ,   0.        ,   0.        ,\n",
       "          0.        ,   0.        ,   0.        ,   0.        ,\n",
       "          0.        ,   0.        ],\n",
       "       [  0.        ,   0.        ,   0.        ,   0.        ,\n",
       "          0.        ,   0.        ,   0.        ,   0.        ,\n",
       "          0.        ,   0.        ,   0.        ,   0.        ,\n",
       "          0.        ,   0.        ,   0.        ,   0.        ,\n",
       "          0.        ,   0.        ,   0.        ,   0.        ,\n",
       "          0.        ,   0.        ]])"
      ]
     },
     "execution_count": 452,
     "metadata": {},
     "output_type": "execute_result"
    }
   ],
   "source": [
    "fea[0]"
   ]
  },
  {
   "cell_type": "code",
   "execution_count": 421,
   "metadata": {
    "collapsed": false
   },
   "outputs": [
    {
     "data": {
      "text/plain": [
       "array([[1, 2, 3],\n",
       "       [3, 4, 4],\n",
       "       [0, 0, 0],\n",
       "       [0, 0, 0],\n",
       "       [0, 0, 0],\n",
       "       [0, 0, 0],\n",
       "       [0, 0, 0],\n",
       "       [0, 0, 0],\n",
       "       [0, 0, 0],\n",
       "       [0, 0, 0],\n",
       "       [0, 0, 0],\n",
       "       [0, 0, 0],\n",
       "       [0, 0, 0],\n",
       "       [0, 0, 0]])"
      ]
     },
     "execution_count": 421,
     "metadata": {},
     "output_type": "execute_result"
    }
   ],
   "source": [
    "t = np.array([[1,2,3],\n",
    "              [3,4,4]])\n",
    "np.pad(t, ((0, max_padding -len(t) ),(0,0)), 'constant')"
   ]
  },
  {
   "cell_type": "code",
   "execution_count": 51,
   "metadata": {
    "collapsed": true
   },
   "outputs": [],
   "source": [
    "from keras.models import Sequential  \n",
    "from keras.layers.core import Dense, Activation  \n",
    "from keras.layers.recurrent import LSTM\n",
    "from keras.layers.embeddings import Embedding"
   ]
  },
  {
   "cell_type": "code",
   "execution_count": 141,
   "metadata": {
    "collapsed": false
   },
   "outputs": [
    {
     "name": "stdout",
     "output_type": "stream",
     "text": [
      "CPU times: user 45.1 s, sys: 574 ms, total: 45.6 s\n",
      "Wall time: 46.6 s\n"
     ]
    }
   ],
   "source": [
    "%%time\n",
    "input_dim = max_padding\n",
    "out_dim = 1  \n",
    "hidden_dim = 200\n",
    "\n",
    "model = Sequential()\n",
    "#Embedding(input_dim, hidden_dim, mask_zero=True)\n",
    "#model.add(LSTM(hidden_dim, hidden_dim, return_sequences=False))  \n",
    "model.add(LSTM(nb_features, hidden_dim, return_sequences=False))  \n",
    "model.add(Dense(hidden_dim, out_dim))  \n",
    "model.add(Activation(\"linear\"))  \n",
    "model.compile(loss=\"mean_squared_error\", optimizer=\"rmsprop\")  "
   ]
  },
  {
   "cell_type": "code",
   "execution_count": 172,
   "metadata": {
    "collapsed": true
   },
   "outputs": [
    {
     "name": "stdout",
     "output_type": "stream",
     "text": [
      "Train on 27454 samples, validate on 1445 samples\n",
      "Epoch 0\n",
      "27454/27454 [==============================] - 72s - loss: 762.3288 - val_loss: 2621.0195\n",
      "Epoch 1\n",
      "27454/27454 [==============================] - 70s - loss: 762.8043 - val_loss: 2603.3075\n",
      "Epoch 2\n",
      "27454/27454 [==============================] - 69s - loss: 762.4551 - val_loss: 2612.1847\n",
      "Epoch 3\n",
      "27454/27454 [==============================] - 70s - loss: 762.0105 - val_loss: 2617.8891\n",
      "Epoch 4\n",
      "27454/27454 [==============================] - 70s - loss: 761.4277 - val_loss: 2629.0874\n",
      "Epoch 5\n",
      "27454/27454 [==============================] - 78s - loss: 761.2045 - val_loss: 2598.8357\n",
      "Epoch 6\n",
      "27454/27454 [==============================] - 100s - loss: 762.5309 - val_loss: 2621.1124\n",
      "Epoch 7\n",
      "27454/27454 [==============================] - 79s - loss: 761.6411 - val_loss: 2618.9652\n",
      "Epoch 8\n",
      "27454/27454 [==============================] - 65s - loss: 761.8496 - val_loss: 2621.2338\n",
      "Epoch 9\n",
      "22250/27454 [=======================>......] - ETA: 14s - loss: 807.1057"
     ]
    },
    {
     "ename": "KeyboardInterrupt",
     "evalue": "",
     "output_type": "error",
     "traceback": [
      "\u001b[0;31m---------------------------------------------------------------------------\u001b[0m",
      "\u001b[0;31mKeyboardInterrupt\u001b[0m                         Traceback (most recent call last)",
      "\u001b[0;32m<ipython-input-172-24544143a534>\u001b[0m in \u001b[0;36m<module>\u001b[0;34m()\u001b[0m\n\u001b[0;32m----> 1\u001b[0;31m \u001b[0mmodel\u001b[0m\u001b[0;34m.\u001b[0m\u001b[0mfit\u001b[0m\u001b[0;34m(\u001b[0m\u001b[0mXX\u001b[0m\u001b[0;34m,\u001b[0m \u001b[0myy\u001b[0m\u001b[0;34m,\u001b[0m \u001b[0mbatch_size\u001b[0m\u001b[0;34m=\u001b[0m\u001b[0;36m50\u001b[0m\u001b[0;34m,\u001b[0m \u001b[0mnb_epoch\u001b[0m\u001b[0;34m=\u001b[0m\u001b[0;36m20\u001b[0m\u001b[0;34m,\u001b[0m \u001b[0mvalidation_split\u001b[0m\u001b[0;34m=\u001b[0m\u001b[0;36m0.05\u001b[0m\u001b[0;34m)\u001b[0m\u001b[0;34m\u001b[0m\u001b[0m\n\u001b[0m",
      "\u001b[0;32m/Library/Python/2.7/site-packages/keras/models.pyc\u001b[0m in \u001b[0;36mfit\u001b[0;34m(self, X, y, batch_size, nb_epoch, verbose, callbacks, validation_split, validation_data, shuffle, show_accuracy, class_weight, sample_weight)\u001b[0m\n\u001b[1;32m    488\u001b[0m                          \u001b[0mverbose\u001b[0m\u001b[0;34m=\u001b[0m\u001b[0mverbose\u001b[0m\u001b[0;34m,\u001b[0m \u001b[0mcallbacks\u001b[0m\u001b[0;34m=\u001b[0m\u001b[0mcallbacks\u001b[0m\u001b[0;34m,\u001b[0m\u001b[0;34m\u001b[0m\u001b[0m\n\u001b[1;32m    489\u001b[0m                          \u001b[0mval_f\u001b[0m\u001b[0;34m=\u001b[0m\u001b[0mval_f\u001b[0m\u001b[0;34m,\u001b[0m \u001b[0mval_ins\u001b[0m\u001b[0;34m=\u001b[0m\u001b[0mval_ins\u001b[0m\u001b[0;34m,\u001b[0m\u001b[0;34m\u001b[0m\u001b[0m\n\u001b[0;32m--> 490\u001b[0;31m                          shuffle=shuffle, metrics=metrics)\n\u001b[0m\u001b[1;32m    491\u001b[0m \u001b[0;34m\u001b[0m\u001b[0m\n\u001b[1;32m    492\u001b[0m     \u001b[0;32mdef\u001b[0m \u001b[0mpredict\u001b[0m\u001b[0;34m(\u001b[0m\u001b[0mself\u001b[0m\u001b[0;34m,\u001b[0m \u001b[0mX\u001b[0m\u001b[0;34m,\u001b[0m \u001b[0mbatch_size\u001b[0m\u001b[0;34m=\u001b[0m\u001b[0;36m128\u001b[0m\u001b[0;34m,\u001b[0m \u001b[0mverbose\u001b[0m\u001b[0;34m=\u001b[0m\u001b[0;36m0\u001b[0m\u001b[0;34m)\u001b[0m\u001b[0;34m:\u001b[0m\u001b[0;34m\u001b[0m\u001b[0m\n",
      "\u001b[0;32m/Library/Python/2.7/site-packages/keras/models.pyc\u001b[0m in \u001b[0;36m_fit\u001b[0;34m(self, f, ins, out_labels, batch_size, nb_epoch, verbose, callbacks, val_f, val_ins, shuffle, metrics)\u001b[0m\n\u001b[1;32m    209\u001b[0m                 \u001b[0mbatch_logs\u001b[0m\u001b[0;34m[\u001b[0m\u001b[0;34m'size'\u001b[0m\u001b[0;34m]\u001b[0m \u001b[0;34m=\u001b[0m \u001b[0mlen\u001b[0m\u001b[0;34m(\u001b[0m\u001b[0mbatch_ids\u001b[0m\u001b[0;34m)\u001b[0m\u001b[0;34m\u001b[0m\u001b[0m\n\u001b[1;32m    210\u001b[0m                 \u001b[0mcallbacks\u001b[0m\u001b[0;34m.\u001b[0m\u001b[0mon_batch_begin\u001b[0m\u001b[0;34m(\u001b[0m\u001b[0mbatch_index\u001b[0m\u001b[0;34m,\u001b[0m \u001b[0mbatch_logs\u001b[0m\u001b[0;34m)\u001b[0m\u001b[0;34m\u001b[0m\u001b[0m\n\u001b[0;32m--> 211\u001b[0;31m                 \u001b[0mouts\u001b[0m \u001b[0;34m=\u001b[0m \u001b[0mf\u001b[0m\u001b[0;34m(\u001b[0m\u001b[0;34m*\u001b[0m\u001b[0mins_batch\u001b[0m\u001b[0;34m)\u001b[0m\u001b[0;34m\u001b[0m\u001b[0m\n\u001b[0m\u001b[1;32m    212\u001b[0m                 \u001b[0;32mif\u001b[0m \u001b[0mtype\u001b[0m\u001b[0;34m(\u001b[0m\u001b[0mouts\u001b[0m\u001b[0;34m)\u001b[0m \u001b[0;34m!=\u001b[0m \u001b[0mlist\u001b[0m\u001b[0;34m:\u001b[0m\u001b[0;34m\u001b[0m\u001b[0m\n\u001b[1;32m    213\u001b[0m                     \u001b[0mouts\u001b[0m \u001b[0;34m=\u001b[0m \u001b[0;34m[\u001b[0m\u001b[0mouts\u001b[0m\u001b[0;34m]\u001b[0m\u001b[0;34m\u001b[0m\u001b[0m\n",
      "\u001b[0;32m/Library/Python/2.7/site-packages/theano/compile/function_module.pyc\u001b[0m in \u001b[0;36m__call__\u001b[0;34m(self, *args, **kwargs)\u001b[0m\n\u001b[1;32m    593\u001b[0m         \u001b[0mt0_fn\u001b[0m \u001b[0;34m=\u001b[0m \u001b[0mtime\u001b[0m\u001b[0;34m.\u001b[0m\u001b[0mtime\u001b[0m\u001b[0;34m(\u001b[0m\u001b[0;34m)\u001b[0m\u001b[0;34m\u001b[0m\u001b[0m\n\u001b[1;32m    594\u001b[0m         \u001b[0;32mtry\u001b[0m\u001b[0;34m:\u001b[0m\u001b[0;34m\u001b[0m\u001b[0m\n\u001b[0;32m--> 595\u001b[0;31m             \u001b[0moutputs\u001b[0m \u001b[0;34m=\u001b[0m \u001b[0mself\u001b[0m\u001b[0;34m.\u001b[0m\u001b[0mfn\u001b[0m\u001b[0;34m(\u001b[0m\u001b[0;34m)\u001b[0m\u001b[0;34m\u001b[0m\u001b[0m\n\u001b[0m\u001b[1;32m    596\u001b[0m         \u001b[0;32mexcept\u001b[0m \u001b[0mException\u001b[0m\u001b[0;34m:\u001b[0m\u001b[0;34m\u001b[0m\u001b[0m\n\u001b[1;32m    597\u001b[0m             \u001b[0;32mif\u001b[0m \u001b[0mhasattr\u001b[0m\u001b[0;34m(\u001b[0m\u001b[0mself\u001b[0m\u001b[0;34m.\u001b[0m\u001b[0mfn\u001b[0m\u001b[0;34m,\u001b[0m \u001b[0;34m'position_of_error'\u001b[0m\u001b[0;34m)\u001b[0m\u001b[0;34m:\u001b[0m\u001b[0;34m\u001b[0m\u001b[0m\n",
      "\u001b[0;32m/Library/Python/2.7/site-packages/theano/scan_module/scan_op.pyc\u001b[0m in \u001b[0;36mrval\u001b[0;34m(p, i, o, n, allow_gc)\u001b[0m\n\u001b[1;32m    670\u001b[0m         def rval(p=p, i=node_input_storage, o=node_output_storage, n=node,\n\u001b[1;32m    671\u001b[0m                  allow_gc=allow_gc):\n\u001b[0;32m--> 672\u001b[0;31m             \u001b[0mr\u001b[0m \u001b[0;34m=\u001b[0m \u001b[0mp\u001b[0m\u001b[0;34m(\u001b[0m\u001b[0mn\u001b[0m\u001b[0;34m,\u001b[0m \u001b[0;34m[\u001b[0m\u001b[0mx\u001b[0m\u001b[0;34m[\u001b[0m\u001b[0;36m0\u001b[0m\u001b[0;34m]\u001b[0m \u001b[0;32mfor\u001b[0m \u001b[0mx\u001b[0m \u001b[0;32min\u001b[0m \u001b[0mi\u001b[0m\u001b[0;34m]\u001b[0m\u001b[0;34m,\u001b[0m \u001b[0mo\u001b[0m\u001b[0;34m)\u001b[0m\u001b[0;34m\u001b[0m\u001b[0m\n\u001b[0m\u001b[1;32m    673\u001b[0m             \u001b[0;32mfor\u001b[0m \u001b[0mo\u001b[0m \u001b[0;32min\u001b[0m \u001b[0mnode\u001b[0m\u001b[0;34m.\u001b[0m\u001b[0moutputs\u001b[0m\u001b[0;34m:\u001b[0m\u001b[0;34m\u001b[0m\u001b[0m\n\u001b[1;32m    674\u001b[0m                 \u001b[0mcompute_map\u001b[0m\u001b[0;34m[\u001b[0m\u001b[0mo\u001b[0m\u001b[0;34m]\u001b[0m\u001b[0;34m[\u001b[0m\u001b[0;36m0\u001b[0m\u001b[0;34m]\u001b[0m \u001b[0;34m=\u001b[0m \u001b[0mTrue\u001b[0m\u001b[0;34m\u001b[0m\u001b[0m\n",
      "\u001b[0;32m/Library/Python/2.7/site-packages/theano/scan_module/scan_op.pyc\u001b[0m in \u001b[0;36m<lambda>\u001b[0;34m(node, args, outs)\u001b[0m\n\u001b[1;32m    659\u001b[0m                         \u001b[0margs\u001b[0m\u001b[0;34m,\u001b[0m\u001b[0;34m\u001b[0m\u001b[0m\n\u001b[1;32m    660\u001b[0m                         \u001b[0mouts\u001b[0m\u001b[0;34m,\u001b[0m\u001b[0;34m\u001b[0m\u001b[0m\n\u001b[0;32m--> 661\u001b[0;31m                         self, node)\n\u001b[0m\u001b[1;32m    662\u001b[0m         \u001b[0;32mexcept\u001b[0m \u001b[0;34m(\u001b[0m\u001b[0mImportError\u001b[0m\u001b[0;34m,\u001b[0m \u001b[0mtheano\u001b[0m\u001b[0;34m.\u001b[0m\u001b[0mgof\u001b[0m\u001b[0;34m.\u001b[0m\u001b[0mcmodule\u001b[0m\u001b[0;34m.\u001b[0m\u001b[0mMissingGXX\u001b[0m\u001b[0;34m)\u001b[0m\u001b[0;34m:\u001b[0m\u001b[0;34m\u001b[0m\u001b[0m\n\u001b[1;32m    663\u001b[0m             \u001b[0mp\u001b[0m \u001b[0;34m=\u001b[0m \u001b[0mself\u001b[0m\u001b[0;34m.\u001b[0m\u001b[0mexecute\u001b[0m\u001b[0;34m\u001b[0m\u001b[0m\n",
      "\u001b[0;31mKeyboardInterrupt\u001b[0m: "
     ]
    }
   ],
   "source": [
    "model.fit(XX, yy, batch_size=50, nb_epoch=20, validation_split=0.05)  "
   ]
  },
  {
   "cell_type": "code",
   "execution_count": 203,
   "metadata": {
    "collapsed": false
   },
   "outputs": [
    {
     "name": "stdout",
     "output_type": "stream",
     "text": [
      "3.23107931119\n",
      "1.0160005\n"
     ]
    }
   ],
   "source": [
    "test = random.randint(0,len(XX))\n",
    "print(model.predict(XX[test:test+1])[0][0])\n",
    "print(yy[test])"
   ]
  },
  {
   "cell_type": "code",
   "execution_count": null,
   "metadata": {
    "collapsed": true
   },
   "outputs": [],
   "source": []
  },
  {
   "cell_type": "code",
   "execution_count": null,
   "metadata": {
    "collapsed": true
   },
   "outputs": [],
   "source": []
  },
  {
   "cell_type": "code",
   "execution_count": null,
   "metadata": {
    "collapsed": true
   },
   "outputs": [],
   "source": []
  },
  {
   "cell_type": "code",
   "execution_count": null,
   "metadata": {
    "collapsed": true
   },
   "outputs": [],
   "source": []
  },
  {
   "cell_type": "code",
   "execution_count": null,
   "metadata": {
    "collapsed": true
   },
   "outputs": [],
   "source": []
  }
 ],
 "metadata": {
  "kernelspec": {
   "display_name": "Python 2",
   "language": "python",
   "name": "python2"
  },
  "language_info": {
   "codemirror_mode": {
    "name": "ipython",
    "version": 2
   },
   "file_extension": ".py",
   "mimetype": "text/x-python",
   "name": "python",
   "nbconvert_exporter": "python",
   "pygments_lexer": "ipython2",
   "version": "2.7.10"
  }
 },
 "nbformat": 4,
 "nbformat_minor": 0
}
