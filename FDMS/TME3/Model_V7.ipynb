{
 "cells": [
  {
   "cell_type": "markdown",
   "metadata": {},
   "source": [
    "## FDMS TME3  \n",
    "\n",
    "Kaggle [How Much Did It Rain? II](https://www.kaggle.com/c/how-much-did-it-rain-ii)\n",
    "\n",
    "Florian Toque & Paul Willot  "
   ]
  },
  {
   "cell_type": "markdown",
   "metadata": {},
   "source": [
    "### Notes\n",
    "We tried different regressor model, like **GBR, SVM, MLP, Random Forest and KNN** as recommanded by the winning team of the Kaggle on taxi trajectories. So far GBR seems to be the best, slightly better than the RF.  \n",
    "The new features we exctracted only made a small impact on predictions but still improved them consistently.  \n",
    "We tried to **use a LSTM to take advantage of the sequential structure** of the data but it **didn't work too well**, probably because there is not enought data (13M lines divided per the average length of sequences (15), less the 30% of fully empty data)"
   ]
  },
  {
   "cell_type": "code",
   "execution_count": 2,
   "metadata": {
    "collapsed": false
   },
   "outputs": [],
   "source": [
    "# from __future__ import exam_success\n",
    "from __future__ import absolute_import \n",
    "from __future__ import print_function  \n",
    "\n",
    "# Standard imports\n",
    "%matplotlib inline\n",
    "import os\n",
    "import sklearn\n",
    "import matplotlib.pyplot as plt\n",
    "import seaborn as sns\n",
    "import numpy as np\n",
    "import random\n",
    "import pandas as pd\n",
    "import scipy.stats as stats\n",
    "\n",
    "# Sk cheats\n",
    "from sklearn.cross_validation import cross_val_score\n",
    "from sklearn import grid_search\n",
    "from sklearn.ensemble import RandomForestRegressor\n",
    "from sklearn.ensemble import ExtraTreesRegressor\n",
    "from sklearn.ensemble import GradientBoostingRegressor\n",
    "from sklearn.neighbors import KNeighborsRegressor\n",
    "from sklearn.svm import SVR\n",
    "#from sklearn.preprocessing import Imputer   # get rid of nan\n",
    "from sklearn.decomposition import NMF        # to add features based on the latent representation\n",
    "from sklearn.decomposition import ProjectedGradientNMF\n",
    "\n",
    "# Faster gradient boosting\n",
    "import xgboost as xgb\n",
    "\n",
    "# For neural networks models\n",
    "from keras.models import Sequential\n",
    "from keras.layers.core import Dense, Dropout, Activation \n",
    "from keras.optimizers import SGD, RMSprop"
   ]
  },
  {
   "cell_type": "markdown",
   "metadata": {},
   "source": [
    "* 13.765.202 lines in train.csv  \n",
    "*  8.022.757 lines in test.csv  "
   ]
  },
  {
   "cell_type": "markdown",
   "metadata": {},
   "source": [
    "### Few words about the dataset\n",
    "\n",
    "Predictions is made in the USA corn growing states (mainly Iowa, Illinois, Indiana) during the season with the highest rainfall (as illustrated by [Iowa](https://en.wikipedia.org/wiki/Iowa#Climate) for the april to august months)\n",
    "\n",
    "The Kaggle page indicate that the dataset have been shuffled, so working on a subset seems acceptable  \n",
    "The test set is not a extracted from the same data as the training set however, which make the evaluation trickier"
   ]
  },
  {
   "cell_type": "markdown",
   "metadata": {},
   "source": [
    "### Load the dataset"
   ]
  },
  {
   "cell_type": "code",
   "execution_count": 3,
   "metadata": {
    "collapsed": false
   },
   "outputs": [
    {
     "name": "stdout",
     "output_type": "stream",
     "text": [
      "CPU times: user 227 ms, sys: 44 ms, total: 272 ms\n",
      "Wall time: 283 ms\n"
     ]
    }
   ],
   "source": [
    "%%time\n",
    "#filename = \"data/train.csv\"\n",
    "filename = \"data/reduced_train_100000.csv\"\n",
    "#filename = \"data/reduced_train_1000000.csv\"\n",
    "raw = pd.read_csv(filename)\n",
    "raw = raw.set_index('Id')"
   ]
  },
  {
   "cell_type": "code",
   "execution_count": 4,
   "metadata": {
    "collapsed": false
   },
   "outputs": [
    {
     "data": {
      "text/plain": [
       "Index([u'minutes_past', u'radardist_km', u'Ref', u'Ref_5x5_10th',\n",
       "       u'Ref_5x5_50th', u'Ref_5x5_90th', u'RefComposite',\n",
       "       u'RefComposite_5x5_10th', u'RefComposite_5x5_50th',\n",
       "       u'RefComposite_5x5_90th', u'RhoHV', u'RhoHV_5x5_10th',\n",
       "       u'RhoHV_5x5_50th', u'RhoHV_5x5_90th', u'Zdr', u'Zdr_5x5_10th',\n",
       "       u'Zdr_5x5_50th', u'Zdr_5x5_90th', u'Kdp', u'Kdp_5x5_10th',\n",
       "       u'Kdp_5x5_50th', u'Kdp_5x5_90th', u'Expected'],\n",
       "      dtype='object')"
      ]
     },
     "execution_count": 4,
     "metadata": {},
     "output_type": "execute_result"
    }
   ],
   "source": [
    "raw.columns"
   ]
  },
  {
   "cell_type": "code",
   "execution_count": 5,
   "metadata": {
    "collapsed": false
   },
   "outputs": [
    {
     "data": {
      "text/plain": [
       "count    100000.000000\n",
       "mean        129.579825\n",
       "std         687.622542\n",
       "min           0.010000\n",
       "25%           0.254000\n",
       "50%           1.016000\n",
       "75%           3.556002\n",
       "max       32740.617000\n",
       "Name: Expected, dtype: float64"
      ]
     },
     "execution_count": 5,
     "metadata": {},
     "output_type": "execute_result"
    }
   ],
   "source": [
    "raw['Expected'].describe()"
   ]
  },
  {
   "cell_type": "markdown",
   "metadata": {},
   "source": [
    "Per wikipedia, a **value of more than 421 mm/h is considered \"Extreme/large hail\"**  \n",
    "If we encounter the value 327.40 meter per hour, we should probably start building Noah's ark  \n",
    "Therefor, it seems reasonable to **drop values too large**, considered as outliers"
   ]
  },
  {
   "cell_type": "code",
   "execution_count": 6,
   "metadata": {
    "collapsed": false
   },
   "outputs": [
    {
     "name": "stdout",
     "output_type": "stream",
     "text": [
      "Dropped 6241 (6.24%)\n"
     ]
    }
   ],
   "source": [
    "# Considering that the gauge may concentrate the rainfall, we set the cap to 1000\n",
    "# Comment this line to analyse the complete dataset \n",
    "l = len(raw)\n",
    "raw = raw[raw['Expected'] < 300]  #1000\n",
    "print(\"Dropped %d (%0.2f%%)\"%(l-len(raw),(l-len(raw))/float(l)*100))"
   ]
  },
  {
   "cell_type": "markdown",
   "metadata": {},
   "source": [
    "Our data look like this:"
   ]
  },
  {
   "cell_type": "code",
   "execution_count": 30,
   "metadata": {
    "collapsed": false
   },
   "outputs": [
    {
     "data": {
      "text/html": [
       "<div>\n",
       "<table border=\"1\" class=\"dataframe\">\n",
       "  <thead>\n",
       "    <tr style=\"text-align: right;\">\n",
       "      <th></th>\n",
       "      <th>minutes_past</th>\n",
       "      <th>radardist_km</th>\n",
       "      <th>Ref</th>\n",
       "      <th>Ref_5x5_10th</th>\n",
       "      <th>Ref_5x5_50th</th>\n",
       "      <th>Ref_5x5_90th</th>\n",
       "      <th>RefComposite</th>\n",
       "      <th>RefComposite_5x5_10th</th>\n",
       "      <th>RefComposite_5x5_50th</th>\n",
       "      <th>RefComposite_5x5_90th</th>\n",
       "      <th>...</th>\n",
       "      <th>RhoHV_5x5_90th</th>\n",
       "      <th>Zdr</th>\n",
       "      <th>Zdr_5x5_10th</th>\n",
       "      <th>Zdr_5x5_50th</th>\n",
       "      <th>Zdr_5x5_90th</th>\n",
       "      <th>Kdp</th>\n",
       "      <th>Kdp_5x5_10th</th>\n",
       "      <th>Kdp_5x5_50th</th>\n",
       "      <th>Kdp_5x5_90th</th>\n",
       "      <th>Expected</th>\n",
       "    </tr>\n",
       "    <tr>\n",
       "      <th>Id</th>\n",
       "      <th></th>\n",
       "      <th></th>\n",
       "      <th></th>\n",
       "      <th></th>\n",
       "      <th></th>\n",
       "      <th></th>\n",
       "      <th></th>\n",
       "      <th></th>\n",
       "      <th></th>\n",
       "      <th></th>\n",
       "      <th></th>\n",
       "      <th></th>\n",
       "      <th></th>\n",
       "      <th></th>\n",
       "      <th></th>\n",
       "      <th></th>\n",
       "      <th></th>\n",
       "      <th></th>\n",
       "      <th></th>\n",
       "      <th></th>\n",
       "      <th></th>\n",
       "    </tr>\n",
       "  </thead>\n",
       "  <tbody>\n",
       "    <tr>\n",
       "      <th>1</th>\n",
       "      <td>3</td>\n",
       "      <td>10</td>\n",
       "      <td>NaN</td>\n",
       "      <td>NaN</td>\n",
       "      <td>NaN</td>\n",
       "      <td>NaN</td>\n",
       "      <td>NaN</td>\n",
       "      <td>NaN</td>\n",
       "      <td>NaN</td>\n",
       "      <td>NaN</td>\n",
       "      <td>...</td>\n",
       "      <td>NaN</td>\n",
       "      <td>NaN</td>\n",
       "      <td>NaN</td>\n",
       "      <td>NaN</td>\n",
       "      <td>NaN</td>\n",
       "      <td>NaN</td>\n",
       "      <td>NaN</td>\n",
       "      <td>NaN</td>\n",
       "      <td>NaN</td>\n",
       "      <td>0.254</td>\n",
       "    </tr>\n",
       "    <tr>\n",
       "      <th>1</th>\n",
       "      <td>16</td>\n",
       "      <td>10</td>\n",
       "      <td>NaN</td>\n",
       "      <td>NaN</td>\n",
       "      <td>NaN</td>\n",
       "      <td>NaN</td>\n",
       "      <td>NaN</td>\n",
       "      <td>NaN</td>\n",
       "      <td>NaN</td>\n",
       "      <td>NaN</td>\n",
       "      <td>...</td>\n",
       "      <td>NaN</td>\n",
       "      <td>NaN</td>\n",
       "      <td>NaN</td>\n",
       "      <td>NaN</td>\n",
       "      <td>NaN</td>\n",
       "      <td>NaN</td>\n",
       "      <td>NaN</td>\n",
       "      <td>NaN</td>\n",
       "      <td>NaN</td>\n",
       "      <td>0.254</td>\n",
       "    </tr>\n",
       "    <tr>\n",
       "      <th>1</th>\n",
       "      <td>25</td>\n",
       "      <td>10</td>\n",
       "      <td>NaN</td>\n",
       "      <td>NaN</td>\n",
       "      <td>NaN</td>\n",
       "      <td>NaN</td>\n",
       "      <td>NaN</td>\n",
       "      <td>NaN</td>\n",
       "      <td>NaN</td>\n",
       "      <td>NaN</td>\n",
       "      <td>...</td>\n",
       "      <td>NaN</td>\n",
       "      <td>NaN</td>\n",
       "      <td>NaN</td>\n",
       "      <td>NaN</td>\n",
       "      <td>NaN</td>\n",
       "      <td>NaN</td>\n",
       "      <td>NaN</td>\n",
       "      <td>NaN</td>\n",
       "      <td>NaN</td>\n",
       "      <td>0.254</td>\n",
       "    </tr>\n",
       "    <tr>\n",
       "      <th>1</th>\n",
       "      <td>35</td>\n",
       "      <td>10</td>\n",
       "      <td>NaN</td>\n",
       "      <td>NaN</td>\n",
       "      <td>NaN</td>\n",
       "      <td>NaN</td>\n",
       "      <td>NaN</td>\n",
       "      <td>NaN</td>\n",
       "      <td>NaN</td>\n",
       "      <td>NaN</td>\n",
       "      <td>...</td>\n",
       "      <td>NaN</td>\n",
       "      <td>NaN</td>\n",
       "      <td>NaN</td>\n",
       "      <td>NaN</td>\n",
       "      <td>NaN</td>\n",
       "      <td>NaN</td>\n",
       "      <td>NaN</td>\n",
       "      <td>NaN</td>\n",
       "      <td>NaN</td>\n",
       "      <td>0.254</td>\n",
       "    </tr>\n",
       "    <tr>\n",
       "      <th>1</th>\n",
       "      <td>45</td>\n",
       "      <td>10</td>\n",
       "      <td>NaN</td>\n",
       "      <td>NaN</td>\n",
       "      <td>NaN</td>\n",
       "      <td>NaN</td>\n",
       "      <td>NaN</td>\n",
       "      <td>NaN</td>\n",
       "      <td>NaN</td>\n",
       "      <td>NaN</td>\n",
       "      <td>...</td>\n",
       "      <td>NaN</td>\n",
       "      <td>NaN</td>\n",
       "      <td>NaN</td>\n",
       "      <td>NaN</td>\n",
       "      <td>NaN</td>\n",
       "      <td>NaN</td>\n",
       "      <td>NaN</td>\n",
       "      <td>NaN</td>\n",
       "      <td>NaN</td>\n",
       "      <td>0.254</td>\n",
       "    </tr>\n",
       "    <tr>\n",
       "      <th>1</th>\n",
       "      <td>55</td>\n",
       "      <td>10</td>\n",
       "      <td>NaN</td>\n",
       "      <td>NaN</td>\n",
       "      <td>NaN</td>\n",
       "      <td>NaN</td>\n",
       "      <td>NaN</td>\n",
       "      <td>NaN</td>\n",
       "      <td>NaN</td>\n",
       "      <td>NaN</td>\n",
       "      <td>...</td>\n",
       "      <td>NaN</td>\n",
       "      <td>NaN</td>\n",
       "      <td>NaN</td>\n",
       "      <td>NaN</td>\n",
       "      <td>NaN</td>\n",
       "      <td>NaN</td>\n",
       "      <td>NaN</td>\n",
       "      <td>NaN</td>\n",
       "      <td>NaN</td>\n",
       "      <td>0.254</td>\n",
       "    </tr>\n",
       "    <tr>\n",
       "      <th>2</th>\n",
       "      <td>1</td>\n",
       "      <td>2</td>\n",
       "      <td>9.0</td>\n",
       "      <td>5.0</td>\n",
       "      <td>7.5</td>\n",
       "      <td>10.5</td>\n",
       "      <td>15.0</td>\n",
       "      <td>10.5</td>\n",
       "      <td>16.5</td>\n",
       "      <td>23.5</td>\n",
       "      <td>...</td>\n",
       "      <td>0.998333</td>\n",
       "      <td>0.3750</td>\n",
       "      <td>-0.1250</td>\n",
       "      <td>0.3125</td>\n",
       "      <td>0.8750</td>\n",
       "      <td>1.059998</td>\n",
       "      <td>-1.410004</td>\n",
       "      <td>-0.350006</td>\n",
       "      <td>1.059998</td>\n",
       "      <td>1.016</td>\n",
       "    </tr>\n",
       "    <tr>\n",
       "      <th>2</th>\n",
       "      <td>6</td>\n",
       "      <td>2</td>\n",
       "      <td>26.5</td>\n",
       "      <td>22.5</td>\n",
       "      <td>25.5</td>\n",
       "      <td>31.5</td>\n",
       "      <td>26.5</td>\n",
       "      <td>26.5</td>\n",
       "      <td>28.5</td>\n",
       "      <td>32.0</td>\n",
       "      <td>...</td>\n",
       "      <td>1.005000</td>\n",
       "      <td>0.0625</td>\n",
       "      <td>-0.1875</td>\n",
       "      <td>0.2500</td>\n",
       "      <td>0.6875</td>\n",
       "      <td>NaN</td>\n",
       "      <td>NaN</td>\n",
       "      <td>NaN</td>\n",
       "      <td>1.409988</td>\n",
       "      <td>1.016</td>\n",
       "    </tr>\n",
       "    <tr>\n",
       "      <th>2</th>\n",
       "      <td>11</td>\n",
       "      <td>2</td>\n",
       "      <td>21.5</td>\n",
       "      <td>15.5</td>\n",
       "      <td>20.5</td>\n",
       "      <td>25.0</td>\n",
       "      <td>26.5</td>\n",
       "      <td>23.5</td>\n",
       "      <td>25.0</td>\n",
       "      <td>27.0</td>\n",
       "      <td>...</td>\n",
       "      <td>1.001667</td>\n",
       "      <td>0.3125</td>\n",
       "      <td>-0.0625</td>\n",
       "      <td>0.3125</td>\n",
       "      <td>0.6250</td>\n",
       "      <td>0.349991</td>\n",
       "      <td>NaN</td>\n",
       "      <td>-0.350006</td>\n",
       "      <td>1.759994</td>\n",
       "      <td>1.016</td>\n",
       "    </tr>\n",
       "    <tr>\n",
       "      <th>2</th>\n",
       "      <td>16</td>\n",
       "      <td>2</td>\n",
       "      <td>18.0</td>\n",
       "      <td>14.0</td>\n",
       "      <td>17.5</td>\n",
       "      <td>21.0</td>\n",
       "      <td>20.5</td>\n",
       "      <td>18.0</td>\n",
       "      <td>20.5</td>\n",
       "      <td>23.0</td>\n",
       "      <td>...</td>\n",
       "      <td>1.001667</td>\n",
       "      <td>0.2500</td>\n",
       "      <td>0.1250</td>\n",
       "      <td>0.3750</td>\n",
       "      <td>0.6875</td>\n",
       "      <td>0.349991</td>\n",
       "      <td>-1.059998</td>\n",
       "      <td>0.000000</td>\n",
       "      <td>1.059998</td>\n",
       "      <td>1.016</td>\n",
       "    </tr>\n",
       "  </tbody>\n",
       "</table>\n",
       "<p>10 rows × 23 columns</p>\n",
       "</div>"
      ],
      "text/plain": [
       "    minutes_past  radardist_km   Ref  Ref_5x5_10th  Ref_5x5_50th  \\\n",
       "Id                                                                 \n",
       "1              3            10   NaN           NaN           NaN   \n",
       "1             16            10   NaN           NaN           NaN   \n",
       "1             25            10   NaN           NaN           NaN   \n",
       "1             35            10   NaN           NaN           NaN   \n",
       "1             45            10   NaN           NaN           NaN   \n",
       "1             55            10   NaN           NaN           NaN   \n",
       "2              1             2   9.0           5.0           7.5   \n",
       "2              6             2  26.5          22.5          25.5   \n",
       "2             11             2  21.5          15.5          20.5   \n",
       "2             16             2  18.0          14.0          17.5   \n",
       "\n",
       "    Ref_5x5_90th  RefComposite  RefComposite_5x5_10th  RefComposite_5x5_50th  \\\n",
       "Id                                                                             \n",
       "1            NaN           NaN                    NaN                    NaN   \n",
       "1            NaN           NaN                    NaN                    NaN   \n",
       "1            NaN           NaN                    NaN                    NaN   \n",
       "1            NaN           NaN                    NaN                    NaN   \n",
       "1            NaN           NaN                    NaN                    NaN   \n",
       "1            NaN           NaN                    NaN                    NaN   \n",
       "2           10.5          15.0                   10.5                   16.5   \n",
       "2           31.5          26.5                   26.5                   28.5   \n",
       "2           25.0          26.5                   23.5                   25.0   \n",
       "2           21.0          20.5                   18.0                   20.5   \n",
       "\n",
       "    RefComposite_5x5_90th    ...     RhoHV_5x5_90th     Zdr  Zdr_5x5_10th  \\\n",
       "Id                           ...                                            \n",
       "1                     NaN    ...                NaN     NaN           NaN   \n",
       "1                     NaN    ...                NaN     NaN           NaN   \n",
       "1                     NaN    ...                NaN     NaN           NaN   \n",
       "1                     NaN    ...                NaN     NaN           NaN   \n",
       "1                     NaN    ...                NaN     NaN           NaN   \n",
       "1                     NaN    ...                NaN     NaN           NaN   \n",
       "2                    23.5    ...           0.998333  0.3750       -0.1250   \n",
       "2                    32.0    ...           1.005000  0.0625       -0.1875   \n",
       "2                    27.0    ...           1.001667  0.3125       -0.0625   \n",
       "2                    23.0    ...           1.001667  0.2500        0.1250   \n",
       "\n",
       "    Zdr_5x5_50th  Zdr_5x5_90th       Kdp  Kdp_5x5_10th  Kdp_5x5_50th  \\\n",
       "Id                                                                     \n",
       "1            NaN           NaN       NaN           NaN           NaN   \n",
       "1            NaN           NaN       NaN           NaN           NaN   \n",
       "1            NaN           NaN       NaN           NaN           NaN   \n",
       "1            NaN           NaN       NaN           NaN           NaN   \n",
       "1            NaN           NaN       NaN           NaN           NaN   \n",
       "1            NaN           NaN       NaN           NaN           NaN   \n",
       "2         0.3125        0.8750  1.059998     -1.410004     -0.350006   \n",
       "2         0.2500        0.6875       NaN           NaN           NaN   \n",
       "2         0.3125        0.6250  0.349991           NaN     -0.350006   \n",
       "2         0.3750        0.6875  0.349991     -1.059998      0.000000   \n",
       "\n",
       "    Kdp_5x5_90th  Expected  \n",
       "Id                          \n",
       "1            NaN     0.254  \n",
       "1            NaN     0.254  \n",
       "1            NaN     0.254  \n",
       "1            NaN     0.254  \n",
       "1            NaN     0.254  \n",
       "1            NaN     0.254  \n",
       "2       1.059998     1.016  \n",
       "2       1.409988     1.016  \n",
       "2       1.759994     1.016  \n",
       "2       1.059998     1.016  \n",
       "\n",
       "[10 rows x 23 columns]"
      ]
     },
     "execution_count": 30,
     "metadata": {},
     "output_type": "execute_result"
    }
   ],
   "source": [
    "raw.head(10)"
   ]
  },
  {
   "cell_type": "code",
   "execution_count": 8,
   "metadata": {
    "collapsed": false
   },
   "outputs": [
    {
     "data": {
      "text/html": [
       "<div>\n",
       "<table border=\"1\" class=\"dataframe\">\n",
       "  <thead>\n",
       "    <tr style=\"text-align: right;\">\n",
       "      <th></th>\n",
       "      <th>minutes_past</th>\n",
       "      <th>radardist_km</th>\n",
       "      <th>Ref</th>\n",
       "      <th>Ref_5x5_10th</th>\n",
       "      <th>Ref_5x5_50th</th>\n",
       "      <th>Ref_5x5_90th</th>\n",
       "      <th>RefComposite</th>\n",
       "      <th>RefComposite_5x5_10th</th>\n",
       "      <th>RefComposite_5x5_50th</th>\n",
       "      <th>RefComposite_5x5_90th</th>\n",
       "      <th>...</th>\n",
       "      <th>RhoHV_5x5_90th</th>\n",
       "      <th>Zdr</th>\n",
       "      <th>Zdr_5x5_10th</th>\n",
       "      <th>Zdr_5x5_50th</th>\n",
       "      <th>Zdr_5x5_90th</th>\n",
       "      <th>Kdp</th>\n",
       "      <th>Kdp_5x5_10th</th>\n",
       "      <th>Kdp_5x5_50th</th>\n",
       "      <th>Kdp_5x5_90th</th>\n",
       "      <th>Expected</th>\n",
       "    </tr>\n",
       "  </thead>\n",
       "  <tbody>\n",
       "    <tr>\n",
       "      <th>count</th>\n",
       "      <td>93759.000000</td>\n",
       "      <td>93759.000000</td>\n",
       "      <td>44923.000000</td>\n",
       "      <td>38391.000000</td>\n",
       "      <td>45078.000000</td>\n",
       "      <td>53038.000000</td>\n",
       "      <td>47946.000000</td>\n",
       "      <td>42219.000000</td>\n",
       "      <td>48042.000000</td>\n",
       "      <td>55118.000000</td>\n",
       "      <td>...</td>\n",
       "      <td>42064.000000</td>\n",
       "      <td>35938.000000</td>\n",
       "      <td>30835.000000</td>\n",
       "      <td>35925.000000</td>\n",
       "      <td>42064.000000</td>\n",
       "      <td>31231.000000</td>\n",
       "      <td>26418.000000</td>\n",
       "      <td>31283.000000</td>\n",
       "      <td>36505.000000</td>\n",
       "      <td>93759.000000</td>\n",
       "    </tr>\n",
       "    <tr>\n",
       "      <th>mean</th>\n",
       "      <td>29.684830</td>\n",
       "      <td>11.022334</td>\n",
       "      <td>23.684482</td>\n",
       "      <td>20.788948</td>\n",
       "      <td>23.378688</td>\n",
       "      <td>26.427731</td>\n",
       "      <td>25.424874</td>\n",
       "      <td>22.956797</td>\n",
       "      <td>25.139201</td>\n",
       "      <td>27.982365</td>\n",
       "      <td>...</td>\n",
       "      <td>1.014742</td>\n",
       "      <td>0.597837</td>\n",
       "      <td>-0.564851</td>\n",
       "      <td>0.429577</td>\n",
       "      <td>2.018197</td>\n",
       "      <td>-0.013098</td>\n",
       "      <td>-3.383198</td>\n",
       "      <td>-0.429909</td>\n",
       "      <td>3.855601</td>\n",
       "      <td>5.837679</td>\n",
       "    </tr>\n",
       "    <tr>\n",
       "      <th>std</th>\n",
       "      <td>17.418876</td>\n",
       "      <td>4.259865</td>\n",
       "      <td>10.224306</td>\n",
       "      <td>9.073503</td>\n",
       "      <td>9.936862</td>\n",
       "      <td>11.186952</td>\n",
       "      <td>10.627954</td>\n",
       "      <td>9.638466</td>\n",
       "      <td>10.372406</td>\n",
       "      <td>11.535892</td>\n",
       "      <td>...</td>\n",
       "      <td>0.045336</td>\n",
       "      <td>1.388384</td>\n",
       "      <td>0.974288</td>\n",
       "      <td>0.864887</td>\n",
       "      <td>1.539513</td>\n",
       "      <td>3.747791</td>\n",
       "      <td>2.771442</td>\n",
       "      <td>2.194894</td>\n",
       "      <td>3.762005</td>\n",
       "      <td>22.764656</td>\n",
       "    </tr>\n",
       "    <tr>\n",
       "      <th>min</th>\n",
       "      <td>0.000000</td>\n",
       "      <td>0.000000</td>\n",
       "      <td>-29.000000</td>\n",
       "      <td>-31.500000</td>\n",
       "      <td>-31.500000</td>\n",
       "      <td>-26.500000</td>\n",
       "      <td>-26.500000</td>\n",
       "      <td>-27.500000</td>\n",
       "      <td>-25.000000</td>\n",
       "      <td>-23.000000</td>\n",
       "      <td>...</td>\n",
       "      <td>0.208333</td>\n",
       "      <td>-7.875000</td>\n",
       "      <td>-7.875000</td>\n",
       "      <td>-7.875000</td>\n",
       "      <td>-7.875000</td>\n",
       "      <td>-52.880005</td>\n",
       "      <td>-51.420000</td>\n",
       "      <td>-46.870010</td>\n",
       "      <td>-41.540010</td>\n",
       "      <td>0.010000</td>\n",
       "    </tr>\n",
       "    <tr>\n",
       "      <th>25%</th>\n",
       "      <td>15.000000</td>\n",
       "      <td>9.000000</td>\n",
       "      <td>17.500000</td>\n",
       "      <td>15.500000</td>\n",
       "      <td>17.500000</td>\n",
       "      <td>19.500000</td>\n",
       "      <td>19.000000</td>\n",
       "      <td>17.500000</td>\n",
       "      <td>18.500000</td>\n",
       "      <td>20.500000</td>\n",
       "      <td>...</td>\n",
       "      <td>0.998333</td>\n",
       "      <td>-0.062500</td>\n",
       "      <td>-1.000000</td>\n",
       "      <td>0.062500</td>\n",
       "      <td>1.125000</td>\n",
       "      <td>-1.410004</td>\n",
       "      <td>-4.230011</td>\n",
       "      <td>-0.710007</td>\n",
       "      <td>1.759994</td>\n",
       "      <td>0.254000</td>\n",
       "    </tr>\n",
       "    <tr>\n",
       "      <th>50%</th>\n",
       "      <td>30.000000</td>\n",
       "      <td>12.000000</td>\n",
       "      <td>24.000000</td>\n",
       "      <td>21.000000</td>\n",
       "      <td>23.500000</td>\n",
       "      <td>27.000000</td>\n",
       "      <td>25.500000</td>\n",
       "      <td>23.000000</td>\n",
       "      <td>25.500000</td>\n",
       "      <td>28.500000</td>\n",
       "      <td>...</td>\n",
       "      <td>1.005000</td>\n",
       "      <td>0.500000</td>\n",
       "      <td>-0.500000</td>\n",
       "      <td>0.375000</td>\n",
       "      <td>1.687500</td>\n",
       "      <td>0.000000</td>\n",
       "      <td>-2.809998</td>\n",
       "      <td>0.000000</td>\n",
       "      <td>3.169998</td>\n",
       "      <td>0.830000</td>\n",
       "    </tr>\n",
       "    <tr>\n",
       "      <th>75%</th>\n",
       "      <td>45.000000</td>\n",
       "      <td>14.000000</td>\n",
       "      <td>30.500000</td>\n",
       "      <td>27.000000</td>\n",
       "      <td>30.500000</td>\n",
       "      <td>34.500000</td>\n",
       "      <td>33.000000</td>\n",
       "      <td>29.500000</td>\n",
       "      <td>32.500000</td>\n",
       "      <td>36.500000</td>\n",
       "      <td>...</td>\n",
       "      <td>1.051667</td>\n",
       "      <td>1.125000</td>\n",
       "      <td>0.000000</td>\n",
       "      <td>0.750000</td>\n",
       "      <td>2.500000</td>\n",
       "      <td>1.409988</td>\n",
       "      <td>-1.740006</td>\n",
       "      <td>0.349991</td>\n",
       "      <td>5.289993</td>\n",
       "      <td>2.794001</td>\n",
       "    </tr>\n",
       "    <tr>\n",
       "      <th>max</th>\n",
       "      <td>59.000000</td>\n",
       "      <td>21.000000</td>\n",
       "      <td>64.500000</td>\n",
       "      <td>57.000000</td>\n",
       "      <td>61.500000</td>\n",
       "      <td>67.500000</td>\n",
       "      <td>68.000000</td>\n",
       "      <td>59.500000</td>\n",
       "      <td>64.000000</td>\n",
       "      <td>79.500000</td>\n",
       "      <td>...</td>\n",
       "      <td>1.051667</td>\n",
       "      <td>7.937500</td>\n",
       "      <td>5.937500</td>\n",
       "      <td>7.937500</td>\n",
       "      <td>7.937500</td>\n",
       "      <td>47.849990</td>\n",
       "      <td>1.759994</td>\n",
       "      <td>5.629990</td>\n",
       "      <td>43.209990</td>\n",
       "      <td>244.000120</td>\n",
       "    </tr>\n",
       "  </tbody>\n",
       "</table>\n",
       "<p>8 rows × 23 columns</p>\n",
       "</div>"
      ],
      "text/plain": [
       "       minutes_past  radardist_km           Ref  Ref_5x5_10th  Ref_5x5_50th  \\\n",
       "count  93759.000000  93759.000000  44923.000000  38391.000000  45078.000000   \n",
       "mean      29.684830     11.022334     23.684482     20.788948     23.378688   \n",
       "std       17.418876      4.259865     10.224306      9.073503      9.936862   \n",
       "min        0.000000      0.000000    -29.000000    -31.500000    -31.500000   \n",
       "25%       15.000000      9.000000     17.500000     15.500000     17.500000   \n",
       "50%       30.000000     12.000000     24.000000     21.000000     23.500000   \n",
       "75%       45.000000     14.000000     30.500000     27.000000     30.500000   \n",
       "max       59.000000     21.000000     64.500000     57.000000     61.500000   \n",
       "\n",
       "       Ref_5x5_90th  RefComposite  RefComposite_5x5_10th  \\\n",
       "count  53038.000000  47946.000000           42219.000000   \n",
       "mean      26.427731     25.424874              22.956797   \n",
       "std       11.186952     10.627954               9.638466   \n",
       "min      -26.500000    -26.500000             -27.500000   \n",
       "25%       19.500000     19.000000              17.500000   \n",
       "50%       27.000000     25.500000              23.000000   \n",
       "75%       34.500000     33.000000              29.500000   \n",
       "max       67.500000     68.000000              59.500000   \n",
       "\n",
       "       RefComposite_5x5_50th  RefComposite_5x5_90th      ...       \\\n",
       "count           48042.000000           55118.000000      ...        \n",
       "mean               25.139201              27.982365      ...        \n",
       "std                10.372406              11.535892      ...        \n",
       "min               -25.000000             -23.000000      ...        \n",
       "25%                18.500000              20.500000      ...        \n",
       "50%                25.500000              28.500000      ...        \n",
       "75%                32.500000              36.500000      ...        \n",
       "max                64.000000              79.500000      ...        \n",
       "\n",
       "       RhoHV_5x5_90th           Zdr  Zdr_5x5_10th  Zdr_5x5_50th  Zdr_5x5_90th  \\\n",
       "count    42064.000000  35938.000000  30835.000000  35925.000000  42064.000000   \n",
       "mean         1.014742      0.597837     -0.564851      0.429577      2.018197   \n",
       "std          0.045336      1.388384      0.974288      0.864887      1.539513   \n",
       "min          0.208333     -7.875000     -7.875000     -7.875000     -7.875000   \n",
       "25%          0.998333     -0.062500     -1.000000      0.062500      1.125000   \n",
       "50%          1.005000      0.500000     -0.500000      0.375000      1.687500   \n",
       "75%          1.051667      1.125000      0.000000      0.750000      2.500000   \n",
       "max          1.051667      7.937500      5.937500      7.937500      7.937500   \n",
       "\n",
       "                Kdp  Kdp_5x5_10th  Kdp_5x5_50th  Kdp_5x5_90th      Expected  \n",
       "count  31231.000000  26418.000000  31283.000000  36505.000000  93759.000000  \n",
       "mean      -0.013098     -3.383198     -0.429909      3.855601      5.837679  \n",
       "std        3.747791      2.771442      2.194894      3.762005     22.764656  \n",
       "min      -52.880005    -51.420000    -46.870010    -41.540010      0.010000  \n",
       "25%       -1.410004     -4.230011     -0.710007      1.759994      0.254000  \n",
       "50%        0.000000     -2.809998      0.000000      3.169998      0.830000  \n",
       "75%        1.409988     -1.740006      0.349991      5.289993      2.794001  \n",
       "max       47.849990      1.759994      5.629990     43.209990    244.000120  \n",
       "\n",
       "[8 rows x 23 columns]"
      ]
     },
     "execution_count": 8,
     "metadata": {},
     "output_type": "execute_result"
    }
   ],
   "source": [
    "raw.describe()"
   ]
  },
  {
   "cell_type": "markdown",
   "metadata": {},
   "source": [
    "Numerous features, with a lot of variability."
   ]
  },
  {
   "cell_type": "markdown",
   "metadata": {},
   "source": [
    "We regroup the data by ID"
   ]
  },
  {
   "cell_type": "code",
   "execution_count": 9,
   "metadata": {
    "collapsed": false
   },
   "outputs": [],
   "source": [
    "# We select all features except for the minutes past,\n",
    "# because we ignore the time repartition of the sequence for now\n",
    "\n",
    "features_columns = list([u'Ref', u'Ref_5x5_10th',\n",
    "       u'Ref_5x5_50th', u'Ref_5x5_90th', u'RefComposite',\n",
    "       u'RefComposite_5x5_10th', u'RefComposite_5x5_50th',\n",
    "       u'RefComposite_5x5_90th', u'RhoHV', u'RhoHV_5x5_10th',\n",
    "       u'RhoHV_5x5_50th', u'RhoHV_5x5_90th', u'Zdr', u'Zdr_5x5_10th',\n",
    "       u'Zdr_5x5_50th', u'Zdr_5x5_90th', u'Kdp', u'Kdp_5x5_10th',\n",
    "       u'Kdp_5x5_50th', u'Kdp_5x5_90th'])\n",
    "\n",
    "def getXy(raw):\n",
    "    selected_columns = list([ u'minutes_past',u'radardist_km', u'Ref', u'Ref_5x5_10th',\n",
    "       u'Ref_5x5_50th', u'Ref_5x5_90th', u'RefComposite',\n",
    "       u'RefComposite_5x5_10th', u'RefComposite_5x5_50th',\n",
    "       u'RefComposite_5x5_90th', u'RhoHV', u'RhoHV_5x5_10th',\n",
    "       u'RhoHV_5x5_50th', u'RhoHV_5x5_90th', u'Zdr', u'Zdr_5x5_10th',\n",
    "       u'Zdr_5x5_50th', u'Zdr_5x5_90th', u'Kdp', u'Kdp_5x5_10th',\n",
    "       u'Kdp_5x5_50th', u'Kdp_5x5_90th'])\n",
    "    \n",
    "    data = raw[selected_columns]\n",
    "    \n",
    "    docX, docY = [], []\n",
    "    for i in data.index.unique():\n",
    "        if isinstance(data.loc[i],pd.core.series.Series):\n",
    "            m = [data.loc[i].as_matrix()]\n",
    "            docX.append(m)\n",
    "            docY.append(float(raw.loc[i][\"Expected\"]))\n",
    "        else:\n",
    "            m = data.loc[i].as_matrix()\n",
    "            docX.append(m)\n",
    "            docY.append(float(raw.loc[i][:1][\"Expected\"]))\n",
    "    X , y = np.array(docX) , np.array(docY)\n",
    "    return X,y"
   ]
  },
  {
   "cell_type": "markdown",
   "metadata": {},
   "source": [
    "### We prepare 3 subsets"
   ]
  },
  {
   "cell_type": "markdown",
   "metadata": {},
   "source": [
    "##### Fully filled data only\n",
    "Used at first to evaluate the models and no worry about features completion"
   ]
  },
  {
   "cell_type": "code",
   "execution_count": 10,
   "metadata": {
    "collapsed": true
   },
   "outputs": [],
   "source": [
    "#noAnyNan = raw.loc[raw[features_columns].dropna(how='any').index.unique()]\n",
    "noAnyNan = raw.dropna()"
   ]
  },
  {
   "cell_type": "markdown",
   "metadata": {},
   "source": [
    "##### Partly filled data\n",
    "Constitue most of the dataset, used to train the models"
   ]
  },
  {
   "cell_type": "code",
   "execution_count": 11,
   "metadata": {
    "collapsed": false
   },
   "outputs": [],
   "source": [
    "noFullNan = raw.loc[raw[features_columns].dropna(how='all').index.unique()]"
   ]
  },
  {
   "cell_type": "markdown",
   "metadata": {},
   "source": [
    "##### Fully empty data\n",
    "Can't do much with those, therefor we isolate them and decide what value to predict using the data analysis we made during the [Data Visualization](DataViz.ipynb)"
   ]
  },
  {
   "cell_type": "code",
   "execution_count": 13,
   "metadata": {
    "collapsed": true
   },
   "outputs": [],
   "source": [
    "fullNan = raw.drop(raw[features_columns].dropna(how='all').index)"
   ]
  },
  {
   "cell_type": "code",
   "execution_count": 14,
   "metadata": {
    "collapsed": false
   },
   "outputs": [
    {
     "name": "stdout",
     "output_type": "stream",
     "text": [
      "Complete dataset: 93759\n",
      "Fully filled:     22158\n",
      "Partly filled:    70149\n",
      "Fully empty:      23610\n"
     ]
    }
   ],
   "source": [
    "print(\"Complete dataset:\",len(raw))\n",
    "print(\"Fully filled:    \",len(noAnyNan))\n",
    "print(\"Partly filled:   \",len(noFullNan))\n",
    "print(\"Fully empty:     \",len(fullNan))"
   ]
  },
  {
   "cell_type": "markdown",
   "metadata": {},
   "source": [
    "---\n",
    "# Features engineering\n",
    "\n",
    "*Here we add the appropriate features, which we will detail below*  \n",
    "  \n",
    "First we get the data and labels:"
   ]
  },
  {
   "cell_type": "code",
   "execution_count": 15,
   "metadata": {
    "collapsed": false
   },
   "outputs": [
    {
     "name": "stdout",
     "output_type": "stream",
     "text": [
      "CPU times: user 3.79 s, sys: 38.4 ms, total: 3.83 s\n",
      "Wall time: 3.85 s\n"
     ]
    }
   ],
   "source": [
    "%%time\n",
    "#X,y=getXy(noAnyNan)\n",
    "X,y=getXy(noFullNan)"
   ]
  },
  {
   "cell_type": "markdown",
   "metadata": {},
   "source": [
    "Our data still look the same:"
   ]
  },
  {
   "cell_type": "code",
   "execution_count": 29,
   "metadata": {
    "collapsed": false
   },
   "outputs": [
    {
     "data": {
      "text/plain": [
       "array([[  1. ,   2. ,   9. ,   5. ,   7.5,  10.5,  15. ,  10.5],\n",
       "       [  6. ,   2. ,  26.5,  22.5,  25.5,  31.5,  26.5,  26.5],\n",
       "       [ 11. ,   2. ,  21.5,  15.5,  20.5,  25. ,  26.5,  23.5],\n",
       "       [ 16. ,   2. ,  18. ,  14. ,  17.5,  21. ,  20.5,  18. ],\n",
       "       [ 21. ,   2. ,  24.5,  16.5,  21. ,  24.5,  24.5,  21. ],\n",
       "       [ 26. ,   2. ,  12. ,  12. ,  16. ,  20. ,  16.5,  17. ],\n",
       "       [ 31. ,   2. ,  22.5,  19. ,  22. ,  25. ,  26. ,  23.5],\n",
       "       [ 37. ,   2. ,  14. ,  14. ,  18.5,  21. ,  19.5,  20. ],\n",
       "       [ 42. ,   2. ,  12. ,  11. ,  12.5,  17. ,  19.5,  18. ],\n",
       "       [ 47. ,   2. ,   1.5,   3.5,   7. ,  10.5,  18. ,  16.5]])"
      ]
     },
     "execution_count": 29,
     "metadata": {},
     "output_type": "execute_result"
    }
   ],
   "source": [
    "X[0][:10,:8]"
   ]
  },
  {
   "cell_type": "markdown",
   "metadata": {},
   "source": [
    "Now let's add some features.  \n",
    "We start by **averaging on each row every sequence of measures**, and we use a **[Non-negative matrix factorisation](https://en.wikipedia.org/wiki/Non-negative_matrix_factorization) to produce a new feature** indicating the location of each measures in a latent space. Hopefully this will allow us to predict similar sequences the same way."
   ]
  },
  {
   "cell_type": "code",
   "execution_count": 33,
   "metadata": {
    "collapsed": false
   },
   "outputs": [],
   "source": [
    "# used to fill fully empty datas\n",
    "global_means = np.nanmean(noFullNan,0)\n",
    "\n",
    "XX=[]\n",
    "for t in X:\n",
    "    nm = np.nanmean(t,0)\n",
    "    for idx,j in enumerate(nm):\n",
    "        if np.isnan(j):\n",
    "            nm[idx]=global_means[idx]\n",
    "    XX.append(nm)\n",
    "XX=np.array(XX)\n",
    "\n",
    "# rescale to clip min at 0 (for non negative matrix factorization)\n",
    "XX_rescaled=XX[:,:]-np.min(XX,0)"
   ]
  },
  {
   "cell_type": "code",
   "execution_count": 34,
   "metadata": {
    "collapsed": false
   },
   "outputs": [
    {
     "name": "stdout",
     "output_type": "stream",
     "text": [
      "CPU times: user 13.8 s, sys: 589 ms, total: 14.4 s\n",
      "Wall time: 12.1 s\n"
     ]
    }
   ],
   "source": [
    "%%time\n",
    "nmf = NMF(max_iter=5000)\n",
    "W = nmf.fit_transform(XX_rescaled)\n",
    "#H = nn.components_"
   ]
  },
  {
   "cell_type": "markdown",
   "metadata": {},
   "source": [
    "Now we add other simpler features:\n",
    "   * mean\n",
    "   * number of NaNs\n",
    "   * flag for each row only filled with NaN\n",
    "   * percentiles (10%, 50%, 90%)\n",
    "   * [dBZ](https://en.wikipedia.org/wiki/DBZ_%28meteorology%29) *(not Dragon Ball Z)*"
   ]
  },
  {
   "cell_type": "code",
   "execution_count": 35,
   "metadata": {
    "collapsed": true
   },
   "outputs": [],
   "source": [
    "# reduce the sequence structure of the data and produce\n",
    "# new hopefully informatives features\n",
    "def addFeatures(X,mf=0):\n",
    "    # used to fill fully empty datas\n",
    "    #global_means = np.nanmean(X,0)\n",
    "    \n",
    "    XX=[]\n",
    "    nbFeatures=float(len(X[0][0]))\n",
    "    for idxt,t in enumerate(X):\n",
    "        \n",
    "        # compute means, ignoring nan when possible, marking it when fully filled with nan\n",
    "        nm = np.nanmean(t,0)\n",
    "        tt=[]\n",
    "        for idx,j in enumerate(nm):\n",
    "            if np.isnan(j):\n",
    "                nm[idx]=global_means[idx]\n",
    "                tt.append(1)\n",
    "            else:\n",
    "                tt.append(0)\n",
    "        tmp = np.append(nm,np.append(tt,tt.count(0)/nbFeatures))\n",
    "        \n",
    "        # faster if working on fully filled data:\n",
    "        #tmp = np.append(np.nanmean(np.array(t),0),(np.array(t)[1:] - np.array(t)[:-1]).sum(0) )\n",
    "        \n",
    "        # add the percentiles\n",
    "        tmp = np.append(tmp,np.nanpercentile(t,10,axis=0))\n",
    "        tmp = np.append(tmp,np.nanpercentile(t,50,axis=0))\n",
    "        tmp = np.append(tmp,np.nanpercentile(t,90,axis=0))\n",
    "        \n",
    "        for idx,i in enumerate(tmp):\n",
    "            if np.isnan(i):\n",
    "                tmp[idx]=0\n",
    "\n",
    "        # adding the dbz as a feature\n",
    "        test = t\n",
    "        try:\n",
    "            taa=test[:,0]\n",
    "        except TypeError:\n",
    "            taa=[test[0][0]]\n",
    "        valid_time = np.zeros_like(taa)\n",
    "        valid_time[0] = taa[0]\n",
    "        for n in xrange(1,len(taa)):\n",
    "            valid_time[n] = taa[n] - taa[n-1]\n",
    "        valid_time[-1] = valid_time[-1] + 60 - np.sum(valid_time)\n",
    "        valid_time = valid_time / 60.0\n",
    "\n",
    "\n",
    "        sum=0\n",
    "        try:\n",
    "            column_ref=test[:,2]\n",
    "        except TypeError:\n",
    "            column_ref=[test[0][2]]\n",
    "        for dbz, hours in zip(column_ref, valid_time):\n",
    "            # See: https://en.wikipedia.org/wiki/DBZ_(meteorology)\n",
    "            if np.isfinite(dbz):\n",
    "                mmperhr = pow(pow(10, dbz/10)/200, 0.625)\n",
    "                sum = sum + mmperhr * hours\n",
    "        \n",
    "        if not(mf is 0):\n",
    "            tmp = np.append(tmp,mf[idxt])\n",
    "\n",
    "        XX.append(np.append(np.array(sum),tmp))\n",
    "        #XX.append(np.array([sum]))\n",
    "        #XX.append(tmp)\n",
    "    return np.array(XX)"
   ]
  },
  {
   "cell_type": "code",
   "execution_count": 37,
   "metadata": {
    "collapsed": false
   },
   "outputs": [
    {
     "name": "stdout",
     "output_type": "stream",
     "text": [
      "CPU times: user 21.5 s, sys: 107 ms, total: 21.6 s\n",
      "Wall time: 21.7 s\n"
     ]
    }
   ],
   "source": [
    "%%time\n",
    "XX=addFeatures(X,mf=W)\n",
    "#XX=addFeatures(X)"
   ]
  },
  {
   "cell_type": "markdown",
   "metadata": {},
   "source": [
    "We are now ready to train our models, so we prepare some training and evaluation dataset."
   ]
  },
  {
   "cell_type": "code",
   "execution_count": 38,
   "metadata": {
    "collapsed": true
   },
   "outputs": [],
   "source": [
    "def splitTrainTest(X, y, split=0.2):\n",
    "    tmp1, tmp2 = [], []\n",
    "    ps = int(len(X) * (1-split))\n",
    "    index_shuf = range(len(X))\n",
    "    random.shuffle(index_shuf)\n",
    "    for i in index_shuf:\n",
    "        tmp1.append(X[i])\n",
    "        tmp2.append(y[i])\n",
    "    return tmp1[:ps], tmp2[:ps], tmp1[ps:], tmp2[ps:]"
   ]
  },
  {
   "cell_type": "code",
   "execution_count": 39,
   "metadata": {
    "collapsed": true
   },
   "outputs": [],
   "source": [
    "X_train,y_train, X_test, y_test = splitTrainTest(XX,y)"
   ]
  },
  {
   "cell_type": "markdown",
   "metadata": {},
   "source": [
    "---"
   ]
  },
  {
   "cell_type": "code",
   "execution_count": 40,
   "metadata": {
    "collapsed": true
   },
   "outputs": [],
   "source": [
    "# used for the crossvalidation\n",
    "def manualScorer(estimator, X, y):\n",
    "    err = (estimator.predict(X_test)-y_test)**2\n",
    "    return -err.sum()/len(err)"
   ]
  },
  {
   "cell_type": "markdown",
   "metadata": {},
   "source": [
    "---"
   ]
  },
  {
   "cell_type": "markdown",
   "metadata": {},
   "source": [
    "Here we try a few models.  \n",
    "  \n",
    "## Support Vector Regression"
   ]
  },
  {
   "cell_type": "code",
   "execution_count": 47,
   "metadata": {
    "collapsed": false
   },
   "outputs": [],
   "source": [
    "svr = SVR(kernel='rbf', C=600.0)"
   ]
  },
  {
   "cell_type": "markdown",
   "metadata": {},
   "source": [
    "We tried a lot of parameters but here for demonstration purpose and speed we focus on one."
   ]
  },
  {
   "cell_type": "code",
   "execution_count": 46,
   "metadata": {
    "collapsed": false
   },
   "outputs": [
    {
     "name": "stdout",
     "output_type": "stream",
     "text": [
      "[mean: -178.87014, std: 30.48097, params: {'C': 600}, mean: -182.50190, std: 27.90487, params: {'C': 800}, mean: -184.44320, std: 27.10662, params: {'C': 1000}]\n",
      "Best:  {'C': 600}\n",
      "CPU times: user 40.3 s, sys: 203 ms, total: 40.5 s\n",
      "Wall time: 40.7 s\n"
     ]
    }
   ],
   "source": [
    "%%time\n",
    "parameters = {'C':range(600,1001,200)}\n",
    "grid_svr = grid_search.GridSearchCV(svr, parameters,scoring=manualScorer)\n",
    "grid_svr.fit(X_train,y_train)\n",
    "print(grid_svr.grid_scores_)\n",
    "print(\"Best: \",grid_svr.best_params_)"
   ]
  },
  {
   "cell_type": "markdown",
   "metadata": {},
   "source": [
    "We use the best parameters"
   ]
  },
  {
   "cell_type": "code",
   "execution_count": 48,
   "metadata": {
    "collapsed": false
   },
   "outputs": [
    {
     "name": "stdout",
     "output_type": "stream",
     "text": [
      "CPU times: user 7.05 s, sys: 52.7 ms, total: 7.1 s\n",
      "Wall time: 7.16 s\n"
     ]
    }
   ],
   "source": [
    "%%time\n",
    "srv = svr.fit(X_train,y_train)"
   ]
  },
  {
   "cell_type": "code",
   "execution_count": 49,
   "metadata": {
    "collapsed": false
   },
   "outputs": [
    {
     "name": "stdout",
     "output_type": "stream",
     "text": [
      "0.888903114183\n",
      "0.785941621867\n"
     ]
    }
   ],
   "source": [
    "print(svr.score(X_train,y_train))\n",
    "print(svr.score(X_test,y_test))"
   ]
  },
  {
   "cell_type": "code",
   "execution_count": 50,
   "metadata": {
    "collapsed": false
   },
   "outputs": [
    {
     "name": "stdout",
     "output_type": "stream",
     "text": [
      "Score: [ 0.45910929  0.86034296  0.80412161  0.72108563  0.48599109]\n",
      "Mean: 0.666\n",
      "CPU times: user 39.2 s, sys: 203 ms, total: 39.4 s\n",
      "Wall time: 39.6 s\n"
     ]
    }
   ],
   "source": [
    "%%time\n",
    "svr_score = cross_val_score(svr, X_train, y_train, cv=5)\n",
    "print(\"Score: %s\\nMean: %.03f\"%(svr_score,svr_score.mean()))"
   ]
  },
  {
   "cell_type": "markdown",
   "metadata": {},
   "source": [
    "---"
   ]
  },
  {
   "cell_type": "code",
   "execution_count": 135,
   "metadata": {
    "collapsed": true
   },
   "outputs": [],
   "source": [
    "knn = KNeighborsRegressor(n_neighbors=6,weights='distance',algorithm='ball_tree')"
   ]
  },
  {
   "cell_type": "code",
   "execution_count": 29,
   "metadata": {
    "collapsed": false
   },
   "outputs": [],
   "source": [
    "#parameters = {'weights':('distance','uniform'),'algorithm':('auto', 'ball_tree', 'kd_tree', 'brute')}\n",
    "parameters = {'n_neighbors':range(1,10,1)}\n",
    "grid_knn = grid_search.GridSearchCV(knn, parameters,scoring=manualScorer)"
   ]
  },
  {
   "cell_type": "code",
   "execution_count": 30,
   "metadata": {
    "collapsed": false
   },
   "outputs": [
    {
     "name": "stdout",
     "output_type": "stream",
     "text": [
      "CPU times: user 2.51 s, sys: 0 ns, total: 2.51 s\n",
      "Wall time: 2.51 s\n"
     ]
    },
    {
     "data": {
      "text/plain": [
       "GridSearchCV(cv=None,\n",
       "       estimator=KNeighborsRegressor(algorithm='ball_tree', leaf_size=30, metric='minkowski',\n",
       "          metric_params=None, n_neighbors=6, p=2, weights='distance'),\n",
       "       fit_params={}, iid=True, loss_func=None, n_jobs=1,\n",
       "       param_grid={'n_neighbors': [1, 2, 3, 4, 5, 6, 7, 8, 9]},\n",
       "       pre_dispatch='2*n_jobs', refit=True, score_func=None,\n",
       "       scoring=<function manualScorer at 0x7fcc54db8050>, verbose=0)"
      ]
     },
     "execution_count": 30,
     "metadata": {},
     "output_type": "execute_result"
    }
   ],
   "source": [
    "%%time\n",
    "grid_knn.fit(X_train,y_train)"
   ]
  },
  {
   "cell_type": "code",
   "execution_count": 31,
   "metadata": {
    "collapsed": false
   },
   "outputs": [
    {
     "name": "stdout",
     "output_type": "stream",
     "text": [
      "[mean: nan, std: nan, params: {'n_neighbors': 1}, mean: nan, std: nan, params: {'n_neighbors': 2}, mean: nan, std: nan, params: {'n_neighbors': 3}, mean: nan, std: nan, params: {'n_neighbors': 4}, mean: nan, std: nan, params: {'n_neighbors': 5}, mean: nan, std: nan, params: {'n_neighbors': 6}, mean: nan, std: nan, params: {'n_neighbors': 7}, mean: nan, std: nan, params: {'n_neighbors': 8}, mean: nan, std: nan, params: {'n_neighbors': 9}]\n",
      "Best:  {'n_neighbors': 1}\n"
     ]
    }
   ],
   "source": [
    "print(grid_knn.grid_scores_)\n",
    "print(\"Best: \",grid_knn.best_params_)"
   ]
  },
  {
   "cell_type": "code",
   "execution_count": 32,
   "metadata": {
    "collapsed": true
   },
   "outputs": [],
   "source": [
    "knn = grid_knn.best_estimator_"
   ]
  },
  {
   "cell_type": "code",
   "execution_count": 136,
   "metadata": {
    "collapsed": false
   },
   "outputs": [],
   "source": [
    "knn= knn.fit(X_train,y_train)"
   ]
  },
  {
   "cell_type": "code",
   "execution_count": 137,
   "metadata": {
    "collapsed": false
   },
   "outputs": [
    {
     "name": "stdout",
     "output_type": "stream",
     "text": [
      "1.0\n",
      "0.66232912873\n"
     ]
    }
   ],
   "source": [
    "print(knn.score(X_train,y_train))\n",
    "print(knn.score(X_test,y_test))"
   ]
  },
  {
   "cell_type": "code",
   "execution_count": 72,
   "metadata": {
    "collapsed": false
   },
   "outputs": [
    {
     "data": {
      "text/plain": [
       "1.2703084913435574"
      ]
     },
     "execution_count": 72,
     "metadata": {},
     "output_type": "execute_result"
    }
   ],
   "source": [
    "err = (knn.predict(X_train)-y_train)**2\n",
    "err.sum()/len(err)"
   ]
  },
  {
   "cell_type": "code",
   "execution_count": 73,
   "metadata": {
    "collapsed": false
   },
   "outputs": [
    {
     "data": {
      "text/plain": [
       "85.489427551154463"
      ]
     },
     "execution_count": 73,
     "metadata": {},
     "output_type": "execute_result"
    }
   ],
   "source": [
    "err = (knn.predict(X_test)-y_test)**2\n",
    "err.sum()/len(err)"
   ]
  },
  {
   "cell_type": "markdown",
   "metadata": {},
   "source": [
    "---"
   ]
  },
  {
   "cell_type": "code",
   "execution_count": 138,
   "metadata": {
    "collapsed": true
   },
   "outputs": [],
   "source": [
    "etreg = ExtraTreesRegressor(n_estimators=200, max_depth=None, min_samples_split=1, random_state=0)"
   ]
  },
  {
   "cell_type": "code",
   "execution_count": 55,
   "metadata": {
    "collapsed": true
   },
   "outputs": [],
   "source": [
    "parameters = {'n_estimators':range(100,200,20)}\n",
    "grid_rf = grid_search.GridSearchCV(etreg, parameters,n_jobs=2,scoring=manualScorer)"
   ]
  },
  {
   "cell_type": "code",
   "execution_count": 37,
   "metadata": {
    "collapsed": false
   },
   "outputs": [
    {
     "name": "stdout",
     "output_type": "stream",
     "text": [
      "CPU times: user 4.44 s, sys: 241 ms, total: 4.68 s\n",
      "Wall time: 16.3 s\n"
     ]
    },
    {
     "data": {
      "text/plain": [
       "GridSearchCV(cv=None, error_score='raise',\n",
       "       estimator=ExtraTreesRegressor(bootstrap=False, criterion='mse', max_depth=None,\n",
       "          max_features='auto', max_leaf_nodes=None, min_samples_leaf=1,\n",
       "          min_samples_split=1, min_weight_fraction_leaf=0.0,\n",
       "          n_estimators=200, n_jobs=1, oob_score=False, random_state=0,\n",
       "          verbose=0, warm_start=False),\n",
       "       fit_params={}, iid=True, loss_func=None, n_jobs=2,\n",
       "       param_grid={'n_estimators': [100, 120, 140, 160, 180]},\n",
       "       pre_dispatch='2*n_jobs', refit=True, score_func=None,\n",
       "       scoring=<function manualScorer at 0x110aa0ed8>, verbose=0)"
      ]
     },
     "execution_count": 37,
     "metadata": {},
     "output_type": "execute_result"
    }
   ],
   "source": [
    "%%time\n",
    "grid_rf.fit(X_train,y_train)"
   ]
  },
  {
   "cell_type": "code",
   "execution_count": 38,
   "metadata": {
    "collapsed": false
   },
   "outputs": [
    {
     "name": "stdout",
     "output_type": "stream",
     "text": [
      "[mean: -55.73522, std: 40.35044, params: {'n_estimators': 100}, mean: -55.47051, std: 39.85010, params: {'n_estimators': 120}, mean: -56.18434, std: 40.62698, params: {'n_estimators': 140}, mean: -56.15046, std: 40.74838, params: {'n_estimators': 160}, mean: -56.37052, std: 40.72395, params: {'n_estimators': 180}]\n",
      "Best:  {'n_estimators': 120}\n"
     ]
    }
   ],
   "source": [
    "print(grid_rf.grid_scores_)\n",
    "print(\"Best: \",grid_rf.best_params_)"
   ]
  },
  {
   "cell_type": "code",
   "execution_count": 39,
   "metadata": {
    "collapsed": false
   },
   "outputs": [
    {
     "data": {
      "text/plain": [
       "{'n_estimators': 120}"
      ]
     },
     "execution_count": 39,
     "metadata": {},
     "output_type": "execute_result"
    }
   ],
   "source": [
    "grid_rf.best_params_"
   ]
  },
  {
   "cell_type": "code",
   "execution_count": 135,
   "metadata": {
    "collapsed": false
   },
   "outputs": [],
   "source": [
    "#etreg = grid_rf.best_estimator_"
   ]
  },
  {
   "cell_type": "code",
   "execution_count": 139,
   "metadata": {
    "collapsed": false
   },
   "outputs": [
    {
     "name": "stdout",
     "output_type": "stream",
     "text": [
      "CPU times: user 26.3 s, sys: 123 ms, total: 26.5 s\n",
      "Wall time: 26.5 s\n"
     ]
    }
   ],
   "source": [
    "%%time\n",
    "etreg = etreg.fit(X_train,y_train)"
   ]
  },
  {
   "cell_type": "code",
   "execution_count": 140,
   "metadata": {
    "collapsed": false
   },
   "outputs": [
    {
     "name": "stdout",
     "output_type": "stream",
     "text": [
      "1.0\n",
      "0.796451392571\n"
     ]
    }
   ],
   "source": [
    "print(etreg.score(X_train,y_train))\n",
    "print(etreg.score(X_test,y_test))"
   ]
  },
  {
   "cell_type": "code",
   "execution_count": 77,
   "metadata": {
    "collapsed": false
   },
   "outputs": [
    {
     "data": {
      "text/plain": [
       "1.2703084913435574"
      ]
     },
     "execution_count": 77,
     "metadata": {},
     "output_type": "execute_result"
    }
   ],
   "source": [
    "err = (etreg.predict(X_train)-y_train)**2\n",
    "err.sum()/len(err)"
   ]
  },
  {
   "cell_type": "code",
   "execution_count": 78,
   "metadata": {
    "collapsed": false
   },
   "outputs": [
    {
     "data": {
      "text/plain": [
       "87.171223669446121"
      ]
     },
     "execution_count": 78,
     "metadata": {},
     "output_type": "execute_result"
    }
   ],
   "source": [
    "err = (etreg.predict(X_test)-y_test)**2\n",
    "err.sum()/len(err)"
   ]
  },
  {
   "cell_type": "markdown",
   "metadata": {},
   "source": [
    "---"
   ]
  },
  {
   "cell_type": "code",
   "execution_count": 158,
   "metadata": {
    "collapsed": true
   },
   "outputs": [],
   "source": [
    "rfr = RandomForestRegressor(n_estimators=200, criterion='mse', max_depth=None, min_samples_split=2,\n",
    "                            min_samples_leaf=1, min_weight_fraction_leaf=0.0, max_features='auto',\n",
    "                            max_leaf_nodes=None, bootstrap=True, oob_score=False, n_jobs=-1,\n",
    "                            random_state=None, verbose=0, warm_start=False)"
   ]
  },
  {
   "cell_type": "code",
   "execution_count": 159,
   "metadata": {
    "collapsed": false
   },
   "outputs": [
    {
     "name": "stdout",
     "output_type": "stream",
     "text": [
      "CPU times: user 2min 22s, sys: 420 ms, total: 2min 22s\n",
      "Wall time: 39.5 s\n"
     ]
    }
   ],
   "source": [
    "%%time\n",
    "rfr = rfr.fit(X_train,y_train)"
   ]
  },
  {
   "cell_type": "code",
   "execution_count": 160,
   "metadata": {
    "collapsed": false
   },
   "outputs": [
    {
     "name": "stdout",
     "output_type": "stream",
     "text": [
      "0.945126763577\n",
      "0.62248085166\n"
     ]
    }
   ],
   "source": [
    "print(rfr.score(X_train,y_train))\n",
    "print(rfr.score(X_test,y_test))"
   ]
  },
  {
   "cell_type": "markdown",
   "metadata": {},
   "source": [
    "---"
   ]
  },
  {
   "cell_type": "code",
   "execution_count": 141,
   "metadata": {
    "collapsed": true
   },
   "outputs": [],
   "source": [
    "# the dbz feature does not influence xgbr so much\n",
    "xgbr = xgb.XGBRegressor(max_depth=6, learning_rate=0.1, n_estimators=700, silent=True,\n",
    "                        objective='reg:linear', nthread=-1, gamma=0, min_child_weight=1,\n",
    "                        max_delta_step=0, subsample=1, colsample_bytree=1, colsample_bylevel=1,\n",
    "                        reg_alpha=0, reg_lambda=1, scale_pos_weight=1, base_score=0.5,\n",
    "                        seed=0, missing=None)"
   ]
  },
  {
   "cell_type": "code",
   "execution_count": 142,
   "metadata": {
    "collapsed": false
   },
   "outputs": [
    {
     "name": "stdout",
     "output_type": "stream",
     "text": [
      "CPU times: user 1min 3s, sys: 1.75 s, total: 1min 5s\n",
      "Wall time: 20.4 s\n"
     ]
    }
   ],
   "source": [
    "%%time\n",
    "xgbr = xgbr.fit(X_train,y_train)"
   ]
  },
  {
   "cell_type": "code",
   "execution_count": 119,
   "metadata": {
    "collapsed": false
   },
   "outputs": [
    {
     "name": "stdout",
     "output_type": "stream",
     "text": [
      "0.993948231144\n",
      "0.613931733332\n"
     ]
    }
   ],
   "source": [
    "# without the nmf features\n",
    "# print(xgbr.score(X_train,y_train))\n",
    "## 0.993948231144\n",
    "# print(xgbr.score(X_test,y_test))\n",
    "## 0.613931733332"
   ]
  },
  {
   "cell_type": "code",
   "execution_count": 143,
   "metadata": {
    "collapsed": false
   },
   "outputs": [
    {
     "name": "stdout",
     "output_type": "stream",
     "text": [
      "0.999679564454\n",
      "0.691887473333\n"
     ]
    }
   ],
   "source": [
    "# with nmf features\n",
    "print(xgbr.score(X_train,y_train))\n",
    "print(xgbr.score(X_test,y_test))"
   ]
  },
  {
   "cell_type": "markdown",
   "metadata": {},
   "source": [
    "---"
   ]
  },
  {
   "cell_type": "code",
   "execution_count": 144,
   "metadata": {
    "collapsed": false
   },
   "outputs": [],
   "source": [
    "gbr = GradientBoostingRegressor(loss='ls', learning_rate=0.1, n_estimators=900,\n",
    "                                subsample=1.0, min_samples_split=2, min_samples_leaf=1, max_depth=4, init=None,\n",
    "                                random_state=None, max_features=None, alpha=0.5,\n",
    "                                verbose=0, max_leaf_nodes=None, warm_start=False)"
   ]
  },
  {
   "cell_type": "code",
   "execution_count": 145,
   "metadata": {
    "collapsed": false
   },
   "outputs": [
    {
     "name": "stdout",
     "output_type": "stream",
     "text": [
      "CPU times: user 52 s, sys: 245 ms, total: 52.3 s\n",
      "Wall time: 52.5 s\n"
     ]
    }
   ],
   "source": [
    "%%time\n",
    "gbr = gbr.fit(X_train,y_train)\n",
    "#os.system('say \"終わりだ\"') #its over!"
   ]
  },
  {
   "cell_type": "code",
   "execution_count": 82,
   "metadata": {
    "collapsed": false
   },
   "outputs": [],
   "source": [
    "#parameters = {'max_depth':range(2,5,1),'alpha':[0.5,0.6,0.7,0.8,0.9]}\n",
    "#parameters = {'subsample':[0.2,0.4,0.5,0.6,0.8,1]}\n",
    "#parameters = {'subsample':[0.2,0.5,0.6,0.8,1],'n_estimators':[800,1000,1200]}\n",
    "#parameters = {'max_depth':range(2,4,1)}\n",
    "parameters = {'n_estimators':[400,800,1100]}\n",
    "#parameters = {'loss':['ls', 'lad', 'huber', 'quantile'],'alpha':[0.3,0.5,0.8,0.9]}\n",
    "#parameters = {'learning_rate':[0.1,0.5,0.9]}\n",
    "\n",
    "\n",
    "\n",
    "grid_gbr = grid_search.GridSearchCV(gbr, parameters,n_jobs=2,scoring=manualScorer)"
   ]
  },
  {
   "cell_type": "code",
   "execution_count": 83,
   "metadata": {
    "collapsed": false
   },
   "outputs": [
    {
     "name": "stdout",
     "output_type": "stream",
     "text": [
      "CPU times: user 38.1 s, sys: 566 ms, total: 38.7 s\n",
      "Wall time: 2min 40s\n"
     ]
    }
   ],
   "source": [
    "%%time\n",
    "grid_gbr = grid_gbr.fit(X_train,y_train)"
   ]
  },
  {
   "cell_type": "code",
   "execution_count": 84,
   "metadata": {
    "collapsed": false
   },
   "outputs": [
    {
     "name": "stdout",
     "output_type": "stream",
     "text": [
      "[mean: -132.42728, std: 13.82615, params: {'n_estimators': 400}, mean: -129.63912, std: 18.26752, params: {'n_estimators': 800}, mean: -131.56520, std: 14.32391, params: {'n_estimators': 1100}]\n",
      "Best:  {'n_estimators': 800}\n"
     ]
    }
   ],
   "source": [
    "print(grid_gbr.grid_scores_)\n",
    "print(\"Best: \",grid_gbr.best_params_)"
   ]
  },
  {
   "cell_type": "code",
   "execution_count": 146,
   "metadata": {
    "collapsed": false
   },
   "outputs": [
    {
     "name": "stdout",
     "output_type": "stream",
     "text": [
      "0.997514944924\n",
      "0.683160735998\n"
     ]
    }
   ],
   "source": [
    "print(gbr.score(X_train,y_train))\n",
    "print(gbr.score(X_test,y_test))"
   ]
  },
  {
   "cell_type": "code",
   "execution_count": 81,
   "metadata": {
    "collapsed": false
   },
   "outputs": [
    {
     "name": "stdout",
     "output_type": "stream",
     "text": [
      "2.7346018758\n",
      "92.3521455159\n"
     ]
    }
   ],
   "source": [
    "err = (gbr.predict(X_train)-y_train)**2\n",
    "print(err.sum()/len(err))\n",
    "err = (gbr.predict(X_test)-y_test)**2\n",
    "print(err.sum()/len(err))"
   ]
  },
  {
   "cell_type": "code",
   "execution_count": 46,
   "metadata": {
    "collapsed": false
   },
   "outputs": [
    {
     "name": "stdout",
     "output_type": "stream",
     "text": [
      "17.0046462288\n",
      "1578.69166275\n"
     ]
    }
   ],
   "source": [
    "err = (gbr.predict(X_train)-y_train)**2\n",
    "print(err.sum()/len(err))\n",
    "err = (gbr.predict(X_test)-y_test)**2\n",
    "print(err.sum()/len(err))"
   ]
  },
  {
   "cell_type": "markdown",
   "metadata": {},
   "source": [
    "---"
   ]
  },
  {
   "cell_type": "code",
   "execution_count": 57,
   "metadata": {
    "collapsed": false
   },
   "outputs": [
    {
     "data": {
      "text/html": [
       "<div style=\"max-height:1000px;max-width:1500px;overflow:auto;\">\n",
       "<table border=\"1\" class=\"dataframe\">\n",
       "  <thead>\n",
       "    <tr style=\"text-align: right;\">\n",
       "      <th></th>\n",
       "      <th>0</th>\n",
       "    </tr>\n",
       "  </thead>\n",
       "  <tbody>\n",
       "    <tr>\n",
       "      <th>count</th>\n",
       "      <td> 3093</td>\n",
       "    </tr>\n",
       "    <tr>\n",
       "      <th>mean</th>\n",
       "      <td>    1</td>\n",
       "    </tr>\n",
       "    <tr>\n",
       "      <th>std</th>\n",
       "      <td>    0</td>\n",
       "    </tr>\n",
       "    <tr>\n",
       "      <th>min</th>\n",
       "      <td>    1</td>\n",
       "    </tr>\n",
       "    <tr>\n",
       "      <th>25%</th>\n",
       "      <td>    1</td>\n",
       "    </tr>\n",
       "    <tr>\n",
       "      <th>50%</th>\n",
       "      <td>    1</td>\n",
       "    </tr>\n",
       "    <tr>\n",
       "      <th>75%</th>\n",
       "      <td>    1</td>\n",
       "    </tr>\n",
       "    <tr>\n",
       "      <th>max</th>\n",
       "      <td>    1</td>\n",
       "    </tr>\n",
       "  </tbody>\n",
       "</table>\n",
       "</div>"
      ],
      "text/plain": [
       "          0\n",
       "count  3093\n",
       "mean      1\n",
       "std       0\n",
       "min       1\n",
       "25%       1\n",
       "50%       1\n",
       "75%       1\n",
       "max       1"
      ]
     },
     "execution_count": 57,
     "metadata": {},
     "output_type": "execute_result"
    }
   ],
   "source": [
    "t = []\n",
    "for i in XX:\n",
    "    t.append(np.count_nonzero(~np.isnan(i)) / float(i.size))\n",
    "pd.DataFrame(np.array(t)).describe()"
   ]
  },
  {
   "cell_type": "markdown",
   "metadata": {},
   "source": [
    "---"
   ]
  },
  {
   "cell_type": "code",
   "execution_count": 215,
   "metadata": {
    "collapsed": false
   },
   "outputs": [
    {
     "data": {
      "text/plain": [
       "array([  0.35491106,   2.20000364,   4.16269146, ...,   0.3539263 ,\n",
       "         3.95877051,  14.5789092 ])"
      ]
     },
     "execution_count": 215,
     "metadata": {},
     "output_type": "execute_result"
    }
   ],
   "source": [
    "svr.predict(X_test)"
   ]
  },
  {
   "cell_type": "code",
   "execution_count": 202,
   "metadata": {
    "collapsed": true
   },
   "outputs": [],
   "source": [
    "s = modelList[0]"
   ]
  },
  {
   "cell_type": "code",
   "execution_count": 229,
   "metadata": {
    "collapsed": false
   },
   "outputs": [
    {
     "data": {
      "text/plain": [
       "array([ 1.,  2.,  3.])"
      ]
     },
     "execution_count": 229,
     "metadata": {},
     "output_type": "execute_result"
    }
   ],
   "source": [
    "t.mean(1)"
   ]
  },
  {
   "cell_type": "code",
   "execution_count": 244,
   "metadata": {
    "collapsed": true
   },
   "outputs": [],
   "source": [
    "modelList = [svr,knn,etreg,rfr,xgbr,gbr]\n",
    "reducedModelList = [knn,etreg,xgbr,gbr]"
   ]
  },
  {
   "cell_type": "code",
   "execution_count": 214,
   "metadata": {
    "collapsed": false
   },
   "outputs": [
    {
     "name": "stdout",
     "output_type": "stream",
     "text": [
      "SVR\n",
      "   train: 0.943\n",
      "   test:  0.638\n",
      "KNeighborsRegressor\n",
      "   train: 1.000\n",
      "   test:  0.662\n",
      "ExtraTreesRegressor\n",
      "   train: 1.000\n",
      "   test:  0.796\n",
      "RandomForestRegressor\n",
      "   train: 0.945\n",
      "   test:  0.622\n",
      "XGBRegressor\n",
      "   train: 1.000\n",
      "   test:  0.692\n",
      "GradientBoostingRegressor\n",
      "   train: 0.998\n",
      "   test:  0.683\n"
     ]
    }
   ],
   "source": [
    "score_train = [[str(f).split(\"(\")[0],f.score(X_train,y_train)] for f in modelList]\n",
    "score_test = [[str(f).split(\"(\")[0],f.score(X_test,y_test)] for f in modelList]\n",
    "for idx,i in enumerate(score_train):\n",
    "    print(i[0])\n",
    "    print(\"   train: %.03f\"%i[1])\n",
    "    print(\"   test:  %.03f\"%score_test[idx][1])\n"
   ]
  },
  {
   "cell_type": "code",
   "execution_count": 245,
   "metadata": {
    "collapsed": true
   },
   "outputs": [],
   "source": [
    "#reducedModelList = [knn,etreg,xgbr,gbr]\n",
    "globalPred = np.array([f.predict(XX) for f in reducedModelList]).T\n",
    "#globalPred.mean(1)"
   ]
  },
  {
   "cell_type": "code",
   "execution_count": 226,
   "metadata": {
    "collapsed": false
   },
   "outputs": [
    {
     "data": {
      "text/plain": [
       "array([ 0.91597311,  1.0160005 ,  1.0160005 ,  1.26184066,  1.03321815,\n",
       "        0.79693084])"
      ]
     },
     "execution_count": 226,
     "metadata": {},
     "output_type": "execute_result"
    }
   ],
   "source": [
    "globalPred[0]"
   ]
  },
  {
   "cell_type": "code",
   "execution_count": 227,
   "metadata": {
    "collapsed": false
   },
   "outputs": [
    {
     "data": {
      "text/plain": [
       "1.0160004999999999"
      ]
     },
     "execution_count": 227,
     "metadata": {},
     "output_type": "execute_result"
    }
   ],
   "source": [
    "y[0]"
   ]
  },
  {
   "cell_type": "code",
   "execution_count": 246,
   "metadata": {
    "collapsed": false
   },
   "outputs": [
    {
     "name": "stdout",
     "output_type": "stream",
     "text": [
      "13.2197419163\n"
     ]
    }
   ],
   "source": [
    "err = (globalPred.mean(1)-y)**2\n",
    "print(err.sum()/len(err))"
   ]
  },
  {
   "cell_type": "code",
   "execution_count": 232,
   "metadata": {
    "collapsed": false
   },
   "outputs": [
    {
     "name": "stdout",
     "output_type": "stream",
     "text": [
      "15.5247409167\n"
     ]
    }
   ],
   "source": [
    "err = (globalPred.mean(1)-y)**2\n",
    "print(err.sum()/len(err))"
   ]
  },
  {
   "cell_type": "code",
   "execution_count": 242,
   "metadata": {
    "collapsed": false
   },
   "outputs": [
    {
     "name": "stdout",
     "output_type": "stream",
     "text": [
      "SVR\n",
      "35.3708083921\n",
      "KNeighborsRegressor\n",
      "18.9510626637\n",
      "ExtraTreesRegressor\n",
      "11.4237345969\n",
      "RandomForestRegressor\n",
      "35.7356750905\n",
      "XGBRegressor\n",
      "17.3771183153\n",
      "GradientBoostingRegressor\n",
      "18.4407805712\n"
     ]
    }
   ],
   "source": [
    "for f in modelList:\n",
    "    print(str(f).split(\"(\")[0])\n",
    "    err = (f.predict(XX)-y)**2\n",
    "    print(err.sum()/len(err))"
   ]
  },
  {
   "cell_type": "code",
   "execution_count": 266,
   "metadata": {
    "collapsed": false
   },
   "outputs": [
    {
     "name": "stdout",
     "output_type": "stream",
     "text": [
      "333.703190005\n"
     ]
    }
   ],
   "source": [
    "err = (XX[:,0]-y)**2\n",
    "print(err.sum()/len(err))"
   ]
  },
  {
   "cell_type": "code",
   "execution_count": 243,
   "metadata": {
    "collapsed": false
   },
   "outputs": [
    {
     "name": "stdout",
     "output_type": "stream",
     "text": [
      "SVR\n",
      "0.889897078226\n",
      "KNeighborsRegressor\n",
      "0.941008773482\n",
      "ExtraTreesRegressor\n",
      "0.964439982747\n",
      "RandomForestRegressor\n",
      "0.888761314262\n",
      "XGBRegressor\n",
      "0.945908177237\n",
      "GradientBoostingRegressor\n",
      "0.942597189237\n"
     ]
    }
   ],
   "source": [
    "for f in modelList:\n",
    "    print(str(f).split(\"(\")[0])\n",
    "    print(f.score(XX,y))"
   ]
  },
  {
   "cell_type": "code",
   "execution_count": null,
   "metadata": {
    "collapsed": true
   },
   "outputs": [],
   "source": [
    "XX[:10,0] # feature 0 is marshall-palmer"
   ]
  },
  {
   "cell_type": "code",
   "execution_count": 238,
   "metadata": {
    "collapsed": true
   },
   "outputs": [],
   "source": [
    "svrMeta = SVR()"
   ]
  },
  {
   "cell_type": "code",
   "execution_count": 239,
   "metadata": {
    "collapsed": false
   },
   "outputs": [
    {
     "name": "stdout",
     "output_type": "stream",
     "text": [
      "CPU times: user 766 ms, sys: 12.4 ms, total: 778 ms\n",
      "Wall time: 781 ms\n"
     ]
    }
   ],
   "source": [
    "%%time\n",
    "svrMeta = svrMeta.fit(globalPred,y)"
   ]
  },
  {
   "cell_type": "code",
   "execution_count": 241,
   "metadata": {
    "collapsed": false
   },
   "outputs": [
    {
     "name": "stdout",
     "output_type": "stream",
     "text": [
      "288.194411898\n"
     ]
    }
   ],
   "source": [
    "err = (svrMeta.predict(globalPred)-y)**2\n",
    "print(err.sum()/len(err))"
   ]
  },
  {
   "cell_type": "markdown",
   "metadata": {},
   "source": [
    "---"
   ]
  },
  {
   "cell_type": "markdown",
   "metadata": {},
   "source": [
    "**Here for legacy**"
   ]
  },
  {
   "cell_type": "code",
   "execution_count": 41,
   "metadata": {
    "collapsed": false
   },
   "outputs": [],
   "source": [
    "\n",
    "\n",
    "in_dim = len(XX[0])\n",
    "out_dim = 1  \n",
    "\n",
    "model = Sequential()\n",
    "# Dense(64) is a fully-connected layer with 64 hidden units.\n",
    "# in the first layer, you must specify the expected input data shape:\n",
    "# here, 20-dimensional vectors.\n",
    "model.add(Dense(128, input_shape=(in_dim,)))\n",
    "model.add(Activation('tanh'))\n",
    "model.add(Dropout(0.5))\n",
    "model.add(Dense(1, init='uniform'))\n",
    "model.add(Activation('linear'))\n",
    "\n",
    "#sgd = SGD(lr=0.1, decay=1e-6, momentum=0.9, nesterov=True)\n",
    "#model.compile(loss='mean_squared_error', optimizer=sgd)\n",
    "\n",
    "rms = RMSprop()\n",
    "model.compile(loss='mean_squared_error', optimizer=rms)\n",
    "\n",
    "#model.fit(X_train, y_train, nb_epoch=20, batch_size=16)\n",
    "#score = model.evaluate(X_test, y_test, batch_size=16)"
   ]
  },
  {
   "cell_type": "code",
   "execution_count": 42,
   "metadata": {
    "collapsed": true
   },
   "outputs": [],
   "source": [
    "prep = []\n",
    "for i in y_train:\n",
    "    prep.append(min(i,20))"
   ]
  },
  {
   "cell_type": "code",
   "execution_count": 43,
   "metadata": {
    "collapsed": true
   },
   "outputs": [],
   "source": [
    "prep=np.array(prep)\n",
    "mi,ma = prep.min(),prep.max()\n",
    "fy = (prep-mi) / (ma-mi)\n",
    "#my = fy.max()\n",
    "#fy = fy/fy.max()"
   ]
  },
  {
   "cell_type": "code",
   "execution_count": 44,
   "metadata": {
    "collapsed": true
   },
   "outputs": [
    {
     "name": "stdout",
     "output_type": "stream",
     "text": [
      "Train on 2224 samples, validate on 248 samples\n",
      "Epoch 1/10\n",
      "2224/2224 [==============================] - 0s - loss: 0.0628 - val_loss: 0.0506\n",
      "Epoch 2/10\n",
      "2224/2224 [==============================] - 0s - loss: 0.0537 - val_loss: 0.0509\n",
      "Epoch 3/10\n",
      "2224/2224 [==============================] - 0s - loss: 0.0517 - val_loss: 0.0541\n",
      "Epoch 4/10\n",
      "2224/2224 [==============================] - 0s - loss: 0.0520 - val_loss: 0.0500\n",
      "Epoch 5/10\n",
      "2224/2224 [==============================] - 0s - loss: 0.0519 - val_loss: 0.0525\n",
      "Epoch 6/10\n",
      "2224/2224 [==============================] - 0s - loss: 0.0523 - val_loss: 0.0489\n",
      "Epoch 7/10\n",
      "2224/2224 [==============================] - 0s - loss: 0.0517 - val_loss: 0.0551\n",
      "Epoch 8/10\n",
      "2224/2224 [==============================] - 0s - loss: 0.0512 - val_loss: 0.0498\n",
      "Epoch 9/10\n",
      "2224/2224 [==============================] - 0s - loss: 0.0516 - val_loss: 0.0583\n",
      "Epoch 10/10\n",
      "2224/2224 [==============================] - 0s - loss: 0.0516 - val_loss: 0.0497\n"
     ]
    },
    {
     "data": {
      "text/plain": [
       "<keras.callbacks.History at 0x112430c10>"
      ]
     },
     "execution_count": 44,
     "metadata": {},
     "output_type": "execute_result"
    }
   ],
   "source": [
    "model.fit(np.array(X_train), fy, batch_size=10, nb_epoch=10, validation_split=0.1)  "
   ]
  },
  {
   "cell_type": "code",
   "execution_count": 45,
   "metadata": {
    "collapsed": true
   },
   "outputs": [],
   "source": [
    "pred = model.predict(np.array(X_test))*ma+mi"
   ]
  },
  {
   "cell_type": "code",
   "execution_count": 46,
   "metadata": {
    "collapsed": false
   },
   "outputs": [
    {
     "data": {
      "text/plain": [
       "182460.82171163053"
      ]
     },
     "execution_count": 46,
     "metadata": {},
     "output_type": "execute_result"
    }
   ],
   "source": [
    "err = (pred-y_test)**2\n",
    "err.sum()/len(err)"
   ]
  },
  {
   "cell_type": "code",
   "execution_count": null,
   "metadata": {
    "collapsed": false
   },
   "outputs": [],
   "source": [
    "r = random.randrange(len(X_train))\n",
    "print(\"(Train) Prediction %0.4f, True: %0.4f\"%(model.predict(np.array([X_train[r]]))[0][0]*ma+mi,y_train[r]))\n",
    "\n",
    "r = random.randrange(len(X_test))\n",
    "print(\"(Test)  Prediction %0.4f, True: %0.4f\"%(model.predict(np.array([X_test[r]]))[0][0]*ma+mi,y_test[r]))"
   ]
  },
  {
   "cell_type": "markdown",
   "metadata": {},
   "source": [
    "---"
   ]
  },
  {
   "cell_type": "markdown",
   "metadata": {},
   "source": [
    "# Predict on testset"
   ]
  },
  {
   "cell_type": "code",
   "execution_count": 338,
   "metadata": {
    "collapsed": false
   },
   "outputs": [
    {
     "name": "stdout",
     "output_type": "stream",
     "text": [
      "CPU times: user 10.3 ms, sys: 2.9 ms, total: 13.2 ms\n",
      "Wall time: 12.4 ms\n"
     ]
    }
   ],
   "source": [
    "%%time\n",
    "filename = \"data/reduced_test_5000.csv\"\n",
    "#filename = \"data/test.csv\"\n",
    "test = pd.read_csv(filename)\n",
    "test = test.set_index('Id')"
   ]
  },
  {
   "cell_type": "code",
   "execution_count": 339,
   "metadata": {
    "collapsed": true
   },
   "outputs": [],
   "source": [
    "features_columns = list([u'Ref', u'Ref_5x5_10th',\n",
    "       u'Ref_5x5_50th', u'Ref_5x5_90th', u'RefComposite',\n",
    "       u'RefComposite_5x5_10th', u'RefComposite_5x5_50th',\n",
    "       u'RefComposite_5x5_90th', u'RhoHV', u'RhoHV_5x5_10th',\n",
    "       u'RhoHV_5x5_50th', u'RhoHV_5x5_90th', u'Zdr', u'Zdr_5x5_10th',\n",
    "       u'Zdr_5x5_50th', u'Zdr_5x5_90th', u'Kdp', u'Kdp_5x5_10th',\n",
    "       u'Kdp_5x5_50th', u'Kdp_5x5_90th'])\n",
    "\n",
    "def getX(raw):\n",
    "    selected_columns = list([ u'minutes_past',u'radardist_km', u'Ref', u'Ref_5x5_10th',\n",
    "       u'Ref_5x5_50th', u'Ref_5x5_90th', u'RefComposite',\n",
    "       u'RefComposite_5x5_10th', u'RefComposite_5x5_50th',\n",
    "       u'RefComposite_5x5_90th', u'RhoHV', u'RhoHV_5x5_10th',\n",
    "       u'RhoHV_5x5_50th', u'RhoHV_5x5_90th', u'Zdr', u'Zdr_5x5_10th',\n",
    "       u'Zdr_5x5_50th', u'Zdr_5x5_90th', u'Kdp', u'Kdp_5x5_10th',\n",
    "       u'Kdp_5x5_50th', u'Kdp_5x5_90th'])\n",
    "    \n",
    "    data = raw[selected_columns]\n",
    "    \n",
    "    docX= []\n",
    "    for i in data.index.unique():\n",
    "        if isinstance(data.loc[i],pd.core.series.Series):\n",
    "            m = [data.loc[i].as_matrix()]\n",
    "            docX.append(m)\n",
    "        else:\n",
    "            m = data.loc[i].as_matrix()\n",
    "            docX.append(m)\n",
    "    X = np.array(docX)\n",
    "    return X"
   ]
  },
  {
   "cell_type": "code",
   "execution_count": 340,
   "metadata": {
    "collapsed": false
   },
   "outputs": [],
   "source": [
    "#%%time\n",
    "#X=getX(test)\n",
    "\n",
    "#tmp = []\n",
    "#for i in X:\n",
    "#    tmp.append(len(i))\n",
    "#tmp = np.array(tmp)\n",
    "#sns.countplot(tmp,order=range(tmp.min(),tmp.max()+1))\n",
    "#plt.title(\"Number of ID per number of observations\\n(On test dataset)\")\n",
    "#plt.plot()"
   ]
  },
  {
   "cell_type": "code",
   "execution_count": 341,
   "metadata": {
    "collapsed": true
   },
   "outputs": [],
   "source": [
    "#testFull = test.dropna()\n",
    "testNoFullNan = test.loc[test[features_columns].dropna(how='all').index.unique()]"
   ]
  },
  {
   "cell_type": "code",
   "execution_count": 342,
   "metadata": {
    "collapsed": false
   },
   "outputs": [
    {
     "name": "stdout",
     "output_type": "stream",
     "text": [
      "CPU times: user 107 ms, sys: 2.27 ms, total: 109 ms\n",
      "Wall time: 110 ms\n"
     ]
    }
   ],
   "source": [
    "%%time\n",
    "X=getX(testNoFullNan)  # 1min\n",
    "#XX = [np.array(t).mean(0) for t in X]  # 10s"
   ]
  },
  {
   "cell_type": "code",
   "execution_count": null,
   "metadata": {
    "collapsed": true
   },
   "outputs": [],
   "source": []
  },
  {
   "cell_type": "code",
   "execution_count": 343,
   "metadata": {
    "collapsed": true
   },
   "outputs": [],
   "source": [
    "XX=[]\n",
    "for t in X:\n",
    "    nm = np.nanmean(t,0)\n",
    "    for idx,j in enumerate(nm):\n",
    "        if np.isnan(j):\n",
    "            nm[idx]=global_means[idx]\n",
    "    XX.append(nm)\n",
    "XX=np.array(XX)\n",
    "\n",
    "# rescale to clip min at 0 (for non negative matrix factorization)\n",
    "XX_rescaled=XX[:,:]-np.min(XX,0)"
   ]
  },
  {
   "cell_type": "code",
   "execution_count": 344,
   "metadata": {
    "collapsed": false
   },
   "outputs": [
    {
     "name": "stdout",
     "output_type": "stream",
     "text": [
      "CPU times: user 11.7 ms, sys: 2.26 ms, total: 13.9 ms\n",
      "Wall time: 13.3 ms\n"
     ]
    }
   ],
   "source": [
    "%%time\n",
    "W = nmf.transform(XX_rescaled)"
   ]
  },
  {
   "cell_type": "code",
   "execution_count": 345,
   "metadata": {
    "collapsed": true
   },
   "outputs": [],
   "source": [
    "XX=addFeatures(X,mf=W)"
   ]
  },
  {
   "cell_type": "code",
   "execution_count": 346,
   "metadata": {
    "collapsed": true
   },
   "outputs": [
    {
     "data": {
      "text/html": [
       "<div>\n",
       "<table border=\"1\" class=\"dataframe\">\n",
       "  <thead>\n",
       "    <tr style=\"text-align: right;\">\n",
       "      <th></th>\n",
       "      <th>0</th>\n",
       "    </tr>\n",
       "  </thead>\n",
       "  <tbody>\n",
       "    <tr>\n",
       "      <th>count</th>\n",
       "      <td>270.000000</td>\n",
       "    </tr>\n",
       "    <tr>\n",
       "      <th>mean</th>\n",
       "      <td>39.863171</td>\n",
       "    </tr>\n",
       "    <tr>\n",
       "      <th>std</th>\n",
       "      <td>19.231586</td>\n",
       "    </tr>\n",
       "    <tr>\n",
       "      <th>min</th>\n",
       "      <td>12.168386</td>\n",
       "    </tr>\n",
       "    <tr>\n",
       "      <th>25%</th>\n",
       "      <td>25.052711</td>\n",
       "    </tr>\n",
       "    <tr>\n",
       "      <th>50%</th>\n",
       "      <td>32.528101</td>\n",
       "    </tr>\n",
       "    <tr>\n",
       "      <th>75%</th>\n",
       "      <td>56.126141</td>\n",
       "    </tr>\n",
       "    <tr>\n",
       "      <th>max</th>\n",
       "      <td>121.855644</td>\n",
       "    </tr>\n",
       "  </tbody>\n",
       "</table>\n",
       "</div>"
      ],
      "text/plain": [
       "                0\n",
       "count  270.000000\n",
       "mean    39.863171\n",
       "std     19.231586\n",
       "min     12.168386\n",
       "25%     25.052711\n",
       "50%     32.528101\n",
       "75%     56.126141\n",
       "max    121.855644"
      ]
     },
     "execution_count": 346,
     "metadata": {},
     "output_type": "execute_result"
    }
   ],
   "source": [
    "pd.DataFrame(xgbr.predict(XX)).describe()"
   ]
  },
  {
   "cell_type": "code",
   "execution_count": 348,
   "metadata": {
    "collapsed": false
   },
   "outputs": [],
   "source": [
    "reducedModelList = [knn,etreg,xgbr,gbr]\n",
    "globalPred = np.array([f.predict(XX) for f in reducedModelList]).T\n",
    "predTest = globalPred.mean(1)"
   ]
  },
  {
   "cell_type": "code",
   "execution_count": 100,
   "metadata": {
    "collapsed": false,
    "scrolled": true
   },
   "outputs": [],
   "source": [
    "predFull = zip(testNoFullNan.index.unique(),predTest)"
   ]
  },
  {
   "cell_type": "code",
   "execution_count": 101,
   "metadata": {
    "collapsed": true
   },
   "outputs": [],
   "source": [
    "testNan = test.drop(test[features_columns].dropna(how='all').index)"
   ]
  },
  {
   "cell_type": "code",
   "execution_count": null,
   "metadata": {
    "collapsed": true
   },
   "outputs": [],
   "source": [
    "pred = predFull + predNan"
   ]
  },
  {
   "cell_type": "code",
   "execution_count": 102,
   "metadata": {
    "collapsed": true
   },
   "outputs": [],
   "source": [
    "tmp = np.empty(len(testNan))\n",
    "tmp.fill(0.445000)   # 50th percentile of full Nan dataset\n",
    "predNan = zip(testNan.index.unique(),tmp)"
   ]
  },
  {
   "cell_type": "code",
   "execution_count": 103,
   "metadata": {
    "collapsed": true
   },
   "outputs": [],
   "source": [
    "testLeft = test.drop(testNan.index.unique()).drop(testFull.index.unique())"
   ]
  },
  {
   "cell_type": "code",
   "execution_count": 104,
   "metadata": {
    "collapsed": true
   },
   "outputs": [],
   "source": [
    "tmp = np.empty(len(testLeft))\n",
    "tmp.fill(1.27)   # 50th percentile of full Nan dataset\n",
    "predLeft = zip(testLeft.index.unique(),tmp)"
   ]
  },
  {
   "cell_type": "code",
   "execution_count": 105,
   "metadata": {
    "collapsed": false
   },
   "outputs": [
    {
     "data": {
      "text/plain": [
       "235515"
      ]
     },
     "execution_count": 105,
     "metadata": {},
     "output_type": "execute_result"
    }
   ],
   "source": [
    "len(testFull.index.unique())"
   ]
  },
  {
   "cell_type": "code",
   "execution_count": 106,
   "metadata": {
    "collapsed": false
   },
   "outputs": [
    {
     "data": {
      "text/plain": [
       "232148"
      ]
     },
     "execution_count": 106,
     "metadata": {},
     "output_type": "execute_result"
    }
   ],
   "source": [
    "len(testNan.index.unique())"
   ]
  },
  {
   "cell_type": "code",
   "execution_count": 107,
   "metadata": {
    "collapsed": false
   },
   "outputs": [
    {
     "data": {
      "text/plain": [
       "249962"
      ]
     },
     "execution_count": 107,
     "metadata": {},
     "output_type": "execute_result"
    }
   ],
   "source": [
    "len(testLeft.index.unique())"
   ]
  },
  {
   "cell_type": "code",
   "execution_count": 108,
   "metadata": {
    "collapsed": false
   },
   "outputs": [],
   "source": [
    "pred = predFull + predNan + predLeft"
   ]
  },
  {
   "cell_type": "code",
   "execution_count": 113,
   "metadata": {
    "collapsed": false
   },
   "outputs": [],
   "source": [
    "pred.sort(key=lambda x: x[0], reverse=False)"
   ]
  },
  {
   "cell_type": "code",
   "execution_count": null,
   "metadata": {
    "collapsed": true
   },
   "outputs": [],
   "source": [
    "#reducedModelList = [knn,etreg,xgbr,gbr]\n",
    "globalPred = np.array([f.predict(XX) for f in reducedModelList]).T\n",
    "#globalPred.mean(1)"
   ]
  },
  {
   "cell_type": "code",
   "execution_count": 114,
   "metadata": {
    "collapsed": false
   },
   "outputs": [
    {
     "data": {
      "text/html": [
       "<div>\n",
       "<table border=\"1\" class=\"dataframe\">\n",
       "  <thead>\n",
       "    <tr style=\"text-align: right;\">\n",
       "      <th></th>\n",
       "      <th>Id</th>\n",
       "      <th>Expected</th>\n",
       "    </tr>\n",
       "  </thead>\n",
       "  <tbody>\n",
       "    <tr>\n",
       "      <th>0</th>\n",
       "      <td>1</td>\n",
       "      <td>1.270000</td>\n",
       "    </tr>\n",
       "    <tr>\n",
       "      <th>1</th>\n",
       "      <td>2</td>\n",
       "      <td>1.270000</td>\n",
       "    </tr>\n",
       "    <tr>\n",
       "      <th>2</th>\n",
       "      <td>3</td>\n",
       "      <td>2.361996</td>\n",
       "    </tr>\n",
       "    <tr>\n",
       "      <th>3</th>\n",
       "      <td>4</td>\n",
       "      <td>14.492731</td>\n",
       "    </tr>\n",
       "    <tr>\n",
       "      <th>4</th>\n",
       "      <td>5</td>\n",
       "      <td>0.445000</td>\n",
       "    </tr>\n",
       "  </tbody>\n",
       "</table>\n",
       "</div>"
      ],
      "text/plain": [
       "   Id   Expected\n",
       "0   1   1.270000\n",
       "1   2   1.270000\n",
       "2   3   2.361996\n",
       "3   4  14.492731\n",
       "4   5   0.445000"
      ]
     },
     "execution_count": 114,
     "metadata": {},
     "output_type": "execute_result"
    }
   ],
   "source": [
    "submission = pd.DataFrame(pred)\n",
    "submission.columns = [\"Id\",\"Expected\"]\n",
    "submission.head()"
   ]
  },
  {
   "cell_type": "code",
   "execution_count": 115,
   "metadata": {
    "collapsed": false
   },
   "outputs": [],
   "source": [
    "submission.loc[submission['Expected']<0,'Expected'] = 0.445"
   ]
  },
  {
   "cell_type": "code",
   "execution_count": 116,
   "metadata": {
    "collapsed": false
   },
   "outputs": [],
   "source": [
    "submission.to_csv(\"submit4.csv\",index=False)"
   ]
  },
  {
   "cell_type": "code",
   "execution_count": null,
   "metadata": {
    "collapsed": true
   },
   "outputs": [],
   "source": []
  },
  {
   "cell_type": "code",
   "execution_count": 73,
   "metadata": {
    "collapsed": false
   },
   "outputs": [],
   "source": [
    "filename = \"data/sample_solution.csv\"\n",
    "sol = pd.read_csv(filename)"
   ]
  },
  {
   "cell_type": "code",
   "execution_count": 74,
   "metadata": {
    "collapsed": true
   },
   "outputs": [
    {
     "data": {
      "text/html": [
       "<div>\n",
       "<table border=\"1\" class=\"dataframe\">\n",
       "  <thead>\n",
       "    <tr style=\"text-align: right;\">\n",
       "      <th></th>\n",
       "      <th>Id</th>\n",
       "      <th>Expected</th>\n",
       "    </tr>\n",
       "  </thead>\n",
       "  <tbody>\n",
       "    <tr>\n",
       "      <th>0</th>\n",
       "      <td>1</td>\n",
       "      <td>0.085765</td>\n",
       "    </tr>\n",
       "    <tr>\n",
       "      <th>1</th>\n",
       "      <td>2</td>\n",
       "      <td>0.000000</td>\n",
       "    </tr>\n",
       "    <tr>\n",
       "      <th>2</th>\n",
       "      <td>3</td>\n",
       "      <td>1.594004</td>\n",
       "    </tr>\n",
       "    <tr>\n",
       "      <th>3</th>\n",
       "      <td>4</td>\n",
       "      <td>6.913380</td>\n",
       "    </tr>\n",
       "    <tr>\n",
       "      <th>4</th>\n",
       "      <td>5</td>\n",
       "      <td>0.000000</td>\n",
       "    </tr>\n",
       "    <tr>\n",
       "      <th>5</th>\n",
       "      <td>6</td>\n",
       "      <td>0.173935</td>\n",
       "    </tr>\n",
       "    <tr>\n",
       "      <th>6</th>\n",
       "      <td>7</td>\n",
       "      <td>3.219921</td>\n",
       "    </tr>\n",
       "    <tr>\n",
       "      <th>7</th>\n",
       "      <td>8</td>\n",
       "      <td>0.867394</td>\n",
       "    </tr>\n",
       "    <tr>\n",
       "      <th>8</th>\n",
       "      <td>9</td>\n",
       "      <td>0.000000</td>\n",
       "    </tr>\n",
       "    <tr>\n",
       "      <th>9</th>\n",
       "      <td>10</td>\n",
       "      <td>14.182371</td>\n",
       "    </tr>\n",
       "    <tr>\n",
       "      <th>10</th>\n",
       "      <td>11</td>\n",
       "      <td>0.911013</td>\n",
       "    </tr>\n",
       "    <tr>\n",
       "      <th>11</th>\n",
       "      <td>12</td>\n",
       "      <td>0.034835</td>\n",
       "    </tr>\n",
       "    <tr>\n",
       "      <th>12</th>\n",
       "      <td>13</td>\n",
       "      <td>2.733501</td>\n",
       "    </tr>\n",
       "    <tr>\n",
       "      <th>13</th>\n",
       "      <td>14</td>\n",
       "      <td>0.709341</td>\n",
       "    </tr>\n",
       "    <tr>\n",
       "      <th>14</th>\n",
       "      <td>15</td>\n",
       "      <td>0.000000</td>\n",
       "    </tr>\n",
       "    <tr>\n",
       "      <th>15</th>\n",
       "      <td>16</td>\n",
       "      <td>0.000000</td>\n",
       "    </tr>\n",
       "    <tr>\n",
       "      <th>16</th>\n",
       "      <td>17</td>\n",
       "      <td>0.000000</td>\n",
       "    </tr>\n",
       "    <tr>\n",
       "      <th>17</th>\n",
       "      <td>18</td>\n",
       "      <td>0.393315</td>\n",
       "    </tr>\n",
       "    <tr>\n",
       "      <th>18</th>\n",
       "      <td>19</td>\n",
       "      <td>0.291799</td>\n",
       "    </tr>\n",
       "    <tr>\n",
       "      <th>19</th>\n",
       "      <td>20</td>\n",
       "      <td>0.000000</td>\n",
       "    </tr>\n",
       "    <tr>\n",
       "      <th>20</th>\n",
       "      <td>21</td>\n",
       "      <td>0.000000</td>\n",
       "    </tr>\n",
       "    <tr>\n",
       "      <th>21</th>\n",
       "      <td>22</td>\n",
       "      <td>2.031596</td>\n",
       "    </tr>\n",
       "    <tr>\n",
       "      <th>22</th>\n",
       "      <td>23</td>\n",
       "      <td>2.236317</td>\n",
       "    </tr>\n",
       "    <tr>\n",
       "      <th>23</th>\n",
       "      <td>24</td>\n",
       "      <td>0.000000</td>\n",
       "    </tr>\n",
       "    <tr>\n",
       "      <th>24</th>\n",
       "      <td>25</td>\n",
       "      <td>0.000000</td>\n",
       "    </tr>\n",
       "    <tr>\n",
       "      <th>25</th>\n",
       "      <td>26</td>\n",
       "      <td>0.009609</td>\n",
       "    </tr>\n",
       "    <tr>\n",
       "      <th>26</th>\n",
       "      <td>27</td>\n",
       "      <td>0.020464</td>\n",
       "    </tr>\n",
       "    <tr>\n",
       "      <th>27</th>\n",
       "      <td>28</td>\n",
       "      <td>0.000000</td>\n",
       "    </tr>\n",
       "    <tr>\n",
       "      <th>28</th>\n",
       "      <td>29</td>\n",
       "      <td>0.000000</td>\n",
       "    </tr>\n",
       "    <tr>\n",
       "      <th>29</th>\n",
       "      <td>30</td>\n",
       "      <td>3.074862</td>\n",
       "    </tr>\n",
       "    <tr>\n",
       "      <th>...</th>\n",
       "      <td>...</td>\n",
       "      <td>...</td>\n",
       "    </tr>\n",
       "    <tr>\n",
       "      <th>717595</th>\n",
       "      <td>717596</td>\n",
       "      <td>2.573862</td>\n",
       "    </tr>\n",
       "    <tr>\n",
       "      <th>717596</th>\n",
       "      <td>717597</td>\n",
       "      <td>0.000000</td>\n",
       "    </tr>\n",
       "    <tr>\n",
       "      <th>717597</th>\n",
       "      <td>717598</td>\n",
       "      <td>6.580513</td>\n",
       "    </tr>\n",
       "    <tr>\n",
       "      <th>717598</th>\n",
       "      <td>717599</td>\n",
       "      <td>0.270776</td>\n",
       "    </tr>\n",
       "    <tr>\n",
       "      <th>717599</th>\n",
       "      <td>717600</td>\n",
       "      <td>0.177539</td>\n",
       "    </tr>\n",
       "    <tr>\n",
       "      <th>717600</th>\n",
       "      <td>717601</td>\n",
       "      <td>1.133367</td>\n",
       "    </tr>\n",
       "    <tr>\n",
       "      <th>717601</th>\n",
       "      <td>717602</td>\n",
       "      <td>0.000000</td>\n",
       "    </tr>\n",
       "    <tr>\n",
       "      <th>717602</th>\n",
       "      <td>717603</td>\n",
       "      <td>9.055868</td>\n",
       "    </tr>\n",
       "    <tr>\n",
       "      <th>717603</th>\n",
       "      <td>717604</td>\n",
       "      <td>0.633148</td>\n",
       "    </tr>\n",
       "    <tr>\n",
       "      <th>717604</th>\n",
       "      <td>717605</td>\n",
       "      <td>17.524065</td>\n",
       "    </tr>\n",
       "    <tr>\n",
       "      <th>717605</th>\n",
       "      <td>717606</td>\n",
       "      <td>0.000000</td>\n",
       "    </tr>\n",
       "    <tr>\n",
       "      <th>717606</th>\n",
       "      <td>717607</td>\n",
       "      <td>0.000000</td>\n",
       "    </tr>\n",
       "    <tr>\n",
       "      <th>717607</th>\n",
       "      <td>717608</td>\n",
       "      <td>0.000000</td>\n",
       "    </tr>\n",
       "    <tr>\n",
       "      <th>717608</th>\n",
       "      <td>717609</td>\n",
       "      <td>14.180502</td>\n",
       "    </tr>\n",
       "    <tr>\n",
       "      <th>717609</th>\n",
       "      <td>717610</td>\n",
       "      <td>1.387969</td>\n",
       "    </tr>\n",
       "    <tr>\n",
       "      <th>717610</th>\n",
       "      <td>717611</td>\n",
       "      <td>0.000000</td>\n",
       "    </tr>\n",
       "    <tr>\n",
       "      <th>717611</th>\n",
       "      <td>717612</td>\n",
       "      <td>0.527286</td>\n",
       "    </tr>\n",
       "    <tr>\n",
       "      <th>717612</th>\n",
       "      <td>717613</td>\n",
       "      <td>0.000000</td>\n",
       "    </tr>\n",
       "    <tr>\n",
       "      <th>717613</th>\n",
       "      <td>717614</td>\n",
       "      <td>0.164476</td>\n",
       "    </tr>\n",
       "    <tr>\n",
       "      <th>717614</th>\n",
       "      <td>717615</td>\n",
       "      <td>2.652251</td>\n",
       "    </tr>\n",
       "    <tr>\n",
       "      <th>717615</th>\n",
       "      <td>717616</td>\n",
       "      <td>0.302655</td>\n",
       "    </tr>\n",
       "    <tr>\n",
       "      <th>717616</th>\n",
       "      <td>717617</td>\n",
       "      <td>0.183060</td>\n",
       "    </tr>\n",
       "    <tr>\n",
       "      <th>717617</th>\n",
       "      <td>717618</td>\n",
       "      <td>0.142695</td>\n",
       "    </tr>\n",
       "    <tr>\n",
       "      <th>717618</th>\n",
       "      <td>717619</td>\n",
       "      <td>0.000000</td>\n",
       "    </tr>\n",
       "    <tr>\n",
       "      <th>717619</th>\n",
       "      <td>717620</td>\n",
       "      <td>0.343296</td>\n",
       "    </tr>\n",
       "    <tr>\n",
       "      <th>717620</th>\n",
       "      <td>717621</td>\n",
       "      <td>0.064034</td>\n",
       "    </tr>\n",
       "    <tr>\n",
       "      <th>717621</th>\n",
       "      <td>717622</td>\n",
       "      <td>0.000000</td>\n",
       "    </tr>\n",
       "    <tr>\n",
       "      <th>717622</th>\n",
       "      <td>717623</td>\n",
       "      <td>1.090277</td>\n",
       "    </tr>\n",
       "    <tr>\n",
       "      <th>717623</th>\n",
       "      <td>717624</td>\n",
       "      <td>1.297023</td>\n",
       "    </tr>\n",
       "    <tr>\n",
       "      <th>717624</th>\n",
       "      <td>717625</td>\n",
       "      <td>0.000000</td>\n",
       "    </tr>\n",
       "  </tbody>\n",
       "</table>\n",
       "<p>717625 rows × 2 columns</p>\n",
       "</div>"
      ],
      "text/plain": [
       "            Id   Expected\n",
       "0            1   0.085765\n",
       "1            2   0.000000\n",
       "2            3   1.594004\n",
       "3            4   6.913380\n",
       "4            5   0.000000\n",
       "5            6   0.173935\n",
       "6            7   3.219921\n",
       "7            8   0.867394\n",
       "8            9   0.000000\n",
       "9           10  14.182371\n",
       "10          11   0.911013\n",
       "11          12   0.034835\n",
       "12          13   2.733501\n",
       "13          14   0.709341\n",
       "14          15   0.000000\n",
       "15          16   0.000000\n",
       "16          17   0.000000\n",
       "17          18   0.393315\n",
       "18          19   0.291799\n",
       "19          20   0.000000\n",
       "20          21   0.000000\n",
       "21          22   2.031596\n",
       "22          23   2.236317\n",
       "23          24   0.000000\n",
       "24          25   0.000000\n",
       "25          26   0.009609\n",
       "26          27   0.020464\n",
       "27          28   0.000000\n",
       "28          29   0.000000\n",
       "29          30   3.074862\n",
       "...        ...        ...\n",
       "717595  717596   2.573862\n",
       "717596  717597   0.000000\n",
       "717597  717598   6.580513\n",
       "717598  717599   0.270776\n",
       "717599  717600   0.177539\n",
       "717600  717601   1.133367\n",
       "717601  717602   0.000000\n",
       "717602  717603   9.055868\n",
       "717603  717604   0.633148\n",
       "717604  717605  17.524065\n",
       "717605  717606   0.000000\n",
       "717606  717607   0.000000\n",
       "717607  717608   0.000000\n",
       "717608  717609  14.180502\n",
       "717609  717610   1.387969\n",
       "717610  717611   0.000000\n",
       "717611  717612   0.527286\n",
       "717612  717613   0.000000\n",
       "717613  717614   0.164476\n",
       "717614  717615   2.652251\n",
       "717615  717616   0.302655\n",
       "717616  717617   0.183060\n",
       "717617  717618   0.142695\n",
       "717618  717619   0.000000\n",
       "717619  717620   0.343296\n",
       "717620  717621   0.064034\n",
       "717621  717622   0.000000\n",
       "717622  717623   1.090277\n",
       "717623  717624   1.297023\n",
       "717624  717625   0.000000\n",
       "\n",
       "[717625 rows x 2 columns]"
      ]
     },
     "execution_count": 74,
     "metadata": {},
     "output_type": "execute_result"
    }
   ],
   "source": [
    "sol"
   ]
  },
  {
   "cell_type": "code",
   "execution_count": null,
   "metadata": {
    "collapsed": false
   },
   "outputs": [],
   "source": [
    "ss = np.array(sol)"
   ]
  },
  {
   "cell_type": "code",
   "execution_count": null,
   "metadata": {
    "collapsed": false
   },
   "outputs": [],
   "source": [
    "%%time\n",
    "for a,b in predFull:\n",
    "    ss[a-1][1]=b"
   ]
  },
  {
   "cell_type": "code",
   "execution_count": null,
   "metadata": {
    "collapsed": false
   },
   "outputs": [],
   "source": [
    "ss"
   ]
  },
  {
   "cell_type": "code",
   "execution_count": 75,
   "metadata": {
    "collapsed": false
   },
   "outputs": [
    {
     "data": {
      "text/html": [
       "<div>\n",
       "<table border=\"1\" class=\"dataframe\">\n",
       "  <thead>\n",
       "    <tr style=\"text-align: right;\">\n",
       "      <th></th>\n",
       "      <th>Id</th>\n",
       "      <th>Expected</th>\n",
       "    </tr>\n",
       "  </thead>\n",
       "  <tbody>\n",
       "    <tr>\n",
       "      <th>0</th>\n",
       "      <td>1</td>\n",
       "      <td>1.270000</td>\n",
       "    </tr>\n",
       "    <tr>\n",
       "      <th>1</th>\n",
       "      <td>2</td>\n",
       "      <td>1.270000</td>\n",
       "    </tr>\n",
       "    <tr>\n",
       "      <th>2</th>\n",
       "      <td>3</td>\n",
       "      <td>2.378660</td>\n",
       "    </tr>\n",
       "    <tr>\n",
       "      <th>3</th>\n",
       "      <td>4</td>\n",
       "      <td>8.851727</td>\n",
       "    </tr>\n",
       "    <tr>\n",
       "      <th>4</th>\n",
       "      <td>5</td>\n",
       "      <td>0.445000</td>\n",
       "    </tr>\n",
       "  </tbody>\n",
       "</table>\n",
       "</div>"
      ],
      "text/plain": [
       "   Id  Expected\n",
       "0   1  1.270000\n",
       "1   2  1.270000\n",
       "2   3  2.378660\n",
       "3   4  8.851727\n",
       "4   5  0.445000"
      ]
     },
     "execution_count": 75,
     "metadata": {},
     "output_type": "execute_result"
    }
   ],
   "source": [
    "sub = pd.DataFrame(pred)\n",
    "sub.columns = [\"Id\",\"Expected\"]\n",
    "sub.Id = sub.Id.astype(int)\n",
    "sub.head()"
   ]
  },
  {
   "cell_type": "code",
   "execution_count": 76,
   "metadata": {
    "collapsed": true
   },
   "outputs": [],
   "source": [
    "sub.to_csv(\"submit3.csv\",index=False)"
   ]
  },
  {
   "cell_type": "code",
   "execution_count": null,
   "metadata": {
    "collapsed": true
   },
   "outputs": [],
   "source": []
  },
  {
   "cell_type": "code",
   "execution_count": null,
   "metadata": {
    "collapsed": true
   },
   "outputs": [],
   "source": []
  },
  {
   "cell_type": "code",
   "execution_count": null,
   "metadata": {
    "collapsed": true
   },
   "outputs": [],
   "source": []
  },
  {
   "cell_type": "code",
   "execution_count": null,
   "metadata": {
    "collapsed": true
   },
   "outputs": [],
   "source": []
  },
  {
   "cell_type": "code",
   "execution_count": null,
   "metadata": {
    "collapsed": true
   },
   "outputs": [],
   "source": []
  },
  {
   "cell_type": "code",
   "execution_count": null,
   "metadata": {
    "collapsed": true
   },
   "outputs": [],
   "source": []
  },
  {
   "cell_type": "code",
   "execution_count": null,
   "metadata": {
    "collapsed": true
   },
   "outputs": [],
   "source": []
  },
  {
   "cell_type": "code",
   "execution_count": null,
   "metadata": {
    "collapsed": true
   },
   "outputs": [],
   "source": []
  },
  {
   "cell_type": "code",
   "execution_count": null,
   "metadata": {
    "collapsed": true
   },
   "outputs": [],
   "source": []
  },
  {
   "cell_type": "code",
   "execution_count": null,
   "metadata": {
    "collapsed": true
   },
   "outputs": [],
   "source": []
  }
 ],
 "metadata": {
  "kernelspec": {
   "display_name": "Python 2",
   "language": "python",
   "name": "python2"
  },
  "language_info": {
   "codemirror_mode": {
    "name": "ipython",
    "version": 2
   },
   "file_extension": ".py",
   "mimetype": "text/x-python",
   "name": "python",
   "nbconvert_exporter": "python",
   "pygments_lexer": "ipython2",
   "version": "2.7.10"
  }
 },
 "nbformat": 4,
 "nbformat_minor": 0
}
