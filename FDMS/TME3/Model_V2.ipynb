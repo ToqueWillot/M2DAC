{
 "cells": [
  {
   "cell_type": "markdown",
   "metadata": {},
   "source": [
    "## FDMS TME3  \n",
    "\n",
    "Kaggle [How Much Did It Rain? II](https://www.kaggle.com/c/how-much-did-it-rain-ii)\n",
    "\n",
    "Florian Toque & Paul Willot  "
   ]
  },
  {
   "cell_type": "markdown",
   "metadata": {},
   "source": [
    "### Notes\n",
    "We tried different model, like SVM regression, MLP, Random Forest and KNN as recommanded by the winning team of the Kaggle on taxi trajectories. So far Random Forest seems to be the best, slightly better than the SVM.  \n",
    "The new features we exctracted only made a very small impact on predictions."
   ]
  },
  {
   "cell_type": "code",
   "execution_count": 2,
   "metadata": {
    "collapsed": false
   },
   "outputs": [],
   "source": [
    "# from __future__ import exam_success\n",
    "from __future__ import absolute_import\n",
    "from __future__ import print_function\n",
    "\n",
    "%matplotlib inline\n",
    "import sklearn\n",
    "import matplotlib.pyplot as plt\n",
    "import seaborn as sns\n",
    "import numpy as np\n",
    "import random\n",
    "import pandas as pd\n",
    "import scipy.stats as stats\n",
    "\n",
    "# Sk cheats\n",
    "from sklearn.cross_validation import cross_val_score  # cross val\n",
    "from sklearn.ensemble import RandomForestRegressor\n",
    "from sklearn.ensemble import ExtraTreesRegressor\n",
    "from sklearn.preprocessing import Imputer   # get rid of nan"
   ]
  },
  {
   "cell_type": "markdown",
   "metadata": {},
   "source": [
    "* 13.765.202 lines in train.csv  \n",
    "*  8.022.757 lines in test.csv  "
   ]
  },
  {
   "cell_type": "markdown",
   "metadata": {},
   "source": [
    "### Few words about the dataset\n",
    "\n",
    "Predictions is made in the USA corn growing states (mainly Iowa, Illinois, Indiana) during the season with the highest rainfall (as illustrated by [Iowa](https://en.wikipedia.org/wiki/Iowa#Climate) for the april to august months)\n",
    "\n",
    "The Kaggle page indicate that the dataset have been shuffled, so working on a subset seems acceptable  \n",
    "The test set is not a extracted from the same data as the training set however, which make the evaluation trickier"
   ]
  },
  {
   "cell_type": "markdown",
   "metadata": {},
   "source": [
    "### Load the dataset"
   ]
  },
  {
   "cell_type": "code",
   "execution_count": 3,
   "metadata": {
    "collapsed": false
   },
   "outputs": [
    {
     "name": "stdout",
     "output_type": "stream",
     "text": [
      "CPU times: user 233 ms, sys: 40.5 ms, total: 274 ms\n",
      "Wall time: 284 ms\n"
     ]
    }
   ],
   "source": [
    "%%time\n",
    "filename = \"data/reduced_train_100000.csv\"\n",
    "#filename = \"data/reduced_train_100000.csv\"\n",
    "raw = pd.read_csv(filename)\n",
    "raw = raw.set_index('Id')"
   ]
  },
  {
   "cell_type": "code",
   "execution_count": 4,
   "metadata": {
    "collapsed": false
   },
   "outputs": [
    {
     "data": {
      "text/plain": [
       "count    100000.000000\n",
       "mean        129.579825\n",
       "std         687.622542\n",
       "min           0.010000\n",
       "25%           0.254000\n",
       "50%           1.016000\n",
       "75%           3.556002\n",
       "max       32740.617000\n",
       "Name: Expected, dtype: float64"
      ]
     },
     "execution_count": 4,
     "metadata": {},
     "output_type": "execute_result"
    }
   ],
   "source": [
    "raw['Expected'].describe()"
   ]
  },
  {
   "cell_type": "markdown",
   "metadata": {},
   "source": [
    "Per wikipedia, a **value of more than 421 mm/h is considered \"Extreme/large hail\"**  \n",
    "If we encounter the value 327.40 meter per hour, we should probably start building Noah's ark  \n",
    "Therefor, it seems reasonable to **drop values too large**, considered as outliers"
   ]
  },
  {
   "cell_type": "code",
   "execution_count": 5,
   "metadata": {
    "collapsed": false
   },
   "outputs": [
    {
     "name": "stdout",
     "output_type": "stream",
     "text": [
      "Dropped 4175 (4.17%)\n"
     ]
    }
   ],
   "source": [
    "# Considering that the gauge may concentrate the rainfall, we set the cap to 1000\n",
    "# Comment this line to analyse the complete dataset \n",
    "l = len(raw)\n",
    "raw = raw[raw['Expected'] < 1000]\n",
    "print(\"Dropped %d (%0.2f%%)\"%(l-len(raw),(l-len(raw))/float(l)*100))"
   ]
  },
  {
   "cell_type": "code",
   "execution_count": 6,
   "metadata": {
    "collapsed": false
   },
   "outputs": [
    {
     "data": {
      "text/html": [
       "<div>\n",
       "<table border=\"1\" class=\"dataframe\">\n",
       "  <thead>\n",
       "    <tr style=\"text-align: right;\">\n",
       "      <th></th>\n",
       "      <th>minutes_past</th>\n",
       "      <th>radardist_km</th>\n",
       "      <th>Ref</th>\n",
       "      <th>Ref_5x5_10th</th>\n",
       "      <th>Ref_5x5_50th</th>\n",
       "      <th>Ref_5x5_90th</th>\n",
       "      <th>RefComposite</th>\n",
       "      <th>RefComposite_5x5_10th</th>\n",
       "      <th>RefComposite_5x5_50th</th>\n",
       "      <th>RefComposite_5x5_90th</th>\n",
       "      <th>...</th>\n",
       "      <th>RhoHV_5x5_90th</th>\n",
       "      <th>Zdr</th>\n",
       "      <th>Zdr_5x5_10th</th>\n",
       "      <th>Zdr_5x5_50th</th>\n",
       "      <th>Zdr_5x5_90th</th>\n",
       "      <th>Kdp</th>\n",
       "      <th>Kdp_5x5_10th</th>\n",
       "      <th>Kdp_5x5_50th</th>\n",
       "      <th>Kdp_5x5_90th</th>\n",
       "      <th>Expected</th>\n",
       "    </tr>\n",
       "    <tr>\n",
       "      <th>Id</th>\n",
       "      <th></th>\n",
       "      <th></th>\n",
       "      <th></th>\n",
       "      <th></th>\n",
       "      <th></th>\n",
       "      <th></th>\n",
       "      <th></th>\n",
       "      <th></th>\n",
       "      <th></th>\n",
       "      <th></th>\n",
       "      <th></th>\n",
       "      <th></th>\n",
       "      <th></th>\n",
       "      <th></th>\n",
       "      <th></th>\n",
       "      <th></th>\n",
       "      <th></th>\n",
       "      <th></th>\n",
       "      <th></th>\n",
       "      <th></th>\n",
       "      <th></th>\n",
       "    </tr>\n",
       "  </thead>\n",
       "  <tbody>\n",
       "    <tr>\n",
       "      <th>1</th>\n",
       "      <td>3</td>\n",
       "      <td>10</td>\n",
       "      <td>NaN</td>\n",
       "      <td>NaN</td>\n",
       "      <td>NaN</td>\n",
       "      <td>NaN</td>\n",
       "      <td>NaN</td>\n",
       "      <td>NaN</td>\n",
       "      <td>NaN</td>\n",
       "      <td>NaN</td>\n",
       "      <td>...</td>\n",
       "      <td>NaN</td>\n",
       "      <td>NaN</td>\n",
       "      <td>NaN</td>\n",
       "      <td>NaN</td>\n",
       "      <td>NaN</td>\n",
       "      <td>NaN</td>\n",
       "      <td>NaN</td>\n",
       "      <td>NaN</td>\n",
       "      <td>NaN</td>\n",
       "      <td>0.254</td>\n",
       "    </tr>\n",
       "    <tr>\n",
       "      <th>1</th>\n",
       "      <td>16</td>\n",
       "      <td>10</td>\n",
       "      <td>NaN</td>\n",
       "      <td>NaN</td>\n",
       "      <td>NaN</td>\n",
       "      <td>NaN</td>\n",
       "      <td>NaN</td>\n",
       "      <td>NaN</td>\n",
       "      <td>NaN</td>\n",
       "      <td>NaN</td>\n",
       "      <td>...</td>\n",
       "      <td>NaN</td>\n",
       "      <td>NaN</td>\n",
       "      <td>NaN</td>\n",
       "      <td>NaN</td>\n",
       "      <td>NaN</td>\n",
       "      <td>NaN</td>\n",
       "      <td>NaN</td>\n",
       "      <td>NaN</td>\n",
       "      <td>NaN</td>\n",
       "      <td>0.254</td>\n",
       "    </tr>\n",
       "    <tr>\n",
       "      <th>1</th>\n",
       "      <td>25</td>\n",
       "      <td>10</td>\n",
       "      <td>NaN</td>\n",
       "      <td>NaN</td>\n",
       "      <td>NaN</td>\n",
       "      <td>NaN</td>\n",
       "      <td>NaN</td>\n",
       "      <td>NaN</td>\n",
       "      <td>NaN</td>\n",
       "      <td>NaN</td>\n",
       "      <td>...</td>\n",
       "      <td>NaN</td>\n",
       "      <td>NaN</td>\n",
       "      <td>NaN</td>\n",
       "      <td>NaN</td>\n",
       "      <td>NaN</td>\n",
       "      <td>NaN</td>\n",
       "      <td>NaN</td>\n",
       "      <td>NaN</td>\n",
       "      <td>NaN</td>\n",
       "      <td>0.254</td>\n",
       "    </tr>\n",
       "    <tr>\n",
       "      <th>1</th>\n",
       "      <td>35</td>\n",
       "      <td>10</td>\n",
       "      <td>NaN</td>\n",
       "      <td>NaN</td>\n",
       "      <td>NaN</td>\n",
       "      <td>NaN</td>\n",
       "      <td>NaN</td>\n",
       "      <td>NaN</td>\n",
       "      <td>NaN</td>\n",
       "      <td>NaN</td>\n",
       "      <td>...</td>\n",
       "      <td>NaN</td>\n",
       "      <td>NaN</td>\n",
       "      <td>NaN</td>\n",
       "      <td>NaN</td>\n",
       "      <td>NaN</td>\n",
       "      <td>NaN</td>\n",
       "      <td>NaN</td>\n",
       "      <td>NaN</td>\n",
       "      <td>NaN</td>\n",
       "      <td>0.254</td>\n",
       "    </tr>\n",
       "    <tr>\n",
       "      <th>1</th>\n",
       "      <td>45</td>\n",
       "      <td>10</td>\n",
       "      <td>NaN</td>\n",
       "      <td>NaN</td>\n",
       "      <td>NaN</td>\n",
       "      <td>NaN</td>\n",
       "      <td>NaN</td>\n",
       "      <td>NaN</td>\n",
       "      <td>NaN</td>\n",
       "      <td>NaN</td>\n",
       "      <td>...</td>\n",
       "      <td>NaN</td>\n",
       "      <td>NaN</td>\n",
       "      <td>NaN</td>\n",
       "      <td>NaN</td>\n",
       "      <td>NaN</td>\n",
       "      <td>NaN</td>\n",
       "      <td>NaN</td>\n",
       "      <td>NaN</td>\n",
       "      <td>NaN</td>\n",
       "      <td>0.254</td>\n",
       "    </tr>\n",
       "  </tbody>\n",
       "</table>\n",
       "<p>5 rows × 23 columns</p>\n",
       "</div>"
      ],
      "text/plain": [
       "    minutes_past  radardist_km  Ref  Ref_5x5_10th  Ref_5x5_50th  Ref_5x5_90th  \\\n",
       "Id                                                                              \n",
       "1              3            10  NaN           NaN           NaN           NaN   \n",
       "1             16            10  NaN           NaN           NaN           NaN   \n",
       "1             25            10  NaN           NaN           NaN           NaN   \n",
       "1             35            10  NaN           NaN           NaN           NaN   \n",
       "1             45            10  NaN           NaN           NaN           NaN   \n",
       "\n",
       "    RefComposite  RefComposite_5x5_10th  RefComposite_5x5_50th  \\\n",
       "Id                                                               \n",
       "1            NaN                    NaN                    NaN   \n",
       "1            NaN                    NaN                    NaN   \n",
       "1            NaN                    NaN                    NaN   \n",
       "1            NaN                    NaN                    NaN   \n",
       "1            NaN                    NaN                    NaN   \n",
       "\n",
       "    RefComposite_5x5_90th    ...     RhoHV_5x5_90th  Zdr  Zdr_5x5_10th  \\\n",
       "Id                           ...                                         \n",
       "1                     NaN    ...                NaN  NaN           NaN   \n",
       "1                     NaN    ...                NaN  NaN           NaN   \n",
       "1                     NaN    ...                NaN  NaN           NaN   \n",
       "1                     NaN    ...                NaN  NaN           NaN   \n",
       "1                     NaN    ...                NaN  NaN           NaN   \n",
       "\n",
       "    Zdr_5x5_50th  Zdr_5x5_90th  Kdp  Kdp_5x5_10th  Kdp_5x5_50th  Kdp_5x5_90th  \\\n",
       "Id                                                                              \n",
       "1            NaN           NaN  NaN           NaN           NaN           NaN   \n",
       "1            NaN           NaN  NaN           NaN           NaN           NaN   \n",
       "1            NaN           NaN  NaN           NaN           NaN           NaN   \n",
       "1            NaN           NaN  NaN           NaN           NaN           NaN   \n",
       "1            NaN           NaN  NaN           NaN           NaN           NaN   \n",
       "\n",
       "    Expected  \n",
       "Id            \n",
       "1      0.254  \n",
       "1      0.254  \n",
       "1      0.254  \n",
       "1      0.254  \n",
       "1      0.254  \n",
       "\n",
       "[5 rows x 23 columns]"
      ]
     },
     "execution_count": 6,
     "metadata": {},
     "output_type": "execute_result"
    }
   ],
   "source": [
    "raw.head(5)"
   ]
  },
  {
   "cell_type": "code",
   "execution_count": 7,
   "metadata": {
    "collapsed": false
   },
   "outputs": [
    {
     "data": {
      "text/html": [
       "<div>\n",
       "<table border=\"1\" class=\"dataframe\">\n",
       "  <thead>\n",
       "    <tr style=\"text-align: right;\">\n",
       "      <th></th>\n",
       "      <th>minutes_past</th>\n",
       "      <th>radardist_km</th>\n",
       "      <th>Ref</th>\n",
       "      <th>Ref_5x5_10th</th>\n",
       "      <th>Ref_5x5_50th</th>\n",
       "      <th>Ref_5x5_90th</th>\n",
       "      <th>RefComposite</th>\n",
       "      <th>RefComposite_5x5_10th</th>\n",
       "      <th>RefComposite_5x5_50th</th>\n",
       "      <th>RefComposite_5x5_90th</th>\n",
       "      <th>...</th>\n",
       "      <th>RhoHV_5x5_90th</th>\n",
       "      <th>Zdr</th>\n",
       "      <th>Zdr_5x5_10th</th>\n",
       "      <th>Zdr_5x5_50th</th>\n",
       "      <th>Zdr_5x5_90th</th>\n",
       "      <th>Kdp</th>\n",
       "      <th>Kdp_5x5_10th</th>\n",
       "      <th>Kdp_5x5_50th</th>\n",
       "      <th>Kdp_5x5_90th</th>\n",
       "      <th>Expected</th>\n",
       "    </tr>\n",
       "  </thead>\n",
       "  <tbody>\n",
       "    <tr>\n",
       "      <th>count</th>\n",
       "      <td>95825.000000</td>\n",
       "      <td>95825.000000</td>\n",
       "      <td>44990.000000</td>\n",
       "      <td>38441.000000</td>\n",
       "      <td>45146.000000</td>\n",
       "      <td>53163.000000</td>\n",
       "      <td>48020.000000</td>\n",
       "      <td>42275.000000</td>\n",
       "      <td>48117.000000</td>\n",
       "      <td>55260.000000</td>\n",
       "      <td>...</td>\n",
       "      <td>42210.000000</td>\n",
       "      <td>36040.000000</td>\n",
       "      <td>30901.000000</td>\n",
       "      <td>36025.000000</td>\n",
       "      <td>42210.000000</td>\n",
       "      <td>31318.000000</td>\n",
       "      <td>26464.000000</td>\n",
       "      <td>31368.000000</td>\n",
       "      <td>36627.000000</td>\n",
       "      <td>95825.000000</td>\n",
       "    </tr>\n",
       "    <tr>\n",
       "      <th>mean</th>\n",
       "      <td>29.686595</td>\n",
       "      <td>11.052523</td>\n",
       "      <td>23.684530</td>\n",
       "      <td>20.789496</td>\n",
       "      <td>23.378716</td>\n",
       "      <td>26.419606</td>\n",
       "      <td>25.422845</td>\n",
       "      <td>22.955328</td>\n",
       "      <td>25.136573</td>\n",
       "      <td>27.966965</td>\n",
       "      <td>...</td>\n",
       "      <td>1.014748</td>\n",
       "      <td>0.597368</td>\n",
       "      <td>-0.565218</td>\n",
       "      <td>0.428472</td>\n",
       "      <td>2.017049</td>\n",
       "      <td>-0.011121</td>\n",
       "      <td>-3.384371</td>\n",
       "      <td>-0.431668</td>\n",
       "      <td>3.854969</td>\n",
       "      <td>17.433421</td>\n",
       "    </tr>\n",
       "    <tr>\n",
       "      <th>std</th>\n",
       "      <td>17.417786</td>\n",
       "      <td>4.239598</td>\n",
       "      <td>10.227057</td>\n",
       "      <td>9.074095</td>\n",
       "      <td>9.939687</td>\n",
       "      <td>11.193085</td>\n",
       "      <td>10.630984</td>\n",
       "      <td>9.639113</td>\n",
       "      <td>10.377139</td>\n",
       "      <td>11.544993</td>\n",
       "      <td>...</td>\n",
       "      <td>0.045614</td>\n",
       "      <td>1.387422</td>\n",
       "      <td>0.973801</td>\n",
       "      <td>0.865122</td>\n",
       "      <td>1.539430</td>\n",
       "      <td>3.747653</td>\n",
       "      <td>2.772211</td>\n",
       "      <td>2.202447</td>\n",
       "      <td>3.761289</td>\n",
       "      <td>84.809357</td>\n",
       "    </tr>\n",
       "    <tr>\n",
       "      <th>min</th>\n",
       "      <td>0.000000</td>\n",
       "      <td>0.000000</td>\n",
       "      <td>-29.000000</td>\n",
       "      <td>-31.500000</td>\n",
       "      <td>-31.500000</td>\n",
       "      <td>-26.500000</td>\n",
       "      <td>-26.500000</td>\n",
       "      <td>-27.500000</td>\n",
       "      <td>-25.000000</td>\n",
       "      <td>-23.000000</td>\n",
       "      <td>...</td>\n",
       "      <td>0.208333</td>\n",
       "      <td>-7.875000</td>\n",
       "      <td>-7.875000</td>\n",
       "      <td>-7.875000</td>\n",
       "      <td>-7.875000</td>\n",
       "      <td>-52.880005</td>\n",
       "      <td>-51.420000</td>\n",
       "      <td>-46.870010</td>\n",
       "      <td>-41.540010</td>\n",
       "      <td>0.010000</td>\n",
       "    </tr>\n",
       "    <tr>\n",
       "      <th>25%</th>\n",
       "      <td>15.000000</td>\n",
       "      <td>9.000000</td>\n",
       "      <td>17.500000</td>\n",
       "      <td>15.500000</td>\n",
       "      <td>17.500000</td>\n",
       "      <td>19.500000</td>\n",
       "      <td>19.000000</td>\n",
       "      <td>17.500000</td>\n",
       "      <td>18.500000</td>\n",
       "      <td>20.500000</td>\n",
       "      <td>...</td>\n",
       "      <td>0.998333</td>\n",
       "      <td>-0.062500</td>\n",
       "      <td>-1.000000</td>\n",
       "      <td>0.062500</td>\n",
       "      <td>1.125000</td>\n",
       "      <td>-1.410004</td>\n",
       "      <td>-4.230011</td>\n",
       "      <td>-0.710007</td>\n",
       "      <td>1.759994</td>\n",
       "      <td>0.254000</td>\n",
       "    </tr>\n",
       "    <tr>\n",
       "      <th>50%</th>\n",
       "      <td>30.000000</td>\n",
       "      <td>12.000000</td>\n",
       "      <td>24.000000</td>\n",
       "      <td>21.000000</td>\n",
       "      <td>23.500000</td>\n",
       "      <td>27.000000</td>\n",
       "      <td>25.500000</td>\n",
       "      <td>23.000000</td>\n",
       "      <td>25.500000</td>\n",
       "      <td>28.500000</td>\n",
       "      <td>...</td>\n",
       "      <td>1.005000</td>\n",
       "      <td>0.500000</td>\n",
       "      <td>-0.500000</td>\n",
       "      <td>0.375000</td>\n",
       "      <td>1.687500</td>\n",
       "      <td>0.000000</td>\n",
       "      <td>-2.809998</td>\n",
       "      <td>0.000000</td>\n",
       "      <td>3.169998</td>\n",
       "      <td>1.016000</td>\n",
       "    </tr>\n",
       "    <tr>\n",
       "      <th>75%</th>\n",
       "      <td>45.000000</td>\n",
       "      <td>14.000000</td>\n",
       "      <td>30.500000</td>\n",
       "      <td>27.000000</td>\n",
       "      <td>30.500000</td>\n",
       "      <td>34.500000</td>\n",
       "      <td>33.000000</td>\n",
       "      <td>29.500000</td>\n",
       "      <td>32.500000</td>\n",
       "      <td>36.500000</td>\n",
       "      <td>...</td>\n",
       "      <td>1.051667</td>\n",
       "      <td>1.125000</td>\n",
       "      <td>0.000000</td>\n",
       "      <td>0.750000</td>\n",
       "      <td>2.500000</td>\n",
       "      <td>1.409988</td>\n",
       "      <td>-1.740006</td>\n",
       "      <td>0.349991</td>\n",
       "      <td>5.289993</td>\n",
       "      <td>3.048001</td>\n",
       "    </tr>\n",
       "    <tr>\n",
       "      <th>max</th>\n",
       "      <td>59.000000</td>\n",
       "      <td>21.000000</td>\n",
       "      <td>64.500000</td>\n",
       "      <td>57.000000</td>\n",
       "      <td>61.500000</td>\n",
       "      <td>67.500000</td>\n",
       "      <td>68.000000</td>\n",
       "      <td>59.500000</td>\n",
       "      <td>64.000000</td>\n",
       "      <td>79.500000</td>\n",
       "      <td>...</td>\n",
       "      <td>1.051667</td>\n",
       "      <td>7.937500</td>\n",
       "      <td>5.937500</td>\n",
       "      <td>7.937500</td>\n",
       "      <td>7.937500</td>\n",
       "      <td>47.849990</td>\n",
       "      <td>1.759994</td>\n",
       "      <td>5.629990</td>\n",
       "      <td>43.209990</td>\n",
       "      <td>876.300500</td>\n",
       "    </tr>\n",
       "  </tbody>\n",
       "</table>\n",
       "<p>8 rows × 23 columns</p>\n",
       "</div>"
      ],
      "text/plain": [
       "       minutes_past  radardist_km           Ref  Ref_5x5_10th  Ref_5x5_50th  \\\n",
       "count  95825.000000  95825.000000  44990.000000  38441.000000  45146.000000   \n",
       "mean      29.686595     11.052523     23.684530     20.789496     23.378716   \n",
       "std       17.417786      4.239598     10.227057      9.074095      9.939687   \n",
       "min        0.000000      0.000000    -29.000000    -31.500000    -31.500000   \n",
       "25%       15.000000      9.000000     17.500000     15.500000     17.500000   \n",
       "50%       30.000000     12.000000     24.000000     21.000000     23.500000   \n",
       "75%       45.000000     14.000000     30.500000     27.000000     30.500000   \n",
       "max       59.000000     21.000000     64.500000     57.000000     61.500000   \n",
       "\n",
       "       Ref_5x5_90th  RefComposite  RefComposite_5x5_10th  \\\n",
       "count  53163.000000  48020.000000           42275.000000   \n",
       "mean      26.419606     25.422845              22.955328   \n",
       "std       11.193085     10.630984               9.639113   \n",
       "min      -26.500000    -26.500000             -27.500000   \n",
       "25%       19.500000     19.000000              17.500000   \n",
       "50%       27.000000     25.500000              23.000000   \n",
       "75%       34.500000     33.000000              29.500000   \n",
       "max       67.500000     68.000000              59.500000   \n",
       "\n",
       "       RefComposite_5x5_50th  RefComposite_5x5_90th      ...       \\\n",
       "count           48117.000000           55260.000000      ...        \n",
       "mean               25.136573              27.966965      ...        \n",
       "std                10.377139              11.544993      ...        \n",
       "min               -25.000000             -23.000000      ...        \n",
       "25%                18.500000              20.500000      ...        \n",
       "50%                25.500000              28.500000      ...        \n",
       "75%                32.500000              36.500000      ...        \n",
       "max                64.000000              79.500000      ...        \n",
       "\n",
       "       RhoHV_5x5_90th           Zdr  Zdr_5x5_10th  Zdr_5x5_50th  Zdr_5x5_90th  \\\n",
       "count    42210.000000  36040.000000  30901.000000  36025.000000  42210.000000   \n",
       "mean         1.014748      0.597368     -0.565218      0.428472      2.017049   \n",
       "std          0.045614      1.387422      0.973801      0.865122      1.539430   \n",
       "min          0.208333     -7.875000     -7.875000     -7.875000     -7.875000   \n",
       "25%          0.998333     -0.062500     -1.000000      0.062500      1.125000   \n",
       "50%          1.005000      0.500000     -0.500000      0.375000      1.687500   \n",
       "75%          1.051667      1.125000      0.000000      0.750000      2.500000   \n",
       "max          1.051667      7.937500      5.937500      7.937500      7.937500   \n",
       "\n",
       "                Kdp  Kdp_5x5_10th  Kdp_5x5_50th  Kdp_5x5_90th      Expected  \n",
       "count  31318.000000  26464.000000  31368.000000  36627.000000  95825.000000  \n",
       "mean      -0.011121     -3.384371     -0.431668      3.854969     17.433421  \n",
       "std        3.747653      2.772211      2.202447      3.761289     84.809357  \n",
       "min      -52.880005    -51.420000    -46.870010    -41.540010      0.010000  \n",
       "25%       -1.410004     -4.230011     -0.710007      1.759994      0.254000  \n",
       "50%        0.000000     -2.809998      0.000000      3.169998      1.016000  \n",
       "75%        1.409988     -1.740006      0.349991      5.289993      3.048001  \n",
       "max       47.849990      1.759994      5.629990     43.209990    876.300500  \n",
       "\n",
       "[8 rows x 23 columns]"
      ]
     },
     "execution_count": 7,
     "metadata": {},
     "output_type": "execute_result"
    }
   ],
   "source": [
    "raw.describe()"
   ]
  },
  {
   "cell_type": "markdown",
   "metadata": {},
   "source": [
    "We regroup the data by ID"
   ]
  },
  {
   "cell_type": "code",
   "execution_count": 8,
   "metadata": {
    "collapsed": false
   },
   "outputs": [],
   "source": [
    "# We select all features except for the minutes past,\n",
    "# because we ignore the time repartition of the sequence for now\n",
    "\n",
    "features_columns = list([u'Ref', u'Ref_5x5_10th',\n",
    "       u'Ref_5x5_50th', u'Ref_5x5_90th', u'RefComposite',\n",
    "       u'RefComposite_5x5_10th', u'RefComposite_5x5_50th',\n",
    "       u'RefComposite_5x5_90th', u'RhoHV', u'RhoHV_5x5_10th',\n",
    "       u'RhoHV_5x5_50th', u'RhoHV_5x5_90th', u'Zdr', u'Zdr_5x5_10th',\n",
    "       u'Zdr_5x5_50th', u'Zdr_5x5_90th', u'Kdp', u'Kdp_5x5_10th',\n",
    "       u'Kdp_5x5_50th', u'Kdp_5x5_90th'])\n",
    "\n",
    "def getXy(raw):\n",
    "    selected_columns = list([ u'minutes_past',u'radardist_km', u'Ref', u'Ref_5x5_10th',\n",
    "       u'Ref_5x5_50th', u'Ref_5x5_90th', u'RefComposite',\n",
    "       u'RefComposite_5x5_10th', u'RefComposite_5x5_50th',\n",
    "       u'RefComposite_5x5_90th', u'RhoHV', u'RhoHV_5x5_10th',\n",
    "       u'RhoHV_5x5_50th', u'RhoHV_5x5_90th', u'Zdr', u'Zdr_5x5_10th',\n",
    "       u'Zdr_5x5_50th', u'Zdr_5x5_90th', u'Kdp', u'Kdp_5x5_10th',\n",
    "       u'Kdp_5x5_50th', u'Kdp_5x5_90th'])\n",
    "    \n",
    "    data = raw[selected_columns]\n",
    "    \n",
    "    docX, docY = [], []\n",
    "    for i in data.index.unique():\n",
    "        if isinstance(data.loc[i],pd.core.series.Series):\n",
    "            m = [data.loc[i].as_matrix()]\n",
    "            docX.append(m)\n",
    "            docY.append(float(raw.loc[i][\"Expected\"]))\n",
    "        else:\n",
    "            m = data.loc[i].as_matrix()\n",
    "            docX.append(m)\n",
    "            docY.append(float(raw.loc[i][:1][\"Expected\"]))\n",
    "    X , y = np.array(docX) , np.array(docY)\n",
    "    return X,y"
   ]
  },
  {
   "cell_type": "markdown",
   "metadata": {},
   "source": [
    "### On fully filled dataset"
   ]
  },
  {
   "cell_type": "code",
   "execution_count": 9,
   "metadata": {
    "collapsed": true
   },
   "outputs": [],
   "source": [
    "#noAnyNan = raw.loc[raw[features_columns].dropna(how='any').index.unique()]\n",
    "noAnyNan = raw.dropna()"
   ]
  },
  {
   "cell_type": "code",
   "execution_count": 10,
   "metadata": {
    "collapsed": false
   },
   "outputs": [],
   "source": [
    "noFullNan = raw.loc[raw[features_columns].dropna(how='all').index.unique()]"
   ]
  },
  {
   "cell_type": "code",
   "execution_count": 11,
   "metadata": {
    "collapsed": true
   },
   "outputs": [],
   "source": [
    "fullNan = raw.drop(raw[features_columns].dropna(how='all').index)"
   ]
  },
  {
   "cell_type": "markdown",
   "metadata": {
    "collapsed": true
   },
   "source": [
    "---\n",
    "# Predicitons\n"
   ]
  },
  {
   "cell_type": "markdown",
   "metadata": {},
   "source": [
    "As a first try, we make predictions on the complete data, and return the 50th percentile and uncomplete and fully empty data"
   ]
  },
  {
   "cell_type": "code",
   "execution_count": 12,
   "metadata": {
    "collapsed": false
   },
   "outputs": [
    {
     "name": "stdout",
     "output_type": "stream",
     "text": [
      "CPU times: user 1.89 s, sys: 17 ms, total: 1.91 s\n",
      "Wall time: 1.92 s\n"
     ]
    }
   ],
   "source": [
    "%%time\n",
    "X,y=getXy(noAnyNan)"
   ]
  },
  {
   "cell_type": "code",
   "execution_count": 13,
   "metadata": {
    "collapsed": false
   },
   "outputs": [
    {
     "name": "stdout",
     "output_type": "stream",
     "text": [
      "CPU times: user 177 ms, sys: 5.26 ms, total: 182 ms\n",
      "Wall time: 181 ms\n"
     ]
    }
   ],
   "source": [
    "%%time\n",
    "#XX = [np.array(t).mean(0) for t in X]\n",
    "XX = [np.append(np.nanmean(np.array(t),0),(np.array(t)[1:] - np.array(t)[:-1]).sum(0) ) for t in X]"
   ]
  },
  {
   "cell_type": "code",
   "execution_count": 17,
   "metadata": {
    "collapsed": true
   },
   "outputs": [],
   "source": [
    "t = X[0]"
   ]
  },
  {
   "cell_type": "code",
   "execution_count": 30,
   "metadata": {
    "collapsed": true
   },
   "outputs": [
    {
     "data": {
      "text/plain": [
       "array([[  1.        ,   2.        ,   9.        ,   5.        ,\n",
       "          7.5       ,  10.5       ,  15.        ,  10.5       ,\n",
       "         16.5       ,  23.5       ,   0.99833333,   0.99833333,\n",
       "          0.99833333,   0.99833333,   0.375     ,  -0.125     ,\n",
       "          0.3125    ,   0.875     ,   1.0599976 ,  -1.4100037 ,\n",
       "         -0.3500061 ,   1.0599976 ],\n",
       "       [ 16.        ,   2.        ,  18.        ,  14.        ,\n",
       "         17.5       ,  21.        ,  20.5       ,  18.        ,\n",
       "         20.5       ,  23.        ,   0.995     ,   0.995     ,\n",
       "          0.99833333,   1.0016667 ,   0.25      ,   0.125     ,\n",
       "          0.375     ,   0.6875    ,   0.34999084,  -1.0599976 ,\n",
       "          0.        ,   1.0599976 ],\n",
       "       [ 21.        ,   2.        ,  24.5       ,  16.5       ,\n",
       "         21.        ,  24.5       ,  24.5       ,  21.        ,\n",
       "         24.        ,  28.        ,   0.99833333,   0.995     ,\n",
       "          0.99833333,   0.99833333,   0.25      ,   0.0625    ,\n",
       "          0.1875    ,   0.5625    ,  -0.3500061 ,  -1.0599976 ,\n",
       "         -0.3500061 ,   1.7599945 ],\n",
       "       [ 26.        ,   2.        ,  12.        ,  12.        ,\n",
       "         16.        ,  20.        ,  16.5       ,  17.        ,\n",
       "         19.        ,  21.        ,   0.99833333,   0.995     ,\n",
       "          0.99833333,   0.99833333,   0.5625    ,   0.25      ,\n",
       "          0.4375    ,   0.6875    ,  -1.7600098 ,  -1.7600098 ,\n",
       "         -0.3500061 ,   0.70999146],\n",
       "       [ 31.        ,   2.        ,  22.5       ,  19.        ,\n",
       "         22.        ,  25.        ,  26.        ,  23.5       ,\n",
       "         25.5       ,  27.5       ,   0.99833333,   0.995     ,\n",
       "          0.99833333,   1.0016667 ,   0.        ,  -0.1875    ,\n",
       "          0.25      ,   0.625     ,  -1.0599976 ,  -2.1200104 ,\n",
       "         -0.7100067 ,   0.34999084],\n",
       "       [ 37.        ,   2.        ,  14.        ,  14.        ,\n",
       "         18.5       ,  21.        ,  19.5       ,  20.        ,\n",
       "         21.        ,  23.        ,   0.99833333,   0.9916667 ,\n",
       "          0.99833333,   0.99833333,   0.5       ,   0.1875    ,\n",
       "          0.4375    ,   0.8125    ,   0.        ,  -1.7600098 ,\n",
       "         -0.3500061 ,   1.0599976 ],\n",
       "       [ 42.        ,   2.        ,  12.        ,  11.        ,\n",
       "         12.5       ,  17.        ,  19.5       ,  18.        ,\n",
       "         21.        ,  23.        ,   0.99833333,   0.995     ,\n",
       "          0.99833333,   0.99833333,   0.625     ,   0.375     ,\n",
       "          0.625     ,   0.875     ,  -0.3500061 ,  -0.3500061 ,\n",
       "          0.        ,   0.34999084],\n",
       "       [ 47.        ,   2.        ,   1.5       ,   3.5       ,\n",
       "          7.        ,  10.5       ,  18.        ,  16.5       ,\n",
       "         18.5       ,  21.5       ,   0.99833333,   0.995     ,\n",
       "          0.99833333,   0.99833333,   0.375     ,   0.1875    ,\n",
       "          0.5       ,   0.6875    ,   0.34999084,  -2.1100006 ,\n",
       "         -0.3500061 ,   1.0599976 ],\n",
       "       [ 53.        ,   2.        ,  16.        ,  14.5       ,\n",
       "         18.        ,  23.5       ,  28.        ,  23.5       ,\n",
       "         26.5       ,  29.5       ,   0.99833333,   0.9916667 ,\n",
       "          0.99833333,   0.99833333,   0.875     ,   0.625     ,\n",
       "          0.9375    ,   1.375     ,  -0.3500061 ,  -1.4100037 ,\n",
       "         -0.3500061 ,   2.119995  ]])"
      ]
     },
     "execution_count": 30,
     "metadata": {},
     "output_type": "execute_result"
    }
   ],
   "source": [
    "t"
   ]
  },
  {
   "cell_type": "code",
   "execution_count": 31,
   "metadata": {
    "collapsed": false
   },
   "outputs": [
    {
     "data": {
      "text/plain": [
       "array([ 31.        ,   2.        ,  14.        ,  14.        ,\n",
       "        17.5       ,  21.        ,  19.5       ,  18.        ,\n",
       "        21.        ,  23.        ,   0.99833333,   0.995     ,\n",
       "         0.99833333,   0.99833333,   0.375     ,   0.1875    ,\n",
       "         0.4375    ,   0.6875    ,  -0.3500061 ,  -1.4100037 ,\n",
       "        -0.3500061 ,   1.0599976 ])"
      ]
     },
     "execution_count": 31,
     "metadata": {},
     "output_type": "execute_result"
    }
   ],
   "source": [
    "np.percentile(t,50,axis=0)"
   ]
  },
  {
   "cell_type": "code",
   "execution_count": 32,
   "metadata": {
    "collapsed": false
   },
   "outputs": [],
   "source": [
    "XX=[]\n",
    "for t in X:\n",
    "    #print(idx)\n",
    "    \n",
    "    tmp = np.append(np.nanmean(np.array(t),0),(np.array(t)[1:] - np.array(t)[:-1]).sum(0) )\n",
    "    tmp = np.append(tmp,np.percentile(t,10,axis=0))\n",
    "    tmp = np.append(tmp,np.percentile(t,50,axis=0))\n",
    "    tmp = np.append(tmp,np.percentile(t,90,axis=0))\n",
    "    test = t\n",
    "    \n",
    "    try:\n",
    "        taa=test[:,0]\n",
    "    except TypeError:\n",
    "        taa=[test[0][0]]\n",
    "    valid_time = np.zeros_like(taa)\n",
    "    valid_time[0] = taa[0]\n",
    "    for n in xrange(1,len(taa)):\n",
    "        valid_time[n] = taa[n] - taa[n-1]\n",
    "    valid_time[-1] = valid_time[-1] + 60 - np.sum(valid_time)\n",
    "    valid_time = valid_time / 60.0\n",
    "\n",
    "    \n",
    "    sum=0\n",
    "    try:\n",
    "        column_ref=test[:,2]\n",
    "    except TypeError:\n",
    "        column_ref=[test[0][2]]\n",
    "    for dbz, hours in zip(column_ref, valid_time):\n",
    "        # See: https://en.wikipedia.org/wiki/DBZ_(meteorology)\n",
    "        if np.isfinite(dbz):\n",
    "            mmperhr = pow(pow(10, dbz/10)/200, 0.625)\n",
    "            sum = sum + mmperhr * hours\n",
    "            \n",
    "    #XX.append(np.append(np.array(sum),tmp))\n",
    "    #XX.append(np.array([sum]))\n",
    "    XX.append(tmp)\n"
   ]
  },
  {
   "cell_type": "code",
   "execution_count": 16,
   "metadata": {
    "collapsed": true
   },
   "outputs": [
    {
     "data": {
      "text/plain": [
       "array([  4.48764871e-01,   3.04444444e+01,   2.00000000e+00,\n",
       "         1.43888889e+01,   1.21666667e+01,   1.55555556e+01,\n",
       "         1.92222222e+01,   2.08333333e+01,   1.86666667e+01,\n",
       "         2.13888889e+01,   2.44444444e+01,   9.97962960e-01,\n",
       "         9.94629637e-01,   9.98333330e-01,   9.99074079e-01,\n",
       "         4.23611111e-01,   1.66666667e-01,   4.51388889e-01,\n",
       "         7.98611111e-01,  -2.34449602e-01,  -1.44889326e+00,\n",
       "        -3.12227033e-01,   1.05888367e+00,   5.20000000e+01,\n",
       "         0.00000000e+00,   7.00000000e+00,   9.50000000e+00,\n",
       "         1.05000000e+01,   1.30000000e+01,   1.30000000e+01,\n",
       "         1.30000000e+01,   1.00000000e+01,   6.00000000e+00,\n",
       "         0.00000000e+00,  -6.66663000e-03,   0.00000000e+00,\n",
       "         0.00000000e+00,   5.00000000e-01,   7.50000000e-01,\n",
       "         6.25000000e-01,   5.00000000e-01,  -1.41000370e+00,\n",
       "         0.00000000e+00,   0.00000000e+00,   1.05999740e+00])"
      ]
     },
     "execution_count": 16,
     "metadata": {},
     "output_type": "execute_result"
    }
   ],
   "source": [
    "XX[0]"
   ]
  },
  {
   "cell_type": "code",
   "execution_count": 263,
   "metadata": {
    "collapsed": false
   },
   "outputs": [
    {
     "data": {
      "text/plain": [
       "array([ 0.59982168])"
      ]
     },
     "execution_count": 263,
     "metadata": {},
     "output_type": "execute_result"
    }
   ],
   "source": [
    "XX[2]"
   ]
  },
  {
   "cell_type": "raw",
   "metadata": {},
   "source": [
    "(X[0][1:] - X[0][:-1]).sum(0)\n",
    "(t[1:] - t[:-1]).sum(0)\n",
    "%%time\n",
    "etreg = etreg.fit(XX,y)"
   ]
  },
  {
   "cell_type": "code",
   "execution_count": 33,
   "metadata": {
    "collapsed": true
   },
   "outputs": [],
   "source": [
    "def splitTrainTest(X, y, split=0.2):\n",
    "    tmp1, tmp2 = [], []\n",
    "    ps = int(len(X) * (1-split))\n",
    "    index_shuf = range(len(X))\n",
    "    random.shuffle(index_shuf)\n",
    "    for i in index_shuf:\n",
    "        tmp1.append(X[i])\n",
    "        tmp2.append(y[i])\n",
    "    return tmp1[:ps], tmp2[:ps], tmp1[ps:], tmp2[ps:]"
   ]
  },
  {
   "cell_type": "code",
   "execution_count": 34,
   "metadata": {
    "collapsed": true
   },
   "outputs": [],
   "source": [
    "X_train,y_train, X_test, y_test = splitTrainTest(XX,y)"
   ]
  },
  {
   "cell_type": "markdown",
   "metadata": {},
   "source": [
    "---"
   ]
  },
  {
   "cell_type": "code",
   "execution_count": 225,
   "metadata": {
    "collapsed": true
   },
   "outputs": [],
   "source": [
    "from sklearn import svm"
   ]
  },
  {
   "cell_type": "code",
   "execution_count": 283,
   "metadata": {
    "collapsed": false
   },
   "outputs": [],
   "source": [
    "svr = svm.SVR(C=100000)"
   ]
  },
  {
   "cell_type": "code",
   "execution_count": 284,
   "metadata": {
    "collapsed": false
   },
   "outputs": [
    {
     "name": "stdout",
     "output_type": "stream",
     "text": [
      "CPU times: user 1.16 s, sys: 9.79 ms, total: 1.17 s\n",
      "Wall time: 1.18 s\n"
     ]
    }
   ],
   "source": [
    "%%time\n",
    "srv = svr.fit(X_train,y_train)"
   ]
  },
  {
   "cell_type": "code",
   "execution_count": 240,
   "metadata": {
    "collapsed": false
   },
   "outputs": [
    {
     "data": {
      "text/plain": [
       "68.94416640518908"
      ]
     },
     "execution_count": 240,
     "metadata": {},
     "output_type": "execute_result"
    }
   ],
   "source": [
    "err = (svr.predict(X_test)-y_test)**2\n",
    "err.sum()/len(err)"
   ]
  },
  {
   "cell_type": "code",
   "execution_count": 285,
   "metadata": {
    "collapsed": false
   },
   "outputs": [
    {
     "data": {
      "text/plain": [
       "748.02998632366246"
      ]
     },
     "execution_count": 285,
     "metadata": {},
     "output_type": "execute_result"
    }
   ],
   "source": [
    "err = (svr.predict(X_test)-y_test)**2\n",
    "err.sum()/len(err)"
   ]
  },
  {
   "cell_type": "code",
   "execution_count": 241,
   "metadata": {
    "collapsed": false
   },
   "outputs": [
    {
     "name": "stdout",
     "output_type": "stream",
     "text": [
      "Score: [ 0.00178716 -0.01275117  0.00367807 -0.01291184 -0.00668543]\tMean: -0.005\n",
      "CPU times: user 1.76 s, sys: 27.7 ms, total: 1.79 s\n",
      "Wall time: 1.8 s\n"
     ]
    }
   ],
   "source": [
    "%%time\n",
    "svr_score = cross_val_score(svr, XX, y, cv=5)\n",
    "print(\"Score: %s\\tMean: %.03f\"%(svr_score,svr_score.mean()))"
   ]
  },
  {
   "cell_type": "markdown",
   "metadata": {},
   "source": [
    "---"
   ]
  },
  {
   "cell_type": "code",
   "execution_count": 367,
   "metadata": {
    "collapsed": true
   },
   "outputs": [],
   "source": [
    "from sklearn.neighbors import KNeighborsRegressor\n",
    "from sklearn import grid_search"
   ]
  },
  {
   "cell_type": "code",
   "execution_count": 378,
   "metadata": {
    "collapsed": true
   },
   "outputs": [],
   "source": [
    "knn = KNeighborsRegressor(n_neighbors=6,weights='distance')"
   ]
  },
  {
   "cell_type": "code",
   "execution_count": null,
   "metadata": {
    "collapsed": false
   },
   "outputs": [],
   "source": [
    "parameters = {'weights':('distance','uniform'),'algorithm':('auto', 'ball_tree', 'kd_tree', 'brute')}\n",
    "grid_knn = grid_search.GridSearchCV(knn, parameters,n_jobs=2)"
   ]
  },
  {
   "cell_type": "code",
   "execution_count": null,
   "metadata": {
    "collapsed": false
   },
   "outputs": [],
   "source": [
    "%%time\n",
    "grid_knn.fit(X_train,y_train)"
   ]
  },
  {
   "cell_type": "code",
   "execution_count": null,
   "metadata": {
    "collapsed": false
   },
   "outputs": [],
   "source": [
    "print(grid_knn.grid_scores_)\n",
    "print(\"Best: \",grid_knn.best_params_)"
   ]
  },
  {
   "cell_type": "code",
   "execution_count": 375,
   "metadata": {
    "collapsed": true
   },
   "outputs": [],
   "source": [
    "knn = grid_knn.best_estimator_"
   ]
  },
  {
   "cell_type": "code",
   "execution_count": 379,
   "metadata": {
    "collapsed": false
   },
   "outputs": [
    {
     "data": {
      "text/plain": [
       "KNeighborsRegressor(algorithm='auto', leaf_size=30, metric='minkowski',\n",
       "          metric_params=None, n_neighbors=6, p=2, weights='distance')"
      ]
     },
     "execution_count": 379,
     "metadata": {},
     "output_type": "execute_result"
    }
   ],
   "source": [
    "knn.fit(X_train,y_train)"
   ]
  },
  {
   "cell_type": "code",
   "execution_count": 380,
   "metadata": {
    "collapsed": false
   },
   "outputs": [
    {
     "data": {
      "text/plain": [
       "777.3484598901299"
      ]
     },
     "execution_count": 380,
     "metadata": {},
     "output_type": "execute_result"
    }
   ],
   "source": [
    "err = (knn.predict(X_test)-y_test)**2\n",
    "err.sum()/len(err)"
   ]
  },
  {
   "cell_type": "markdown",
   "metadata": {},
   "source": [
    "---"
   ]
  },
  {
   "cell_type": "code",
   "execution_count": 35,
   "metadata": {
    "collapsed": true
   },
   "outputs": [],
   "source": [
    "etreg = ExtraTreesRegressor(n_estimators=200, max_depth=None, min_samples_split=1, random_state=0)"
   ]
  },
  {
   "cell_type": "code",
   "execution_count": 69,
   "metadata": {
    "collapsed": true
   },
   "outputs": [],
   "source": [
    "parameters = {'n_estimators':range(100,200,20)}\n",
    "grid_rf = grid_search.GridSearchCV(etreg, parameters,n_jobs=2)"
   ]
  },
  {
   "cell_type": "code",
   "execution_count": 70,
   "metadata": {
    "collapsed": false
   },
   "outputs": [
    {
     "name": "stdout",
     "output_type": "stream",
     "text": [
      "CPU times: user 5.58 s, sys: 190 ms, total: 5.77 s\n",
      "Wall time: 18 s\n"
     ]
    },
    {
     "data": {
      "text/plain": [
       "GridSearchCV(cv=None, error_score='raise',\n",
       "       estimator=ExtraTreesRegressor(bootstrap=False, criterion='mse', max_depth=None,\n",
       "          max_features='auto', max_leaf_nodes=None, min_samples_leaf=1,\n",
       "          min_samples_split=1, min_weight_fraction_leaf=0.0,\n",
       "          n_estimators=100, n_jobs=1, oob_score=False, random_state=0,\n",
       "          verbose=0, warm_start=False),\n",
       "       fit_params={}, iid=True, loss_func=None, n_jobs=2,\n",
       "       param_grid={'n_estimators': [100, 120, 140, 160, 180]},\n",
       "       pre_dispatch='2*n_jobs', refit=True, score_func=None, scoring=None,\n",
       "       verbose=0)"
      ]
     },
     "execution_count": 70,
     "metadata": {},
     "output_type": "execute_result"
    }
   ],
   "source": [
    "%%time\n",
    "grid_rf.fit(X_train,y_train)"
   ]
  },
  {
   "cell_type": "code",
   "execution_count": 91,
   "metadata": {
    "collapsed": false
   },
   "outputs": [
    {
     "name": "stdout",
     "output_type": "stream",
     "text": [
      "[mean: 0.29327, std: 0.30796, params: {'n_estimators': 100}, mean: 0.30028, std: 0.30506, params: {'n_estimators': 120}, mean: 0.30427, std: 0.30391, params: {'n_estimators': 140}, mean: 0.30245, std: 0.30611, params: {'n_estimators': 160}, mean: 0.30627, std: 0.30341, params: {'n_estimators': 180}]\n",
      "Best {'n_estimators': 180}\n"
     ]
    }
   ],
   "source": [
    "print(grid_rf.grid_scores_)\n",
    "print(\"Best: \",grid_rf.best_params_)"
   ]
  },
  {
   "cell_type": "code",
   "execution_count": 86,
   "metadata": {
    "collapsed": false
   },
   "outputs": [
    {
     "data": {
      "text/plain": [
       "{'n_estimators': 180}"
      ]
     },
     "execution_count": 86,
     "metadata": {},
     "output_type": "execute_result"
    }
   ],
   "source": [
    "grid_rf.best_params_"
   ]
  },
  {
   "cell_type": "code",
   "execution_count": 289,
   "metadata": {
    "collapsed": false
   },
   "outputs": [],
   "source": [
    "es = etreg\n",
    "#es = grid_rf.best_estimator_"
   ]
  },
  {
   "cell_type": "code",
   "execution_count": 290,
   "metadata": {
    "collapsed": false
   },
   "outputs": [
    {
     "name": "stdout",
     "output_type": "stream",
     "text": [
      "CPU times: user 18 s, sys: 110 ms, total: 18.1 s\n",
      "Wall time: 18.1 s\n"
     ]
    }
   ],
   "source": [
    "%%time\n",
    "es = es.fit(X_train,y_train)"
   ]
  },
  {
   "cell_type": "code",
   "execution_count": 291,
   "metadata": {
    "collapsed": false
   },
   "outputs": [
    {
     "data": {
      "text/plain": [
       "749.35726462569858"
      ]
     },
     "execution_count": 291,
     "metadata": {},
     "output_type": "execute_result"
    }
   ],
   "source": [
    "err = (es.predict(X_test)-y_test)**2\n",
    "err.sum()/len(err)"
   ]
  },
  {
   "cell_type": "markdown",
   "metadata": {},
   "source": [
    "---"
   ]
  },
  {
   "cell_type": "code",
   "execution_count": 296,
   "metadata": {
    "collapsed": false
   },
   "outputs": [],
   "source": [
    "from keras.models import Sequential\n",
    "from keras.layers.core import Dense, Dropout, Activation\n",
    "from keras.optimizers import SGD\n",
    "\n",
    "in_dim = len(XX[0])\n",
    "out_dim = 1  \n",
    "\n",
    "model = Sequential()\n",
    "# Dense(64) is a fully-connected layer with 64 hidden units.\n",
    "# in the first layer, you must specify the expected input data shape:\n",
    "# here, 20-dimensional vectors.\n",
    "model.add(Dense(128, input_shape=(in_dim,)))\n",
    "model.add(Activation('tanh'))\n",
    "model.add(Dropout(0.5))\n",
    "model.add(Dense(1, init='uniform'))\n",
    "model.add(Activation('linear'))\n",
    "\n",
    "#sgd = SGD(lr=0.1, decay=1e-6, momentum=0.9, nesterov=True)\n",
    "#model.compile(loss='mean_squared_error', optimizer=sgd)\n",
    "\n",
    "rms = RMSprop()\n",
    "model.compile(loss='mean_squared_error', optimizer=rms)\n",
    "\n",
    "#model.fit(X_train, y_train, nb_epoch=20, batch_size=16)\n",
    "#score = model.evaluate(X_test, y_test, batch_size=16)"
   ]
  },
  {
   "cell_type": "code",
   "execution_count": 309,
   "metadata": {
    "collapsed": true
   },
   "outputs": [],
   "source": [
    "prep = []\n",
    "for i in y_train:\n",
    "    prep.append(min(i,20))"
   ]
  },
  {
   "cell_type": "code",
   "execution_count": 327,
   "metadata": {
    "collapsed": true
   },
   "outputs": [],
   "source": [
    "prep=np.array(prep)\n",
    "mi,ma = prep.min(),prep.max()\n",
    "fy = (prep-mi) / (ma-mi)\n",
    "#my = fy.max()\n",
    "#fy = fy/fy.max()"
   ]
  },
  {
   "cell_type": "code",
   "execution_count": 329,
   "metadata": {
    "collapsed": false
   },
   "outputs": [
    {
     "name": "stdout",
     "output_type": "stream",
     "text": [
      "Train on 2226 samples, validate on 248 samples\n",
      "Epoch 1/10\n",
      "2226/2226 [==============================] - 0s - loss: 0.0460 - val_loss: 0.0492\n",
      "Epoch 2/10\n",
      "2226/2226 [==============================] - 0s - loss: 0.0462 - val_loss: 0.0510\n",
      "Epoch 3/10\n",
      "2226/2226 [==============================] - 0s - loss: 0.0470 - val_loss: 0.0485\n",
      "Epoch 4/10\n",
      "2226/2226 [==============================] - 0s - loss: 0.0462 - val_loss: 0.0477\n",
      "Epoch 5/10\n",
      "2226/2226 [==============================] - 0s - loss: 0.0463 - val_loss: 0.0490\n",
      "Epoch 6/10\n",
      "2226/2226 [==============================] - 0s - loss: 0.0455 - val_loss: 0.0495\n",
      "Epoch 7/10\n",
      "2226/2226 [==============================] - 0s - loss: 0.0461 - val_loss: 0.0501\n",
      "Epoch 8/10\n",
      "2226/2226 [==============================] - 0s - loss: 0.0451 - val_loss: 0.0554\n",
      "Epoch 9/10\n",
      "2226/2226 [==============================] - 0s - loss: 0.0455 - val_loss: 0.0475\n",
      "Epoch 10/10\n",
      "2226/2226 [==============================] - 0s - loss: 0.0444 - val_loss: 0.0496\n"
     ]
    },
    {
     "data": {
      "text/plain": [
       "<keras.callbacks.History at 0x11c6ab6d0>"
      ]
     },
     "execution_count": 329,
     "metadata": {},
     "output_type": "execute_result"
    }
   ],
   "source": [
    "model.fit(np.array(X_train), fy, batch_size=10, nb_epoch=10, validation_split=0.1)  "
   ]
  },
  {
   "cell_type": "code",
   "execution_count": 335,
   "metadata": {
    "collapsed": true
   },
   "outputs": [],
   "source": [
    "pred = model.predict(np.array(X_test))*ma+mi"
   ]
  },
  {
   "cell_type": "code",
   "execution_count": 336,
   "metadata": {
    "collapsed": false
   },
   "outputs": [
    {
     "data": {
      "text/plain": [
       "584504.6506384426"
      ]
     },
     "execution_count": 336,
     "metadata": {},
     "output_type": "execute_result"
    }
   ],
   "source": [
    "err = (pred-y_test)**2\n",
    "err.sum()/len(err)"
   ]
  },
  {
   "cell_type": "code",
   "execution_count": 357,
   "metadata": {
    "collapsed": false
   },
   "outputs": [
    {
     "name": "stdout",
     "output_type": "stream",
     "text": [
      "(Train) Prediction 1.8161, True: 0.2540\n",
      "(Test)  Prediction 2.5971, True: 2.5400\n"
     ]
    }
   ],
   "source": [
    "r = random.randrange(len(X_train))\n",
    "print(\"(Train) Prediction %0.4f, True: %0.4f\"%(model.predict(np.array([X_train[r]]))[0][0]*ma+mi,y_train[r]))\n",
    "\n",
    "r = random.randrange(len(X_test))\n",
    "print(\"(Test)  Prediction %0.4f, True: %0.4f\"%(model.predict(np.array([X_test[r]]))[0][0]*ma+mi,y_test[r]))"
   ]
  },
  {
   "cell_type": "markdown",
   "metadata": {},
   "source": [
    "---"
   ]
  },
  {
   "cell_type": "code",
   "execution_count": 38,
   "metadata": {
    "collapsed": true
   },
   "outputs": [],
   "source": [
    "def marshall_palmer(ref, minutes_past):\n",
    "    #print(\"Estimating rainfall from {0} observations\".format(len(minutes_past)))\n",
    "    # how long is each observation valid?\n",
    "    valid_time = np.zeros_like(minutes_past)\n",
    "    valid_time[0] = minutes_past.iloc[0]\n",
    "    for n in xrange(1, len(minutes_past)):\n",
    "        valid_time[n] = minutes_past.iloc[n] - minutes_past.iloc[n-1]\n",
    "    valid_time[-1] = valid_time[-1] + 60 - np.sum(valid_time)\n",
    "    valid_time = valid_time / 60.0\n",
    "\n",
    "    # sum up rainrate * validtime\n",
    "    sum = 0\n",
    "    for dbz, hours in zip(ref, valid_time):\n",
    "        # See: https://en.wikipedia.org/wiki/DBZ_(meteorology)\n",
    "        if np.isfinite(dbz):\n",
    "            mmperhr = pow(pow(10, dbz/10)/200, 0.625)\n",
    "            sum = sum + mmperhr * hours\n",
    "    return sum\n",
    "\n",
    "\n",
    "def simplesum(ref,hour):\n",
    "    hour.sum()\n",
    "\n",
    "# each unique Id is an hour of data at some gauge\n",
    "def myfunc(hour):\n",
    "    #rowid = hour['Id'].iloc[0]\n",
    "    # sort hour by minutes_past\n",
    "    hour = hour.sort('minutes_past', ascending=True)\n",
    "    est = marshall_palmer(hour['Ref'], hour['minutes_past'])\n",
    "    return est"
   ]
  },
  {
   "cell_type": "code",
   "execution_count": 140,
   "metadata": {
    "collapsed": false
   },
   "outputs": [],
   "source": [
    "info = raw.groupby(raw.index)"
   ]
  },
  {
   "cell_type": "code",
   "execution_count": 39,
   "metadata": {
    "collapsed": false
   },
   "outputs": [
    {
     "data": {
      "text/plain": [
       "Id\n",
       "1     0.000000\n",
       "2     0.630814\n",
       "3     0.000000\n",
       "4     2.717599\n",
       "5     0.000000\n",
       "6     0.000000\n",
       "7     0.040640\n",
       "8     0.701645\n",
       "9     0.000000\n",
       "10    5.103416\n",
       "11    0.599822\n",
       "12    4.399598\n",
       "13    0.000000\n",
       "14    0.245304\n",
       "15    0.390208\n",
       "17    0.906720\n",
       "18    0.353654\n",
       "19    0.202986\n",
       "20    0.000000\n",
       "21    0.000000\n",
       "dtype: float64"
      ]
     },
     "execution_count": 39,
     "metadata": {},
     "output_type": "execute_result"
    }
   ],
   "source": [
    "estimates = raw.groupby(raw.index).apply(myfunc)\n",
    "estimates.head(20)"
   ]
  },
  {
   "cell_type": "code",
   "execution_count": null,
   "metadata": {
    "collapsed": true
   },
   "outputs": [],
   "source": []
  },
  {
   "cell_type": "code",
   "execution_count": null,
   "metadata": {
    "collapsed": true
   },
   "outputs": [],
   "source": []
  },
  {
   "cell_type": "code",
   "execution_count": null,
   "metadata": {
    "collapsed": true
   },
   "outputs": [],
   "source": []
  },
  {
   "cell_type": "code",
   "execution_count": null,
   "metadata": {
    "collapsed": true
   },
   "outputs": [],
   "source": []
  },
  {
   "cell_type": "code",
   "execution_count": null,
   "metadata": {
    "collapsed": true
   },
   "outputs": [],
   "source": []
  },
  {
   "cell_type": "code",
   "execution_count": null,
   "metadata": {
    "collapsed": true
   },
   "outputs": [],
   "source": []
  },
  {
   "cell_type": "code",
   "execution_count": 113,
   "metadata": {
    "collapsed": false
   },
   "outputs": [
    {
     "name": "stdout",
     "output_type": "stream",
     "text": [
      "CPU times: user 1.74 s, sys: 19.9 ms, total: 1.76 s\n",
      "Wall time: 1.77 s\n"
     ]
    },
    {
     "data": {
      "text/plain": [
       "ExtraTreesRegressor(bootstrap=False, criterion='mse', max_depth=None,\n",
       "          max_features='auto', max_leaf_nodes=None, min_samples_leaf=1,\n",
       "          min_samples_split=1, min_weight_fraction_leaf=0.0,\n",
       "          n_estimators=100, n_jobs=1, oob_score=False, random_state=0,\n",
       "          verbose=0, warm_start=False)"
      ]
     },
     "execution_count": 113,
     "metadata": {},
     "output_type": "execute_result"
    }
   ],
   "source": [
    "%%time\n",
    "etreg.fit(X_train,y_train)"
   ]
  },
  {
   "cell_type": "code",
   "execution_count": 96,
   "metadata": {
    "collapsed": false
   },
   "outputs": [
    {
     "name": "stdout",
     "output_type": "stream",
     "text": [
      "Score: [ 0.51407557  0.15938088  0.69138431  0.09297001  0.00505057]\tMean: 0.293\n",
      "CPU times: user 4.46 s, sys: 70.5 ms, total: 4.54 s\n",
      "Wall time: 4.55 s\n"
     ]
    }
   ],
   "source": [
    "%%time\n",
    "et_score = cross_val_score(etreg, XX, y, cv=5)\n",
    "print(\"Score: %s\\tMean: %.03f\"%(et_score,et_score.mean()))"
   ]
  },
  {
   "cell_type": "code",
   "execution_count": 114,
   "metadata": {
    "collapsed": false
   },
   "outputs": [
    {
     "name": "stdout",
     "output_type": "stream",
     "text": [
      "Score: [ 0.53941779  0.1639901   0.68162502  0.12919835  0.00245396]\tMean: 0.303\n",
      "CPU times: user 8.64 s, sys: 93.9 ms, total: 8.73 s\n",
      "Wall time: 8.76 s\n"
     ]
    }
   ],
   "source": [
    "%%time\n",
    "et_score = cross_val_score(etreg, XX, y, cv=5)\n",
    "print(\"Score: %s\\tMean: %.03f\"%(et_score,et_score.mean()))"
   ]
  },
  {
   "cell_type": "code",
   "execution_count": 97,
   "metadata": {
    "collapsed": false
   },
   "outputs": [
    {
     "data": {
      "text/plain": [
       "216.45597252585003"
      ]
     },
     "execution_count": 97,
     "metadata": {},
     "output_type": "execute_result"
    }
   ],
   "source": [
    "err = (etreg.predict(X_test)-y_test)**2\n",
    "err.sum()/len(err)"
   ]
  },
  {
   "cell_type": "code",
   "execution_count": 115,
   "metadata": {
    "collapsed": false
   },
   "outputs": [
    {
     "data": {
      "text/plain": [
       "207.96284975354561"
      ]
     },
     "execution_count": 115,
     "metadata": {},
     "output_type": "execute_result"
    }
   ],
   "source": [
    "err = (etreg.predict(X_test)-y_test)**2\n",
    "err.sum()/len(err)"
   ]
  },
  {
   "cell_type": "code",
   "execution_count": 41,
   "metadata": {
    "collapsed": false
   },
   "outputs": [
    {
     "name": "stdout",
     "output_type": "stream",
     "text": [
      "1767\n",
      "[ 4.8260026]\n",
      "4.8260026\n"
     ]
    }
   ],
   "source": [
    "r = random.randrange(len(X_train))\n",
    "print(r)\n",
    "print(etreg.predict(X_train[r]))\n",
    "print(y_train[r])\n",
    "\n",
    "r = random.randrange(len(X_test))\n",
    "print(r)\n",
    "print(etreg.predict(X_test[r]))\n",
    "print(y_test[r])"
   ]
  },
  {
   "cell_type": "markdown",
   "metadata": {},
   "source": [
    "---"
   ]
  },
  {
   "cell_type": "code",
   "execution_count": 13,
   "metadata": {
    "collapsed": false
   },
   "outputs": [
    {
     "name": "stdout",
     "output_type": "stream",
     "text": [
      "CPU times: user 20.9 s, sys: 5.06 s, total: 25.9 s\n",
      "Wall time: 26.8 s\n"
     ]
    }
   ],
   "source": [
    "%%time\n",
    "#filename = \"data/reduced_test_5000.csv\"\n",
    "filename = \"data/test.csv\"\n",
    "test = pd.read_csv(filename)\n",
    "test = test.set_index('Id')"
   ]
  },
  {
   "cell_type": "code",
   "execution_count": 14,
   "metadata": {
    "collapsed": true
   },
   "outputs": [],
   "source": [
    "features_columns = list([u'Ref', u'Ref_5x5_10th',\n",
    "       u'Ref_5x5_50th', u'Ref_5x5_90th', u'RefComposite',\n",
    "       u'RefComposite_5x5_10th', u'RefComposite_5x5_50th',\n",
    "       u'RefComposite_5x5_90th', u'RhoHV', u'RhoHV_5x5_10th',\n",
    "       u'RhoHV_5x5_50th', u'RhoHV_5x5_90th', u'Zdr', u'Zdr_5x5_10th',\n",
    "       u'Zdr_5x5_50th', u'Zdr_5x5_90th', u'Kdp', u'Kdp_5x5_10th',\n",
    "       u'Kdp_5x5_50th', u'Kdp_5x5_90th'])\n",
    "\n",
    "def getX(raw):\n",
    "    selected_columns = list([ u'radardist_km', u'Ref', u'Ref_5x5_10th',\n",
    "       u'Ref_5x5_50th', u'Ref_5x5_90th', u'RefComposite',\n",
    "       u'RefComposite_5x5_10th', u'RefComposite_5x5_50th',\n",
    "       u'RefComposite_5x5_90th', u'RhoHV', u'RhoHV_5x5_10th',\n",
    "       u'RhoHV_5x5_50th', u'RhoHV_5x5_90th', u'Zdr', u'Zdr_5x5_10th',\n",
    "       u'Zdr_5x5_50th', u'Zdr_5x5_90th', u'Kdp', u'Kdp_5x5_10th',\n",
    "       u'Kdp_5x5_50th', u'Kdp_5x5_90th'])\n",
    "    \n",
    "    data = raw[selected_columns]\n",
    "    \n",
    "    docX= []\n",
    "    for i in data.index.unique():\n",
    "        if isinstance(data.loc[i],pd.core.series.Series):\n",
    "            m = [data.loc[i].as_matrix()]\n",
    "            docX.append(m)\n",
    "        else:\n",
    "            m = data.loc[i].as_matrix()\n",
    "            docX.append(m)\n",
    "    X = np.array(docX)\n",
    "    return X"
   ]
  },
  {
   "cell_type": "code",
   "execution_count": 74,
   "metadata": {
    "collapsed": false
   },
   "outputs": [
    {
     "data": {
      "text/plain": [
       "[]"
      ]
     },
     "execution_count": 74,
     "metadata": {},
     "output_type": "execute_result"
    },
    {
     "data": {
      "image/png": "[encoded data removed]",
      "text/plain": [
       "<matplotlib.figure.Figure at 0x10fb518d0>"
      ]
     },
     "metadata": {},
     "output_type": "display_data"
    }
   ],
   "source": [
    "X=getX(test)\n",
    "\n",
    "tmp = []\n",
    "for i in X:\n",
    "    tmp.append(len(i))\n",
    "tmp = np.array(tmp)\n",
    "sns.countplot(tmp,order=range(tmp.min(),tmp.max()+1))\n",
    "plt.title(\"Number of ID per number of observations\\n(On test dataset)\")\n",
    "plt.plot()"
   ]
  },
  {
   "cell_type": "code",
   "execution_count": 15,
   "metadata": {
    "collapsed": true
   },
   "outputs": [],
   "source": [
    "testFull = test.dropna()"
   ]
  },
  {
   "cell_type": "code",
   "execution_count": 16,
   "metadata": {
    "collapsed": false
   },
   "outputs": [
    {
     "name": "stdout",
     "output_type": "stream",
     "text": [
      "CPU times: user 1min 12s, sys: 860 ms, total: 1min 13s\n",
      "Wall time: 1min 14s\n"
     ]
    }
   ],
   "source": [
    "%%time\n",
    "X=getX(testFull)  # 1min\n",
    "XX = [np.array(t).mean(0) for t in X]  # 10s"
   ]
  },
  {
   "cell_type": "code",
   "execution_count": 17,
   "metadata": {
    "collapsed": false
   },
   "outputs": [
    {
     "data": {
      "text/html": [
       "<div>\n",
       "<table border=\"1\" class=\"dataframe\">\n",
       "  <thead>\n",
       "    <tr style=\"text-align: right;\">\n",
       "      <th></th>\n",
       "      <th>0</th>\n",
       "    </tr>\n",
       "  </thead>\n",
       "  <tbody>\n",
       "    <tr>\n",
       "      <th>count</th>\n",
       "      <td>235515.000000</td>\n",
       "    </tr>\n",
       "    <tr>\n",
       "      <th>mean</th>\n",
       "      <td>6.904250</td>\n",
       "    </tr>\n",
       "    <tr>\n",
       "      <th>std</th>\n",
       "      <td>7.382986</td>\n",
       "    </tr>\n",
       "    <tr>\n",
       "      <th>min</th>\n",
       "      <td>0.229492</td>\n",
       "    </tr>\n",
       "    <tr>\n",
       "      <th>25%</th>\n",
       "      <td>2.670935</td>\n",
       "    </tr>\n",
       "    <tr>\n",
       "      <th>50%</th>\n",
       "      <td>4.726779</td>\n",
       "    </tr>\n",
       "    <tr>\n",
       "      <th>75%</th>\n",
       "      <td>8.646297</td>\n",
       "    </tr>\n",
       "    <tr>\n",
       "      <th>max</th>\n",
       "      <td>344.055538</td>\n",
       "    </tr>\n",
       "  </tbody>\n",
       "</table>\n",
       "</div>"
      ],
      "text/plain": [
       "                   0\n",
       "count  235515.000000\n",
       "mean        6.904250\n",
       "std         7.382986\n",
       "min         0.229492\n",
       "25%         2.670935\n",
       "50%         4.726779\n",
       "75%         8.646297\n",
       "max       344.055538"
      ]
     },
     "execution_count": 17,
     "metadata": {},
     "output_type": "execute_result"
    }
   ],
   "source": [
    "pd.DataFrame(etreg.predict(XX)).describe()"
   ]
  },
  {
   "cell_type": "code",
   "execution_count": 18,
   "metadata": {
    "collapsed": false,
    "scrolled": true
   },
   "outputs": [],
   "source": [
    "predFull = zip(testFull.index.unique(),etreg.predict(XX))"
   ]
  },
  {
   "cell_type": "code",
   "execution_count": 36,
   "metadata": {
    "collapsed": true
   },
   "outputs": [],
   "source": [
    "testNan = test.drop(test[features_columns].dropna(how='all').index)"
   ]
  },
  {
   "cell_type": "code",
   "execution_count": 37,
   "metadata": {
    "collapsed": true
   },
   "outputs": [],
   "source": [
    "tmp = np.empty(len(testNan))\n",
    "tmp.fill(0.445000)   # 50th percentile of full Nan dataset\n",
    "predNan = zip(testNan.index.unique(),tmp)"
   ]
  },
  {
   "cell_type": "code",
   "execution_count": 39,
   "metadata": {
    "collapsed": true
   },
   "outputs": [],
   "source": [
    "testLeft = test.drop(testNan.index.unique()).drop(testFull.index.unique())"
   ]
  },
  {
   "cell_type": "code",
   "execution_count": 40,
   "metadata": {
    "collapsed": true
   },
   "outputs": [],
   "source": [
    "tmp = np.empty(len(testLeft))\n",
    "tmp.fill(1.27)   # 50th percentile of full Nan dataset\n",
    "predLeft = zip(testLeft.index.unique(),tmp)"
   ]
  },
  {
   "cell_type": "code",
   "execution_count": 41,
   "metadata": {
    "collapsed": false
   },
   "outputs": [
    {
     "data": {
      "text/plain": [
       "235515"
      ]
     },
     "execution_count": 41,
     "metadata": {},
     "output_type": "execute_result"
    }
   ],
   "source": [
    "len(testFull.index.unique())"
   ]
  },
  {
   "cell_type": "code",
   "execution_count": 42,
   "metadata": {
    "collapsed": false
   },
   "outputs": [
    {
     "data": {
      "text/plain": [
       "232148"
      ]
     },
     "execution_count": 42,
     "metadata": {},
     "output_type": "execute_result"
    }
   ],
   "source": [
    "len(testNan.index.unique())"
   ]
  },
  {
   "cell_type": "code",
   "execution_count": 43,
   "metadata": {
    "collapsed": false
   },
   "outputs": [
    {
     "data": {
      "text/plain": [
       "249962"
      ]
     },
     "execution_count": 43,
     "metadata": {},
     "output_type": "execute_result"
    }
   ],
   "source": [
    "len(testLeft.index.unique())"
   ]
  },
  {
   "cell_type": "code",
   "execution_count": 44,
   "metadata": {
    "collapsed": false
   },
   "outputs": [],
   "source": [
    "pred = predFull + predNan + predLeft"
   ]
  },
  {
   "cell_type": "code",
   "execution_count": 45,
   "metadata": {
    "collapsed": false
   },
   "outputs": [],
   "source": [
    "pred.sort(key=lambda x: x[0], reverse=False)"
   ]
  },
  {
   "cell_type": "code",
   "execution_count": 46,
   "metadata": {
    "collapsed": false
   },
   "outputs": [
    {
     "data": {
      "text/html": [
       "<div>\n",
       "<table border=\"1\" class=\"dataframe\">\n",
       "  <thead>\n",
       "    <tr style=\"text-align: right;\">\n",
       "      <th></th>\n",
       "      <th>Id</th>\n",
       "      <th>Expected</th>\n",
       "    </tr>\n",
       "  </thead>\n",
       "  <tbody>\n",
       "    <tr>\n",
       "      <th>0</th>\n",
       "      <td>1</td>\n",
       "      <td>1.270000</td>\n",
       "    </tr>\n",
       "    <tr>\n",
       "      <th>1</th>\n",
       "      <td>2</td>\n",
       "      <td>1.270000</td>\n",
       "    </tr>\n",
       "    <tr>\n",
       "      <th>2</th>\n",
       "      <td>3</td>\n",
       "      <td>8.287113</td>\n",
       "    </tr>\n",
       "    <tr>\n",
       "      <th>3</th>\n",
       "      <td>4</td>\n",
       "      <td>9.608633</td>\n",
       "    </tr>\n",
       "    <tr>\n",
       "      <th>4</th>\n",
       "      <td>5</td>\n",
       "      <td>0.445000</td>\n",
       "    </tr>\n",
       "  </tbody>\n",
       "</table>\n",
       "</div>"
      ],
      "text/plain": [
       "   Id  Expected\n",
       "0   1  1.270000\n",
       "1   2  1.270000\n",
       "2   3  8.287113\n",
       "3   4  9.608633\n",
       "4   5  0.445000"
      ]
     },
     "execution_count": 46,
     "metadata": {},
     "output_type": "execute_result"
    }
   ],
   "source": [
    "submission = pd.DataFrame(pred)\n",
    "submission.columns = [\"Id\",\"Expected\"]\n",
    "submission.head()"
   ]
  },
  {
   "cell_type": "code",
   "execution_count": 47,
   "metadata": {
    "collapsed": false
   },
   "outputs": [],
   "source": [
    "submission.to_csv(\"first_submit.csv\",index=False)"
   ]
  },
  {
   "cell_type": "code",
   "execution_count": null,
   "metadata": {
    "collapsed": true
   },
   "outputs": [],
   "source": []
  },
  {
   "cell_type": "code",
   "execution_count": 34,
   "metadata": {
    "collapsed": false
   },
   "outputs": [],
   "source": [
    "filename = \"data/sample_solution.csv\"\n",
    "sol = pd.read_csv(filename)"
   ]
  },
  {
   "cell_type": "code",
   "execution_count": 28,
   "metadata": {
    "collapsed": false
   },
   "outputs": [],
   "source": [
    "ss = np.array(sol)"
   ]
  },
  {
   "cell_type": "code",
   "execution_count": 30,
   "metadata": {
    "collapsed": false
   },
   "outputs": [
    {
     "name": "stdout",
     "output_type": "stream",
     "text": [
      "CPU times: user 361 ms, sys: 28.7 ms, total: 390 ms\n",
      "Wall time: 369 ms\n"
     ]
    }
   ],
   "source": [
    "%%time\n",
    "for a,b in predFull:\n",
    "    ss[a-1][1]=b"
   ]
  },
  {
   "cell_type": "code",
   "execution_count": 41,
   "metadata": {
    "collapsed": false
   },
   "outputs": [
    {
     "data": {
      "text/plain": [
       "array([[  1.00000000e+00,   8.57645300e-02],\n",
       "       [  2.00000000e+00,   1.20000000e+01],\n",
       "       [  3.00000000e+00,   8.28711271e+00],\n",
       "       ..., \n",
       "       [  7.17623000e+05,   9.65720687e+00],\n",
       "       [  7.17624000e+05,   1.29702251e+00],\n",
       "       [  7.17625000e+05,   0.00000000e+00]])"
      ]
     },
     "execution_count": 41,
     "metadata": {},
     "output_type": "execute_result"
    }
   ],
   "source": [
    "ss"
   ]
  },
  {
   "cell_type": "code",
   "execution_count": 45,
   "metadata": {
    "collapsed": false
   },
   "outputs": [
    {
     "data": {
      "text/html": [
       "<div>\n",
       "<table border=\"1\" class=\"dataframe\">\n",
       "  <thead>\n",
       "    <tr style=\"text-align: right;\">\n",
       "      <th></th>\n",
       "      <th>Id</th>\n",
       "      <th>Expected</th>\n",
       "    </tr>\n",
       "  </thead>\n",
       "  <tbody>\n",
       "    <tr>\n",
       "      <th>0</th>\n",
       "      <td>1</td>\n",
       "      <td>0.085765</td>\n",
       "    </tr>\n",
       "    <tr>\n",
       "      <th>1</th>\n",
       "      <td>2</td>\n",
       "      <td>12.000000</td>\n",
       "    </tr>\n",
       "    <tr>\n",
       "      <th>2</th>\n",
       "      <td>3</td>\n",
       "      <td>8.287113</td>\n",
       "    </tr>\n",
       "    <tr>\n",
       "      <th>3</th>\n",
       "      <td>4</td>\n",
       "      <td>9.608633</td>\n",
       "    </tr>\n",
       "    <tr>\n",
       "      <th>4</th>\n",
       "      <td>5</td>\n",
       "      <td>0.000000</td>\n",
       "    </tr>\n",
       "  </tbody>\n",
       "</table>\n",
       "</div>"
      ],
      "text/plain": [
       "   Id   Expected\n",
       "0   1   0.085765\n",
       "1   2  12.000000\n",
       "2   3   8.287113\n",
       "3   4   9.608633\n",
       "4   5   0.000000"
      ]
     },
     "execution_count": 45,
     "metadata": {},
     "output_type": "execute_result"
    }
   ],
   "source": [
    "sub = pd.DataFrame(ss)\n",
    "sub.columns = [\"Id\",\"Expected\"]\n",
    "sub.Id = sub.Id.astype(int)\n",
    "sub.head()"
   ]
  },
  {
   "cell_type": "code",
   "execution_count": 46,
   "metadata": {
    "collapsed": true
   },
   "outputs": [],
   "source": [
    "sub.to_csv(\"submit_2.csv\",index=False)"
   ]
  },
  {
   "cell_type": "code",
   "execution_count": null,
   "metadata": {
    "collapsed": true
   },
   "outputs": [],
   "source": []
  },
  {
   "cell_type": "code",
   "execution_count": null,
   "metadata": {
    "collapsed": true
   },
   "outputs": [],
   "source": []
  },
  {
   "cell_type": "code",
   "execution_count": null,
   "metadata": {
    "collapsed": true
   },
   "outputs": [],
   "source": []
  },
  {
   "cell_type": "code",
   "execution_count": null,
   "metadata": {
    "collapsed": true
   },
   "outputs": [],
   "source": []
  },
  {
   "cell_type": "code",
   "execution_count": null,
   "metadata": {
    "collapsed": true
   },
   "outputs": [],
   "source": []
  },
  {
   "cell_type": "code",
   "execution_count": null,
   "metadata": {
    "collapsed": true
   },
   "outputs": [],
   "source": []
  },
  {
   "cell_type": "code",
   "execution_count": null,
   "metadata": {
    "collapsed": true
   },
   "outputs": [],
   "source": []
  },
  {
   "cell_type": "code",
   "execution_count": null,
   "metadata": {
    "collapsed": true
   },
   "outputs": [],
   "source": []
  },
  {
   "cell_type": "code",
   "execution_count": null,
   "metadata": {
    "collapsed": true
   },
   "outputs": [],
   "source": []
  },
  {
   "cell_type": "code",
   "execution_count": null,
   "metadata": {
    "collapsed": true
   },
   "outputs": [],
   "source": []
  }
 ],
 "metadata": {
  "kernelspec": {
   "display_name": "Python 2",
   "language": "python",
   "name": "python2"
  },
  "language_info": {
   "codemirror_mode": {
    "name": "ipython",
    "version": 2
   },
   "file_extension": ".py",
   "mimetype": "text/x-python",
   "name": "python",
   "nbconvert_exporter": "python",
   "pygments_lexer": "ipython2",
   "version": "2.7.10"
  }
 },
 "nbformat": 4,
 "nbformat_minor": 0
}
